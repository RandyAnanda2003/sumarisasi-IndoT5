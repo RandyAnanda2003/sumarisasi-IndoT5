{
  "cells": [
    {
      "cell_type": "markdown",
      "metadata": {},
      "source": [
        "## IMPORT LIBRARY"
      ]
    },
    {
      "cell_type": "code",
      "execution_count": 1,
      "metadata": {
        "id": "TfttZcptj8P6"
      },
      "outputs": [],
      "source": [
        "import pandas as pd\n",
        "import re\n",
        "import string\n",
        "import emoji\n"
      ]
    },
    {
      "cell_type": "markdown",
      "metadata": {},
      "source": [
        "## dataset ke-1"
      ]
    },
    {
      "cell_type": "code",
      "execution_count": 2,
      "metadata": {
        "id": "m2R0a_I4j_mS"
      },
      "outputs": [],
      "source": [
        "df = pd.read_csv('dataset 1.csv')"
      ]
    },
    {
      "cell_type": "code",
      "execution_count": 3,
      "metadata": {
        "colab": {
          "base_uri": "https://localhost:8080/",
          "height": 397
        },
        "id": "CZEYVI10kJIn",
        "outputId": "23a37903-b098-47bb-f747-7738cd4199dc"
      },
      "outputs": [
        {
          "data": {
            "application/vnd.microsoft.datawrangler.viewer.v0+json": {
              "columns": [
                {
                  "name": "index",
                  "rawType": "int64",
                  "type": "integer"
                },
                {
                  "name": "Unnamed: 0.1",
                  "rawType": "int64",
                  "type": "integer"
                },
                {
                  "name": "Unnamed: 0",
                  "rawType": "int64",
                  "type": "integer"
                },
                {
                  "name": "Ulasan",
                  "rawType": "object",
                  "type": "string"
                },
                {
                  "name": "Rating",
                  "rawType": "int64",
                  "type": "integer"
                },
                {
                  "name": "Kategori",
                  "rawType": "object",
                  "type": "string"
                },
                {
                  "name": "Nama Produk",
                  "rawType": "object",
                  "type": "string"
                },
                {
                  "name": "Id Produk",
                  "rawType": "int64",
                  "type": "integer"
                },
                {
                  "name": "Terjual",
                  "rawType": "object",
                  "type": "string"
                },
                {
                  "name": "Id_Toko",
                  "rawType": "int64",
                  "type": "integer"
                },
                {
                  "name": "Url",
                  "rawType": "object",
                  "type": "string"
                },
                {
                  "name": "label",
                  "rawType": "int64",
                  "type": "integer"
                }
              ],
              "conversionMethod": "pd.DataFrame",
              "ref": "4e76f3a9-3adc-4672-ad9e-3f492dd69fdc",
              "rows": [
                [
                  "0",
                  "0",
                  "59",
                  "Pesanan gx sesuai dgn yg d gambar",
                  "2",
                  "pertukangan",
                  "Isi Staples Tembak 8 mm best guard",
                  "133507638",
                  "545",
                  "1461393",
                  "https://www.tokopedia.com/timurjaya46/isi-staples-tembak-8-mm-best-guard",
                  "0"
                ],
                [
                  "1",
                  "1",
                  "70",
                  "Pengiriman dan respon super cepat. Tpi barang tidak sesuai gambar dan tidak kuat untuk menembus jok motor.",
                  "2",
                  "pertukangan",
                  "Isi Staples Tembak 8 mm best guard",
                  "133507638",
                  "545",
                  "1461393",
                  "https://www.tokopedia.com/timurjaya46/isi-staples-tembak-8-mm-best-guard",
                  "0"
                ],
                [
                  "2",
                  "2",
                  "95",
                  "barang yg dikirim tidak sesuai pesanan",
                  "1",
                  "pertukangan",
                  "Isi Staples Tembak 8 mm best guard",
                  "133507638",
                  "545",
                  "1461393",
                  "https://www.tokopedia.com/timurjaya46/isi-staples-tembak-8-mm-best-guard",
                  "0"
                ],
                [
                  "3",
                  "3",
                  "117",
                  "Php, bilang isi ada diseskripsi pas dipesen berbeda, mubajir rp50.000 ternyata isinya ga cocok",
                  "1",
                  "pertukangan",
                  "steples tembak / staples tembak kenmaster PROMO MURAH staple gun",
                  "88842566",
                  "45",
                  "1102298",
                  "https://www.tokopedia.com/cahayabelawa/steples-tembak-staples-tembak-kenmaster-promo-murah-staple-gun",
                  "0"
                ],
                [
                  "4",
                  "4",
                  "153",
                  "barang jelek copot&#34; terus tmpat taro isinya",
                  "2",
                  "pertukangan",
                  "Staple Gun / Staples Tembak / Staples Jok / Hekter MOLLAR 3 in 1",
                  "209226141",
                  "171",
                  "580197",
                  "https://www.tokopedia.com/hmhhardware/staple-gun-staples-tembak-staples-jok-hekter-mollar-3-in-1",
                  "0"
                ]
              ],
              "shape": {
                "columns": 11,
                "rows": 5
              }
            },
            "text/html": [
              "<div>\n",
              "<style scoped>\n",
              "    .dataframe tbody tr th:only-of-type {\n",
              "        vertical-align: middle;\n",
              "    }\n",
              "\n",
              "    .dataframe tbody tr th {\n",
              "        vertical-align: top;\n",
              "    }\n",
              "\n",
              "    .dataframe thead th {\n",
              "        text-align: right;\n",
              "    }\n",
              "</style>\n",
              "<table border=\"1\" class=\"dataframe\">\n",
              "  <thead>\n",
              "    <tr style=\"text-align: right;\">\n",
              "      <th></th>\n",
              "      <th>Unnamed: 0.1</th>\n",
              "      <th>Unnamed: 0</th>\n",
              "      <th>Ulasan</th>\n",
              "      <th>Rating</th>\n",
              "      <th>Kategori</th>\n",
              "      <th>Nama Produk</th>\n",
              "      <th>Id Produk</th>\n",
              "      <th>Terjual</th>\n",
              "      <th>Id_Toko</th>\n",
              "      <th>Url</th>\n",
              "      <th>label</th>\n",
              "    </tr>\n",
              "  </thead>\n",
              "  <tbody>\n",
              "    <tr>\n",
              "      <th>0</th>\n",
              "      <td>0</td>\n",
              "      <td>59</td>\n",
              "      <td>Pesanan gx sesuai dgn yg d gambar</td>\n",
              "      <td>2</td>\n",
              "      <td>pertukangan</td>\n",
              "      <td>Isi Staples Tembak 8 mm best guard</td>\n",
              "      <td>133507638</td>\n",
              "      <td>545</td>\n",
              "      <td>1461393</td>\n",
              "      <td>https://www.tokopedia.com/timurjaya46/isi-stap...</td>\n",
              "      <td>0</td>\n",
              "    </tr>\n",
              "    <tr>\n",
              "      <th>1</th>\n",
              "      <td>1</td>\n",
              "      <td>70</td>\n",
              "      <td>Pengiriman dan respon super cepat. Tpi barang ...</td>\n",
              "      <td>2</td>\n",
              "      <td>pertukangan</td>\n",
              "      <td>Isi Staples Tembak 8 mm best guard</td>\n",
              "      <td>133507638</td>\n",
              "      <td>545</td>\n",
              "      <td>1461393</td>\n",
              "      <td>https://www.tokopedia.com/timurjaya46/isi-stap...</td>\n",
              "      <td>0</td>\n",
              "    </tr>\n",
              "    <tr>\n",
              "      <th>2</th>\n",
              "      <td>2</td>\n",
              "      <td>95</td>\n",
              "      <td>barang yg dikirim tidak sesuai pesanan</td>\n",
              "      <td>1</td>\n",
              "      <td>pertukangan</td>\n",
              "      <td>Isi Staples Tembak 8 mm best guard</td>\n",
              "      <td>133507638</td>\n",
              "      <td>545</td>\n",
              "      <td>1461393</td>\n",
              "      <td>https://www.tokopedia.com/timurjaya46/isi-stap...</td>\n",
              "      <td>0</td>\n",
              "    </tr>\n",
              "    <tr>\n",
              "      <th>3</th>\n",
              "      <td>3</td>\n",
              "      <td>117</td>\n",
              "      <td>Php, bilang isi ada diseskripsi pas dipesen be...</td>\n",
              "      <td>1</td>\n",
              "      <td>pertukangan</td>\n",
              "      <td>steples tembak / staples tembak kenmaster PROM...</td>\n",
              "      <td>88842566</td>\n",
              "      <td>45</td>\n",
              "      <td>1102298</td>\n",
              "      <td>https://www.tokopedia.com/cahayabelawa/steples...</td>\n",
              "      <td>0</td>\n",
              "    </tr>\n",
              "    <tr>\n",
              "      <th>4</th>\n",
              "      <td>4</td>\n",
              "      <td>153</td>\n",
              "      <td>barang jelek copot&amp;#34; terus tmpat taro isinya</td>\n",
              "      <td>2</td>\n",
              "      <td>pertukangan</td>\n",
              "      <td>Staple Gun / Staples Tembak / Staples Jok / He...</td>\n",
              "      <td>209226141</td>\n",
              "      <td>171</td>\n",
              "      <td>580197</td>\n",
              "      <td>https://www.tokopedia.com/hmhhardware/staple-g...</td>\n",
              "      <td>0</td>\n",
              "    </tr>\n",
              "  </tbody>\n",
              "</table>\n",
              "</div>"
            ],
            "text/plain": [
              "   Unnamed: 0.1  Unnamed: 0  \\\n",
              "0             0          59   \n",
              "1             1          70   \n",
              "2             2          95   \n",
              "3             3         117   \n",
              "4             4         153   \n",
              "\n",
              "                                              Ulasan  Rating     Kategori  \\\n",
              "0                  Pesanan gx sesuai dgn yg d gambar       2  pertukangan   \n",
              "1  Pengiriman dan respon super cepat. Tpi barang ...       2  pertukangan   \n",
              "2             barang yg dikirim tidak sesuai pesanan       1  pertukangan   \n",
              "3  Php, bilang isi ada diseskripsi pas dipesen be...       1  pertukangan   \n",
              "4    barang jelek copot&#34; terus tmpat taro isinya       2  pertukangan   \n",
              "\n",
              "                                         Nama Produk  Id Produk Terjual  \\\n",
              "0                 Isi Staples Tembak 8 mm best guard  133507638     545   \n",
              "1                 Isi Staples Tembak 8 mm best guard  133507638     545   \n",
              "2                 Isi Staples Tembak 8 mm best guard  133507638     545   \n",
              "3  steples tembak / staples tembak kenmaster PROM...   88842566      45   \n",
              "4  Staple Gun / Staples Tembak / Staples Jok / He...  209226141     171   \n",
              "\n",
              "   Id_Toko                                                Url  label  \n",
              "0  1461393  https://www.tokopedia.com/timurjaya46/isi-stap...      0  \n",
              "1  1461393  https://www.tokopedia.com/timurjaya46/isi-stap...      0  \n",
              "2  1461393  https://www.tokopedia.com/timurjaya46/isi-stap...      0  \n",
              "3  1102298  https://www.tokopedia.com/cahayabelawa/steples...      0  \n",
              "4   580197  https://www.tokopedia.com/hmhhardware/staple-g...      0  "
            ]
          },
          "execution_count": 3,
          "metadata": {},
          "output_type": "execute_result"
        }
      ],
      "source": [
        "df.head()"
      ]
    },
    {
      "cell_type": "code",
      "execution_count": 4,
      "metadata": {},
      "outputs": [],
      "source": [
        "df = df[['Id Produk','Ulasan','Rating']]"
      ]
    },
    {
      "cell_type": "code",
      "execution_count": 5,
      "metadata": {},
      "outputs": [
        {
          "data": {
            "text/plain": [
              "Id Produk    0\n",
              "Ulasan       0\n",
              "Rating       0\n",
              "dtype: int64"
            ]
          },
          "execution_count": 5,
          "metadata": {},
          "output_type": "execute_result"
        }
      ],
      "source": [
        "df.isna().sum()"
      ]
    },
    {
      "cell_type": "code",
      "execution_count": 6,
      "metadata": {},
      "outputs": [],
      "source": [
        "df.dropna(inplace=True)"
      ]
    },
    {
      "cell_type": "code",
      "execution_count": 7,
      "metadata": {
        "colab": {
          "base_uri": "https://localhost:8080/"
        },
        "id": "2ky9Wvqgmu4h",
        "outputId": "83701c6a-a560-4ab6-9b05-f6cf214f5531"
      },
      "outputs": [
        {
          "name": "stdout",
          "output_type": "stream",
          "text": [
            "<class 'pandas.core.frame.DataFrame'>\n",
            "RangeIndex: 1925 entries, 0 to 1924\n",
            "Data columns (total 3 columns):\n",
            " #   Column     Non-Null Count  Dtype \n",
            "---  ------     --------------  ----- \n",
            " 0   Id Produk  1925 non-null   int64 \n",
            " 1   Ulasan     1925 non-null   object\n",
            " 2   Rating     1925 non-null   int64 \n",
            "dtypes: int64(2), object(1)\n",
            "memory usage: 45.2+ KB\n"
          ]
        }
      ],
      "source": [
        "df.info()"
      ]
    },
    {
      "cell_type": "code",
      "execution_count": 8,
      "metadata": {},
      "outputs": [],
      "source": [
        "df =  df.rename(columns={\n",
        "    'Id Produk' : 'product_id',\n",
        "    'Rating' : 'rating',\n",
        "    'Ulasan' : 'ulasan'\n",
        "})"
      ]
    },
    {
      "cell_type": "code",
      "execution_count": 9,
      "metadata": {},
      "outputs": [],
      "source": [
        "df['product_id'] = df['product_id'].astype(str)"
      ]
    },
    {
      "cell_type": "code",
      "execution_count": 10,
      "metadata": {
        "colab": {
          "base_uri": "https://localhost:8080/",
          "height": 327
        },
        "id": "1WtX65a3nzJb",
        "outputId": "ab5ca201-7743-4279-fb91-6b76c65cefa0"
      },
      "outputs": [
        {
          "data": {
            "application/vnd.microsoft.datawrangler.viewer.v0+json": {
              "columns": [
                {
                  "name": "index",
                  "rawType": "int64",
                  "type": "integer"
                },
                {
                  "name": "product_id",
                  "rawType": "object",
                  "type": "string"
                },
                {
                  "name": "ulasan",
                  "rawType": "object",
                  "type": "string"
                },
                {
                  "name": "rating",
                  "rawType": "int64",
                  "type": "integer"
                }
              ],
              "conversionMethod": "pd.DataFrame",
              "ref": "099d7a24-0bdd-414f-af43-bf5c063d5d21",
              "rows": [
                [
                  "1920",
                  "221298191",
                  "Bagus dan memuaskan. Packing bagus cepat",
                  "4"
                ],
                [
                  "1921",
                  "221298191",
                  "Mantap pengiriman ok cepat recomended",
                  "5"
                ],
                [
                  "1922",
                  "221298191",
                  "Pengiriman cepat. Lumayan",
                  "4"
                ],
                [
                  "1923",
                  "221298191",
                  "belom dicoba semoga oke barangnya",
                  "4"
                ],
                [
                  "1924",
                  "221298191",
                  "Barang cukup bagus, Respon bagus. Tapi gak ada manualnya ya gan? Sdh sy cb gunakan. Utk Paku tipe Brad Nail cara pasangnya gmn? Sy cb selipin dipinggir aja bisa berfungsi, tp gak bisa dikeluarin lg sisanya, akhirnya sy tembakin sampe abis aja. Hatur nuhun.",
                  "3"
                ]
              ],
              "shape": {
                "columns": 3,
                "rows": 5
              }
            },
            "text/html": [
              "<div>\n",
              "<style scoped>\n",
              "    .dataframe tbody tr th:only-of-type {\n",
              "        vertical-align: middle;\n",
              "    }\n",
              "\n",
              "    .dataframe tbody tr th {\n",
              "        vertical-align: top;\n",
              "    }\n",
              "\n",
              "    .dataframe thead th {\n",
              "        text-align: right;\n",
              "    }\n",
              "</style>\n",
              "<table border=\"1\" class=\"dataframe\">\n",
              "  <thead>\n",
              "    <tr style=\"text-align: right;\">\n",
              "      <th></th>\n",
              "      <th>product_id</th>\n",
              "      <th>ulasan</th>\n",
              "      <th>rating</th>\n",
              "    </tr>\n",
              "  </thead>\n",
              "  <tbody>\n",
              "    <tr>\n",
              "      <th>1920</th>\n",
              "      <td>221298191</td>\n",
              "      <td>Bagus dan memuaskan. Packing bagus cepat</td>\n",
              "      <td>4</td>\n",
              "    </tr>\n",
              "    <tr>\n",
              "      <th>1921</th>\n",
              "      <td>221298191</td>\n",
              "      <td>Mantap pengiriman ok cepat recomended</td>\n",
              "      <td>5</td>\n",
              "    </tr>\n",
              "    <tr>\n",
              "      <th>1922</th>\n",
              "      <td>221298191</td>\n",
              "      <td>Pengiriman cepat. Lumayan</td>\n",
              "      <td>4</td>\n",
              "    </tr>\n",
              "    <tr>\n",
              "      <th>1923</th>\n",
              "      <td>221298191</td>\n",
              "      <td>belom dicoba semoga oke barangnya</td>\n",
              "      <td>4</td>\n",
              "    </tr>\n",
              "    <tr>\n",
              "      <th>1924</th>\n",
              "      <td>221298191</td>\n",
              "      <td>Barang cukup bagus, Respon bagus. Tapi gak ada...</td>\n",
              "      <td>3</td>\n",
              "    </tr>\n",
              "  </tbody>\n",
              "</table>\n",
              "</div>"
            ],
            "text/plain": [
              "     product_id                                             ulasan  rating\n",
              "1920  221298191           Bagus dan memuaskan. Packing bagus cepat       4\n",
              "1921  221298191              Mantap pengiriman ok cepat recomended       5\n",
              "1922  221298191                          Pengiriman cepat. Lumayan       4\n",
              "1923  221298191                  belom dicoba semoga oke barangnya       4\n",
              "1924  221298191  Barang cukup bagus, Respon bagus. Tapi gak ada...       3"
            ]
          },
          "execution_count": 10,
          "metadata": {},
          "output_type": "execute_result"
        }
      ],
      "source": [
        "df.tail()"
      ]
    },
    {
      "cell_type": "markdown",
      "metadata": {},
      "source": [
        "## dataset ke-2"
      ]
    },
    {
      "cell_type": "code",
      "execution_count": 11,
      "metadata": {
        "colab": {
          "base_uri": "https://localhost:8080/",
          "height": 206
        },
        "id": "febCCGX8lAbC",
        "outputId": "f33a9aa1-1fb1-4587-cdc3-5d39f185cef3"
      },
      "outputs": [],
      "source": [
        "df2 = pd.read_csv('dataset 2.csv')"
      ]
    },
    {
      "cell_type": "code",
      "execution_count": 12,
      "metadata": {
        "colab": {
          "base_uri": "https://localhost:8080/"
        },
        "id": "gddDBJQ8lZ4p",
        "outputId": "69408c21-fd95-491c-fc83-c443665954dd"
      },
      "outputs": [
        {
          "name": "stdout",
          "output_type": "stream",
          "text": [
            "<class 'pandas.core.frame.DataFrame'>\n",
            "RangeIndex: 40607 entries, 0 to 40606\n",
            "Data columns (total 9 columns):\n",
            " #   Column        Non-Null Count  Dtype \n",
            "---  ------        --------------  ----- \n",
            " 0   Unnamed: 0    40607 non-null  int64 \n",
            " 1   text          40607 non-null  object\n",
            " 2   rating        40607 non-null  int64 \n",
            " 3   category      40607 non-null  object\n",
            " 4   product_name  40607 non-null  object\n",
            " 5   product_id    40607 non-null  int64 \n",
            " 6   sold          40593 non-null  object\n",
            " 7   shop_id       40607 non-null  int64 \n",
            " 8   product_url   40607 non-null  object\n",
            "dtypes: int64(4), object(5)\n",
            "memory usage: 2.8+ MB\n"
          ]
        }
      ],
      "source": [
        "df2.info()"
      ]
    },
    {
      "cell_type": "code",
      "execution_count": 13,
      "metadata": {},
      "outputs": [],
      "source": [
        "df2 = df2[['product_id','text','rating']]"
      ]
    },
    {
      "cell_type": "code",
      "execution_count": 14,
      "metadata": {},
      "outputs": [
        {
          "data": {
            "application/vnd.microsoft.datawrangler.viewer.v0+json": {
              "columns": [
                {
                  "name": "index",
                  "rawType": "int64",
                  "type": "integer"
                },
                {
                  "name": "product_id",
                  "rawType": "int64",
                  "type": "integer"
                },
                {
                  "name": "text",
                  "rawType": "object",
                  "type": "string"
                },
                {
                  "name": "rating",
                  "rawType": "int64",
                  "type": "integer"
                }
              ],
              "conversionMethod": "pd.DataFrame",
              "ref": "0b4dd783-7aaa-486c-b14d-a2fcf590df81",
              "rows": [
                [
                  "40602",
                  "144442054",
                  "gak bisa ditutup.. ukuran gak pas..",
                  "1"
                ],
                [
                  "40603",
                  "313781913",
                  "Penjual krg peduli dan brg jelek. Brg yg dikirim peyot dan pegangannya pecah. Pembeli diminta transfer ongkir untuk ganti produk, yg diganti jg peyot dan pegangan pecah. JANGAN PERNAH BELI DI TOKO INI LAGI GUYS!",
                  "1"
                ],
                [
                  "40604",
                  "71873370",
                  "pelayanan kurang sigap, berhari2 dr nanya baik smpe kesel br dikasi resi itupun ga valid krn diganti pengiriman dan br diinfokan stlh brg dikirim,untung aja sampai,walaupun jelas bgt pake huruf besar minta warna kuning/hijau stabilo dikirim merah, ga memuaskan lah pokoknya pdhl udh beli mahal.",
                  "1"
                ],
                [
                  "40605",
                  "201690705",
                  "barang yg dikirim tsk sesuai wrn, kl memang dr awal wrn tdk ready pasti saya gak akan order...\n2 unit part kurang sampai skrg blm nyampe juga katanya sdh dikirim, di hubungi lewat wa respon tdk baik tdk dibalas pesan yg terakhir... hp tertera saya tell katanya bukan yg layanin lewat toped, saya minta no hp lain di sms lama sampai 2x telp &amp; telp yg kedua gak sopan sekali saya blm selesai ngomong sdh dimatiin telpnya, parahhh...",
                  "1"
                ],
                [
                  "40606",
                  "78857201",
                  "Pihak penjual memberikan respon yang buruk kepada pembeli. Pihak penjual tidak melakukan pemeriksaan barang yang diorder dengan barang yang dikirim. Namun setelah dikomplain tidak segera melakukan pemeriksaan namun malahan meminta pembeli menerima barang yang ada. Setelah dikomplain keras, baru mengakui kesalahan dan berjanji akan mengembalikan selisih harga barang yang diorder dengan barang yang dikirimkan. Namun sudah hampir 1 minggu dana tetap tidak dikembalikan.\nMohon pihak penjual segera melakukan kewajibannya. Terimakasih.",
                  "1"
                ]
              ],
              "shape": {
                "columns": 3,
                "rows": 5
              }
            },
            "text/html": [
              "<div>\n",
              "<style scoped>\n",
              "    .dataframe tbody tr th:only-of-type {\n",
              "        vertical-align: middle;\n",
              "    }\n",
              "\n",
              "    .dataframe tbody tr th {\n",
              "        vertical-align: top;\n",
              "    }\n",
              "\n",
              "    .dataframe thead th {\n",
              "        text-align: right;\n",
              "    }\n",
              "</style>\n",
              "<table border=\"1\" class=\"dataframe\">\n",
              "  <thead>\n",
              "    <tr style=\"text-align: right;\">\n",
              "      <th></th>\n",
              "      <th>product_id</th>\n",
              "      <th>text</th>\n",
              "      <th>rating</th>\n",
              "    </tr>\n",
              "  </thead>\n",
              "  <tbody>\n",
              "    <tr>\n",
              "      <th>40602</th>\n",
              "      <td>144442054</td>\n",
              "      <td>gak bisa ditutup.. ukuran gak pas..</td>\n",
              "      <td>1</td>\n",
              "    </tr>\n",
              "    <tr>\n",
              "      <th>40603</th>\n",
              "      <td>313781913</td>\n",
              "      <td>Penjual krg peduli dan brg jelek. Brg yg dikir...</td>\n",
              "      <td>1</td>\n",
              "    </tr>\n",
              "    <tr>\n",
              "      <th>40604</th>\n",
              "      <td>71873370</td>\n",
              "      <td>pelayanan kurang sigap, berhari2 dr nanya baik...</td>\n",
              "      <td>1</td>\n",
              "    </tr>\n",
              "    <tr>\n",
              "      <th>40605</th>\n",
              "      <td>201690705</td>\n",
              "      <td>barang yg dikirim tsk sesuai wrn, kl memang dr...</td>\n",
              "      <td>1</td>\n",
              "    </tr>\n",
              "    <tr>\n",
              "      <th>40606</th>\n",
              "      <td>78857201</td>\n",
              "      <td>Pihak penjual memberikan respon yang buruk kep...</td>\n",
              "      <td>1</td>\n",
              "    </tr>\n",
              "  </tbody>\n",
              "</table>\n",
              "</div>"
            ],
            "text/plain": [
              "       product_id                                               text  rating\n",
              "40602   144442054                gak bisa ditutup.. ukuran gak pas..       1\n",
              "40603   313781913  Penjual krg peduli dan brg jelek. Brg yg dikir...       1\n",
              "40604    71873370  pelayanan kurang sigap, berhari2 dr nanya baik...       1\n",
              "40605   201690705  barang yg dikirim tsk sesuai wrn, kl memang dr...       1\n",
              "40606    78857201  Pihak penjual memberikan respon yang buruk kep...       1"
            ]
          },
          "execution_count": 14,
          "metadata": {},
          "output_type": "execute_result"
        }
      ],
      "source": [
        "df2.tail()"
      ]
    },
    {
      "cell_type": "code",
      "execution_count": 15,
      "metadata": {
        "colab": {
          "base_uri": "https://localhost:8080/",
          "height": 147
        },
        "id": "vDdyFR4-lhvZ",
        "outputId": "6ff1b07f-7f2f-4dbc-e8cd-3979b70d3781"
      },
      "outputs": [
        {
          "data": {
            "text/plain": [
              "product_id    0\n",
              "text          0\n",
              "rating        0\n",
              "dtype: int64"
            ]
          },
          "execution_count": 15,
          "metadata": {},
          "output_type": "execute_result"
        }
      ],
      "source": [
        "df2.isna().sum()"
      ]
    },
    {
      "cell_type": "code",
      "execution_count": 16,
      "metadata": {
        "id": "gvACjqdOlovI"
      },
      "outputs": [],
      "source": [
        "df2.dropna(inplace=True)"
      ]
    },
    {
      "cell_type": "code",
      "execution_count": 17,
      "metadata": {
        "id": "LOtsOFeMnsqJ"
      },
      "outputs": [],
      "source": [
        "df2 =  df2.rename(columns={\n",
        "    'text' : 'ulasan',\n",
        "})"
      ]
    },
    {
      "cell_type": "code",
      "execution_count": 18,
      "metadata": {},
      "outputs": [
        {
          "name": "stdout",
          "output_type": "stream",
          "text": [
            "<class 'pandas.core.frame.DataFrame'>\n",
            "RangeIndex: 40607 entries, 0 to 40606\n",
            "Data columns (total 3 columns):\n",
            " #   Column      Non-Null Count  Dtype \n",
            "---  ------      --------------  ----- \n",
            " 0   product_id  40607 non-null  int64 \n",
            " 1   ulasan      40607 non-null  object\n",
            " 2   rating      40607 non-null  int64 \n",
            "dtypes: int64(2), object(1)\n",
            "memory usage: 951.9+ KB\n"
          ]
        }
      ],
      "source": [
        "df2.info()"
      ]
    },
    {
      "cell_type": "code",
      "execution_count": 19,
      "metadata": {},
      "outputs": [],
      "source": [
        "df2['product_id'] = df2['product_id'].astype(str)"
      ]
    },
    {
      "cell_type": "code",
      "execution_count": 20,
      "metadata": {
        "colab": {
          "base_uri": "https://localhost:8080/",
          "height": 206
        },
        "id": "SX7xWW3dnlPR",
        "outputId": "7dabdc3c-8d0e-48e3-9171-bf55a30bdeba"
      },
      "outputs": [
        {
          "data": {
            "application/vnd.microsoft.datawrangler.viewer.v0+json": {
              "columns": [
                {
                  "name": "index",
                  "rawType": "int64",
                  "type": "integer"
                },
                {
                  "name": "product_id",
                  "rawType": "object",
                  "type": "string"
                },
                {
                  "name": "ulasan",
                  "rawType": "object",
                  "type": "string"
                },
                {
                  "name": "rating",
                  "rawType": "int64",
                  "type": "integer"
                }
              ],
              "conversionMethod": "pd.DataFrame",
              "ref": "1fe9dbfd-bc41-4b15-9983-fb850e3e3735",
              "rows": [
                [
                  "0",
                  "418660637",
                  "Barang sesuai pesanan dan cepat sampai",
                  "5"
                ],
                [
                  "1",
                  "416032545",
                  "Barang bagus harga murah",
                  "5"
                ],
                [
                  "2",
                  "416032545",
                  "Paket rapi...mantap....cepat....sampe ke tujuan",
                  "5"
                ],
                [
                  "3",
                  "102279869",
                  "ya saya puas dgn barangnya",
                  "5"
                ],
                [
                  "4",
                  "190679689",
                  "Responya luar biasa b mantap",
                  "5"
                ]
              ],
              "shape": {
                "columns": 3,
                "rows": 5
              }
            },
            "text/html": [
              "<div>\n",
              "<style scoped>\n",
              "    .dataframe tbody tr th:only-of-type {\n",
              "        vertical-align: middle;\n",
              "    }\n",
              "\n",
              "    .dataframe tbody tr th {\n",
              "        vertical-align: top;\n",
              "    }\n",
              "\n",
              "    .dataframe thead th {\n",
              "        text-align: right;\n",
              "    }\n",
              "</style>\n",
              "<table border=\"1\" class=\"dataframe\">\n",
              "  <thead>\n",
              "    <tr style=\"text-align: right;\">\n",
              "      <th></th>\n",
              "      <th>product_id</th>\n",
              "      <th>ulasan</th>\n",
              "      <th>rating</th>\n",
              "    </tr>\n",
              "  </thead>\n",
              "  <tbody>\n",
              "    <tr>\n",
              "      <th>0</th>\n",
              "      <td>418660637</td>\n",
              "      <td>Barang sesuai pesanan dan cepat sampai</td>\n",
              "      <td>5</td>\n",
              "    </tr>\n",
              "    <tr>\n",
              "      <th>1</th>\n",
              "      <td>416032545</td>\n",
              "      <td>Barang bagus harga murah</td>\n",
              "      <td>5</td>\n",
              "    </tr>\n",
              "    <tr>\n",
              "      <th>2</th>\n",
              "      <td>416032545</td>\n",
              "      <td>Paket rapi...mantap....cepat....sampe ke tujuan</td>\n",
              "      <td>5</td>\n",
              "    </tr>\n",
              "    <tr>\n",
              "      <th>3</th>\n",
              "      <td>102279869</td>\n",
              "      <td>ya saya puas dgn barangnya</td>\n",
              "      <td>5</td>\n",
              "    </tr>\n",
              "    <tr>\n",
              "      <th>4</th>\n",
              "      <td>190679689</td>\n",
              "      <td>Responya luar biasa b mantap</td>\n",
              "      <td>5</td>\n",
              "    </tr>\n",
              "  </tbody>\n",
              "</table>\n",
              "</div>"
            ],
            "text/plain": [
              "  product_id                                           ulasan  rating\n",
              "0  418660637           Barang sesuai pesanan dan cepat sampai       5\n",
              "1  416032545                         Barang bagus harga murah       5\n",
              "2  416032545  Paket rapi...mantap....cepat....sampe ke tujuan       5\n",
              "3  102279869                       ya saya puas dgn barangnya       5\n",
              "4  190679689                     Responya luar biasa b mantap       5"
            ]
          },
          "execution_count": 20,
          "metadata": {},
          "output_type": "execute_result"
        }
      ],
      "source": [
        "df2.head()"
      ]
    },
    {
      "cell_type": "code",
      "execution_count": 21,
      "metadata": {},
      "outputs": [
        {
          "data": {
            "text/plain": [
              "rating\n",
              "5    30311\n",
              "4     7546\n",
              "3     1825\n",
              "1      543\n",
              "2      382\n",
              "Name: count, dtype: int64"
            ]
          },
          "execution_count": 21,
          "metadata": {},
          "output_type": "execute_result"
        }
      ],
      "source": [
        "df2['rating'].value_counts()"
      ]
    },
    {
      "cell_type": "markdown",
      "metadata": {},
      "source": [
        "## dataset ke-3 "
      ]
    },
    {
      "cell_type": "code",
      "execution_count": 22,
      "metadata": {},
      "outputs": [],
      "source": [
        "df_baru = pd.read_csv('dataset 3.csv')"
      ]
    },
    {
      "cell_type": "code",
      "execution_count": 23,
      "metadata": {
        "colab": {
          "base_uri": "https://localhost:8080/"
        },
        "id": "_fX60p1TY_s6",
        "outputId": "324ca6a3-4792-4426-a0d2-785035001719"
      },
      "outputs": [
        {
          "name": "stdout",
          "output_type": "stream",
          "text": [
            "<class 'pandas.core.frame.DataFrame'>\n",
            "RangeIndex: 5400 entries, 0 to 5399\n",
            "Data columns (total 11 columns):\n",
            " #   Column           Non-Null Count  Dtype  \n",
            "---  ------           --------------  -----  \n",
            " 0   Category         5400 non-null   object \n",
            " 1   Product Name     5400 non-null   object \n",
            " 2   Location         5400 non-null   object \n",
            " 3   Price            5400 non-null   int64  \n",
            " 4   Overall Rating   5400 non-null   float64\n",
            " 5   Number Sold      5400 non-null   int64  \n",
            " 6   Total Review     5400 non-null   int64  \n",
            " 7   Customer Rating  5400 non-null   int64  \n",
            " 8   Customer Review  5400 non-null   object \n",
            " 9   Sentiment        5400 non-null   object \n",
            " 10  Emotion          5400 non-null   object \n",
            "dtypes: float64(1), int64(4), object(6)\n",
            "memory usage: 464.2+ KB\n"
          ]
        }
      ],
      "source": [
        "df_baru.info()"
      ]
    },
    {
      "cell_type": "code",
      "execution_count": 24,
      "metadata": {
        "id": "LNx6DAgSaUB6"
      },
      "outputs": [],
      "source": [
        "df_baru = df_baru[['Product Name', 'Customer Review', 'Sentiment']]"
      ]
    },
    {
      "cell_type": "code",
      "execution_count": 25,
      "metadata": {
        "id": "BEckqvp8aV5K"
      },
      "outputs": [],
      "source": [
        "df_baru.rename(\n",
        "    columns={\n",
        "    'Product Name' : 'product_id',\n",
        "    'Customer Review' : 'ulasan',\n",
        "    'Sentiment' : 'rating'\n",
        "}, inplace = True)"
      ]
    },
    {
      "cell_type": "code",
      "execution_count": 26,
      "metadata": {},
      "outputs": [
        {
          "data": {
            "text/plain": [
              "product_id    0\n",
              "ulasan        0\n",
              "rating        0\n",
              "dtype: int64"
            ]
          },
          "execution_count": 26,
          "metadata": {},
          "output_type": "execute_result"
        }
      ],
      "source": [
        "df.isna().sum()"
      ]
    },
    {
      "cell_type": "code",
      "execution_count": 27,
      "metadata": {
        "colab": {
          "base_uri": "https://localhost:8080/",
          "height": 597
        },
        "id": "0JMpgzMCa2oC",
        "outputId": "946e9f35-c768-4b9c-f2ba-aa4aa7307702"
      },
      "outputs": [],
      "source": [
        "df_baru.dropna(inplace=True)"
      ]
    },
    {
      "cell_type": "code",
      "execution_count": 28,
      "metadata": {},
      "outputs": [
        {
          "name": "stdout",
          "output_type": "stream",
          "text": [
            "<class 'pandas.core.frame.DataFrame'>\n",
            "RangeIndex: 5400 entries, 0 to 5399\n",
            "Data columns (total 3 columns):\n",
            " #   Column      Non-Null Count  Dtype \n",
            "---  ------      --------------  ----- \n",
            " 0   product_id  5400 non-null   object\n",
            " 1   ulasan      5400 non-null   object\n",
            " 2   rating      5400 non-null   object\n",
            "dtypes: object(3)\n",
            "memory usage: 126.7+ KB\n"
          ]
        }
      ],
      "source": [
        "df_baru.info()"
      ]
    },
    {
      "cell_type": "code",
      "execution_count": 29,
      "metadata": {},
      "outputs": [
        {
          "data": {
            "application/vnd.microsoft.datawrangler.viewer.v0+json": {
              "columns": [
                {
                  "name": "index",
                  "rawType": "int64",
                  "type": "integer"
                },
                {
                  "name": "product_id",
                  "rawType": "object",
                  "type": "string"
                },
                {
                  "name": "ulasan",
                  "rawType": "object",
                  "type": "string"
                },
                {
                  "name": "rating",
                  "rawType": "object",
                  "type": "string"
                }
              ],
              "conversionMethod": "pd.DataFrame",
              "ref": "2bca7250-758f-471e-9308-d7c71551467e",
              "rows": [
                [
                  "5395",
                  "PCK-01 Penjepit Barang / Pickup Tool Ver.1 Alat Capit Pemungut Sampah",
                  "Harga bersaing, barang sesuai pesanan. Saya nambah extra packing kardus dan bubble wrap supaya barang aman dan benar sampai dengan selamat alhamdulillaah.. Saya sengaja beli dengan tujuan untuk mungut sampah puntung rokok dan saya tanyakan ke Seller apakah bisa, kemudian Seller menjawab bisa. Setelah sampai saya tes dan berhasil bisa untuk mungut sampah puntung rokok. Memakainya mudah, hanya saja lumayan juga ya ternyata beratnya kalo sudah lama megangnya pegel juga hehe.. Anyways, terima kasih ya Seller :)",
                  "Positive"
                ],
                [
                  "5396",
                  "Ultrasonic Aroma Diffuser Humidifier Colorful LED 300ml+remote",
                  "Beli ini krn Anak & Istri mau liburan di Jakarta, cari2 ketemu toko ini dengan harga yg masih ramah kantong, untuk pelayanan toko bagus & cepet, packaging nya juga rapih & aman banget, recomended seller. Untuk Difusser nya berfungsi dengan baik, untuk kualitas diffuser nya sendiri termasuk kokoh ya dengan harga segini, puas benget sih pas udah nyobain. Semoga bisa tahan lama difusser nya",
                  "Positive"
                ],
                [
                  "5397",
                  "Ultrasonic Aroma Diffuser Humidifier Colorful LED 300ml+remote",
                  "pengemasan barang baik, kondisi barang jg utuh tanpa cacat, berfungsi normal dan lancar, respon dan servis dari seler juga baik",
                  "Positive"
                ],
                [
                  "5398",
                  "Ultrasonic Aroma Diffuser Humidifier Colorful LED 300ml+remote",
                  "Mungil tapi bekerja dng baik. Dan murahh terjangkau.. pas dng kebutuhan",
                  "Positive"
                ],
                [
                  "5399",
                  "TDS Meter 3 Alat Ukur Hidroponik Air Aquarium ppm nutrisi Kolam TDS-3 - TDS 3 Meter",
                  "Produk sesuai deskripsi, packing aman terlindung, pengiriman cepat, toko/ penjual responsif, alat sudah dicoba dan berfungsi, sangat direkomendasikan.",
                  "Positive"
                ]
              ],
              "shape": {
                "columns": 3,
                "rows": 5
              }
            },
            "text/html": [
              "<div>\n",
              "<style scoped>\n",
              "    .dataframe tbody tr th:only-of-type {\n",
              "        vertical-align: middle;\n",
              "    }\n",
              "\n",
              "    .dataframe tbody tr th {\n",
              "        vertical-align: top;\n",
              "    }\n",
              "\n",
              "    .dataframe thead th {\n",
              "        text-align: right;\n",
              "    }\n",
              "</style>\n",
              "<table border=\"1\" class=\"dataframe\">\n",
              "  <thead>\n",
              "    <tr style=\"text-align: right;\">\n",
              "      <th></th>\n",
              "      <th>product_id</th>\n",
              "      <th>ulasan</th>\n",
              "      <th>rating</th>\n",
              "    </tr>\n",
              "  </thead>\n",
              "  <tbody>\n",
              "    <tr>\n",
              "      <th>5395</th>\n",
              "      <td>PCK-01 Penjepit Barang / Pickup Tool Ver.1 Ala...</td>\n",
              "      <td>Harga bersaing, barang sesuai pesanan. Saya na...</td>\n",
              "      <td>Positive</td>\n",
              "    </tr>\n",
              "    <tr>\n",
              "      <th>5396</th>\n",
              "      <td>Ultrasonic Aroma Diffuser Humidifier Colorful ...</td>\n",
              "      <td>Beli ini krn Anak &amp; Istri mau liburan di Jakar...</td>\n",
              "      <td>Positive</td>\n",
              "    </tr>\n",
              "    <tr>\n",
              "      <th>5397</th>\n",
              "      <td>Ultrasonic Aroma Diffuser Humidifier Colorful ...</td>\n",
              "      <td>pengemasan barang baik, kondisi barang jg utuh...</td>\n",
              "      <td>Positive</td>\n",
              "    </tr>\n",
              "    <tr>\n",
              "      <th>5398</th>\n",
              "      <td>Ultrasonic Aroma Diffuser Humidifier Colorful ...</td>\n",
              "      <td>Mungil tapi bekerja dng baik. Dan murahh terja...</td>\n",
              "      <td>Positive</td>\n",
              "    </tr>\n",
              "    <tr>\n",
              "      <th>5399</th>\n",
              "      <td>TDS Meter 3 Alat Ukur Hidroponik Air Aquarium ...</td>\n",
              "      <td>Produk sesuai deskripsi, packing aman terlindu...</td>\n",
              "      <td>Positive</td>\n",
              "    </tr>\n",
              "  </tbody>\n",
              "</table>\n",
              "</div>"
            ],
            "text/plain": [
              "                                             product_id  \\\n",
              "5395  PCK-01 Penjepit Barang / Pickup Tool Ver.1 Ala...   \n",
              "5396  Ultrasonic Aroma Diffuser Humidifier Colorful ...   \n",
              "5397  Ultrasonic Aroma Diffuser Humidifier Colorful ...   \n",
              "5398  Ultrasonic Aroma Diffuser Humidifier Colorful ...   \n",
              "5399  TDS Meter 3 Alat Ukur Hidroponik Air Aquarium ...   \n",
              "\n",
              "                                                 ulasan    rating  \n",
              "5395  Harga bersaing, barang sesuai pesanan. Saya na...  Positive  \n",
              "5396  Beli ini krn Anak & Istri mau liburan di Jakar...  Positive  \n",
              "5397  pengemasan barang baik, kondisi barang jg utuh...  Positive  \n",
              "5398  Mungil tapi bekerja dng baik. Dan murahh terja...  Positive  \n",
              "5399  Produk sesuai deskripsi, packing aman terlindu...  Positive  "
            ]
          },
          "execution_count": 29,
          "metadata": {},
          "output_type": "execute_result"
        }
      ],
      "source": [
        "df_baru.tail()"
      ]
    },
    {
      "cell_type": "code",
      "execution_count": 30,
      "metadata": {},
      "outputs": [
        {
          "data": {
            "text/plain": [
              "rating\n",
              "Negative    2821\n",
              "Positive    2579\n",
              "Name: count, dtype: int64"
            ]
          },
          "execution_count": 30,
          "metadata": {},
          "output_type": "execute_result"
        }
      ],
      "source": [
        "df_baru['rating'].value_counts()"
      ]
    },
    {
      "cell_type": "markdown",
      "metadata": {},
      "source": [
        "## FUNGSI FUNGSI PRE PROCESSING (data cleaning, encoding, normalization abbrevation,concating)"
      ]
    },
    {
      "cell_type": "markdown",
      "metadata": {},
      "source": [
        "### encoding rating"
      ]
    },
    {
      "cell_type": "code",
      "execution_count": 31,
      "metadata": {
        "id": "7USlYzoUoUP5"
      },
      "outputs": [],
      "source": [
        "def encodeRating (score) :\n",
        "  if score >= 4 : return 1 #positif\n",
        "  else : return 0 #negatif\n",
        "  return score"
      ]
    },
    {
      "cell_type": "code",
      "execution_count": 32,
      "metadata": {
        "id": "J0mDc9q4o6Za"
      },
      "outputs": [],
      "source": [
        "df2['rating'] = df2['rating'].apply(encodeRating)"
      ]
    },
    {
      "cell_type": "code",
      "execution_count": 33,
      "metadata": {
        "colab": {
          "base_uri": "https://localhost:8080/",
          "height": 209
        },
        "id": "oOr_1nCZo_zv",
        "outputId": "4822fa44-cce9-42c5-ed97-f8cec22d58c7"
      },
      "outputs": [
        {
          "data": {
            "text/plain": [
              "rating\n",
              "1    37857\n",
              "0     2750\n",
              "Name: count, dtype: int64"
            ]
          },
          "execution_count": 33,
          "metadata": {},
          "output_type": "execute_result"
        }
      ],
      "source": [
        "df2['rating'].value_counts()"
      ]
    },
    {
      "cell_type": "code",
      "execution_count": 34,
      "metadata": {
        "id": "uljQdIZrpFsx"
      },
      "outputs": [],
      "source": [
        "df['rating']=df['rating'].apply(encodeRating)"
      ]
    },
    {
      "cell_type": "code",
      "execution_count": 35,
      "metadata": {
        "colab": {
          "base_uri": "https://localhost:8080/",
          "height": 209
        },
        "id": "V57a3DKkpNTf",
        "outputId": "403a27be-1345-40e2-ea08-02a757673144"
      },
      "outputs": [
        {
          "data": {
            "text/plain": [
              "rating\n",
              "0    966\n",
              "1    959\n",
              "Name: count, dtype: int64"
            ]
          },
          "execution_count": 35,
          "metadata": {},
          "output_type": "execute_result"
        }
      ],
      "source": [
        "df['rating'].value_counts()"
      ]
    },
    {
      "cell_type": "code",
      "execution_count": 36,
      "metadata": {},
      "outputs": [],
      "source": [
        "def encodeRating2(sentiment):\n",
        "    return 1 if sentiment==\"Positive\" else 0  # 1 untuk positif dan 0 untuk negatif\n"
      ]
    },
    {
      "cell_type": "code",
      "execution_count": 37,
      "metadata": {
        "id": "3NzC72pObZIc"
      },
      "outputs": [],
      "source": [
        "df_baru['rating']=df_baru['rating'].apply(encodeRating2)"
      ]
    },
    {
      "cell_type": "code",
      "execution_count": 38,
      "metadata": {
        "colab": {
          "base_uri": "https://localhost:8080/",
          "height": 209
        },
        "id": "n0-nwwCcbgV0",
        "outputId": "1b0ffc82-1313-421e-cef2-a5b34ef7dff0"
      },
      "outputs": [
        {
          "data": {
            "text/plain": [
              "rating\n",
              "0    2821\n",
              "1    2579\n",
              "Name: count, dtype: int64"
            ]
          },
          "execution_count": 38,
          "metadata": {},
          "output_type": "execute_result"
        }
      ],
      "source": [
        "df_baru['rating'].value_counts()"
      ]
    },
    {
      "cell_type": "markdown",
      "metadata": {},
      "source": [
        "### combine dataset 1 2 dan 3"
      ]
    },
    {
      "cell_type": "code",
      "execution_count": 39,
      "metadata": {
        "id": "-vqJUqvtqBYw"
      },
      "outputs": [],
      "source": [
        "df_combined = pd.concat([df, df2,df_baru], ignore_index=True)"
      ]
    },
    {
      "cell_type": "code",
      "execution_count": 40,
      "metadata": {
        "colab": {
          "base_uri": "https://localhost:8080/",
          "height": 206
        },
        "id": "VtphZHnaqcdZ",
        "outputId": "2e8307c6-de77-4ef6-f802-c6f03991c29b"
      },
      "outputs": [
        {
          "data": {
            "application/vnd.microsoft.datawrangler.viewer.v0+json": {
              "columns": [
                {
                  "name": "index",
                  "rawType": "int64",
                  "type": "integer"
                },
                {
                  "name": "product_id",
                  "rawType": "object",
                  "type": "string"
                },
                {
                  "name": "ulasan",
                  "rawType": "object",
                  "type": "string"
                },
                {
                  "name": "rating",
                  "rawType": "int64",
                  "type": "integer"
                }
              ],
              "conversionMethod": "pd.DataFrame",
              "ref": "8c342d41-f584-4d6f-b73f-090efc9f56dc",
              "rows": [
                [
                  "0",
                  "133507638",
                  "Pesanan gx sesuai dgn yg d gambar",
                  "0"
                ],
                [
                  "1",
                  "133507638",
                  "Pengiriman dan respon super cepat. Tpi barang tidak sesuai gambar dan tidak kuat untuk menembus jok motor.",
                  "0"
                ],
                [
                  "2",
                  "133507638",
                  "barang yg dikirim tidak sesuai pesanan",
                  "0"
                ],
                [
                  "3",
                  "88842566",
                  "Php, bilang isi ada diseskripsi pas dipesen berbeda, mubajir rp50.000 ternyata isinya ga cocok",
                  "0"
                ],
                [
                  "4",
                  "209226141",
                  "barang jelek copot&#34; terus tmpat taro isinya",
                  "0"
                ]
              ],
              "shape": {
                "columns": 3,
                "rows": 5
              }
            },
            "text/html": [
              "<div>\n",
              "<style scoped>\n",
              "    .dataframe tbody tr th:only-of-type {\n",
              "        vertical-align: middle;\n",
              "    }\n",
              "\n",
              "    .dataframe tbody tr th {\n",
              "        vertical-align: top;\n",
              "    }\n",
              "\n",
              "    .dataframe thead th {\n",
              "        text-align: right;\n",
              "    }\n",
              "</style>\n",
              "<table border=\"1\" class=\"dataframe\">\n",
              "  <thead>\n",
              "    <tr style=\"text-align: right;\">\n",
              "      <th></th>\n",
              "      <th>product_id</th>\n",
              "      <th>ulasan</th>\n",
              "      <th>rating</th>\n",
              "    </tr>\n",
              "  </thead>\n",
              "  <tbody>\n",
              "    <tr>\n",
              "      <th>0</th>\n",
              "      <td>133507638</td>\n",
              "      <td>Pesanan gx sesuai dgn yg d gambar</td>\n",
              "      <td>0</td>\n",
              "    </tr>\n",
              "    <tr>\n",
              "      <th>1</th>\n",
              "      <td>133507638</td>\n",
              "      <td>Pengiriman dan respon super cepat. Tpi barang ...</td>\n",
              "      <td>0</td>\n",
              "    </tr>\n",
              "    <tr>\n",
              "      <th>2</th>\n",
              "      <td>133507638</td>\n",
              "      <td>barang yg dikirim tidak sesuai pesanan</td>\n",
              "      <td>0</td>\n",
              "    </tr>\n",
              "    <tr>\n",
              "      <th>3</th>\n",
              "      <td>88842566</td>\n",
              "      <td>Php, bilang isi ada diseskripsi pas dipesen be...</td>\n",
              "      <td>0</td>\n",
              "    </tr>\n",
              "    <tr>\n",
              "      <th>4</th>\n",
              "      <td>209226141</td>\n",
              "      <td>barang jelek copot&amp;#34; terus tmpat taro isinya</td>\n",
              "      <td>0</td>\n",
              "    </tr>\n",
              "  </tbody>\n",
              "</table>\n",
              "</div>"
            ],
            "text/plain": [
              "  product_id                                             ulasan  rating\n",
              "0  133507638                  Pesanan gx sesuai dgn yg d gambar       0\n",
              "1  133507638  Pengiriman dan respon super cepat. Tpi barang ...       0\n",
              "2  133507638             barang yg dikirim tidak sesuai pesanan       0\n",
              "3   88842566  Php, bilang isi ada diseskripsi pas dipesen be...       0\n",
              "4  209226141    barang jelek copot&#34; terus tmpat taro isinya       0"
            ]
          },
          "execution_count": 40,
          "metadata": {},
          "output_type": "execute_result"
        }
      ],
      "source": [
        "df_combined.head()"
      ]
    },
    {
      "cell_type": "code",
      "execution_count": 41,
      "metadata": {
        "colab": {
          "base_uri": "https://localhost:8080/",
          "height": 1000
        },
        "id": "D6x7wmSTqVR4",
        "outputId": "fa3060e6-98d2-40ce-c2f5-44efe40d8865"
      },
      "outputs": [
        {
          "data": {
            "text/plain": [
              "rating\n",
              "1    41395\n",
              "0     6537\n",
              "Name: count, dtype: int64"
            ]
          },
          "execution_count": 41,
          "metadata": {},
          "output_type": "execute_result"
        }
      ],
      "source": [
        "df_combined['rating'].value_counts()"
      ]
    },
    {
      "cell_type": "code",
      "execution_count": 42,
      "metadata": {
        "colab": {
          "base_uri": "https://localhost:8080/"
        },
        "id": "3sO1o-zKqhnA",
        "outputId": "48944fdd-758e-479d-890f-8d2d041845c6"
      },
      "outputs": [
        {
          "name": "stdout",
          "output_type": "stream",
          "text": [
            "<class 'pandas.core.frame.DataFrame'>\n",
            "RangeIndex: 47932 entries, 0 to 47931\n",
            "Data columns (total 3 columns):\n",
            " #   Column      Non-Null Count  Dtype \n",
            "---  ------      --------------  ----- \n",
            " 0   product_id  47932 non-null  object\n",
            " 1   ulasan      47932 non-null  object\n",
            " 2   rating      47932 non-null  int64 \n",
            "dtypes: int64(1), object(2)\n",
            "memory usage: 1.1+ MB\n"
          ]
        }
      ],
      "source": [
        "df_combined.info()"
      ]
    },
    {
      "cell_type": "code",
      "execution_count": 43,
      "metadata": {},
      "outputs": [
        {
          "data": {
            "text/plain": [
              "product_id    0\n",
              "ulasan        0\n",
              "rating        0\n",
              "dtype: int64"
            ]
          },
          "execution_count": 43,
          "metadata": {},
          "output_type": "execute_result"
        }
      ],
      "source": [
        "df_combined.isna().sum()"
      ]
    },
    {
      "cell_type": "code",
      "execution_count": 44,
      "metadata": {},
      "outputs": [],
      "source": [
        "df_combined.dropna(inplace=True)"
      ]
    },
    {
      "cell_type": "code",
      "execution_count": 45,
      "metadata": {},
      "outputs": [
        {
          "name": "stdout",
          "output_type": "stream",
          "text": [
            "<class 'pandas.core.frame.DataFrame'>\n",
            "RangeIndex: 47932 entries, 0 to 47931\n",
            "Data columns (total 3 columns):\n",
            " #   Column      Non-Null Count  Dtype \n",
            "---  ------      --------------  ----- \n",
            " 0   product_id  47932 non-null  object\n",
            " 1   ulasan      47932 non-null  object\n",
            " 2   rating      47932 non-null  int64 \n",
            "dtypes: int64(1), object(2)\n",
            "memory usage: 1.1+ MB\n"
          ]
        }
      ],
      "source": [
        "df_combined.info()"
      ]
    },
    {
      "cell_type": "markdown",
      "metadata": {},
      "source": [
        "### cleaning text "
      ]
    },
    {
      "cell_type": "code",
      "execution_count": 46,
      "metadata": {
        "colab": {
          "base_uri": "https://localhost:8080/"
        },
        "id": "VIFUjE2Kq3UQ",
        "outputId": "602cbf16-c0dc-4497-b33a-70fa8eef4d97"
      },
      "outputs": [
        {
          "name": "stdout",
          "output_type": "stream",
          "text": [
            "<class 'pandas.core.frame.DataFrame'>\n",
            "RangeIndex: 47932 entries, 0 to 47931\n",
            "Data columns (total 3 columns):\n",
            " #   Column      Non-Null Count  Dtype \n",
            "---  ------      --------------  ----- \n",
            " 0   product_id  47932 non-null  object\n",
            " 1   ulasan      47932 non-null  object\n",
            " 2   rating      47932 non-null  int64 \n",
            "dtypes: int64(1), object(2)\n",
            "memory usage: 1.1+ MB\n"
          ]
        }
      ],
      "source": [
        "df3 = df_combined.copy()\n",
        "df3.info()"
      ]
    },
    {
      "cell_type": "code",
      "execution_count": 47,
      "metadata": {
        "colab": {
          "base_uri": "https://localhost:8080/",
          "height": 293
        },
        "id": "UxraJlxvq-up",
        "outputId": "26aaeac7-e92f-4d51-dd9a-13f3632b8743"
      },
      "outputs": [
        {
          "data": {
            "application/vnd.microsoft.datawrangler.viewer.v0+json": {
              "columns": [
                {
                  "name": "index",
                  "rawType": "int64",
                  "type": "integer"
                },
                {
                  "name": "product_id",
                  "rawType": "object",
                  "type": "string"
                },
                {
                  "name": "ulasan",
                  "rawType": "object",
                  "type": "string"
                },
                {
                  "name": "rating",
                  "rawType": "int64",
                  "type": "integer"
                }
              ],
              "conversionMethod": "pd.DataFrame",
              "ref": "53889bf2-b520-4d73-addd-dba7929fbed9",
              "rows": [
                [
                  "47927",
                  "PCK-01 Penjepit Barang / Pickup Tool Ver.1 Alat Capit Pemungut Sampah",
                  "Harga bersaing, barang sesuai pesanan. Saya nambah extra packing kardus dan bubble wrap supaya barang aman dan benar sampai dengan selamat alhamdulillaah.. Saya sengaja beli dengan tujuan untuk mungut sampah puntung rokok dan saya tanyakan ke Seller apakah bisa, kemudian Seller menjawab bisa. Setelah sampai saya tes dan berhasil bisa untuk mungut sampah puntung rokok. Memakainya mudah, hanya saja lumayan juga ya ternyata beratnya kalo sudah lama megangnya pegel juga hehe.. Anyways, terima kasih ya Seller :)",
                  "1"
                ],
                [
                  "47928",
                  "Ultrasonic Aroma Diffuser Humidifier Colorful LED 300ml+remote",
                  "Beli ini krn Anak & Istri mau liburan di Jakarta, cari2 ketemu toko ini dengan harga yg masih ramah kantong, untuk pelayanan toko bagus & cepet, packaging nya juga rapih & aman banget, recomended seller. Untuk Difusser nya berfungsi dengan baik, untuk kualitas diffuser nya sendiri termasuk kokoh ya dengan harga segini, puas benget sih pas udah nyobain. Semoga bisa tahan lama difusser nya",
                  "1"
                ],
                [
                  "47929",
                  "Ultrasonic Aroma Diffuser Humidifier Colorful LED 300ml+remote",
                  "pengemasan barang baik, kondisi barang jg utuh tanpa cacat, berfungsi normal dan lancar, respon dan servis dari seler juga baik",
                  "1"
                ],
                [
                  "47930",
                  "Ultrasonic Aroma Diffuser Humidifier Colorful LED 300ml+remote",
                  "Mungil tapi bekerja dng baik. Dan murahh terjangkau.. pas dng kebutuhan",
                  "1"
                ],
                [
                  "47931",
                  "TDS Meter 3 Alat Ukur Hidroponik Air Aquarium ppm nutrisi Kolam TDS-3 - TDS 3 Meter",
                  "Produk sesuai deskripsi, packing aman terlindung, pengiriman cepat, toko/ penjual responsif, alat sudah dicoba dan berfungsi, sangat direkomendasikan.",
                  "1"
                ]
              ],
              "shape": {
                "columns": 3,
                "rows": 5
              }
            },
            "text/html": [
              "<div>\n",
              "<style scoped>\n",
              "    .dataframe tbody tr th:only-of-type {\n",
              "        vertical-align: middle;\n",
              "    }\n",
              "\n",
              "    .dataframe tbody tr th {\n",
              "        vertical-align: top;\n",
              "    }\n",
              "\n",
              "    .dataframe thead th {\n",
              "        text-align: right;\n",
              "    }\n",
              "</style>\n",
              "<table border=\"1\" class=\"dataframe\">\n",
              "  <thead>\n",
              "    <tr style=\"text-align: right;\">\n",
              "      <th></th>\n",
              "      <th>product_id</th>\n",
              "      <th>ulasan</th>\n",
              "      <th>rating</th>\n",
              "    </tr>\n",
              "  </thead>\n",
              "  <tbody>\n",
              "    <tr>\n",
              "      <th>47927</th>\n",
              "      <td>PCK-01 Penjepit Barang / Pickup Tool Ver.1 Ala...</td>\n",
              "      <td>Harga bersaing, barang sesuai pesanan. Saya na...</td>\n",
              "      <td>1</td>\n",
              "    </tr>\n",
              "    <tr>\n",
              "      <th>47928</th>\n",
              "      <td>Ultrasonic Aroma Diffuser Humidifier Colorful ...</td>\n",
              "      <td>Beli ini krn Anak &amp; Istri mau liburan di Jakar...</td>\n",
              "      <td>1</td>\n",
              "    </tr>\n",
              "    <tr>\n",
              "      <th>47929</th>\n",
              "      <td>Ultrasonic Aroma Diffuser Humidifier Colorful ...</td>\n",
              "      <td>pengemasan barang baik, kondisi barang jg utuh...</td>\n",
              "      <td>1</td>\n",
              "    </tr>\n",
              "    <tr>\n",
              "      <th>47930</th>\n",
              "      <td>Ultrasonic Aroma Diffuser Humidifier Colorful ...</td>\n",
              "      <td>Mungil tapi bekerja dng baik. Dan murahh terja...</td>\n",
              "      <td>1</td>\n",
              "    </tr>\n",
              "    <tr>\n",
              "      <th>47931</th>\n",
              "      <td>TDS Meter 3 Alat Ukur Hidroponik Air Aquarium ...</td>\n",
              "      <td>Produk sesuai deskripsi, packing aman terlindu...</td>\n",
              "      <td>1</td>\n",
              "    </tr>\n",
              "  </tbody>\n",
              "</table>\n",
              "</div>"
            ],
            "text/plain": [
              "                                              product_id  \\\n",
              "47927  PCK-01 Penjepit Barang / Pickup Tool Ver.1 Ala...   \n",
              "47928  Ultrasonic Aroma Diffuser Humidifier Colorful ...   \n",
              "47929  Ultrasonic Aroma Diffuser Humidifier Colorful ...   \n",
              "47930  Ultrasonic Aroma Diffuser Humidifier Colorful ...   \n",
              "47931  TDS Meter 3 Alat Ukur Hidroponik Air Aquarium ...   \n",
              "\n",
              "                                                  ulasan  rating  \n",
              "47927  Harga bersaing, barang sesuai pesanan. Saya na...       1  \n",
              "47928  Beli ini krn Anak & Istri mau liburan di Jakar...       1  \n",
              "47929  pengemasan barang baik, kondisi barang jg utuh...       1  \n",
              "47930  Mungil tapi bekerja dng baik. Dan murahh terja...       1  \n",
              "47931  Produk sesuai deskripsi, packing aman terlindu...       1  "
            ]
          },
          "execution_count": 47,
          "metadata": {},
          "output_type": "execute_result"
        }
      ],
      "source": [
        "df3.tail()"
      ]
    },
    {
      "cell_type": "code",
      "execution_count": 48,
      "metadata": {
        "id": "CSl9CJYxtWF5"
      },
      "outputs": [],
      "source": [
        "import re\n",
        "import emoji\n",
        "\n",
        "def clean_text(text, aggressive=True):\n",
        "    # Langkah wajib (aman)\n",
        "    text = text.lower()\n",
        "    text = re.sub(r'http\\S+|www\\S+', '', text)\n",
        "    text = re.sub(r'<.*?>', '', text)\n",
        "    \n",
        "    # Pertahankan emoji atau konversi ke teks\n",
        "    text = emoji.replace_emoji(text, \"\")  # Alternatif: Pertahankan asli\n",
        "    \n",
        "    # Hapus pola khusus seperti \", . , . ,\"\n",
        "    text = re.sub(r'([,.]\\s){2,}', '', text)\n",
        "    \n",
        "    # Ganti semua titik dengan koma\n",
        "    text = text.replace('.', ',')\n",
        "    \n",
        "    # Hapus tanda tanya\n",
        "    text = text.replace('?', '')\n",
        "    \n",
        "    # Normalisasi tanda baca lainnya\n",
        "    text = re.sub(r'([,!])\\1+', r'\\1', text)\n",
        "    text = re.sub(r',{2,}', ',', text)\n",
        "    text = re.sub(r'[^\\w\\s,]', '', text)  # Hanya pertahankan huruf, angka, spasi, dan koma\n",
        "    text = re.sub(r'(?<!\\s)([,])', r' \\1 ', text)\n",
        "    text = re.sub(r'([,])(?!\\s)', r'\\1 ', text)\n",
        "    \n",
        "    # Normalisasi (bukan penghapusan) kata berulang\n",
        "    text = re.sub(r'\\b(\\w+)( \\1\\b)+', r'\\1 \\1', text)  # Maksimal 2x pengulangan\n",
        "    \n",
        "    # Hanya jalankan pembersihan agresif jika diperlukan\n",
        "    if aggressive:\n",
        "        text = re.sub(r'(.)\\1{3,}', r'\\1', text)  # Hanya karakter berulang >3x\n",
        "        text = \" \".join([word for word in text.split() if len(word) <= 20])  # Batasan panjang\n",
        "    \n",
        "    # Final cleanup\n",
        "    text = re.sub(r'\\s+', ' ', text).strip()\n",
        "    return text"
      ]
    },
    {
      "cell_type": "code",
      "execution_count": 49,
      "metadata": {},
      "outputs": [],
      "source": [
        "import re\n",
        "import emoji\n",
        "\n",
        "def expand_repeated_words(text):\n",
        "    def replace_match(match):\n",
        "        word = match.group(1)\n",
        "        count = int(match.group(2))\n",
        "        suffix = match.group(3) if match.group(3) else \"\"\n",
        "        return \" \".join([word] * count) + suffix\n",
        "\n",
        "    return re.sub(r'(\\w+)(\\d+)(-\\w+)?', replace_match, text)\n",
        "\n",
        "def clean_text2(text):\n",
        "    text = text.lower()\n",
        "    text = re.sub(r'http\\S+|www\\S+', '', text)\n",
        "    text = re.sub(r'<.*?>', '', text)\n",
        "    text = emoji.replace_emoji(text, \"\")\n",
        "    text = text.encode(\"ascii\", \"ignore\").decode()\n",
        "\n",
        "    text = expand_repeated_words(text)\n",
        "    \n",
        "    text = re.sub(r'\\b[\\w\\d]*[^\\w\\s][\\w\\d]*\\b', '', text)  # kayak \"b@gus\", \"gpp!!\", \"zxcv123!\"\n",
        "\n",
        "\n",
        "    # Menghapus kata yang muncul lebih dari dua kali berturut-turut\n",
        "    text = re.sub(r'\\b(\\w+)(?: \\1\\b){2,}', '', text)\n",
        "\n",
        "    # Menghapus tanda baca berulang\n",
        "    text = re.sub(r'([.,!?])\\1+', r'\\1', text)\n",
        "\n",
        "    # Ganti titik berulang \"..\" atau \"...\" menjadi satu spasi\n",
        "    text = re.sub(r'\\.{2,}', ' ', text)\n",
        "\n",
        "    # Menghapus karakter yang berulang lebih dari 2x berturut-turut\n",
        "    text = re.sub(r'(.)\\1{2,}', r'\\1', text)\n",
        "\n",
        "    # Hapus tanda baca kecuali titik, koma, dan tanda tanya\n",
        "    text = re.sub(r'[^\\w\\s.,?]', '', text)\n",
        "\n",
        "    # # Tambahkan spasi sebelum dan sesudah tanda baca jika belum ada\n",
        "    # text = re.sub(r'(?<!\\s)([.,?])', r' \\1 ', text)\n",
        "    # text = re.sub(r'([.,?])(?!\\s)', r'\\1 ', text)\n",
        "\n",
        "    # Menghapus spasi ganda\n",
        "    text = re.sub(r'\\s+', ' ', text).strip()\n",
        "\n",
        "    # **Perbaikan: Gunakan set untuk menghapus kata yang berulang dalam paragraf**\n",
        "    words = text.split()\n",
        "    seen = set()\n",
        "    text = \" \".join([word for word in words if not (word in seen or seen.add(word))])\n",
        "\n",
        "    # **Perbaikan: Batasi penghapusan kata yang terlalu panjang**\n",
        "    text = \" \".join([word for word in text.split() if len(word) <= 20])\n",
        "\n",
        "    # **Perbaikan: Hapus kata tanpa vokal hanya jika lebih dari 4 huruf**\n",
        "    text = \" \".join([word for word in text.split() if len(word) <= 4 or re.search(r'[aeiou]', word, re.IGNORECASE)])\n",
        "\n",
        "    # **Perbaikan: Hapus gibberish hanya jika ada pengulangan >5x**\n",
        "    text = re.sub(r'\\b(\\w*(\\w)\\2{5,}\\w*)\\b', '', text)\n",
        "\n",
        "    return text\n"
      ]
    },
    {
      "cell_type": "code",
      "execution_count": 50,
      "metadata": {
        "id": "TCvWaqcZuQXi"
      },
      "outputs": [],
      "source": [
        "df3['ulasan'] = df3['ulasan'].apply(clean_text)"
      ]
    },
    {
      "cell_type": "code",
      "execution_count": 51,
      "metadata": {},
      "outputs": [],
      "source": [
        "df3['ulasan'] = df3['ulasan'].apply(clean_text2)"
      ]
    },
    {
      "cell_type": "code",
      "execution_count": 52,
      "metadata": {
        "id": "aJbP4zerv0KK"
      },
      "outputs": [],
      "source": [
        "pd.set_option('display.max_colwidth', None)"
      ]
    },
    {
      "cell_type": "code",
      "execution_count": 53,
      "metadata": {
        "colab": {
          "base_uri": "https://localhost:8080/",
          "height": 1000
        },
        "id": "neDFnqj3uZUo",
        "outputId": "8aa4d944-ee2a-40e4-b2e2-b43116948ed7"
      },
      "outputs": [
        {
          "data": {
            "application/vnd.microsoft.datawrangler.viewer.v0+json": {
              "columns": [
                {
                  "name": "index",
                  "rawType": "int64",
                  "type": "integer"
                },
                {
                  "name": "product_id",
                  "rawType": "object",
                  "type": "string"
                },
                {
                  "name": "ulasan",
                  "rawType": "object",
                  "type": "string"
                },
                {
                  "name": "rating",
                  "rawType": "int64",
                  "type": "integer"
                }
              ],
              "conversionMethod": "pd.DataFrame",
              "ref": "f301bad6-8436-4ab2-9c3a-6086314c8bba",
              "rows": [
                [
                  "0",
                  "133507638",
                  "pesanan gx sesuai dgn yg d gambar",
                  "0"
                ],
                [
                  "1",
                  "133507638",
                  "pengiriman dan respon super cepat , tpi barang tidak sesuai gambar kuat untuk menembus jok motor",
                  "0"
                ],
                [
                  "2",
                  "133507638",
                  "barang yg dikirim tidak sesuai pesanan",
                  "0"
                ],
                [
                  "3",
                  "88842566",
                  "php , bilang isi ada diseskripsi pas dipesen berbeda mubajir ternyata isinya ga cocok",
                  "0"
                ],
                [
                  "4",
                  "209226141",
                  "barang jelek terus tmpat taro isinya",
                  "0"
                ],
                [
                  "5",
                  "209226141",
                  "beli staples gak jual isinya , hanya sekali pake",
                  "0"
                ],
                [
                  "6",
                  "55221811",
                  "sebaiknya kalau mau ngirim barang , diperiksa dulu gan kondisi barangnya layak apa gak gitu loh isinya karatan semua",
                  "0"
                ],
                [
                  "7",
                  "185025248",
                  "produk tidak sesuai , order prohex yg dikirim ini",
                  "0"
                ],
                [
                  "8",
                  "139363396",
                  "brg sdh diterima ,",
                  "0"
                ],
                [
                  "9",
                  "68341458",
                  "tidak bisa buat masang jok gak ke pake",
                  "0"
                ],
                [
                  "10",
                  "213653744",
                  "barang datang cacat , gak bisa di gunakan harusnya sblum kirim coba dulu",
                  "0"
                ],
                [
                  "11",
                  "288306960",
                  "kecewa baru dipakey isiya kluar sampai 2 3 buah dipapan nggak nempel",
                  "0"
                ],
                [
                  "12",
                  "221298191",
                  "barang kurang bagus , pengiriman pakai pos lama sekali",
                  "0"
                ],
                [
                  "13",
                  "221298191",
                  "hasil staples tidak rapat pada bidang , mungkin dapat produk cacat hadeeuh",
                  "0"
                ],
                [
                  "14",
                  "221298191",
                  "barang standart n biasa aja kurang good ,",
                  "0"
                ],
                [
                  "15",
                  "225536821",
                  "barangnya rusak , kecewa berat",
                  "0"
                ],
                [
                  "16",
                  "78773158",
                  "beli 5 tdk bs dipakai semua",
                  "0"
                ],
                [
                  "17",
                  "78773158",
                  "straples nya gk bs dipake , udh dicoba berkali bwt pasang jaring nyamuk ditembak dibahan triplek aja nembus itu harus diketok palu lgi",
                  "0"
                ],
                [
                  "18",
                  "78773158",
                  "mungkin karena harga juga , jadi susah dipake hehe staplesnya gak nancep sampe oenuh",
                  "0"
                ],
                [
                  "19",
                  "11888855",
                  "gagal ,",
                  "0"
                ],
                [
                  "20",
                  "11888855",
                  "",
                  "0"
                ],
                [
                  "21",
                  "17741002",
                  "seller tidak komunikatif , niatnya pake instant courier biar segera sampai tp barang dikirim 2 hari kemudian tanpa kabar sama sekali ditanya ga berani balas udah ngajuin pembatalan tetep aja dosa semoga ada lagi yg buyer dapet perlakuan kyk gini",
                  "0"
                ],
                [
                  "22",
                  "50221613",
                  "barang nya kayak bekas ya gan , tapi pengiriman ceoat",
                  "0"
                ],
                [
                  "23",
                  "19337557",
                  "barang ada yg gak sesuai sama buset lama banget dikirimnya , kapok",
                  "0"
                ],
                [
                  "24",
                  "363833137",
                  "model brang sdh sesuai deskripsi , tapi kenapa ukuran 4nya ndak ya panjang tinggi spatunya kyk kaki no aku kasih foto sepatunya yg tak coba pakai",
                  "0"
                ],
                [
                  "25",
                  "363833137",
                  "tidak recommended , kaki bisa masuk sepatu seperti sablonan kualitas not ok",
                  "0"
                ],
                [
                  "26",
                  "474474429",
                  "apakah sepatunya boleh di retur kualitas bahan kanan dan kiri berbeda , tebelnya beda tinggi nya juga",
                  "0"
                ],
                [
                  "27",
                  "429766804",
                  "brng sy pesan , uang transfr tp brmg tdk trima jgn pke wahana cargo ad solusi dr toped ut mngembalikan saya",
                  "0"
                ],
                [
                  "28",
                  "429766804",
                  "tidak sesuai permintaan warnanya , pas di tanya ngaku ngakunya udh chat kita ga jawab pdhl ada",
                  "0"
                ],
                [
                  "29",
                  "411651606",
                  "suck ,",
                  "0"
                ],
                [
                  "30",
                  "411651606",
                  "produk bagus , tapi qc kurang pipa nya beda ukuran 1batang jadi hanya 2 rak yg terpasang",
                  "0"
                ],
                [
                  "31",
                  "411651606",
                  "saya sangat kecewa karna acc nya tidak lengkap",
                  "0"
                ],
                [
                  "32",
                  "411651606",
                  "kurang sesuai dengan expektasi , karena terdapat kecacatan pada konektor dan memiliki panjang tiang yang tidak imbang",
                  "0"
                ],
                [
                  "33",
                  "411651606",
                  "ada 1 bagian yg tidak",
                  "0"
                ],
                [
                  "34",
                  "469877650",
                  "minta dibatalin udah ajuin pembatalan malah dikirim , dikonfirmasi ukuran dan model salah",
                  "0"
                ],
                [
                  "35",
                  "469877650",
                  "kotak rusak , lem sepatunya gk bngt",
                  "0"
                ],
                [
                  "36",
                  "469877650",
                  "tidak sesuai dengan yang di kasi liat",
                  "0"
                ],
                [
                  "37",
                  "469877650",
                  "respon lambat pengiriman lama barang yang di kirim tidak sesuai , saya kecewa",
                  "0"
                ],
                [
                  "38",
                  "469877650",
                  "masih bisa diklem gak nih kualitas barang sangat buruk , lemnya nempel pada ngelupas jujur saya kecewa",
                  "0"
                ],
                [
                  "39",
                  "469877650",
                  "pengirimnya lama , prosesnya juga",
                  "0"
                ],
                [
                  "40",
                  "469877650",
                  "lebih teliti lg ya gan kalau ngasih informasi",
                  "0"
                ],
                [
                  "41",
                  "469877650",
                  "order tanggal pake jne yes , baru sampe entah salahnya dimana",
                  "0"
                ],
                [
                  "42",
                  "469877650",
                  "barang nya jelek bgt , saya mau kasih ke org pun malu mungkin ini foto lebih bagus dari produk asli tdk akan beli lagi",
                  "0"
                ],
                [
                  "43",
                  "469877650",
                  "gx sesuai dgn gambar , comot di google",
                  "0"
                ],
                [
                  "44",
                  "469877650",
                  "awalnya lupa tulisan ukuran , dan penjual juga ga nanya akhirnya yg dikirim minta retur ke 4 cuman bilang iya doang ada action udah sebulan diproses yang parahnya tokpedia malah melanjutkan dana padahal sudah mengikuti proses komplian sesuai petunjuk tokped tidak menghargai customer",
                  "0"
                ],
                [
                  "45",
                  "469877650",
                  "pesen warna a yg d kirim b , nga ssuai klw dlam pesenan abis gtu ukuranya kcill",
                  "0"
                ],
                [
                  "46",
                  "469877650",
                  "respon sih cepat satu hari langsung , tapi pengiriman nya agak lama hampir 4 baranh sesuai dengan harga seller kadang ga jawab pertanyaan tolong tingkatkan lagi barang bagus lah meskipun ada yang terkelupas sedikit",
                  "0"
                ],
                [
                  "47",
                  "469877650",
                  "sangat mengecwakan , pesan 2 sepatu yg dikirim hanya 1 di wa dan dintelfon tidak permah mau bls dangkat udah gitu kualitas jelek dijamin bakal kecewa beli disini",
                  "0"
                ],
                [
                  "48",
                  "469877650",
                  "barang sudah diterima kualitas kurang memuaskan",
                  "0"
                ],
                [
                  "49",
                  "469877650",
                  "tidak puas ,",
                  "0"
                ]
              ],
              "shape": {
                "columns": 3,
                "rows": 50
              }
            },
            "text/html": [
              "<div>\n",
              "<style scoped>\n",
              "    .dataframe tbody tr th:only-of-type {\n",
              "        vertical-align: middle;\n",
              "    }\n",
              "\n",
              "    .dataframe tbody tr th {\n",
              "        vertical-align: top;\n",
              "    }\n",
              "\n",
              "    .dataframe thead th {\n",
              "        text-align: right;\n",
              "    }\n",
              "</style>\n",
              "<table border=\"1\" class=\"dataframe\">\n",
              "  <thead>\n",
              "    <tr style=\"text-align: right;\">\n",
              "      <th></th>\n",
              "      <th>product_id</th>\n",
              "      <th>ulasan</th>\n",
              "      <th>rating</th>\n",
              "    </tr>\n",
              "  </thead>\n",
              "  <tbody>\n",
              "    <tr>\n",
              "      <th>0</th>\n",
              "      <td>133507638</td>\n",
              "      <td>pesanan gx sesuai dgn yg d gambar</td>\n",
              "      <td>0</td>\n",
              "    </tr>\n",
              "    <tr>\n",
              "      <th>1</th>\n",
              "      <td>133507638</td>\n",
              "      <td>pengiriman dan respon super cepat , tpi barang tidak sesuai gambar kuat untuk menembus jok motor</td>\n",
              "      <td>0</td>\n",
              "    </tr>\n",
              "    <tr>\n",
              "      <th>2</th>\n",
              "      <td>133507638</td>\n",
              "      <td>barang yg dikirim tidak sesuai pesanan</td>\n",
              "      <td>0</td>\n",
              "    </tr>\n",
              "    <tr>\n",
              "      <th>3</th>\n",
              "      <td>88842566</td>\n",
              "      <td>php , bilang isi ada diseskripsi pas dipesen berbeda mubajir ternyata isinya ga cocok</td>\n",
              "      <td>0</td>\n",
              "    </tr>\n",
              "    <tr>\n",
              "      <th>4</th>\n",
              "      <td>209226141</td>\n",
              "      <td>barang jelek terus tmpat taro isinya</td>\n",
              "      <td>0</td>\n",
              "    </tr>\n",
              "    <tr>\n",
              "      <th>5</th>\n",
              "      <td>209226141</td>\n",
              "      <td>beli staples gak jual isinya , hanya sekali pake</td>\n",
              "      <td>0</td>\n",
              "    </tr>\n",
              "    <tr>\n",
              "      <th>6</th>\n",
              "      <td>55221811</td>\n",
              "      <td>sebaiknya kalau mau ngirim barang , diperiksa dulu gan kondisi barangnya layak apa gak gitu loh isinya karatan semua</td>\n",
              "      <td>0</td>\n",
              "    </tr>\n",
              "    <tr>\n",
              "      <th>7</th>\n",
              "      <td>185025248</td>\n",
              "      <td>produk tidak sesuai , order prohex yg dikirim ini</td>\n",
              "      <td>0</td>\n",
              "    </tr>\n",
              "    <tr>\n",
              "      <th>8</th>\n",
              "      <td>139363396</td>\n",
              "      <td>brg sdh diterima ,</td>\n",
              "      <td>0</td>\n",
              "    </tr>\n",
              "    <tr>\n",
              "      <th>9</th>\n",
              "      <td>68341458</td>\n",
              "      <td>tidak bisa buat masang jok gak ke pake</td>\n",
              "      <td>0</td>\n",
              "    </tr>\n",
              "    <tr>\n",
              "      <th>10</th>\n",
              "      <td>213653744</td>\n",
              "      <td>barang datang cacat , gak bisa di gunakan harusnya sblum kirim coba dulu</td>\n",
              "      <td>0</td>\n",
              "    </tr>\n",
              "    <tr>\n",
              "      <th>11</th>\n",
              "      <td>288306960</td>\n",
              "      <td>kecewa baru dipakey isiya kluar sampai 2 3 buah dipapan nggak nempel</td>\n",
              "      <td>0</td>\n",
              "    </tr>\n",
              "    <tr>\n",
              "      <th>12</th>\n",
              "      <td>221298191</td>\n",
              "      <td>barang kurang bagus , pengiriman pakai pos lama sekali</td>\n",
              "      <td>0</td>\n",
              "    </tr>\n",
              "    <tr>\n",
              "      <th>13</th>\n",
              "      <td>221298191</td>\n",
              "      <td>hasil staples tidak rapat pada bidang , mungkin dapat produk cacat hadeeuh</td>\n",
              "      <td>0</td>\n",
              "    </tr>\n",
              "    <tr>\n",
              "      <th>14</th>\n",
              "      <td>221298191</td>\n",
              "      <td>barang standart n biasa aja kurang good ,</td>\n",
              "      <td>0</td>\n",
              "    </tr>\n",
              "    <tr>\n",
              "      <th>15</th>\n",
              "      <td>225536821</td>\n",
              "      <td>barangnya rusak , kecewa berat</td>\n",
              "      <td>0</td>\n",
              "    </tr>\n",
              "    <tr>\n",
              "      <th>16</th>\n",
              "      <td>78773158</td>\n",
              "      <td>beli 5 tdk bs dipakai semua</td>\n",
              "      <td>0</td>\n",
              "    </tr>\n",
              "    <tr>\n",
              "      <th>17</th>\n",
              "      <td>78773158</td>\n",
              "      <td>straples nya gk bs dipake , udh dicoba berkali bwt pasang jaring nyamuk ditembak dibahan triplek aja nembus itu harus diketok palu lgi</td>\n",
              "      <td>0</td>\n",
              "    </tr>\n",
              "    <tr>\n",
              "      <th>18</th>\n",
              "      <td>78773158</td>\n",
              "      <td>mungkin karena harga juga , jadi susah dipake hehe staplesnya gak nancep sampe oenuh</td>\n",
              "      <td>0</td>\n",
              "    </tr>\n",
              "    <tr>\n",
              "      <th>19</th>\n",
              "      <td>11888855</td>\n",
              "      <td>gagal ,</td>\n",
              "      <td>0</td>\n",
              "    </tr>\n",
              "    <tr>\n",
              "      <th>20</th>\n",
              "      <td>11888855</td>\n",
              "      <td></td>\n",
              "      <td>0</td>\n",
              "    </tr>\n",
              "    <tr>\n",
              "      <th>21</th>\n",
              "      <td>17741002</td>\n",
              "      <td>seller tidak komunikatif , niatnya pake instant courier biar segera sampai tp barang dikirim 2 hari kemudian tanpa kabar sama sekali ditanya ga berani balas udah ngajuin pembatalan tetep aja dosa semoga ada lagi yg buyer dapet perlakuan kyk gini</td>\n",
              "      <td>0</td>\n",
              "    </tr>\n",
              "    <tr>\n",
              "      <th>22</th>\n",
              "      <td>50221613</td>\n",
              "      <td>barang nya kayak bekas ya gan , tapi pengiriman ceoat</td>\n",
              "      <td>0</td>\n",
              "    </tr>\n",
              "    <tr>\n",
              "      <th>23</th>\n",
              "      <td>19337557</td>\n",
              "      <td>barang ada yg gak sesuai sama buset lama banget dikirimnya , kapok</td>\n",
              "      <td>0</td>\n",
              "    </tr>\n",
              "    <tr>\n",
              "      <th>24</th>\n",
              "      <td>363833137</td>\n",
              "      <td>model brang sdh sesuai deskripsi , tapi kenapa ukuran 4nya ndak ya panjang tinggi spatunya kyk kaki no aku kasih foto sepatunya yg tak coba pakai</td>\n",
              "      <td>0</td>\n",
              "    </tr>\n",
              "    <tr>\n",
              "      <th>25</th>\n",
              "      <td>363833137</td>\n",
              "      <td>tidak recommended , kaki bisa masuk sepatu seperti sablonan kualitas not ok</td>\n",
              "      <td>0</td>\n",
              "    </tr>\n",
              "    <tr>\n",
              "      <th>26</th>\n",
              "      <td>474474429</td>\n",
              "      <td>apakah sepatunya boleh di retur kualitas bahan kanan dan kiri berbeda , tebelnya beda tinggi nya juga</td>\n",
              "      <td>0</td>\n",
              "    </tr>\n",
              "    <tr>\n",
              "      <th>27</th>\n",
              "      <td>429766804</td>\n",
              "      <td>brng sy pesan , uang transfr tp brmg tdk trima jgn pke wahana cargo ad solusi dr toped ut mngembalikan saya</td>\n",
              "      <td>0</td>\n",
              "    </tr>\n",
              "    <tr>\n",
              "      <th>28</th>\n",
              "      <td>429766804</td>\n",
              "      <td>tidak sesuai permintaan warnanya , pas di tanya ngaku ngakunya udh chat kita ga jawab pdhl ada</td>\n",
              "      <td>0</td>\n",
              "    </tr>\n",
              "    <tr>\n",
              "      <th>29</th>\n",
              "      <td>411651606</td>\n",
              "      <td>suck ,</td>\n",
              "      <td>0</td>\n",
              "    </tr>\n",
              "    <tr>\n",
              "      <th>30</th>\n",
              "      <td>411651606</td>\n",
              "      <td>produk bagus , tapi qc kurang pipa nya beda ukuran 1batang jadi hanya 2 rak yg terpasang</td>\n",
              "      <td>0</td>\n",
              "    </tr>\n",
              "    <tr>\n",
              "      <th>31</th>\n",
              "      <td>411651606</td>\n",
              "      <td>saya sangat kecewa karna acc nya tidak lengkap</td>\n",
              "      <td>0</td>\n",
              "    </tr>\n",
              "    <tr>\n",
              "      <th>32</th>\n",
              "      <td>411651606</td>\n",
              "      <td>kurang sesuai dengan expektasi , karena terdapat kecacatan pada konektor dan memiliki panjang tiang yang tidak imbang</td>\n",
              "      <td>0</td>\n",
              "    </tr>\n",
              "    <tr>\n",
              "      <th>33</th>\n",
              "      <td>411651606</td>\n",
              "      <td>ada 1 bagian yg tidak</td>\n",
              "      <td>0</td>\n",
              "    </tr>\n",
              "    <tr>\n",
              "      <th>34</th>\n",
              "      <td>469877650</td>\n",
              "      <td>minta dibatalin udah ajuin pembatalan malah dikirim , dikonfirmasi ukuran dan model salah</td>\n",
              "      <td>0</td>\n",
              "    </tr>\n",
              "    <tr>\n",
              "      <th>35</th>\n",
              "      <td>469877650</td>\n",
              "      <td>kotak rusak , lem sepatunya gk bngt</td>\n",
              "      <td>0</td>\n",
              "    </tr>\n",
              "    <tr>\n",
              "      <th>36</th>\n",
              "      <td>469877650</td>\n",
              "      <td>tidak sesuai dengan yang di kasi liat</td>\n",
              "      <td>0</td>\n",
              "    </tr>\n",
              "    <tr>\n",
              "      <th>37</th>\n",
              "      <td>469877650</td>\n",
              "      <td>respon lambat pengiriman lama barang yang di kirim tidak sesuai , saya kecewa</td>\n",
              "      <td>0</td>\n",
              "    </tr>\n",
              "    <tr>\n",
              "      <th>38</th>\n",
              "      <td>469877650</td>\n",
              "      <td>masih bisa diklem gak nih kualitas barang sangat buruk , lemnya nempel pada ngelupas jujur saya kecewa</td>\n",
              "      <td>0</td>\n",
              "    </tr>\n",
              "    <tr>\n",
              "      <th>39</th>\n",
              "      <td>469877650</td>\n",
              "      <td>pengirimnya lama , prosesnya juga</td>\n",
              "      <td>0</td>\n",
              "    </tr>\n",
              "    <tr>\n",
              "      <th>40</th>\n",
              "      <td>469877650</td>\n",
              "      <td>lebih teliti lg ya gan kalau ngasih informasi</td>\n",
              "      <td>0</td>\n",
              "    </tr>\n",
              "    <tr>\n",
              "      <th>41</th>\n",
              "      <td>469877650</td>\n",
              "      <td>order tanggal pake jne yes , baru sampe entah salahnya dimana</td>\n",
              "      <td>0</td>\n",
              "    </tr>\n",
              "    <tr>\n",
              "      <th>42</th>\n",
              "      <td>469877650</td>\n",
              "      <td>barang nya jelek bgt , saya mau kasih ke org pun malu mungkin ini foto lebih bagus dari produk asli tdk akan beli lagi</td>\n",
              "      <td>0</td>\n",
              "    </tr>\n",
              "    <tr>\n",
              "      <th>43</th>\n",
              "      <td>469877650</td>\n",
              "      <td>gx sesuai dgn gambar , comot di google</td>\n",
              "      <td>0</td>\n",
              "    </tr>\n",
              "    <tr>\n",
              "      <th>44</th>\n",
              "      <td>469877650</td>\n",
              "      <td>awalnya lupa tulisan ukuran , dan penjual juga ga nanya akhirnya yg dikirim minta retur ke 4 cuman bilang iya doang ada action udah sebulan diproses yang parahnya tokpedia malah melanjutkan dana padahal sudah mengikuti proses komplian sesuai petunjuk tokped tidak menghargai customer</td>\n",
              "      <td>0</td>\n",
              "    </tr>\n",
              "    <tr>\n",
              "      <th>45</th>\n",
              "      <td>469877650</td>\n",
              "      <td>pesen warna a yg d kirim b , nga ssuai klw dlam pesenan abis gtu ukuranya kcill</td>\n",
              "      <td>0</td>\n",
              "    </tr>\n",
              "    <tr>\n",
              "      <th>46</th>\n",
              "      <td>469877650</td>\n",
              "      <td>respon sih cepat satu hari langsung , tapi pengiriman nya agak lama hampir 4 baranh sesuai dengan harga seller kadang ga jawab pertanyaan tolong tingkatkan lagi barang bagus lah meskipun ada yang terkelupas sedikit</td>\n",
              "      <td>0</td>\n",
              "    </tr>\n",
              "    <tr>\n",
              "      <th>47</th>\n",
              "      <td>469877650</td>\n",
              "      <td>sangat mengecwakan , pesan 2 sepatu yg dikirim hanya 1 di wa dan dintelfon tidak permah mau bls dangkat udah gitu kualitas jelek dijamin bakal kecewa beli disini</td>\n",
              "      <td>0</td>\n",
              "    </tr>\n",
              "    <tr>\n",
              "      <th>48</th>\n",
              "      <td>469877650</td>\n",
              "      <td>barang sudah diterima kualitas kurang memuaskan</td>\n",
              "      <td>0</td>\n",
              "    </tr>\n",
              "    <tr>\n",
              "      <th>49</th>\n",
              "      <td>469877650</td>\n",
              "      <td>tidak puas ,</td>\n",
              "      <td>0</td>\n",
              "    </tr>\n",
              "  </tbody>\n",
              "</table>\n",
              "</div>"
            ],
            "text/plain": [
              "   product_id  \\\n",
              "0   133507638   \n",
              "1   133507638   \n",
              "2   133507638   \n",
              "3    88842566   \n",
              "4   209226141   \n",
              "5   209226141   \n",
              "6    55221811   \n",
              "7   185025248   \n",
              "8   139363396   \n",
              "9    68341458   \n",
              "10  213653744   \n",
              "11  288306960   \n",
              "12  221298191   \n",
              "13  221298191   \n",
              "14  221298191   \n",
              "15  225536821   \n",
              "16   78773158   \n",
              "17   78773158   \n",
              "18   78773158   \n",
              "19   11888855   \n",
              "20   11888855   \n",
              "21   17741002   \n",
              "22   50221613   \n",
              "23   19337557   \n",
              "24  363833137   \n",
              "25  363833137   \n",
              "26  474474429   \n",
              "27  429766804   \n",
              "28  429766804   \n",
              "29  411651606   \n",
              "30  411651606   \n",
              "31  411651606   \n",
              "32  411651606   \n",
              "33  411651606   \n",
              "34  469877650   \n",
              "35  469877650   \n",
              "36  469877650   \n",
              "37  469877650   \n",
              "38  469877650   \n",
              "39  469877650   \n",
              "40  469877650   \n",
              "41  469877650   \n",
              "42  469877650   \n",
              "43  469877650   \n",
              "44  469877650   \n",
              "45  469877650   \n",
              "46  469877650   \n",
              "47  469877650   \n",
              "48  469877650   \n",
              "49  469877650   \n",
              "\n",
              "                                                                                                                                                                                                                                                                                         ulasan  \\\n",
              "0                                                                                                                                                                                                                                                             pesanan gx sesuai dgn yg d gambar   \n",
              "1                                                                                                                                                                                              pengiriman dan respon super cepat , tpi barang tidak sesuai gambar kuat untuk menembus jok motor   \n",
              "2                                                                                                                                                                                                                                                        barang yg dikirim tidak sesuai pesanan   \n",
              "3                                                                                                                                                                                                         php , bilang isi ada diseskripsi pas dipesen berbeda mubajir ternyata isinya ga cocok   \n",
              "4                                                                                                                                                                                                                                                          barang jelek terus tmpat taro isinya   \n",
              "5                                                                                                                                                                                                                                              beli staples gak jual isinya , hanya sekali pake   \n",
              "6                                                                                                                                                                          sebaiknya kalau mau ngirim barang , diperiksa dulu gan kondisi barangnya layak apa gak gitu loh isinya karatan semua   \n",
              "7                                                                                                                                                                                                                                             produk tidak sesuai , order prohex yg dikirim ini   \n",
              "8                                                                                                                                                                                                                                                                            brg sdh diterima ,   \n",
              "9                                                                                                                                                                                                                                                        tidak bisa buat masang jok gak ke pake   \n",
              "10                                                                                                                                                                                                                     barang datang cacat , gak bisa di gunakan harusnya sblum kirim coba dulu   \n",
              "11                                                                                                                                                                                                                         kecewa baru dipakey isiya kluar sampai 2 3 buah dipapan nggak nempel   \n",
              "12                                                                                                                                                                                                                                       barang kurang bagus , pengiriman pakai pos lama sekali   \n",
              "13                                                                                                                                                                                                                   hasil staples tidak rapat pada bidang , mungkin dapat produk cacat hadeeuh   \n",
              "14                                                                                                                                                                                                                                                    barang standart n biasa aja kurang good ,   \n",
              "15                                                                                                                                                                                                                                                               barangnya rusak , kecewa berat   \n",
              "16                                                                                                                                                                                                                                                                  beli 5 tdk bs dipakai semua   \n",
              "17                                                                                                                                                       straples nya gk bs dipake , udh dicoba berkali bwt pasang jaring nyamuk ditembak dibahan triplek aja nembus itu harus diketok palu lgi   \n",
              "18                                                                                                                                                                                                         mungkin karena harga juga , jadi susah dipake hehe staplesnya gak nancep sampe oenuh   \n",
              "19                                                                                                                                                                                                                                                                                      gagal ,   \n",
              "20                                                                                                                                                                                                                                                                                                \n",
              "21                                        seller tidak komunikatif , niatnya pake instant courier biar segera sampai tp barang dikirim 2 hari kemudian tanpa kabar sama sekali ditanya ga berani balas udah ngajuin pembatalan tetep aja dosa semoga ada lagi yg buyer dapet perlakuan kyk gini   \n",
              "22                                                                                                                                                                                                                                        barang nya kayak bekas ya gan , tapi pengiriman ceoat   \n",
              "23                                                                                                                                                                                                                           barang ada yg gak sesuai sama buset lama banget dikirimnya , kapok   \n",
              "24                                                                                                                                            model brang sdh sesuai deskripsi , tapi kenapa ukuran 4nya ndak ya panjang tinggi spatunya kyk kaki no aku kasih foto sepatunya yg tak coba pakai   \n",
              "25                                                                                                                                                                                                                  tidak recommended , kaki bisa masuk sepatu seperti sablonan kualitas not ok   \n",
              "26                                                                                                                                                                                        apakah sepatunya boleh di retur kualitas bahan kanan dan kiri berbeda , tebelnya beda tinggi nya juga   \n",
              "27                                                                                                                                                                                  brng sy pesan , uang transfr tp brmg tdk trima jgn pke wahana cargo ad solusi dr toped ut mngembalikan saya   \n",
              "28                                                                                                                                                                                               tidak sesuai permintaan warnanya , pas di tanya ngaku ngakunya udh chat kita ga jawab pdhl ada   \n",
              "29                                                                                                                                                                                                                                                                                       suck ,   \n",
              "30                                                                                                                                                                                                     produk bagus , tapi qc kurang pipa nya beda ukuran 1batang jadi hanya 2 rak yg terpasang   \n",
              "31                                                                                                                                                                                                                                               saya sangat kecewa karna acc nya tidak lengkap   \n",
              "32                                                                                                                                                                        kurang sesuai dengan expektasi , karena terdapat kecacatan pada konektor dan memiliki panjang tiang yang tidak imbang   \n",
              "33                                                                                                                                                                                                                                                                        ada 1 bagian yg tidak   \n",
              "34                                                                                                                                                                                                    minta dibatalin udah ajuin pembatalan malah dikirim , dikonfirmasi ukuran dan model salah   \n",
              "35                                                                                                                                                                                                                                                          kotak rusak , lem sepatunya gk bngt   \n",
              "36                                                                                                                                                                                                                                                        tidak sesuai dengan yang di kasi liat   \n",
              "37                                                                                                                                                                                                                respon lambat pengiriman lama barang yang di kirim tidak sesuai , saya kecewa   \n",
              "38                                                                                                                                                                                       masih bisa diklem gak nih kualitas barang sangat buruk , lemnya nempel pada ngelupas jujur saya kecewa   \n",
              "39                                                                                                                                                                                                                                                            pengirimnya lama , prosesnya juga   \n",
              "40                                                                                                                                                                                                                                                lebih teliti lg ya gan kalau ngasih informasi   \n",
              "41                                                                                                                                                                                                                                order tanggal pake jne yes , baru sampe entah salahnya dimana   \n",
              "42                                                                                                                                                                       barang nya jelek bgt , saya mau kasih ke org pun malu mungkin ini foto lebih bagus dari produk asli tdk akan beli lagi   \n",
              "43                                                                                                                                                                                                                                                       gx sesuai dgn gambar , comot di google   \n",
              "44  awalnya lupa tulisan ukuran , dan penjual juga ga nanya akhirnya yg dikirim minta retur ke 4 cuman bilang iya doang ada action udah sebulan diproses yang parahnya tokpedia malah melanjutkan dana padahal sudah mengikuti proses komplian sesuai petunjuk tokped tidak menghargai customer   \n",
              "45                                                                                                                                                                                                              pesen warna a yg d kirim b , nga ssuai klw dlam pesenan abis gtu ukuranya kcill   \n",
              "46                                                                       respon sih cepat satu hari langsung , tapi pengiriman nya agak lama hampir 4 baranh sesuai dengan harga seller kadang ga jawab pertanyaan tolong tingkatkan lagi barang bagus lah meskipun ada yang terkelupas sedikit   \n",
              "47                                                                                                                            sangat mengecwakan , pesan 2 sepatu yg dikirim hanya 1 di wa dan dintelfon tidak permah mau bls dangkat udah gitu kualitas jelek dijamin bakal kecewa beli disini   \n",
              "48                                                                                                                                                                                                                                              barang sudah diterima kualitas kurang memuaskan   \n",
              "49                                                                                                                                                                                                                                                                                 tidak puas ,   \n",
              "\n",
              "    rating  \n",
              "0        0  \n",
              "1        0  \n",
              "2        0  \n",
              "3        0  \n",
              "4        0  \n",
              "5        0  \n",
              "6        0  \n",
              "7        0  \n",
              "8        0  \n",
              "9        0  \n",
              "10       0  \n",
              "11       0  \n",
              "12       0  \n",
              "13       0  \n",
              "14       0  \n",
              "15       0  \n",
              "16       0  \n",
              "17       0  \n",
              "18       0  \n",
              "19       0  \n",
              "20       0  \n",
              "21       0  \n",
              "22       0  \n",
              "23       0  \n",
              "24       0  \n",
              "25       0  \n",
              "26       0  \n",
              "27       0  \n",
              "28       0  \n",
              "29       0  \n",
              "30       0  \n",
              "31       0  \n",
              "32       0  \n",
              "33       0  \n",
              "34       0  \n",
              "35       0  \n",
              "36       0  \n",
              "37       0  \n",
              "38       0  \n",
              "39       0  \n",
              "40       0  \n",
              "41       0  \n",
              "42       0  \n",
              "43       0  \n",
              "44       0  \n",
              "45       0  \n",
              "46       0  \n",
              "47       0  \n",
              "48       0  \n",
              "49       0  "
            ]
          },
          "execution_count": 53,
          "metadata": {},
          "output_type": "execute_result"
        }
      ],
      "source": [
        "df3.head(50)"
      ]
    },
    {
      "cell_type": "markdown",
      "metadata": {},
      "source": [
        "### normalisasi singkatan"
      ]
    },
    {
      "cell_type": "code",
      "execution_count": 54,
      "metadata": {},
      "outputs": [],
      "source": [
        "df4 = df3.copy()"
      ]
    },
    {
      "cell_type": "code",
      "execution_count": 55,
      "metadata": {
        "id": "_Tyglh2rzdjv"
      },
      "outputs": [],
      "source": [
        "# import pandas as pd\n",
        "# import json\n",
        "# import re\n",
        "# from typing import Dict\n",
        "\n",
        "# # Load kamus normalisasi dari file JSON\n",
        "# with open('D:\\Randy\\semester 6 Randy\\PK\\kamus singkatan\\kamus_singkatan_v2.json', 'r', encoding='utf-8') as f:\n",
        "#     normalization_dict = json.load(f)\n",
        "\n",
        "# # Optimalkan kamus untuk handle case\n",
        "# normalization_dict = {k.lower(): v for k, v in normalization_dict.items()}  # Standardisasi keys ke lowercase\n",
        "\n",
        "# def normalize_text(\n",
        "#     text: str,\n",
        "#     normalization_dict: Dict[str, str],\n",
        "#     aggressive: bool = False,\n",
        "#     preserve_case: bool = True  # Parameter baru untuk pertahankan kapitalisasi\n",
        "# ) -> str:\n",
        "#     \"\"\"\n",
        "#     Versi lebih robust untuk normalisasi teks.\n",
        "    \n",
        "#     Args:\n",
        "#         text: Teks input\n",
        "#         normalization_dict: Kamus normalisasi (keys sudah lowercase)\n",
        "#         aggressive: Jika True, lakukan normalisasi lebih intensif\n",
        "#         preserve_case: Jika True, pertahankan kapitalisasi alami\n",
        "#     \"\"\"\n",
        "#     # Tokenisasi cerdas yang menangani berbagai kasus\n",
        "#     words = re.findall(r\"\\w+[\\w'-]*|[\\.,!?]\", text)\n",
        "    \n",
        "#     normalized_words = []\n",
        "#     for word in words:\n",
        "#         original_word = word\n",
        "        \n",
        "#         # Handle case untuk pencarian kamus\n",
        "#         lookup_word = word.lower() if not preserve_case else word\n",
        "        \n",
        "#         # Cek apakah kata perlu dinormalisasi\n",
        "#         if lookup_word in normalization_dict:\n",
        "#             normalized_word = normalization_dict[lookup_word]\n",
        "            \n",
        "#             # Pertahankan kapitalisasi awal jika diperlukan\n",
        "#             if preserve_case and word[0].isupper():\n",
        "#                 normalized_word = normalized_word.capitalize()\n",
        "#         else:\n",
        "#             normalized_word = word if preserve_case else word.lower()\n",
        "        \n",
        "#         normalized_words.append(normalized_word)\n",
        "    \n",
        "#     # Gabungkan dengan penanganan tanda baca\n",
        "#     text = ' '.join(normalized_words)\n",
        "#     text = re.sub(r'\\s+([.,!?])', r'\\1', text)  # Hapus spasi sebelum tanda baca\n",
        "#     text = re.sub(r'([.,!?])(?!\\s|$)', r'\\1 ', text)  # Tambah spasi setelah\n",
        "    \n",
        "#     return text.strip()\n",
        "\n"
      ]
    },
    {
      "cell_type": "code",
      "execution_count": 56,
      "metadata": {},
      "outputs": [],
      "source": [
        "# # Contoh penggunaan:\n",
        "# df4['ulasan'] = df4['ulasan'].apply(\n",
        "#     lambda x: normalize_text(\n",
        "#         str(x),  # Pastikan string\n",
        "#         normalization_dict,\n",
        "#         aggressive=True,\n",
        "#         preserve_case=True  # Pertahankan kapitalisasi penting\n",
        "#     )\n",
        "# )"
      ]
    },
    {
      "cell_type": "code",
      "execution_count": 57,
      "metadata": {
        "colab": {
          "base_uri": "https://localhost:8080/",
          "height": 423
        },
        "id": "sMhHEHB10A1I",
        "outputId": "c065e735-cc29-4636-d7fa-470988b28ae4"
      },
      "outputs": [
        {
          "data": {
            "application/vnd.microsoft.datawrangler.viewer.v0+json": {
              "columns": [
                {
                  "name": "index",
                  "rawType": "int64",
                  "type": "integer"
                },
                {
                  "name": "product_id",
                  "rawType": "object",
                  "type": "string"
                },
                {
                  "name": "ulasan",
                  "rawType": "object",
                  "type": "string"
                },
                {
                  "name": "rating",
                  "rawType": "int64",
                  "type": "integer"
                }
              ],
              "conversionMethod": "pd.DataFrame",
              "ref": "49846c74-d32b-4f55-98e3-46e9bd04607a",
              "rows": [
                [
                  "47832",
                  "Bantal Tidur | The Luxe Pillow Dacron - random",
                  "barang nya sesuai yang di foto dan ternyata kualitasnya jauh lebih baik banding saya pikirkan",
                  "1"
                ],
                [
                  "47833",
                  "Bantal Tidur | The Luxe Pillow Dacron - random",
                  "bahan nyan lembut dan empuk enak tidur jadi lebih gak pegel lagi pas bangun bye salah bantal , material bagus halus ukuran sesuai banget harga terjangkau",
                  "1"
                ],
                [
                  "47834",
                  "MINISO Tempat/ Tong Sampah Plastik Meja Mini Trash Bin Garbage - Hijau",
                  "kualitas product bagus , material recomended terimakasih untuk tokopedia dan miniso karena saya dapat tong sampah plastik nya gratis semoga berkah sampai dalam keadaan utuh masih serta nyaman digunakan mungil juga bahan lembut soft doft yaa jadi kalau dimainkan anak tidak akan melukai apabila rusak seperti pecah awet menemaniku hari yang datang",
                  "1"
                ],
                [
                  "47835",
                  "MINISO Tempat/ Tong Sampah Plastik Meja Mini Trash Bin Garbage - Hijau",
                  "rumah rapi dan nyaman , rekomen material produk bagus sesuai murah respon seller kiriman cepat packingnya sangat aman banyak cashback cashbacknya bisa buat belanja yang lain lagi gratis ongkir pastinya bahannya lumayan oke lah pokoknya demikian ulasan saya tidak terlalu panjang lebar mungkin cukup sampai sini aja kali ya terimakasih sudah menyimak review sekian ucapkan ingat tetap patuhi protokol kesehatan gunakan masker jaga jarak",
                  "1"
                ],
                [
                  "47836",
                  "MINISO Tempat/ Tong Sampah Plastik Meja Mini Trash Bin Garbage - Hijau",
                  "pas banget ukurannya buat gantiin tempat sampah lama , barang bagus warna cantik miniso ga pernah ngecewain sihkualitas product material harga terjangkau recomended",
                  "1"
                ],
                [
                  "47837",
                  "Dettol Disinfektan Spray Morning Dew 225ml - 3 Pcs",
                  "mantap dettol , packaging super aman pakai air bag prosesnya cepat wanginya enak",
                  "1"
                ],
                [
                  "47838",
                  "Dettol Disinfektan Spray Morning Dew 225ml - 3 Pcs",
                  "produk sesuai , harga terjangkau kualitas sangat bagus adminnya ramah dan responsif banget sempat ada kendala di pengiriman tapi tetap mau repot usahain lain biar barangnya sampai rumah pembeli packingnya juga aman bangett makasih banyakk",
                  "1"
                ],
                [
                  "47839",
                  "Dettol Disinfektan Spray Morning Dew 225ml - 3 Pcs",
                  "baunya sedikit sevenarnya segar , tapi lebih kuat dibanding disinfektan lainnya jadi awet ga di hidung",
                  "1"
                ],
                [
                  "47840",
                  "Kain Lap Piring Anti Minyak Bahan Microfiber - Kain Lap Dapur",
                  "ukuran nya kecil tapi bagus untuk mengeringkan beberapa barang",
                  "1"
                ],
                [
                  "47841",
                  "Kain Lap Piring Anti Minyak Bahan Microfiber - Kain Lap Dapur",
                  "menyerap air dgn baik , cuman ukurannya kecil banget jd kalau untuk mengeringkan banyak piring butuh lebih dr satu",
                  "1"
                ],
                [
                  "47842",
                  "Kain Lap Piring Anti Minyak Bahan Microfiber - Kain Lap Dapur",
                  "seller responsif , order diproses segera dan kirim tiba tepat waktu bahan lap sangat baik menyerap air ukuran pas utk dapur terima kasih",
                  "1"
                ],
                [
                  "47843",
                  "KANTONG PLASTIK SAMPAH UKURAN 60x100 & 90x120 cm - 60x100",
                  "mantul banget response dan pelayanan seller ini lho dalam kurun waktu 1 hari paketnya tiba di rumah , sepertinya tahu aja kalo emang ditungguin",
                  "1"
                ],
                [
                  "47844",
                  "KANTONG PLASTIK SAMPAH UKURAN 60x100 & 90x120 cm - 60x101",
                  "kantong sampahnya tebel , ga bocor rembes kualitas oke banget saya selalu beli disini",
                  "1"
                ],
                [
                  "47845",
                  "KANTONG PLASTIK SAMPAH UKURAN 60x100 & 90x120 cm - 60x102",
                  "plastik yang uk , itu tebel bnget bagus agak tipis pengiriman cepat lumayan thanks",
                  "1"
                ],
                [
                  "47846",
                  "Alat PEL Lantai Otomatis SAMONO Clear Mop Alat Pel Praktis SCM002",
                  "fix aku cinta sama ini produk bahannya solid , dan bekerja sesuai deskripsi bakal beli lagi",
                  "1"
                ],
                [
                  "47847",
                  "Alat PEL Lantai Otomatis SAMONO Clear Mop Alat Pel Praktis SCM003",
                  "bagus banget , harganya murah tp kualitasnya ternyata designnya juga keren en berfungsi sesuai iklannya recommended pengiriman jg cepat dan aman thx ya",
                  "1"
                ],
                [
                  "47848",
                  "Alat PEL Lantai Otomatis SAMONO Clear Mop Alat Pel Praktis SCM004",
                  "ringan bgt , enak dipakainya dan batang pel nya kokoh ga nyangka harga semurah ini tp kualitasnya bagus an bs mutar derajat bikin gampang ngepelnya harus manuver belok pegal",
                  "1"
                ],
                [
                  "47849",
                  "Set Sapu Pengki Sekop Sampah Lipat Kombinasi Sapum Broom Set D63 - Putih D63",
                  "barang sdh nyampe dgn baik , senang banget terima paketnya semoga sapunya awet kasih bersih rumah rapi bebas debu",
                  "1"
                ],
                [
                  "47850",
                  "Set Sapu Pengki Sekop Sampah Lipat Kombinasi Sapum Broom Set D63 - Putih D64",
                  "respon dan pengiriman cepat , barang sesuai pesanan lengkap tidak ada yang patah atau pecah hanya pengemasannya sangat aman",
                  "1"
                ],
                [
                  "47851",
                  "Set Sapu Pengki Sekop Sampah Lipat Kombinasi Sapum Broom Set D63 - Putih D65",
                  "gagang sapu terlalu pendek , packaging kurang rapi dan aman tapi so far brg sampe dgn selamat",
                  "1"
                ],
                [
                  "47852",
                  "Rak Sepatu Sendal Susun Amazing Shoe Rack Tempat Penyimpanan Sepatu",
                  "raknya bagus , simpel walau masangnya agak susah pengiriman cepat recomended",
                  "1"
                ],
                [
                  "47853",
                  "Pel Lantai Spray Super Mop Alat Pembersih Lantai Pel Pembersih A69",
                  "bersih dari debu , sekali jalan bagus dan pengiriman ok sih rapi dlm box",
                  "1"
                ],
                [
                  "47854",
                  "Pel Lantai Spray Super Mop Alat Pembersih Lantai Pel Pembersih A70",
                  "mantaap , semoga awet murah meriah tp fungsi nya sangat mbantu sekali utk pekerjaan rumah lbh irit pemakaian superpel jadi",
                  "1"
                ],
                [
                  "47855",
                  "Pel Lantai Spray Super Mop Alat Pembersih Lantai Pel Pembersih A71",
                  "paketnya udah dibubble wrap tapi tetep aja penyok , syukur dalemnya gpp berfungsi dengan baik entah nggak disemprot aernya rembes ke lantai untuk qualitynya oke sesuai harga lah",
                  "1"
                ],
                [
                  "47856",
                  "Rak Sepatu Amazing Multifungsi Shoes Rack & Gantungan Hijab - HITAM - Putih",
                  "bahannya kuat dan kokoh meski berat bebannya packingnya rapi ngga rusak atau cacat pengirimannya cepat barangnga original",
                  "1"
                ],
                [
                  "47857",
                  "Sofa Recliner Lulaby 1 Seater",
                  "seller komunikatif dan koperatif , harga kompetitif kursi sangat nyaman dipakai apalagi untuk wfh harapan saya semoga barangnya kuat awet",
                  "1"
                ],
                [
                  "47858",
                  "Sofa Recliner Lulaby 1 Seater",
                  "sesuai pic dan bisa disetting rebahannya kemauan kita , walaupun tdk otomatis krn harus agak didorong ndak nguncitp overall nyaman",
                  "1"
                ],
                [
                  "47859",
                  "Sofa Recliner Lulaby 1 Seater",
                  "puas banget dengan sofanya , bagus dan adminnya sangat membantu saya minta tolong sebelum tahun baru benar hari ini barang langsung sampai terima kasih banyak",
                  "1"
                ],
                [
                  "47860",
                  "Payung ajaib 3D lipat payung magic keluar motif bila kena air pink - Ungu",
                  "pesennya tosca , yg datang ungu hehehe tp soal produk tdk diragukan lg memuaskan kualitas product bagus",
                  "1"
                ],
                [
                  "47861",
                  "Payung ajaib 3D lipat payung magic keluar motif bila kena air pink - Ungu",
                  "masyaallah bagus payung nya , untuk pertama kali gunain tokopedia langsung beli ditoko ini tidak mengecewakan pokok barang",
                  "1"
                ],
                [
                  "47862",
                  "Payung ajaib 3D lipat payung magic keluar motif bila kena air pink - Ungu",
                  "payungnya bagus , tapi warnanya seharusnya yg ungu dtg pink btw terima kasih buat hadiah pembelian pertamanya kualitas product recomended material",
                  "1"
                ],
                [
                  "47863",
                  "Handuk Merah Putih 50x100 cm / Handuk Mandi / High Quality Towel",
                  "sudah sampai ya handuknya , pengiriman cepat harga bersaing kualitas bagus cocok buat traveling atau ganti warnanya sesuai yg diminta cerah proses pake antar aja ramah kurirnya terimakasih seller toped dan salam sehat sukses yaa",
                  "1"
                ],
                [
                  "47864",
                  "Handuk Merah Putih 50x100 cm / Handuk Mandi / High Quality Towel",
                  "handuk cantik , material bagus harga terjangkau thanks traktirannya tokped handuknya lumayan mau upload foto keterangan eror mulu",
                  "1"
                ],
                [
                  "47865",
                  "GM Bear Alat Pel Lantai Ultra Mop Aclima 1354-Spin Mop Mint",
                  "pel nya lebih kecil dibanding dengn spin mop merk lain jadi kalo nyimpen ga ngabisin banyak space , bahan lumayan tebel",
                  "1"
                ],
                [
                  "47866",
                  "GM Bear Alat Pel Lantai Ultra Mop Aclima 1354-Spin Mop Mint",
                  "barang dateng dengan kondisi baik , pengiriman sesuai estimasi dan seller fast respon terima kasih",
                  "1"
                ],
                [
                  "47867",
                  "COOGER Sikat toilet bisa dipasang di dinding - Sikat Pembersih Toilet",
                  "harga terjangkau , produk sesuai kualitas sangat bagus pengiriman cukup responsif terima kasih yaa sehat selalu utk seller dan team",
                  "1"
                ],
                [
                  "47868",
                  "COOGER Sikat toilet bisa dipasang di dinding - Sikat Pembersih Toilet",
                  "alhamdulillah , produk ini sangat membantu yang biasanya membersihkan wc pakai sikat berisik kerak tertinggal pada kelihatan kotor sekarang tergantikan dengan cooger toilet bahan karetnya saya disegala waktu tidak lagi membangunkan anak masih bayi karena bunyi saat ember mandi bahkan bisa diselasela bagian dalam dudukan dijangkau konvensional sedikit tips untuk menempelkan ke dinding keramik kamar setelah dibersihkan lap keringtisu kering ditambahkan hair dryerkorek api dibagian akan ditempel perekatnya cara menempelkannya seperti memasang pelindung kaca layar hp dikeluarkan udara didalamnya atasbagian bawah tergantung mana duluan gosok jarikuku sampai ada didalam emang sesuai sama slogannya rekomended jelas",
                  "1"
                ],
                [
                  "47869",
                  "COOGER Sikat toilet bisa dipasang di dinding - Sikat Pembersih Toilet",
                  "alhamdulillah barang datang dengan kondisi baik , tidak penyok tdk retak atau patah dan barangny sesuai dgn foto bahan produk jg bagus seller fast respon thanx",
                  "1"
                ],
                [
                  "47870",
                  "MINISO Kotak Penyimpanan Dengan Tutup Kotak Penyimpanan Kapasitas Besa - Clear, large size",
                  "pengemasan cepet banget dan sangat baik , pengiriman jgn diragukan bgt pake instant bener instan jam 9 pesen sampe mantul produk kualitas bagus",
                  "1"
                ],
                [
                  "47871",
                  "MINISO Kotak Penyimpanan Dengan Tutup Kotak Penyimpanan Kapasitas Besa - Clear, large size",
                  "produk sesuai , material bagus cocok untuk di jadikan tmpt penyimpanan masker jadi lbh rapi dan enak lihat gampang mengambil",
                  "1"
                ],
                [
                  "47872",
                  "MIISOO Kotak Masker/Tempat Masker Plastik/Kotak Masker Karakter - KOTAK POLOS",
                  "barang sesuai dengan pesanan , kotak maskernya lucu terima kasih",
                  "1"
                ],
                [
                  "47873",
                  "Jam Meja Digital Alarm LED Mirror Clock - Putih-Putih",
                  "mantap keren , cuma harus colok listrik kalau mau pakai fitur alwayson pake batre a 3biji dipencet dulu baru nyala",
                  "1"
                ],
                [
                  "47874",
                  "Jam Meja Digital Alarm LED Mirror Clock - Putih-Putih",
                  "berfungsi seluruh fiturnya dan juga tombolnya , jamnya bisa diatur dengan mudah designya minimalis yang sangat bagus",
                  "1"
                ],
                [
                  "47875",
                  "Jam Meja Digital Alarm LED Mirror Clock - Putih-Putih",
                  "produknya bagus , pengiriman cepat fast respost saran aja bagi pembeli klau buka pelastik pembungkus kaca jamnya pelannya overall this store are positive thank you",
                  "1"
                ],
                [
                  "47876",
                  "Jam Meja Digital Alarm LED Mirror Clock - Putih-Putih",
                  "barang bagus sesuai deskripsi , tinggal setting kertas petunjuk pengiriman cuma sehari pdahal kalo mati bakal ke reset ulang mantap",
                  "1"
                ],
                [
                  "47877",
                  "Triple W Smart LED Digital Alarm Clock Jam Meja Weker Lampu Tidur - Hitam",
                  "wekernya bagus , gampang settingnya baca petunjuk jangan males rgb lightingnya juga masuk di body warna hitamnya barangnya irit space dan yang paling penting angka led nya kebaca waktu terang",
                  "1"
                ],
                [
                  "47878",
                  "Triple W Smart LED Digital Alarm Clock Jam Meja Weker Lampu Tidur - Hitam",
                  "bagus nih , sensor nya ok bgt pilihan suara utk alarm jg oke lah akirnya dpt clock yg sesuai",
                  "1"
                ],
                [
                  "47879",
                  "Triple W Smart LED Digital Alarm Clock Jam Meja Weker Lampu Tidur - Hitam",
                  "ahannya bagus , model juga unik cakep adminnya sangat ramah serta cepat responnya terima kasih triple w official",
                  "1"
                ],
                [
                  "47880",
                  "Triple W Smart LED Digital Alarm Clock Jam Meja Weker Lampu Tidur - Hitam",
                  "jam digital unik ini lebih ke fungsi alaram yg lengkap , syg tdk ad penunjuk tgl bln dan tahun petunjuk di deskripsi sangat membantu permudah mengenal alarm respon penjual pengiriman cepat thanks",
                  "1"
                ],
                [
                  "47881",
                  "UCHII Air Diffuser Aroma Therapy w/ Electric Night Bluetooth Speaker",
                  "pengiriman cepat , packing rapi dan aman kardus tebal plus bubble wrap barang sudah dicoba semua berfungsi dengan baik thank you so much seller",
                  "1"
                ]
              ],
              "shape": {
                "columns": 3,
                "rows": 100
              }
            },
            "text/html": [
              "<div>\n",
              "<style scoped>\n",
              "    .dataframe tbody tr th:only-of-type {\n",
              "        vertical-align: middle;\n",
              "    }\n",
              "\n",
              "    .dataframe tbody tr th {\n",
              "        vertical-align: top;\n",
              "    }\n",
              "\n",
              "    .dataframe thead th {\n",
              "        text-align: right;\n",
              "    }\n",
              "</style>\n",
              "<table border=\"1\" class=\"dataframe\">\n",
              "  <thead>\n",
              "    <tr style=\"text-align: right;\">\n",
              "      <th></th>\n",
              "      <th>product_id</th>\n",
              "      <th>ulasan</th>\n",
              "      <th>rating</th>\n",
              "    </tr>\n",
              "  </thead>\n",
              "  <tbody>\n",
              "    <tr>\n",
              "      <th>47832</th>\n",
              "      <td>Bantal Tidur | The Luxe Pillow Dacron - random</td>\n",
              "      <td>barang nya sesuai yang di foto dan ternyata kualitasnya jauh lebih baik banding saya pikirkan</td>\n",
              "      <td>1</td>\n",
              "    </tr>\n",
              "    <tr>\n",
              "      <th>47833</th>\n",
              "      <td>Bantal Tidur | The Luxe Pillow Dacron - random</td>\n",
              "      <td>bahan nyan lembut dan empuk enak tidur jadi lebih gak pegel lagi pas bangun bye salah bantal , material bagus halus ukuran sesuai banget harga terjangkau</td>\n",
              "      <td>1</td>\n",
              "    </tr>\n",
              "    <tr>\n",
              "      <th>47834</th>\n",
              "      <td>MINISO Tempat/ Tong Sampah Plastik Meja Mini Trash Bin Garbage - Hijau</td>\n",
              "      <td>kualitas product bagus , material recomended terimakasih untuk tokopedia dan miniso karena saya dapat tong sampah plastik nya gratis semoga berkah sampai dalam keadaan utuh masih serta nyaman digunakan mungil juga bahan lembut soft doft yaa jadi kalau dimainkan anak tidak akan melukai apabila rusak seperti pecah awet menemaniku hari yang datang</td>\n",
              "      <td>1</td>\n",
              "    </tr>\n",
              "    <tr>\n",
              "      <th>47835</th>\n",
              "      <td>MINISO Tempat/ Tong Sampah Plastik Meja Mini Trash Bin Garbage - Hijau</td>\n",
              "      <td>rumah rapi dan nyaman , rekomen material produk bagus sesuai murah respon seller kiriman cepat packingnya sangat aman banyak cashback cashbacknya bisa buat belanja yang lain lagi gratis ongkir pastinya bahannya lumayan oke lah pokoknya demikian ulasan saya tidak terlalu panjang lebar mungkin cukup sampai sini aja kali ya terimakasih sudah menyimak review sekian ucapkan ingat tetap patuhi protokol kesehatan gunakan masker jaga jarak</td>\n",
              "      <td>1</td>\n",
              "    </tr>\n",
              "    <tr>\n",
              "      <th>47836</th>\n",
              "      <td>MINISO Tempat/ Tong Sampah Plastik Meja Mini Trash Bin Garbage - Hijau</td>\n",
              "      <td>pas banget ukurannya buat gantiin tempat sampah lama , barang bagus warna cantik miniso ga pernah ngecewain sihkualitas product material harga terjangkau recomended</td>\n",
              "      <td>1</td>\n",
              "    </tr>\n",
              "    <tr>\n",
              "      <th>...</th>\n",
              "      <td>...</td>\n",
              "      <td>...</td>\n",
              "      <td>...</td>\n",
              "    </tr>\n",
              "    <tr>\n",
              "      <th>47927</th>\n",
              "      <td>PCK-01 Penjepit Barang / Pickup Tool Ver.1 Alat Capit Pemungut Sampah</td>\n",
              "      <td>harga bersaing , barang sesuai pesanan saya nambah extra packing kardus dan bubble wrap supaya aman benar sampai dengan selamat alhamdulillaah sengaja beli tujuan untuk mungut sampah puntung rokok tanyakan ke seller apakah bisa kemudian menjawab setelah tes berhasil memakainya mudah hanya saja lumayan juga ya ternyata beratnya kalo sudah lama megangnya pegel hehe anyways terima kasih</td>\n",
              "      <td>1</td>\n",
              "    </tr>\n",
              "    <tr>\n",
              "      <th>47928</th>\n",
              "      <td>Ultrasonic Aroma Diffuser Humidifier Colorful LED 300ml+remote</td>\n",
              "      <td>beli ini krn anak istri mau liburan di jakarta , cari ketemu toko dengan harga yg masih ramah kantong untuk pelayanan bagus cepet packaging nya juga rapih aman banget recomended seller difusser berfungsi baik kualitas diffuser sendiri termasuk kokoh ya segini puas benget sih pas udah nyobain semoga bisa tahan lama</td>\n",
              "      <td>1</td>\n",
              "    </tr>\n",
              "    <tr>\n",
              "      <th>47929</th>\n",
              "      <td>Ultrasonic Aroma Diffuser Humidifier Colorful LED 300ml+remote</td>\n",
              "      <td>pengemasan barang baik , kondisi jg utuh tanpa cacat berfungsi normal dan lancar respon servis dari seler juga</td>\n",
              "      <td>1</td>\n",
              "    </tr>\n",
              "    <tr>\n",
              "      <th>47930</th>\n",
              "      <td>Ultrasonic Aroma Diffuser Humidifier Colorful LED 300ml+remote</td>\n",
              "      <td>mungil tapi bekerja dng baik , dan murahh terjangkau pas kebutuhan</td>\n",
              "      <td>1</td>\n",
              "    </tr>\n",
              "    <tr>\n",
              "      <th>47931</th>\n",
              "      <td>TDS Meter 3 Alat Ukur Hidroponik Air Aquarium ppm nutrisi Kolam TDS-3 - TDS 3 Meter</td>\n",
              "      <td>produk sesuai deskripsi , packing aman terlindung pengiriman cepat toko penjual responsif alat sudah dicoba dan berfungsi sangat direkomendasikan</td>\n",
              "      <td>1</td>\n",
              "    </tr>\n",
              "  </tbody>\n",
              "</table>\n",
              "<p>100 rows × 3 columns</p>\n",
              "</div>"
            ],
            "text/plain": [
              "                                                                                product_id  \\\n",
              "47832                                       Bantal Tidur | The Luxe Pillow Dacron - random   \n",
              "47833                                       Bantal Tidur | The Luxe Pillow Dacron - random   \n",
              "47834               MINISO Tempat/ Tong Sampah Plastik Meja Mini Trash Bin Garbage - Hijau   \n",
              "47835               MINISO Tempat/ Tong Sampah Plastik Meja Mini Trash Bin Garbage - Hijau   \n",
              "47836               MINISO Tempat/ Tong Sampah Plastik Meja Mini Trash Bin Garbage - Hijau   \n",
              "...                                                                                    ...   \n",
              "47927                PCK-01 Penjepit Barang / Pickup Tool Ver.1 Alat Capit Pemungut Sampah   \n",
              "47928                       Ultrasonic Aroma Diffuser Humidifier Colorful LED 300ml+remote   \n",
              "47929                       Ultrasonic Aroma Diffuser Humidifier Colorful LED 300ml+remote   \n",
              "47930                       Ultrasonic Aroma Diffuser Humidifier Colorful LED 300ml+remote   \n",
              "47931  TDS Meter 3 Alat Ukur Hidroponik Air Aquarium ppm nutrisi Kolam TDS-3 - TDS 3 Meter   \n",
              "\n",
              "                                                                                                                                                                                                                                                                                                                                                                                                                                                    ulasan  \\\n",
              "47832                                                                                                                                                                                                                                                                                                                                                        barang nya sesuai yang di foto dan ternyata kualitasnya jauh lebih baik banding saya pikirkan   \n",
              "47833                                                                                                                                                                                                                                                                                            bahan nyan lembut dan empuk enak tidur jadi lebih gak pegel lagi pas bangun bye salah bantal , material bagus halus ukuran sesuai banget harga terjangkau   \n",
              "47834                                                                                           kualitas product bagus , material recomended terimakasih untuk tokopedia dan miniso karena saya dapat tong sampah plastik nya gratis semoga berkah sampai dalam keadaan utuh masih serta nyaman digunakan mungil juga bahan lembut soft doft yaa jadi kalau dimainkan anak tidak akan melukai apabila rusak seperti pecah awet menemaniku hari yang datang   \n",
              "47835  rumah rapi dan nyaman , rekomen material produk bagus sesuai murah respon seller kiriman cepat packingnya sangat aman banyak cashback cashbacknya bisa buat belanja yang lain lagi gratis ongkir pastinya bahannya lumayan oke lah pokoknya demikian ulasan saya tidak terlalu panjang lebar mungkin cukup sampai sini aja kali ya terimakasih sudah menyimak review sekian ucapkan ingat tetap patuhi protokol kesehatan gunakan masker jaga jarak   \n",
              "47836                                                                                                                                                                                                                                                                                 pas banget ukurannya buat gantiin tempat sampah lama , barang bagus warna cantik miniso ga pernah ngecewain sihkualitas product material harga terjangkau recomended   \n",
              "...                                                                                                                                                                                                                                                                                                                                                                                                                                                    ...   \n",
              "47927                                                   harga bersaing , barang sesuai pesanan saya nambah extra packing kardus dan bubble wrap supaya aman benar sampai dengan selamat alhamdulillaah sengaja beli tujuan untuk mungut sampah puntung rokok tanyakan ke seller apakah bisa kemudian menjawab setelah tes berhasil memakainya mudah hanya saja lumayan juga ya ternyata beratnya kalo sudah lama megangnya pegel hehe anyways terima kasih   \n",
              "47928                                                                                                                          beli ini krn anak istri mau liburan di jakarta , cari ketemu toko dengan harga yg masih ramah kantong untuk pelayanan bagus cepet packaging nya juga rapih aman banget recomended seller difusser berfungsi baik kualitas diffuser sendiri termasuk kokoh ya segini puas benget sih pas udah nyobain semoga bisa tahan lama   \n",
              "47929                                                                                                                                                                                                                                                                                                                                       pengemasan barang baik , kondisi jg utuh tanpa cacat berfungsi normal dan lancar respon servis dari seler juga   \n",
              "47930                                                                                                                                                                                                                                                                                                                                                                                   mungil tapi bekerja dng baik , dan murahh terjangkau pas kebutuhan   \n",
              "47931                                                                                                                                                                                                                                                                                                    produk sesuai deskripsi , packing aman terlindung pengiriman cepat toko penjual responsif alat sudah dicoba dan berfungsi sangat direkomendasikan   \n",
              "\n",
              "       rating  \n",
              "47832       1  \n",
              "47833       1  \n",
              "47834       1  \n",
              "47835       1  \n",
              "47836       1  \n",
              "...       ...  \n",
              "47927       1  \n",
              "47928       1  \n",
              "47929       1  \n",
              "47930       1  \n",
              "47931       1  \n",
              "\n",
              "[100 rows x 3 columns]"
            ]
          },
          "execution_count": 57,
          "metadata": {},
          "output_type": "execute_result"
        }
      ],
      "source": [
        "df4.tail(100)"
      ]
    },
    {
      "cell_type": "code",
      "execution_count": 58,
      "metadata": {
        "id": "oJW9NNRusmkN"
      },
      "outputs": [],
      "source": [
        "import numpy as np\n",
        "df4['ulasan'] = df4['ulasan'].apply(lambda x: np.nan if isinstance(x, str) and len(x.strip()) == 0 else x)"
      ]
    },
    {
      "cell_type": "code",
      "execution_count": 59,
      "metadata": {
        "colab": {
          "base_uri": "https://localhost:8080/",
          "height": 178
        },
        "id": "Mi1ZnjFPsePF",
        "outputId": "07dd0af3-d709-4fce-9fbd-f545018ce2c6"
      },
      "outputs": [
        {
          "data": {
            "text/plain": [
              "product_id      0\n",
              "ulasan        134\n",
              "rating          0\n",
              "dtype: int64"
            ]
          },
          "execution_count": 59,
          "metadata": {},
          "output_type": "execute_result"
        }
      ],
      "source": [
        "df4.isna().sum()"
      ]
    },
    {
      "cell_type": "code",
      "execution_count": 60,
      "metadata": {
        "id": "_ckWIDmlsrHY"
      },
      "outputs": [],
      "source": [
        "df4.dropna(subset='ulasan', inplace=True)"
      ]
    },
    {
      "cell_type": "code",
      "execution_count": 61,
      "metadata": {
        "colab": {
          "base_uri": "https://localhost:8080/"
        },
        "id": "5GyLKEB3gC1n",
        "outputId": "7d767d55-6a54-482d-d0a8-b371eada1051"
      },
      "outputs": [
        {
          "name": "stdout",
          "output_type": "stream",
          "text": [
            "<class 'pandas.core.frame.DataFrame'>\n",
            "Index: 47798 entries, 0 to 47931\n",
            "Data columns (total 3 columns):\n",
            " #   Column      Non-Null Count  Dtype \n",
            "---  ------      --------------  ----- \n",
            " 0   product_id  47798 non-null  object\n",
            " 1   ulasan      47798 non-null  object\n",
            " 2   rating      47798 non-null  int64 \n",
            "dtypes: int64(1), object(2)\n",
            "memory usage: 1.5+ MB\n"
          ]
        }
      ],
      "source": [
        "df4.info()"
      ]
    },
    {
      "cell_type": "code",
      "execution_count": 62,
      "metadata": {
        "colab": {
          "base_uri": "https://localhost:8080/",
          "height": 206
        },
        "id": "-EdIKWq3Z_pz",
        "outputId": "a9a73421-a9ff-41bd-dfe8-0f63686a4369"
      },
      "outputs": [
        {
          "data": {
            "application/vnd.microsoft.datawrangler.viewer.v0+json": {
              "columns": [
                {
                  "name": "index",
                  "rawType": "int64",
                  "type": "integer"
                },
                {
                  "name": "product_id",
                  "rawType": "object",
                  "type": "string"
                },
                {
                  "name": "ulasan",
                  "rawType": "object",
                  "type": "string"
                },
                {
                  "name": "rating",
                  "rawType": "int64",
                  "type": "integer"
                }
              ],
              "conversionMethod": "pd.DataFrame",
              "ref": "5c6fb09c-c225-46d3-84a8-fac4be94ec89",
              "rows": [
                [
                  "0",
                  "133507638",
                  "pesanan gx sesuai dgn yg d gambar",
                  "0"
                ],
                [
                  "1",
                  "133507638",
                  "pengiriman dan respon super cepat , tpi barang tidak sesuai gambar kuat untuk menembus jok motor",
                  "0"
                ],
                [
                  "2",
                  "133507638",
                  "barang yg dikirim tidak sesuai pesanan",
                  "0"
                ],
                [
                  "3",
                  "88842566",
                  "php , bilang isi ada diseskripsi pas dipesen berbeda mubajir ternyata isinya ga cocok",
                  "0"
                ],
                [
                  "4",
                  "209226141",
                  "barang jelek terus tmpat taro isinya",
                  "0"
                ]
              ],
              "shape": {
                "columns": 3,
                "rows": 5
              }
            },
            "text/html": [
              "<div>\n",
              "<style scoped>\n",
              "    .dataframe tbody tr th:only-of-type {\n",
              "        vertical-align: middle;\n",
              "    }\n",
              "\n",
              "    .dataframe tbody tr th {\n",
              "        vertical-align: top;\n",
              "    }\n",
              "\n",
              "    .dataframe thead th {\n",
              "        text-align: right;\n",
              "    }\n",
              "</style>\n",
              "<table border=\"1\" class=\"dataframe\">\n",
              "  <thead>\n",
              "    <tr style=\"text-align: right;\">\n",
              "      <th></th>\n",
              "      <th>product_id</th>\n",
              "      <th>ulasan</th>\n",
              "      <th>rating</th>\n",
              "    </tr>\n",
              "  </thead>\n",
              "  <tbody>\n",
              "    <tr>\n",
              "      <th>0</th>\n",
              "      <td>133507638</td>\n",
              "      <td>pesanan gx sesuai dgn yg d gambar</td>\n",
              "      <td>0</td>\n",
              "    </tr>\n",
              "    <tr>\n",
              "      <th>1</th>\n",
              "      <td>133507638</td>\n",
              "      <td>pengiriman dan respon super cepat , tpi barang tidak sesuai gambar kuat untuk menembus jok motor</td>\n",
              "      <td>0</td>\n",
              "    </tr>\n",
              "    <tr>\n",
              "      <th>2</th>\n",
              "      <td>133507638</td>\n",
              "      <td>barang yg dikirim tidak sesuai pesanan</td>\n",
              "      <td>0</td>\n",
              "    </tr>\n",
              "    <tr>\n",
              "      <th>3</th>\n",
              "      <td>88842566</td>\n",
              "      <td>php , bilang isi ada diseskripsi pas dipesen berbeda mubajir ternyata isinya ga cocok</td>\n",
              "      <td>0</td>\n",
              "    </tr>\n",
              "    <tr>\n",
              "      <th>4</th>\n",
              "      <td>209226141</td>\n",
              "      <td>barang jelek terus tmpat taro isinya</td>\n",
              "      <td>0</td>\n",
              "    </tr>\n",
              "  </tbody>\n",
              "</table>\n",
              "</div>"
            ],
            "text/plain": [
              "  product_id  \\\n",
              "0  133507638   \n",
              "1  133507638   \n",
              "2  133507638   \n",
              "3   88842566   \n",
              "4  209226141   \n",
              "\n",
              "                                                                                             ulasan  \\\n",
              "0                                                                 pesanan gx sesuai dgn yg d gambar   \n",
              "1  pengiriman dan respon super cepat , tpi barang tidak sesuai gambar kuat untuk menembus jok motor   \n",
              "2                                                            barang yg dikirim tidak sesuai pesanan   \n",
              "3             php , bilang isi ada diseskripsi pas dipesen berbeda mubajir ternyata isinya ga cocok   \n",
              "4                                                              barang jelek terus tmpat taro isinya   \n",
              "\n",
              "   rating  \n",
              "0       0  \n",
              "1       0  \n",
              "2       0  \n",
              "3       0  \n",
              "4       0  "
            ]
          },
          "execution_count": 62,
          "metadata": {},
          "output_type": "execute_result"
        }
      ],
      "source": [
        "df4.head()"
      ]
    },
    {
      "cell_type": "code",
      "execution_count": 63,
      "metadata": {
        "colab": {
          "base_uri": "https://localhost:8080/",
          "height": 209
        },
        "id": "i_PXD0ApXOL7",
        "outputId": "3b2c179d-d1e1-4095-af05-8e83ff0628fb"
      },
      "outputs": [
        {
          "data": {
            "text/plain": [
              "rating\n",
              "1    41274\n",
              "0     6524\n",
              "Name: count, dtype: int64"
            ]
          },
          "execution_count": 63,
          "metadata": {},
          "output_type": "execute_result"
        }
      ],
      "source": [
        "df4['rating'].value_counts()"
      ]
    },
    {
      "cell_type": "code",
      "execution_count": 64,
      "metadata": {},
      "outputs": [],
      "source": [
        "# df4.to_csv('df_uncomppacted_unnormallized_for pretrain_indoT5.csv',index=False)"
      ]
    },
    {
      "cell_type": "markdown",
      "metadata": {},
      "source": [
        "### concating row, untuk product_id dan rating yang sama"
      ]
    },
    {
      "cell_type": "code",
      "execution_count": 65,
      "metadata": {},
      "outputs": [],
      "source": [
        "df5 = df4.copy()"
      ]
    },
    {
      "cell_type": "code",
      "execution_count": 66,
      "metadata": {},
      "outputs": [
        {
          "name": "stdout",
          "output_type": "stream",
          "text": [
            "<class 'pandas.core.frame.DataFrame'>\n",
            "Index: 47798 entries, 0 to 47931\n",
            "Data columns (total 3 columns):\n",
            " #   Column      Non-Null Count  Dtype \n",
            "---  ------      --------------  ----- \n",
            " 0   product_id  47798 non-null  object\n",
            " 1   ulasan      47798 non-null  object\n",
            " 2   rating      47798 non-null  int64 \n",
            "dtypes: int64(1), object(2)\n",
            "memory usage: 1.5+ MB\n"
          ]
        }
      ],
      "source": [
        "df5.info()"
      ]
    },
    {
      "cell_type": "code",
      "execution_count": 67,
      "metadata": {},
      "outputs": [
        {
          "data": {
            "application/vnd.microsoft.datawrangler.viewer.v0+json": {
              "columns": [
                {
                  "name": "index",
                  "rawType": "int64",
                  "type": "integer"
                },
                {
                  "name": "product_id",
                  "rawType": "object",
                  "type": "string"
                },
                {
                  "name": "ulasan",
                  "rawType": "object",
                  "type": "string"
                },
                {
                  "name": "rating",
                  "rawType": "int64",
                  "type": "integer"
                }
              ],
              "conversionMethod": "pd.DataFrame",
              "ref": "9f333654-4fc4-4135-9646-d06e559d75ac",
              "rows": [
                [
                  "47432",
                  "Puzzle evamat polos - Tikar evamat - Alas Main Anak-Karpet Puzzle eva - Hitam",
                  "sy sudah pesan kemarin 2 paket , itu yang bagus jadi tambah 1 pket lagi ininya kotol dan rusak",
                  "0"
                ],
                [
                  "47433",
                  "Puzzle evamat polos - Tikar evamat - Alas Main Anak-Karpet Puzzle eva - Hitam",
                  "pesan hijau , yg dtg hitam",
                  "0"
                ],
                [
                  "47434",
                  "Puzzle evamat polos - Tikar evamat - Alas Main Anak-Karpet Puzzle eva - Hitam",
                  "sangat kecewa dengan pelayanan nya",
                  "0"
                ],
                [
                  "47435",
                  "Kodomo Baby Tisu Basah Anti Bacterial 50 sheets",
                  "dikirimnya lama",
                  "0"
                ],
                [
                  "47436",
                  "Kodomo Baby Tisu Basah Anti Bacterial 50 sheets",
                  "beli sabtu , proses senin kirim selasa rabu sampai padahal ada minggu nyampe gak lagi disin",
                  "0"
                ],
                [
                  "47437",
                  "Kodomo Baby Tisu Basah Anti Bacterial 50 sheets",
                  "layanan pengiriman kurang memuaskan , kardus dlm keadaan penyok untung bagian dalam tidak pecah secara saya order product cair",
                  "0"
                ],
                [
                  "47438",
                  "Merries Pants Positive Skin L 35",
                  "alamak , buset packingnya kurang rapi di bungkus plastik putih transparan aja harusnya hitam biar rapih",
                  "0"
                ],
                [
                  "47439",
                  "Merries Pants Positive Skin L 36",
                  "pengemasan cepat pngrimn , produknyq beda kualitasnya yg ini kapasnya tipis bgt dan bocor klihatn nerwang gx rata kpasnya d tgh ada pnts murah yahh kemasn jg bolong biasanya sya beli kya gni amet maaf ksh bntang 2",
                  "0"
                ],
                [
                  "47440",
                  "Merries Pants Positive Skin L 37",
                  "ampun dibngkus pake plastik bening , jdi malu krn diperumahan ada yg jual tp mlh beli online soalnya paket dtng ditaruh di kursi pos satpam khusus buat semua seperumahanmikir klo mau disini lgi",
                  "0"
                ],
                [
                  "47441",
                  "Merries Pants Positive Skin L 38",
                  "gak ada packingnya blas cuma di kasih tempelan doang",
                  "0"
                ],
                [
                  "47442",
                  "Merries Pants Positive Skin L 39",
                  "packingnya kurang memuaskan",
                  "0"
                ],
                [
                  "47443",
                  "Merries Pants Positive Skin L 40",
                  "pengiriman dibungkus plastik bening doang",
                  "0"
                ],
                [
                  "47444",
                  "Mamaway Korset Pelangsing Pasca Melahirkan Nano Bamboo - Abu-abu,M",
                  "saya bru pakai 4 hari tp sdh berbulu dan kelipet ,",
                  "0"
                ],
                [
                  "47445",
                  "Mamaway Korset Pelangsing Pasca Melahirkan Nano Bamboo - Abu-abu,M",
                  "klaim produknya tdk mengkerut , trnyata baru bbrp hari dipake korsetnya bikin ga nyaman sadd",
                  "0"
                ],
                [
                  "47446",
                  "Mamaway Korset Pelangsing Pasca Melahirkan Nano Bamboo - Abu-abu,M",
                  "maaf ganti ulasan , hasil dr produk stlh brp minggu dipake ga worth it segi harga yg mehong buang duit",
                  "0"
                ],
                [
                  "47447",
                  "Mamaway Korset Pelangsing Pasca Melahirkan Nano Bamboo - Abu-abu,M",
                  "harga 1 juta tapi packagingnya cuma pakai selembaran plastik , kebangetan bgt deh huhu sampe dirumah dus korsetnya penyok",
                  "0"
                ],
                [
                  "47448",
                  "Mamaway Korset Pelangsing Pasca Melahirkan Nano Bamboo - Abu-abu,M",
                  "po udah sebulan gak sampai cm d kirim voucher dan di janjikan minggu k 3 bulan juni , cuman sampe skrg udh akhir blm terima juga chat balas",
                  "0"
                ],
                [
                  "47449",
                  "Minyak Telon My baby 150 150ml",
                  "gak pernah saya kasih bintang 1 ke toko manapun , tapi untuk x ini kecewa barang yg minyak kayu putih di kirim semoga berkah ka walau cuma uang sgitu dan lagi belanja amanah",
                  "0"
                ],
                [
                  "47450",
                  "Minyak Telon My baby 150 150ml",
                  "tidak recommended , hanya memikirkan untung keluhan konsumen",
                  "0"
                ],
                [
                  "47451",
                  "Minyak Telon My baby 150 150ml",
                  "kapok beli disini",
                  "0"
                ],
                [
                  "47452",
                  "Minyak Telon My baby 150 150ml",
                  "official store produknya cuman d bungkus plastik sebercanda itu tokopedia lolosin ini toko jadi",
                  "0"
                ],
                [
                  "47453",
                  "Minyak Telon My baby 150 150ml",
                  "barangnya ancur cuman d bungkus plastik , dengan harga segitu kualitas toko official store tp barang terima mah kapok",
                  "0"
                ],
                [
                  "47454",
                  "Minyak Telon My baby 150 150ml",
                  "packing cm kresek tipis jd dus nya rusak gini , kurang recomended cara aplg buat produk yg mudah hadehh kecewa",
                  "0"
                ],
                [
                  "47455",
                  "Minyak Telon My baby 150 150ml",
                  "sangat amat kecewa , tidak layak jual",
                  "0"
                ],
                [
                  "47456",
                  "Minyak Telon My baby 150 150ml",
                  "packingnya cm kresek krg aman , jd pas dateng peot pdhl buat d jual haduhh",
                  "0"
                ],
                [
                  "47457",
                  "Minyak Telon My baby 150 150ml",
                  "produk dikirim tidak lengkap",
                  "0"
                ],
                [
                  "47458",
                  "Minyak Telon My baby 150 150ml",
                  "admin cs nya ga nyambung ditanya apa jawab",
                  "0"
                ],
                [
                  "47459",
                  "Mama's Choice Baby Calming Tummy Oil 55 ml",
                  "kurang cocok utk bayi kulit sensitif , bbrp kali pakai jd beruntusan",
                  "0"
                ],
                [
                  "47460",
                  "Mama's Choice Baby Calming Tummy Oil 55 ml",
                  "botolnya kurang proper , mudah sekali tumpah",
                  "0"
                ],
                [
                  "47461",
                  "Mama's Choice Baby Calming Tummy Oil 55 ml",
                  "negative bgt botol nya , jadi gak praktis tumpah gitu kaya bocor liat review emang masalahnya di ehh ternyata bener parah sih menurut aku botolnya oil lumayan lah",
                  "0"
                ],
                [
                  "47462",
                  "Mama's Choice Baby Calming Tummy Oil 55 ml",
                  "pernah tanya kapan expd nya katanya ternyata exp 202 , kesel aja uda bela belain beli disini yg jauh lebih mahal dr toko lain demi dapet",
                  "0"
                ],
                [
                  "47463",
                  "Transpulmin Baby Balsam - 20gr",
                  "pengiriman lama , kemasan penyok parah",
                  "0"
                ],
                [
                  "47464",
                  "Transpulmin Baby Balsam - 20gr",
                  "belinya transpulmin baby yg sampe kids , sorry dksih bintang 2 biar ada perbaikan kedepannya thx",
                  "0"
                ],
                [
                  "47465",
                  "Transpulmin Baby Balsam - 20gr",
                  "proses konfirmasi lama , chat gk di balas",
                  "0"
                ],
                [
                  "47466",
                  "Transpulmin Baby Balsam - 20gr",
                  "kecewa dan sangat tdk puas dgn pelayanan , sejak tgl setelah order barang saat itu status masih menunggu konfirmasi jadi artinya belum diproses oleh penjual saya melakukan pembatalan karena ingin mengganti produk yg akan beli di toko sama melalu chat sampai 3x untuk minta proses malam hari sebelum tidur pesanan tp kemudian juli 202 pagi mengubah statusnya menjadi tidak berkenan diubah kurir ditanggal tapi 2 dikirim pengiriman terupdate menyalahkan pihak provider baru setelat lapor ke tokopedia",
                  "0"
                ],
                [
                  "47467",
                  "Transpulmin Baby Balsam - 20gr",
                  "adminnya lambat , barang juga tidak sampai di tangan saya setelah menunggu hampir 3 minggu padahal ada transaksi dari beberapa toko hari yang sama dan semuanya sudah maksimal pesan pihak kurir katanya udah diterima keluarga dekat nama penerimanya aja ga kenal terus komplain ke toped baru direspon 2 mggu akhirnya diputuskan untuk direfund",
                  "0"
                ],
                [
                  "47468",
                  "Paket 2 - Nutrilon Royal 3 Susu Pertumbuhan 1-3 Thn Vanila 800gr",
                  "beli dsni sih pengen free giftnya sebenernya , jadi buruan bayar saat masih ada gambar gift lunch bag nya tapi kecewa sangat ternyata pihak penjual baru konfirmasi kalau bagnya telah habis barang udah dlm proses pengantaran dan blg klo d ganti dg lain ehh cuma dapat 2 tumbler dr lactamil jujur padahal bela belain lapak ini krn udh punya royal swimmng pool oyen n biru",
                  "0"
                ],
                [
                  "47469",
                  "Paket 2 - Nutrilon Royal 3 Susu Pertumbuhan 1-3 Thn Vanila 800gr",
                  "barang penyok gaes , klo dari ekspedisi kardus harusnya rusak nah ini kardusnya tebal dan masih mulus returan sy toko sebelah dibalikin lewat toped mana bohong lagi foto yg dikirim ke tokopedia care bukan paket saya untung asuransi mau terima claim jadi hati nutrilon sudah mulai tidak amanah",
                  "0"
                ],
                [
                  "47470",
                  "Paket 2 - Nutrilon Royal 3 Susu Pertumbuhan 1-3 Thn Vanila 800gr",
                  "ga sesuai dengan yg di posting",
                  "0"
                ],
                [
                  "47471",
                  "Paket 2 - Nutrilon Royal 3 Susu Pertumbuhan 1-3 Thn Vanila 800gr",
                  "hadiah gak di kirim , toko offical tapi amanah kapok dah",
                  "0"
                ],
                [
                  "47472",
                  "Paket 2 - Nutrilon Royal 3 Susu Pertumbuhan 1-3 Thn Vanila 800gr",
                  "lain kali lebih teliti , tolong dicek dulu sebelum barang dikirim jgn sampe salah pesan nutrilon 3 sebanyak 2 kaleng tp yg satunya 4",
                  "0"
                ],
                [
                  "47473",
                  "Mama's Choice Active-wear Maternity Legging - Legging Hamil Mama's Cho - Hitam + pengait",
                  "barang pertama yang pesan sama leging dengan kode item , tapi kedua kalinya saya berbeda bahan kecewa sekali",
                  "0"
                ],
                [
                  "47474",
                  "Mama's Choice Active-wear Maternity Legging - Legging Hamil Mama's Cho - Hitam + pengait",
                  "langsung sobek pas pertama kali di pake",
                  "0"
                ],
                [
                  "47475",
                  "Mama's Choice Active-wear Maternity Legging - Legging Hamil Mama's Cho - Hitam + pengait",
                  "baru pakai sekali langsung koyak , bahan tipis pengiriman lama chat ga pernah di bls recommended",
                  "0"
                ],
                [
                  "47476",
                  "Mama's Choice Active-wear Maternity Legging - Legging Hamil Mama's Cho - Hitam + pengait",
                  "ga ngerti kenapa bagian karetnya melilit , dan bisa dilurusin udah nyoba diputerputer tapi tetep sedih asli",
                  "0"
                ],
                [
                  "47477",
                  "Mama's Choice Active-wear Maternity Legging - Legging Hamil Mama's Cho - Hitam + pengait",
                  "baru dipake lngsung sobek , bahanya tipis",
                  "0"
                ],
                [
                  "47478",
                  "Mama's Choice Active-wear Maternity Legging - Legging Hamil Mama's Cho - Hitam + pengait",
                  "kecewa bangett beli dan lgsg bayar di tanggal 1 agustus 202 , skrg 5 september barang masih belum diterima melakukan complaint setelah 2 minggu dr pemesanan krn sabar dipikir ada kendala udh hampir sebulan dibilang follow up terus tiba status pesanan yg tadinya malah selesai ngga paham jdnya ini gimana penyelesaiannya",
                  "0"
                ],
                [
                  "47479",
                  "Mama's Choice Active-wear Maternity Legging - Legging Hamil Mama's Cho - Hitam + pengait",
                  "aduh parah deh kualitasnya , respons konfirmasi order sampe 2 hari paa barang datang baru jg dipakai jam masa bolong pas bagian miss v nya kecewa banget trus bahannya nerawang alias tipis dan pengait perutnya gmpang lepas hadeuh kapok beli produk mamas choice",
                  "0"
                ],
                [
                  "47480",
                  "Mama's Choice Active-wear Maternity Legging - Legging Hamil Mama's Cho - Hitam + pengait",
                  "proses pengiriman lama , bahan tipis",
                  "0"
                ],
                [
                  "47481",
                  "CUIT Setelan Pendek Celana Pendek BLOCK COLOR - Merah, 19",
                  "biasa aja , harga lebih mahal dri toko sebelah",
                  "0"
                ]
              ],
              "shape": {
                "columns": 3,
                "rows": 500
              }
            },
            "text/html": [
              "<div>\n",
              "<style scoped>\n",
              "    .dataframe tbody tr th:only-of-type {\n",
              "        vertical-align: middle;\n",
              "    }\n",
              "\n",
              "    .dataframe tbody tr th {\n",
              "        vertical-align: top;\n",
              "    }\n",
              "\n",
              "    .dataframe thead th {\n",
              "        text-align: right;\n",
              "    }\n",
              "</style>\n",
              "<table border=\"1\" class=\"dataframe\">\n",
              "  <thead>\n",
              "    <tr style=\"text-align: right;\">\n",
              "      <th></th>\n",
              "      <th>product_id</th>\n",
              "      <th>ulasan</th>\n",
              "      <th>rating</th>\n",
              "    </tr>\n",
              "  </thead>\n",
              "  <tbody>\n",
              "    <tr>\n",
              "      <th>47432</th>\n",
              "      <td>Puzzle evamat polos - Tikar evamat - Alas Main Anak-Karpet Puzzle eva - Hitam</td>\n",
              "      <td>sy sudah pesan kemarin 2 paket , itu yang bagus jadi tambah 1 pket lagi ininya kotol dan rusak</td>\n",
              "      <td>0</td>\n",
              "    </tr>\n",
              "    <tr>\n",
              "      <th>47433</th>\n",
              "      <td>Puzzle evamat polos - Tikar evamat - Alas Main Anak-Karpet Puzzle eva - Hitam</td>\n",
              "      <td>pesan hijau , yg dtg hitam</td>\n",
              "      <td>0</td>\n",
              "    </tr>\n",
              "    <tr>\n",
              "      <th>47434</th>\n",
              "      <td>Puzzle evamat polos - Tikar evamat - Alas Main Anak-Karpet Puzzle eva - Hitam</td>\n",
              "      <td>sangat kecewa dengan pelayanan nya</td>\n",
              "      <td>0</td>\n",
              "    </tr>\n",
              "    <tr>\n",
              "      <th>47435</th>\n",
              "      <td>Kodomo Baby Tisu Basah Anti Bacterial 50 sheets</td>\n",
              "      <td>dikirimnya lama</td>\n",
              "      <td>0</td>\n",
              "    </tr>\n",
              "    <tr>\n",
              "      <th>47436</th>\n",
              "      <td>Kodomo Baby Tisu Basah Anti Bacterial 50 sheets</td>\n",
              "      <td>beli sabtu , proses senin kirim selasa rabu sampai padahal ada minggu nyampe gak lagi disin</td>\n",
              "      <td>0</td>\n",
              "    </tr>\n",
              "    <tr>\n",
              "      <th>...</th>\n",
              "      <td>...</td>\n",
              "      <td>...</td>\n",
              "      <td>...</td>\n",
              "    </tr>\n",
              "    <tr>\n",
              "      <th>47927</th>\n",
              "      <td>PCK-01 Penjepit Barang / Pickup Tool Ver.1 Alat Capit Pemungut Sampah</td>\n",
              "      <td>harga bersaing , barang sesuai pesanan saya nambah extra packing kardus dan bubble wrap supaya aman benar sampai dengan selamat alhamdulillaah sengaja beli tujuan untuk mungut sampah puntung rokok tanyakan ke seller apakah bisa kemudian menjawab setelah tes berhasil memakainya mudah hanya saja lumayan juga ya ternyata beratnya kalo sudah lama megangnya pegel hehe anyways terima kasih</td>\n",
              "      <td>1</td>\n",
              "    </tr>\n",
              "    <tr>\n",
              "      <th>47928</th>\n",
              "      <td>Ultrasonic Aroma Diffuser Humidifier Colorful LED 300ml+remote</td>\n",
              "      <td>beli ini krn anak istri mau liburan di jakarta , cari ketemu toko dengan harga yg masih ramah kantong untuk pelayanan bagus cepet packaging nya juga rapih aman banget recomended seller difusser berfungsi baik kualitas diffuser sendiri termasuk kokoh ya segini puas benget sih pas udah nyobain semoga bisa tahan lama</td>\n",
              "      <td>1</td>\n",
              "    </tr>\n",
              "    <tr>\n",
              "      <th>47929</th>\n",
              "      <td>Ultrasonic Aroma Diffuser Humidifier Colorful LED 300ml+remote</td>\n",
              "      <td>pengemasan barang baik , kondisi jg utuh tanpa cacat berfungsi normal dan lancar respon servis dari seler juga</td>\n",
              "      <td>1</td>\n",
              "    </tr>\n",
              "    <tr>\n",
              "      <th>47930</th>\n",
              "      <td>Ultrasonic Aroma Diffuser Humidifier Colorful LED 300ml+remote</td>\n",
              "      <td>mungil tapi bekerja dng baik , dan murahh terjangkau pas kebutuhan</td>\n",
              "      <td>1</td>\n",
              "    </tr>\n",
              "    <tr>\n",
              "      <th>47931</th>\n",
              "      <td>TDS Meter 3 Alat Ukur Hidroponik Air Aquarium ppm nutrisi Kolam TDS-3 - TDS 3 Meter</td>\n",
              "      <td>produk sesuai deskripsi , packing aman terlindung pengiriman cepat toko penjual responsif alat sudah dicoba dan berfungsi sangat direkomendasikan</td>\n",
              "      <td>1</td>\n",
              "    </tr>\n",
              "  </tbody>\n",
              "</table>\n",
              "<p>500 rows × 3 columns</p>\n",
              "</div>"
            ],
            "text/plain": [
              "                                                                                product_id  \\\n",
              "47432        Puzzle evamat polos - Tikar evamat - Alas Main Anak-Karpet Puzzle eva - Hitam   \n",
              "47433        Puzzle evamat polos - Tikar evamat - Alas Main Anak-Karpet Puzzle eva - Hitam   \n",
              "47434        Puzzle evamat polos - Tikar evamat - Alas Main Anak-Karpet Puzzle eva - Hitam   \n",
              "47435                                      Kodomo Baby Tisu Basah Anti Bacterial 50 sheets   \n",
              "47436                                      Kodomo Baby Tisu Basah Anti Bacterial 50 sheets   \n",
              "...                                                                                    ...   \n",
              "47927                PCK-01 Penjepit Barang / Pickup Tool Ver.1 Alat Capit Pemungut Sampah   \n",
              "47928                       Ultrasonic Aroma Diffuser Humidifier Colorful LED 300ml+remote   \n",
              "47929                       Ultrasonic Aroma Diffuser Humidifier Colorful LED 300ml+remote   \n",
              "47930                       Ultrasonic Aroma Diffuser Humidifier Colorful LED 300ml+remote   \n",
              "47931  TDS Meter 3 Alat Ukur Hidroponik Air Aquarium ppm nutrisi Kolam TDS-3 - TDS 3 Meter   \n",
              "\n",
              "                                                                                                                                                                                                                                                                                                                                                                                                   ulasan  \\\n",
              "47432                                                                                                                                                                                                                                                                                                      sy sudah pesan kemarin 2 paket , itu yang bagus jadi tambah 1 pket lagi ininya kotol dan rusak   \n",
              "47433                                                                                                                                                                                                                                                                                                                                                                          pesan hijau , yg dtg hitam   \n",
              "47434                                                                                                                                                                                                                                                                                                                                                                  sangat kecewa dengan pelayanan nya   \n",
              "47435                                                                                                                                                                                                                                                                                                                                                                                     dikirimnya lama   \n",
              "47436                                                                                                                                                                                                                                                                                                         beli sabtu , proses senin kirim selasa rabu sampai padahal ada minggu nyampe gak lagi disin   \n",
              "...                                                                                                                                                                                                                                                                                                                                                                                                   ...   \n",
              "47927  harga bersaing , barang sesuai pesanan saya nambah extra packing kardus dan bubble wrap supaya aman benar sampai dengan selamat alhamdulillaah sengaja beli tujuan untuk mungut sampah puntung rokok tanyakan ke seller apakah bisa kemudian menjawab setelah tes berhasil memakainya mudah hanya saja lumayan juga ya ternyata beratnya kalo sudah lama megangnya pegel hehe anyways terima kasih   \n",
              "47928                                                                         beli ini krn anak istri mau liburan di jakarta , cari ketemu toko dengan harga yg masih ramah kantong untuk pelayanan bagus cepet packaging nya juga rapih aman banget recomended seller difusser berfungsi baik kualitas diffuser sendiri termasuk kokoh ya segini puas benget sih pas udah nyobain semoga bisa tahan lama   \n",
              "47929                                                                                                                                                                                                                                                                                      pengemasan barang baik , kondisi jg utuh tanpa cacat berfungsi normal dan lancar respon servis dari seler juga   \n",
              "47930                                                                                                                                                                                                                                                                                                                                  mungil tapi bekerja dng baik , dan murahh terjangkau pas kebutuhan   \n",
              "47931                                                                                                                                                                                                                                                   produk sesuai deskripsi , packing aman terlindung pengiriman cepat toko penjual responsif alat sudah dicoba dan berfungsi sangat direkomendasikan   \n",
              "\n",
              "       rating  \n",
              "47432       0  \n",
              "47433       0  \n",
              "47434       0  \n",
              "47435       0  \n",
              "47436       0  \n",
              "...       ...  \n",
              "47927       1  \n",
              "47928       1  \n",
              "47929       1  \n",
              "47930       1  \n",
              "47931       1  \n",
              "\n",
              "[500 rows x 3 columns]"
            ]
          },
          "execution_count": 67,
          "metadata": {},
          "output_type": "execute_result"
        }
      ],
      "source": [
        "df5.tail(500)"
      ]
    },
    {
      "cell_type": "code",
      "execution_count": 68,
      "metadata": {},
      "outputs": [
        {
          "name": "stderr",
          "output_type": "stream",
          "text": [
            "c:\\Users\\Randy\\AppData\\Local\\Programs\\Python\\Python312\\Lib\\site-packages\\torch\\utils\\_pytree.py:185: FutureWarning: optree is installed but the version is too old to support PyTorch Dynamo in C++ pytree. C++ pytree support is disabled. Please consider upgrading optree using `python3 -m pip install --upgrade 'optree>=0.13.0'`.\n",
            "  warnings.warn(\n",
            "You are using the default legacy behaviour of the <class 'transformers.models.t5.tokenization_t5.T5Tokenizer'>. This is expected, and simply means that the `legacy` (previous) behavior will be used so nothing changes for you. If you want to use the new behaviour, set `legacy=False`. This should only be set if you understand what it means, and thoroughly read the reason why this was added as explained in https://github.com/huggingface/transformers/pull/24565\n"
          ]
        }
      ],
      "source": [
        "from transformers import T5Tokenizer\n",
        "from transformers import AutoTokenizer\n",
        "MODEL = 'wikidepia/indoT5-base'\n",
        "tokenizer = AutoTokenizer.from_pretrained(MODEL)\n",
        "# Hitung panjang token\n",
        "def count_tokens(text):\n",
        "    encoded = tokenizer.encode(text, add_special_tokens=True)\n",
        "    return len(encoded)"
      ]
    },
    {
      "cell_type": "code",
      "execution_count": 69,
      "metadata": {},
      "outputs": [],
      "source": [
        "df5['token_len'] = df5['ulasan'].apply(count_tokens)"
      ]
    },
    {
      "cell_type": "code",
      "execution_count": 70,
      "metadata": {},
      "outputs": [
        {
          "name": "stdout",
          "output_type": "stream",
          "text": [
            "14.462718105360057\n"
          ]
        }
      ],
      "source": [
        "mean_df5 = df5['token_len'].mean()\n",
        "print(mean_df5)"
      ]
    },
    {
      "cell_type": "code",
      "execution_count": 71,
      "metadata": {},
      "outputs": [
        {
          "name": "stdout",
          "output_type": "stream",
          "text": [
            "11.0\n"
          ]
        }
      ],
      "source": [
        "median_df5 = df5['token_len'].median()\n",
        "print(median_df5)"
      ]
    },
    {
      "cell_type": "code",
      "execution_count": 72,
      "metadata": {},
      "outputs": [
        {
          "name": "stdout",
          "output_type": "stream",
          "text": [
            "218\n"
          ]
        }
      ],
      "source": [
        "max_df5 = df5['token_len'].max()\n",
        "print(max_df5)"
      ]
    },
    {
      "cell_type": "code",
      "execution_count": 73,
      "metadata": {},
      "outputs": [
        {
          "name": "stdout",
          "output_type": "stream",
          "text": [
            "26.0\n"
          ]
        }
      ],
      "source": [
        "precentil_90 = np.percentile(df5['token_len'],90)\n",
        "print(precentil_90)"
      ]
    },
    {
      "cell_type": "code",
      "execution_count": 74,
      "metadata": {},
      "outputs": [
        {
          "name": "stdout",
          "output_type": "stream",
          "text": [
            "6\n"
          ]
        }
      ],
      "source": [
        "row = 150/precentil_90\n",
        "print(round(row))"
      ]
    },
    {
      "cell_type": "code",
      "execution_count": 75,
      "metadata": {},
      "outputs": [],
      "source": [
        "import pandas as pd\n",
        "import re\n",
        "from typing import List, Dict\n",
        "\n",
        "def extract_product_name(id_product: str) -> str:\n",
        "    \"\"\"\n",
        "    Ekstrak nama produk utama dengan pengecualian untuk ID yang sepenuhnya numerik.\n",
        "    \"\"\"\n",
        "    if isinstance(id_product, str) and id_product.strip().isdigit():\n",
        "        return id_product.strip()\n",
        "\n",
        "    name = re.split(r'[-+]', str(id_product))[0].strip()\n",
        "    name = re.sub(r'\\b(S|M|L|XL|\\d+\\s*(gr|kg|g|gram))\\b', '', name, flags=re.IGNORECASE).strip()\n",
        "    name = re.sub(r'\\s*\\d+\\s*', ' ', name).strip()\n",
        "    \n",
        "    return name if name else str(id_product)\n",
        "\n",
        "def compact_reviews(\n",
        "    df: pd.DataFrame,\n",
        "    id_column: str = 'product_id',\n",
        "    text_column: str = 'ulasan',\n",
        "    rating_column: str = 'rating'\n",
        ") -> pd.DataFrame:\n",
        "    \"\"\"\n",
        "    Menggabungkan ulasan berdasarkan nama produk utama dan rating yang sama.\n",
        "    \"\"\"\n",
        "    required_columns = [id_column, text_column, rating_column]\n",
        "    if not all(col in df.columns for col in required_columns):\n",
        "        raise ValueError(\"Kolom yang diperlukan tidak ditemukan di DataFrame\")\n",
        "    \n",
        "    # Ekstrak nama produk utama\n",
        "    df['product_main'] = df[id_column].apply(extract_product_name)\n",
        "    \n",
        "    compacted_data = []\n",
        "\n",
        "    # Group by product_main dan rating\n",
        "    for (product_name, rating_value), group_df in df.groupby(['product_main', rating_column]):\n",
        "        texts = [\n",
        "            f\"{text.strip()}.\" if not text.strip().endswith('.') else text.strip()\n",
        "            for text in group_df[text_column]\n",
        "            if pd.notna(text) and str(text).strip()\n",
        "        ]\n",
        "\n",
        "        compact_text = \" \".join(texts)\n",
        "        compact_text = re.sub(r',\\s*\\.', '', compact_text)\n",
        "\n",
        "        record = {\n",
        "            'product_main': product_name,\n",
        "            'rating': rating_value,\n",
        "            'original_ids': \", \".join(map(str, group_df[id_column].unique())),\n",
        "            text_column: compact_text,\n",
        "            'jumlah_ulasan': len(texts),\n",
        "        }\n",
        "        compacted_data.append(record)\n",
        "\n",
        "    return pd.DataFrame(compacted_data)\n"
      ]
    },
    {
      "cell_type": "code",
      "execution_count": 76,
      "metadata": {
        "id": "QdnOeBQZAZrt"
      },
      "outputs": [],
      "source": [
        "df_compact = compact_reviews(df5)"
      ]
    },
    {
      "cell_type": "code",
      "execution_count": 77,
      "metadata": {
        "colab": {
          "base_uri": "https://localhost:8080/"
        },
        "id": "POFPdTRcYSJk",
        "outputId": "75614763-f8ee-43a9-c310-08651ee77297"
      },
      "outputs": [
        {
          "name": "stdout",
          "output_type": "stream",
          "text": [
            "<class 'pandas.core.frame.DataFrame'>\n",
            "RangeIndex: 5979 entries, 0 to 5978\n",
            "Data columns (total 5 columns):\n",
            " #   Column         Non-Null Count  Dtype \n",
            "---  ------         --------------  ----- \n",
            " 0   product_main   5979 non-null   object\n",
            " 1   rating         5979 non-null   int64 \n",
            " 2   original_ids   5979 non-null   object\n",
            " 3   ulasan         5979 non-null   object\n",
            " 4   jumlah_ulasan  5979 non-null   int64 \n",
            "dtypes: int64(2), object(3)\n",
            "memory usage: 233.7+ KB\n"
          ]
        }
      ],
      "source": [
        "df_compact.info()"
      ]
    },
    {
      "cell_type": "code",
      "execution_count": 78,
      "metadata": {},
      "outputs": [
        {
          "data": {
            "application/vnd.microsoft.datawrangler.viewer.v0+json": {
              "columns": [
                {
                  "name": "index",
                  "rawType": "int64",
                  "type": "integer"
                },
                {
                  "name": "product_main",
                  "rawType": "object",
                  "type": "string"
                },
                {
                  "name": "rating",
                  "rawType": "int64",
                  "type": "integer"
                },
                {
                  "name": "original_ids",
                  "rawType": "object",
                  "type": "string"
                },
                {
                  "name": "ulasan",
                  "rawType": "object",
                  "type": "string"
                },
                {
                  "name": "jumlah_ulasan",
                  "rawType": "int64",
                  "type": "integer"
                }
              ],
              "conversionMethod": "pd.DataFrame",
              "ref": "2fdc354f-e18f-4f33-9515-df3901f24fe9",
              "rows": [
                [
                  "0",
                  "'Oreal Paris Extraordinary Oil Gold",
                  "0",
                  "L'Oreal Paris Extraordinary Oil Gold",
                  "bocor. brg tdk saya terima , entah nyasar dimana kurirnya bloon. barang lama sekali sampainya. salah alamat , sudah saya kirim chat bahwa minta dicancel utk pesanan tsb krn sy masukin menit berikutnya langsung pesan ulang ke yg betul bukannya dibaca dulu chatnya malah diproses dua duanya dasar gak becus ifil dan akan di toko ini lagi. barang datang tidak lengkap , yidak akan pernah belanja lagi di toko remi loreal. saya belum terima barang sampai tgl pdhl diperkirakan tanggal , status pengiriman sudah di pembeli padahal minta update 3 hari jawaban sama aja uang kembali. expirednya bulan 6 sekarang 9 coba dikonfirmasi dulu habis kek gitu ga malu kah toko resmi , ambil pahalanya aja malas ongkir bolak balik. barang tdk diterima , pengembalian dana dan saya disuruh urus sendiri ke toped. pesen 2 kok yg dateng cuma 1tolong di cek ulang donk ",
                  "9"
                ],
                [
                  "1",
                  "'Oreal Paris Mascara Waterproof Lash Paradise Black",
                  "0",
                  "L'Oreal Paris Mascara Waterproof Lash Paradise Black",
                  "barang tidak sampai , hilang di ekspedisi antar aja padahal beli pas harga promo sekarang mau lagi udah normal huhuu. sedih ga dapet gratisannya padhl yg lainnya pd. yg satu kuasnya diangkat sudah dalam keadaan patah lepas , brushnya nyemplung di mohon dicek kembali sblm dikirim. expirednya bentar lagi. pengiriman lama banget hampir seminggu. kecewa , padahal udah batalkan pesanan karena ada masalah produk tapi masih aja dikirim entah gak mau ribet sama sekali atau admin cuma terima langsung kemas big no buat sekelas official store poin plusnya yg sesuai dengan yang dipesan. barang sampenya lama , box diterima dalam kondisi yang sudah rusak padahal mau buat kado. status pesanan sudah selesai dati kemarin sore tapi ternyata produknya belum saya terima sampai hari ini. barang ga sampai tp pesanan sudah diselesaikan karena otomatis. kw kirim brg bekas dan rusak serta tdk menerima komplain kapok bgt ga bkl lnja lg dsni.",
                  "10"
                ],
                [
                  "2",
                  "'Oreal Paris Mascara Waterproof Lash Paradise Black",
                  "1",
                  "L'Oreal Paris Mascara Waterproof Lash Paradise Black",
                  "beneran waterproof , bulu mata jadi lentik proses pesanan cepat packaging aman nggak menggumpal gampang dibersihkan rapi. pengiriman cepat , pesanan sesuai gak ada cacat packing aman. selalu repurchase deh buat produk ini , selain untuk bulu mata juga oke banget ngerapihin alis aku dan tentunya terlihat natural ya. bulu mata jadi lentik , packaging rapi aman proses pesanan cepat aplikator mudah dipakai. thankyou produknya bagus banget seperti biasa , dapet bonus foundation juga dan shadenya pun cocok tapi pengiriman agak sedikit lama.",
                  "5"
                ],
                [
                  "3",
                  "'Oreal Paris Revitalift Crystal Purifying Micellar Water Oil Free",
                  "0",
                  "L'Oreal Paris Revitalift Crystal Purifying Micellar Water Oil Free - 400 ml",
                  "ga tau dmn kendalanya , tp barangnya sampe ke rumah lama bgt molor 2hr dr estimasi sampai. kemasannya memakai plastik , mudah mangap rawan bocor tidak sebanding dengan harganya. pengemasan lambat banget , pengiriman lama. barang tiba sudah bocor dan botol kosong padahal kardus bubble wrap masih utuh , jelas tutup botolnya tidak ada segel penjual berdalih kesalahan pada pihak ekspedisi harus klaim asuransi saya lengkapi permintaan upload ktp foto produk video tapi todak disetujui dana diteruskan ke sangat kecewa sekelas official store servisnya seperti ini. packing kardusnyasperti udh di buka , gk rapih.",
                  "5"
                ],
                [
                  "4",
                  "'Oreal Paris Revitalift Crystal Purifying Micellar Water Oil Free",
                  "1",
                  "L'Oreal Paris Revitalift Crystal Purifying Micellar Water Oil Free - 400 ml",
                  "puas selalu belanja disini. cepat meresap , packaging baik tidak bocor pengiriman jg beli karena ntn live di tokped thanks seller. baru mau nyoba varian micelar water nya , semoga cocok kayak micro essence loreal ini dapat harga diskon pulak makin cinta pengiriman juga aman dan tepat waktu terimakasih tokped. barang udah nyampe makasih gan. tepat waktu , harga cukup bersahabat masih dpt bonus jg.",
                  "5"
                ],
                [
                  "5",
                  "'Oreal Professionnel Hairspa Deep Nourishing Shampoo",
                  "1",
                  "L'Oreal Professionnel Hairspa Deep Nourishing Shampoo - Rambut Kering",
                  "packing bagus , puass. respond cepat , packing aman barang sesuai deskripsi recommended. barang sudah diterima dengan baik , tidak ada yang bocortumpah diwrapping bubble aman. bagus , rambut jadi lembut. penjual cepat tanggap , barang sampainya terima kasih. mantap barangg cepeatt sampaii barang bagus penjual nyaa fast respons banget , packingan oke aman sampai di tempatt barangnya keren. top markotop. barang aman diterima , yg paling seneng wanginya enak banget. suka banget  wangi nya enak banget , bener kaya creambath salon. cinta banget sama produk ini , rambut jd lembut dan wangi bangettss always pake shampoo mah exp packingan mantap.",
                  "11"
                ],
                [
                  "6",
                  "'Oreal Professionnel Serioxyl Denser Hair Serum Rambut Rontok",
                  "0",
                  "L'Oreal Professionnel Serioxyl Denser Hair Serum Rambut Rontok",
                  "saya beli loreal serioxyl nya , malah ga ada yg datang giftnya aja ini gmn sih official account lho padahal. packingan barangnya berantakan tdk rapi sm skali. cukup sy yg di rugikan , krn brg dtg tdk vidio in orderan ada 3 cuma 2 tp gift dpt uda mahal komplen pun gak bs. admin slow response , konfirmasi ketersediaan barang lama sekali bonus gift yg dikirim juga ga sesuai. dikasi bonus gratisan hair mask serie expert , tapi uda expire barangnya pas dipake bikin kepala ketombean kl ga niat ngasih mending usah sih drpd rusak rambut orang.",
                  "5"
                ],
                [
                  "7",
                  "'Oreal Professionnel Serioxyl Denser Hair Serum Rambut Rontok",
                  "1",
                  "L'Oreal Professionnel Serioxyl Denser Hair Serum Rambut Rontok",
                  "respon cepat , packing aman banyak bonus nya pemesanan yg ke 2x trims agan sukses selalu. sudah diterima dalam keadaan lengkap dan ada bonusnya juga , terima kasih seller. paket cepat datang , packing aman sekali dapet bonus hair masker wanginya enak banget thank you loreal. repurchase ke 3 sangat puas dengan barang dan respon seller nya udah gitu selalu dapat bonus terima kasih. terbukti menumbuhkan rambutbeli yg ke kalinya ini  dapat sama seperti foto pembeli lain , serumnya dipakai dingin tidak panas. paket sampai super cepat , barang ori dari official shop gitu lho baru akan digunakan hari ini kalo ada hasilnya aku pesan lagi. barangnya sesuai deskripsi , semoga berhasil byee bye rambut rontok respon bagus dr reseller good. terima kasih paket sdh diterima dengan baik , juga diberi voucer. bagus ngga pernah mengecewakan packingnya aman banget , kemasan bar sekarang.",
                  "10"
                ],
                [
                  "8",
                  "( ISI Roll) Kertas Print Kasir thermal paper Roll x / x",
                  "1",
                  "( ISI 30 Roll) Kertas Print Kasir thermal paper Roll 57 x 30 / 57x30",
                  "belanja disini mantap pengiriman cepat dan barangnya rekomended packing aman rapi bakal lagi insyaallah. real pict , spek packing rapih dan sangat aman walaupun kertas printer thermal tp dikasih label fragile sellernya recomended sekali mantabss. thanks gan paket udah mendarat dengan selamat , pelayanan ok mantab super fast respon top very recomended seller. belanja disini mantap pengiriman cepat dan barangnya rekomended packing aman rapi bakal lagi insyaallah.",
                  "4"
                ],
                [
                  "9",
                  "( OBRAL ) Bola sepak murah size / bola kaki murah / bola bliter",
                  "0",
                  "( OBRAL ) Bola sepak murah size 5 / bola kaki murah / bola bliter - jahit nike",
                  "gua rekomendasi jgn beli disini , toko ndak amanah sama skali bola keliru ngasih tikar ok saya maklumi lalu kembalikan barangnya dan minta kirim ulang customer difollow up sampek skarang uda bulan belum dikirim.",
                  "1"
                ],
                [
                  "10",
                  "(BARU) Buku Rich Dad Poor Dad . Robert T Kiyosaki Motivasi Best Seller",
                  "0",
                  "(BARU) Buku Rich Dad Poor Dad . Robert T Kiyosaki Motivasi Best Seller",
                  "buku yang sampai warna kertas agak kuning kaya buram  jasa pengiriman nya di ganti tanpa konfirmasi , kurang memuaskan. sampul gompalgompal , kayak barang reject. barang tidak di kirim sampai sekarang , respon penjual payah dan mengecewakan bikin kapok kalau nggak ada tolong uang ku kembalikan.",
                  "4"
                ],
                [
                  "11",
                  "(Tabung B buka depan)Penutup mesin cuci",
                  "0",
                  "(Tabung B buka depan)Penutup mesin cuci-Cover mesin cuci bahan PEVA - Black Flower",
                  "talinya gak ada satu , jadi bisa diikatkan dibagian belakang keliatan pas. respon kurang , brg tdk sesuai deskripsi dan ada solusi akhir dr si penjual. lebih kecil , ndak muat di mesin cuci elextrolux overal bhanya bagus anti air.",
                  "3"
                ],
                [
                  "12",
                  "10038732",
                  "0",
                  "10038732",
                  "barang sudah diterima , kurang pas but thank you.",
                  "1"
                ],
                [
                  "13",
                  "10038732",
                  "1",
                  "10038732",
                  "barang di terima dengan aman , recom banget. thankss barangnya sudah di terima.",
                  "2"
                ],
                [
                  "14",
                  "100761432",
                  "1",
                  "100761432",
                  "respond seller aga lama , pengirim jg tapi packaging rapi barang sampai dan berfungsi dengan baik. pengiriman cepat , mantab barangnya. manntab gan , good dah. barang sesuai gambar , cepat sampai goodlah. fast response bgt , mantap gan. respon cepat , brg sesuai gambar oke sellernya sukses gan. sesuai pesanan packing joss mantap cepet sampe. packaging rapi , sangat memperhatikan konten respon cepat barang sesuai dengan informasi thanks. danke gan  terima kasih barang sudah sampai.",
                  "10"
                ],
                [
                  "15",
                  "10173704",
                  "0",
                  "10173704",
                  "makasih , barangnya sudah saya terima bagus.",
                  "1"
                ],
                [
                  "16",
                  "102279869",
                  "1",
                  "102279869",
                  "ya saya puas dgn barangnya. ya saya puas dgn barangnya.",
                  "2"
                ],
                [
                  "17",
                  "10372554",
                  "1",
                  "10372554",
                  "barang sesuai  sesuai deksripsi , pengiriman tepat waktu. belum saya coba pakai , terima kasih.  the product received matches description of , material is strong and not easily to get dusty can function very well both for indoor or outdoor usage seller was fast in responding my questions during transaction process overall im satisfied shopping this shop.  selalu puas belanja disini sukses ka. , makasih. udah sampai gan , thx ya. semoga awet dan nyaman dibpakai , tq gan. barang sudah saya terima dengan baik dan tepat waktu kasih. makasih proses cepet banget bantu bgt buat yg dropship  suka  barangnya bagus dan berfungsi dengan baik. barang sdh diterima dengan baik , thx gan. barangnya ok , sangat berguna. terima kasih gan barang sudah sampai  oke , sesuai pesanan thanks. makasih , penutup telinganya sudh samapi bisa berenang dgn aman. barang sampai tanpa cacat dan sesuai. thanks gan , baranh udah sampe maaf lama barangnya nyangkut di pos satpam. barangnya bagus , proses cepat makasih ya. pesanan cepat diproses tp ukurannya trlalu bsar u tlinga sya. barang cukup bagus , harga juga sdh sering dipakai tutup kupingnya tdk bocor awet sukses deh buat yg jual. barang sdh diterima , terima kasih. thanks gan , barang udah saya terima. barang sudah masuk , packingan ok tq. barang sudh d terima dengan baik. kualitas bagus , thanks ya gan.",
                  "29"
                ],
                [
                  "18",
                  "10391216",
                  "1",
                  "10391216",
                  "barang sesuai pesanan dan cepat sampai. mantap , sesuai pesanan. sip , oke pak. barang sudah sampai dengan selamat , sangat cepat bagus dan recomended. terima kasih  barangnya dah sampai kk , kheren tq. barang sesuai harapan , walaupun ongkir harus nambah hicks but recommended. terima kasih bos barang sampai tepat waktu  got it thank you ",
                  "9"
                ],
                [
                  "19",
                  "10391240",
                  "1",
                  "10391240",
                  "ehhdh. mantab , asli ketler punya. sesuai dengan foto , namun barang terlalu longgar amp tidak bisa pas harus dipasang wristbandhanduk untuk mengganjal agar tetap kencang pengiriman cepat tepat waktu yang dijanjikan overall. barang sesuai dengan gambar , packing sedikit kurang rapi. barang ok , pelayanan penjual jg cepat termasuk pengiriman barangnya thanks. sesuai deskripsi  terima kasih barang telah diterima dg baik , respon dan pengiriman sangat cepat recommended. recommended seller , thanks gan sukses terus. barang bagus dan pas , cuma kurir jne nya aja yg lama overall good. terimakasih pesanan sudah saya terima. packaging rapi , fisik barang oke. proses cepat dan barang sesuai  the product is good quality and was recieved in very condition  bagus , kualitas ok sesuai harapan harga bersaing fast service shipping kalo bisa ditambahkan option ekspedisi selain jne makin top deh packing rapi recommended seller thanks ya warung. barang sudah sampai dengan selamat  bagus , barangnya sesuai foto kualitas ok harga bersaing packing kardus aman service shipping cepat recommended seller thanks ya warung olahraga. got it thank you ",
                  "17"
                ],
                [
                  "20",
                  "10391319",
                  "1",
                  "10391319",
                  "terima kasih , barang sudah nyampek. bagus banget kwalitas barangnya , penjualnya ramah dan ontime kirimnya begitu dtg langsung saya coba thanks. sesuai dengan description , recommended seller. makasih gan barang sudah sampai. sori baru sempat , barang ok pengiriman cepat.",
                  "5"
                ],
                [
                  "21",
                  "10422372",
                  "0",
                  "10422372",
                  "barang sudah diterima , makasih.",
                  "1"
                ],
                [
                  "22",
                  "10425920",
                  "0",
                  "10425920",
                  "barang sudah terima , mantap ksh. mantap , barang oke kualitas sesuai dengan harapan. barang diterima bgus cpt , sesuai gambar.",
                  "3"
                ],
                [
                  "23",
                  "10425920",
                  "1",
                  "10425920",
                  "produk bagus , matap tinggal pakai tnk gans. barang sesuai pesanan  respos oke , barang tp sayang knp jne mengecewakan pakai yes nyampai 4hari btw seller recomen deh. pngiriman cepat , qualitas bagus wrna sesuai foto. barangnya bagus  barang bagus sesuai diskripsi , thanks gan. barang bagus , sesuai dengan pesanan.  sesuai dengan pesanan thank you. mantapp , biar bintang yg berbicara. harganya murah , barangnya bagus puas. mantap gan , recomended seller. barang sudah diterima , cepat tp belom di coba. bagus , kaca tidak buram sangat jika mau snorkling pemula good. terima kasih gan , barang sampe repat waktu dan good seller. terima kasih barang sudah sampai , pengiriman cepet siip many thanks. terimakasih , untuk barang sudah diterima dengan baik. barang udah sampai di rumah , thanks. maaf bru bisa kasi ulasan , barang bagus mantab. cepat , rapi barang cukup ok murah meriah. barang lumayan bagus dengan harga yg sangat low. barangnya sudah di terima dengan baik , tp blm sempet nyoba mudah mudahan gak ada masalah sama tolong cantumkan ukuran all size soalnya sedikit kekecilan pandangan mata thanx. bagus , paketan sdh sampe makasih ya. warna sesuai permintaan , brg gambar. kualitas sesuai harga fast respon ok good. barang sudah diterima dirumah , cuma belum liat krn masih diluar kota thanks gan. googles oke , sudah test di laut air tidak masuk sedikitpun ke dalam snorcle lumayan masih kadang lewat valve bawah harus nya karena ini semidry model sehingga sering tiup untuk mengeluarkan. sudah diterima , terimakasi bagus. barang sesuai gambar dan pengiriman cepat , thanks. proses pengirimannya cepat sekali , terima kasih. makasih bos , barangx udah sampe tinggal nyemplung ke pulau sambori hehehe. cepat sekali sampainya , barangnya sesuai dengan fotonya. barang diterima , sesuai dg gambarnya tq. good , pelayanan cepat lupa sedikit pesenan dari wa tapi tidak apaapa. barang ok mantap , siap digunakan. lihat bintangnya saja ya. lihat bintangnya aja ya. terima kasih , barang telah diterima. sudah terima dengan baik , kualitas memuaskan. terimakasih kang  produknya bagus dan kelihatan kuat , belum saya coba sih cuma mau tahu aja knp warna karet transparant di kaca mata nya agak kusam apakah emg warnanya demikian. sory baru kasih testi , krn cobanya kmrn mantap barangnya gan. thanks barang sudah sampai dengan baik rapih. sesuai fto , kiriman cepet mantep. barang sudah diterima dengan baik , trims. barang sudah diterima dengan selamat , makasih ya cici pasti saya mampir lagi. paketan nya sudah sampai balikpapan gen , terpercaya lah pokok. lumayan bagus , recomended gan. paket pas diantar oleh jne dalam keadaan sudah dibuka  barang lengkap tp agak kotor dan kondisi sudah terbuka dr packaging. trimaksh brang udah di trima aman pas mantab  barang sudah sampai terima kasih. terimakasih gan barang udah nyampe. brg sdh diterima trims ",
                  "54"
                ],
                [
                  "24",
                  "10434873",
                  "0",
                  "10434873",
                  "longgar  longgar ",
                  "2"
                ],
                [
                  "25",
                  "10434873",
                  "1",
                  "10434873",
                  "ukurannya lebih gede dari hp nya , jadi ada ruang kosong 3cm di bagian atasnya.",
                  "1"
                ],
                [
                  "26",
                  "10464748",
                  "1",
                  "10464748",
                  "senar sudah terpasang , terima kasih. bintang cukup yah o.",
                  "2"
                ],
                [
                  "27",
                  "105222209",
                  "0",
                  "105222209",
                  "terimakasih barang sudah sampai , mudah mudahan awet tadi dah dicoba tapi sekali keluar langsung dua. barang sudah sampai terima kasih.",
                  "2"
                ],
                [
                  "28",
                  "105222209",
                  "1",
                  "105222209",
                  "oke  mantaps gan , barang mendarat dengan selamat. barang ok banget , sip. barang ok pengiriman cpt. alhamdulillah paket sampai dengan selamat. good , proses cepat dan komunikatif terimakasih. good seller , quick shipping will buy again. mantapp , barang sesuai deskripsi packing rapi. proses cepat , recomended. satples berfungsi dengan baik tanpa ada kendala , cuman isinya staplesnya yang kurang heheheh. kualitas mantap , harga murah. bagus sesuai gambar respon cepat pengiriman. paket sudah duterima dgn baik boss , barg bags sesuai diskripsi trim salm sukses. mantapp gan , harga bersaing dibanding toko lainnya good. bagus dan cukup memuaskan sesuai pesanan. kemasan rapi  seller top servicenya barangbarangnya mantab semua seneng belanja di toko ini  bagus  barang bagus , tkanan tembak bisa di ajust mantab. gan maaf baru konfirmasi , barang sip cepat nyampainya tanks ya. bos barang sip dan cepat pengirimannya. respon seller cepat , kiriman barang mantap. respon kilaat , brg ssuai ok gan. barang sesuai diskripsi dan berfungsi baik , juga cepat pengurimannya.",
                  "24"
                ],
                [
                  "29",
                  "10573215",
                  "1",
                  "10573215",
                  "produk sesuai dengan deskripsi , pengiriman cepat. biar bintang yang menilai ",
                  "2"
                ],
                [
                  "30",
                  "10573472",
                  "0",
                  "10573472",
                  "ok. ok.",
                  "2"
                ],
                [
                  "31",
                  "10573472",
                  "1",
                  "10573472",
                  "harga sesuai kualitas terima kasih. barang berkualitas , recomended seller thx u.",
                  "2"
                ],
                [
                  "32",
                  "10948071",
                  "1",
                  "10948071",
                  "thanks ",
                  "1"
                ],
                [
                  "33",
                  "10972315",
                  "0",
                  "10972315",
                  "sudah diterima dengan baik , tks.",
                  "1"
                ],
                [
                  "34",
                  "112036465",
                  "1",
                  "112036465",
                  "alhamdulillah sudah sampai , lucu bagus syuuka. bagus , sudah diterima dengan baik thanks.",
                  "2"
                ],
                [
                  "35",
                  "112038338",
                  "1",
                  "112038338",
                  "barang telah diterima dengan baik. bagus , sayang talinya kurang panjang.",
                  "2"
                ],
                [
                  "36",
                  "112038958",
                  "1",
                  "112038958",
                  "baik dan berkualitas , recommended. barang telah diterima dengan baik.",
                  "2"
                ],
                [
                  "37",
                  "112040054",
                  "1",
                  "112040054",
                  "kualitas baik , sesuai foto produk. bagus , sudah diterima dengan baik thanks. cantik sekali , bikin ank saya jd makin.",
                  "3"
                ],
                [
                  "38",
                  "11291555",
                  "1",
                  "11291555",
                  "alhamdulillah barang telah sampai , terimakasih.",
                  "1"
                ],
                [
                  "39",
                  "11313724",
                  "1",
                  "11313724",
                  "oiike. mantap bos , brg bagus n cepat pengirimannya thx. barang oke , harga murah mantap gan.",
                  "3"
                ],
                [
                  "40",
                  "114138091",
                  "0",
                  "114138091",
                  "ternyata besar ya barangnya , jdnya ga kepake tp respon dan pengiriman bagus sukses terus. barangnya bagus , proses n pengiriman cepat thanks.",
                  "2"
                ],
                [
                  "41",
                  "114138091",
                  "1",
                  "114138091",
                  "bagus , brg sesuai pesanan respon cepat. bagus , brg mantap sesuai pesanan. barang ok , sesuai deskripsi. akhirnya sampai jg , terima kasih. barang sudah diterima dan sesuai dengan deskripsi produk , trims. paket sudah diterima dgn baik , terimakasih.",
                  "6"
                ],
                [
                  "42",
                  "11468286",
                  "1",
                  "11468286",
                  "terimaka sih barang sesuai , pengiriman cepat.",
                  "1"
                ],
                [
                  "43",
                  "11673618",
                  "1",
                  "11673618",
                  "paket udah ketrima v , terpercaya tanpa ada kerusakan thanks.",
                  "1"
                ],
                [
                  "44",
                  "117376843",
                  "0",
                  "117376843",
                  "cuma sekali pakai dah rusak. cuma sekali pakai dah rusak. pengiriman cepat , tapi barang tanpa dus luar hanya pakai plastik bening saja. mayan harga sesuai mutu. murah , bisa pakai tapi gak ada kotak nya.",
                  "5"
                ],
                [
                  "45",
                  "117376843",
                  "1",
                  "117376843",
                  "makasih gan barang sudah di terima dan berfungsi dengan baik  sesuai dengan yang saya inginkan , nota asli juga dikirim mantap. alat sudah dites dan berfungsi dengan baik. top brang y sesuai pesanan. bagus sesuai pesanan barang cepat sampai. lgsg dicoba mantep , thanks ya jgn lupa beli batere 9v untuk yg mau. barang sangat cepat sampai , sudah di cek ok. sangat cepat dan tepat , barang juga berfungsi normal. barang berguna , serpis ngebut. barang bagus , sesuai dengan yang saya inginkan. barang sudah sampai , tp belum di coba. respon penjual cepat barang sesuai deskripsi , baterai tidak termasuk ternyata. barang sesuai packingan oke delivery cepat. barang bagus , ud di pakai tku yah. respon cepat dan barang sesuai pesanan , trimakasih ya sukses selalu. barang sesuai packingan bagus respon seller cepat. barang sesuai dengan yang di pesan. sudah trm lama , maaf br kirim ulasan. barang cepat sampai dan seller kooperatif. barang bagus , cepat sampai nota asli juga dikirim mantaaps. trimakasih gan , barang cepat sampai dan sesuai pesanan sukses ya. berjalan dengan baik , terima kasih. terimakasih sudah sampai  barang sudah nyampai , semoga awet dan akuran bisa dipake scan cable panjang. respon cepat barang sdh sampai  fast respon , barang sesuai tapi belum ditest semoga ga ada masalah recomended seller. belum di coba , pengiriman cepat. brg sesuai deskripsi , packing rapih sukses trs ya. barang sesuai deskripsi , thanks. fast respon , barang sesuai deskripsi. pelayanan dan pengiriman tepat waktu. top markotop , sudah sampai ngebut dan di tes ok mantep cuma ngak dapet batre nya yah hahaha. pengiriman cepat dan kualitas produk baik , terima kasih. great  barang sudah sampai , terimakasih yah. sesuai dengan deskripsi , tinggal masukkan 2x baterai 9v dan jalan. pengiriman sampai tepat waktu saat diperlukan , alatnya sangat membantu pengecekan dan istalasi jaringan. barang sesuai pesanan  terima kasih kiriman sudah sampai. semua barang sesuai , cepat tanpa ribet. terima kasihj  bagus dan dapat digunakan  barang cepat sampai , mantap. barang bagus , fungsi baik dan sangat membantu. proses cepat barang blom di test sempat bli baterainya. cpt sampai , mksh gan. barang cepat datang , thanks. barang sesuai pesanan , belum sempet di tes mudah awet thanks. sudah dicek , works. barang cepat sampai dan aman. sesuai pesanan , fast respon. thank you barang udah sampe dan sesuai. barang dah tiba tp blm dicoba mudahan alat bekerja dgn baik. maaf lupa kasih ulasan , barang sudah diterima sesuai spek semoga awet. trimakasih pelayanan memuaskan. mantap packing rapi  pengiriman cepat sekali. pengiriman barang lancar , diterima dalam kondisi baik. secara keseluruhan masih bisa digunakan , meskipun fungsi scanner terlalu peka terhadap gelombang jika didekatkan pada sumber listrik lain selain akan muncul noise yang menurut saya dibedakan dengan nada setara harga bayar. packing baik aman jaya , sukses terus. barang sudah sampai , packing aman moga awet. packing ok , barang bagus cepat sampai. barang sudah diterima dengan baik , pengiriman lumayan cepat terima kasih. fast respon dan packing rapi serta aman. baru sempet review barang sesuai gambar dan udh di coba hasilnya good. penjual sgt responsif , pengiriman cepat barang sesuai dgn yg dipesan trm ksh. respon seller ok , barang sudah di pakai dan so far. sangat puas karena bayar malam datang besoknya wow makasih ya. makasih ya gan , barangnya sudah saya terima dengan baik response sellernya juga sangat dan komunikatif sayang kurang batery nya saja hehehe. sampai dengan keadan kotak kebuka , kecepatan penngiriman bagus barang blum di coba tapi keligatanya dalam keadaan baik. maaf baru di konfirm , barang sdh diterima kemarin. di kemasan tertulis include batery 9 volt , tapi baterainya gak ada. mantap gan , terima kasih banget ya. barang sudah di terima dengan baik kasih. terima kasih sudah diterima dengan baik. barang sudah terima dengan baik gan , saya coba recommended seller thanks. tanks , barang sudah sampe kondisi ok. unit udh d trima dg baik dan sudah bs cek normal  good seller respon cepat pengiriman jug acepet. teater bagus dan penjual cepat tanggap reaksinya. fast shipping and as described , would buy again thanks. barang udah diterima sesuai order , thanks. barang sudah diterima namun blm ditest mudah mudahan tdk ada masalah amin. seller respon nya cepat baru pesan langsung di kirim ga pake nunggu barang sampe rumah gak , 2 jam luar biasa. jgn ragu beli di sini , barang bagus bisa ngelacak kabel yg barantakan.",
                  "85"
                ],
                [
                  "46",
                  "118331705",
                  "0",
                  "118331705",
                  "kok size xlnya kecil ya ",
                  "1"
                ],
                [
                  "47",
                  "118331705",
                  "1",
                  "118331705",
                  "produknya bagus semoga selalu memberikan produk yg terbaikampkualitas terbaik. barang sudah di terima dengan baik ya. makasi. barang sudah sampai kualitas sesuai harga. klo promo worth it lah , harga pass di kantong pakai kode promoo.",
                  "5"
                ],
                [
                  "48",
                  "118675613",
                  "1",
                  "118675613",
                  "barangnya ok sis , thank you.",
                  "1"
                ],
                [
                  "49",
                  "118676116",
                  "1",
                  "118676116",
                  "warnanya cantik , tapi ada bagian lem yang masih kasar yg agak ngga nyaman buat bayi talinya lembut.",
                  "1"
                ]
              ],
              "shape": {
                "columns": 5,
                "rows": 200
              }
            },
            "text/html": [
              "<div>\n",
              "<style scoped>\n",
              "    .dataframe tbody tr th:only-of-type {\n",
              "        vertical-align: middle;\n",
              "    }\n",
              "\n",
              "    .dataframe tbody tr th {\n",
              "        vertical-align: top;\n",
              "    }\n",
              "\n",
              "    .dataframe thead th {\n",
              "        text-align: right;\n",
              "    }\n",
              "</style>\n",
              "<table border=\"1\" class=\"dataframe\">\n",
              "  <thead>\n",
              "    <tr style=\"text-align: right;\">\n",
              "      <th></th>\n",
              "      <th>product_main</th>\n",
              "      <th>rating</th>\n",
              "      <th>original_ids</th>\n",
              "      <th>ulasan</th>\n",
              "      <th>jumlah_ulasan</th>\n",
              "    </tr>\n",
              "  </thead>\n",
              "  <tbody>\n",
              "    <tr>\n",
              "      <th>0</th>\n",
              "      <td>'Oreal Paris Extraordinary Oil Gold</td>\n",
              "      <td>0</td>\n",
              "      <td>L'Oreal Paris Extraordinary Oil Gold</td>\n",
              "      <td>bocor. brg tdk saya terima , entah nyasar dimana kurirnya bloon. barang lama sekali sampainya. salah alamat , sudah saya kirim chat bahwa minta dicancel utk pesanan tsb krn sy masukin menit berikutnya langsung pesan ulang ke yg betul bukannya dibaca dulu chatnya malah diproses dua duanya dasar gak becus ifil dan akan di toko ini lagi. barang datang tidak lengkap , yidak akan pernah belanja lagi di toko remi loreal. saya belum terima barang sampai tgl pdhl diperkirakan tanggal , status pengiriman sudah di pembeli padahal minta update 3 hari jawaban sama aja uang kembali. expirednya bulan 6 sekarang 9 coba dikonfirmasi dulu habis kek gitu ga malu kah toko resmi , ambil pahalanya aja malas ongkir bolak balik. barang tdk diterima , pengembalian dana dan saya disuruh urus sendiri ke toped. pesen 2 kok yg dateng cuma 1tolong di cek ulang donk</td>\n",
              "      <td>9</td>\n",
              "    </tr>\n",
              "    <tr>\n",
              "      <th>1</th>\n",
              "      <td>'Oreal Paris Mascara Waterproof Lash Paradise Black</td>\n",
              "      <td>0</td>\n",
              "      <td>L'Oreal Paris Mascara Waterproof Lash Paradise Black</td>\n",
              "      <td>barang tidak sampai , hilang di ekspedisi antar aja padahal beli pas harga promo sekarang mau lagi udah normal huhuu. sedih ga dapet gratisannya padhl yg lainnya pd. yg satu kuasnya diangkat sudah dalam keadaan patah lepas , brushnya nyemplung di mohon dicek kembali sblm dikirim. expirednya bentar lagi. pengiriman lama banget hampir seminggu. kecewa , padahal udah batalkan pesanan karena ada masalah produk tapi masih aja dikirim entah gak mau ribet sama sekali atau admin cuma terima langsung kemas big no buat sekelas official store poin plusnya yg sesuai dengan yang dipesan. barang sampenya lama , box diterima dalam kondisi yang sudah rusak padahal mau buat kado. status pesanan sudah selesai dati kemarin sore tapi ternyata produknya belum saya terima sampai hari ini. barang ga sampai tp pesanan sudah diselesaikan karena otomatis. kw kirim brg bekas dan rusak serta tdk menerima komplain kapok bgt ga bkl lnja lg dsni.</td>\n",
              "      <td>10</td>\n",
              "    </tr>\n",
              "    <tr>\n",
              "      <th>2</th>\n",
              "      <td>'Oreal Paris Mascara Waterproof Lash Paradise Black</td>\n",
              "      <td>1</td>\n",
              "      <td>L'Oreal Paris Mascara Waterproof Lash Paradise Black</td>\n",
              "      <td>beneran waterproof , bulu mata jadi lentik proses pesanan cepat packaging aman nggak menggumpal gampang dibersihkan rapi. pengiriman cepat , pesanan sesuai gak ada cacat packing aman. selalu repurchase deh buat produk ini , selain untuk bulu mata juga oke banget ngerapihin alis aku dan tentunya terlihat natural ya. bulu mata jadi lentik , packaging rapi aman proses pesanan cepat aplikator mudah dipakai. thankyou produknya bagus banget seperti biasa , dapet bonus foundation juga dan shadenya pun cocok tapi pengiriman agak sedikit lama.</td>\n",
              "      <td>5</td>\n",
              "    </tr>\n",
              "    <tr>\n",
              "      <th>3</th>\n",
              "      <td>'Oreal Paris Revitalift Crystal Purifying Micellar Water Oil Free</td>\n",
              "      <td>0</td>\n",
              "      <td>L'Oreal Paris Revitalift Crystal Purifying Micellar Water Oil Free - 400 ml</td>\n",
              "      <td>ga tau dmn kendalanya , tp barangnya sampe ke rumah lama bgt molor 2hr dr estimasi sampai. kemasannya memakai plastik , mudah mangap rawan bocor tidak sebanding dengan harganya. pengemasan lambat banget , pengiriman lama. barang tiba sudah bocor dan botol kosong padahal kardus bubble wrap masih utuh , jelas tutup botolnya tidak ada segel penjual berdalih kesalahan pada pihak ekspedisi harus klaim asuransi saya lengkapi permintaan upload ktp foto produk video tapi todak disetujui dana diteruskan ke sangat kecewa sekelas official store servisnya seperti ini. packing kardusnyasperti udh di buka , gk rapih.</td>\n",
              "      <td>5</td>\n",
              "    </tr>\n",
              "    <tr>\n",
              "      <th>4</th>\n",
              "      <td>'Oreal Paris Revitalift Crystal Purifying Micellar Water Oil Free</td>\n",
              "      <td>1</td>\n",
              "      <td>L'Oreal Paris Revitalift Crystal Purifying Micellar Water Oil Free - 400 ml</td>\n",
              "      <td>puas selalu belanja disini. cepat meresap , packaging baik tidak bocor pengiriman jg beli karena ntn live di tokped thanks seller. baru mau nyoba varian micelar water nya , semoga cocok kayak micro essence loreal ini dapat harga diskon pulak makin cinta pengiriman juga aman dan tepat waktu terimakasih tokped. barang udah nyampe makasih gan. tepat waktu , harga cukup bersahabat masih dpt bonus jg.</td>\n",
              "      <td>5</td>\n",
              "    </tr>\n",
              "    <tr>\n",
              "      <th>...</th>\n",
              "      <td>...</td>\n",
              "      <td>...</td>\n",
              "      <td>...</td>\n",
              "      <td>...</td>\n",
              "      <td>...</td>\n",
              "    </tr>\n",
              "    <tr>\n",
              "      <th>195</th>\n",
              "      <td>157053683</td>\n",
              "      <td>1</td>\n",
              "      <td>157053683</td>\n",
              "      <td>barang sudah sampai , cepat pengirimannya terima kasih as komputer. barang sudah di terima , belum sempat coba. barang sesuai pesanan. barang sudah datang , semoga awet di pakai makasih. pemesanan diproses secepat kilat. terima kasih</td>\n",
              "      <td>6</td>\n",
              "    </tr>\n",
              "    <tr>\n",
              "      <th>196</th>\n",
              "      <td>157330288</td>\n",
              "      <td>1</td>\n",
              "      <td>157330288</td>\n",
              "      <td>berfungsi dengan baik , mantap. barang sdh diterima dgn baik amp sesuai pesanan tapi belum di test baterainya  barang mantaap makasih gan. sudah dipasang dan akhirnya laptop lama rasa baru , soalnya batere tahan lebih. luar biasa , barang sesuai dengan pesanan mantab top markotop. god</td>\n",
              "      <td>6</td>\n",
              "    </tr>\n",
              "    <tr>\n",
              "      <th>197</th>\n",
              "      <td>157346699</td>\n",
              "      <td>1</td>\n",
              "      <td>157346699</td>\n",
              "      <td>barang oke sudah dipasang , packing rapi dan aman. barang sudah diterima , tapi belum di coba trim3s buat toko ini. ori dan berfungsi dengan baik. kemasan rapih , pengiriman cepat. barang sudah sampai tp dicoba semoga bisa dan awet , thx. bagus barangnya , ori sayang kirimnya lamo sekali. respon cepat , packing bagus dan aman baterainya sempat susah dipasang panik tapi dicoba lagi ternyata harus agak ditekan sedikit karna presisinya ukurannya kurang kayanya sudah di charge berfungsi normal mungkin untuk customer lain yg kebetulan dapat barang nyangkut kayak punya saya dulu saja tekan dicari posisi yang pas namanya bukan baterai asli biasanya tidak selalu banget sukses terus ya jualannya. barang sudah diterima dalam keadaan baik. pemesanan diproses secepat kilat. sudah dicoba dan oke , trims. mantaab , super cepat barang bagus trims gan.</td>\n",
              "      <td>11</td>\n",
              "    </tr>\n",
              "    <tr>\n",
              "      <th>198</th>\n",
              "      <td>157349084</td>\n",
              "      <td>1</td>\n",
              "      <td>157349084</td>\n",
              "      <td>barang sesuai pesanan.</td>\n",
              "      <td>1</td>\n",
              "    </tr>\n",
              "    <tr>\n",
              "      <th>199</th>\n",
              "      <td>157350647</td>\n",
              "      <td>1</td>\n",
              "      <td>157350647</td>\n",
              "      <td>packing baik , recommended seller barang sesuai pesanan. produk ok , seller bertanggung jawabsalah kirim di retur langsung balik thanks. mantab.</td>\n",
              "      <td>3</td>\n",
              "    </tr>\n",
              "  </tbody>\n",
              "</table>\n",
              "<p>200 rows × 5 columns</p>\n",
              "</div>"
            ],
            "text/plain": [
              "                                                          product_main  \\\n",
              "0                                  'Oreal Paris Extraordinary Oil Gold   \n",
              "1                  'Oreal Paris Mascara Waterproof Lash Paradise Black   \n",
              "2                  'Oreal Paris Mascara Waterproof Lash Paradise Black   \n",
              "3    'Oreal Paris Revitalift Crystal Purifying Micellar Water Oil Free   \n",
              "4    'Oreal Paris Revitalift Crystal Purifying Micellar Water Oil Free   \n",
              "..                                                                 ...   \n",
              "195                                                          157053683   \n",
              "196                                                          157330288   \n",
              "197                                                          157346699   \n",
              "198                                                          157349084   \n",
              "199                                                          157350647   \n",
              "\n",
              "     rating  \\\n",
              "0         0   \n",
              "1         0   \n",
              "2         1   \n",
              "3         0   \n",
              "4         1   \n",
              "..      ...   \n",
              "195       1   \n",
              "196       1   \n",
              "197       1   \n",
              "198       1   \n",
              "199       1   \n",
              "\n",
              "                                                                    original_ids  \\\n",
              "0                                           L'Oreal Paris Extraordinary Oil Gold   \n",
              "1                           L'Oreal Paris Mascara Waterproof Lash Paradise Black   \n",
              "2                           L'Oreal Paris Mascara Waterproof Lash Paradise Black   \n",
              "3    L'Oreal Paris Revitalift Crystal Purifying Micellar Water Oil Free - 400 ml   \n",
              "4    L'Oreal Paris Revitalift Crystal Purifying Micellar Water Oil Free - 400 ml   \n",
              "..                                                                           ...   \n",
              "195                                                                    157053683   \n",
              "196                                                                    157330288   \n",
              "197                                                                    157346699   \n",
              "198                                                                    157349084   \n",
              "199                                                                    157350647   \n",
              "\n",
              "                                                                                                                                                                                                                                                                                                                                                                                                                                                                                                                                                                                                                                                                                                                                                                                                                                                                                                                                                                ulasan  \\\n",
              "0                                                                                    bocor. brg tdk saya terima , entah nyasar dimana kurirnya bloon. barang lama sekali sampainya. salah alamat , sudah saya kirim chat bahwa minta dicancel utk pesanan tsb krn sy masukin menit berikutnya langsung pesan ulang ke yg betul bukannya dibaca dulu chatnya malah diproses dua duanya dasar gak becus ifil dan akan di toko ini lagi. barang datang tidak lengkap , yidak akan pernah belanja lagi di toko remi loreal. saya belum terima barang sampai tgl pdhl diperkirakan tanggal , status pengiriman sudah di pembeli padahal minta update 3 hari jawaban sama aja uang kembali. expirednya bulan 6 sekarang 9 coba dikonfirmasi dulu habis kek gitu ga malu kah toko resmi , ambil pahalanya aja malas ongkir bolak balik. barang tdk diterima , pengembalian dana dan saya disuruh urus sendiri ke toped. pesen 2 kok yg dateng cuma 1tolong di cek ulang donk    \n",
              "1    barang tidak sampai , hilang di ekspedisi antar aja padahal beli pas harga promo sekarang mau lagi udah normal huhuu. sedih ga dapet gratisannya padhl yg lainnya pd. yg satu kuasnya diangkat sudah dalam keadaan patah lepas , brushnya nyemplung di mohon dicek kembali sblm dikirim. expirednya bentar lagi. pengiriman lama banget hampir seminggu. kecewa , padahal udah batalkan pesanan karena ada masalah produk tapi masih aja dikirim entah gak mau ribet sama sekali atau admin cuma terima langsung kemas big no buat sekelas official store poin plusnya yg sesuai dengan yang dipesan. barang sampenya lama , box diterima dalam kondisi yang sudah rusak padahal mau buat kado. status pesanan sudah selesai dati kemarin sore tapi ternyata produknya belum saya terima sampai hari ini. barang ga sampai tp pesanan sudah diselesaikan karena otomatis. kw kirim brg bekas dan rusak serta tdk menerima komplain kapok bgt ga bkl lnja lg dsni.   \n",
              "2                                                                                                                                                                                                                                                                                                                                                                                                         beneran waterproof , bulu mata jadi lentik proses pesanan cepat packaging aman nggak menggumpal gampang dibersihkan rapi. pengiriman cepat , pesanan sesuai gak ada cacat packing aman. selalu repurchase deh buat produk ini , selain untuk bulu mata juga oke banget ngerapihin alis aku dan tentunya terlihat natural ya. bulu mata jadi lentik , packaging rapi aman proses pesanan cepat aplikator mudah dipakai. thankyou produknya bagus banget seperti biasa , dapet bonus foundation juga dan shadenya pun cocok tapi pengiriman agak sedikit lama.   \n",
              "3                                                                                                                                                                                                                                                                                                                                   ga tau dmn kendalanya , tp barangnya sampe ke rumah lama bgt molor 2hr dr estimasi sampai. kemasannya memakai plastik , mudah mangap rawan bocor tidak sebanding dengan harganya. pengemasan lambat banget , pengiriman lama. barang tiba sudah bocor dan botol kosong padahal kardus bubble wrap masih utuh , jelas tutup botolnya tidak ada segel penjual berdalih kesalahan pada pihak ekspedisi harus klaim asuransi saya lengkapi permintaan upload ktp foto produk video tapi todak disetujui dana diteruskan ke sangat kecewa sekelas official store servisnya seperti ini. packing kardusnyasperti udh di buka , gk rapih.   \n",
              "4                                                                                                                                                                                                                                                                                                                                                                                                                                                                                                                                                      puas selalu belanja disini. cepat meresap , packaging baik tidak bocor pengiriman jg beli karena ntn live di tokped thanks seller. baru mau nyoba varian micelar water nya , semoga cocok kayak micro essence loreal ini dapat harga diskon pulak makin cinta pengiriman juga aman dan tepat waktu terimakasih tokped. barang udah nyampe makasih gan. tepat waktu , harga cukup bersahabat masih dpt bonus jg.   \n",
              "..                                                                                                                                                                                                                                                                                                                                                                                                                                                                                                                                                                                                                                                                                                                                                                                                                                                                                                                                                                 ...   \n",
              "195                                                                                                                                                                                                                                                                                                                                                                                                                                                                                                                                                                                                                                                                                                                         barang sudah sampai , cepat pengirimannya terima kasih as komputer. barang sudah di terima , belum sempat coba. barang sesuai pesanan. barang sudah datang , semoga awet di pakai makasih. pemesanan diproses secepat kilat. terima kasih    \n",
              "196                                                                                                                                                                                                                                                                                                                                                                                                                                                                                                                                                                                                                                                                     berfungsi dengan baik , mantap. barang sdh diterima dgn baik amp sesuai pesanan tapi belum di test baterainya  barang mantaap makasih gan. sudah dipasang dan akhirnya laptop lama rasa baru , soalnya batere tahan lebih. luar biasa , barang sesuai dengan pesanan mantab top markotop. god    \n",
              "197                                                                                   barang oke sudah dipasang , packing rapi dan aman. barang sudah diterima , tapi belum di coba trim3s buat toko ini. ori dan berfungsi dengan baik. kemasan rapih , pengiriman cepat. barang sudah sampai tp dicoba semoga bisa dan awet , thx. bagus barangnya , ori sayang kirimnya lamo sekali. respon cepat , packing bagus dan aman baterainya sempat susah dipasang panik tapi dicoba lagi ternyata harus agak ditekan sedikit karna presisinya ukurannya kurang kayanya sudah di charge berfungsi normal mungkin untuk customer lain yg kebetulan dapat barang nyangkut kayak punya saya dulu saja tekan dicari posisi yang pas namanya bukan baterai asli biasanya tidak selalu banget sukses terus ya jualannya. barang sudah diterima dalam keadaan baik. pemesanan diproses secepat kilat. sudah dicoba dan oke , trims. mantaab , super cepat barang bagus trims gan.   \n",
              "198                                                                                                                                                                                                                                                                                                                                                                                                                                                                                                                                                                                                                                                                                                                                                                                                                                                                                                                                             barang sesuai pesanan.   \n",
              "199                                                                                                                                                                                                                                                                                                                                                                                                                                                                                                                                                                                                                                                                                                                                                                                                                   packing baik , recommended seller barang sesuai pesanan. produk ok , seller bertanggung jawabsalah kirim di retur langsung balik thanks. mantab.   \n",
              "\n",
              "     jumlah_ulasan  \n",
              "0                9  \n",
              "1               10  \n",
              "2                5  \n",
              "3                5  \n",
              "4                5  \n",
              "..             ...  \n",
              "195              6  \n",
              "196              6  \n",
              "197             11  \n",
              "198              1  \n",
              "199              3  \n",
              "\n",
              "[200 rows x 5 columns]"
            ]
          },
          "execution_count": 78,
          "metadata": {},
          "output_type": "execute_result"
        }
      ],
      "source": [
        "df_compact.head(200)"
      ]
    },
    {
      "cell_type": "code",
      "execution_count": 79,
      "metadata": {},
      "outputs": [],
      "source": [
        "df_compact2 = df_compact[df_compact['jumlah_ulasan']>=row]"
      ]
    },
    {
      "cell_type": "code",
      "execution_count": 80,
      "metadata": {},
      "outputs": [
        {
          "name": "stdout",
          "output_type": "stream",
          "text": [
            "<class 'pandas.core.frame.DataFrame'>\n",
            "Index: 1424 entries, 0 to 5965\n",
            "Data columns (total 5 columns):\n",
            " #   Column         Non-Null Count  Dtype \n",
            "---  ------         --------------  ----- \n",
            " 0   product_main   1424 non-null   object\n",
            " 1   rating         1424 non-null   int64 \n",
            " 2   original_ids   1424 non-null   object\n",
            " 3   ulasan         1424 non-null   object\n",
            " 4   jumlah_ulasan  1424 non-null   int64 \n",
            "dtypes: int64(2), object(3)\n",
            "memory usage: 66.8+ KB\n"
          ]
        }
      ],
      "source": [
        "df_compact2.info()"
      ]
    },
    {
      "cell_type": "code",
      "execution_count": 81,
      "metadata": {},
      "outputs": [
        {
          "data": {
            "text/plain": [
              "jumlah_ulasan\n",
              "6      252\n",
              "8      163\n",
              "7      154\n",
              "9      105\n",
              "10      72\n",
              "      ... \n",
              "79       1\n",
              "112      1\n",
              "72       1\n",
              "119      1\n",
              "330      1\n",
              "Name: count, Length: 133, dtype: int64"
            ]
          },
          "execution_count": 81,
          "metadata": {},
          "output_type": "execute_result"
        }
      ],
      "source": [
        "df_compact2['jumlah_ulasan'].value_counts()"
      ]
    },
    {
      "cell_type": "code",
      "execution_count": 82,
      "metadata": {
        "id": "OUiIZz00dSmt"
      },
      "outputs": [],
      "source": [
        "# df_compact2.to_csv('df_compact_final-unnormalized.csv', index=False)"
      ]
    },
    {
      "cell_type": "markdown",
      "metadata": {},
      "source": [
        "### uji coba panjang token/ EDA"
      ]
    },
    {
      "cell_type": "code",
      "execution_count": 83,
      "metadata": {
        "id": "tFzqhavtNLtw"
      },
      "outputs": [],
      "source": [
        "from transformers import T5Tokenizer\n",
        "from transformers import AutoTokenizer"
      ]
    },
    {
      "cell_type": "code",
      "execution_count": 84,
      "metadata": {
        "id": "zlLig9sLOcfo"
      },
      "outputs": [],
      "source": [
        "MODEL = 'wikidepia/indoT5-base'\n",
        "tokenizer = AutoTokenizer.from_pretrained(MODEL)\n",
        "# Hitung panjang token\n",
        "def count_tokens(text):\n",
        "    encoded = tokenizer.encode(text, add_special_tokens=True)\n",
        "    return len(encoded)"
      ]
    },
    {
      "cell_type": "code",
      "execution_count": 85,
      "metadata": {
        "colab": {
          "base_uri": "https://localhost:8080/"
        },
        "id": "WfXK9wHPM15J",
        "outputId": "5c79ac27-9caf-4146-e22f-92243623651e"
      },
      "outputs": [
        {
          "name": "stdout",
          "output_type": "stream",
          "text": [
            "                                                                                                                                                                                                                                                                                                                                                                                                                                                                                                                                                                                                                                                                                                                                                                                                                                                                                                                                                               ulasan  \\\n",
            "0                                                                                   bocor. brg tdk saya terima , entah nyasar dimana kurirnya bloon. barang lama sekali sampainya. salah alamat , sudah saya kirim chat bahwa minta dicancel utk pesanan tsb krn sy masukin menit berikutnya langsung pesan ulang ke yg betul bukannya dibaca dulu chatnya malah diproses dua duanya dasar gak becus ifil dan akan di toko ini lagi. barang datang tidak lengkap , yidak akan pernah belanja lagi di toko remi loreal. saya belum terima barang sampai tgl pdhl diperkirakan tanggal , status pengiriman sudah di pembeli padahal minta update 3 hari jawaban sama aja uang kembali. expirednya bulan 6 sekarang 9 coba dikonfirmasi dulu habis kek gitu ga malu kah toko resmi , ambil pahalanya aja malas ongkir bolak balik. barang tdk diterima , pengembalian dana dan saya disuruh urus sendiri ke toped. pesen 2 kok yg dateng cuma 1tolong di cek ulang donk    \n",
            "1   barang tidak sampai , hilang di ekspedisi antar aja padahal beli pas harga promo sekarang mau lagi udah normal huhuu. sedih ga dapet gratisannya padhl yg lainnya pd. yg satu kuasnya diangkat sudah dalam keadaan patah lepas , brushnya nyemplung di mohon dicek kembali sblm dikirim. expirednya bentar lagi. pengiriman lama banget hampir seminggu. kecewa , padahal udah batalkan pesanan karena ada masalah produk tapi masih aja dikirim entah gak mau ribet sama sekali atau admin cuma terima langsung kemas big no buat sekelas official store poin plusnya yg sesuai dengan yang dipesan. barang sampenya lama , box diterima dalam kondisi yang sudah rusak padahal mau buat kado. status pesanan sudah selesai dati kemarin sore tapi ternyata produknya belum saya terima sampai hari ini. barang ga sampai tp pesanan sudah diselesaikan karena otomatis. kw kirim brg bekas dan rusak serta tdk menerima komplain kapok bgt ga bkl lnja lg dsni.   \n",
            "5                                                                                                                                                                                                                                                                                              packing bagus , puass. respond cepat , packing aman barang sesuai deskripsi recommended. barang sudah diterima dengan baik , tidak ada yang bocortumpah diwrapping bubble aman. bagus , rambut jadi lembut. penjual cepat tanggap , barang sampainya terima kasih. mantap barangg cepeatt sampaii barang bagus penjual nyaa fast respons banget , packingan oke aman sampai di tempatt barangnya keren. top markotop. barang aman diterima , yg paling seneng wanginya enak banget. suka banget  wangi nya enak banget , bener kaya creambath salon. cinta banget sama produk ini , rambut jd lembut dan wangi bangettss always pake shampoo mah exp packingan mantap.   \n",
            "7                                                   respon cepat , packing aman banyak bonus nya pemesanan yg ke 2x trims agan sukses selalu. sudah diterima dalam keadaan lengkap dan ada bonusnya juga , terima kasih seller. paket cepat datang , packing aman sekali dapet bonus hair masker wanginya enak banget thank you loreal. repurchase ke 3 sangat puas dengan barang dan respon seller nya udah gitu selalu dapat bonus terima kasih. terbukti menumbuhkan rambutbeli yg ke kalinya ini  dapat sama seperti foto pembeli lain , serumnya dipakai dingin tidak panas. paket sampai super cepat , barang ori dari official shop gitu lho baru akan digunakan hari ini kalo ada hasilnya aku pesan lagi. barangnya sesuai deskripsi , semoga berhasil byee bye rambut rontok respon bagus dr reseller good. terima kasih paket sdh diterima dengan baik , juga diberi voucer. bagus ngga pernah mengecewakan packingnya aman banget , kemasan bar sekarang.   \n",
            "14                                                                                                                                                                                                                                                                                                                                                                                                                                                              respond seller aga lama , pengirim jg tapi packaging rapi barang sampai dan berfungsi dengan baik. pengiriman cepat , mantab barangnya. manntab gan , good dah. barang sesuai gambar , cepat sampai goodlah. fast response bgt , mantap gan. respon cepat , brg sesuai gambar oke sellernya sukses gan. sesuai pesanan packing joss mantap cepet sampe. packaging rapi , sangat memperhatikan konten respon cepat barang sesuai dengan informasi thanks. danke gan  terima kasih barang sudah sampai.   \n",
            "\n",
            "    token_length  \n",
            "0            214  \n",
            "1            221  \n",
            "5            181  \n",
            "7            209  \n",
            "14           128  \n",
            "Rata-rata panjang token: 353.72331460674155\n",
            "Token terpanjang: 15031\n",
            "Token terpendek: 30\n",
            "Jumlah data dengan panjang token antara 150-1800: 714\n"
          ]
        },
        {
          "data": {
            "image/png": "[encoded data removed]",
            "text/plain": [
              "<Figure size 1200x600 with 1 Axes>"
            ]
          },
          "metadata": {},
          "output_type": "display_data"
        }
      ],
      "source": [
        "import pandas as pd\n",
        "import numpy as np\n",
        "import matplotlib.pyplot as plt\n",
        "import seaborn as sns\n",
        "from transformers import AutoTokenizer\n",
        "\n",
        "# Load dataset\n",
        "df = df_compact2.copy()  # Ganti path sesuai file kamu\n",
        "\n",
        "# Drop baris kosong di kolom 'ulasan'\n",
        "df = df.dropna(subset=['ulasan'])\n",
        "\n",
        "# Hitung panjang token\n",
        "def count_tokens(text):\n",
        "    encoded = tokenizer.encode(text, add_special_tokens=True)\n",
        "    return len(encoded)\n",
        "\n",
        "df['token_length'] = df['ulasan'].apply(count_tokens)\n",
        "\n",
        "# Statistik dasar\n",
        "mean_length = df['token_length'].mean()\n",
        "max_length = df['token_length'].max()\n",
        "min_length = df['token_length'].min()\n",
        "antara_150_2000 = ((df['token_length'] >= 150) & (df['token_length'] <= 2000)).sum()\n",
        "\n",
        "print(df[['ulasan', 'token_length']].head())\n",
        "print(f\"Rata-rata panjang token: {mean_length}\")\n",
        "print(f\"Token terpanjang: {max_length}\")\n",
        "print(f\"Token terpendek: {min_length}\")\n",
        "print(f\"Jumlah data dengan panjang token antara 150-1800: {antara_150_2000}\")\n",
        "\n",
        "# =============================\n",
        "# V I S U A L I S A S I\n",
        "# =============================\n",
        "\n",
        "# Atur style\n",
        "sns.set(style=\"whitegrid\")\n",
        "\n",
        "plt.figure(figsize=(12, 6))\n",
        "sns.histplot(df['token_length'], bins=50, kde=True, color='skyblue', edgecolor='black')\n",
        "\n",
        "plt.axvline(mean_length, color='red', linestyle='--', label=f'Mean: {mean_length:.2f}')\n",
        "plt.axvline(150, color='green', linestyle=':', label='Min Threshold (150)')\n",
        "plt.axvline(1500, color='orange', linestyle=':', label='Max Threshold (2000)')\n",
        "\n",
        "plt.title(\"Distribusi Panjang Token dari Kolom 'ulasan'\")\n",
        "plt.xlabel(\"Jumlah Token\")\n",
        "plt.ylabel(\"Frekuensi\")\n",
        "plt.legend()\n",
        "plt.tight_layout()\n",
        "plt.show()\n"
      ]
    },
    {
      "cell_type": "code",
      "execution_count": 86,
      "metadata": {
        "colab": {
          "base_uri": "https://localhost:8080/"
        },
        "id": "FM3BVht6nlgM",
        "outputId": "c0fa476f-084e-4c5e-dd7a-c3889cab8710"
      },
      "outputs": [
        {
          "name": "stdout",
          "output_type": "stream",
          "text": [
            "Jumlah token kurang dari atau sama dengan 125: 714\n"
          ]
        }
      ],
      "source": [
        "print(f\"Jumlah token kurang dari atau sama dengan 125: {antara_150_2000}\")"
      ]
    },
    {
      "cell_type": "code",
      "execution_count": 87,
      "metadata": {
        "id": "XiHEMU3mnswr"
      },
      "outputs": [],
      "source": [
        "df = df[(df['token_length'] >= 150) & (df['token_length'] <= 2000)]"
      ]
    },
    {
      "cell_type": "code",
      "execution_count": 88,
      "metadata": {},
      "outputs": [
        {
          "data": {
            "application/vnd.microsoft.datawrangler.viewer.v0+json": {
              "columns": [
                {
                  "name": "index",
                  "rawType": "int64",
                  "type": "integer"
                },
                {
                  "name": "original_text",
                  "rawType": "object",
                  "type": "string"
                }
              ],
              "conversionMethod": "pd.DataFrame",
              "ref": "8af04644-b4a8-4e3d-94b3-aaa8e4f1304b",
              "rows": [
                [
                  "0",
                  "bocor. brg tdk saya terima , entah nyasar dimana kurirnya bloon. barang lama sekali sampainya. salah alamat , sudah saya kirim chat bahwa minta dicancel utk pesanan tsb krn sy masukin menit berikutnya langsung pesan ulang ke yg betul bukannya dibaca dulu chatnya malah diproses dua duanya dasar gak becus ifil dan akan di toko ini lagi. barang datang tidak lengkap , yidak akan pernah belanja lagi di toko remi loreal. saya belum terima barang sampai tgl pdhl diperkirakan tanggal , status pengiriman sudah di pembeli padahal minta update 3 hari jawaban sama aja uang kembali. expirednya bulan 6 sekarang 9 coba dikonfirmasi dulu habis kek gitu ga malu kah toko resmi , ambil pahalanya aja malas ongkir bolak balik. barang tdk diterima , pengembalian dana dan saya disuruh urus sendiri ke toped. pesen 2 kok yg dateng cuma 1tolong di cek ulang donk "
                ],
                [
                  "1",
                  "barang tidak sampai , hilang di ekspedisi antar aja padahal beli pas harga promo sekarang mau lagi udah normal huhuu. sedih ga dapet gratisannya padhl yg lainnya pd. yg satu kuasnya diangkat sudah dalam keadaan patah lepas , brushnya nyemplung di mohon dicek kembali sblm dikirim. expirednya bentar lagi. pengiriman lama banget hampir seminggu. kecewa , padahal udah batalkan pesanan karena ada masalah produk tapi masih aja dikirim entah gak mau ribet sama sekali atau admin cuma terima langsung kemas big no buat sekelas official store poin plusnya yg sesuai dengan yang dipesan. barang sampenya lama , box diterima dalam kondisi yang sudah rusak padahal mau buat kado. status pesanan sudah selesai dati kemarin sore tapi ternyata produknya belum saya terima sampai hari ini. barang ga sampai tp pesanan sudah diselesaikan karena otomatis. kw kirim brg bekas dan rusak serta tdk menerima komplain kapok bgt ga bkl lnja lg dsni."
                ],
                [
                  "5",
                  "packing bagus , puass. respond cepat , packing aman barang sesuai deskripsi recommended. barang sudah diterima dengan baik , tidak ada yang bocortumpah diwrapping bubble aman. bagus , rambut jadi lembut. penjual cepat tanggap , barang sampainya terima kasih. mantap barangg cepeatt sampaii barang bagus penjual nyaa fast respons banget , packingan oke aman sampai di tempatt barangnya keren. top markotop. barang aman diterima , yg paling seneng wanginya enak banget. suka banget  wangi nya enak banget , bener kaya creambath salon. cinta banget sama produk ini , rambut jd lembut dan wangi bangettss always pake shampoo mah exp packingan mantap."
                ],
                [
                  "7",
                  "respon cepat , packing aman banyak bonus nya pemesanan yg ke 2x trims agan sukses selalu. sudah diterima dalam keadaan lengkap dan ada bonusnya juga , terima kasih seller. paket cepat datang , packing aman sekali dapet bonus hair masker wanginya enak banget thank you loreal. repurchase ke 3 sangat puas dengan barang dan respon seller nya udah gitu selalu dapat bonus terima kasih. terbukti menumbuhkan rambutbeli yg ke kalinya ini  dapat sama seperti foto pembeli lain , serumnya dipakai dingin tidak panas. paket sampai super cepat , barang ori dari official shop gitu lho baru akan digunakan hari ini kalo ada hasilnya aku pesan lagi. barangnya sesuai deskripsi , semoga berhasil byee bye rambut rontok respon bagus dr reseller good. terima kasih paket sdh diterima dengan baik , juga diberi voucer. bagus ngga pernah mengecewakan packingnya aman banget , kemasan bar sekarang."
                ],
                [
                  "17",
                  "barang sesuai  sesuai deksripsi , pengiriman tepat waktu. belum saya coba pakai , terima kasih.  the product received matches description of , material is strong and not easily to get dusty can function very well both for indoor or outdoor usage seller was fast in responding my questions during transaction process overall im satisfied shopping this shop.  selalu puas belanja disini sukses ka. , makasih. udah sampai gan , thx ya. semoga awet dan nyaman dibpakai , tq gan. barang sudah saya terima dengan baik dan tepat waktu kasih. makasih proses cepet banget bantu bgt buat yg dropship  suka  barangnya bagus dan berfungsi dengan baik. barang sdh diterima dengan baik , thx gan. barangnya ok , sangat berguna. terima kasih gan barang sudah sampai  oke , sesuai pesanan thanks. makasih , penutup telinganya sudh samapi bisa berenang dgn aman. barang sampai tanpa cacat dan sesuai. thanks gan , baranh udah sampe maaf lama barangnya nyangkut di pos satpam. barangnya bagus , proses cepat makasih ya. pesanan cepat diproses tp ukurannya trlalu bsar u tlinga sya. barang cukup bagus , harga juga sdh sering dipakai tutup kupingnya tdk bocor awet sukses deh buat yg jual. barang sdh diterima , terima kasih. thanks gan , barang udah saya terima. barang sudah masuk , packingan ok tq. barang sudh d terima dengan baik. kualitas bagus , thanks ya gan."
                ],
                [
                  "19",
                  "ehhdh. mantab , asli ketler punya. sesuai dengan foto , namun barang terlalu longgar amp tidak bisa pas harus dipasang wristbandhanduk untuk mengganjal agar tetap kencang pengiriman cepat tepat waktu yang dijanjikan overall. barang sesuai dengan gambar , packing sedikit kurang rapi. barang ok , pelayanan penjual jg cepat termasuk pengiriman barangnya thanks. sesuai deskripsi  terima kasih barang telah diterima dg baik , respon dan pengiriman sangat cepat recommended. recommended seller , thanks gan sukses terus. barang bagus dan pas , cuma kurir jne nya aja yg lama overall good. terimakasih pesanan sudah saya terima. packaging rapi , fisik barang oke. proses cepat dan barang sesuai  the product is good quality and was recieved in very condition  bagus , kualitas ok sesuai harapan harga bersaing fast service shipping kalo bisa ditambahkan option ekspedisi selain jne makin top deh packing rapi recommended seller thanks ya warung. barang sudah sampai dengan selamat  bagus , barangnya sesuai foto kualitas ok harga bersaing packing kardus aman service shipping cepat recommended seller thanks ya warung olahraga. got it thank you "
                ],
                [
                  "23",
                  "produk bagus , matap tinggal pakai tnk gans. barang sesuai pesanan  respos oke , barang tp sayang knp jne mengecewakan pakai yes nyampai 4hari btw seller recomen deh. pngiriman cepat , qualitas bagus wrna sesuai foto. barangnya bagus  barang bagus sesuai diskripsi , thanks gan. barang bagus , sesuai dengan pesanan.  sesuai dengan pesanan thank you. mantapp , biar bintang yg berbicara. harganya murah , barangnya bagus puas. mantap gan , recomended seller. barang sudah diterima , cepat tp belom di coba. bagus , kaca tidak buram sangat jika mau snorkling pemula good. terima kasih gan , barang sampe repat waktu dan good seller. terima kasih barang sudah sampai , pengiriman cepet siip many thanks. terimakasih , untuk barang sudah diterima dengan baik. barang udah sampai di rumah , thanks. maaf bru bisa kasi ulasan , barang bagus mantab. cepat , rapi barang cukup ok murah meriah. barang lumayan bagus dengan harga yg sangat low. barangnya sudah di terima dengan baik , tp blm sempet nyoba mudah mudahan gak ada masalah sama tolong cantumkan ukuran all size soalnya sedikit kekecilan pandangan mata thanx. bagus , paketan sdh sampe makasih ya. warna sesuai permintaan , brg gambar. kualitas sesuai harga fast respon ok good. barang sudah diterima dirumah , cuma belum liat krn masih diluar kota thanks gan. googles oke , sudah test di laut air tidak masuk sedikitpun ke dalam snorcle lumayan masih kadang lewat valve bawah harus nya karena ini semidry model sehingga sering tiup untuk mengeluarkan. sudah diterima , terimakasi bagus. barang sesuai gambar dan pengiriman cepat , thanks. proses pengirimannya cepat sekali , terima kasih. makasih bos , barangx udah sampe tinggal nyemplung ke pulau sambori hehehe. cepat sekali sampainya , barangnya sesuai dengan fotonya. barang diterima , sesuai dg gambarnya tq. good , pelayanan cepat lupa sedikit pesenan dari wa tapi tidak apaapa. barang ok mantap , siap digunakan. lihat bintangnya saja ya. lihat bintangnya aja ya. terima kasih , barang telah diterima. sudah terima dengan baik , kualitas memuaskan. terimakasih kang  produknya bagus dan kelihatan kuat , belum saya coba sih cuma mau tahu aja knp warna karet transparant di kaca mata nya agak kusam apakah emg warnanya demikian. sory baru kasih testi , krn cobanya kmrn mantap barangnya gan. thanks barang sudah sampai dengan baik rapih. sesuai fto , kiriman cepet mantep. barang sudah diterima dengan baik , trims. barang sudah diterima dengan selamat , makasih ya cici pasti saya mampir lagi. paketan nya sudah sampai balikpapan gen , terpercaya lah pokok. lumayan bagus , recomended gan. paket pas diantar oleh jne dalam keadaan sudah dibuka  barang lengkap tp agak kotor dan kondisi sudah terbuka dr packaging. trimaksh brang udah di trima aman pas mantab  barang sudah sampai terima kasih. terimakasih gan barang udah nyampe. brg sdh diterima trims "
                ],
                [
                  "28",
                  "oke  mantaps gan , barang mendarat dengan selamat. barang ok banget , sip. barang ok pengiriman cpt. alhamdulillah paket sampai dengan selamat. good , proses cepat dan komunikatif terimakasih. good seller , quick shipping will buy again. mantapp , barang sesuai deskripsi packing rapi. proses cepat , recomended. satples berfungsi dengan baik tanpa ada kendala , cuman isinya staplesnya yang kurang heheheh. kualitas mantap , harga murah. bagus sesuai gambar respon cepat pengiriman. paket sudah duterima dgn baik boss , barg bags sesuai diskripsi trim salm sukses. mantapp gan , harga bersaing dibanding toko lainnya good. bagus dan cukup memuaskan sesuai pesanan. kemasan rapi  seller top servicenya barangbarangnya mantab semua seneng belanja di toko ini  bagus  barang bagus , tkanan tembak bisa di ajust mantab. gan maaf baru konfirmasi , barang sip cepat nyampainya tanks ya. bos barang sip dan cepat pengirimannya. respon seller cepat , kiriman barang mantap. respon kilaat , brg ssuai ok gan. barang sesuai diskripsi dan berfungsi baik , juga cepat pengurimannya."
                ],
                [
                  "45",
                  "makasih gan barang sudah di terima dan berfungsi dengan baik  sesuai dengan yang saya inginkan , nota asli juga dikirim mantap. alat sudah dites dan berfungsi dengan baik. top brang y sesuai pesanan. bagus sesuai pesanan barang cepat sampai. lgsg dicoba mantep , thanks ya jgn lupa beli batere 9v untuk yg mau. barang sangat cepat sampai , sudah di cek ok. sangat cepat dan tepat , barang juga berfungsi normal. barang berguna , serpis ngebut. barang bagus , sesuai dengan yang saya inginkan. barang sudah sampai , tp belum di coba. respon penjual cepat barang sesuai deskripsi , baterai tidak termasuk ternyata. barang sesuai packingan oke delivery cepat. barang bagus , ud di pakai tku yah. respon cepat dan barang sesuai pesanan , trimakasih ya sukses selalu. barang sesuai packingan bagus respon seller cepat. barang sesuai dengan yang di pesan. sudah trm lama , maaf br kirim ulasan. barang cepat sampai dan seller kooperatif. barang bagus , cepat sampai nota asli juga dikirim mantaaps. trimakasih gan , barang cepat sampai dan sesuai pesanan sukses ya. berjalan dengan baik , terima kasih. terimakasih sudah sampai  barang sudah nyampai , semoga awet dan akuran bisa dipake scan cable panjang. respon cepat barang sdh sampai  fast respon , barang sesuai tapi belum ditest semoga ga ada masalah recomended seller. belum di coba , pengiriman cepat. brg sesuai deskripsi , packing rapih sukses trs ya. barang sesuai deskripsi , thanks. fast respon , barang sesuai deskripsi. pelayanan dan pengiriman tepat waktu. top markotop , sudah sampai ngebut dan di tes ok mantep cuma ngak dapet batre nya yah hahaha. pengiriman cepat dan kualitas produk baik , terima kasih. great  barang sudah sampai , terimakasih yah. sesuai dengan deskripsi , tinggal masukkan 2x baterai 9v dan jalan. pengiriman sampai tepat waktu saat diperlukan , alatnya sangat membantu pengecekan dan istalasi jaringan. barang sesuai pesanan  terima kasih kiriman sudah sampai. semua barang sesuai , cepat tanpa ribet. terima kasihj  bagus dan dapat digunakan  barang cepat sampai , mantap. barang bagus , fungsi baik dan sangat membantu. proses cepat barang blom di test sempat bli baterainya. cpt sampai , mksh gan. barang cepat datang , thanks. barang sesuai pesanan , belum sempet di tes mudah awet thanks. sudah dicek , works. barang cepat sampai dan aman. sesuai pesanan , fast respon. thank you barang udah sampe dan sesuai. barang dah tiba tp blm dicoba mudahan alat bekerja dgn baik. maaf lupa kasih ulasan , barang sudah diterima sesuai spek semoga awet. trimakasih pelayanan memuaskan. mantap packing rapi  pengiriman cepat sekali. pengiriman barang lancar , diterima dalam kondisi baik. secara keseluruhan masih bisa digunakan , meskipun fungsi scanner terlalu peka terhadap gelombang jika didekatkan pada sumber listrik lain selain akan muncul noise yang menurut saya dibedakan dengan nada setara harga bayar. packing baik aman jaya , sukses terus. barang sudah sampai , packing aman moga awet. packing ok , barang bagus cepat sampai. barang sudah diterima dengan baik , pengiriman lumayan cepat terima kasih. fast respon dan packing rapi serta aman. baru sempet review barang sesuai gambar dan udh di coba hasilnya good. penjual sgt responsif , pengiriman cepat barang sesuai dgn yg dipesan trm ksh. respon seller ok , barang sudah di pakai dan so far. sangat puas karena bayar malam datang besoknya wow makasih ya. makasih ya gan , barangnya sudah saya terima dengan baik response sellernya juga sangat dan komunikatif sayang kurang batery nya saja hehehe. sampai dengan keadan kotak kebuka , kecepatan penngiriman bagus barang blum di coba tapi keligatanya dalam keadaan baik. maaf baru di konfirm , barang sdh diterima kemarin. di kemasan tertulis include batery 9 volt , tapi baterainya gak ada. mantap gan , terima kasih banget ya. barang sudah di terima dengan baik kasih. terima kasih sudah diterima dengan baik. barang sudah terima dengan baik gan , saya coba recommended seller thanks. tanks , barang sudah sampe kondisi ok. unit udh d trima dg baik dan sudah bs cek normal  good seller respon cepat pengiriman jug acepet. teater bagus dan penjual cepat tanggap reaksinya. fast shipping and as described , would buy again thanks. barang udah diterima sesuai order , thanks. barang sudah diterima namun blm ditest mudah mudahan tdk ada masalah amin. seller respon nya cepat baru pesan langsung di kirim ga pake nunggu barang sampe rumah gak , 2 jam luar biasa. jgn ragu beli di sini , barang bagus bisa ngelacak kabel yg barantakan."
                ],
                [
                  "52",
                  "barang sesuai , berfungsi dapet isi nya 3 set dalam 1 kotak. sesuai dengan yg diharapkan pengiriman dan respon pelapak cepat , recommended deh. barang sudah sampai dan diterima dengan baik , trims. barang dapat dipakai dengan baik. barang sesuai dengan pesanan , recommended seller. staples nya cukup bagus , terima kasih. sudah diterima sesuai pesanan , trims. barang bagus kondisi ok. mantaplpp. barangnya sudah sampai barang bagus. terima kasih  barangnya bagus , berfungsi dg baik pengiriman cuma 3 hari. trimakasih brg sdh diterima dgn baik. belum di test lagi mudah mudahan bagus dan awet. telah diterima dgn baik , dan pengiriman cepat trima kasih. barang sudah terima sesuai pesanan , belum dicoba mudahan bagus karena selama belanja disini selalu. paket sudah diterima dengan baik. terima kasih barang sampe dengn cepat. udah saya terima gan terimakasih  belum digunakan , moga berfungsi dgn baik respon penjual cepat thanks. sudah sampai , trims. di gunakan berfungsi dengan baik  mgk krn jarak jd lama di pengiriman aja , tks. barang oke berfungsi dg baik , pengriman cepat makasih bos. sesuai deskripsi , thanks gan sukses terus. trims gan , respon cepat baranh udah di coba kondisi oke mantap siap order lg. a. lagi , proses cepat pengiriman kilat packing mantab pokoknya best seller. proses cepat , harga murah barang bagus tq boss. cepat rapi dan juga murah tapi gak murahan. barang oke smpe dengan selamat. proses cepat , pengiriman kilat packing mantab pokoknya best seller. thx boss barang telah di terima dan tes ok  sudah dicoba barangya berfungsi dengan baik. barang sudah sampai , sesuai dengan pesanan terimakasih. sesuai ekspektasi , tampak kokoh sip lh. sdh sampai sedikit penyok packing nya , tapi super kilat pengirimannya thx bos. reveiw negatif 1 , barang sampai masih tersegel padahal udah diminta buat dicoba dulu sebelum dikirim alhamdulillah ga ada masalah jadi perlu kompain apalagi berkepanjangan mungkin karena seller yakin barangnya bagus 2 tidak direkomendasikan untuk amunisi jenis t paku terjadi macet dan harus dibongkar lalu aminisi yg nyangkut didorong paksa keluar bisa disebut ini kelemahan produk serupa merk apapun dilihat di gambar review positif emejing materialnya manteb harga warbiazah packing aman tebal digunakan dengan 3 dibekali amunisinya sayangnya atas fitur adjutable driving force sangat membantu menyesuaikan medan pemakuan 4 bila terlanjur amunisis tadi pembongkaran mudah cukup lepas pin yang dorong pendorongnya kondisi cek kesimpulannya lihatnya bintang mewakili kepuasan saya semoga laris manis recomended. paket udah diterima gan , paking dan barangnya mantap. blm di coba , semoga awet dan bagus tanks gan. thanks gan , barangnya baru diterima belum dicoba. ok barang sudah di terima , mantap mkasih. makash ya gan. terimakasih gan barang sudah sampai dengan selamat. barang sudah sampai dan sesuai harapan. biar bintang bicara deh , terima kasih. barang ok fast respon thanks gan. thanks , gan paket dh sampai barang ok dn sesuai pesanan recomended seller. terima kasih  brg sudah terima , pengiriman cepat kualitas barang bagus melebihi ekspektasi saya untuk ini sdh dicoba mantap hasilnya recommended seller. produk bagus , mantap sukses terus. sudah sampai , terima kasih banyak. warning awas hatihati agan ini menjual barang murah tapi tidak murahan semoga banyak penjual di tokopedia seperti , jujur and fast respon terimakasih eddy suryadi gunungsitoli. barang sdh sampe dgn baik , sukses yaa gan. barang sudah diterima dengan baik , terima kasih. barang sdh diterima , thx. barang sesuai dengan iklan , seller respond nya sangat cepat. terima kasih , barang sudah sampai ditempat saya berhubung lokasi penjual dengan tidak terlalu jauh pengiriman cukup cepat dan produknya berfungsi baik. terima kasih , sudah sampai kemarin. paket sudah smpai , cept dan rapi makasi gan. kualitas barang sesuai harga , recommended seller. thanks bos , brg sudah ku terima. barang berfungsi baik , thanks transaksinya. sip mantap cepat , memuas kan binggo. terima kasih  makasih gan , barang sudah diterima. barang nya sangat bagus sekali dan snagat memuaskan. terima kasih gan barang sudah sampai maaf late review biarkan bintang berbicara. mantap , barang nympe dgn sehat slamt ha. hekternya sudah sampai , thannkkss bangeedd. bagus cepat murah mantab dah , ane favoritin biar gampang klo beli lagi. thks , barang sudah diterima. barang sudah diterima dengan baik terima kasih  udah diterima barangnya , gan thanks. pesanan telah diterima lengkap dan utuh juga cepat , terima kasih. sudah sampai "
                ],
                [
                  "54",
                  "ok. barang dapat dipakai dengan baik. barang sesuai dengan pesanan , recommended seller. terima kasih  sudah diterima sesuai pesanan , trims. makasih gan barang sudah sampai tujtuan. paket sudah sampai trimakasih  terima kasih  barang bagus sesuai dengan deskripsi  barang dah diterima sesuai pesanan , semoga sukses selalu. trimakasih brg sdh diterima dgn baik. sesuai dengan foto , bagus. barang oke mantap  a. respon cepat dan kiriman , thank you. proses cepat , harga murah barang bagus tq boss. cepat rapi dan juga murah tapi gak murahan. makasih y gan. terimakasih gan barang sudah sampai dengan selamat. barang sudah sampai dan sesuai harapan. bahan tebal dan bagus , sangat ccok di hekter tembak kami gan trims. terima kasih  good qlty , moga bisa terus mempertahankan cara kerja seperti ini di masa mendatang. mantap , kualitas bagus tq sukses terus. respon cepat , kualitas bagus recommend. barang sdh diterima , thx. thanks isi hekter sudah datang namun belum dicoba. kualitas barang sesuai harga , recommended seller. makasih gan , barang sudah diterima. barang nya mayan buatvstok ane yg udahbmau abis hehehe. sudah sampai malam ini , terima kasih. barang sudah diterima dengan baik , pelayanan yang dan cepat. brang sudah diterima dan cocok  pesanan telah diterima lengkap dan utuh juga cepat , terima kasih. dah sampai "
                ],
                [
                  "55",
                  "mantap , sesuai deskripsi. terima kasih. reksell , proses pengiriman cepat. barang sudah sampai packing rapi sesuai transaksi. maksih barang sampai dengan peking yabg baik , allhamdulilillah. mantap biar bintang berbicara. mantul puas bangt sore tf besoknya udh smpe , barang sesuai pesanan good job. barang mantaap , cepat n work it. pakunya kuat , barang asli sesuai dgn foto. super. mantap gan sesuai gambar dan pesanan. pas mantap. fast respon delivery , tapi blm dicoba bagus gaknya. recommended seller  barang sudah di terima dengan baik , tks. barang ori , sesuai dgn deskripsi. mantab nih , barang sesuai judul foto dn deskripsi. produk sesuai , berfungsi baik thanks.  untuk respon cukup cepat amp pengiriman standard sesuai dengan pesanan. respon penjual cepat dan ramah , barang bagus meskipun warnanya gk hitam tpi papa kualitas tetep ok. sesuai deskripsi  barang sesuai deskripsi , respon penjual dan pengiriman cukup cepat belum dicoba. terima kasih respon cepatnya gan. fast respond dan cepat sampai. zipp  pengiriman cepat , dicoba juga sesuai ekpetasi terima kasih. puasbarang asli krisbow , terimakasih. sesuai pesanan , pengiriman cepat dan packingnya aman terimakasih. thanks , dah terima barang bekerja dengan baik. mantap. barang sdh sampai , sesuai dgn gambar trimksh. terima kasih barangnya sudah sampai. packing baik , cepat sampai barang sesuai pesanan. brg baguss , cepat sampai. mantap gan cpt bgt kmrn trf sampe padahal pke jne reg. fast respon dan cepat pengirimannya , good seller. sudah dicoba dan berfungsi dengan baik  pengiriman super cepat , jam transfer lalu barang sudah saya terima sesuai deskripsi dan gambar kasih ya recommended seller. barang sesuai dengan yg ada difoto , mantaps. brang ud smpai kondisi ok. recommended lah pokoknya  mantap deh pokoknya recomen buat yg lain. respon cepat , barang sesuai paket rapi dan aman thanks. barang bagus , tidak ada kendala baik di pengiriman maupun unit barangnya. awalnya bagus tp setelah dipakai agak lama jd kurang kencang , padahal merek krisbow. barang udh nyampe sesuai pesanan , sayang ternyata ga bisa make isi staples stationery biasa yg no 3 harus di deskripsi tulis ukuran nya. barangnya ok  produk mantap , sesuai gambar tembakan juga kuat semoga awet tq. kenceng gansipp  mantap , sesuai deskripsi. terima kasih. reksell , proses pengiriman cepat. barang sudah sampai packing rapi sesuai transaksi. maksih barang sampai dengan peking yabg baik , allhamdulilillah. mantap biar bintang berbicara. mantul puas bangt sore tf besoknya udh smpe , barang sesuai pesanan good job. barang mantaap , cepat n work it. pakunya kuat , barang asli sesuai dgn foto. super. mantap gan sesuai gambar dan pesanan. pas mantap. fast respon delivery , tapi blm dicoba bagus gaknya. recommended seller  barang sudah di terima dengan baik , tks. barang ori , sesuai dgn deskripsi. mantab nih , barang sesuai judul foto dn deskripsi. produk sesuai , berfungsi baik thanks.  untuk respon cukup cepat amp pengiriman standard sesuai dengan pesanan. respon penjual cepat dan ramah , barang bagus meskipun warnanya gk hitam tpi papa kualitas tetep ok. sesuai deskripsi  barang sesuai deskripsi , respon penjual dan pengiriman cukup cepat belum dicoba. terima kasih respon cepatnya gan. fast respond dan cepat sampai. zipp  pengiriman cepat , dicoba juga sesuai ekpetasi terima kasih. puasbarang asli krisbow , terimakasih. sesuai pesanan , pengiriman cepat dan packingnya aman terimakasih. thanks , dah terima barang bekerja dengan baik. mantap. barang sdh sampai , sesuai dgn gambar trimksh. terima kasih barangnya sudah sampai. packing baik , cepat sampai barang sesuai pesanan. brg baguss , cepat sampai. mantap gan cpt bgt kmrn trf sampe padahal pke jne reg. fast respon dan cepat pengirimannya , good seller. sudah dicoba dan berfungsi dengan baik  pengiriman super cepat , jam transfer lalu barang sudah saya terima sesuai deskripsi dan gambar kasih ya recommended seller. barang sesuai dengan yg ada difoto , mantaps. brang ud smpai kondisi ok. recommended lah pokoknya  mantap deh pokoknya recomen buat yg lain. respon cepat , barang sesuai paket rapi dan aman thanks. barang bagus , tidak ada kendala baik di pengiriman maupun unit barangnya. awalnya bagus tp setelah dipakai agak lama jd kurang kencang , padahal merek krisbow. barang udh nyampe sesuai pesanan , sayang ternyata ga bisa make isi staples stationery biasa yg no 3 harus di deskripsi tulis ukuran nya. barangnya ok  produk mantap , sesuai gambar tembakan juga kuat semoga awet tq. kenceng gansipp "
                ],
                [
                  "65",
                  "fungsi normal kualitas standar sesuai harga , rekomended seller. oke banget sesuai kebutuhan. barang berfungsi dengan baik. barang bagus sesuai dengan deskripsi , respon juga cepat smoga awet deh. bagus gan sesuai dengan pesenan. barang sampai sesuai pesanan , pengiriman cepat packing aman trm kasih. oke sjsksijebejekwoshs. mantap. barang cocok makasi gan. barang sudah diterima , makasi. mantap barang sesuai pesanan gan , tidak kurang satu pun sukses selalu. mantap dah ini barang harga murah , tapi kualitasnya oke puas deh pokoknya recomend utk agan yg mau beli phone holder di motor. order sekarang besok langsung sampai euy  mantab  barang sudah diterima , terimakasih banyak. mangtab sellernya , pesen jam 3 langsung dikirim hari itu jg besok dah sampe tq bro. barang sudah datang , terimakasih banyak. barang sesui pesanan tdk ada cacat. terimakasih , pengirimannya cepat sekali. thanks gan barang sudah mendarat. maaf baru kirim ulasannya , barang yg dikirim sesuai dan pengirimannya cepat terima kasih atas pelayanannya. gila , barang bagus gini dijual murah bngt top gan makasih puas. barang ok , pas di motor."
                ],
                [
                  "82",
                  "sesuai deskripsi , kualitas oke good. mantap barangnya dan awet. mantap puas sekali dengan barangnya. packaging mantap , pengiriman cepat harga terjangkau. cepat sekali , brg sesuai pesanan makasih. jaitan bolanya agak kurang rapih , tapi dengan harga segini udah worth it banget packing dan pengiriman cukup cepat. bolanya bagus banget , sesuai bangeet keren. thx gan barang cepat sampainya. respon cepat , packing rapi kiriman kualitas god. barang bagus , proses cepat. mantap sesuai pesanan dan kualitas barang bagus. kualitas barang ok , packing juga rapi top. mantap lah beli lagi disini kalo butuh. pengiriman cepat dan kemasannya bagus , barangnya juga. packing rapih sesuai dengan foto , kualitas baik respon seller cepat. belum sempet buka , tapi semoga bagus dah. kualitas ok , produk sesuai gambar. produk bagus , layanan. barang dan pelayanan bagus , bintang berbicara. terima kasih kembali yah gan , sip. nice seller , fast shipping rekomen sukses lapakny gan. bola sudah diterima dengan baik. barang di terima dengan baik mantap."
                ],
                [
                  "86",
                  "mantap pokok e , barang sesuai gambar laris terus juragan. produk sangat kokoh dan pengiriman aman , respon seller cepat serta ramah terima kasih kakak. barang sesuai dan respon cepat. pengiriman luar biasa cepat , very recomended. respon kirim cepat , barang aman. makasih , ring basketnya sesuai dengam keperluan anak saya. produk sesuai dengan gambar , untuk pemula shooting saja saran yang suka ngedunk lebih baik beli tebalan dan ada per nya. respon penjual bagus dan barang sesuai pesanan. bagus barangnya sesuai foto dan pengiriman cepat , thanks. kualitas baik , belum sempat dipasang tapi sdh terlihat kokoh. response cepat , barang sesuai specs. barang lumayan , cuma kok penjual menulis berat salah sehingga biaya ongkir tertulis tapi di struk jne ada selisih 5 capek deh. barangnya bagus cukup kuat  barangnya cepet sampeknya bagus. barang bagus , respon cepat. nice thanks gan  barang sampai kurang dari 1 jam. barang sudah saya terima , cukup bagus. datang cepat , terimakasih besi nya kuat adek saya seneng. finishing nya agak kasar , secara keseluruhan ok harga sesuai."
                ],
                [
                  "87",
                  "blom kpake ga ccocok ama pluru nya trnyata. terimakasih  sesuai gambar , kualitas dengan harga. bad response , ga ada jawaban setiap di tanya sangat silent seller. respon kurang cepat , lain kali agak thanks. ya lumayanlah buat dekorasi semoga awet  harap informasi isi staples yg bagaimanakah cocok. blom kpake ga ccocok ama pluru nya trnyata. terimakasih  sesuai gambar , kualitas dengan harga. bad response , ga ada jawaban setiap di tanya sangat silent seller. respon kurang cepat , lain kali agak thanks. ya lumayanlah buat dekorasi semoga awet  harap informasi isi staples yg bagaimanakah cocok."
                ],
                [
                  "88",
                  "good seller , sukses selalu. semoga awet  terima kasih  barang sesuai harga n berfungsi dengan baik  pesanan sesuai dengan gambar pengiriman cepat makasih  gan , barang sesuai foto mudah mudahhan awet nih blm coba karna ada isinya. barang sdh sampai , belum dicoba semoga bisa pakai dan awet thank u seller. barang sudah sampai , bagus packing rapi. barang sesuai gambar , bagus murah tapi tidak murahan. barang sdh ditrima dan berfungsi , manteb gan. thanks  sesuau dengan pesanan semoga awet , thx. barang sesuai pesanan , mantapp. bngung ini isi staples tembak nya ukuran nomer berapa ya. barang sudah sampai , dan ok terima kasih. alat bagus berjalan normal bahannya pelayanan ok  sip barang dah nyampai , tengkyu. mantap sampai dengan aman gan  thanks bgt yaa say suka sama barang nyaa sesuai dan good quality. brg sudah sampai , kualitas sesuai harga thanks. tks  bagus , pengiriman ok rekomen. barang sesuai pesanan mantaf. super , ga ribet cepet perlu nanya ada stok atau saya langsung order proses sehari sampe mantap barang murah tapi murahan joss recommended seller. sesuai dengan pesanan , sangat berguna. bagus dan cepat sampai barang nya oke. barang sudah sampai , terimakasih next time order lagi. makasih ya , kiriman dah sampe. good seller , sukses selalu. semoga awet  terima kasih  barang sesuai harga n berfungsi dengan baik  pesanan sesuai dengan gambar pengiriman cepat makasih  gan , barang sesuai foto mudah mudahhan awet nih blm coba karna ada isinya. barang sdh sampai , belum dicoba semoga bisa pakai dan awet thank u seller. barang sudah sampai , bagus packing rapi. barang sesuai gambar , bagus murah tapi tidak murahan. barang sdh ditrima dan berfungsi , manteb gan. thanks  sesuau dengan pesanan semoga awet , thx. barang sesuai pesanan , mantapp. bngung ini isi staples tembak nya ukuran nomer berapa ya. barang sudah sampai , dan ok terima kasih. alat bagus berjalan normal bahannya pelayanan ok  sip barang dah nyampai , tengkyu. mantap sampai dengan aman gan  thanks bgt yaa say suka sama barang nyaa sesuai dan good quality. brg sudah sampai , kualitas sesuai harga thanks. tks  bagus , pengiriman ok rekomen. barang sesuai pesanan mantaf. super , ga ribet cepet perlu nanya ada stok atau saya langsung order proses sehari sampe mantap barang murah tapi murahan joss recommended seller. sesuai dengan pesanan , sangat berguna. bagus dan cepat sampai barang nya oke. barang sudah sampai , terimakasih next time order lagi. makasih ya , kiriman dah sampe."
                ],
                [
                  "94",
                  "steplesnya sedikit lebih kecil dari staples khusu mollar , saat ditembakan keluar 2 dan jadi menumpuk yang rekomennya sih mending cari isi khusus jk staplesnya merk. sesuai dengan pesanan  produk berfungsi dgn baik. produk sesuai dengan deskripsi , tapi belum dicoba. barang sesuai diskripsi dan layanan cepat. sudah diterima , terima kasih. sudah diterima dengan baik dan bisa di pakai  packing rapi dan respon cepat , recommended. barang sudah diterima dg baik , thx. terima kasih  pengiriman sangat cepat , barang sesuai iklan berfungsi baik. kwalitas bagus , sesuai dengan yang ditawarkan respons cepat. sesuai yg diharapkan , terimakasih. barangnya bagus , pelayanan toko ini semuanya sangat memuaskan recomend. sudah diterima. produk sesuai deskripsi , packing rapi rekomended. bukan merk kenmaster ternyata. terimakasih barang sudah sampai. bagus , pengiriman cukup cepat. sip  barang udh sampe , mksh. terimakasih barangnya udah sampai  fast respon dan terbaiks. makasih barang sudah sampai. bagus , top pengiriman cepat. thanks  merk beda tapi gpp yg penting ukrn sama. lihat bintangnya aja dah. bagus  barang sudah diterima , ukuran sesuai deskripsi hanya mereknya beda dengan yang dikirim tetapi tidak masalah penting berfungsi baik. barang sudah sampai , tks. bagus , terimakasih. barang sudah samapai gan , dan bagus. mantaf , sangatsangat sesuai. barang sudah diterima dengan baik  pengiriman cepat , kemasan bagus. sesuai permintaan , fast respon. matab , good sesuai permintaan. barang lumayan kuat , good. sudah sampai murah meriah. sudah di terima bos packing bagus , aman. makasih , barang sesuai gambar. langsung dipakai , mantap thanks maaf baru kasi testi. harganya murah tp isinya lumayan banyak n kuat , pesan kmrn hr ini nyampe thanks toko besi timur jaya tokopedia wahana. ok  terimakasih barang sdh diterima. unit nya sudah sampai , thanks. ga nyampe sejam dr mulai transaksi , udah rumah mksh. good , cepat packing aman. barang sangat bagus sesuai diskripsi. mantap sampai dengan aman gan  barang udah nyampe om makasih. recomended  barang sesuai , pengiriman cepat ok. mantab , fast respone tx u. steplesnya sedikit lebih kecil dari staples khusu mollar , saat ditembakan keluar 2 dan jadi menumpuk yang rekomennya sih mending cari isi khusus jk staplesnya merk. sesuai dengan pesanan  produk berfungsi dgn baik. produk sesuai dengan deskripsi , tapi belum dicoba. barang sesuai diskripsi dan layanan cepat. sudah diterima , terima kasih. sudah diterima dengan baik dan bisa di pakai  packing rapi dan respon cepat , recommended. barang sudah diterima dg baik , thx. terima kasih  pengiriman sangat cepat , barang sesuai iklan berfungsi baik. kwalitas bagus , sesuai dengan yang ditawarkan respons cepat. sesuai yg diharapkan , terimakasih. barangnya bagus , pelayanan toko ini semuanya sangat memuaskan recomend. sudah diterima. produk sesuai deskripsi , packing rapi rekomended. bukan merk kenmaster ternyata. terimakasih barang sudah sampai. bagus , pengiriman cukup cepat. sip  barang udh sampe , mksh. terimakasih barangnya udah sampai  fast respon dan terbaiks. makasih barang sudah sampai. bagus , top pengiriman cepat. thanks  merk beda tapi gpp yg penting ukrn sama. lihat bintangnya aja dah. bagus  barang sudah diterima , ukuran sesuai deskripsi hanya mereknya beda dengan yang dikirim tetapi tidak masalah penting berfungsi baik. barang sudah sampai , tks. bagus , terimakasih. barang sudah samapai gan , dan bagus. mantaf , sangatsangat sesuai. barang sudah diterima dengan baik  pengiriman cepat , kemasan bagus. sesuai permintaan , fast respon. matab , good sesuai permintaan. barang lumayan kuat , good. sudah sampai murah meriah. sudah di terima bos packing bagus , aman. makasih , barang sesuai gambar. langsung dipakai , mantap thanks maaf baru kasi testi. harganya murah tp isinya lumayan banyak n kuat , pesan kmrn hr ini nyampe thanks toko besi timur jaya tokopedia wahana. ok  terimakasih barang sdh diterima. unit nya sudah sampai , thanks. ga nyampe sejam dr mulai transaksi , udah rumah mksh. good , cepat packing aman. barang sangat bagus sesuai diskripsi. mantap sampai dengan aman gan  barang udah nyampe om makasih. recomended  barang sesuai , pengiriman cepat ok. mantab , fast respone tx u."
                ],
                [
                  "97",
                  "sip  barang sampe dengan selamat , barangnya bagus sayangnya packing kurang tipis bgt seadanya tapi good quality brangnya. sesuai penjelasan produk ok pemasangan sagat mudah tidak perlu ngebor sekrup , penjual juga menjelaskan dengan buyer jd mengerti tanpa kebingungan. produk kettler sesuai dgn deskripsi dan foto , pengiriman cepat seller fast response. barang bagus , cuma mur nya kurang kuat dan gampang doll saat di pasang jadi saya pakai lain. siip , sesuai pesanan terimakasih. bagus tpi jne yes nyampenya lebih dari 1 hari. mantep bang , agak kecewa dikit sih masalah pengiriman hehe tapii barangnya good recom bgt deh. proses cepat barang bagus moga tokonya sukses selalu. siplah , produknya kokoh dan berkualitas. barang sesuai deskripsi  barang bagus bgt , sesuai diskripsi. sesuai puas dan cpt respontnya sampainya. pelayanan oke , order pagi siangnya udah sampe via go send barang sesuai deskripsi. barang bagus , mantap semoga kuat terus. barang sdh diterima , tks semoga awet sesuai gambar. kualitas barang bagus. barang sampai dengan ganteng , mantabbs. barang ok , pengiriman ssiip. pelayanan dan pengiriman cepat , barang sesuai. sip gan  barang sesuai yg diiklankan , and begitu dicoba 2 harian ini mulai terasa sedikit reaksi otot mudah mudahan semakin intens terlihat hasilnya trust me its work. mantap gan produk yang diterima sesuai dengan tertera pada deskripsi , bahan kuat. sorry bru di review , brang sdh smpai mantap. brg sesuai pngirimsn cpt , trim. barang dah meluncur kekota minyak balikpapan , bos. bagus barenge gan udah smpek kemaren maf baru ngabarin cepat pengirimannya sesuai deh pkonya. barang bagus mulus kuat cuma kardus luarnya aja yang gak  mantap gan lupa belum kasih ulasan dulu xd maafkan. barang sesuai harapan , makasih. bagus barangnya , mantap agan terimakasih. kualitas bagus , barang mantap seperti gambar pemasangan mudah d. bagus  good  good  oke barangnya  recommended seller , tp kok hanya 1 sisi yg bisa di panjangin ya satu sisinya lagi mati gk bs. barang sudah nyampe dengan bagus. makasih gan , barangnya udah sya terima sesuai spek n cepat bnget jam wlau hri libur. pesanan sudah diterima dengan baik , thx. barang sesuai dengan gambar , kualitas ok. barang nyampe mas , sesuai jadwal qualitas thank you. barangnya bagus , ga da cacat pengiriman juga tepat dan cepat nice bro. top abiss  produk sesuai pesanan , packing mantap. trimakasih and good tokopedia barang pesanan saya sdh terima dan sesuai dengan keinginan. barang sudah diterima dengan baik , terima kasih. recomended seller fast response , ramah 2 thumbs. thanks , barang sudah sampai packaging bagus. terimakasih barang sudah sampai dng selamat "
                ],
                [
                  "101",
                  "thx u , fast response barangnya. barang sesuai , mantap terima kasih. sip , meskipun tidak sesuai harapan. setelelah saya terima dan cek , produk baik sesuai dengan lish. terima kasih , pesanannya sudah sampai. barang sudah diterima , terimakasih yaa. barang sampai di tempat tujuan , paket rapi cma agak beda sama yg difoto. thanks sis , brg berkualitas sukses terus. barang uda sampe , dan cepat fast respon juga cma ga begitu sesuai di gambar yg boardny putih datang boardnya dalam warna ijo tp gpp cukup memuaskan y. pelayanan cepat , barang sesuai pesanan. barang udah nyampai , terima kasih warung olahraga n tokopedia. barang nya bagus , kapan saya order lagi ya. udah d terima ya , makasih. barang udah di terima , sesuai dengan apa yang diharapkan thanks. terima kasih , barang sudah nyampe dengan oke."
                ],
                [
                  "102",
                  "barang saya sudah terima tapi datangnya lama sekali. kayunya lumayan bagus , tapi sayang saya dapat yg tidak presisi pegangan betnya gak berada di tengah. pesanan kali kedua udah sampai dengan sukses , thanks. lumayan sesuai dengan harga , masih ada getaran ketika menerima bola. kayu bagus , bila ada spray untuk clean rubber ya. barang sudah di terima , thanks gan. sip barang sudah sampai thanks bro. barang lumayan sesuai harga , respon cepat jnenya yang telat krn tanggal merah. kualitas sesuai harganya , good product kiriman on time. pelayanan sangat baik , mantapp. barang dah sy trima , tlg requst pin bb nya bang klo mau order lg mksh."
                ],
                [
                  "103",
                  "mantaap seperti gambar. barang sesuai pesanan muantab , kiriman cepat terima kasih. pengiriman jampt memang mantap , produk sukses buat penjual. barang sudah kami terima dengan baik , bagus cuma sedikit ada cacat diplaywood gompal. pengiriman cepat dan produk sesuai deskripsi. barang sesuai pesanan , fast respon kedatangan permintaan. barang sudah sampai boss. terimakasih , barang sudah sampai ampamp sesuai dengan pesanan. barang bagus , sesuai harga kemasan ok. bagus  sudah nyampe bos , terima kasih. enak di pakai dan memuaskan. sayang tidak ada karetnya , kalau bisa sekalian penawaran. barang sudah sampai gan , mantap thanks. barang sudah sampai , tkhanks. finishing kosaka masih perlu diperbaiki  sudah diterima sesuai harapan n respon cepat sekali , mantap trims. terima kasih , pesanan baru sampai. thanks bos , barang sudah sampai. barang sudah diterima , terima kasih. barang sudah sampai terimakasih. terima kasih ya warung olahraga. keren udah sampe gan bagus batnya. pesanan cepat sampainya , terimakasih. brg sampai dgn selamat  barang dah sampai smoga bisa memuaskan trimakasih. thanks gan barang udah diterima dengan baik , siang order sore nyampe. thank fast respon , barang dah diterima. mantab barang cepet sekali nyampenya , respon sangat baik barangnya juga ok terimakasih. barang sdh di terima gan , kasih. mantep , barang sesuai pesanan recomended. sangat puas dg barang ini , bagus punya. barang dah sampe gan , tanks ya. mantap gan , makasih. pesanan sdh nymp dg selamat , tengkyu smoga sukses slalu. makasih  barang sudah diterima gan , tp sayang katanya sesuai dengan pic nyampe nya kok yg lain sih. order yg kesekian kalinya tetap mantap receomded deh , tinggal nunggu bonusnya nih. sip untuk pemula , kontroly lumayan enk. barang dah keterima makasih  barang sudah diterima mas , mantap recomended deh. kayu nya tidak sesuai dngan yang d foto. mantaf  kayunya benar kering dan ringan sesuai dengan gambar. mantap jaya , barang bagus. terima kasih barang sudah sampai , kondisi baik sesuai pesanan. paket sudah diterima , terima kasih."
                ],
                [
                  "105",
                  "alhamdulillah paket sdh sampai , respon dan pelayanan cepat recommended deh mksh bos. barang sesuai pesanan tapi kalok bisa tambahin bonus isi staplesnya. produk bagus , cuma isinya agak susah sesuai deskripsi langsung dipakai ok dan mantul moga awet aja terima kasih. gan jual isi steples nya  barang bagus , respon cepat maaf ulasannya lambat. barang sudah diterima  makasih barang dah smpai dengan aman. barang sudah sampai dengan packing rapih , terimakasih gan. alhamdulillah barang nya sdh kami terima dgn baik , pesanan cepat sesuai dengan harapan 1 hari proses pengiriman mantap. paket sudah saya terima dengan baik , kasih banyak atas pelayanannya. barang udh nyampe gan , tks sukses terus house sparepart. barang sudah sampai , tetapi bingung cara penggunaannya krn tdk ada petunjuk pemakaian tulisannya bahasa china semuanya. alhamdulillah paket sdh sampai , respon dan pelayanan cepat recommended deh mksh bos. barang sesuai pesanan tapi kalok bisa tambahin bonus isi staplesnya. produk bagus , cuma isinya agak susah sesuai deskripsi langsung dipakai ok dan mantul moga awet aja terima kasih. gan jual isi steples nya  barang bagus , respon cepat maaf ulasannya lambat. barang sudah diterima  makasih barang dah smpai dengan aman. barang sudah sampai dengan packing rapih , terimakasih gan. alhamdulillah barang nya sdh kami terima dgn baik , pesanan cepat sesuai dengan harapan 1 hari proses pengiriman mantap. paket sudah saya terima dengan baik , kasih banyak atas pelayanannya. barang udh nyampe gan , tks sukses terus house sparepart. barang sudah sampai , tetapi bingung cara penggunaannya krn tdk ada petunjuk pemakaian tulisannya bahasa china semuanya."
                ],
                [
                  "108",
                  "thx gan pesanan udh sampe , recommended seller. terimakasih  mantul fast respon kaya. terima kasih , barang telah diterima semoga mantap akan order lagi. pas dengan yang saya cari , barang bagus. terimakasih barangnya sudah sampai  salah beli , kekecilan kualitas lumayan lah. barang sesuai deskripsi  mantap laah , harga murmer. sesuai deskripsi dan pengiriman cepat  trimaksh brang telah sampai dgn utuh  lumayan , cocok dengan harganya. mantab  mantap  barang sudah sampai gan , langsung ane pakai buat mbenerin kursi. kiriman lama tapi sesuai pesanan. dah sampe , makasih gan. recomended seller , thanks gan. pesanan sudah sampai , terima kasih. barang diterima sesuai pesanan , thx. biar bintang yg bicara  ok  fast respont , best seller. barang bagus sesuai pesanan mas thx. sesuai pesanan n proses cepat pertahankan y gan. thx gan pesanan udh sampe , recommended seller. terimakasih  mantul fast respon kaya. terima kasih , barang telah diterima semoga mantap akan order lagi. pas dengan yang saya cari , barang bagus. terimakasih barangnya sudah sampai  salah beli , kekecilan kualitas lumayan lah. barang sesuai deskripsi  mantap laah , harga murmer. sesuai deskripsi dan pengiriman cepat  trimaksh brang telah sampai dgn utuh  lumayan , cocok dengan harganya. mantab  mantap  barang sudah sampai gan , langsung ane pakai buat mbenerin kursi. kiriman lama tapi sesuai pesanan. dah sampe , makasih gan. recomended seller , thanks gan. pesanan sudah sampai , terima kasih. barang diterima sesuai pesanan , thx. biar bintang yg bicara  ok  fast respont , best seller. barang bagus sesuai pesanan mas thx. sesuai pesanan n proses cepat pertahankan y gan."
                ],
                [
                  "115",
                  "bolanya sedikit lebih ringan dibanding yg biasa saya pakai , tp bagus kok. barang sdh terima dengan baik komplit 1 bh. kualitas produk bagus , pengiriman loyo. barangnya sdh terima dg baik makasih. agak lama pengiriman barangnya. barang sdh terima dg baik. barang sdh terima dengan baik karena mungkin dari surabaya jadi hampir seminggu. mantap. jos. terima kasih , paket sdh sampai. pelayanan super mantap , barangnya top. barang sudah sy terima , cepat n packing rapi makasih boz. barang sesuai deskripsi. puas dgn servisnya , thanks. oke , bolanya bagus dan sesuai. barang sudah diterima  mantap sesuai keterangan bola seamless , sampai dgn aman recsell bgt. barang dah tiba dengan selamat , mantab. sampai dalam 2 hari pake jne yes , enak dipake dan ok banget. barang sdh diterima dlam kondisi baik terima kasih."
                ],
                [
                  "123",
                  "barang ok sesuai ekspektasi , bahan cukup tebal n kuat pengiriman tidak terlalu lama dengan pakacking yg kokoh dan rapi cuma sayangnya ongkir mahal hampir 1 harga. bagus , sesuai penawaran. sesuai gambar , bagus recommended. barang bagussdd banget. packing barang bagus dan nya juga banget. barang ok , packing rapih cepat nyampe sip deh pokoknya. barang bagus dan pengiriman cepat. barang sesuai dengan deskripsi , seller responsif cepat sampai dan dipaking baik recommended. barangnya bagus , solusi untuk merapihkan penyimpanan sepatu. barangnya cpt sampai dan bagus. kondisinya sangat bagus. barang sesuai dengan harapan , pelayanan cepat memuaskan maksih boss."
                ],
                [
                  "127",
                  "nah kalau hari ini baru datang tas , bukan kemarin gan sprtinya laporannya ketukar dg bet kmrn sy konfirmasi kedatangan malah gak bisa. penjual dan produk tdk bermasalah , kurir yg. mantap , trimakasih. barang baguss , packing rapi good. sudah diterima tanpa kekurangan , oke. thanks , barang sesuai pesanan dan sdh sampai fast respon. mantapz sekali , excellent. barang sudah diterima dengan baik packing rapi terima kasih  mendarat dengan sempurna , thanks gan. mantap , gan barang diterima dgn baik sesuai deskripsi. thanks barang sdh sampai dengan selamat packing mantap. mantap gan , makasih. kualitas barang sesuai harapan thx. barang sesuai gambar , pelayanan mantap thanks yaa. barang sudah diterima , terima kasih. covernya lumayan bagus , ada busanya biar bet yg didalam aman bahannya tebal retsleting bukan abal. thanks gan , barang sampai sesuai pesanan. covernya bagus , bahanny solid mantab bray. bagus dan murah tapi ada jahitan yang terbuka di tempat nyimpan bola. good product as described , recommended seller. barang udah sampai , oke seperti fotonya. tas donic utk bet ping pong ditrima dg baik sesuai warna yg dipilih , thx alot. barang telah di terima dengan baik , kasih."
                ],
                [
                  "142",
                  "barang mantaap makasih gan  barang sesuai  barang berfungsi dengan baik dan seller juga responsif , terima kasih. ok , mantap batterai nya bekerja mudah awet. barang sesuai dgn deskripsi dan gambar , masih belum dicoba semoga berfungsi baik terima kasih. barang bagus sesuai deskripsi. respon cepat , barang sesuai pesanan recomended seller. barang udah sampai makasih. terima kasih , sudah sampai dan saya coba sesuai pesanan. barang sesuai dengan pesanan. mantab. barang sampe langsung coba , mudah mudahan awet. produk bagus , pengiriman cepat pelayanan komlain tanggap. ok , brgnya sdh sampe top dah. komplain saya batalkan , gk appalah ribet jadinya hrs return barang ini terima aj mskpun puas banget udh jelas kl perbedaanya sangat mencolok baik dari gambar maupun dr tektur material kw sama ori lain kali jangan gt bos kasian yg beli yang ngrti ch ngomong at lebih ngerasa jg kn jual kecuali tidak tau. matnap. thanks  penjual response cepat , barang sesuai mantap. baterainya oke punya , next mw order yg pico om. produknya sesuai dengan diskripsi produk , mudah kualitasnya jg terima kasih."
                ],
                [
                  "144",
                  "terimakasih , pesanan sudah diterima. sukses deh buat reseller ini , respon cepat barang bagus dan ramah. barang sudah diterima dengan baik. barang diterima dalam kondisi baik. trima ksh bos  barang diterima dgn baik , sesuai dengan pesanan. mantab. barang sesuai deskripsi. barang sesuai , normal. barang aman n mantp peking bagus , semoga awet. pol  terimakasih gan , barang cepat sampai dan sudah di pake. puas pokoknya gan jos. baggus , recommended. paket diterima dengan baik dan aman , semoga awet. barang sudah sampai dengan baik , tp blom di cb nih smoga bgus n awet trima kasih."
                ],
                [
                  "145",
                  "thanks , recomended sangat laptop menyala kembali. bagus , barang berkualitas sukses selalu jos. terima kasih , barang sdh saya pelayanan ramah respon cepat. mantul mantap betul. mntap. pengiriman cepat , thanks. sesuai deskripsi , barang cepet sampai packing bagus recommended. barang sdh sampai dan sesuai deskripsi , trims. barang sudah sampai , pengiriman agak lambat tapi respon penjual cepat terimakasih kasih banyak semoga saja awet. mantabs terimakasih ya  udh sbulan pake ga ada masalah , good. terimakasih barang sudah diterima. barang sesuai pesanan good job. makasih kak , maaf telat konfirmasinya barang di terima dengan baik semoga bisa saya buat langganan sini. terimakasih  bintang berbicara , mantap gan barangnya paket rapi n pengiriman cepat langsung dipasang oke pisan. barang sesuai , mantap perbaiki respon pengiriman ya gan biar tambah sip thx."
                ],
                [
                  "158",
                  "good sesuai deskripsi  pembelian kesekian kali , thanks seller. barang ori sesuai spek  pembelian yang kesekian kali , thanks seller. barang uda sampe , ssuai pesanan blom di coba sih tp thx for fast responses. maaf telat info , pembelian kesekian kali selalu puas dgn pelayanannya thanks seller. barang sudah diterima , seperti biasa penjual cepat respon dan sampainya recommend seller thanks. respon seller luar biasa cepat , begitu juga pengirimannya favorit deh mluar gan good job. brg murah dan asli , pengiriman cepat. barang sudah sampai , responnya cepat sekali recommended seller thanks. respond dari sellernya cepet banget , barang belum dicoba karna buat stock thanks seller. barang sudah sampai , thanks ya. lumayan murah bos , berjalan dengan baik. luar biasa , nga ragu lagi degh ama agan ini pasti ane jadiin langganan barang barus respons super cepat pokoknya mantabslah abis order sampe menit resi gojeknya langsung nongol."
                ],
                [
                  "159",
                  "pembelian kesekian kali , thanks seller. lancar luncur  sesuai pesanan mudah mudahan awet. barang sesuai spek , ori. pembelian yang kesekian kali , thanks seller. barangnya sdh sampai terima kasih. maaf telat info , pembelian kesekian kali selalu puas dgn pelayanannya thanks seller. penjualannya ramah dan respon cepat. original , recomended seller pengiriman cepat fast. produk yg diterima sesuai dengan deskripsi , respon cepat thanks. respond dari sellernya cepet banget , barang belum dicoba karna buat stock thanks seller. sip , biar bintang yang bicara bos. barang sudah di terima mksh dengan komdisi baik. tks gan."
                ],
                [
                  "161",
                  "mantap , pengiriman cepat barang terjamin top pokoknya. barang bagus , sesuai deskripsi. barang sesuai dengan pesanan kemasannya rapi pokoknya bagus. wow , ini ekspetasi pngiriman diluar dugaan cepet bngt mantap dan juga sesuai deskripsi sukses selalu rec seller. pengiriman sangat cepat di packing , sayang tidak safety tapi yah seller menduakan walaupun gojek. bagus banget kenceng wus. thank udah di terima kwalitas oke. barang sesuai deskripsi  barang sudah diterima , tks. barang sdh diterima thank. pengiriman cepat respon , terimakasih. sip , biar bintang yang bicara bos. barang sudah sampe , ok good service deh pokoknya. barang ok gan , thanks smoga berlanjut."
                ],
                [
                  "175",
                  "fast respons , packing rapi. barang sudah sampai sesuai dengan deskripsi , lagi dicoba terima kasih. packing aman , agak lama nyampenya. bagus , saya ajukan komplain pun dilayani dgn baik. barangnya sudah sampai gan terimakasih. barang belum di test , packing aman rapih. barang yang dikirim sesuai pesanan , packing rapi dan kuat waktu pengiriman cepat hanya 2 hari dari pemesanan sudah diterima kualitas bagus baterai bisa tahan jam lebih untuk pemakaian normal tetap dipertahankan dalam pelayanan. produk bekerja dengan baik amp kuat , walaupun lama pengirimnannya dan masih dimaklumi dikarenakan pakai expedisi yang tidak boleh via udara tapi secara keseluruhan ga masalah thx."
                ],
                [
                  "179",
                  "barang original , di pakai langsung konek recommended seller fast respon thanks gan moga makin maju toko nya. produk bagus sesuai gambar , kalau lagi lancar mantap tapi agak susah setup nya kadang wifi flashair mati jadi ga bisa konek ke hp android eyefi di on dan sd card update malah kenal sama kamera kudu sabar nyetting. barang sesuai gbr , respon penjual cepat terima ksh. mantap langsung backup secara real time. baramg sudah diterima dengan baik tp blm dicoba apakah berfungsi dg atau tidak  termurah dn terbaik , mantapp. belajar menghitung yuk , coba ada berapa bintangnya. liat bintang aja ya gan , tuh ada lima. produk sesuai dan pengiriman cepat. recommended seller , mantap gan terima kasih. mantap jiwa respon dan pengirimannya. bagus dan simple produk. mantab , semua sesuai dengan deskripsi. bagus sejauh ini berfungsi dengan baik di 5d mark ii , cmn antara hp kamera harus sangat dekat. kualitas barang sangat ok , berfungsi dengan baik respon dan pengiriman cepat recommended seller. flash air toshiba sd card wirelless 3 gb. barang bagus , thanks. respon cepat , pengiriman recommended seller. barang sesuai , dalam keadaan baik dan sellernya juga cihui banget fast act tau udah sampe di rumah kece lah. nice , trims yaa. barang sudah sampe cepat dan maknyus. produk sesuai dengan deskripsi , pengiriman kilat packing rapih semoga gak ada kendala sama barangnya. agan yang satu ini masuk daftar recommended seller , for fast rsponse. bagus , dan cepat sampai barangnya. terimakasih barang sudah sampai dengan baik , fast response. agak nyerot batrai tapi konek lancar transf cepat. pelayanannya bagus dan pengirimannya cepat  paket sudah diterima dengan baik , cuman blm dicoba terima kasih. barang sesuai foto , semoga awet tidak ada keluhan. produknya asli dan bagus , berjalan dengan baik pengirimannya juga sangat cepat thank you yah. barang sampai dengan aman , pengiriman sangat cepat packing rapi dan recommended. produk sesuai , fast response harga bersaing ok nih belanja di sj komputer. produk yg diterima sesuai dengan diharapkan kecepatan pengiriman juga baik. super cepet sampenya , flashairnya juga bisa digunakan dengan baik puas trimakasi. barang sudah sampai dengan aman , respon juga cepat terima kasih. bagus barangnya , cepat pengirimannya. pengiriman cepat , produk berfungsi dengan baik. barang sudah terima dan sesuai spec product  terima kasih banyak boss barang sdh sampai dengan selamat. mantap , sesuai deskripsi barang new. toshiba flash air wireless nya mantap , respon cepat recommended seller. barang sesuai pengiriman sangat cepat  sesuai gambar , dan bekerja dengan baik. bagus sangat berguna wifinya dan capet pelayanannya."
                ],
                [
                  "197",
                  "barang oke sudah dipasang , packing rapi dan aman. barang sudah diterima , tapi belum di coba trim3s buat toko ini. ori dan berfungsi dengan baik. kemasan rapih , pengiriman cepat. barang sudah sampai tp dicoba semoga bisa dan awet , thx. bagus barangnya , ori sayang kirimnya lamo sekali. respon cepat , packing bagus dan aman baterainya sempat susah dipasang panik tapi dicoba lagi ternyata harus agak ditekan sedikit karna presisinya ukurannya kurang kayanya sudah di charge berfungsi normal mungkin untuk customer lain yg kebetulan dapat barang nyangkut kayak punya saya dulu saja tekan dicari posisi yang pas namanya bukan baterai asli biasanya tidak selalu banget sukses terus ya jualannya. barang sudah diterima dalam keadaan baik. pemesanan diproses secepat kilat. sudah dicoba dan oke , trims. mantaab , super cepat barang bagus trims gan."
                ],
                [
                  "205",
                  "mantap gan , respon cepat paket sudah sampai dg baik barang sesuai pesanan semoga awet makasih. cepat , barang sesuai deskripsi. seller fast respon , pengiriman cepat kualitas barang sepertinya original tapi belum ditest smoga awet good luck. thank you ada kendala fast respon. maknyoeez gan barang sdh sampai di tkp. fast respond and delivery. mantab , respon cepat brg sesuai info. mantap  bagus_. hasil testing ok , semoga awet trm ksh. terimakasih  barang diterima dgn baik pengiriman cepat dan respon jg. terima kasih sesuai dgn harapan. brngnya sdh diterima dgn baik , dites dan normal semoga awet trima ksh."
                ],
                [
                  "208",
                  "tidak salah pilih , meskipun sempat terkendala kesalahan dari jnt tetapi respon dan produk terbaik. barang sudah sampai dengan selamat , semoga baterainya awet terima kasih. murah , barang sampai dgn cepat packing ok sudah ditest utk vaio vpcyb3ag kondisi battere bekerja dengan baik recommended seller. barang cepat sampai , sesuai deskripsi penjual respon sangat masih menunggu masa garansi 3 bulan untuk lihat performa battery makasih banyak. baterai berfungsi dengan baik. barang diterima dengan baik , pengiriman cepat packing aman. muantaap gan , rekommended seller. barang sesuai deskripsi , walau pengiriman agak lama tapi saya masi oke. barang lumayan oke , sesuai harapan. packing rapi , pengiriman cepat barang sesuai spesifikasi baru dicoba semoga cocok dan awet. mantab produknya keren deh. product sesuai , dan compatible pengiriman juga cepat makasih atas kerjasamanya tx. good , recoanded seller. oke barang baru dicoba user , semoga awet dan ga ada masalah kalo bisa buat langganan tks. mantaap , respon cepat baterai fungsi dengan baik. sdh sebulan pakai , masih berfungsi dgn baik. barang sesuai dengan deskripsi , original cuman agak panas saat dipakai lama semoga awet. nice packing , recommended seller. kemasan kirim baik dan cepat. responsif dan barang bs digunakan  sesuai pesanan recommended seller  barang cepat sampai , packing qman. mantap bos  layanan cepat dan memuaskan , baterai bisa digunakan dgn baik di laptop sy. mantap  produk baik , respon cepat walaupun harus ngecas dulu baterainya. produk bekerja dengan baik amp kuat , barang bagus cepat sampai recommended. paket sudah diterima gan  produk sesuai deskripsi , baterai bisa tahan 4 5 jam lebih di save mode dengan kondisi brightness full packing rapih dan aman respon seller juga cepat recommended thanks. packing cakep rapih sekali , belom tes si semoga awet dan bekerja dengan baik thanks yah. barang bagus , cocok sama laptopnya pengiriman cepat. packing rapi , baterai direplace sesuai sama eksisting cma kalo baru belum terisi ya ini lgi charge. kereen , mantaab. sesuai hrapan , trima kasih. sesuai speck dan pas dengan yang diinginkan. fast respon , barang sampai dengan selamat dan batrenya juga awett. juos  barang sesuai deskripsi. bagus dan sesuai dengan deskripsi. barang ok , kiriman cepat. barang mantap , sesuai harapan. barang mantap , sesuai harapan. mantabs , delivery cepat packing cakep tinggal test drive tq. bekerja dengan baik , teksture luaran baterai beda original agak keras lock ke badan laptop mungkin kw. istimewa barangnya , walaupun lama sih yang membuat dari sisi pengiriman jne menginap di jakarta dua malam. barang dah sampai , maap baru kasih ulasan. langsung pas waktu di pasang. nice , barang bagus recommended. semoga batre nya kuat melebihi masa garansi. produk oke aja sih , tapi sepertinya ga bakal panjang umur baru pake udah ada warning seperti di gambar penjualnya fast respon bahasa tidak memuaskan jadi bintang 4 ya. pesan tapi stok kosong , diganti vgpbps2a dan masih compatible dengan leptopnya semoga kualitasnya bagus untuk seller nya fast respon pengiriman cepat. barang sudah diterima , ok. tetima kasih gan  terima kasih , laptopnya sdh bisa d pakai lagi. mantap gan. ukuran dan warna sesuai dengan foto  pengemasan barang rapih , respon penjual cepat sedikit merasa deg degan takut tidak cocok soalnya yg diminta tipe 2b dan dikirim 1 1b tapi ternyata sama saja berfungsi dengan baik semoga awet dipakainya. reply dari penjual cepat , barang sampai dlm kondisi baik dan sesuai pesanan recommended. tq kak , baru plg dri kampung mantap. pelayanan komplain sangat bagus. mantap pelayanan cepat , recomended seller. respon cepat , barang oke. tibanya cepat dan berfungsi dengan baik. mantap  barangnya sdh sampai dicoba tp cepat panas. mantap  terima kasih gan , barang sudah diterima responnya cepat packingnya rapi recomended seller. sudah landing di flores gan barangnya , cepat rapih. alhamdulillah sudah sampai , walau ada sedikit misscom pengen pake jnt malah jne. barang sudah diterima dengan baik thanks. barang sesuai pesanan , bungkus rapih dan aman cepat sampai terimakasih. mudah mudahan awet , tq. smoga awet  baguss sudah bisa dipakai , sampai dengan cepat. barang dalam kondisi baik , packing biasa semoga awet rec sell. compatible dgn seri baterai yg diminta , hanya chargingnya agak lama. barang bagus , penjual sangat ramah dan tanggapannya cepat packing rapi recommended seller. barang yang dipesan sudah sampai dengan aman , tidak membuat saya menunggu lama terima kasih tokopedia com as computer karena cari tergolong susah di pasaran indonesia. barang udah saya terima dlm keadaan utuh , mksh bos."
                ],
                [
                  "211",
                  "barangn sudah datang , berfungsi normal semoga awet. puas , langsung di coba n berfungsi sesuai harapan mana ada garansi 3 bulan mantap. terimakasih produk sesuai gambar , pengiriman proses cepat packing rapi. terima kasih barang sudah diterima , semoga barangnya awet. mantap , sesuai dengan deskripsi semoga awet batre nya sukses gan. produk sesuai pesanan , dipack rapi dan disegel batterynya dari pesan hari minggu sampai selasa via jne memuaskan. siip banget , cm kendala expedisi yg bikin jutek. produk bekerja dg baik amp pengiriman cepat. packing rapi , barang baru dicoba mudah mudahan tidak ada mslh. respon cepat , barang ori sesuai deskripsi packing rapi recommended. good services and great product , thanks. respon cepet bgt , nyampe juga agan nya ramah recomended lah terina kasih. respon lumayan cepat , barang bagus sesuai pesanan. tks , sdh sampe respon cepet semoga awet. terima kasih , recommended seller. produk sesuai deskripsi , barang baru dan ori thanks seller. bagus , sesuai pesanan semoga tahan lama. sesuai pesanan , terima kasih. barang sudah tiba sesuai pesanan , seller fast response packing oke kurang dari jam sampe recommended terima kasih."
                ],
                [
                  "219",
                  "pembelian kesekian kali , thanks seller. super kilat , terima kasih sudah membantu. barang sudah sampai , thanks seller. thx ya gan , barang udah sampe dan di coba bagus n ga ada masalah. pesanan dah sampai , pesenan segera direspons layak jadi favorit seller. harga murah dan kualitas wah. ok  pengiriman cepat , top banget. barang cepat sampai dan sesuai. fast respon , recomended. oke. fast respon , sip. barang bagus sesuai pesanan tq. oke. barang sudah diterima dengan hri yg sama , thanks punya lapak n good job. paket sudah diterima , thanks gan. mantap , pengiriman cepat trims semoga bisa terus bermitra. barang telah diterima dengan baik dan berfungsi , thanks."
                ],
                [
                  "221",
                  "respon penjual oke , pengiriman packing. pembelian kesekian kali , thanks seller. dipasang langsung ok , terimakasih. respon cepat , sellernya ramah dan barang sesuai pesanan terima kasih. tinta sudah terpasang dan dapat mencetak dgn baik , barang terkirim spt foto. produk baru dan bagus tapi pembukus paket cuma pakai selembar plastik rawan rusak barangnya  barang cepat sampai dan respon. barang sampai dengan hari yang sama thanks utk yg punya lapak , good job n fast respon. tinta printerneya mantap jaya baru taoi murah sekali. barang udh nympe , cpt via gojek langsung prose tp blm smpat di tes semoga bagusori sesuai deskripsi awal. paket sudah diterima , thanks gan. mantap , pengiriman cepat trims semoga bisa terus bermitra. barang telah diterima dan berfungsi dengan baik , thanks."
                ],
                [
                  "224",
                  "mantap respon cepat , paket sampai. barang sesuai dan bagus. baterai nya pas sama laptop , sejauh ini di pake lancar dan semoga awet untuk seller fast respon abis. mantap , barang cpt sampai moga awet. barang sudah mendarat dgn selamat , moga awet makasih ya gansis. fast respons , diem barangnya udh dikirim aja mantap. alhmdulillah sdh sampe , sellerny fast response mantap. barang sudah diterima hari ini , respon penjual bagus cuma di jne kiriman dalam kota 9 sembilan baru nyampe trims. mantab jaya , respon bintang 5 seler sabar dan cooperatif. paket sudah diterima , barang sesuai dengan yang diinginkan. barang sesuai , seller ok."
                ],
                [
                  "226",
                  "barang sudah diterima , terimakasih. mantul gan , barang berfungsi dengan baik dan sampe tepat waktu tengkyu sukses selalu. produk original , bisa dicharge cari baterai thinkpad disini aja. sesuai deskripsi dan cocok dengan type laptop sy lenovo thinkpad edge , berfungsi baik mudah mudahan awet garansinya 3 bulan seperti nya original baterai lebih murah drpd beli di toko offline yang sdh coba jg liat ga jauh beda kok rata cm 1 berani jamin sampai. respon penjual bagus dalam melayani klaim return , oke. barang ok , pengiriman paking. produk original , proses cepat terimakasih. sesuai dengan deskripsi , barang bagus. cepat sampe , testing ok battery is charged bisa. barang sudah diterima dan berfungsi dengan baik. barang sampai dengan selamat , sesuai deskripsi bekerja baik ekspektasi compatible laptop saya penjual fast respon dan produk cepat dikirim recommended. rekommended ini lapak , semoga awet barangnya. terimakasih , barang sudah diterima kualitas dan akurasi sesuai deskripsi. gud. batt smp skrg sih gk ada masalah , berarti nya oke. produk sesuai pesanan dan pengiriman cepat. thanks gan  barang sudah sampai , sesuai dengan pic dipasang recomended. fast respond , lg dicoba. respon cepat , barang bagus thx ya. barang kedua baru cocok , penjualnya tanggung jawab. produk berfungsi dengan baik , cuman agak kembung dari yg asli bawaan. barang bagus cepat sampe sukses selalu gan. terbaik dan terpercaya. barang sudah diterima  keren gan , bisa di tempel dibelakang laptop. barang sesuai pesanan terima kasih. barang sdh di terima , tapi belom sempet test respon seller dan pengiriman super cepat keren. barang sudah terima , tinggal test aja makasih gan. barang oke banget , recommended seller. bisa digunakan dengan baik , tp kurang pas setelannya. brg sampe dgn selamat n bfungsi baik  barang sdh sampe gan , bagus. belum sempat dicoba , semoga oke."
                ],
                [
                  "227",
                  "mudah mudahan awet gan , thanks. mdh mdhan awet dan berguna. baterainya mantap , mudah3an awet lahh. original dan sesuai gambar. spesifikasi produk sesuai dengan keterangan , original packaging rapi dan aman pengiriman jadwal yang ditargetkan unit baterai sudah dites kapasitas tercantum recommended seller. original , packing aman dites sesuai spek. barang sesuai pesanan dan respon memuaskan , recomended. recomended seller , barang lagi di tes. good product , recommended. terima kasih barang nya ok. sesuai deskripsi , paket rapi n tidak ada cacat. pembelian lumayan sering cuma harga sekarang agak naik  lumayan ok , barang bagus. barang sesuai pesanan  okeh lah sesuai deskripsi. sesuai dengan deskripsi , kondisi baru semoga awet. barang sesuai dengan pesanan , packing bagus amp rapi thank3s. fast respon seller , setiap pertanyaan selalu di respons dgn cepat dan baik pertahankan. pemesanan diproses secepat kilat. sempet ada kendala dibarang , tapi seller sangat responsif memberikan solusi recommended. cukup lumayan , barang sesuai."
                ],
                [
                  "233",
                  "barangnya mantul , packaging juga oke cuman kalo lowbet dia langsung mati kenapa ya. sipp , baterainya bagus smoga awet. barang datang sesuai , kondisi mantap gan. mantab , smoga awet terimakasih bos. sudah di pakai 3 bulan dan masih oke lah. pengiriman cepat , brg packing oke seller responsive. sudah diterima , sesuai dengan yg dijual semoga awet. produk original , makasi ya gan recommended seller. mantap  barang sesuai pesanan  sudah samapai tp belum dicoba. respon chat cepat , packing baik recommended seller sampai barang sesuai pesanan. semoga awet , lancar jaya amiin. respon penjual cepat , tulisan brg sich tp mdh mdhan digunakan di thank u gan atas cepatnya awet. terimakasih barang sudah sampai dirumah. barang sudah sampai dengan cepat dan kondisi masih segel tidak ada cacat , mengecewakan konsumen thx as komputer dah kasih pelayanan ke. barang oke berfungsi dg baik , biar lambat asal selamat semoga toko tambah laris manis makasih ya gan. nice sesuai pesanan aman dari serangan balik. pemesanan diproses sexepat kilat. pemesanan diproses secepat kilat. pemesanan di proses secepat kilat. sudah di coba , semoga awet kualitas barang bagus mendekati original."
                ],
                [
                  "235",
                  "sesuai pesanan , rekomended seller. barang nya udah sampai , respon sangat cpt dan brg bener sudah di pake dengan normal thanks gan lain kali ane beli sini lg. tested , recommended seller. barang mantabs , sesuai thread. fast respon , harga kaki lima kualitas bintang. fast respon , belum dicoba mudah mudahan bagus. barang sudah diterima dalam keadaan baik , langsung bisa dipakai terima kasih atas kecepatan pengirimannya. excellent services gan terima kasih. barang bagus semoga awet  pengiriman cepat banget , belum di tes sih semoga tidak ada kendala. pelayanan dan pengiriman sangat cepat , top sukses selalu. so far good , fast respon. pengiriman bagus aman barangnya , untuk kualitas nunggu seminggu pemakain br bs nilai hehee thx om. barang dah sampai mudah mudahan awet. pengiriman cepat , baterei oke thanks. mantap gan , dan bintang. test ok jalan , pengiriman cepat cuma kena sabtu minggu jadi baru bisa hari ini. barang sudah diterima dan berfungsi dengan baik , thx. mantap gan , produk bekerja dengan baik dan top markotop pokoe biarkan bintang yang berbicara. pemesanan diproses secepat kilat."
                ],
                [
                  "237",
                  "maaf telat review , barang bagus terima kasih. sdah dites , baterai kuat 3 jam tes film. yang kedua kali , baterainya selalu mancap. respond cepat product ok. super battery berfungsi dengan normal , semoga awet. mantap barang sesuai pesanan , thanks. bagus dan murah pastinya , sesuai lah. order jam 4 sampe 7 super cepat , untuk kualitas barang belum di coba semoga normal. kualitas batre bagus , dipakai nonton film baru habis kisaran 3 4 jam packing tebal dan rapat puas rencana mau order lg untuk acer. barang dibungkus rapi , respon cepat kualitas masih belum dites nanti tak update setelah di tes. so far uda coba tes bbrpa software seperti android studio dan geny motion sebagai emulator , pada awalnya baterai cukup kuat namun setelah menitan langsung turun dari menjadi 6 jika dipakai utk sekedar browsing ketik saya yakin akan tahan jauh lebih lama good enough product recommended naskah coding di ide berbasis teks. pesan hari ini , kirim produk pas tidak bercacat memakai bubble respon penjual tanggap terima kasih. alhamdulillah barang sampai dan sesuai dengan deskripsi produk , sukses terus ya gan. pelayanan cukup bagus sih , kalau urusan barang mungkin sama aja kaya di lapak lain karena memang semuanya vendor nya merk sanyo saran buat penjual usahain quality control dulu barangnnya seblum dikasihin ke pembeli. pengiriman sangat cepat , peniual responsif barang oke. baterai sesuai deskripsi , versi 6 cell tapi yasudahlah yang penting seperti baru laporan sehat tetapi saya masih belum tahu berapa lama tahannya. barang bagus , sempat mengalami masalah pada battere namun dibantu claim garansi tukar baru sampai clear rekomended seller. barang bagus , sudah berkali kali beli ditoko ini. alhamdulillah baterai sudah sampai dan pemakaian kurleb 2 jam dalam normal , semoga awet sukses terus jualannya. barang bagus , respon seller cepat sdh kesekian kali beli dr lapak ini. oke mantap gan , ane dah coba jam tembus kalau pake power management bisa semoga tahan lama btw thanks for the fast response. 2x kali beli disini dan puas , sukses teruss gan. mudah mudahan awet , terimakasih. mudah mudahan awet batrainya. proses cepat barang bagus , blm coba performanya. 2 jam nyampe , terima kasih. pengiriman cepat , barang berfungsi baik mantap sukses terus gan. mantap gan , bisa tahan 4 jaman. mantabe forever , cepet packing mantab sampe on time barang sangat berkualitas. produk sesuai pesanan , semoga awet. harga terjangkau , sesuai dengan yang di inginkan semoga awet dan tahan lama. good god fast  barang sampai dengan tepat mudah mudahan baterainya awet. packing ok barang thanks ya. thanx ya gan barang sesuai deskripsi  barang sudah sampai mudah mudahan awet. fast respon , rapi barang sesuai. setelah retur kedua kalinya baru dikasih barang yg , tolong pelayanan lebih ditingkatkan lagi kualitasnya terimakasih. baterai awalnya tidak nyala , kemudian dikembalikan dan dikirimkan kembali meskipun agak lama prosesnya tahan kira 4 jam. barang sesuai deskripsi , fast response recommended. mantap gan , produk bekerja dengan baik dan top markotop pokoe biarkan bintang yang berbicara. terima kasih barang cepat sampai dg packing rapi , kualitas battery bagus saat dicoba kapasitas life time mudahan setelah charge lifetimenya bisa 4 jam lebih. baterai sesuai dengan deskripsi. packingnya rapi dan sangat cepat prosesnya , cuma sehari mantap. barang sudah sampai , packing bagus bener baru masih segel tapi belum dicoba thanks gan. pemesanan di proses secepat kilat. batre mantap , terbaik the best lalala yeyeyey. thanks barang sudah sampai semoga awet. very quick response , packaging bagus semoga kualitas baterai sesuai yang diharapkan trims. barang telah diterima dengan baik , packing rapi sesuai spesifikasi dicoba ok semoga awet sukses terus u as komputer. barang sesuai dengan deskripsi dan berfungsi baik , packing rapih respond cepat recommended. bagus tq gan  barangnya bagus dan bekerja dengan baik sesuai iklan  respon dan pengiriman cepat  barang sesuai product iklan , fast response recomended seller smg awet. so far good , mau coba dulu dalam 2 hari ini terima kasih gan. respon penjual cepat , barang bagus langsung dites dan kuat nyala 3jam semoga aweet. paket diterima , terimakasih. pemesanan diproses secepat kilat. brg sudah selamat sampai tujuan dg packing yang rapih , hatur nuhuns gans moga barangnya awet. mantap gann , barang sampai trimss. packing bagus dan kualitas baterai ok selama pemakaian tidak ada keluhan. produk sudah diterima dengan baik dan packagingnya rapi , cc nya beneran baru 1 di test ketika dilepas charge bisa tahan ampe 3 4 jam storage hd bawaan pake msata makan watt lebih dari biasa harusnya. barang sesuai dng yg dipesan dan sejauh ini masih baik  barang sudah diterima dalam kondisi baik  recomended seller part , sesuai dengan deskripsi. barang sesuai dengan di gambar mantab , makasih gan. oke sip cepat sampai barangnya. barang dah sampai dan bagus , terimakasih. barang nya betul buat , tapi ane salah beli harusnya x20 mohon maaf bisa tuker gak solusinya. barang betul baru , di power manager masih 0 cycle count nya dan first use pas ane coba ini cell battery sanyo dgn kapasitas wh tp yang penting respon seller cepat packing aman buble wrap. barang sesuai deskripsi dan murah , semoga awet."
                ],
                [
                  "238",
                  "mantap. sesuai ekspektasi , spesifikasi persis dengan bawaan asli unit yang datang ke saya dalam kondisi 0 setelah beberapa lama charging akhirnya muncul pergerakan persentasenya cek via hwmonitor terdeteksi designed capacity mwh full charge artinya sudah ada wear level 1 mungkin masih kisaran normal saran jika batere tersimpan lebih dari 3 bulan sebaiknya dicharge saja yakin pelanggan nantinya membeli tidak akan protes penting selsel bagus. recommended seller packing super rapih , kemasan dalam aman respons juga cepat dan ramah baru buka belum sempat test baterai mudahmudahan awet. baterai berfungsi baik , terimakasih. barang nya udah sampai dan dipakai , semoga aweet. barang dah sampai mudah mudahan awet. barang ciamik , bekerja dengan baik. pemesanan diproses secepat kilat. barang udah nyampe , respon penjual cepat sesuai iklannya packing lumayan bagus waktu datang kondisi baterai terisi 3 hour left sy pake buat youtubean gak perhatikan berapa lama tp sampai tinggal 1 menit baru charge dan belum cek lagi mudah mudahan awet. battery bagus , packaging masih. bagus , sebagai pengganti yang untuk baterai laptop sudah usang setelah 3 tahun pemakaian. cycle count baterai 0 , response cepat pengiriman pertahankan. rewpon penjual cepat , barang bagus namun sayang lama banget dipengiriman."
                ],
                [
                  "243",
                  "ok gan thanks , barang sudah diterima dengan baik semoga lancar. mantap jaya , terimakasih bosku semoga makin laris jualannya. mantap jaya , terimakasih bosku semoga makin laris jualannya. thansk gan barang sudah diterima. packing ok , cepat sampai barang bagus semoga sukses selalu. mantap , barang sesuai keinginan. barang mantaap , makasih gan. packing rapi n barang jg oce. belum di coba , mudah mdahan g masalah terima kasih. terima kasih , barang sudah sampai proses cepat semoga awet. packing bagus , aman sudah di coba baterei bisa tahan 3 jam lebih meski ketahanannya tidak sama dengan bawaan laptop yang sampai 5jaman tapi ok banget mudah an awet. semoga cocok dan awet bos , barang sudah diterima packing rapi tapi blm dicoba fisik sangat bagus rekomendasi banget. packaging rapi dan aman , telah diterima dengan baik respon sangat cepat sehingga tidak butuh waktu lama untuk menunggu pengiriman kualitasnya dicoba dulu recommended store. barang sudah tiba , langsung bisa dipakai meski tipe tidak sama persis dengan permintaan tapi kompatibel dan berjalan baik. sesuai denga waktunya , cm barangnya msh ditest tengkyu gan."
                ],
                [
                  "246",
                  "ntap gan. tq gan , barang ok respon pengiriman. packing rapi , pengiriman cepat barang sesuai deskripsi. pengiriman sangat cepat , produk juga bagus. respon cepat , packing rapi terima kasih. uda beberapa kali belanja di sini , selalu top. siang order , sore sampe lgs dicoba dn indikator tinta menunjukkan klo full mantap. makasih bos sudah sampai paketnya. pengiriman cepat , packing aman produk asli. respon cepat , good seller. respon cepat , pengiriman barang sesuai pesanan terima kasih. respon cepat sudah jadi langganan. terima kasih. mantap bos barangnya sdh sampai terima kasih. respon cpt , brg packing rapih. barang sudah diterima , dites berfungsi dgn baik trims. baik , tdk ada masalah barang ini. respon cepat , lebih baik beli yang original. recommended banget , serba cepat sesuai mantap. barang bagus dan sesuai pesanan. sesuai pesanan deskripsi. lebih baik beli yang orisinil , awet dan dapat. packing rapi , pengiriman cepat barang sesuai deskripsi. pesanan sudah diterima , respon penjual cepat kemasan lumayan rapih produk sesuai deskripsi belum dipasang semoga compatible trims. harga murah dan original. produk bagus  produk original , top abis. sory gan telat konfirmasi , pokok nya makasih bgt buat pelayanan prima di servis dgn sangat baik lah ga usah ragu belanja toko ini jamin puas pelayan. packing rapi , seller responsif dan komunikatif pokonya bintang bicara lah. servis cepat dan memuaskan. mantap gan pertahan kan  barang ori , pengiriman cepat. barang ori dan proses cepat , pertahankan bos. barang nyampe gan , thanks. produk sesuai dan sampai dalam keadaan baikk. barang bagus dan cepat sampai dengan tepat. thanks gan paket udah nyampe sesuai pesanan. terimakasih , barang sampai dengan selamat meski kelamaan nyari kurirnya. barang bagus packing juga , sellernya bertanggug jawab. bagus , respon dan pengiriman cepat. produk original dan respon seller cepat rekomended sudah dua kali order ga ada kendala. mantap jaya lah siap order lagi. barang sampai dengan baik , packing rapih. top , lah orderan ke sekian x nya. barabg sesuai deskripsi , respon seller baik bgt. packing rapi , barang original sangat puas. tepat cepat makasih. kali kedua transaksi disini , recommended banget. terimakasih gan , barangnya sudah sampai. barang sudah sampai , respon cepat terimakasih. okay , cepet thx seller. paket sudah diterima , tq. terimakasih mantaps. trima kasih barang sudah dteeima dg baik. cepet bgt nyampenya  barang yang dikirim bagus n memuaskan. cepatk prosesnya gan. recomended , fast responn semoga sukses gan lapaknya. ok  barang ori sesuai deskripsi , pengiriman cepat terima kasih. barang baru sampe 1 jam lalu dirumah , saya belum sempat buka coba semoga tidak ada masalah thanks ya. fast respon , nice seller and product. produk diterima dalam kondisi yang baik dan bagus , fast respon pengiriman juga cepat recommended banget belanja di sini. packing rapi , cepat sampai barang blm di coba mudah mudahan cocok dan bagus thanks. oke sip boss mantap barang sudah saya terima , terimakasih. terima kasih brngnya sudah sya dngn baik  mantap , thanks ya gan. barangnya sudah sampai gan terimakasih. asli original pengiriman cepat , thanks seller."
                ]
              ],
              "shape": {
                "columns": 1,
                "rows": 714
              }
            },
            "text/html": [
              "<div>\n",
              "<style scoped>\n",
              "    .dataframe tbody tr th:only-of-type {\n",
              "        vertical-align: middle;\n",
              "    }\n",
              "\n",
              "    .dataframe tbody tr th {\n",
              "        vertical-align: top;\n",
              "    }\n",
              "\n",
              "    .dataframe thead th {\n",
              "        text-align: right;\n",
              "    }\n",
              "</style>\n",
              "<table border=\"1\" class=\"dataframe\">\n",
              "  <thead>\n",
              "    <tr style=\"text-align: right;\">\n",
              "      <th></th>\n",
              "      <th>original_text</th>\n",
              "    </tr>\n",
              "  </thead>\n",
              "  <tbody>\n",
              "    <tr>\n",
              "      <th>0</th>\n",
              "      <td>bocor. brg tdk saya terima , entah nyasar dimana kurirnya bloon. barang lama sekali sampainya. salah alamat , sudah saya kirim chat bahwa minta dicancel utk pesanan tsb krn sy masukin menit berikutnya langsung pesan ulang ke yg betul bukannya dibaca dulu chatnya malah diproses dua duanya dasar gak becus ifil dan akan di toko ini lagi. barang datang tidak lengkap , yidak akan pernah belanja lagi di toko remi loreal. saya belum terima barang sampai tgl pdhl diperkirakan tanggal , status pengiriman sudah di pembeli padahal minta update 3 hari jawaban sama aja uang kembali. expirednya bulan 6 sekarang 9 coba dikonfirmasi dulu habis kek gitu ga malu kah toko resmi , ambil pahalanya aja malas ongkir bolak balik. barang tdk diterima , pengembalian dana dan saya disuruh urus sendiri ke toped. pesen 2 kok yg dateng cuma 1tolong di cek ulang donk</td>\n",
              "    </tr>\n",
              "    <tr>\n",
              "      <th>1</th>\n",
              "      <td>barang tidak sampai , hilang di ekspedisi antar aja padahal beli pas harga promo sekarang mau lagi udah normal huhuu. sedih ga dapet gratisannya padhl yg lainnya pd. yg satu kuasnya diangkat sudah dalam keadaan patah lepas , brushnya nyemplung di mohon dicek kembali sblm dikirim. expirednya bentar lagi. pengiriman lama banget hampir seminggu. kecewa , padahal udah batalkan pesanan karena ada masalah produk tapi masih aja dikirim entah gak mau ribet sama sekali atau admin cuma terima langsung kemas big no buat sekelas official store poin plusnya yg sesuai dengan yang dipesan. barang sampenya lama , box diterima dalam kondisi yang sudah rusak padahal mau buat kado. status pesanan sudah selesai dati kemarin sore tapi ternyata produknya belum saya terima sampai hari ini. barang ga sampai tp pesanan sudah diselesaikan karena otomatis. kw kirim brg bekas dan rusak serta tdk menerima komplain kapok bgt ga bkl lnja lg dsni.</td>\n",
              "    </tr>\n",
              "    <tr>\n",
              "      <th>5</th>\n",
              "      <td>packing bagus , puass. respond cepat , packing aman barang sesuai deskripsi recommended. barang sudah diterima dengan baik , tidak ada yang bocortumpah diwrapping bubble aman. bagus , rambut jadi lembut. penjual cepat tanggap , barang sampainya terima kasih. mantap barangg cepeatt sampaii barang bagus penjual nyaa fast respons banget , packingan oke aman sampai di tempatt barangnya keren. top markotop. barang aman diterima , yg paling seneng wanginya enak banget. suka banget  wangi nya enak banget , bener kaya creambath salon. cinta banget sama produk ini , rambut jd lembut dan wangi bangettss always pake shampoo mah exp packingan mantap.</td>\n",
              "    </tr>\n",
              "    <tr>\n",
              "      <th>7</th>\n",
              "      <td>respon cepat , packing aman banyak bonus nya pemesanan yg ke 2x trims agan sukses selalu. sudah diterima dalam keadaan lengkap dan ada bonusnya juga , terima kasih seller. paket cepat datang , packing aman sekali dapet bonus hair masker wanginya enak banget thank you loreal. repurchase ke 3 sangat puas dengan barang dan respon seller nya udah gitu selalu dapat bonus terima kasih. terbukti menumbuhkan rambutbeli yg ke kalinya ini  dapat sama seperti foto pembeli lain , serumnya dipakai dingin tidak panas. paket sampai super cepat , barang ori dari official shop gitu lho baru akan digunakan hari ini kalo ada hasilnya aku pesan lagi. barangnya sesuai deskripsi , semoga berhasil byee bye rambut rontok respon bagus dr reseller good. terima kasih paket sdh diterima dengan baik , juga diberi voucer. bagus ngga pernah mengecewakan packingnya aman banget , kemasan bar sekarang.</td>\n",
              "    </tr>\n",
              "    <tr>\n",
              "      <th>17</th>\n",
              "      <td>barang sesuai  sesuai deksripsi , pengiriman tepat waktu. belum saya coba pakai , terima kasih.  the product received matches description of , material is strong and not easily to get dusty can function very well both for indoor or outdoor usage seller was fast in responding my questions during transaction process overall im satisfied shopping this shop.  selalu puas belanja disini sukses ka. , makasih. udah sampai gan , thx ya. semoga awet dan nyaman dibpakai , tq gan. barang sudah saya terima dengan baik dan tepat waktu kasih. makasih proses cepet banget bantu bgt buat yg dropship  suka  barangnya bagus dan berfungsi dengan baik. barang sdh diterima dengan baik , thx gan. barangnya ok , sangat berguna. terima kasih gan barang sudah sampai  oke , sesuai pesanan thanks. makasih , penutup telinganya sudh samapi bisa berenang dgn aman. barang sampai tanpa cacat dan sesuai. thanks gan , baranh udah sampe maaf lama barangnya nyangkut di pos satpam. barangnya bagus , proses cepat makasih ya. pesanan cepat diproses tp ukurannya trlalu bsar u tlinga sya. barang cukup bagus , harga juga sdh sering dipakai tutup kupingnya tdk bocor awet sukses deh buat yg jual. barang sdh diterima , terima kasih. thanks gan , barang udah saya terima. barang sudah masuk , packingan ok tq. barang sudh d terima dengan baik. kualitas bagus , thanks ya gan.</td>\n",
              "    </tr>\n",
              "    <tr>\n",
              "      <th>...</th>\n",
              "      <td>...</td>\n",
              "    </tr>\n",
              "    <tr>\n",
              "      <th>5943</th>\n",
              "      <td>kondisi box mika lilin sudah seperti di foto dan juga ada cacatnya , semestinya dibungkus pakai bubble wrap bukan hanya plastik tipis pun plastiknya tidak dilem sama sekali cara seller package barang harus dibenarin lagi lebih baik kardus daripada mie instan selapis saja untung yang dibeli rusak saya benarbenar kecewa si dengan servis toko ini bakal mikir berkalikali untuk belanja disini. pesen ini tp stok habis kecewa. penjualnya sama sekali tidak komunikatif , barang kosong diganti lain tanpa konfirmasi terlebih dahulu ke pembeli next time kalau jualan pelayanannya lebih ditingkatkan lg mbak mas informasiin dulu kalo jgn seenak udel main ganti ntr situ yg ribet dan rugi sendiri balik balikin ongkirnya yakhan. seler aneh ditanya katanya uda berangkat tp tokped ga update , ternyata sepertinya memang gagal pick up bilang yang jujur kalo paket belum dipick malah bilangnya sudah. toko ini gimana mau pakai 5 9 di kasih udah mati kali jg bener jualan. produk tdk ada dalam paket. sy pesan lilin yg angka 1 dan 6 , tpi di kirim nya 7 sdh benar pdhl wkt beli jlalasin mau tdk bs foto krn udh buang brng pakai tunggu brp hr tau smp buka lain sm cmn utk ke dpn blajarlah teliti sebelum. ga sesuai ama yg di fhoto pas nyampe lilunnya kecil , buanged ukurannya. pda pecah lilin y pekejing ga aman. pesen lilin malah dikasih , mo dibalik jg angka 9 jd 6 ga ada sumbunya kacau fatal bgt gak dicek dlu sblm kirim ke customer. lilinnya udah rusak banget goldnya  tidak dikirim lilin nya padahal sdh beli. barangnya ga ada. lilinnya kecil tdk , sesuai gambar pdhl sy perlu angka 1 yg buat nemenin lainnya.</td>\n",
              "    </tr>\n",
              "    <tr>\n",
              "      <th>5944</th>\n",
              "      <td>puas banget , sempet error di kurir mau pake gercep seller nya respon bgt sama cari solusi order ulang ga pelit ada yg dikasih tambahan dikit makasi ya kak jaya selalu tokonya. sangat rekomended , packing bubble warp banyak meskipun order seharga cebann nice. keren banget pelayanannya , cuman beli lilin ajah servicenya bagus dan super cepat pesan pagi eh siang dah tiba. cuco meong pokoknya. top bgt. bagus banget lilinnya , kata kakak ini sultan. puas banget sellernya fast respon , alhamdulillah butuh lilin hari ini juga dikirim yg sama nanti anak ku ultah beli perlengkapannga disini insyaallah. terimakasih banyak untuk toko ini , saya kelupaan beli lilin ultah jadi baru hari h acara syukur puji tuhan bisa sampai tepat waktu padahal dikirim keluar kota.</td>\n",
              "    </tr>\n",
              "    <tr>\n",
              "      <th>5946</th>\n",
              "      <td>pengiriman cepat dan barang diterima dalam kondisi baik. barang sudah sampai dg selamat , packaging rapi hari dari proses pemesanan tiba di malang terima kasih. kualitas mantap , pengiriman sangat cepat luar biasa. lilinnya bagus , tidak berbau tahan sd 5 jam. barang saya terima dgn baik dan benar tepat waktu. packing nya rapi , brg pesanan dlm keadaan baik. packaging rapi shg lilin datang tetap utuh response penjual cpt. barang diterima dgn aman , respon cepat paking rapi waktu pengiriman lebih dr jadwal makasih. mantab , lilinya sesuai makasih ya. produk sesuai , respon cepat pengiriman. produk bagus , paking aman rapi respon kirim cepat.</td>\n",
              "    </tr>\n",
              "    <tr>\n",
              "      <th>5957</th>\n",
              "      <td>produk ada goresan , ga rapi dan kotoran di pinggirannya kiriman cepat smpe. barangnya bgus cman saya kurang puas dgn pakingya , gak rapi sama sekali sticknyapun cpottolong perbaiki lagi byar tokonya laris. kurang suka , bau karetnya sangat menyengat. barang sampainya lama sekali , respon penjual lambat mengecewakan. qualitas jelek sekali , bau seperti cat pad ya bergelombang. pengirimannya sih cepat , tapi barangnya bruntusan gitu teman saya juga beli drum pad bahan karet dari malang alus kok ini yg malah begitu ekspetasi tadinya bagus dapatnya jelekkan tdk sesuai foto di pajang oleh penjual. barang tidak sesuai dengan yg di iklankan seperti nya bekas. barang tidak sesuai gambar yang ditawarkan.</td>\n",
              "    </tr>\n",
              "    <tr>\n",
              "      <th>5965</th>\n",
              "      <td>ini si bukan mobil hotwheels , nggak sesuai sama iklan mengecewakan. ternyata bukan hot wheels asli , bahan plastik harap di beri keterangan bahwa barang tdk original. ternyata bukan ori , harga sesuai kualitas ya rb bahan plastik harusnya dikasih keterangan di deskripsi. ternyata barangnya kw kirain beneran promo. barang palsu , bukan hot wheels original made in china malaysia spt diskripsi. ternyata bukan hot wheels asli , bahan plastik harap di beri keterangan bahwa barang tdk original. ternyata bukan ori , harga sesuai kualitas ya rb bahan plastik harusnya dikasih keterangan di deskripsi. mobil bukan asli hot wheels , sy kira aslinya.</td>\n",
              "    </tr>\n",
              "  </tbody>\n",
              "</table>\n",
              "<p>714 rows × 1 columns</p>\n",
              "</div>"
            ],
            "text/plain": [
              "                                                                                                                                                                                                                                                                                                                                                                                                                                                                                                                                                                                                                                                                                                                                                                                                                                                                                                                                                                                                                                                                                                                                                                                                                                                                                                                                                                                                                                                                                                                                                                                                                                                            original_text\n",
              "0                                                                                                                                                                                                                                                                                                                                                                                                                                                                                                                                                                                                                                                                                                                                                                                       bocor. brg tdk saya terima , entah nyasar dimana kurirnya bloon. barang lama sekali sampainya. salah alamat , sudah saya kirim chat bahwa minta dicancel utk pesanan tsb krn sy masukin menit berikutnya langsung pesan ulang ke yg betul bukannya dibaca dulu chatnya malah diproses dua duanya dasar gak becus ifil dan akan di toko ini lagi. barang datang tidak lengkap , yidak akan pernah belanja lagi di toko remi loreal. saya belum terima barang sampai tgl pdhl diperkirakan tanggal , status pengiriman sudah di pembeli padahal minta update 3 hari jawaban sama aja uang kembali. expirednya bulan 6 sekarang 9 coba dikonfirmasi dulu habis kek gitu ga malu kah toko resmi , ambil pahalanya aja malas ongkir bolak balik. barang tdk diterima , pengembalian dana dan saya disuruh urus sendiri ke toped. pesen 2 kok yg dateng cuma 1tolong di cek ulang donk \n",
              "1                                                                                                                                                                                                                                                                                                                                                                                                                                                                                                                                                                                                                                                                                                       barang tidak sampai , hilang di ekspedisi antar aja padahal beli pas harga promo sekarang mau lagi udah normal huhuu. sedih ga dapet gratisannya padhl yg lainnya pd. yg satu kuasnya diangkat sudah dalam keadaan patah lepas , brushnya nyemplung di mohon dicek kembali sblm dikirim. expirednya bentar lagi. pengiriman lama banget hampir seminggu. kecewa , padahal udah batalkan pesanan karena ada masalah produk tapi masih aja dikirim entah gak mau ribet sama sekali atau admin cuma terima langsung kemas big no buat sekelas official store poin plusnya yg sesuai dengan yang dipesan. barang sampenya lama , box diterima dalam kondisi yang sudah rusak padahal mau buat kado. status pesanan sudah selesai dati kemarin sore tapi ternyata produknya belum saya terima sampai hari ini. barang ga sampai tp pesanan sudah diselesaikan karena otomatis. kw kirim brg bekas dan rusak serta tdk menerima komplain kapok bgt ga bkl lnja lg dsni.\n",
              "5                                                                                                                                                                                                                                                                                                                                                                                                                                                                                                                                                                                                                                                                                                                                                                                                                                                                                                                                                                                                  packing bagus , puass. respond cepat , packing aman barang sesuai deskripsi recommended. barang sudah diterima dengan baik , tidak ada yang bocortumpah diwrapping bubble aman. bagus , rambut jadi lembut. penjual cepat tanggap , barang sampainya terima kasih. mantap barangg cepeatt sampaii barang bagus penjual nyaa fast respons banget , packingan oke aman sampai di tempatt barangnya keren. top markotop. barang aman diterima , yg paling seneng wanginya enak banget. suka banget  wangi nya enak banget , bener kaya creambath salon. cinta banget sama produk ini , rambut jd lembut dan wangi bangettss always pake shampoo mah exp packingan mantap.\n",
              "7                                                                                                                                                                                                                                                                                                                                                                                                                                                                                                                                                                                                                                                                                                                                                       respon cepat , packing aman banyak bonus nya pemesanan yg ke 2x trims agan sukses selalu. sudah diterima dalam keadaan lengkap dan ada bonusnya juga , terima kasih seller. paket cepat datang , packing aman sekali dapet bonus hair masker wanginya enak banget thank you loreal. repurchase ke 3 sangat puas dengan barang dan respon seller nya udah gitu selalu dapat bonus terima kasih. terbukti menumbuhkan rambutbeli yg ke kalinya ini  dapat sama seperti foto pembeli lain , serumnya dipakai dingin tidak panas. paket sampai super cepat , barang ori dari official shop gitu lho baru akan digunakan hari ini kalo ada hasilnya aku pesan lagi. barangnya sesuai deskripsi , semoga berhasil byee bye rambut rontok respon bagus dr reseller good. terima kasih paket sdh diterima dengan baik , juga diberi voucer. bagus ngga pernah mengecewakan packingnya aman banget , kemasan bar sekarang.\n",
              "17                                                                                                                                                                                                                                                                   barang sesuai  sesuai deksripsi , pengiriman tepat waktu. belum saya coba pakai , terima kasih.  the product received matches description of , material is strong and not easily to get dusty can function very well both for indoor or outdoor usage seller was fast in responding my questions during transaction process overall im satisfied shopping this shop.  selalu puas belanja disini sukses ka. , makasih. udah sampai gan , thx ya. semoga awet dan nyaman dibpakai , tq gan. barang sudah saya terima dengan baik dan tepat waktu kasih. makasih proses cepet banget bantu bgt buat yg dropship  suka  barangnya bagus dan berfungsi dengan baik. barang sdh diterima dengan baik , thx gan. barangnya ok , sangat berguna. terima kasih gan barang sudah sampai  oke , sesuai pesanan thanks. makasih , penutup telinganya sudh samapi bisa berenang dgn aman. barang sampai tanpa cacat dan sesuai. thanks gan , baranh udah sampe maaf lama barangnya nyangkut di pos satpam. barangnya bagus , proses cepat makasih ya. pesanan cepat diproses tp ukurannya trlalu bsar u tlinga sya. barang cukup bagus , harga juga sdh sering dipakai tutup kupingnya tdk bocor awet sukses deh buat yg jual. barang sdh diterima , terima kasih. thanks gan , barang udah saya terima. barang sudah masuk , packingan ok tq. barang sudh d terima dengan baik. kualitas bagus , thanks ya gan.\n",
              "...                                                                                                                                                                                                                                                                                                                                                                                                                                                                                                                                                                                                                                                                                                                                                                                                                                                                                                                                                                                                                                                                                                                                                                                                                                                                                                                                                                                                                                                                                                                                                                                                                                                                   ...\n",
              "5943  kondisi box mika lilin sudah seperti di foto dan juga ada cacatnya , semestinya dibungkus pakai bubble wrap bukan hanya plastik tipis pun plastiknya tidak dilem sama sekali cara seller package barang harus dibenarin lagi lebih baik kardus daripada mie instan selapis saja untung yang dibeli rusak saya benarbenar kecewa si dengan servis toko ini bakal mikir berkalikali untuk belanja disini. pesen ini tp stok habis kecewa. penjualnya sama sekali tidak komunikatif , barang kosong diganti lain tanpa konfirmasi terlebih dahulu ke pembeli next time kalau jualan pelayanannya lebih ditingkatkan lg mbak mas informasiin dulu kalo jgn seenak udel main ganti ntr situ yg ribet dan rugi sendiri balik balikin ongkirnya yakhan. seler aneh ditanya katanya uda berangkat tp tokped ga update , ternyata sepertinya memang gagal pick up bilang yang jujur kalo paket belum dipick malah bilangnya sudah. toko ini gimana mau pakai 5 9 di kasih udah mati kali jg bener jualan. produk tdk ada dalam paket. sy pesan lilin yg angka 1 dan 6 , tpi di kirim nya 7 sdh benar pdhl wkt beli jlalasin mau tdk bs foto krn udh buang brng pakai tunggu brp hr tau smp buka lain sm cmn utk ke dpn blajarlah teliti sebelum. ga sesuai ama yg di fhoto pas nyampe lilunnya kecil , buanged ukurannya. pda pecah lilin y pekejing ga aman. pesen lilin malah dikasih , mo dibalik jg angka 9 jd 6 ga ada sumbunya kacau fatal bgt gak dicek dlu sblm kirim ke customer. lilinnya udah rusak banget goldnya  tidak dikirim lilin nya padahal sdh beli. barangnya ga ada. lilinnya kecil tdk , sesuai gambar pdhl sy perlu angka 1 yg buat nemenin lainnya.\n",
              "5944                                                                                                                                                                                                                                                                                                                                                                                                                                                                                                                                                                                                                                                                                                                                                                                                                                                                           puas banget , sempet error di kurir mau pake gercep seller nya respon bgt sama cari solusi order ulang ga pelit ada yg dikasih tambahan dikit makasi ya kak jaya selalu tokonya. sangat rekomended , packing bubble warp banyak meskipun order seharga cebann nice. keren banget pelayanannya , cuman beli lilin ajah servicenya bagus dan super cepat pesan pagi eh siang dah tiba. cuco meong pokoknya. top bgt. bagus banget lilinnya , kata kakak ini sultan. puas banget sellernya fast respon , alhamdulillah butuh lilin hari ini juga dikirim yg sama nanti anak ku ultah beli perlengkapannga disini insyaallah. terimakasih banyak untuk toko ini , saya kelupaan beli lilin ultah jadi baru hari h acara syukur puji tuhan bisa sampai tepat waktu padahal dikirim keluar kota.\n",
              "5946                                                                                                                                                                                                                                                                                                                                                                                                                                                                                                                                                                                                                                                                                                                                                                                                                                                                                                                                                                                             pengiriman cepat dan barang diterima dalam kondisi baik. barang sudah sampai dg selamat , packaging rapi hari dari proses pemesanan tiba di malang terima kasih. kualitas mantap , pengiriman sangat cepat luar biasa. lilinnya bagus , tidak berbau tahan sd 5 jam. barang saya terima dgn baik dan benar tepat waktu. packing nya rapi , brg pesanan dlm keadaan baik. packaging rapi shg lilin datang tetap utuh response penjual cpt. barang diterima dgn aman , respon cepat paking rapi waktu pengiriman lebih dr jadwal makasih. mantab , lilinya sesuai makasih ya. produk sesuai , respon cepat pengiriman. produk bagus , paking aman rapi respon kirim cepat.\n",
              "5957                                                                                                                                                                                                                                                                                                                                                                                                                                                                                                                                                                                                                                                                                                                                                                                                                                                                                                                                    produk ada goresan , ga rapi dan kotoran di pinggirannya kiriman cepat smpe. barangnya bgus cman saya kurang puas dgn pakingya , gak rapi sama sekali sticknyapun cpottolong perbaiki lagi byar tokonya laris. kurang suka , bau karetnya sangat menyengat. barang sampainya lama sekali , respon penjual lambat mengecewakan. qualitas jelek sekali , bau seperti cat pad ya bergelombang. pengirimannya sih cepat , tapi barangnya bruntusan gitu teman saya juga beli drum pad bahan karet dari malang alus kok ini yg malah begitu ekspetasi tadinya bagus dapatnya jelekkan tdk sesuai foto di pajang oleh penjual. barang tidak sesuai dengan yg di iklankan seperti nya bekas. barang tidak sesuai gambar yang ditawarkan.\n",
              "5965                                                                                                                                                                                                                                                                                                                                                                                                                                                                                                                                                                                                                                                                                                                                                                                                                                                                                                                                                                                               ini si bukan mobil hotwheels , nggak sesuai sama iklan mengecewakan. ternyata bukan hot wheels asli , bahan plastik harap di beri keterangan bahwa barang tdk original. ternyata bukan ori , harga sesuai kualitas ya rb bahan plastik harusnya dikasih keterangan di deskripsi. ternyata barangnya kw kirain beneran promo. barang palsu , bukan hot wheels original made in china malaysia spt diskripsi. ternyata bukan hot wheels asli , bahan plastik harap di beri keterangan bahwa barang tdk original. ternyata bukan ori , harga sesuai kualitas ya rb bahan plastik harusnya dikasih keterangan di deskripsi. mobil bukan asli hot wheels , sy kira aslinya.\n",
              "\n",
              "[714 rows x 1 columns]"
            ]
          },
          "execution_count": 88,
          "metadata": {},
          "output_type": "execute_result"
        }
      ],
      "source": [
        "df = df[['ulasan']]\n",
        "df.rename(columns={\n",
        "    'ulasan' : 'original_text'\n",
        "})"
      ]
    },
    {
      "cell_type": "code",
      "execution_count": 89,
      "metadata": {
        "id": "GZ0BtNxloQpk"
      },
      "outputs": [],
      "source": [
        "df.to_csv('df_ready_to_summarize-v6-unnormalized.csv', index=False)"
      ]
    },
    {
      "cell_type": "code",
      "execution_count": 90,
      "metadata": {},
      "outputs": [
        {
          "data": {
            "application/vnd.microsoft.datawrangler.viewer.v0+json": {
              "columns": [
                {
                  "name": "index",
                  "rawType": "int64",
                  "type": "integer"
                },
                {
                  "name": "ulasan",
                  "rawType": "object",
                  "type": "string"
                }
              ],
              "conversionMethod": "pd.DataFrame",
              "ref": "fa22e51e-6ab3-4805-a647-db0bad77730e",
              "rows": [
                [
                  "5785",
                  "menggunakan bahan alami , melembabkan kulit bayi aman buat nggak memicu alergi penjualnya ramah banget. thankyou , sesuai pesanan pengemasan jg cepat. saya sudah langganan beli transpulmin baby di toko ini menarini health beauty dan juga produk lainnya , respon cepat sangat cocok dgn kulit bayi meredakan flu batuk pada menngunakan bahan alami melembabkan aman buat tanpa pengawet tidak memicu alergi pokoknya mantul deh. menggunakan bahan alami , aman buat kulit bayi nggak lengket memicu alergi melembabkan tanpa pengawet packaging rapi respon penjualnya top proses pesanan cepat ramah bange. menggunakan bahan alami , melembabkan kulit bayi tanpa pengawet aman buat nggak lengket memicu alergi proses pesanan cepat penjualnya ramah banget respon top packaging rapi. menggunakan bahan alami , nggak memicu alergi tanpa pengawet. sesuai deskripsi aman buat kulit bayi , melembabkan nggak memicu alergi lengket. barang ori , bagus banget selalu pake ini dari bayiku lahir cuma pengiriman nya lamaaman buat kulit bayi menggunakan bahan alami nggak lengket melembabkan memicu alergi packaging aman."
                ],
                [
                  "5789",
                  "sangat kecewa , pengiriman lama banget barang nya juga rusak dan penyok jangan tergiur sama harga murah ya temanteman. lemah tidak kuat berdiri , apalagi utk posisi menunduk sedikit saja sudah mau jatuh menahan berat hp. sesuai harganya , build quality nya kurang bagus material bodi dari plastik jadinya kuat nahan beban hp yg agak besar kadang bisa jatuh tripod kalau di posisi nunduk setelah 2 tahun pemakaian batang mount patah note foto saya pasangin dgn holder merek lain bawaannya. kualitasnya mengecewakan , blm dipake sudah rusak bola joinnya. sering goyang katanya sih bahan nya dari aluminium ternyata plastik kecewa saya beli tripod ini. barang jelek , belom d pake udah pada patah."
                ],
                [
                  "5797",
                  "pelayanan lambat , beli tgl 3 baru sampai 9 setiap di trace selalu gagal pickup katanya lg maintenance tp ga bilang ke pelanggannya sangat mengecewakan. barang sampe kardus rusak gini , kata mas yg bawa pas dia terima nya uda kecewa saya lama yang diterima bgini dalam paas di buka sanitizernya basah smua tumpah keluar seger kayak ke gitu. yg dikirim botol tdk sesuai photo produk  pengiriman nya hampir 1 minggu , agak kecewa. yang datang bukan keluaran terbaru ada butiran berwarna biru didalam gel hand sanitizernya , sedikit kecewa walau manfaatnya sama hanya saja terlihat lebih menarik karena birunya padahal di foto produk sudah banget mau mesan lagi takut yg aja barangnya dengan sedih. delivery yang harus 2 karena twinpack tapi yg didelivery satu , sampai buat komplain dan tidak dapat kompensasi apa the first and last belanja sini official store kek gitu. beli twinpack yg di kirim cm 1 , mohon tanggung jawab nya ka karena saya bayar dengan harga."
                ],
                [
                  "5799",
                  "mantap barang bagus banget , seller ramah dan responsif. lucu , thankyou. good. akhirnya bisa punya koleksi juga walau cuma 1 , next lebih banyak lagi bt2 nya thank you. produk sesuai deskripsi , packing rapi dan aman thanks ubs. pengiriman cepat , aman thank you ubs. alhamdulillah sampai. packingnya cukup oke , ada segelnya jadi aman kelengkapan 6 elemennya juga. pesanan sudah diterima dengan baik dan sesuai orderan , makasih ya. kiyowo , suka banget sm koleksi bt2 nya thanks ubs pengiriman cepet dan packing aman. selucu itu , dapet free photocard juga dong happy. terbaik sayang banget emasnya gemoy. uucchh gemez syuka."
                ],
                [
                  "5805",
                  "ngisi powerbanknya lama bgt , sampe 8 jam lebih pas di coba charge ke hape jg 4 dr ngecharge listrik langsung. alatnya sering mati sendiri kak. unreliable , walau dptnya flash sale 6rb tetep gak worth cuma sekedar charge yg ringan saja mgkn ok. produk mengecewakan , kecewa awalnya sih oke tpi setelah seminggu pemakaian entah kenapa g bisa di cas sudh saya coba berkali kli tetep sangat dengan ini kwalitasnya kurang bagus. gak bisa di pake kecewa jadi barang sampah deh. sangat mengecewakan gak bisa di cas powerbank , dan kata nya garansi malah ongkos kirim kita suruh tanggung sendiri ya rugi parah lah ongkir dari batam itu kesitu belum lagi kenak pajak ditanya solusi lain respon. jangan tergiur dengan promo , saya beli 2 cpt habis dan ngecas powerbank nya lama."
                ],
                [
                  "5813",
                  "psen yg mix dikirimnya warna orange. patah kaitannya gak bsa dipake deh. pelayanan amat sangan gak oke. barang okelah standard , yg bikin males tokonya slow responn padahal sering online chat gak dibalas hr baru dikirim. beli buah warna pink , dikirimnya ungu tidak ada konfirmasi sebelumnya dan ketika saya ty di dm pun dibalas gantungan masker yg putus juga tapi seller sama sekali membalas ditanya mengenai ini. udh bertahun belanja di tokped ga pernah ketemu seller model gini , chat dr awal sama sekali bales ampe nyanyi 2 album saya wakaka mesen hari kamis jam 1 sampenya selasa malem butuh urgent bgt pdhl kapok dah bener worst. pengiriman lama sekali , diconfirm tdk dibalas pdhal online negative service. ada pilihan mix warna yg dikirim biru padahal utk anak perempuan , kecewa gk mau beli lagi dsini."
                ],
                [
                  "5823",
                  "beda sma yg di gambar , pdahal udh pernh pesen skali sni. barang tidak sesuai deskripsi bukan fast charger saya sudah coba di hp yang mendukung tapi setelah memakai kabel ini jadi normal bkn. barang rusak di charge hp nggak ngisi , udah ee tau ngilang susut lagi kirain changer coba dgn kabel lain bagus besoknya msh juga begitu ya ternyata barangnya yg tidak. baru d pake seminggu rusak. kualitas jelek , ngak mau pakai di smartphone. ngga bs charging sama sekali , boro fast kecewa udah pake kepala charger semia colok ke laptop yg koneksi atau."
                ],
                [
                  "5835",
                  "verifikasi nya lama , jadi gak dapat pc bts padahal udah co jam pas. pengiriman lama , kemasan tidak bagus. amat sangat disayangkan , pelayanannya buruk barang sdh seminggu lbh masih statusnya menunggu kurir pick up pembungkusnya jg tdk layak pembalut wanita dibungkus dengan plastik transparan saja tanpa box mengecewakan. udah berkali kali dibilangin kalo yg packing bukan seller tapi tim tokopedia karena ini event bts photocard jujur kecewa aja sih pas dateng paketnya begitu , chat mas kurirnya dan bilang emang dia cuma ngambil rusak kondisinya itu bener kayak kardus potongan disatuin direkatkan saya juga ga dapet pc jimin padahal bayar jam 3 diverifikasi segitu sedih. kecewa sekali , masa sekelas pg packingnya kayak gini cuma dilapisi plastik bening udah tau pembalut wanita yang sifatnya privasi pengirimannya juga lama. pengirimannya lama banget , pesen dr tgl sampai blm dikirim juga jd sy ajukan komplain ke toped abis itu baru barangnya sempet kecewa sih secara pesan di official storenya gitu tp service masih spt ini. official tapi lama banget  ini expiry date nya kok dijual , sayangnya aku ga ambil video unboxing soalnya yaa nyangka aja gitu judul tokonya official store dan waktu check barcode ada dong keluar itemnya beda dg produk satu lagi yg ke beli berbarengan. lama banget sampainya , ga terlalu rekomen untuk beli seminggu lebih. order dari tgl nov , baru sampai dec padahal official store itupun setelah kemarin saya follow up sendiri ke ekspedisinya karena status di toped masih menunggu pick paket pun tidak dipacking dengan aman hanya selembar plastik basah kena hujan kapok ga berani lagi belanja disinimelulu dichat penjual yang balas sistem dan info."
                ],
                [
                  "5842",
                  "ngga cocok sama hp realme 5 pro , konek manual pake bahasa china sulit dipahami. gk nyalah parah. deskripsi produk tdk jelas , usb cocok di hp samsung. pas pertama datang barang nggak berfungsi , coba lagi akhirnya sempat suara keterima dgn baik transaksi langsung saya klik selesai tapi besoknya ternyata error sampai sekarang sebetulnya di sisi penjual ada masalah pertanyaan dijawab cuma produk setlh diklik yakin juga bakal bisa diretur kepaksa ulasan diedit jadi bintang 1 balik deh pake yg model kabel. kurang komunikatif. barang nya sdh di coba , tapi tdk bisa berpungsi dgn baik nggak conek iphone sy. baru dipake 6x charger indikator udh ga nyala , bisa gimana ini sampe sekarang belum ada tindakan nyata pengurusan garansi. barang rusak di jual emang ngehek."
                ],
                [
                  "5861",
                  "kecewa sekal. seller menggapangkan dan menyepelekan pembeli , pengiriman lama pelayanan tidak memuaskan bilang wajar lah dikirim kan barang diskon sudah pas di pick up gagal follow lg sama sampai saya complain baru kerjain untuk kirim kualitas standar intinya bisa beli dimana saja sejenis tp sangat menyesal berhubungan dengan seperti ini. saya beli nano spray di , barang tidak bagus kembalikan ke toko minta tukar oleh ditukar dengan yang sama ternyata barangnya jeleknya lagi merk mixio karena lihat gambar ada lebih murah sudah sampaikan apabila mau menambah uang dikirim kesaya bukan tau itu type apa kecewa sisa juga dikembalikan menjawab chating kalau hanya sepatah kata memberikan penjelasan baik bagainana nasib pembelian padahal mengirim sesuai permintaan maka akan. kecewa tdk spt yg diharapkan basah semua keluar airnya meskipun udah diputer mulai dr plg kecil maupun besar. barang gak bisa dipakai parah ini mah. penipu ini penjual , nano apanya basah becek sudah mahal. produk yang dikirim , tombol putih buat setting besar kecil nya semprotan tidak berfungsi bagaimanakatanya garansi hari. 3x pesan , sdh mints tolong dikirimkan dgn nota dan di iyakan penjual namun juga tidak berikan. barang yang dikirim tidak sesuai dipesan  gagal produk baut tdk pas n tmpt pengisian jg bs boros pemakaiqnnya. barang tidak lengkap. spray air tdk keluar embun. saya beli 5 , yg 2 ada kabel charger 3 lagi tidak jadi gimana. spray tdk sesuai gambar , semprotannya spt mainan pistol anak aja. tidak bisa berfungsi walaupun sudah di charge , padahl beli mahal."
                ],
                [
                  "5888",
                  "barang dikrm beda dgn yg pesan. ada bagian yang sobek. ga dikirim barangnya. brg yg diterima tidak sama dgn di etalase toko , tipis seperti kotak nasi padang pdhl dikira tebal krn utk kirim kado ke luar kota. gak ada instruksinya , bingung jadinya. ga jelas ada instruksinya , rakitnya ginana sepertinya juga barangnya beda sama yg saya pesan. pengiriman lama dan tidak ada cara perakitan box yang susah  susah d bikinnya , ga ngerti ribet packing juga kurang bahkan ada yg lecek dan robek kertasnya ya uda lah. seller tidak jujur , saya beli 2 macam barang salah satu stok kosong tp diinfokan tapi lgsg kirim yg satunya pdhl sudah nunggu pikir penyelesaian gampang ya buyer bisa tinggal minta refund rugi waktu dan ongkir."
                ],
                [
                  "5899",
                  "bagus , pelayanan cepat tanggap sopan dan sangat jelas. terima kasih atas pelayanannya yg memuaskan , sukses selalu. seller ramah n reapon cepat , packing rapi thanks. packing cepat respond. tidak ada kendala saat penukaran di jepang , trm ksh. pengiriman cepar , barang bagus. good seller , ramah dan proses cepat. barang sesuai pesanan , proses cepat thanks seller. harga terjangkau di bandingkan jrpass tempat lain , penukaran nya juga tanpa masalah next time pasti order kesini lagi. produk baik sesuai deskripsi , cs juga sangat responsive dan helpful thank you. produk sesuai deskripsi , good communication fast response. respon cepat , barang dpt digunakan dengan baik. terima kasih atas pelayanan nya , sangat memuaskan. tepat waktu dan sesuai pesanan. murah , simpel sampai sana tinggal tukar. keren , mantab. admin sangat ramah sabar menghadapi berbagai pertanyaan , rekomended. bisa dipakai , trusted seller recommended. mantul , recommended seller. maaf baru review , respons seller sangat baik produk harganya termasuk murah dr agen lain recommended. respon cepat dan ramah , recommended. recommended seller. seller responsive , recomended. thanks atas respon nya , informasi yg diberikan jelas product oke bgt uda 2x order kesini barang di kirim rapi n cpt sampe. oke yah kakak biasa langganan. semoga lancar yah langganan."
                ],
                [
                  "5903",
                  "udah punya 3 botol dan 1 refill , beli lagi biar dpt baru yg ada sticker dermatologically tested nya. mantap , kalau di cium aromanya sedikit ada perubahan dari yang sebelumnya. selalu suka dengan dr soap , repeat order beli disini. udah banyak kali restock dan selalu kembali ke dr soap aja pdhl diluar sana juga handsanitizer yg lain tapi trpercaya hanya deh. hand sanitizernya oke banget , wanginya enak bikin tangan jadi halus abis dipakai semoga pas kulitku lagi sensitif ga sakit. sudah purchase kedua kali dan cocok dengan kulit tangan yg agak sensitif  fast resp seller pengiriman cepat packaging rapih aman barang lengkap sesuaii thankss a lott."
                ],
                [
                  "5917",
                  "pesanan diproses sangat cepat , tapi sayang filternya gak bisa saring kotoran kecil padahal semburan air nya mantep tujuan aku beli ini buat. nggak sesuai yg diiklanin , airnya loyo. packingnya parah cuma di masukin ke dalam kantong plastik hitam , tidak ada kardus dan lakban ikat biasa aja biarpun pengiriman cepat tapi packing sangat mengecewakan barang belum test semoga bisa berfungsi dengan baik. memang filter showerhead ini tidak disebutkan mereknya , jd bs dikatakan palsu tp saya agak kecewa silahkan dicoba sendiri aja mungkin salah. build quality kurang bagus terdapat retak sehingga air keluar dari sela retakan dan yang tidak maksimal. gak ada bintang , tidak sesuai iklan di bisa nambah tekananpressure hasilnya nol besar lebih kenceng eksistingnya. informasi produk berbeda dengan deskripsi yang dijual , saran untuk lain hati hatilah memahami supaya tidak kecewa. pengaturan air seperti di gambar rainfall , jetting massage ga ada cuma aja semprotan airnya kurang kuat juga."
                ],
                [
                  "5937",
                  "kondisi karungnya banyak yg bolong sehingga tidak bisa d pakai. kualitasnya di luar ekspektasi. order pcs , terkirim hanya. kualitas karung kurang bagus , pengiriman lama. pesan yg datang , karung sbagian banyak bolong ga bisa buat beras lagi. karungnya banyak yg bolong , ga sesuai pesanan. pesan pc dikirim 2pc padahal bayar sangat kecewa. karungnya super tipis tidak sesuai di gambar. kurang 1 , penjual teliti atau sengaja. karung baru bkn bekas , tipis ga sesuai gambar kapok belanja lg. karungnya lbh byk yg drpd , ga bs dipakai buat beras lg. mungkin pada saat pengiriman , alangkah baiknya kalau di bungkus kardus dr lembar 1 bolong semoga kedepan lebih baik lg."
                ],
                [
                  "5943",
                  "kondisi box mika lilin sudah seperti di foto dan juga ada cacatnya , semestinya dibungkus pakai bubble wrap bukan hanya plastik tipis pun plastiknya tidak dilem sama sekali cara seller package barang harus dibenarin lagi lebih baik kardus daripada mie instan selapis saja untung yang dibeli rusak saya benarbenar kecewa si dengan servis toko ini bakal mikir berkalikali untuk belanja disini. pesen ini tp stok habis kecewa. penjualnya sama sekali tidak komunikatif , barang kosong diganti lain tanpa konfirmasi terlebih dahulu ke pembeli next time kalau jualan pelayanannya lebih ditingkatkan lg mbak mas informasiin dulu kalo jgn seenak udel main ganti ntr situ yg ribet dan rugi sendiri balik balikin ongkirnya yakhan. seler aneh ditanya katanya uda berangkat tp tokped ga update , ternyata sepertinya memang gagal pick up bilang yang jujur kalo paket belum dipick malah bilangnya sudah. toko ini gimana mau pakai 5 9 di kasih udah mati kali jg bener jualan. produk tdk ada dalam paket. sy pesan lilin yg angka 1 dan 6 , tpi di kirim nya 7 sdh benar pdhl wkt beli jlalasin mau tdk bs foto krn udh buang brng pakai tunggu brp hr tau smp buka lain sm cmn utk ke dpn blajarlah teliti sebelum. ga sesuai ama yg di fhoto pas nyampe lilunnya kecil , buanged ukurannya. pda pecah lilin y pekejing ga aman. pesen lilin malah dikasih , mo dibalik jg angka 9 jd 6 ga ada sumbunya kacau fatal bgt gak dicek dlu sblm kirim ke customer. lilinnya udah rusak banget goldnya  tidak dikirim lilin nya padahal sdh beli. barangnya ga ada. lilinnya kecil tdk , sesuai gambar pdhl sy perlu angka 1 yg buat nemenin lainnya."
                ],
                [
                  "5944",
                  "puas banget , sempet error di kurir mau pake gercep seller nya respon bgt sama cari solusi order ulang ga pelit ada yg dikasih tambahan dikit makasi ya kak jaya selalu tokonya. sangat rekomended , packing bubble warp banyak meskipun order seharga cebann nice. keren banget pelayanannya , cuman beli lilin ajah servicenya bagus dan super cepat pesan pagi eh siang dah tiba. cuco meong pokoknya. top bgt. bagus banget lilinnya , kata kakak ini sultan. puas banget sellernya fast respon , alhamdulillah butuh lilin hari ini juga dikirim yg sama nanti anak ku ultah beli perlengkapannga disini insyaallah. terimakasih banyak untuk toko ini , saya kelupaan beli lilin ultah jadi baru hari h acara syukur puji tuhan bisa sampai tepat waktu padahal dikirim keluar kota."
                ],
                [
                  "5946",
                  "pengiriman cepat dan barang diterima dalam kondisi baik. barang sudah sampai dg selamat , packaging rapi hari dari proses pemesanan tiba di malang terima kasih. kualitas mantap , pengiriman sangat cepat luar biasa. lilinnya bagus , tidak berbau tahan sd 5 jam. barang saya terima dgn baik dan benar tepat waktu. packing nya rapi , brg pesanan dlm keadaan baik. packaging rapi shg lilin datang tetap utuh response penjual cpt. barang diterima dgn aman , respon cepat paking rapi waktu pengiriman lebih dr jadwal makasih. mantab , lilinya sesuai makasih ya. produk sesuai , respon cepat pengiriman. produk bagus , paking aman rapi respon kirim cepat."
                ],
                [
                  "5957",
                  "produk ada goresan , ga rapi dan kotoran di pinggirannya kiriman cepat smpe. barangnya bgus cman saya kurang puas dgn pakingya , gak rapi sama sekali sticknyapun cpottolong perbaiki lagi byar tokonya laris. kurang suka , bau karetnya sangat menyengat. barang sampainya lama sekali , respon penjual lambat mengecewakan. qualitas jelek sekali , bau seperti cat pad ya bergelombang. pengirimannya sih cepat , tapi barangnya bruntusan gitu teman saya juga beli drum pad bahan karet dari malang alus kok ini yg malah begitu ekspetasi tadinya bagus dapatnya jelekkan tdk sesuai foto di pajang oleh penjual. barang tidak sesuai dengan yg di iklankan seperti nya bekas. barang tidak sesuai gambar yang ditawarkan."
                ],
                [
                  "5965",
                  "ini si bukan mobil hotwheels , nggak sesuai sama iklan mengecewakan. ternyata bukan hot wheels asli , bahan plastik harap di beri keterangan bahwa barang tdk original. ternyata bukan ori , harga sesuai kualitas ya rb bahan plastik harusnya dikasih keterangan di deskripsi. ternyata barangnya kw kirain beneran promo. barang palsu , bukan hot wheels original made in china malaysia spt diskripsi. ternyata bukan hot wheels asli , bahan plastik harap di beri keterangan bahwa barang tdk original. ternyata bukan ori , harga sesuai kualitas ya rb bahan plastik harusnya dikasih keterangan di deskripsi. mobil bukan asli hot wheels , sy kira aslinya."
                ]
              ],
              "shape": {
                "columns": 1,
                "rows": 20
              }
            },
            "text/html": [
              "<div>\n",
              "<style scoped>\n",
              "    .dataframe tbody tr th:only-of-type {\n",
              "        vertical-align: middle;\n",
              "    }\n",
              "\n",
              "    .dataframe tbody tr th {\n",
              "        vertical-align: top;\n",
              "    }\n",
              "\n",
              "    .dataframe thead th {\n",
              "        text-align: right;\n",
              "    }\n",
              "</style>\n",
              "<table border=\"1\" class=\"dataframe\">\n",
              "  <thead>\n",
              "    <tr style=\"text-align: right;\">\n",
              "      <th></th>\n",
              "      <th>ulasan</th>\n",
              "    </tr>\n",
              "  </thead>\n",
              "  <tbody>\n",
              "    <tr>\n",
              "      <th>5785</th>\n",
              "      <td>menggunakan bahan alami , melembabkan kulit bayi aman buat nggak memicu alergi penjualnya ramah banget. thankyou , sesuai pesanan pengemasan jg cepat. saya sudah langganan beli transpulmin baby di toko ini menarini health beauty dan juga produk lainnya , respon cepat sangat cocok dgn kulit bayi meredakan flu batuk pada menngunakan bahan alami melembabkan aman buat tanpa pengawet tidak memicu alergi pokoknya mantul deh. menggunakan bahan alami , aman buat kulit bayi nggak lengket memicu alergi melembabkan tanpa pengawet packaging rapi respon penjualnya top proses pesanan cepat ramah bange. menggunakan bahan alami , melembabkan kulit bayi tanpa pengawet aman buat nggak lengket memicu alergi proses pesanan cepat penjualnya ramah banget respon top packaging rapi. menggunakan bahan alami , nggak memicu alergi tanpa pengawet. sesuai deskripsi aman buat kulit bayi , melembabkan nggak memicu alergi lengket. barang ori , bagus banget selalu pake ini dari bayiku lahir cuma pengiriman nya lamaaman buat kulit bayi menggunakan bahan alami nggak lengket melembabkan memicu alergi packaging aman.</td>\n",
              "    </tr>\n",
              "    <tr>\n",
              "      <th>5789</th>\n",
              "      <td>sangat kecewa , pengiriman lama banget barang nya juga rusak dan penyok jangan tergiur sama harga murah ya temanteman. lemah tidak kuat berdiri , apalagi utk posisi menunduk sedikit saja sudah mau jatuh menahan berat hp. sesuai harganya , build quality nya kurang bagus material bodi dari plastik jadinya kuat nahan beban hp yg agak besar kadang bisa jatuh tripod kalau di posisi nunduk setelah 2 tahun pemakaian batang mount patah note foto saya pasangin dgn holder merek lain bawaannya. kualitasnya mengecewakan , blm dipake sudah rusak bola joinnya. sering goyang katanya sih bahan nya dari aluminium ternyata plastik kecewa saya beli tripod ini. barang jelek , belom d pake udah pada patah.</td>\n",
              "    </tr>\n",
              "    <tr>\n",
              "      <th>5797</th>\n",
              "      <td>pelayanan lambat , beli tgl 3 baru sampai 9 setiap di trace selalu gagal pickup katanya lg maintenance tp ga bilang ke pelanggannya sangat mengecewakan. barang sampe kardus rusak gini , kata mas yg bawa pas dia terima nya uda kecewa saya lama yang diterima bgini dalam paas di buka sanitizernya basah smua tumpah keluar seger kayak ke gitu. yg dikirim botol tdk sesuai photo produk  pengiriman nya hampir 1 minggu , agak kecewa. yang datang bukan keluaran terbaru ada butiran berwarna biru didalam gel hand sanitizernya , sedikit kecewa walau manfaatnya sama hanya saja terlihat lebih menarik karena birunya padahal di foto produk sudah banget mau mesan lagi takut yg aja barangnya dengan sedih. delivery yang harus 2 karena twinpack tapi yg didelivery satu , sampai buat komplain dan tidak dapat kompensasi apa the first and last belanja sini official store kek gitu. beli twinpack yg di kirim cm 1 , mohon tanggung jawab nya ka karena saya bayar dengan harga.</td>\n",
              "    </tr>\n",
              "    <tr>\n",
              "      <th>5799</th>\n",
              "      <td>mantap barang bagus banget , seller ramah dan responsif. lucu , thankyou. good. akhirnya bisa punya koleksi juga walau cuma 1 , next lebih banyak lagi bt2 nya thank you. produk sesuai deskripsi , packing rapi dan aman thanks ubs. pengiriman cepat , aman thank you ubs. alhamdulillah sampai. packingnya cukup oke , ada segelnya jadi aman kelengkapan 6 elemennya juga. pesanan sudah diterima dengan baik dan sesuai orderan , makasih ya. kiyowo , suka banget sm koleksi bt2 nya thanks ubs pengiriman cepet dan packing aman. selucu itu , dapet free photocard juga dong happy. terbaik sayang banget emasnya gemoy. uucchh gemez syuka.</td>\n",
              "    </tr>\n",
              "    <tr>\n",
              "      <th>5805</th>\n",
              "      <td>ngisi powerbanknya lama bgt , sampe 8 jam lebih pas di coba charge ke hape jg 4 dr ngecharge listrik langsung. alatnya sering mati sendiri kak. unreliable , walau dptnya flash sale 6rb tetep gak worth cuma sekedar charge yg ringan saja mgkn ok. produk mengecewakan , kecewa awalnya sih oke tpi setelah seminggu pemakaian entah kenapa g bisa di cas sudh saya coba berkali kli tetep sangat dengan ini kwalitasnya kurang bagus. gak bisa di pake kecewa jadi barang sampah deh. sangat mengecewakan gak bisa di cas powerbank , dan kata nya garansi malah ongkos kirim kita suruh tanggung sendiri ya rugi parah lah ongkir dari batam itu kesitu belum lagi kenak pajak ditanya solusi lain respon. jangan tergiur dengan promo , saya beli 2 cpt habis dan ngecas powerbank nya lama.</td>\n",
              "    </tr>\n",
              "    <tr>\n",
              "      <th>5813</th>\n",
              "      <td>psen yg mix dikirimnya warna orange. patah kaitannya gak bsa dipake deh. pelayanan amat sangan gak oke. barang okelah standard , yg bikin males tokonya slow responn padahal sering online chat gak dibalas hr baru dikirim. beli buah warna pink , dikirimnya ungu tidak ada konfirmasi sebelumnya dan ketika saya ty di dm pun dibalas gantungan masker yg putus juga tapi seller sama sekali membalas ditanya mengenai ini. udh bertahun belanja di tokped ga pernah ketemu seller model gini , chat dr awal sama sekali bales ampe nyanyi 2 album saya wakaka mesen hari kamis jam 1 sampenya selasa malem butuh urgent bgt pdhl kapok dah bener worst. pengiriman lama sekali , diconfirm tdk dibalas pdhal online negative service. ada pilihan mix warna yg dikirim biru padahal utk anak perempuan , kecewa gk mau beli lagi dsini.</td>\n",
              "    </tr>\n",
              "    <tr>\n",
              "      <th>5823</th>\n",
              "      <td>beda sma yg di gambar , pdahal udh pernh pesen skali sni. barang tidak sesuai deskripsi bukan fast charger saya sudah coba di hp yang mendukung tapi setelah memakai kabel ini jadi normal bkn. barang rusak di charge hp nggak ngisi , udah ee tau ngilang susut lagi kirain changer coba dgn kabel lain bagus besoknya msh juga begitu ya ternyata barangnya yg tidak. baru d pake seminggu rusak. kualitas jelek , ngak mau pakai di smartphone. ngga bs charging sama sekali , boro fast kecewa udah pake kepala charger semia colok ke laptop yg koneksi atau.</td>\n",
              "    </tr>\n",
              "    <tr>\n",
              "      <th>5835</th>\n",
              "      <td>verifikasi nya lama , jadi gak dapat pc bts padahal udah co jam pas. pengiriman lama , kemasan tidak bagus. amat sangat disayangkan , pelayanannya buruk barang sdh seminggu lbh masih statusnya menunggu kurir pick up pembungkusnya jg tdk layak pembalut wanita dibungkus dengan plastik transparan saja tanpa box mengecewakan. udah berkali kali dibilangin kalo yg packing bukan seller tapi tim tokopedia karena ini event bts photocard jujur kecewa aja sih pas dateng paketnya begitu , chat mas kurirnya dan bilang emang dia cuma ngambil rusak kondisinya itu bener kayak kardus potongan disatuin direkatkan saya juga ga dapet pc jimin padahal bayar jam 3 diverifikasi segitu sedih. kecewa sekali , masa sekelas pg packingnya kayak gini cuma dilapisi plastik bening udah tau pembalut wanita yang sifatnya privasi pengirimannya juga lama. pengirimannya lama banget , pesen dr tgl sampai blm dikirim juga jd sy ajukan komplain ke toped abis itu baru barangnya sempet kecewa sih secara pesan di official storenya gitu tp service masih spt ini. official tapi lama banget  ini expiry date nya kok dijual , sayangnya aku ga ambil video unboxing soalnya yaa nyangka aja gitu judul tokonya official store dan waktu check barcode ada dong keluar itemnya beda dg produk satu lagi yg ke beli berbarengan. lama banget sampainya , ga terlalu rekomen untuk beli seminggu lebih. order dari tgl nov , baru sampai dec padahal official store itupun setelah kemarin saya follow up sendiri ke ekspedisinya karena status di toped masih menunggu pick paket pun tidak dipacking dengan aman hanya selembar plastik basah kena hujan kapok ga berani lagi belanja disinimelulu dichat penjual yang balas sistem dan info.</td>\n",
              "    </tr>\n",
              "    <tr>\n",
              "      <th>5842</th>\n",
              "      <td>ngga cocok sama hp realme 5 pro , konek manual pake bahasa china sulit dipahami. gk nyalah parah. deskripsi produk tdk jelas , usb cocok di hp samsung. pas pertama datang barang nggak berfungsi , coba lagi akhirnya sempat suara keterima dgn baik transaksi langsung saya klik selesai tapi besoknya ternyata error sampai sekarang sebetulnya di sisi penjual ada masalah pertanyaan dijawab cuma produk setlh diklik yakin juga bakal bisa diretur kepaksa ulasan diedit jadi bintang 1 balik deh pake yg model kabel. kurang komunikatif. barang nya sdh di coba , tapi tdk bisa berpungsi dgn baik nggak conek iphone sy. baru dipake 6x charger indikator udh ga nyala , bisa gimana ini sampe sekarang belum ada tindakan nyata pengurusan garansi. barang rusak di jual emang ngehek.</td>\n",
              "    </tr>\n",
              "    <tr>\n",
              "      <th>5861</th>\n",
              "      <td>kecewa sekal. seller menggapangkan dan menyepelekan pembeli , pengiriman lama pelayanan tidak memuaskan bilang wajar lah dikirim kan barang diskon sudah pas di pick up gagal follow lg sama sampai saya complain baru kerjain untuk kirim kualitas standar intinya bisa beli dimana saja sejenis tp sangat menyesal berhubungan dengan seperti ini. saya beli nano spray di , barang tidak bagus kembalikan ke toko minta tukar oleh ditukar dengan yang sama ternyata barangnya jeleknya lagi merk mixio karena lihat gambar ada lebih murah sudah sampaikan apabila mau menambah uang dikirim kesaya bukan tau itu type apa kecewa sisa juga dikembalikan menjawab chating kalau hanya sepatah kata memberikan penjelasan baik bagainana nasib pembelian padahal mengirim sesuai permintaan maka akan. kecewa tdk spt yg diharapkan basah semua keluar airnya meskipun udah diputer mulai dr plg kecil maupun besar. barang gak bisa dipakai parah ini mah. penipu ini penjual , nano apanya basah becek sudah mahal. produk yang dikirim , tombol putih buat setting besar kecil nya semprotan tidak berfungsi bagaimanakatanya garansi hari. 3x pesan , sdh mints tolong dikirimkan dgn nota dan di iyakan penjual namun juga tidak berikan. barang yang dikirim tidak sesuai dipesan  gagal produk baut tdk pas n tmpt pengisian jg bs boros pemakaiqnnya. barang tidak lengkap. spray air tdk keluar embun. saya beli 5 , yg 2 ada kabel charger 3 lagi tidak jadi gimana. spray tdk sesuai gambar , semprotannya spt mainan pistol anak aja. tidak bisa berfungsi walaupun sudah di charge , padahl beli mahal.</td>\n",
              "    </tr>\n",
              "    <tr>\n",
              "      <th>5888</th>\n",
              "      <td>barang dikrm beda dgn yg pesan. ada bagian yang sobek. ga dikirim barangnya. brg yg diterima tidak sama dgn di etalase toko , tipis seperti kotak nasi padang pdhl dikira tebal krn utk kirim kado ke luar kota. gak ada instruksinya , bingung jadinya. ga jelas ada instruksinya , rakitnya ginana sepertinya juga barangnya beda sama yg saya pesan. pengiriman lama dan tidak ada cara perakitan box yang susah  susah d bikinnya , ga ngerti ribet packing juga kurang bahkan ada yg lecek dan robek kertasnya ya uda lah. seller tidak jujur , saya beli 2 macam barang salah satu stok kosong tp diinfokan tapi lgsg kirim yg satunya pdhl sudah nunggu pikir penyelesaian gampang ya buyer bisa tinggal minta refund rugi waktu dan ongkir.</td>\n",
              "    </tr>\n",
              "    <tr>\n",
              "      <th>5899</th>\n",
              "      <td>bagus , pelayanan cepat tanggap sopan dan sangat jelas. terima kasih atas pelayanannya yg memuaskan , sukses selalu. seller ramah n reapon cepat , packing rapi thanks. packing cepat respond. tidak ada kendala saat penukaran di jepang , trm ksh. pengiriman cepar , barang bagus. good seller , ramah dan proses cepat. barang sesuai pesanan , proses cepat thanks seller. harga terjangkau di bandingkan jrpass tempat lain , penukaran nya juga tanpa masalah next time pasti order kesini lagi. produk baik sesuai deskripsi , cs juga sangat responsive dan helpful thank you. produk sesuai deskripsi , good communication fast response. respon cepat , barang dpt digunakan dengan baik. terima kasih atas pelayanan nya , sangat memuaskan. tepat waktu dan sesuai pesanan. murah , simpel sampai sana tinggal tukar. keren , mantab. admin sangat ramah sabar menghadapi berbagai pertanyaan , rekomended. bisa dipakai , trusted seller recommended. mantul , recommended seller. maaf baru review , respons seller sangat baik produk harganya termasuk murah dr agen lain recommended. respon cepat dan ramah , recommended. recommended seller. seller responsive , recomended. thanks atas respon nya , informasi yg diberikan jelas product oke bgt uda 2x order kesini barang di kirim rapi n cpt sampe. oke yah kakak biasa langganan. semoga lancar yah langganan.</td>\n",
              "    </tr>\n",
              "    <tr>\n",
              "      <th>5903</th>\n",
              "      <td>udah punya 3 botol dan 1 refill , beli lagi biar dpt baru yg ada sticker dermatologically tested nya. mantap , kalau di cium aromanya sedikit ada perubahan dari yang sebelumnya. selalu suka dengan dr soap , repeat order beli disini. udah banyak kali restock dan selalu kembali ke dr soap aja pdhl diluar sana juga handsanitizer yg lain tapi trpercaya hanya deh. hand sanitizernya oke banget , wanginya enak bikin tangan jadi halus abis dipakai semoga pas kulitku lagi sensitif ga sakit. sudah purchase kedua kali dan cocok dengan kulit tangan yg agak sensitif  fast resp seller pengiriman cepat packaging rapih aman barang lengkap sesuaii thankss a lott.</td>\n",
              "    </tr>\n",
              "    <tr>\n",
              "      <th>5917</th>\n",
              "      <td>pesanan diproses sangat cepat , tapi sayang filternya gak bisa saring kotoran kecil padahal semburan air nya mantep tujuan aku beli ini buat. nggak sesuai yg diiklanin , airnya loyo. packingnya parah cuma di masukin ke dalam kantong plastik hitam , tidak ada kardus dan lakban ikat biasa aja biarpun pengiriman cepat tapi packing sangat mengecewakan barang belum test semoga bisa berfungsi dengan baik. memang filter showerhead ini tidak disebutkan mereknya , jd bs dikatakan palsu tp saya agak kecewa silahkan dicoba sendiri aja mungkin salah. build quality kurang bagus terdapat retak sehingga air keluar dari sela retakan dan yang tidak maksimal. gak ada bintang , tidak sesuai iklan di bisa nambah tekananpressure hasilnya nol besar lebih kenceng eksistingnya. informasi produk berbeda dengan deskripsi yang dijual , saran untuk lain hati hatilah memahami supaya tidak kecewa. pengaturan air seperti di gambar rainfall , jetting massage ga ada cuma aja semprotan airnya kurang kuat juga.</td>\n",
              "    </tr>\n",
              "    <tr>\n",
              "      <th>5937</th>\n",
              "      <td>kondisi karungnya banyak yg bolong sehingga tidak bisa d pakai. kualitasnya di luar ekspektasi. order pcs , terkirim hanya. kualitas karung kurang bagus , pengiriman lama. pesan yg datang , karung sbagian banyak bolong ga bisa buat beras lagi. karungnya banyak yg bolong , ga sesuai pesanan. pesan pc dikirim 2pc padahal bayar sangat kecewa. karungnya super tipis tidak sesuai di gambar. kurang 1 , penjual teliti atau sengaja. karung baru bkn bekas , tipis ga sesuai gambar kapok belanja lg. karungnya lbh byk yg drpd , ga bs dipakai buat beras lg. mungkin pada saat pengiriman , alangkah baiknya kalau di bungkus kardus dr lembar 1 bolong semoga kedepan lebih baik lg.</td>\n",
              "    </tr>\n",
              "    <tr>\n",
              "      <th>5943</th>\n",
              "      <td>kondisi box mika lilin sudah seperti di foto dan juga ada cacatnya , semestinya dibungkus pakai bubble wrap bukan hanya plastik tipis pun plastiknya tidak dilem sama sekali cara seller package barang harus dibenarin lagi lebih baik kardus daripada mie instan selapis saja untung yang dibeli rusak saya benarbenar kecewa si dengan servis toko ini bakal mikir berkalikali untuk belanja disini. pesen ini tp stok habis kecewa. penjualnya sama sekali tidak komunikatif , barang kosong diganti lain tanpa konfirmasi terlebih dahulu ke pembeli next time kalau jualan pelayanannya lebih ditingkatkan lg mbak mas informasiin dulu kalo jgn seenak udel main ganti ntr situ yg ribet dan rugi sendiri balik balikin ongkirnya yakhan. seler aneh ditanya katanya uda berangkat tp tokped ga update , ternyata sepertinya memang gagal pick up bilang yang jujur kalo paket belum dipick malah bilangnya sudah. toko ini gimana mau pakai 5 9 di kasih udah mati kali jg bener jualan. produk tdk ada dalam paket. sy pesan lilin yg angka 1 dan 6 , tpi di kirim nya 7 sdh benar pdhl wkt beli jlalasin mau tdk bs foto krn udh buang brng pakai tunggu brp hr tau smp buka lain sm cmn utk ke dpn blajarlah teliti sebelum. ga sesuai ama yg di fhoto pas nyampe lilunnya kecil , buanged ukurannya. pda pecah lilin y pekejing ga aman. pesen lilin malah dikasih , mo dibalik jg angka 9 jd 6 ga ada sumbunya kacau fatal bgt gak dicek dlu sblm kirim ke customer. lilinnya udah rusak banget goldnya  tidak dikirim lilin nya padahal sdh beli. barangnya ga ada. lilinnya kecil tdk , sesuai gambar pdhl sy perlu angka 1 yg buat nemenin lainnya.</td>\n",
              "    </tr>\n",
              "    <tr>\n",
              "      <th>5944</th>\n",
              "      <td>puas banget , sempet error di kurir mau pake gercep seller nya respon bgt sama cari solusi order ulang ga pelit ada yg dikasih tambahan dikit makasi ya kak jaya selalu tokonya. sangat rekomended , packing bubble warp banyak meskipun order seharga cebann nice. keren banget pelayanannya , cuman beli lilin ajah servicenya bagus dan super cepat pesan pagi eh siang dah tiba. cuco meong pokoknya. top bgt. bagus banget lilinnya , kata kakak ini sultan. puas banget sellernya fast respon , alhamdulillah butuh lilin hari ini juga dikirim yg sama nanti anak ku ultah beli perlengkapannga disini insyaallah. terimakasih banyak untuk toko ini , saya kelupaan beli lilin ultah jadi baru hari h acara syukur puji tuhan bisa sampai tepat waktu padahal dikirim keluar kota.</td>\n",
              "    </tr>\n",
              "    <tr>\n",
              "      <th>5946</th>\n",
              "      <td>pengiriman cepat dan barang diterima dalam kondisi baik. barang sudah sampai dg selamat , packaging rapi hari dari proses pemesanan tiba di malang terima kasih. kualitas mantap , pengiriman sangat cepat luar biasa. lilinnya bagus , tidak berbau tahan sd 5 jam. barang saya terima dgn baik dan benar tepat waktu. packing nya rapi , brg pesanan dlm keadaan baik. packaging rapi shg lilin datang tetap utuh response penjual cpt. barang diterima dgn aman , respon cepat paking rapi waktu pengiriman lebih dr jadwal makasih. mantab , lilinya sesuai makasih ya. produk sesuai , respon cepat pengiriman. produk bagus , paking aman rapi respon kirim cepat.</td>\n",
              "    </tr>\n",
              "    <tr>\n",
              "      <th>5957</th>\n",
              "      <td>produk ada goresan , ga rapi dan kotoran di pinggirannya kiriman cepat smpe. barangnya bgus cman saya kurang puas dgn pakingya , gak rapi sama sekali sticknyapun cpottolong perbaiki lagi byar tokonya laris. kurang suka , bau karetnya sangat menyengat. barang sampainya lama sekali , respon penjual lambat mengecewakan. qualitas jelek sekali , bau seperti cat pad ya bergelombang. pengirimannya sih cepat , tapi barangnya bruntusan gitu teman saya juga beli drum pad bahan karet dari malang alus kok ini yg malah begitu ekspetasi tadinya bagus dapatnya jelekkan tdk sesuai foto di pajang oleh penjual. barang tidak sesuai dengan yg di iklankan seperti nya bekas. barang tidak sesuai gambar yang ditawarkan.</td>\n",
              "    </tr>\n",
              "    <tr>\n",
              "      <th>5965</th>\n",
              "      <td>ini si bukan mobil hotwheels , nggak sesuai sama iklan mengecewakan. ternyata bukan hot wheels asli , bahan plastik harap di beri keterangan bahwa barang tdk original. ternyata bukan ori , harga sesuai kualitas ya rb bahan plastik harusnya dikasih keterangan di deskripsi. ternyata barangnya kw kirain beneran promo. barang palsu , bukan hot wheels original made in china malaysia spt diskripsi. ternyata bukan hot wheels asli , bahan plastik harap di beri keterangan bahwa barang tdk original. ternyata bukan ori , harga sesuai kualitas ya rb bahan plastik harusnya dikasih keterangan di deskripsi. mobil bukan asli hot wheels , sy kira aslinya.</td>\n",
              "    </tr>\n",
              "  </tbody>\n",
              "</table>\n",
              "</div>"
            ],
            "text/plain": [
              "                                                                                                                                                                                                                                                                                                                                                                                                                                                                                                                                                                                                                                                                                                                                                                                                                                                                                                                                                                                                                                                                                                                                                                                                                                                                                                                                                                                                                                                                                                                                                                                                                                                                                                                                                      ulasan\n",
              "5785                                                                                                                                                                                                                                                                                                                                                                                                                                                                                                                                                                                                               menggunakan bahan alami , melembabkan kulit bayi aman buat nggak memicu alergi penjualnya ramah banget. thankyou , sesuai pesanan pengemasan jg cepat. saya sudah langganan beli transpulmin baby di toko ini menarini health beauty dan juga produk lainnya , respon cepat sangat cocok dgn kulit bayi meredakan flu batuk pada menngunakan bahan alami melembabkan aman buat tanpa pengawet tidak memicu alergi pokoknya mantul deh. menggunakan bahan alami , aman buat kulit bayi nggak lengket memicu alergi melembabkan tanpa pengawet packaging rapi respon penjualnya top proses pesanan cepat ramah bange. menggunakan bahan alami , melembabkan kulit bayi tanpa pengawet aman buat nggak lengket memicu alergi proses pesanan cepat penjualnya ramah banget respon top packaging rapi. menggunakan bahan alami , nggak memicu alergi tanpa pengawet. sesuai deskripsi aman buat kulit bayi , melembabkan nggak memicu alergi lengket. barang ori , bagus banget selalu pake ini dari bayiku lahir cuma pengiriman nya lamaaman buat kulit bayi menggunakan bahan alami nggak lengket melembabkan memicu alergi packaging aman.\n",
              "5789                                                                                                                                                                                                                                                                                                                                                                                                                                                                                                                                                                                                                                                                                                                                                                                                                                                                                                                                                                                                                                  sangat kecewa , pengiriman lama banget barang nya juga rusak dan penyok jangan tergiur sama harga murah ya temanteman. lemah tidak kuat berdiri , apalagi utk posisi menunduk sedikit saja sudah mau jatuh menahan berat hp. sesuai harganya , build quality nya kurang bagus material bodi dari plastik jadinya kuat nahan beban hp yg agak besar kadang bisa jatuh tripod kalau di posisi nunduk setelah 2 tahun pemakaian batang mount patah note foto saya pasangin dgn holder merek lain bawaannya. kualitasnya mengecewakan , blm dipake sudah rusak bola joinnya. sering goyang katanya sih bahan nya dari aluminium ternyata plastik kecewa saya beli tripod ini. barang jelek , belom d pake udah pada patah.\n",
              "5797                                                                                                                                                                                                                                                                                                                                                                                                                                                                                                                                                                                                                                                                                                                                                       pelayanan lambat , beli tgl 3 baru sampai 9 setiap di trace selalu gagal pickup katanya lg maintenance tp ga bilang ke pelanggannya sangat mengecewakan. barang sampe kardus rusak gini , kata mas yg bawa pas dia terima nya uda kecewa saya lama yang diterima bgini dalam paas di buka sanitizernya basah smua tumpah keluar seger kayak ke gitu. yg dikirim botol tdk sesuai photo produk  pengiriman nya hampir 1 minggu , agak kecewa. yang datang bukan keluaran terbaru ada butiran berwarna biru didalam gel hand sanitizernya , sedikit kecewa walau manfaatnya sama hanya saja terlihat lebih menarik karena birunya padahal di foto produk sudah banget mau mesan lagi takut yg aja barangnya dengan sedih. delivery yang harus 2 karena twinpack tapi yg didelivery satu , sampai buat komplain dan tidak dapat kompensasi apa the first and last belanja sini official store kek gitu. beli twinpack yg di kirim cm 1 , mohon tanggung jawab nya ka karena saya bayar dengan harga.\n",
              "5799                                                                                                                                                                                                                                                                                                                                                                                                                                                                                                                                                                                                                                                                                                                                                                                                                                                                                                                                                                                                                                                                                                    mantap barang bagus banget , seller ramah dan responsif. lucu , thankyou. good. akhirnya bisa punya koleksi juga walau cuma 1 , next lebih banyak lagi bt2 nya thank you. produk sesuai deskripsi , packing rapi dan aman thanks ubs. pengiriman cepat , aman thank you ubs. alhamdulillah sampai. packingnya cukup oke , ada segelnya jadi aman kelengkapan 6 elemennya juga. pesanan sudah diterima dengan baik dan sesuai orderan , makasih ya. kiyowo , suka banget sm koleksi bt2 nya thanks ubs pengiriman cepet dan packing aman. selucu itu , dapet free photocard juga dong happy. terbaik sayang banget emasnya gemoy. uucchh gemez syuka.\n",
              "5805                                                                                                                                                                                                                                                                                                                                                                                                                                                                                                                                                                                                                                                                                                                                                                                                                                                                                                                                                       ngisi powerbanknya lama bgt , sampe 8 jam lebih pas di coba charge ke hape jg 4 dr ngecharge listrik langsung. alatnya sering mati sendiri kak. unreliable , walau dptnya flash sale 6rb tetep gak worth cuma sekedar charge yg ringan saja mgkn ok. produk mengecewakan , kecewa awalnya sih oke tpi setelah seminggu pemakaian entah kenapa g bisa di cas sudh saya coba berkali kli tetep sangat dengan ini kwalitasnya kurang bagus. gak bisa di pake kecewa jadi barang sampah deh. sangat mengecewakan gak bisa di cas powerbank , dan kata nya garansi malah ongkos kirim kita suruh tanggung sendiri ya rugi parah lah ongkir dari batam itu kesitu belum lagi kenak pajak ditanya solusi lain respon. jangan tergiur dengan promo , saya beli 2 cpt habis dan ngecas powerbank nya lama.\n",
              "5813                                                                                                                                                                                                                                                                                                                                                                                                                                                                                                                                                                                                                                                                                                                                                                                                                                                                                                             psen yg mix dikirimnya warna orange. patah kaitannya gak bsa dipake deh. pelayanan amat sangan gak oke. barang okelah standard , yg bikin males tokonya slow responn padahal sering online chat gak dibalas hr baru dikirim. beli buah warna pink , dikirimnya ungu tidak ada konfirmasi sebelumnya dan ketika saya ty di dm pun dibalas gantungan masker yg putus juga tapi seller sama sekali membalas ditanya mengenai ini. udh bertahun belanja di tokped ga pernah ketemu seller model gini , chat dr awal sama sekali bales ampe nyanyi 2 album saya wakaka mesen hari kamis jam 1 sampenya selasa malem butuh urgent bgt pdhl kapok dah bener worst. pengiriman lama sekali , diconfirm tdk dibalas pdhal online negative service. ada pilihan mix warna yg dikirim biru padahal utk anak perempuan , kecewa gk mau beli lagi dsini.\n",
              "5823                                                                                                                                                                                                                                                                                                                                                                                                                                                                                                                                                                                                                                                                                                                                                                                                                                                                                                                                                                                                                                                                                                                                                                                     beda sma yg di gambar , pdahal udh pernh pesen skali sni. barang tidak sesuai deskripsi bukan fast charger saya sudah coba di hp yang mendukung tapi setelah memakai kabel ini jadi normal bkn. barang rusak di charge hp nggak ngisi , udah ee tau ngilang susut lagi kirain changer coba dgn kabel lain bagus besoknya msh juga begitu ya ternyata barangnya yg tidak. baru d pake seminggu rusak. kualitas jelek , ngak mau pakai di smartphone. ngga bs charging sama sekali , boro fast kecewa udah pake kepala charger semia colok ke laptop yg koneksi atau.\n",
              "5835  verifikasi nya lama , jadi gak dapat pc bts padahal udah co jam pas. pengiriman lama , kemasan tidak bagus. amat sangat disayangkan , pelayanannya buruk barang sdh seminggu lbh masih statusnya menunggu kurir pick up pembungkusnya jg tdk layak pembalut wanita dibungkus dengan plastik transparan saja tanpa box mengecewakan. udah berkali kali dibilangin kalo yg packing bukan seller tapi tim tokopedia karena ini event bts photocard jujur kecewa aja sih pas dateng paketnya begitu , chat mas kurirnya dan bilang emang dia cuma ngambil rusak kondisinya itu bener kayak kardus potongan disatuin direkatkan saya juga ga dapet pc jimin padahal bayar jam 3 diverifikasi segitu sedih. kecewa sekali , masa sekelas pg packingnya kayak gini cuma dilapisi plastik bening udah tau pembalut wanita yang sifatnya privasi pengirimannya juga lama. pengirimannya lama banget , pesen dr tgl sampai blm dikirim juga jd sy ajukan komplain ke toped abis itu baru barangnya sempet kecewa sih secara pesan di official storenya gitu tp service masih spt ini. official tapi lama banget  ini expiry date nya kok dijual , sayangnya aku ga ambil video unboxing soalnya yaa nyangka aja gitu judul tokonya official store dan waktu check barcode ada dong keluar itemnya beda dg produk satu lagi yg ke beli berbarengan. lama banget sampainya , ga terlalu rekomen untuk beli seminggu lebih. order dari tgl nov , baru sampai dec padahal official store itupun setelah kemarin saya follow up sendiri ke ekspedisinya karena status di toped masih menunggu pick paket pun tidak dipacking dengan aman hanya selembar plastik basah kena hujan kapok ga berani lagi belanja disinimelulu dichat penjual yang balas sistem dan info.\n",
              "5842                                                                                                                                                                                                                                                                                                                                                                                                                                                                                                                                                                                                                                                                                                                                                                                                                                                                                                                                                        ngga cocok sama hp realme 5 pro , konek manual pake bahasa china sulit dipahami. gk nyalah parah. deskripsi produk tdk jelas , usb cocok di hp samsung. pas pertama datang barang nggak berfungsi , coba lagi akhirnya sempat suara keterima dgn baik transaksi langsung saya klik selesai tapi besoknya ternyata error sampai sekarang sebetulnya di sisi penjual ada masalah pertanyaan dijawab cuma produk setlh diklik yakin juga bakal bisa diretur kepaksa ulasan diedit jadi bintang 1 balik deh pake yg model kabel. kurang komunikatif. barang nya sdh di coba , tapi tdk bisa berpungsi dgn baik nggak conek iphone sy. baru dipake 6x charger indikator udh ga nyala , bisa gimana ini sampe sekarang belum ada tindakan nyata pengurusan garansi. barang rusak di jual emang ngehek.\n",
              "5861                                                                                                                                 kecewa sekal. seller menggapangkan dan menyepelekan pembeli , pengiriman lama pelayanan tidak memuaskan bilang wajar lah dikirim kan barang diskon sudah pas di pick up gagal follow lg sama sampai saya complain baru kerjain untuk kirim kualitas standar intinya bisa beli dimana saja sejenis tp sangat menyesal berhubungan dengan seperti ini. saya beli nano spray di , barang tidak bagus kembalikan ke toko minta tukar oleh ditukar dengan yang sama ternyata barangnya jeleknya lagi merk mixio karena lihat gambar ada lebih murah sudah sampaikan apabila mau menambah uang dikirim kesaya bukan tau itu type apa kecewa sisa juga dikembalikan menjawab chating kalau hanya sepatah kata memberikan penjelasan baik bagainana nasib pembelian padahal mengirim sesuai permintaan maka akan. kecewa tdk spt yg diharapkan basah semua keluar airnya meskipun udah diputer mulai dr plg kecil maupun besar. barang gak bisa dipakai parah ini mah. penipu ini penjual , nano apanya basah becek sudah mahal. produk yang dikirim , tombol putih buat setting besar kecil nya semprotan tidak berfungsi bagaimanakatanya garansi hari. 3x pesan , sdh mints tolong dikirimkan dgn nota dan di iyakan penjual namun juga tidak berikan. barang yang dikirim tidak sesuai dipesan  gagal produk baut tdk pas n tmpt pengisian jg bs boros pemakaiqnnya. barang tidak lengkap. spray air tdk keluar embun. saya beli 5 , yg 2 ada kabel charger 3 lagi tidak jadi gimana. spray tdk sesuai gambar , semprotannya spt mainan pistol anak aja. tidak bisa berfungsi walaupun sudah di charge , padahl beli mahal.\n",
              "5888                                                                                                                                                                                                                                                                                                                                                                                                                                                                                                                                                                                                                                                                                                                                                                                                                                                                                                                                                                                                     barang dikrm beda dgn yg pesan. ada bagian yang sobek. ga dikirim barangnya. brg yg diterima tidak sama dgn di etalase toko , tipis seperti kotak nasi padang pdhl dikira tebal krn utk kirim kado ke luar kota. gak ada instruksinya , bingung jadinya. ga jelas ada instruksinya , rakitnya ginana sepertinya juga barangnya beda sama yg saya pesan. pengiriman lama dan tidak ada cara perakitan box yang susah  susah d bikinnya , ga ngerti ribet packing juga kurang bahkan ada yg lecek dan robek kertasnya ya uda lah. seller tidak jujur , saya beli 2 macam barang salah satu stok kosong tp diinfokan tapi lgsg kirim yg satunya pdhl sudah nunggu pikir penyelesaian gampang ya buyer bisa tinggal minta refund rugi waktu dan ongkir.\n",
              "5899                                                                                                                                                                                                                                                                                                                                                               bagus , pelayanan cepat tanggap sopan dan sangat jelas. terima kasih atas pelayanannya yg memuaskan , sukses selalu. seller ramah n reapon cepat , packing rapi thanks. packing cepat respond. tidak ada kendala saat penukaran di jepang , trm ksh. pengiriman cepar , barang bagus. good seller , ramah dan proses cepat. barang sesuai pesanan , proses cepat thanks seller. harga terjangkau di bandingkan jrpass tempat lain , penukaran nya juga tanpa masalah next time pasti order kesini lagi. produk baik sesuai deskripsi , cs juga sangat responsive dan helpful thank you. produk sesuai deskripsi , good communication fast response. respon cepat , barang dpt digunakan dengan baik. terima kasih atas pelayanan nya , sangat memuaskan. tepat waktu dan sesuai pesanan. murah , simpel sampai sana tinggal tukar. keren , mantab. admin sangat ramah sabar menghadapi berbagai pertanyaan , rekomended. bisa dipakai , trusted seller recommended. mantul , recommended seller. maaf baru review , respons seller sangat baik produk harganya termasuk murah dr agen lain recommended. respon cepat dan ramah , recommended. recommended seller. seller responsive , recomended. thanks atas respon nya , informasi yg diberikan jelas product oke bgt uda 2x order kesini barang di kirim rapi n cpt sampe. oke yah kakak biasa langganan. semoga lancar yah langganan.\n",
              "5903                                                                                                                                                                                                                                                                                                                                                                                                                                                                                                                                                                                                                                                                                                                                                                                                                                                                                                                                                                                                                                                                          udah punya 3 botol dan 1 refill , beli lagi biar dpt baru yg ada sticker dermatologically tested nya. mantap , kalau di cium aromanya sedikit ada perubahan dari yang sebelumnya. selalu suka dengan dr soap , repeat order beli disini. udah banyak kali restock dan selalu kembali ke dr soap aja pdhl diluar sana juga handsanitizer yg lain tapi trpercaya hanya deh. hand sanitizernya oke banget , wanginya enak bikin tangan jadi halus abis dipakai semoga pas kulitku lagi sensitif ga sakit. sudah purchase kedua kali dan cocok dengan kulit tangan yg agak sensitif  fast resp seller pengiriman cepat packaging rapih aman barang lengkap sesuaii thankss a lott.\n",
              "5917                                                                                                                                                                                                                                                                                                                                                                                                                                                                                                                                                                                                                                                                                                                         pesanan diproses sangat cepat , tapi sayang filternya gak bisa saring kotoran kecil padahal semburan air nya mantep tujuan aku beli ini buat. nggak sesuai yg diiklanin , airnya loyo. packingnya parah cuma di masukin ke dalam kantong plastik hitam , tidak ada kardus dan lakban ikat biasa aja biarpun pengiriman cepat tapi packing sangat mengecewakan barang belum test semoga bisa berfungsi dengan baik. memang filter showerhead ini tidak disebutkan mereknya , jd bs dikatakan palsu tp saya agak kecewa silahkan dicoba sendiri aja mungkin salah. build quality kurang bagus terdapat retak sehingga air keluar dari sela retakan dan yang tidak maksimal. gak ada bintang , tidak sesuai iklan di bisa nambah tekananpressure hasilnya nol besar lebih kenceng eksistingnya. informasi produk berbeda dengan deskripsi yang dijual , saran untuk lain hati hatilah memahami supaya tidak kecewa. pengaturan air seperti di gambar rainfall , jetting massage ga ada cuma aja semprotan airnya kurang kuat juga.\n",
              "5937                                                                                                                                                                                                                                                                                                                                                                                                                                                                                                                                                                                                                                                                                                                                                                                                                                                                                                                                                                                                                                                          kondisi karungnya banyak yg bolong sehingga tidak bisa d pakai. kualitasnya di luar ekspektasi. order pcs , terkirim hanya. kualitas karung kurang bagus , pengiriman lama. pesan yg datang , karung sbagian banyak bolong ga bisa buat beras lagi. karungnya banyak yg bolong , ga sesuai pesanan. pesan pc dikirim 2pc padahal bayar sangat kecewa. karungnya super tipis tidak sesuai di gambar. kurang 1 , penjual teliti atau sengaja. karung baru bkn bekas , tipis ga sesuai gambar kapok belanja lg. karungnya lbh byk yg drpd , ga bs dipakai buat beras lg. mungkin pada saat pengiriman , alangkah baiknya kalau di bungkus kardus dr lembar 1 bolong semoga kedepan lebih baik lg.\n",
              "5943                                                                                     kondisi box mika lilin sudah seperti di foto dan juga ada cacatnya , semestinya dibungkus pakai bubble wrap bukan hanya plastik tipis pun plastiknya tidak dilem sama sekali cara seller package barang harus dibenarin lagi lebih baik kardus daripada mie instan selapis saja untung yang dibeli rusak saya benarbenar kecewa si dengan servis toko ini bakal mikir berkalikali untuk belanja disini. pesen ini tp stok habis kecewa. penjualnya sama sekali tidak komunikatif , barang kosong diganti lain tanpa konfirmasi terlebih dahulu ke pembeli next time kalau jualan pelayanannya lebih ditingkatkan lg mbak mas informasiin dulu kalo jgn seenak udel main ganti ntr situ yg ribet dan rugi sendiri balik balikin ongkirnya yakhan. seler aneh ditanya katanya uda berangkat tp tokped ga update , ternyata sepertinya memang gagal pick up bilang yang jujur kalo paket belum dipick malah bilangnya sudah. toko ini gimana mau pakai 5 9 di kasih udah mati kali jg bener jualan. produk tdk ada dalam paket. sy pesan lilin yg angka 1 dan 6 , tpi di kirim nya 7 sdh benar pdhl wkt beli jlalasin mau tdk bs foto krn udh buang brng pakai tunggu brp hr tau smp buka lain sm cmn utk ke dpn blajarlah teliti sebelum. ga sesuai ama yg di fhoto pas nyampe lilunnya kecil , buanged ukurannya. pda pecah lilin y pekejing ga aman. pesen lilin malah dikasih , mo dibalik jg angka 9 jd 6 ga ada sumbunya kacau fatal bgt gak dicek dlu sblm kirim ke customer. lilinnya udah rusak banget goldnya  tidak dikirim lilin nya padahal sdh beli. barangnya ga ada. lilinnya kecil tdk , sesuai gambar pdhl sy perlu angka 1 yg buat nemenin lainnya.\n",
              "5944                                                                                                                                                                                                                                                                                                                                                                                                                                                                                                                                                                                                                                                                                                                                                                                                                                                                                                                                                              puas banget , sempet error di kurir mau pake gercep seller nya respon bgt sama cari solusi order ulang ga pelit ada yg dikasih tambahan dikit makasi ya kak jaya selalu tokonya. sangat rekomended , packing bubble warp banyak meskipun order seharga cebann nice. keren banget pelayanannya , cuman beli lilin ajah servicenya bagus dan super cepat pesan pagi eh siang dah tiba. cuco meong pokoknya. top bgt. bagus banget lilinnya , kata kakak ini sultan. puas banget sellernya fast respon , alhamdulillah butuh lilin hari ini juga dikirim yg sama nanti anak ku ultah beli perlengkapannga disini insyaallah. terimakasih banyak untuk toko ini , saya kelupaan beli lilin ultah jadi baru hari h acara syukur puji tuhan bisa sampai tepat waktu padahal dikirim keluar kota.\n",
              "5946                                                                                                                                                                                                                                                                                                                                                                                                                                                                                                                                                                                                                                                                                                                                                                                                                                                                                                                                                                                                                                                                                pengiriman cepat dan barang diterima dalam kondisi baik. barang sudah sampai dg selamat , packaging rapi hari dari proses pemesanan tiba di malang terima kasih. kualitas mantap , pengiriman sangat cepat luar biasa. lilinnya bagus , tidak berbau tahan sd 5 jam. barang saya terima dgn baik dan benar tepat waktu. packing nya rapi , brg pesanan dlm keadaan baik. packaging rapi shg lilin datang tetap utuh response penjual cpt. barang diterima dgn aman , respon cepat paking rapi waktu pengiriman lebih dr jadwal makasih. mantab , lilinya sesuai makasih ya. produk sesuai , respon cepat pengiriman. produk bagus , paking aman rapi respon kirim cepat.\n",
              "5957                                                                                                                                                                                                                                                                                                                                                                                                                                                                                                                                                                                                                                                                                                                                                                                                                                                                                                                                                                                                                       produk ada goresan , ga rapi dan kotoran di pinggirannya kiriman cepat smpe. barangnya bgus cman saya kurang puas dgn pakingya , gak rapi sama sekali sticknyapun cpottolong perbaiki lagi byar tokonya laris. kurang suka , bau karetnya sangat menyengat. barang sampainya lama sekali , respon penjual lambat mengecewakan. qualitas jelek sekali , bau seperti cat pad ya bergelombang. pengirimannya sih cepat , tapi barangnya bruntusan gitu teman saya juga beli drum pad bahan karet dari malang alus kok ini yg malah begitu ekspetasi tadinya bagus dapatnya jelekkan tdk sesuai foto di pajang oleh penjual. barang tidak sesuai dengan yg di iklankan seperti nya bekas. barang tidak sesuai gambar yang ditawarkan.\n",
              "5965                                                                                                                                                                                                                                                                                                                                                                                                                                                                                                                                                                                                                                                                                                                                                                                                                                                                                                                                                                                                                                                                                  ini si bukan mobil hotwheels , nggak sesuai sama iklan mengecewakan. ternyata bukan hot wheels asli , bahan plastik harap di beri keterangan bahwa barang tdk original. ternyata bukan ori , harga sesuai kualitas ya rb bahan plastik harusnya dikasih keterangan di deskripsi. ternyata barangnya kw kirain beneran promo. barang palsu , bukan hot wheels original made in china malaysia spt diskripsi. ternyata bukan hot wheels asli , bahan plastik harap di beri keterangan bahwa barang tdk original. ternyata bukan ori , harga sesuai kualitas ya rb bahan plastik harusnya dikasih keterangan di deskripsi. mobil bukan asli hot wheels , sy kira aslinya."
            ]
          },
          "execution_count": 90,
          "metadata": {},
          "output_type": "execute_result"
        }
      ],
      "source": [
        "df.tail(20)"
      ]
    },
    {
      "cell_type": "code",
      "execution_count": 91,
      "metadata": {
        "colab": {
          "base_uri": "https://localhost:8080/"
        },
        "id": "hWVp4363W1Op",
        "outputId": "80f9e486-a402-4a0e-cec3-fbff1fbbd3c5"
      },
      "outputs": [
        {
          "name": "stdout",
          "output_type": "stream",
          "text": [
            "Number of tokens: 150\n"
          ]
        }
      ],
      "source": [
        "# Initialize the T5 tokenizer\n",
        "\n",
        "# The text to be tokenized\n",
        "text = \"saya beli loreal serioxyl nya, malah tidak ada, yang datang malah giftnya saja, ini bagaimana sih official account lho padahal. pengemasan barangnya berantakan tidak rapi sama sekali. cukup saya yang di rugikan, karena barang yang datang saya tidak video in, pesanan saya ada 3 yang datang cuma 2, tetapi gift dapat 3 barang sudah mahal, di komplain pun tidak bisa. admin lambat respons, konfirmasi ketersediaan barang lama sekali, bonus gift yang dikirim juga tidak sesuai. dikasih bonus gratisan hair mask serie expert, tapi sudah expire barangnya, pas dipakai bikin kepala ketombean, kalau tidak niat memberi gratisan da.\"\n",
        "# Tokenize the text\n",
        "tokens = tokenizer.encode(text)\n",
        "\n",
        "# Calculate the number of tokens\n",
        "num_tokens = len(tokens)\n",
        "print(f\"Number of tokens: {num_tokens}\")\n"
      ]
    }
  ],
  "metadata": {
    "colab": {
      "provenance": []
    },
    "kernelspec": {
      "display_name": "Python 3",
      "name": "python3"
    },
    "language_info": {
      "codemirror_mode": {
        "name": "ipython",
        "version": 3
      },
      "file_extension": ".py",
      "mimetype": "text/x-python",
      "name": "python",
      "nbconvert_exporter": "python",
      "pygments_lexer": "ipython3",
      "version": "3.12.0"
    }
  },
  "nbformat": 4,
  "nbformat_minor": 0
}
