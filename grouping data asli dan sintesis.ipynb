{
 "cells": [
  {
   "cell_type": "code",
   "execution_count": 1,
   "id": "8dd7e3ba",
   "metadata": {},
   "outputs": [],
   "source": [
    "import pandas as pd"
   ]
  },
  {
   "cell_type": "code",
   "execution_count": 4,
   "id": "13ff7547",
   "metadata": {},
   "outputs": [],
   "source": [
    "df_A = pd.read_csv('../generate review 1/generated_reviews.csv')\n",
    "df_B = pd.read_csv('../generate review 2/generated_reviews.csv')\n",
    "df_C = pd.read_csv('../generate review 3/generated_reviews.csv')\n",
    "df_D = pd.read_csv('../generate review 4/generated_reviews.csv')\n",
    "df_E = pd.read_csv('../generate review 5/generated_reviews.csv')\n",
    "df_F = pd.read_csv('../generate review 6/generated_reviews.csv')\n",
    "df_G = pd.read_csv('../generate review 7/generated_reviews.csv')"
   ]
  },
  {
   "cell_type": "code",
   "execution_count": 5,
   "id": "b8286cf3",
   "metadata": {},
   "outputs": [
    {
     "name": "stdout",
     "output_type": "stream",
     "text": [
      "<class 'pandas.core.frame.DataFrame'>\n",
      "RangeIndex: 5000 entries, 0 to 4999\n",
      "Data columns (total 5 columns):\n",
      " #   Column       Non-Null Count  Dtype \n",
      "---  ------       --------------  ----- \n",
      " 0   review_id    5000 non-null   int64 \n",
      " 1   review_text  5000 non-null   object\n",
      " 2   category     5000 non-null   object\n",
      " 3   sentiment    5000 non-null   object\n",
      " 4   length       5000 non-null   int64 \n",
      "dtypes: int64(2), object(3)\n",
      "memory usage: 195.4+ KB\n"
     ]
    }
   ],
   "source": [
    "df_A.info()"
   ]
  },
  {
   "cell_type": "code",
   "execution_count": 6,
   "id": "aee7fb99",
   "metadata": {},
   "outputs": [
    {
     "name": "stdout",
     "output_type": "stream",
     "text": [
      "<class 'pandas.core.frame.DataFrame'>\n",
      "RangeIndex: 5000 entries, 0 to 4999\n",
      "Data columns (total 5 columns):\n",
      " #   Column       Non-Null Count  Dtype \n",
      "---  ------       --------------  ----- \n",
      " 0   review_id    5000 non-null   int64 \n",
      " 1   review_text  5000 non-null   object\n",
      " 2   category     5000 non-null   object\n",
      " 3   sentiment    5000 non-null   object\n",
      " 4   length       5000 non-null   int64 \n",
      "dtypes: int64(2), object(3)\n",
      "memory usage: 195.4+ KB\n"
     ]
    }
   ],
   "source": [
    "df_B.info()"
   ]
  },
  {
   "cell_type": "code",
   "execution_count": 7,
   "id": "49bbf9da",
   "metadata": {},
   "outputs": [
    {
     "name": "stdout",
     "output_type": "stream",
     "text": [
      "<class 'pandas.core.frame.DataFrame'>\n",
      "RangeIndex: 5000 entries, 0 to 4999\n",
      "Data columns (total 5 columns):\n",
      " #   Column       Non-Null Count  Dtype \n",
      "---  ------       --------------  ----- \n",
      " 0   review_id    5000 non-null   int64 \n",
      " 1   review_text  5000 non-null   object\n",
      " 2   category     5000 non-null   object\n",
      " 3   sentiment    5000 non-null   object\n",
      " 4   length       5000 non-null   int64 \n",
      "dtypes: int64(2), object(3)\n",
      "memory usage: 195.4+ KB\n"
     ]
    }
   ],
   "source": [
    "df_C.info()"
   ]
  },
  {
   "cell_type": "code",
   "execution_count": 8,
   "id": "61381932",
   "metadata": {},
   "outputs": [
    {
     "name": "stdout",
     "output_type": "stream",
     "text": [
      "<class 'pandas.core.frame.DataFrame'>\n",
      "RangeIndex: 5000 entries, 0 to 4999\n",
      "Data columns (total 5 columns):\n",
      " #   Column       Non-Null Count  Dtype \n",
      "---  ------       --------------  ----- \n",
      " 0   review_id    5000 non-null   int64 \n",
      " 1   review_text  5000 non-null   object\n",
      " 2   category     5000 non-null   object\n",
      " 3   sentiment    5000 non-null   object\n",
      " 4   length       5000 non-null   int64 \n",
      "dtypes: int64(2), object(3)\n",
      "memory usage: 195.4+ KB\n"
     ]
    }
   ],
   "source": [
    "df_D.info()"
   ]
  },
  {
   "cell_type": "code",
   "execution_count": 9,
   "id": "a0261145",
   "metadata": {},
   "outputs": [
    {
     "name": "stdout",
     "output_type": "stream",
     "text": [
      "<class 'pandas.core.frame.DataFrame'>\n",
      "RangeIndex: 5000 entries, 0 to 4999\n",
      "Data columns (total 5 columns):\n",
      " #   Column       Non-Null Count  Dtype \n",
      "---  ------       --------------  ----- \n",
      " 0   review_id    5000 non-null   int64 \n",
      " 1   review_text  5000 non-null   object\n",
      " 2   category     5000 non-null   object\n",
      " 3   sentiment    5000 non-null   object\n",
      " 4   length       5000 non-null   int64 \n",
      "dtypes: int64(2), object(3)\n",
      "memory usage: 195.4+ KB\n"
     ]
    }
   ],
   "source": [
    "df_E.info()"
   ]
  },
  {
   "cell_type": "code",
   "execution_count": 10,
   "id": "0474f138",
   "metadata": {},
   "outputs": [
    {
     "name": "stdout",
     "output_type": "stream",
     "text": [
      "<class 'pandas.core.frame.DataFrame'>\n",
      "RangeIndex: 2600 entries, 0 to 2599\n",
      "Data columns (total 5 columns):\n",
      " #   Column       Non-Null Count  Dtype \n",
      "---  ------       --------------  ----- \n",
      " 0   review_id    2600 non-null   int64 \n",
      " 1   review_text  2600 non-null   object\n",
      " 2   category     2600 non-null   object\n",
      " 3   sentiment    2600 non-null   object\n",
      " 4   length       2600 non-null   int64 \n",
      "dtypes: int64(2), object(3)\n",
      "memory usage: 101.7+ KB\n"
     ]
    }
   ],
   "source": [
    "df_F.info()"
   ]
  },
  {
   "cell_type": "code",
   "execution_count": 11,
   "id": "fee27477",
   "metadata": {},
   "outputs": [
    {
     "name": "stdout",
     "output_type": "stream",
     "text": [
      "<class 'pandas.core.frame.DataFrame'>\n",
      "RangeIndex: 2500 entries, 0 to 2499\n",
      "Data columns (total 5 columns):\n",
      " #   Column       Non-Null Count  Dtype \n",
      "---  ------       --------------  ----- \n",
      " 0   review_id    2500 non-null   int64 \n",
      " 1   review_text  2500 non-null   object\n",
      " 2   category     2500 non-null   object\n",
      " 3   sentiment    2500 non-null   object\n",
      " 4   length       2500 non-null   int64 \n",
      "dtypes: int64(2), object(3)\n",
      "memory usage: 97.8+ KB\n"
     ]
    }
   ],
   "source": [
    "df_G.info()"
   ]
  },
  {
   "cell_type": "code",
   "execution_count": 12,
   "id": "404e25f1",
   "metadata": {},
   "outputs": [],
   "source": [
    "df_all = pd.concat([df_A,df_B,df_C,df_D,df_E,df_F],ignore_index=True)"
   ]
  },
  {
   "cell_type": "code",
   "execution_count": 13,
   "id": "70eea347",
   "metadata": {},
   "outputs": [
    {
     "name": "stdout",
     "output_type": "stream",
     "text": [
      "<class 'pandas.core.frame.DataFrame'>\n",
      "RangeIndex: 27600 entries, 0 to 27599\n",
      "Data columns (total 5 columns):\n",
      " #   Column       Non-Null Count  Dtype \n",
      "---  ------       --------------  ----- \n",
      " 0   review_id    27600 non-null  int64 \n",
      " 1   review_text  27600 non-null  object\n",
      " 2   category     27600 non-null  object\n",
      " 3   sentiment    27600 non-null  object\n",
      " 4   length       27600 non-null  int64 \n",
      "dtypes: int64(2), object(3)\n",
      "memory usage: 1.1+ MB\n"
     ]
    }
   ],
   "source": [
    "df_all.info()"
   ]
  },
  {
   "cell_type": "code",
   "execution_count": 14,
   "id": "b0b643c5",
   "metadata": {},
   "outputs": [
    {
     "data": {
      "text/plain": [
       "1325"
      ]
     },
     "execution_count": 14,
     "metadata": {},
     "output_type": "execute_result"
    }
   ],
   "source": [
    "df_all.duplicated(subset='review_text').sum()"
   ]
  },
  {
   "cell_type": "code",
   "execution_count": 15,
   "id": "781eb12d",
   "metadata": {},
   "outputs": [],
   "source": [
    "df_all.drop_duplicates(inplace=True, subset='review_text')"
   ]
  },
  {
   "cell_type": "code",
   "execution_count": 16,
   "id": "81c9409d",
   "metadata": {},
   "outputs": [
    {
     "data": {
      "text/plain": [
       "0"
      ]
     },
     "execution_count": 16,
     "metadata": {},
     "output_type": "execute_result"
    }
   ],
   "source": [
    "df_all.duplicated(subset='review_text').sum()"
   ]
  },
  {
   "cell_type": "code",
   "execution_count": 17,
   "id": "2221a6b0",
   "metadata": {},
   "outputs": [
    {
     "data": {
      "text/plain": [
       "review_id      0\n",
       "review_text    0\n",
       "category       0\n",
       "sentiment      0\n",
       "length         0\n",
       "dtype: int64"
      ]
     },
     "execution_count": 17,
     "metadata": {},
     "output_type": "execute_result"
    }
   ],
   "source": [
    "df_all.isna().sum()"
   ]
  },
  {
   "cell_type": "code",
   "execution_count": 18,
   "id": "755fba6d",
   "metadata": {},
   "outputs": [
    {
     "name": "stdout",
     "output_type": "stream",
     "text": [
      "<class 'pandas.core.frame.DataFrame'>\n",
      "Index: 26275 entries, 0 to 27599\n",
      "Data columns (total 5 columns):\n",
      " #   Column       Non-Null Count  Dtype \n",
      "---  ------       --------------  ----- \n",
      " 0   review_id    26275 non-null  int64 \n",
      " 1   review_text  26275 non-null  object\n",
      " 2   category     26275 non-null  object\n",
      " 3   sentiment    26275 non-null  object\n",
      " 4   length       26275 non-null  int64 \n",
      "dtypes: int64(2), object(3)\n",
      "memory usage: 1.2+ MB\n"
     ]
    }
   ],
   "source": [
    "df_all.info()"
   ]
  },
  {
   "cell_type": "code",
   "execution_count": 19,
   "id": "cb18f871",
   "metadata": {},
   "outputs": [
    {
     "data": {
      "text/plain": [
       "sentiment\n",
       "positif    13632\n",
       "negatif    12643\n",
       "Name: count, dtype: int64"
      ]
     },
     "execution_count": 19,
     "metadata": {},
     "output_type": "execute_result"
    }
   ],
   "source": [
    "df_all['sentiment'].value_counts()"
   ]
  },
  {
   "cell_type": "code",
   "execution_count": 20,
   "id": "2e1dabfe",
   "metadata": {},
   "outputs": [],
   "source": [
    "import emoji\n",
    "import re\n",
    "\n",
    "def hapus_emoji(teks):\n",
    "    return emoji.replace_emoji(teks, replace='')  # Ganti emoji dengan string kosong\n"
   ]
  },
  {
   "cell_type": "code",
   "execution_count": 21,
   "id": "44221cef",
   "metadata": {},
   "outputs": [],
   "source": [
    "df_all['review_text']=df_all['review_text'].apply(hapus_emoji)"
   ]
  },
  {
   "cell_type": "code",
   "execution_count": 23,
   "id": "5814e2f8",
   "metadata": {},
   "outputs": [],
   "source": [
    "import pandas as pd\n",
    "import re\n",
    "\n",
    "# Baca data\n",
    "df = df_all\n",
    "\n",
    "def has_invalid_chars(text):\n",
    "    \"\"\"\n",
    "    Deteksi jika ada karakter tidak valid seperti newline (\\n, \\r) atau tab (\\t).\n",
    "    \"\"\"\n",
    "    return bool(re.search(r'[\\n\\r\\t]', text))\n",
    "\n",
    "def clean_reviews(df, text_column='review_text'):\n",
    "    df = df.copy()\n",
    "\n",
    "    # Terapkan deteksi pengulangan frasa dan karakter tidak valid\n",
    "    df['to_drop'] = df[text_column].apply(\n",
    "        lambda x: has_invalid_chars(x)\n",
    "    )\n",
    "\n",
    "    # Hapus baris yang dianggap tidak valid\n",
    "    df_cleaned = df[~df['to_drop']].drop(columns='to_drop')\n",
    "    return df_cleaned\n",
    "\n"
   ]
  },
  {
   "cell_type": "code",
   "execution_count": 24,
   "id": "606a5745",
   "metadata": {},
   "outputs": [],
   "source": [
    "# df = pd.read_csv('nama_file.csv')  # muat datamu\n",
    "df_cleaned = clean_reviews(df_all, text_column='review_text')\n"
   ]
  },
  {
   "cell_type": "code",
   "execution_count": 25,
   "id": "a4ef84ee",
   "metadata": {},
   "outputs": [],
   "source": [
    "def hitung_char (text) :\n",
    "    return len(text)"
   ]
  },
  {
   "cell_type": "code",
   "execution_count": 26,
   "id": "98d48892",
   "metadata": {},
   "outputs": [],
   "source": [
    "df_cleaned['panjang_char'] = df_cleaned['review_text'].apply(hitung_char)"
   ]
  },
  {
   "cell_type": "code",
   "execution_count": 30,
   "id": "f77c1a0a",
   "metadata": {},
   "outputs": [
    {
     "data": {
      "application/vnd.microsoft.datawrangler.viewer.v0+json": {
       "columns": [
        {
         "name": "index",
         "rawType": "int64",
         "type": "integer"
        },
        {
         "name": "review_id",
         "rawType": "int64",
         "type": "integer"
        },
        {
         "name": "review_text",
         "rawType": "object",
         "type": "string"
        },
        {
         "name": "category",
         "rawType": "object",
         "type": "string"
        },
        {
         "name": "sentiment",
         "rawType": "object",
         "type": "string"
        },
        {
         "name": "length",
         "rawType": "int64",
         "type": "integer"
        },
        {
         "name": "panjang_char",
         "rawType": "int64",
         "type": "integer"
        }
       ],
       "conversionMethod": "pd.DataFrame",
       "ref": "893c8525-402b-4635-b5d8-e29bf2b759b6",
       "rows": [
        [
         "0",
         "1",
         "Hpnya bgs bgt! Kamera jernih, batre awet pol. Gk nyesel deh beli ini. Layar jg oke. Top rekomen seller!.",
         "Smartphone Android",
         "positif",
         "100",
         "104"
        ],
        [
         "1",
         "2",
         "Iphone 15 Pro Max bgs bgt! Kamera super, batre awet, gk nyesel upgrade. Layar jernih, rekomen abisss. Top!.",
         "Smartphone iOS",
         "positif",
         "100",
         "107"
        ],
        [
         "2",
         "3",
         "Tabletnya bgs bgt! Layarnya jernih, batre awet, gk nyesel deh beli ini. Top markotop! Rekomen bgt buat yg nyari tablet murah tp oke.",
         "Tablet Android",
         "positif",
         "100",
         "132"
        ],
        [
         "3",
         "4",
         "iPad Mantaap bgt! Layarnya bgs, smooth gk ngelag. Batre awet. Speaker jg oke bgt. TOP rekomen deeh!.",
         "Tablet iOS",
         "positif",
         "100",
         "100"
        ],
        [
         "4",
         "5",
         "Laptop gamingnya GG bgt! Grafisnya joss, ngebut abis! Gk nyesel deh beli ini. Bgs bgt, rekomen! Top markotop!.",
         "Laptop Gaming",
         "positif",
         "100",
         "110"
        ],
        [
         "5",
         "6",
         "Laptopnya bgs bgt! Speknya tinggi, batrenya awet, ringan pula. Buat kerja rekomen abis! Top markotop!.",
         "Laptop Bisnis",
         "positif",
         "100",
         "102"
        ],
        [
         "6",
         "7",
         "Laptop 2in1 nya bgs bgt! Layarnya jernih, batre awet, ringan dibawa. Keyboardnya jg enak dipake. Top markotop! Rekomen!",
         "Laptop 2-in-1",
         "positif",
         "100",
         "119"
        ],
        [
         "7",
         "8",
         "PC nya keren bgt! Spek dewa, gk ngelag sama sekali. Bgs buat gaming & kerja. Top markotop! Rekomen seller! .",
         "Desktop PC",
         "positif",
         "100",
         "108"
        ],
        [
         "8",
         "9",
         "Monitor 24 inch nya bgs bgt! Gk nyesel beli disini, warna nya jg oke. Respon penjual jg top. Rekomen bgt dah!.",
         "Monitor 24 Inch",
         "positif",
         "100",
         "110"
        ],
        [
         "9",
         "10",
         "Monitor ultrawide nya bgs bgt! Gk nyesel beli disini. Warna nya cakep, buat gaming rekomen. Top markotop dah!.",
         "Monitor Ultrawide",
         "positif",
         "100",
         "110"
        ],
        [
         "10",
         "11",
         "Powerbank 10000mAh, bgs bgt! Pengisian cpt, gk nyesel beli disini. Top markotop! Seller rekomen. Baterai awet bgt!.",
         "Power Bank 10000mAh",
         "positif",
         "100",
         "115"
        ],
        [
         "11",
         "12",
         "Powerbank 20000mAh, kapasitasnya gede bgt! Gk nyesel beli, bgs banget, rekomen top markotop!.",
         "Power Bank 20000mAh",
         "positif",
         "100",
         "93"
        ],
        [
         "12",
         "13",
         "Smartwatchnya bgs bgt! Fiturnya lengkap, batre awet, design keren abis. Pokoknya rekomen dehh. Top markotop!.",
         "Smartwatch Android",
         "positif",
         "100",
         "109"
        ],
        [
         "13",
         "14",
         "Apple Watch keren bgt! Fiturnya top, batre awet, design bgs. Layar jernih, rekomen abis! Gk nyesel deh beli.",
         "Smartwatch Apple",
         "positif",
         "100",
         "108"
        ],
        [
         "14",
         "15",
         "Earphone nya bgs bgt! Suara jernih, bass nendang abis. Harga murah kualitas top markotop! Rekomen seller! ",
         "Earphone Kabel",
         "positif",
         "100",
         "106"
        ],
        [
         "15",
         "16",
         "TWS nya bgs bgt! Suaranya jernih, bass nya nendang abis. Batre awet, nyaman dipake. Top markotop! Rekomen bgt dah.",
         "TWS (True Wireless Stereo)",
         "positif",
         "100",
         "114"
        ],
        [
         "16",
         "17",
         "Headphone bgs bgt! Bassnya nendang abis, koneksi stabil, batre awet. Pokoknya rekomen dech! Top markotop.",
         "Headphone Bluetooth",
         "positif",
         "100",
         "105"
        ],
        [
         "17",
         "18",
         "Speakernya bgs bgt! Bass mantap, suara jernih, batre awet. Pokoknya rekomen abis deh! Top markotop!.",
         "Speaker Portable",
         "positif",
         "100",
         "100"
        ],
        [
         "18",
         "19",
         "Soundbar nya bgs bgt! Bass nya nendang abis, suara jernih, gk nyesel deh beli ini. Top rekomen! .",
         "Soundbar TV",
         "positif",
         "100",
         "97"
        ],
        [
         "19",
         "20",
         "Kamera DSLR nya bgs bgt! Hasilnya jernih, fokusnya oke. Pengiriman cpt. Seller rekomen! Top lah pkoknya.",
         "Kamera DSLR",
         "positif",
         "100",
         "104"
        ],
        [
         "20",
         "21",
         "Kamerany bgs bgt! Hasilnya jernih, auto fokusnya top, ringan dibawa. Pokoknya rekomen abis buat pemula kayak aku!.",
         "Kamera Mirrorless",
         "positif",
         "100",
         "114"
        ],
        [
         "21",
         "22",
         "Kameranya bgs bgt! Hasilnya jernih, batrenya awet. Pokoknya rekomen abis buat yg suka adventure. Top markotop!.",
         "Kamera Action",
         "positif",
         "100",
         "111"
        ],
        [
         "22",
         "23",
         "Drone nya bgs bgt! Terbangnya stabil, kameranya jg oke. Gk nyesel beli disini. Pokoknya rekomen top markotop.",
         "Drone Kamera",
         "positif",
         "100",
         "109"
        ],
        [
         "23",
         "24",
         "Tripodnya bgs bgt! Kokoh, enteng dibawa, harga oke. Rekomen deh buat yg suka foto2. Top markotop!.",
         "Tripod Kamera",
         "positif",
         "100",
         "98"
        ],
        [
         "24",
         "25",
         "Mantap! Tintanya bgs bgt, hasil cetak jernih, gk boros! Seller rekomen, pengiriman cpt. Top lah! Pasti order lg.",
         "Printer Inkjet",
         "positif",
         "100",
         "112"
        ],
        [
         "25",
         "26",
         "Printer laser ini bgs bgt! Cpt, hasil cetak ok punya. Gk nyesel deh beli disini. Seller rekomen. Top!",
         "Printer Laser",
         "positif",
         "100",
         "101"
        ],
        [
         "26",
         "27",
         "Scanner-nya bgs bgt! Scan dokumen jd cepet & gampang. Hasilnya jg oke. Rekomen seller ini! Top markotop!.",
         "Scanner Dokumen",
         "positif",
         "100",
         "105"
        ],
        [
         "27",
         "28",
         "HD eksternalnya bgs bgt! Transfer data ngebut, gk nyesel deh beli disini. Top markotop! Rekomen bgt pokoknya. ",
         "Harddisk Eksternal",
         "positif",
         "100",
         "110"
        ],
        [
         "28",
         "29",
         "SSD eksternalnya mantap bgt! Transfer data kilat, gk nyesel beli disini. Bgs & rekomen top! Harga oke .",
         "SSD Eksternal",
         "positif",
         "100",
         "103"
        ],
        [
         "29",
         "30",
         "Flashdisk OTG nya bgs bgt! Transfer data cepet, gk nyesel beli disini. Rekomen seller! Top markotop!.",
         "Flashdisk OTG",
         "positif",
         "100",
         "101"
        ],
        [
         "30",
         "31",
         "Charger fast chargingnya bgs bgt! Ngecas cepet, gk nyesel beli disini. Top markotop! Rekomen bgt buat hp baru. Titik",
         "Charger Fast Charging",
         "positif",
         "100",
         "116"
        ],
        [
         "31",
         "32",
         "Kabelnya bgs bgt! Fast charging, transfer data jg oke. Harga murah tp gk murahan. Top markotop! Rekomen bgt dah.",
         "Kabel Data Type-C",
         "positif",
         "100",
         "112"
        ],
        [
         "32",
         "33",
         "Kabelnya bgs bgt! Cepet ngecas, kuat, gk gampang rusak. Top markotop! Rekomen bgt buat iPhone! Harga oke. Titik.",
         "Kabel Lightning iPhone",
         "positif",
         "100",
         "112"
        ],
        [
         "33",
         "34",
         "MicroSD nya bgs bgt! Gk nyesel beli di toko ini, pengiriman jg cepet. Top markotop, rekomen seller! Mantap!.",
         "Memory Card MicroSD",
         "positif",
         "100",
         "108"
        ],
        [
         "34",
         "35",
         "Routernya bgs bgt! Wifi lancar jaya, gk putus2. Instalasi jg gampang. Seller rekomen! Top markotop dah!.",
         "Router WiFi",
         "positif",
         "100",
         "104"
        ],
        [
         "35",
         "36",
         "Modem 4G nya bgs bgt! Koneksi ngebut, gk lemot sama sekali. Seller rekomen, packing aman. Top markotop!.",
         "Modem 4G",
         "positif",
         "100",
         "104"
        ],
        [
         "36",
         "37",
         "Maus gamingnya bgs bgt! Responsif, ringan, nge-game jd makin GG. Kliknya jg enak. Top markotop! Rekomen abis!.",
         "Mouse Gaming",
         "positif",
         "100",
         "110"
        ],
        [
         "37",
         "38",
         "Mouse wirelessnya bgs bgt! Kliknya enak, responsif. Gk nyesel beli disini, rekomen top markotop!.",
         "Mouse Wireless",
         "positif",
         "100",
         "97"
        ],
        [
         "38",
         "39",
         "Keybord gamingnya bgs bgt! Empuk, responsif, RGB nya keren abis. Gk nyesel beli disini. Top markotop! Rekomen seller!",
         "Keyboard Gaming",
         "positif",
         "100",
         "117"
        ],
        [
         "39",
         "40",
         "Keyboard wirelessnya bgs bgt! Ringan, responsif, rekomen buat ngetik seharian. Top markotop! Ga nyesel beli.",
         "Keyboard Wireless",
         "positif",
         "100",
         "108"
        ],
        [
         "40",
         "41",
         "Wacom emg bgs bgt! Gambarnya jd makin smooth, gk nyesel deh beli ini. Top markotop! Rekomen bgt graphic tablet ini!.",
         "Graphic Tablet",
         "positif",
         "100",
         "116"
        ],
        [
         "41",
         "42",
         "Webcam HD nya bgs bgt! Gk nyesel deh beli disini. Gambar jernih, harga oke. Top rekomen seller! .",
         "Webcam HD",
         "positif",
         "100",
         "97"
        ],
        [
         "42",
         "43",
         "TV 4K nya bgs bgt! Gambar jernih poll, suara mantap. Gk nyesel deh beli disini! Seller rekomen, pengiriman cpt top.",
         "Smart TV 4K",
         "positif",
         "100",
         "115"
        ],
        [
         "43",
         "44",
         "TV box nya bgs bgt! Gk nyesel beli disini, seller gercep. Gambar jernih, instal aplikasi mudah. Rekomen top markotop!.",
         "TV Box Android",
         "positif",
         "100",
         "118"
        ],
        [
         "44",
         "45",
         "Proyektor mininya bgs bgt! Gk nyangka sekecil ini tp hasilnya top markotop. Warna jg oke, rekomen buat nntn santai.",
         "Projector Mini",
         "positif",
         "100",
         "115"
        ],
        [
         "45",
         "46",
         "Cooling pad laptopnya bgs bgt! Laptop gk panas lagi, kerja jd lancar. Anginnya kenceng. Seller rekomen! Top markotop!.",
         "Cooling Pad Laptop",
         "positif",
         "100",
         "118"
        ],
        [
         "46",
         "47",
         "Casingnya bgs bgt! Adem, RGB nya keren parah. Kabel manajemen jg oke. Rekomen abis buat gaming! Top markotop pokoknya.",
         "Casing PC Gaming",
         "positif",
         "100",
         "118"
        ],
        [
         "47",
         "48",
         "Mobonya gokil bgt! Performa ngebut, instalasi gampang. Gk nyesel deh beli ini. Bgs bgt! Rekomen top!",
         "Motherboard PC",
         "positif",
         "100",
         "100"
        ],
        [
         "48",
         "49",
         "Procie nya bgs bgt! Game berat libas semua! Gk nyesel upgrade, seller rekomen! Top markotop deh pokoknya. ",
         "Processor CPU",
         "positif",
         "100",
         "106"
        ],
        [
         "49",
         "50",
         "GPU nya bgs bgt! Game jd lancar jaya, grafisnya top markotop! Gk nyesel deh beli ini. Rekomen bgt buat yg suka gaming! .",
         "Graphic Card GPU",
         "positif",
         "100",
         "120"
        ]
       ],
       "shape": {
        "columns": 6,
        "rows": 5000
       }
      },
      "text/html": [
       "<div>\n",
       "<style scoped>\n",
       "    .dataframe tbody tr th:only-of-type {\n",
       "        vertical-align: middle;\n",
       "    }\n",
       "\n",
       "    .dataframe tbody tr th {\n",
       "        vertical-align: top;\n",
       "    }\n",
       "\n",
       "    .dataframe thead th {\n",
       "        text-align: right;\n",
       "    }\n",
       "</style>\n",
       "<table border=\"1\" class=\"dataframe\">\n",
       "  <thead>\n",
       "    <tr style=\"text-align: right;\">\n",
       "      <th></th>\n",
       "      <th>review_id</th>\n",
       "      <th>review_text</th>\n",
       "      <th>category</th>\n",
       "      <th>sentiment</th>\n",
       "      <th>length</th>\n",
       "      <th>panjang_char</th>\n",
       "    </tr>\n",
       "  </thead>\n",
       "  <tbody>\n",
       "    <tr>\n",
       "      <th>0</th>\n",
       "      <td>1</td>\n",
       "      <td>Hpnya bgs bgt! Kamera jernih, batre awet pol. ...</td>\n",
       "      <td>Smartphone Android</td>\n",
       "      <td>positif</td>\n",
       "      <td>100</td>\n",
       "      <td>104</td>\n",
       "    </tr>\n",
       "    <tr>\n",
       "      <th>1</th>\n",
       "      <td>2</td>\n",
       "      <td>Iphone 15 Pro Max bgs bgt! Kamera super, batre...</td>\n",
       "      <td>Smartphone iOS</td>\n",
       "      <td>positif</td>\n",
       "      <td>100</td>\n",
       "      <td>107</td>\n",
       "    </tr>\n",
       "    <tr>\n",
       "      <th>2</th>\n",
       "      <td>3</td>\n",
       "      <td>Tabletnya bgs bgt! Layarnya jernih, batre awet...</td>\n",
       "      <td>Tablet Android</td>\n",
       "      <td>positif</td>\n",
       "      <td>100</td>\n",
       "      <td>132</td>\n",
       "    </tr>\n",
       "    <tr>\n",
       "      <th>3</th>\n",
       "      <td>4</td>\n",
       "      <td>iPad Mantaap bgt! Layarnya bgs, smooth gk ngel...</td>\n",
       "      <td>Tablet iOS</td>\n",
       "      <td>positif</td>\n",
       "      <td>100</td>\n",
       "      <td>100</td>\n",
       "    </tr>\n",
       "    <tr>\n",
       "      <th>4</th>\n",
       "      <td>5</td>\n",
       "      <td>Laptop gamingnya GG bgt! Grafisnya joss, ngebu...</td>\n",
       "      <td>Laptop Gaming</td>\n",
       "      <td>positif</td>\n",
       "      <td>100</td>\n",
       "      <td>110</td>\n",
       "    </tr>\n",
       "    <tr>\n",
       "      <th>...</th>\n",
       "      <td>...</td>\n",
       "      <td>...</td>\n",
       "      <td>...</td>\n",
       "      <td>...</td>\n",
       "      <td>...</td>\n",
       "      <td>...</td>\n",
       "    </tr>\n",
       "    <tr>\n",
       "      <th>4997</th>\n",
       "      <td>4998</td>\n",
       "      <td>heelnya ringkih bgt, baru dipake sekali udh ma...</td>\n",
       "      <td>Sepatu High Heels</td>\n",
       "      <td>negatif</td>\n",
       "      <td>250</td>\n",
       "      <td>172</td>\n",
       "    </tr>\n",
       "    <tr>\n",
       "      <th>4998</th>\n",
       "      <td>4999</td>\n",
       "      <td>Sptunya tipis bgt, gk nyaman dipake. Lemnya jg...</td>\n",
       "      <td>Sepatu Flat Wanita</td>\n",
       "      <td>negatif</td>\n",
       "      <td>150</td>\n",
       "      <td>139</td>\n",
       "    </tr>\n",
       "    <tr>\n",
       "      <th>4999</th>\n",
       "      <td>5000</td>\n",
       "      <td>Tote bag nya tipis bgt, jahitannya gk rapi. Wa...</td>\n",
       "      <td>Tas Tote Bag Wanita</td>\n",
       "      <td>negatif</td>\n",
       "      <td>150</td>\n",
       "      <td>122</td>\n",
       "    </tr>\n",
       "    <tr>\n",
       "      <th>5000</th>\n",
       "      <td>1</td>\n",
       "      <td>Hpnya bgs bgt! Kamera jernih, batre awet sehar...</td>\n",
       "      <td>Smartphone Android</td>\n",
       "      <td>positif</td>\n",
       "      <td>100</td>\n",
       "      <td>108</td>\n",
       "    </tr>\n",
       "    <tr>\n",
       "      <th>5001</th>\n",
       "      <td>2</td>\n",
       "      <td>Iphone 15 Pro Max emang bgs bgt! Kamera super ...</td>\n",
       "      <td>Smartphone iOS</td>\n",
       "      <td>positif</td>\n",
       "      <td>100</td>\n",
       "      <td>121</td>\n",
       "    </tr>\n",
       "  </tbody>\n",
       "</table>\n",
       "<p>5000 rows × 6 columns</p>\n",
       "</div>"
      ],
      "text/plain": [
       "      review_id                                        review_text  \\\n",
       "0             1  Hpnya bgs bgt! Kamera jernih, batre awet pol. ...   \n",
       "1             2  Iphone 15 Pro Max bgs bgt! Kamera super, batre...   \n",
       "2             3  Tabletnya bgs bgt! Layarnya jernih, batre awet...   \n",
       "3             4  iPad Mantaap bgt! Layarnya bgs, smooth gk ngel...   \n",
       "4             5  Laptop gamingnya GG bgt! Grafisnya joss, ngebu...   \n",
       "...         ...                                                ...   \n",
       "4997       4998  heelnya ringkih bgt, baru dipake sekali udh ma...   \n",
       "4998       4999  Sptunya tipis bgt, gk nyaman dipake. Lemnya jg...   \n",
       "4999       5000  Tote bag nya tipis bgt, jahitannya gk rapi. Wa...   \n",
       "5000          1  Hpnya bgs bgt! Kamera jernih, batre awet sehar...   \n",
       "5001          2  Iphone 15 Pro Max emang bgs bgt! Kamera super ...   \n",
       "\n",
       "                 category sentiment  length  panjang_char  \n",
       "0      Smartphone Android   positif     100           104  \n",
       "1          Smartphone iOS   positif     100           107  \n",
       "2          Tablet Android   positif     100           132  \n",
       "3              Tablet iOS   positif     100           100  \n",
       "4           Laptop Gaming   positif     100           110  \n",
       "...                   ...       ...     ...           ...  \n",
       "4997    Sepatu High Heels   negatif     250           172  \n",
       "4998   Sepatu Flat Wanita   negatif     150           139  \n",
       "4999  Tas Tote Bag Wanita   negatif     150           122  \n",
       "5000   Smartphone Android   positif     100           108  \n",
       "5001       Smartphone iOS   positif     100           121  \n",
       "\n",
       "[5000 rows x 6 columns]"
      ]
     },
     "execution_count": 30,
     "metadata": {},
     "output_type": "execute_result"
    }
   ],
   "source": [
    "df_cleaned.head(5000)"
   ]
  },
  {
   "cell_type": "markdown",
   "id": "f655f5e0",
   "metadata": {},
   "source": [
    "Kamera dashcam ini parah bgt! Gambar burem, malahan sering mati sendiri. Pas nyoba rekam kejadian penting, eh malah gak nyala. Settingnya ribet, manual booknya gk jelas. Plastiknya murahan, keliatan ringkih. Udah gt, panasnya cepet bgt. Bener2 nyesel beli, mendingan beli yg lain aja deh. Gk rekomen sama sekali! Bgsnya cuma harga murah doang, tp kualitasnya ampas. Jangan sampe kejadian kayak gw ya."
   ]
  },
  {
   "cell_type": "code",
   "execution_count": 37,
   "id": "fa7f4bfe",
   "metadata": {},
   "outputs": [
    {
     "data": {
      "text/plain": [
       "0    142\n",
       "Name: panjang_char, dtype: int64"
      ]
     },
     "execution_count": 37,
     "metadata": {},
     "output_type": "execute_result"
    }
   ],
   "source": [
    "df_cleaned['panjang_char'].mode()"
   ]
  },
  {
   "cell_type": "code",
   "execution_count": 34,
   "id": "b12415c0",
   "metadata": {},
   "outputs": [
    {
     "data": {
      "application/vnd.microsoft.datawrangler.viewer.v0+json": {
       "columns": [
        {
         "name": "index",
         "rawType": "int64",
         "type": "integer"
        },
        {
         "name": "review_id",
         "rawType": "int64",
         "type": "integer"
        },
        {
         "name": "review_text",
         "rawType": "object",
         "type": "string"
        },
        {
         "name": "category",
         "rawType": "object",
         "type": "string"
        },
        {
         "name": "sentiment",
         "rawType": "object",
         "type": "string"
        },
        {
         "name": "length",
         "rawType": "int64",
         "type": "integer"
        },
        {
         "name": "panjang_char",
         "rawType": "int64",
         "type": "integer"
        }
       ],
       "conversionMethod": "pd.DataFrame",
       "ref": "e2e0baf4-0bb0-4178-96ae-cbd1c91fbd54",
       "rows": [
        [
         "15993",
         "994",
         "Kamera dashcam ini parah bgt! Gambar burem, malahan sering mati sendiri. Pas nyoba rekam kejadian penting, eh malah gak nyala. Settingnya ribet, manual booknya gk jelas. Plastiknya murahan, keliatan ringkih. Udah gt, panasnya cepet bgt. Bener2 nyesel beli, mendingan beli yg lain aja deh. Gk rekomen sama sekali! Bgsnya cuma harga murah doang, tp kualitasnya ampas. Jangan sampe kejadian kayak gw ya.",
         "Kamera Dashboard Mobil",
         "negatif",
         "250",
         "400"
        ]
       ],
       "shape": {
        "columns": 6,
        "rows": 1
       }
      },
      "text/html": [
       "<div>\n",
       "<style scoped>\n",
       "    .dataframe tbody tr th:only-of-type {\n",
       "        vertical-align: middle;\n",
       "    }\n",
       "\n",
       "    .dataframe tbody tr th {\n",
       "        vertical-align: top;\n",
       "    }\n",
       "\n",
       "    .dataframe thead th {\n",
       "        text-align: right;\n",
       "    }\n",
       "</style>\n",
       "<table border=\"1\" class=\"dataframe\">\n",
       "  <thead>\n",
       "    <tr style=\"text-align: right;\">\n",
       "      <th></th>\n",
       "      <th>review_id</th>\n",
       "      <th>review_text</th>\n",
       "      <th>category</th>\n",
       "      <th>sentiment</th>\n",
       "      <th>length</th>\n",
       "      <th>panjang_char</th>\n",
       "    </tr>\n",
       "  </thead>\n",
       "  <tbody>\n",
       "    <tr>\n",
       "      <th>15993</th>\n",
       "      <td>994</td>\n",
       "      <td>Kamera dashcam ini parah bgt! Gambar burem, ma...</td>\n",
       "      <td>Kamera Dashboard Mobil</td>\n",
       "      <td>negatif</td>\n",
       "      <td>250</td>\n",
       "      <td>400</td>\n",
       "    </tr>\n",
       "  </tbody>\n",
       "</table>\n",
       "</div>"
      ],
      "text/plain": [
       "       review_id                                        review_text  \\\n",
       "15993        994  Kamera dashcam ini parah bgt! Gambar burem, ma...   \n",
       "\n",
       "                     category sentiment  length  panjang_char  \n",
       "15993  Kamera Dashboard Mobil   negatif     250           400  "
      ]
     },
     "execution_count": 34,
     "metadata": {},
     "output_type": "execute_result"
    }
   ],
   "source": [
    "terpanjang = df_cleaned[df_cleaned['panjang_char']==400]\n",
    "terpanjang"
   ]
  },
  {
   "cell_type": "code",
   "execution_count": null,
   "id": "b47fcfde",
   "metadata": {},
   "outputs": [],
   "source": [
    "df_cleaned.to_csv('synthesis_dataset_for_finetune_indoBERT-V2.csv',index=False)"
   ]
  },
  {
   "cell_type": "markdown",
   "id": "9b050b06",
   "metadata": {},
   "source": [
    "## SUMARISASI"
   ]
  },
  {
   "cell_type": "code",
   "execution_count": 20,
   "id": "7773d236",
   "metadata": {},
   "outputs": [],
   "source": [
    "import pandas as pd"
   ]
  },
  {
   "cell_type": "code",
   "execution_count": 21,
   "id": "6628cdf5",
   "metadata": {},
   "outputs": [],
   "source": [
    "df_A = pd.read_csv('df_summarized_sintesis-pake-gemini-DARI DATA ASLI V6.csv')\n",
    "df_B = pd.read_csv('data_cleaned_V3.csv')"
   ]
  },
  {
   "cell_type": "code",
   "execution_count": 22,
   "id": "54feb4fc",
   "metadata": {},
   "outputs": [],
   "source": [
    "df_all = pd.concat([df_A,df_B],ignore_index=True)"
   ]
  },
  {
   "cell_type": "code",
   "execution_count": 25,
   "id": "72dd7769",
   "metadata": {},
   "outputs": [
    {
     "name": "stdout",
     "output_type": "stream",
     "text": [
      "<class 'pandas.core.frame.DataFrame'>\n",
      "RangeIndex: 2194 entries, 0 to 2193\n",
      "Data columns (total 2 columns):\n",
      " #   Column           Non-Null Count  Dtype \n",
      "---  ------           --------------  ----- \n",
      " 0   original_text    2194 non-null   object\n",
      " 1   summarized_text  2194 non-null   object\n",
      "dtypes: object(2)\n",
      "memory usage: 34.4+ KB\n"
     ]
    }
   ],
   "source": [
    "df_all.info()"
   ]
  },
  {
   "cell_type": "code",
   "execution_count": 26,
   "id": "86ff0f42",
   "metadata": {},
   "outputs": [],
   "source": [
    "def hitung_char (text) :\n",
    "    return(len(text))"
   ]
  },
  {
   "cell_type": "code",
   "execution_count": 29,
   "id": "b7bacf7c",
   "metadata": {},
   "outputs": [
    {
     "name": "stdout",
     "output_type": "stream",
     "text": [
      "Pembersihan teks selesai. Data telah disimpan ke data_cleaned.csv\n"
     ]
    }
   ],
   "source": [
    "import pandas as pd\n",
    "import re\n",
    "import emoji\n",
    "\n",
    "def clean_text(text):\n",
    "    # 1. Menghapus emoji\n",
    "    text = emoji.replace_emoji(text, replace='')\n",
    "    \n",
    "    # 2. Menghapus selain huruf, angka, dan tanda baca dasar (?!.,)\n",
    "    # Menyimpan huruf (a-z, A-Z), angka (0-9), spasi, dan tanda baca dasar\n",
    "    text = re.sub(r\"[^\\w\\s?!.,]\", '', text)\n",
    "    \n",
    "    # 3. Menghapus karakter berulang (lebih dari 2 kali)\n",
    "    # Contoh: zzzzz menjadi zz, ..... menjadi ..\n",
    "    text = re.sub(r'(.)\\1{2,}', r'\\1\\1', text)\n",
    "    \n",
    "    # 4. Menghapus tanda baca berlebih (lebih dari 2 kali)\n",
    "    # Contoh: !!!!! menjadi !!, ........ menjadi ..\n",
    "    text = re.sub(r'([?!.,])\\1{2,}', r'\\1\\1', text)\n",
    "    \n",
    "    return text\n",
    "\n",
    "# Baca dataset\n",
    "df = df_all\n",
    "\n",
    "# Bersihkan teks di kolom original_text\n",
    "df['original_text'] = df['original_text'].apply(lambda x: clean_text(str(x)))\n",
    "df['summarized_text'] = df['summarized_text'].apply(lambda x: clean_text(str(x)))\n",
    "\n",
    "# Simpan kembali ke CSV\n",
    "df.to_csv('data_cleaned_V4.csv', index=False)\n",
    "\n",
    "print(\"Pembersihan teks selesai. Data telah disimpan ke data_cleaned.csv\")"
   ]
  },
  {
   "cell_type": "code",
   "execution_count": 30,
   "id": "285af8f4",
   "metadata": {},
   "outputs": [],
   "source": [
    "df_cleaned = pd.read_csv('data_cleaned_V4.csv')"
   ]
  },
  {
   "cell_type": "code",
   "execution_count": 31,
   "id": "af0405b6",
   "metadata": {},
   "outputs": [],
   "source": [
    "df_cleaned['panjang_char']=df_cleaned['original_text'].apply(hitung_char)"
   ]
  },
  {
   "cell_type": "code",
   "execution_count": 32,
   "id": "a7df2152",
   "metadata": {},
   "outputs": [
    {
     "name": "stdout",
     "output_type": "stream",
     "text": [
      "8380\n"
     ]
    }
   ],
   "source": [
    "print(df_cleaned['panjang_char'].max())"
   ]
  },
  {
   "cell_type": "code",
   "execution_count": 33,
   "id": "088e1e20",
   "metadata": {},
   "outputs": [
    {
     "data": {
      "application/vnd.microsoft.datawrangler.viewer.v0+json": {
       "columns": [
        {
         "name": "index",
         "rawType": "int64",
         "type": "integer"
        },
        {
         "name": "original_text",
         "rawType": "object",
         "type": "string"
        },
        {
         "name": "summarized_text",
         "rawType": "object",
         "type": "string"
        },
        {
         "name": "panjang_char",
         "rawType": "int64",
         "type": "integer"
        }
       ],
       "conversionMethod": "pd.DataFrame",
       "ref": "f65218f7-793a-40b0-96a3-fd2562240939",
       "rows": [
        [
         "0",
         "bocor. brg tdk saya terima , entah nyasar dimana kurirnya bloon. barang lama sekali sampainya. salah alamat , sudah saya kirim chat bahwa minta dicancel utk pesanan tsb krn sy masukin menit berikutnya langsung pesan ulang ke yg betul bukannya dibaca dulu chatnya malah diproses dua duanya dasar gak becus ifil dan akan di toko ini lagi. barang datang tidak lengkap , yidak akan pernah belanja lagi di toko remi loreal. saya belum terima barang sampai tgl pdhl diperkirakan tanggal , status pengiriman sudah di pembeli padahal minta update 3 hari jawaban sama aja uang kembali. expirednya bulan 6 sekarang 9 coba dikonfirmasi dulu habis kek gitu ga malu kah toko resmi , ambil pahalanya aja malas ongkir bolak balik. barang tdk diterima , pengembalian dana dan saya disuruh urus sendiri ke toped. pesen 2 kok yg dateng cuma 1tolong di cek ulang donk ",
         "Pelanggan secara konsisten mengalami masalah signifikan dengan pengiriman dan kualitas pesanan. Banyak yang melaporkan barang tidak diterima, salah alamat, atau datang dalam kondisi rusaktidak lengkap, bahkan ada yang menerima produk mendekati masa kedaluwarsa. Respon layanan pelanggan dinilai buruk, dengan keluhan terkait chat yang diabaikan dan proses pembatalan yang tidak ditangani dengan baik. Proses pengembalian dana juga dianggap rumit dan membebani pembeli. Secara keseluruhan, pengalaman berbelanja di toko ini sangat mengecewakan dan menimbulkan keraguan terhadap kredibilitasnya.",
         "849"
        ],
        [
         "1",
         "barang tidak sampai , hilang di ekspedisi antar aja padahal beli pas harga promo sekarang mau lagi udah normal huhuu. sedih ga dapet gratisannya padhl yg lainnya pd. yg satu kuasnya diangkat sudah dalam keadaan patah lepas , brushnya nyemplung di mohon dicek kembali sblm dikirim. expirednya bentar lagi. pengiriman lama banget hampir seminggu. kecewa , padahal udah batalkan pesanan karena ada masalah produk tapi masih aja dikirim entah gak mau ribet sama sekali atau admin cuma terima langsung kemas big no buat sekelas official store poin plusnya yg sesuai dengan yang dipesan. barang sampenya lama , box diterima dalam kondisi yang sudah rusak padahal mau buat kado. status pesanan sudah selesai dati kemarin sore tapi ternyata produknya belum saya terima sampai hari ini. barang ga sampai tp pesanan sudah diselesaikan karena otomatis. kw kirim brg bekas dan rusak serta tdk menerima komplain kapok bgt ga bkl lnja lg dsni.",
         "Pengiriman menjadi isu utama, banyak pelanggan mengeluhkan keterlambatan signifikan bahkan barang hilang di ekspedisi AntarAja, serta status pesanan selesai padahal barang belum diterima. Kondisi produk juga bermasalah, ditemukan barang rusak kuas patah, box penyok, bahkan diduga bekastidak baru, dan ada kekhawatiran terkait masa kedaluwarsa produk. Pelanggan merasa kecewa karena pembatalan pesanan tidak diproses, komplain tidak ditanggapi, dan merasa dirugikan terutama saat membeli saat promo. Meskipun ada yang menerima barang sesuai pesanan, pengalaman negatif mendominasi, menunjukkan perlunya perbaikan mendesak dalam proses pengiriman, quality control, dan respons layanan pelanggan untuk menjaga reputasi toko.",
         "929"
        ],
        [
         "2",
         "packing bagus , puass. respond cepat , packing aman barang sesuai deskripsi recommended. barang sudah diterima dengan baik , tidak ada yang bocortumpah diwrapping bubble aman. bagus , rambut jadi lembut. penjual cepat tanggap , barang sampainya terima kasih. mantap barangg cepeatt sampaii barang bagus penjual nyaa fast respons banget , packingan oke aman sampai di tempatt barangnya keren. top markotop. barang aman diterima , yg paling seneng wanginya enak banget. suka banget  wangi nya enak banget , bener kaya creambath salon. cinta banget sama produk ini , rambut jd lembut dan wangi bangettss always pake shampoo mah exp packingan mantap.",
         "Pelanggan sangat puas dengan kualitas produk dan pelayanan penjual yang responsif. Produk diterima dalam kondisi aman berkat packing rapi dan penggunaan bubble wrap, tanpa kendala bocor. Banyak pembeli memuji keharuman produk yang menyerupai perawatan salon, serta efek melembutkan rambut yang signifikan. Kecepatan pengiriman juga menjadi poin positif utama, menjadikan pengalaman berbelanja sangat menyenangkan dan memuaskan, sehingga produk ini sangat direkomendasikan.",
         "646"
        ],
        [
         "3",
         "respon cepat , packing aman banyak bonus nya pemesanan yg ke 2x trims agan sukses selalu. sudah diterima dalam keadaan lengkap dan ada bonusnya juga , terima kasih seller. paket cepat datang , packing aman sekali dapet bonus hair masker wanginya enak banget thank you loreal. repurchase ke 3 sangat puas dengan barang dan respon seller nya udah gitu selalu dapat bonus terima kasih. terbukti menumbuhkan rambutbeli yg ke kalinya ini  dapat sama seperti foto pembeli lain , serumnya dipakai dingin tidak panas. paket sampai super cepat , barang ori dari official shop gitu lho baru akan digunakan hari ini kalo ada hasilnya aku pesan lagi. barangnya sesuai deskripsi , semoga berhasil byee bye rambut rontok respon bagus dr reseller good. terima kasih paket sdh diterima dengan baik , juga diberi voucer. bagus ngga pernah mengecewakan packingnya aman banget , kemasan bar sekarang.",
         "Pelanggan sangat puas dengan kecepatan pengiriman dan keamanan kemasan produk LOreal ini, bahkan seringkali mendapatkan bonus tambahan seperti hair masker atau voucher, meningkatkan nilai beli. Banyak pembeli menyatakan produk ini efektif mengurangi rambut rontok dan bahkan menumbuhkan rambut, dengan sensasi dingin yang nyaman saat digunakan. Produk yang diterima selalu original dan sesuai deskripsi, serta pelayanan penjual dinilai sangat responsif dan ramah. Secara keseluruhan, produk ini sangat direkomendasikan dan menjadi pilihan berulang bagi pelanggan yang mencari solusi rambut rontok yang efektif.",
         "881"
        ],
        [
         "4",
         "barang sesuai  sesuai deksripsi , pengiriman tepat waktu. belum saya coba pakai , terima kasih.  the product received matches description of , material is strong and not easily to get dusty can function very well both for indoor or outdoor usage seller was fast in responding my questions during transaction process overall im satisfied shopping this shop.  selalu puas belanja disini sukses ka. , makasih. udah sampai gan , thx ya. semoga awet dan nyaman dibpakai , tq gan. barang sudah saya terima dengan baik dan tepat waktu kasih. makasih proses cepet banget bantu bgt buat yg dropship  suka  barangnya bagus dan berfungsi dengan baik. barang sdh diterima dengan baik , thx gan. barangnya ok , sangat berguna. terima kasih gan barang sudah sampai  oke , sesuai pesanan thanks. makasih , penutup telinganya sudh samapi bisa berenang dgn aman. barang sampai tanpa cacat dan sesuai. thanks gan , baranh udah sampe maaf lama barangnya nyangkut di pos satpam. barangnya bagus , proses cepat makasih ya. pesanan cepat diproses tp ukurannya trlalu bsar u tlinga sya. barang cukup bagus , harga juga sdh sering dipakai tutup kupingnya tdk bocor awet sukses deh buat yg jual. barang sdh diterima , terima kasih. thanks gan , barang udah saya terima. barang sudah masuk , packingan ok tq. barang sudh d terima dengan baik. kualitas bagus , thanks ya gan.",
         "Secara umum, pelanggan sangat puas dengan pembelian mereka, menyoroti kesesuaian produk dengan deskripsi dan kualitas material yang kuat serta tahan debu, cocok untuk penggunaan di dalam maupun luar ruangan. Pengiriman dinilai cepat dan tepat waktu, dengan apresiasi khusus terhadap responsifnya penjual selama proses transaksi, terutama bagi yang melakukan dropship. Beberapa pembeli menekankan manfaat produk dalam aktivitas spesifik seperti berenang, sementara yang lain memuji daya tahan dan kinerja produk yang tidak bocor meski sering digunakan. Meskipun ada sedikit keluhan mengenai ukuran yang terlalu besar untuk beberapa pengguna, mayoritas memberikan umpan balik positif terkait kualitas, harga, dan kemasan yang baik. Kesimpulannya, produk ini direkomendasikan karena kualitasnya yang baik, pengiriman cepat, dan pelayanan penjual yang memuaskan.",
         "1348"
        ],
        [
         "5",
         "ehhdh. mantab , asli ketler punya. sesuai dengan foto , namun barang terlalu longgar amp tidak bisa pas harus dipasang wristbandhanduk untuk mengganjal agar tetap kencang pengiriman cepat tepat waktu yang dijanjikan overall. barang sesuai dengan gambar , packing sedikit kurang rapi. barang ok , pelayanan penjual jg cepat termasuk pengiriman barangnya thanks. sesuai deskripsi  terima kasih barang telah diterima dg baik , respon dan pengiriman sangat cepat recommended. recommended seller , thanks gan sukses terus. barang bagus dan pas , cuma kurir jne nya aja yg lama overall good. terimakasih pesanan sudah saya terima. packaging rapi , fisik barang oke. proses cepat dan barang sesuai  the product is good quality and was recieved in very condition  bagus , kualitas ok sesuai harapan harga bersaing fast service shipping kalo bisa ditambahkan option ekspedisi selain jne makin top deh packing rapi recommended seller thanks ya warung. barang sudah sampai dengan selamat  bagus , barangnya sesuai foto kualitas ok harga bersaing packing kardus aman service shipping cepat recommended seller thanks ya warung olahraga. got it thank you ",
         "Secara umum, produk ini mendapat sambutan positif dengan mayoritas pembeli memuji kualitas yang sesuai harapan dan harga yang kompetitif. Kecepatan pengiriman dan respon penjual juga menjadi poin utama kepuasan, meski ada beberapa catatan mengenai kerapian kemasan yang kurang optimal dan keterlambatan kurir JNE pada beberapa pengiriman. Beberapa pembeli menyebutkan perlunya penyesuaian ukuran produk, seperti penggunaan wristband untuk kekencangan, namun secara keseluruhan, produk dinilai asli, sesuai deskripsi, dan memiliki fisik yang baik. Ketersediaan opsi ekspedisi selain JNE diharapkan dapat meningkatkan pengalaman berbelanja. Kesimpulannya, produk ini direkomendasikan bagi pembeli yang mencari kualitas baik dengan layanan cepat, namun perlu diperhatikan potensi perbedaan ukuran dan opsi pengiriman.",
         "1141"
        ],
        [
         "6",
         "produk bagus , matap tinggal pakai tnk gans. barang sesuai pesanan  respos oke , barang tp sayang knp jne mengecewakan pakai yes nyampai 4hari btw seller recomen deh. pngiriman cepat , qualitas bagus wrna sesuai foto. barangnya bagus  barang bagus sesuai diskripsi , thanks gan. barang bagus , sesuai dengan pesanan.  sesuai dengan pesanan thank you. mantapp , biar bintang yg berbicara. harganya murah , barangnya bagus puas. mantap gan , recomended seller. barang sudah diterima , cepat tp belom di coba. bagus , kaca tidak buram sangat jika mau snorkling pemula good. terima kasih gan , barang sampe repat waktu dan good seller. terima kasih barang sudah sampai , pengiriman cepet siip many thanks. terimakasih , untuk barang sudah diterima dengan baik. barang udah sampai di rumah , thanks. maaf bru bisa kasi ulasan , barang bagus mantab. cepat , rapi barang cukup ok murah meriah. barang lumayan bagus dengan harga yg sangat low. barangnya sudah di terima dengan baik , tp blm sempet nyoba mudah mudahan gak ada masalah sama tolong cantumkan ukuran all size soalnya sedikit kekecilan pandangan mata thanx. bagus , paketan sdh sampe makasih ya. warna sesuai permintaan , brg gambar. kualitas sesuai harga fast respon ok good. barang sudah diterima dirumah , cuma belum liat krn masih diluar kota thanks gan. googles oke , sudah test di laut air tidak masuk sedikitpun ke dalam snorcle lumayan masih kadang lewat valve bawah harus nya karena ini semidry model sehingga sering tiup untuk mengeluarkan. sudah diterima , terimakasi bagus. barang sesuai gambar dan pengiriman cepat , thanks. proses pengirimannya cepat sekali , terima kasih. makasih bos , barangx udah sampe tinggal nyemplung ke pulau sambori hehehe. cepat sekali sampainya , barangnya sesuai dengan fotonya. barang diterima , sesuai dg gambarnya tq. good , pelayanan cepat lupa sedikit pesenan dari wa tapi tidak apaapa. barang ok mantap , siap digunakan. lihat bintangnya saja ya. lihat bintangnya aja ya. terima kasih , barang telah diterima. sudah terima dengan baik , kualitas memuaskan. terimakasih kang  produknya bagus dan kelihatan kuat , belum saya coba sih cuma mau tahu aja knp warna karet transparant di kaca mata nya agak kusam apakah emg warnanya demikian. sory baru kasih testi , krn cobanya kmrn mantap barangnya gan. thanks barang sudah sampai dengan baik rapih. sesuai fto , kiriman cepet mantep. barang sudah diterima dengan baik , trims. barang sudah diterima dengan selamat , makasih ya cici pasti saya mampir lagi. paketan nya sudah sampai balikpapan gen , terpercaya lah pokok. lumayan bagus , recomended gan. paket pas diantar oleh jne dalam keadaan sudah dibuka  barang lengkap tp agak kotor dan kondisi sudah terbuka dr packaging. trimaksh brang udah di trima aman pas mantab  barang sudah sampai terima kasih. terimakasih gan barang udah nyampe. brg sdh diterima trims ",
         "Secara keseluruhan, mayoritas pelanggan memberikan respons positif terhadap produk ini, menyoroti kesesuaian barang dengan deskripsi dan foto yang ditampilkan, serta kecepatan pengiriman yang memuaskan. Banyak pembeli memuji kualitas produk yang dianggap baik, terutama mempertimbangkan harganya yang terjangkau. Beberapa pelanggan secara spesifik menyebutkan performa produk saat digunakan untuk snorkeling, dengan catatan bahwa masker cukup baik dalam mencegah air masuk, meskipun pada model semidry perlu dilakukan pembersihan katup secara berkala. Meskipun demikian, terdapat beberapa ulasan yang menyinggung masalah pada pengiriman melalui JNE, seperti keterlambatan dan kondisi paket yang tiba tidak tersegel atau sedikit kotor. Ada juga satu pelanggan yang merasa ukuran produk sedikit kekecilan dan menyarankan penjual untuk mencantumkan informasi ukuran yang lebih jelas. Terakhir, ada pertanyaan mengenai warna kusam pada karet transparan masker, namun secara umum, pelanggan merasa puas dengan pembelian mereka dan merekomendasikan produk serta penjual ini, ditunjukkan dengan banyaknya ulasan yang meminta pembaca untuk melihat bintang yang diberikan sebagai bukti kepuasan. Kesimpulannya, produk ini menawarkan nilai yang baik dengan kualitas yang memadai, namun perlu ada perhatian lebih pada kualitas kontrol pengemasan dan kejelasan informasi ukuran untuk meningkatkan pengalaman pelanggan secara keseluruhan.",
         "2864"
        ],
        [
         "7",
         "oke  mantaps gan , barang mendarat dengan selamat. barang ok banget , sip. barang ok pengiriman cpt. alhamdulillah paket sampai dengan selamat. good , proses cepat dan komunikatif terimakasih. good seller , quick shipping will buy again. mantapp , barang sesuai deskripsi packing rapi. proses cepat , recomended. satples berfungsi dengan baik tanpa ada kendala , cuman isinya staplesnya yang kurang heheheh. kualitas mantap , harga murah. bagus sesuai gambar respon cepat pengiriman. paket sudah duterima dgn baik boss , barg bags sesuai diskripsi trim salm sukses. mantapp gan , harga bersaing dibanding toko lainnya good. bagus dan cukup memuaskan sesuai pesanan. kemasan rapi  seller top servicenya barangbarangnya mantab semua seneng belanja di toko ini  bagus  barang bagus , tkanan tembak bisa di ajust mantab. gan maaf baru konfirmasi , barang sip cepat nyampainya tanks ya. bos barang sip dan cepat pengirimannya. respon seller cepat , kiriman barang mantap. respon kilaat , brg ssuai ok gan. barang sesuai diskripsi dan berfungsi baik , juga cepat pengurimannya.",
         "Secara keseluruhan, pelanggan sangat puas dengan pembelian satples ini, menyoroti kecepatan pengiriman sebagai poin utama yang berulang. Banyak pembeli memuji kualitas produk yang sesuai dengan deskripsi dan harapan, serta kemasan yang rapi dan aman selama pengiriman. Komunikasi penjual dinilai sangat responsif dan membantu, menciptakan pengalaman berbelanja yang positif. Beberapa pelanggan menyebutkan harga yang kompetitif dibandingkan toko lain, dan ada sedikit keluhan mengenai jumlah staples yang kurang, namun tidak mengurangi kepuasan secara signifikan. Kesimpulannya, produk ini direkomendasikan karena kualitasnya yang baik, pelayanan penjual yang prima, dan proses pengiriman yang efisien, menjadikannya pilihan yang memuaskan bagi pembeli.",
         "1071"
        ],
        [
         "8",
         "makasih gan barang sudah di terima dan berfungsi dengan baik  sesuai dengan yang saya inginkan , nota asli juga dikirim mantap. alat sudah dites dan berfungsi dengan baik. top brang y sesuai pesanan. bagus sesuai pesanan barang cepat sampai. lgsg dicoba mantep , thanks ya jgn lupa beli batere 9v untuk yg mau. barang sangat cepat sampai , sudah di cek ok. sangat cepat dan tepat , barang juga berfungsi normal. barang berguna , serpis ngebut. barang bagus , sesuai dengan yang saya inginkan. barang sudah sampai , tp belum di coba. respon penjual cepat barang sesuai deskripsi , baterai tidak termasuk ternyata. barang sesuai packingan oke delivery cepat. barang bagus , ud di pakai tku yah. respon cepat dan barang sesuai pesanan , trimakasih ya sukses selalu. barang sesuai packingan bagus respon seller cepat. barang sesuai dengan yang di pesan. sudah trm lama , maaf br kirim ulasan. barang cepat sampai dan seller kooperatif. barang bagus , cepat sampai nota asli juga dikirim mantaaps. trimakasih gan , barang cepat sampai dan sesuai pesanan sukses ya. berjalan dengan baik , terima kasih. terimakasih sudah sampai  barang sudah nyampai , semoga awet dan akuran bisa dipake scan cable panjang. respon cepat barang sdh sampai  fast respon , barang sesuai tapi belum ditest semoga ga ada masalah recomended seller. belum di coba , pengiriman cepat. brg sesuai deskripsi , packing rapih sukses trs ya. barang sesuai deskripsi , thanks. fast respon , barang sesuai deskripsi. pelayanan dan pengiriman tepat waktu. top markotop , sudah sampai ngebut dan di tes ok mantep cuma ngak dapet batre nya yah hahaha. pengiriman cepat dan kualitas produk baik , terima kasih. great  barang sudah sampai , terimakasih yah. sesuai dengan deskripsi , tinggal masukkan 2x baterai 9v dan jalan. pengiriman sampai tepat waktu saat diperlukan , alatnya sangat membantu pengecekan dan istalasi jaringan. barang sesuai pesanan  terima kasih kiriman sudah sampai. semua barang sesuai , cepat tanpa ribet. terima kasihj  bagus dan dapat digunakan  barang cepat sampai , mantap. barang bagus , fungsi baik dan sangat membantu. proses cepat barang blom di test sempat bli baterainya. cpt sampai , mksh gan. barang cepat datang , thanks. barang sesuai pesanan , belum sempet di tes mudah awet thanks. sudah dicek , works. barang cepat sampai dan aman. sesuai pesanan , fast respon. thank you barang udah sampe dan sesuai. barang dah tiba tp blm dicoba mudahan alat bekerja dgn baik. maaf lupa kasih ulasan , barang sudah diterima sesuai spek semoga awet. trimakasih pelayanan memuaskan. mantap packing rapi  pengiriman cepat sekali. pengiriman barang lancar , diterima dalam kondisi baik. secara keseluruhan masih bisa digunakan , meskipun fungsi scanner terlalu peka terhadap gelombang jika didekatkan pada sumber listrik lain selain akan muncul noise yang menurut saya dibedakan dengan nada setara harga bayar. packing baik aman jaya , sukses terus. barang sudah sampai , packing aman moga awet. packing ok , barang bagus cepat sampai. barang sudah diterima dengan baik , pengiriman lumayan cepat terima kasih. fast respon dan packing rapi serta aman. baru sempet review barang sesuai gambar dan udh di coba hasilnya good. penjual sgt responsif , pengiriman cepat barang sesuai dgn yg dipesan trm ksh. respon seller ok , barang sudah di pakai dan so far. sangat puas karena bayar malam datang besoknya wow makasih ya. makasih ya gan , barangnya sudah saya terima dengan baik response sellernya juga sangat dan komunikatif sayang kurang batery nya saja hehehe. sampai dengan keadan kotak kebuka , kecepatan penngiriman bagus barang blum di coba tapi keligatanya dalam keadaan baik. maaf baru di konfirm , barang sdh diterima kemarin. di kemasan tertulis include batery 9 volt , tapi baterainya gak ada. mantap gan , terima kasih banget ya. barang sudah di terima dengan baik kasih. terima kasih sudah diterima dengan baik. barang sudah terima dengan baik gan , saya coba recommended seller thanks. tanks , barang sudah sampe kondisi ok. unit udh d trima dg baik dan sudah bs cek normal  good seller respon cepat pengiriman jug acepet. teater bagus dan penjual cepat tanggap reaksinya. fast shipping and as described , would buy again thanks. barang udah diterima sesuai order , thanks. barang sudah diterima namun blm ditest mudah mudahan tdk ada masalah amin. seller respon nya cepat baru pesan langsung di kirim ga pake nunggu barang sampe rumah gak , 2 jam luar biasa. jgn ragu beli di sini , barang bagus bisa ngelacak kabel yg barantakan.",
         "Secara keseluruhan, mayoritas pelanggan memberikan umpan balik positif terhadap produk ini, menyoroti kecepatan pengiriman sebagai poin utama yang memuaskan, dengan banyak menyebutkan barang tiba dalam waktu singkat, bahkan ada yang menyebutkan pengiriman hanya memakan waktu 2 jam. Pelanggan secara konsisten memuji kesesuaian produk dengan deskripsi yang diberikan, menyatakan bahwa barang yang diterima sesuai dengan pesanan dan harapan mereka. Respons penjual juga diapresiasi secara luas, dengan banyak pembeli mencatat kecepatan dan keramahan penjual dalam menjawab pertanyaan dan memberikan bantuan. Beberapa pembeli telah menguji fungsi produk dan mengonfirmasi bahwa produk tersebut berfungsi dengan baik, membantu dalam pengecekan dan instalasi jaringan, serta pelacakan kabel. Meskipun demikian, terdapat beberapa keluhan minor mengenai tidak tersedianya baterai 9V yang seharusnya disertakan dalam kemasan, dan beberapa pembeli belum sempat menguji produk secara menyeluruh. Satu ulasan menyoroti potensi sensitivitas scanner terhadap gelombang listrik, yang dapat menyebabkan noise, namun secara umum, pelanggan merasa produk ini bermanfaat dan sepadan dengan harganya. Kesimpulannya, produk ini direkomendasikan bagi mereka yang membutuhkan alat pengecek jaringan dan pelacak kabel yang cepat, akurat, dan didukung oleh pelayanan penjual yang responsif, namun pembeli perlu menyiapkan baterai 9V secara terpisah.",
         "4523"
        ],
        [
         "9",
         "barang sesuai , berfungsi dapet isi nya 3 set dalam 1 kotak. sesuai dengan yg diharapkan pengiriman dan respon pelapak cepat , recommended deh. barang sudah sampai dan diterima dengan baik , trims. barang dapat dipakai dengan baik. barang sesuai dengan pesanan , recommended seller. staples nya cukup bagus , terima kasih. sudah diterima sesuai pesanan , trims. barang bagus kondisi ok. mantaplpp. barangnya sudah sampai barang bagus. terima kasih  barangnya bagus , berfungsi dg baik pengiriman cuma 3 hari. trimakasih brg sdh diterima dgn baik. belum di test lagi mudah mudahan bagus dan awet. telah diterima dgn baik , dan pengiriman cepat trima kasih. barang sudah terima sesuai pesanan , belum dicoba mudahan bagus karena selama belanja disini selalu. paket sudah diterima dengan baik. terima kasih barang sampe dengn cepat. udah saya terima gan terimakasih  belum digunakan , moga berfungsi dgn baik respon penjual cepat thanks. sudah sampai , trims. di gunakan berfungsi dengan baik  mgk krn jarak jd lama di pengiriman aja , tks. barang oke berfungsi dg baik , pengriman cepat makasih bos. sesuai deskripsi , thanks gan sukses terus. trims gan , respon cepat baranh udah di coba kondisi oke mantap siap order lg. a. lagi , proses cepat pengiriman kilat packing mantab pokoknya best seller. proses cepat , harga murah barang bagus tq boss. cepat rapi dan juga murah tapi gak murahan. barang oke smpe dengan selamat. proses cepat , pengiriman kilat packing mantab pokoknya best seller. thx boss barang telah di terima dan tes ok  sudah dicoba barangya berfungsi dengan baik. barang sudah sampai , sesuai dengan pesanan terimakasih. sesuai ekspektasi , tampak kokoh sip lh. sdh sampai sedikit penyok packing nya , tapi super kilat pengirimannya thx bos. reveiw negatif 1 , barang sampai masih tersegel padahal udah diminta buat dicoba dulu sebelum dikirim alhamdulillah ga ada masalah jadi perlu kompain apalagi berkepanjangan mungkin karena seller yakin barangnya bagus 2 tidak direkomendasikan untuk amunisi jenis t paku terjadi macet dan harus dibongkar lalu aminisi yg nyangkut didorong paksa keluar bisa disebut ini kelemahan produk serupa merk apapun dilihat di gambar review positif emejing materialnya manteb harga warbiazah packing aman tebal digunakan dengan 3 dibekali amunisinya sayangnya atas fitur adjutable driving force sangat membantu menyesuaikan medan pemakuan 4 bila terlanjur amunisis tadi pembongkaran mudah cukup lepas pin yang dorong pendorongnya kondisi cek kesimpulannya lihatnya bintang mewakili kepuasan saya semoga laris manis recomended. paket udah diterima gan , paking dan barangnya mantap. blm di coba , semoga awet dan bagus tanks gan. thanks gan , barangnya baru diterima belum dicoba. ok barang sudah di terima , mantap mkasih. makash ya gan. terimakasih gan barang sudah sampai dengan selamat. barang sudah sampai dan sesuai harapan. biar bintang bicara deh , terima kasih. barang ok fast respon thanks gan. thanks , gan paket dh sampai barang ok dn sesuai pesanan recomended seller. terima kasih  brg sudah terima , pengiriman cepat kualitas barang bagus melebihi ekspektasi saya untuk ini sdh dicoba mantap hasilnya recommended seller. produk bagus , mantap sukses terus. sudah sampai , terima kasih banyak. warning awas hatihati agan ini menjual barang murah tapi tidak murahan semoga banyak penjual di tokopedia seperti , jujur and fast respon terimakasih eddy suryadi gunungsitoli. barang sdh sampe dgn baik , sukses yaa gan. barang sudah diterima dengan baik , terima kasih. barang sdh diterima , thx. barang sesuai dengan iklan , seller respond nya sangat cepat. terima kasih , barang sudah sampai ditempat saya berhubung lokasi penjual dengan tidak terlalu jauh pengiriman cukup cepat dan produknya berfungsi baik. terima kasih , sudah sampai kemarin. paket sudah smpai , cept dan rapi makasi gan. kualitas barang sesuai harga , recommended seller. thanks bos , brg sudah ku terima. barang berfungsi baik , thanks transaksinya. sip mantap cepat , memuas kan binggo. terima kasih  makasih gan , barang sudah diterima. barang nya sangat bagus sekali dan snagat memuaskan. terima kasih gan barang sudah sampai maaf late review biarkan bintang berbicara. mantap , barang nympe dgn sehat slamt ha. hekternya sudah sampai , thannkkss bangeedd. bagus cepat murah mantab dah , ane favoritin biar gampang klo beli lagi. thks , barang sudah diterima. barang sudah diterima dengan baik terima kasih  udah diterima barangnya , gan thanks. pesanan telah diterima lengkap dan utuh juga cepat , terima kasih. sudah sampai ",
         "Secara keseluruhan, mayoritas pelanggan memberikan umpan balik yang sangat positif terhadap produk ini, menyoroti kesesuaian barang dengan deskripsi dan harapan mereka. Banyak pembeli menekankan kecepatan pengiriman, respons penjual yang cepat dan ramah, serta pengemasan yang aman dan rapi. Produk dinilai berfungsi dengan baik, bahkan melebihi ekspektasi beberapa pelanggan dari segi kualitas, dengan beberapa menyebutkan pengujian langsung yang berhasil dan kepuasan terhadap performanya. Beberapa ulasan menyinggung harga yang terjangkau namun kualitas tidak murahan, menjadikannya pilihan menarik bagi pembeli. Meskipun ada sedikit keluhan mengenai penyok pada kemasan dan satu ulasan negatif terkait potensi masalah pada amunisi tertentu, secara umum produk ini dianggap kokoh, tahan lama, dan dilengkapi dengan amunisi yang memadai. Fitur adjustable driving force juga diapresiasi karena kemampuannya menyesuaikan dengan berbagai jenis permukaan. Pelanggan secara konsisten merekomendasikan penjual ini sebagai best seller dan menyatakan niat untuk melakukan pembelian kembali di masa mendatang, didukung oleh testimoni positif yang kuat dan bintang yang diberikan. Kesimpulannya, produk ini menawarkan nilai yang sangat baik dengan kombinasi kualitas, harga, dan pelayanan yang memuaskan, menjadikannya pilihan yang direkomendasikan bagi calon pembeli.",
         "4557"
        ],
        [
         "10",
         "ok. barang dapat dipakai dengan baik. barang sesuai dengan pesanan , recommended seller. terima kasih  sudah diterima sesuai pesanan , trims. makasih gan barang sudah sampai tujtuan. paket sudah sampai trimakasih  terima kasih  barang bagus sesuai dengan deskripsi  barang dah diterima sesuai pesanan , semoga sukses selalu. trimakasih brg sdh diterima dgn baik. sesuai dengan foto , bagus. barang oke mantap  a. respon cepat dan kiriman , thank you. proses cepat , harga murah barang bagus tq boss. cepat rapi dan juga murah tapi gak murahan. makasih y gan. terimakasih gan barang sudah sampai dengan selamat. barang sudah sampai dan sesuai harapan. bahan tebal dan bagus , sangat ccok di hekter tembak kami gan trims. terima kasih  good qlty , moga bisa terus mempertahankan cara kerja seperti ini di masa mendatang. mantap , kualitas bagus tq sukses terus. respon cepat , kualitas bagus recommend. barang sdh diterima , thx. thanks isi hekter sudah datang namun belum dicoba. kualitas barang sesuai harga , recommended seller. makasih gan , barang sudah diterima. barang nya mayan buatvstok ane yg udahbmau abis hehehe. sudah sampai malam ini , terima kasih. barang sudah diterima dengan baik , pelayanan yang dan cepat. brang sudah diterima dan cocok  pesanan telah diterima lengkap dan utuh juga cepat , terima kasih. dah sampai ",
         "Secara keseluruhan, pembeli sangat puas dengan produk ini, menyoroti kesesuaian barang dengan deskripsi dan pesanan sebagai poin utama. Banyak pelanggan memuji kualitas bahan yang tebal dan bagus, terutama bagi yang menggunakan untuk hekter tembak. Pelayanan penjual juga diapresiasi tinggi, terutama respon cepat, proses pengiriman yang rapi dan cepat, serta harga yang terjangkau namun tetap berkualitas. Beberapa pembeli menyebutkan produk ini cocok untuk stok mereka, menunjukkan potensi pembelian berulang. Kesimpulannya, produk ini menawarkan nilai yang baik dengan kualitas memadai dan didukung oleh pelayanan penjual yang responsif, menjadikannya pilihan yang direkomendasikan bagi pembeli.",
         "1334"
        ],
        [
         "11",
         "mantap , sesuai deskripsi. terima kasih. reksell , proses pengiriman cepat. barang sudah sampai packing rapi sesuai transaksi. maksih barang sampai dengan peking yabg baik , allhamdulilillah. mantap biar bintang berbicara. mantul puas bangt sore tf besoknya udh smpe , barang sesuai pesanan good job. barang mantaap , cepat n work it. pakunya kuat , barang asli sesuai dgn foto. super. mantap gan sesuai gambar dan pesanan. pas mantap. fast respon delivery , tapi blm dicoba bagus gaknya. recommended seller  barang sudah di terima dengan baik , tks. barang ori , sesuai dgn deskripsi. mantab nih , barang sesuai judul foto dn deskripsi. produk sesuai , berfungsi baik thanks.  untuk respon cukup cepat amp pengiriman standard sesuai dengan pesanan. respon penjual cepat dan ramah , barang bagus meskipun warnanya gk hitam tpi papa kualitas tetep ok. sesuai deskripsi  barang sesuai deskripsi , respon penjual dan pengiriman cukup cepat belum dicoba. terima kasih respon cepatnya gan. fast respond dan cepat sampai. zipp  pengiriman cepat , dicoba juga sesuai ekpetasi terima kasih. puasbarang asli krisbow , terimakasih. sesuai pesanan , pengiriman cepat dan packingnya aman terimakasih. thanks , dah terima barang bekerja dengan baik. mantap. barang sdh sampai , sesuai dgn gambar trimksh. terima kasih barangnya sudah sampai. packing baik , cepat sampai barang sesuai pesanan. brg baguss , cepat sampai. mantap gan cpt bgt kmrn trf sampe padahal pke jne reg. fast respon dan cepat pengirimannya , good seller. sudah dicoba dan berfungsi dengan baik  pengiriman super cepat , jam transfer lalu barang sudah saya terima sesuai deskripsi dan gambar kasih ya recommended seller. barang sesuai dengan yg ada difoto , mantaps. brang ud smpai kondisi ok. recommended lah pokoknya  mantap deh pokoknya recomen buat yg lain. respon cepat , barang sesuai paket rapi dan aman thanks. barang bagus , tidak ada kendala baik di pengiriman maupun unit barangnya. awalnya bagus tp setelah dipakai agak lama jd kurang kencang , padahal merek krisbow. barang udh nyampe sesuai pesanan , sayang ternyata ga bisa make isi staples stationery biasa yg no 3 harus di deskripsi tulis ukuran nya. barangnya ok  produk mantap , sesuai gambar tembakan juga kuat semoga awet tq. kenceng gansipp  mantap , sesuai deskripsi. terima kasih. reksell , proses pengiriman cepat. barang sudah sampai packing rapi sesuai transaksi. maksih barang sampai dengan peking yabg baik , allhamdulilillah. mantap biar bintang berbicara. mantul puas bangt sore tf besoknya udh smpe , barang sesuai pesanan good job. barang mantaap , cepat n work it. pakunya kuat , barang asli sesuai dgn foto. super. mantap gan sesuai gambar dan pesanan. pas mantap. fast respon delivery , tapi blm dicoba bagus gaknya. recommended seller  barang sudah di terima dengan baik , tks. barang ori , sesuai dgn deskripsi. mantab nih , barang sesuai judul foto dn deskripsi. produk sesuai , berfungsi baik thanks.  untuk respon cukup cepat amp pengiriman standard sesuai dengan pesanan. respon penjual cepat dan ramah , barang bagus meskipun warnanya gk hitam tpi papa kualitas tetep ok. sesuai deskripsi  barang sesuai deskripsi , respon penjual dan pengiriman cukup cepat belum dicoba. terima kasih respon cepatnya gan. fast respond dan cepat sampai. zipp  pengiriman cepat , dicoba juga sesuai ekpetasi terima kasih. puasbarang asli krisbow , terimakasih. sesuai pesanan , pengiriman cepat dan packingnya aman terimakasih. thanks , dah terima barang bekerja dengan baik. mantap. barang sdh sampai , sesuai dgn gambar trimksh. terima kasih barangnya sudah sampai. packing baik , cepat sampai barang sesuai pesanan. brg baguss , cepat sampai. mantap gan cpt bgt kmrn trf sampe padahal pke jne reg. fast respon dan cepat pengirimannya , good seller. sudah dicoba dan berfungsi dengan baik  pengiriman super cepat , jam transfer lalu barang sudah saya terima sesuai deskripsi dan gambar kasih ya recommended seller. barang sesuai dengan yg ada difoto , mantaps. brang ud smpai kondisi ok. recommended lah pokoknya  mantap deh pokoknya recomen buat yg lain. respon cepat , barang sesuai paket rapi dan aman thanks. barang bagus , tidak ada kendala baik di pengiriman maupun unit barangnya. awalnya bagus tp setelah dipakai agak lama jd kurang kencang , padahal merek krisbow. barang udh nyampe sesuai pesanan , sayang ternyata ga bisa make isi staples stationery biasa yg no 3 harus di deskripsi tulis ukuran nya. barangnya ok  produk mantap , sesuai gambar tembakan juga kuat semoga awet tq. kenceng gansipp ",
         "Secara keseluruhan, mayoritas pelanggan memberikan umpan balik yang sangat positif terhadap produk ini, terutama menyoroti kecepatan pengiriman yang luar biasa, seringkali barang diterima dalam waktu satu hari setelah pemesanan, bahkan dengan jasa pengiriman reguler seperti JNE. Pelanggan secara konsisten memuji kesesuaian produk dengan deskripsi dan foto yang ditampilkan, menegaskan keaslian produk, khususnya merek Krisbow. Banyak yang menekankan kemudahan komunikasi dengan penjual yang responsif dan ramah, serta kepuasan terhadap pengemasan yang rapi dan aman. Fungsi produk dinilai baik oleh sebagian besar pembeli, dengan beberapa menyebutkan kekuatan paku dan performa yang sesuai ekspektasi. Namun, ada beberapa catatan mengenai penurunan kekencangan staples setelah penggunaan jangka waktu tertentu, serta informasi penting mengenai ukuran staples yang kompatibel yang sebaiknya dicantumkan dalam deskripsi produk untuk menghindari kekecewaan pembeli. Meskipun ada beberapa kekurangan kecil, sentimen keseluruhan sangat positif, dengan banyak pelanggan merekomendasikan produk dan penjual kepada orang lain, didukung oleh pengalaman pembelian yang lancar dan produk yang berfungsi dengan baik. Kesimpulannya, produk ini menawarkan nilai yang baik dengan layanan pelanggan yang memuaskan, namun perlu ada peningkatan pada detail deskripsi produk terkait ukuran staples dan potensi penurunan kualitas staples setelah pemakaian.",
         "4541"
        ],
        [
         "12",
         "fungsi normal kualitas standar sesuai harga , rekomended seller. oke banget sesuai kebutuhan. barang berfungsi dengan baik. barang bagus sesuai dengan deskripsi , respon juga cepat smoga awet deh. bagus gan sesuai dengan pesenan. barang sampai sesuai pesanan , pengiriman cepat packing aman trm kasih. oke sjsksijebejekwoshs. mantap. barang cocok makasi gan. barang sudah diterima , makasi. mantap barang sesuai pesanan gan , tidak kurang satu pun sukses selalu. mantap dah ini barang harga murah , tapi kualitasnya oke puas deh pokoknya recomend utk agan yg mau beli phone holder di motor. order sekarang besok langsung sampai euy  mantab  barang sudah diterima , terimakasih banyak. mangtab sellernya , pesen jam 3 langsung dikirim hari itu jg besok dah sampe tq bro. barang sudah datang , terimakasih banyak. barang sesui pesanan tdk ada cacat. terimakasih , pengirimannya cepat sekali. thanks gan barang sudah mendarat. maaf baru kirim ulasannya , barang yg dikirim sesuai dan pengirimannya cepat terima kasih atas pelayanannya. gila , barang bagus gini dijual murah bngt top gan makasih puas. barang ok , pas di motor.",
         "Secara keseluruhan, produk phone holder ini mendapat sambutan positif dari pembeli. Mayoritas memuji kualitas yang sesuai dengan harga, fungsi normal, dan deskripsi produk yang akurat. Kecepatan pengiriman dan keamanan kemasan menjadi poin penting yang diapresiasi, banyak pembeli menyebutkan pesanan tiba dengan cepat, bahkan ada yang merasakan pengiriman super cepat. Pelayanan penjual juga dinilai responsif dan ramah. Beberapa pembeli menyoroti kecocokan produk dengan motor mereka dan kepuasan atas harga yang terjangkau. Kesimpulannya, produk ini direkomendasikan bagi yang mencari phone holder motor berkualitas baik dengan harga bersahabat dan pelayanan memuaskan.",
         "1123"
        ],
        [
         "13",
         "sesuai deskripsi , kualitas oke good. mantap barangnya dan awet. mantap puas sekali dengan barangnya. packaging mantap , pengiriman cepat harga terjangkau. cepat sekali , brg sesuai pesanan makasih. jaitan bolanya agak kurang rapih , tapi dengan harga segini udah worth it banget packing dan pengiriman cukup cepat. bolanya bagus banget , sesuai bangeet keren. thx gan barang cepat sampainya. respon cepat , packing rapi kiriman kualitas god. barang bagus , proses cepat. mantap sesuai pesanan dan kualitas barang bagus. kualitas barang ok , packing juga rapi top. mantap lah beli lagi disini kalo butuh. pengiriman cepat dan kemasannya bagus , barangnya juga. packing rapih sesuai dengan foto , kualitas baik respon seller cepat. belum sempet buka , tapi semoga bagus dah. kualitas ok , produk sesuai gambar. produk bagus , layanan. barang dan pelayanan bagus , bintang berbicara. terima kasih kembali yah gan , sip. nice seller , fast shipping rekomen sukses lapakny gan. bola sudah diterima dengan baik. barang di terima dengan baik mantap.",
         "Secara keseluruhan, produk ini mendapat sambutan positif dari pembeli. Mayoritas memuji kualitas bola yang sesuai deskripsi dan gambar, serta ketahanan produk yang baik. Kecepatan pengiriman dan kerapian kemasan menjadi poin plus yang sering disebut, ditambah lagi harga yang terjangkau membuat produk ini dianggap worth it. Beberapa pembeli menyoroti jahitan bola yang kurang rapi, namun tetap merasa puas dengan kualitas keseluruhan sebanding harga. Respon penjual yang cepat dan pelayanan yang baik juga diapresiasi, menjadikan pengalaman berbelanja menyenangkan. Dapat disimpulkan bahwa produk ini menawarkan nilai yang baik dengan kualitas lumayan dan pelayanan memuaskan, menjadikannya pilihan yang direkomendasikan bagi pembeli lain.",
         "1043"
        ],
        [
         "14",
         "mantap pokok e , barang sesuai gambar laris terus juragan. produk sangat kokoh dan pengiriman aman , respon seller cepat serta ramah terima kasih kakak. barang sesuai dan respon cepat. pengiriman luar biasa cepat , very recomended. respon kirim cepat , barang aman. makasih , ring basketnya sesuai dengam keperluan anak saya. produk sesuai dengan gambar , untuk pemula shooting saja saran yang suka ngedunk lebih baik beli tebalan dan ada per nya. respon penjual bagus dan barang sesuai pesanan. bagus barangnya sesuai foto dan pengiriman cepat , thanks. kualitas baik , belum sempat dipasang tapi sdh terlihat kokoh. response cepat , barang sesuai specs. barang lumayan , cuma kok penjual menulis berat salah sehingga biaya ongkir tertulis tapi di struk jne ada selisih 5 capek deh. barangnya bagus cukup kuat  barangnya cepet sampeknya bagus. barang bagus , respon cepat. nice thanks gan  barang sampai kurang dari 1 jam. barang sudah saya terima , cukup bagus. datang cepat , terimakasih besi nya kuat adek saya seneng. finishing nya agak kasar , secara keseluruhan ok harga sesuai.",
         "Secara umum, pelanggan sangat puas dengan ring basket ini, menyoroti kesesuaian produk dengan gambar dan kualitas yang kokoh, terutama untuk latihan dasar menembak. Pengiriman dinilai sangat cepat dan aman, didukung oleh respon penjual yang ramah dan cepat tanggap. Beberapa pembeli menyebutkan produk ini ideal untuk anakanak atau pemula. Meskipun ada sedikit keluhan mengenai finishing yang kurang halus dan perbedaan berat produk yang mempengaruhi biaya pengiriman, mayoritas menekankan nilai produk sepadan dengan harga. Kesimpulannya, ring basket ini merupakan pilihan yang baik untuk latihan ringan dan menyenangkan, dengan pelayanan penjual yang memuaskan.",
         "1085"
        ],
        [
         "15",
         "blom kpake ga ccocok ama pluru nya trnyata. terimakasih  sesuai gambar , kualitas dengan harga. bad response , ga ada jawaban setiap di tanya sangat silent seller. respon kurang cepat , lain kali agak thanks. ya lumayanlah buat dekorasi semoga awet  harap informasi isi staples yg bagaimanakah cocok. blom kpake ga ccocok ama pluru nya trnyata. terimakasih  sesuai gambar , kualitas dengan harga. bad response , ga ada jawaban setiap di tanya sangat silent seller. respon kurang cepat , lain kali agak thanks. ya lumayanlah buat dekorasi semoga awet  harap informasi isi staples yg bagaimanakah cocok.",
         "Ulasan menunjukkan produk sesuai gambar dan harga, cocok untuk dekorasi meski beberapa pembeli mengalami masalah kompatibilitas dengan peluru yang digunakan. Kekhawatiran utama terletak pada layanan penjual yang lambat dan kurang responsif, serta kurangnya informasi detail mengenai jenis staples yang kompatibel. Secara keseluruhan, produk dinilai lumayan, namun peningkatan responsivitas dan kejelasan informasi produk sangat diperlukan untuk kepuasan pelanggan.",
         "601"
        ],
        [
         "16",
         "good seller , sukses selalu. semoga awet  terima kasih  barang sesuai harga n berfungsi dengan baik  pesanan sesuai dengan gambar pengiriman cepat makasih  gan , barang sesuai foto mudah mudahhan awet nih blm coba karna ada isinya. barang sdh sampai , belum dicoba semoga bisa pakai dan awet thank u seller. barang sudah sampai , bagus packing rapi. barang sesuai gambar , bagus murah tapi tidak murahan. barang sdh ditrima dan berfungsi , manteb gan. thanks  sesuau dengan pesanan semoga awet , thx. barang sesuai pesanan , mantapp. bngung ini isi staples tembak nya ukuran nomer berapa ya. barang sudah sampai , dan ok terima kasih. alat bagus berjalan normal bahannya pelayanan ok  sip barang dah nyampai , tengkyu. mantap sampai dengan aman gan  thanks bgt yaa say suka sama barang nyaa sesuai dan good quality. brg sudah sampai , kualitas sesuai harga thanks. tks  bagus , pengiriman ok rekomen. barang sesuai pesanan mantaf. super , ga ribet cepet perlu nanya ada stok atau saya langsung order proses sehari sampe mantap barang murah tapi murahan joss recommended seller. sesuai dengan pesanan , sangat berguna. bagus dan cepat sampai barang nya oke. barang sudah sampai , terimakasih next time order lagi. makasih ya , kiriman dah sampe. good seller , sukses selalu. semoga awet  terima kasih  barang sesuai harga n berfungsi dengan baik  pesanan sesuai dengan gambar pengiriman cepat makasih  gan , barang sesuai foto mudah mudahhan awet nih blm coba karna ada isinya. barang sdh sampai , belum dicoba semoga bisa pakai dan awet thank u seller. barang sudah sampai , bagus packing rapi. barang sesuai gambar , bagus murah tapi tidak murahan. barang sdh ditrima dan berfungsi , manteb gan. thanks  sesuau dengan pesanan semoga awet , thx. barang sesuai pesanan , mantapp. bngung ini isi staples tembak nya ukuran nomer berapa ya. barang sudah sampai , dan ok terima kasih. alat bagus berjalan normal bahannya pelayanan ok  sip barang dah nyampai , tengkyu. mantap sampai dengan aman gan  thanks bgt yaa say suka sama barang nyaa sesuai dan good quality. brg sudah sampai , kualitas sesuai harga thanks. tks  bagus , pengiriman ok rekomen. barang sesuai pesanan mantaf. super , ga ribet cepet perlu nanya ada stok atau saya langsung order proses sehari sampe mantap barang murah tapi murahan joss recommended seller. sesuai dengan pesanan , sangat berguna. bagus dan cepat sampai barang nya oke. barang sudah sampai , terimakasih next time order lagi. makasih ya , kiriman dah sampe.",
         "Secara keseluruhan, mayoritas pelanggan memberikan umpan balik positif terhadap produk ini, menyoroti kesesuaian barang dengan deskripsi dan gambar yang ditampilkan, serta kualitas yang dianggap sepadan dengan harganya, bahkan beberapa menyebutnya bagus, murah tapi tidak murahan. Pengiriman cepat dan kemasan yang rapi juga menjadi poin yang sering diapresiasi, menunjukkan pelayanan yang memuaskan dari penjual. Banyak pembeli menyatakan barang berfungsi dengan baik setelah diterima, dan ada harapan agar produk tersebut awet digunakan. Namun, terdapat satu pertanyaan spesifik mengenai ukuran isi staples tembak yang menunjukkan adanya kebutuhan informasi lebih detail terkait produk. Secara umum, pelanggan merasa puas dengan pembelian mereka dan merekomendasikan toko ini kepada orang lain, dengan beberapa bahkan menyatakan akan melakukan pembelian kembali di masa mendatang, menegaskan bahwa produk ini memberikan nilai yang baik dan pengalaman belanja yang positif bagi konsumen.",
         "2489"
        ],
        [
         "17",
         "steplesnya sedikit lebih kecil dari staples khusu mollar , saat ditembakan keluar 2 dan jadi menumpuk yang rekomennya sih mending cari isi khusus jk staplesnya merk. sesuai dengan pesanan  produk berfungsi dgn baik. produk sesuai dengan deskripsi , tapi belum dicoba. barang sesuai diskripsi dan layanan cepat. sudah diterima , terima kasih. sudah diterima dengan baik dan bisa di pakai  packing rapi dan respon cepat , recommended. barang sudah diterima dg baik , thx. terima kasih  pengiriman sangat cepat , barang sesuai iklan berfungsi baik. kwalitas bagus , sesuai dengan yang ditawarkan respons cepat. sesuai yg diharapkan , terimakasih. barangnya bagus , pelayanan toko ini semuanya sangat memuaskan recomend. sudah diterima. produk sesuai deskripsi , packing rapi rekomended. bukan merk kenmaster ternyata. terimakasih barang sudah sampai. bagus , pengiriman cukup cepat. sip  barang udh sampe , mksh. terimakasih barangnya udah sampai  fast respon dan terbaiks. makasih barang sudah sampai. bagus , top pengiriman cepat. thanks  merk beda tapi gpp yg penting ukrn sama. lihat bintangnya aja dah. bagus  barang sudah diterima , ukuran sesuai deskripsi hanya mereknya beda dengan yang dikirim tetapi tidak masalah penting berfungsi baik. barang sudah sampai , tks. bagus , terimakasih. barang sudah samapai gan , dan bagus. mantaf , sangatsangat sesuai. barang sudah diterima dengan baik  pengiriman cepat , kemasan bagus. sesuai permintaan , fast respon. matab , good sesuai permintaan. barang lumayan kuat , good. sudah sampai murah meriah. sudah di terima bos packing bagus , aman. makasih , barang sesuai gambar. langsung dipakai , mantap thanks maaf baru kasi testi. harganya murah tp isinya lumayan banyak n kuat , pesan kmrn hr ini nyampe thanks toko besi timur jaya tokopedia wahana. ok  terimakasih barang sdh diterima. unit nya sudah sampai , thanks. ga nyampe sejam dr mulai transaksi , udah rumah mksh. good , cepat packing aman. barang sangat bagus sesuai diskripsi. mantap sampai dengan aman gan  barang udah nyampe om makasih. recomended  barang sesuai , pengiriman cepat ok. mantab , fast respone tx u. steplesnya sedikit lebih kecil dari staples khusu mollar , saat ditembakan keluar 2 dan jadi menumpuk yang rekomennya sih mending cari isi khusus jk staplesnya merk. sesuai dengan pesanan  produk berfungsi dgn baik. produk sesuai dengan deskripsi , tapi belum dicoba. barang sesuai diskripsi dan layanan cepat. sudah diterima , terima kasih. sudah diterima dengan baik dan bisa di pakai  packing rapi dan respon cepat , recommended. barang sudah diterima dg baik , thx. terima kasih  pengiriman sangat cepat , barang sesuai iklan berfungsi baik. kwalitas bagus , sesuai dengan yang ditawarkan respons cepat. sesuai yg diharapkan , terimakasih. barangnya bagus , pelayanan toko ini semuanya sangat memuaskan recomend. sudah diterima. produk sesuai deskripsi , packing rapi rekomended. bukan merk kenmaster ternyata. terimakasih barang sudah sampai. bagus , pengiriman cukup cepat. sip  barang udh sampe , mksh. terimakasih barangnya udah sampai  fast respon dan terbaiks. makasih barang sudah sampai. bagus , top pengiriman cepat. thanks  merk beda tapi gpp yg penting ukrn sama. lihat bintangnya aja dah. bagus  barang sudah diterima , ukuran sesuai deskripsi hanya mereknya beda dengan yang dikirim tetapi tidak masalah penting berfungsi baik. barang sudah sampai , tks. bagus , terimakasih. barang sudah samapai gan , dan bagus. mantaf , sangatsangat sesuai. barang sudah diterima dengan baik  pengiriman cepat , kemasan bagus. sesuai permintaan , fast respon. matab , good sesuai permintaan. barang lumayan kuat , good. sudah sampai murah meriah. sudah di terima bos packing bagus , aman. makasih , barang sesuai gambar. langsung dipakai , mantap thanks maaf baru kasi testi. harganya murah tp isinya lumayan banyak n kuat , pesan kmrn hr ini nyampe thanks toko besi timur jaya tokopedia wahana. ok  terimakasih barang sdh diterima. unit nya sudah sampai , thanks. ga nyampe sejam dr mulai transaksi , udah rumah mksh. good , cepat packing aman. barang sangat bagus sesuai diskripsi. mantap sampai dengan aman gan  barang udah nyampe om makasih. recomended  barang sesuai , pengiriman cepat ok. mantab , fast respone tx u.",
         "Secara keseluruhan, mayoritas pelanggan memberikan umpan balik positif terhadap pembelian staples ini, dengan penekanan utama pada kecepatan pengiriman yang sangat memuaskan, seringkali diterima dalam waktu singkat setelah pemesanan. Pelanggan secara konsisten memuji kesesuaian produk dengan deskripsi yang diberikan, serta kemasan yang rapi dan aman selama proses pengiriman. Banyak pembeli juga menyoroti respons penjual yang cepat dan keramahan pelayanan toko, menciptakan pengalaman berbelanja yang menyenangkan. Meskipun beberapa pelanggan mencatat bahwa merek staples yang diterima berbeda dari yang diharapkanterutama tidak sesuai dengan merek Kenmasterhal ini umumnya tidak dianggap sebagai masalah signifikan selama ukuran staples tetap sesuai dengan kebutuhan mereka. Beberapa ulasan menyebutkan bahwa staples sedikit lebih kecil dari yang ideal untuk beberapa jenis stapler, khususnya stapler Mollar, dan menyarankan penggunaan staples khusus untuk merek tersebut guna menghindari masalah kemacetan. Namun, secara umum, pelanggan menilai kualitas produk baik, dengan beberapa menyatakan bahwa staples cukup kuat dan menawarkan nilai yang baik untuk harganya. Kesimpulannya, produk ini dinilai sebagai pilihan yang andal dan efisien bagi pelanggan yang mencari staples dengan pengiriman cepat dan pelayanan yang memuaskan, meskipun perlu diperhatikan potensi perbedaan merek dan ukuran staples untuk memastikan kompatibilitas dengan stapler yang digunakan.",
         "4251"
        ],
        [
         "18",
         "sip  barang sampe dengan selamat , barangnya bagus sayangnya packing kurang tipis bgt seadanya tapi good quality brangnya. sesuai penjelasan produk ok pemasangan sagat mudah tidak perlu ngebor sekrup , penjual juga menjelaskan dengan buyer jd mengerti tanpa kebingungan. produk kettler sesuai dgn deskripsi dan foto , pengiriman cepat seller fast response. barang bagus , cuma mur nya kurang kuat dan gampang doll saat di pasang jadi saya pakai lain. siip , sesuai pesanan terimakasih. bagus tpi jne yes nyampenya lebih dari 1 hari. mantep bang , agak kecewa dikit sih masalah pengiriman hehe tapii barangnya good recom bgt deh. proses cepat barang bagus moga tokonya sukses selalu. siplah , produknya kokoh dan berkualitas. barang sesuai deskripsi  barang bagus bgt , sesuai diskripsi. sesuai puas dan cpt respontnya sampainya. pelayanan oke , order pagi siangnya udah sampe via go send barang sesuai deskripsi. barang bagus , mantap semoga kuat terus. barang sdh diterima , tks semoga awet sesuai gambar. kualitas barang bagus. barang sampai dengan ganteng , mantabbs. barang ok , pengiriman ssiip. pelayanan dan pengiriman cepat , barang sesuai. sip gan  barang sesuai yg diiklankan , and begitu dicoba 2 harian ini mulai terasa sedikit reaksi otot mudah mudahan semakin intens terlihat hasilnya trust me its work. mantap gan produk yang diterima sesuai dengan tertera pada deskripsi , bahan kuat. sorry bru di review , brang sdh smpai mantap. brg sesuai pngirimsn cpt , trim. barang dah meluncur kekota minyak balikpapan , bos. bagus barenge gan udah smpek kemaren maf baru ngabarin cepat pengirimannya sesuai deh pkonya. barang bagus mulus kuat cuma kardus luarnya aja yang gak  mantap gan lupa belum kasih ulasan dulu xd maafkan. barang sesuai harapan , makasih. bagus barangnya , mantap agan terimakasih. kualitas bagus , barang mantap seperti gambar pemasangan mudah d. bagus  good  good  oke barangnya  recommended seller , tp kok hanya 1 sisi yg bisa di panjangin ya satu sisinya lagi mati gk bs. barang sudah nyampe dengan bagus. makasih gan , barangnya udah sya terima sesuai spek n cepat bnget jam wlau hri libur. pesanan sudah diterima dengan baik , thx. barang sesuai dengan gambar , kualitas ok. barang nyampe mas , sesuai jadwal qualitas thank you. barangnya bagus , ga da cacat pengiriman juga tepat dan cepat nice bro. top abiss  produk sesuai pesanan , packing mantap. trimakasih and good tokopedia barang pesanan saya sdh terima dan sesuai dengan keinginan. barang sudah diterima dengan baik , terima kasih. recomended seller fast response , ramah 2 thumbs. thanks , barang sudah sampai packaging bagus. terimakasih barang sudah sampai dng selamat ",
         "Secara keseluruhan, produk ini mendapat sambutan positif dari pembeli, dengan penekanan utama pada kualitas barang yang sesuai deskripsi dan ekspektasi. Banyak pelanggan memuji ketahanan dan kekuatan produk, serta kemudahan pemasangan tanpa memerlukan pengeboran. Kecepatan pengiriman dan responsifitas penjual juga menjadi poin penting yang diapresiasi, terutama melalui layanan pengiriman instan seperti GoSend. Meskipun demikian, beberapa ulasan menyoroti adanya kekurangan kecil pada bagian mur yang kurang kuat dan kardus kemasan yang kurang memadai, namun hal ini tidak mengurangi kepuasan secara signifikan. Beberapa pembeli juga memberikan komentar terkait fungsi produk yang bekerja sesuai harapan, terutama dalam hal memberikan reaksi pada otot. Secara umum, mayoritas pembeli merasa puas dengan pembelian mereka dan merekomendasikan produk serta penjual, dengan harapan produk dapat bertahan lama dan toko terus sukses. Kesimpulannya, produk ini menawarkan nilai yang baik dengan kualitas yang solid dan pelayanan yang memuaskan, meskipun ada beberapa area kecil yang dapat ditingkatkan untuk pengalaman pelanggan yang lebih optimal.",
         "2669"
        ],
        [
         "19",
         "thx u , fast response barangnya. barang sesuai , mantap terima kasih. sip , meskipun tidak sesuai harapan. setelelah saya terima dan cek , produk baik sesuai dengan lish. terima kasih , pesanannya sudah sampai. barang sudah diterima , terimakasih yaa. barang sampai di tempat tujuan , paket rapi cma agak beda sama yg difoto. thanks sis , brg berkualitas sukses terus. barang uda sampe , dan cepat fast respon juga cma ga begitu sesuai di gambar yg boardny putih datang boardnya dalam warna ijo tp gpp cukup memuaskan y. pelayanan cepat , barang sesuai pesanan. barang udah nyampai , terima kasih warung olahraga n tokopedia. barang nya bagus , kapan saya order lagi ya. udah d terima ya , makasih. barang udah di terima , sesuai dengan apa yang diharapkan thanks. terima kasih , barang sudah nyampe dengan oke.",
         "Pelanggan umumnya puas dengan kecepatan pengiriman dan responsifitas penjual, serta kondisi barang yang diterima dalam keadaan baik dan sesuai pesanan. Beberapa pembeli mencatat adanya perbedaan warna pada produk dengan tampilan foto, namun tetap merasa cukup puas. Meskipun ada sedikit ketidaksesuaian ekspektasi, mayoritas menekankan kualitas produk yang baik dan menyatakan akan melakukan pembelian kembali. Kesimpulannya, produk ini menawarkan nilai yang baik dengan pelayanan memuaskan, meski perlu diperhatikan akurasi representasi warna produk.",
         "811"
        ],
        [
         "20",
         "barang saya sudah terima tapi datangnya lama sekali. kayunya lumayan bagus , tapi sayang saya dapat yg tidak presisi pegangan betnya gak berada di tengah. pesanan kali kedua udah sampai dengan sukses , thanks. lumayan sesuai dengan harga , masih ada getaran ketika menerima bola. kayu bagus , bila ada spray untuk clean rubber ya. barang sudah di terima , thanks gan. sip barang sudah sampai thanks bro. barang lumayan sesuai harga , respon cepat jnenya yang telat krn tanggal merah. kualitas sesuai harganya , good product kiriman on time. pelayanan sangat baik , mantapp. barang dah sy trima , tlg requst pin bb nya bang klo mau order lg mksh.",
         "Pengiriman produk bervariasi, ada yang cepat namun ada pula yang mengalami keterlambatan. Kualitas kayu secara umum dinilai baik dan sesuai harga, meski beberapa pembeli menemukan masalah presisi pada pegangan bet serta getaran saat digunakan. Respon penjual cepat, namun pengiriman sering terkendala hari libur. Pelayanan dinilai sangat baik dan banyak pembeli menyatakan kepuasan serta berniat memesan kembali, menunjukkan produk ini menawarkan nilai yang cukup baik untuk harganya.",
         "645"
        ],
        [
         "21",
         "mantaap seperti gambar. barang sesuai pesanan muantab , kiriman cepat terima kasih. pengiriman jampt memang mantap , produk sukses buat penjual. barang sudah kami terima dengan baik , bagus cuma sedikit ada cacat diplaywood gompal. pengiriman cepat dan produk sesuai deskripsi. barang sesuai pesanan , fast respon kedatangan permintaan. barang sudah sampai boss. terimakasih , barang sudah sampai ampamp sesuai dengan pesanan. barang bagus , sesuai harga kemasan ok. bagus  sudah nyampe bos , terima kasih. enak di pakai dan memuaskan. sayang tidak ada karetnya , kalau bisa sekalian penawaran. barang sudah sampai gan , mantap thanks. barang sudah sampai , tkhanks. finishing kosaka masih perlu diperbaiki  sudah diterima sesuai harapan n respon cepat sekali , mantap trims. terima kasih , pesanan baru sampai. thanks bos , barang sudah sampai. barang sudah diterima , terima kasih. barang sudah sampai terimakasih. terima kasih ya warung olahraga. keren udah sampe gan bagus batnya. pesanan cepat sampainya , terimakasih. brg sampai dgn selamat  barang dah sampai smoga bisa memuaskan trimakasih. thanks gan barang udah diterima dengan baik , siang order sore nyampe. thank fast respon , barang dah diterima. mantab barang cepet sekali nyampenya , respon sangat baik barangnya juga ok terimakasih. barang sdh di terima gan , kasih. mantep , barang sesuai pesanan recomended. sangat puas dg barang ini , bagus punya. barang dah sampe gan , tanks ya. mantap gan , makasih. pesanan sdh nymp dg selamat , tengkyu smoga sukses slalu. makasih  barang sudah diterima gan , tp sayang katanya sesuai dengan pic nyampe nya kok yg lain sih. order yg kesekian kalinya tetap mantap receomded deh , tinggal nunggu bonusnya nih. sip untuk pemula , kontroly lumayan enk. barang dah keterima makasih  barang sudah diterima mas , mantap recomended deh. kayu nya tidak sesuai dngan yang d foto. mantaf  kayunya benar kering dan ringan sesuai dengan gambar. mantap jaya , barang bagus. terima kasih barang sudah sampai , kondisi baik sesuai pesanan. paket sudah diterima , terima kasih.",
         "Secara umum, mayoritas pelanggan memberikan respons positif terhadap produk ini, menyoroti kecepatan pengiriman sebagai poin utama yang memuaskan. Banyak pembeli menyatakan bahwa barang yang diterima sesuai dengan pesanan dan deskripsi, dengan kemasan yang baik dan kondisi produk yang memuaskan. Beberapa pelanggan bahkan menyebutkan respons penjual yang cepat dan ramah sebagai nilai tambah. Namun, terdapat beberapa catatan mengenai kualitas produk, seperti adanya cacat pada plywood, finishing yang perlu diperbaiki, dan perbedaan antara foto produk dengan barang yang diterima. Selain itu, ada permintaan tambahan untuk menyertakan karet sebagai pelengkap produk. Meskipun ada beberapa kekurangan, banyak pelanggan yang merekomendasikan produk ini, terutama bagi pemula, dan menyatakan kepuasan mereka secara keseluruhan. Kesimpulannya, produk ini memiliki potensi besar dengan kualitas yang baik dan pelayanan cepat, namun perlu ditingkatkan lagi dalam hal kontrol kualitas dan akurasi representasi visual produk.",
         "2068"
        ],
        [
         "22",
         "alhamdulillah paket sdh sampai , respon dan pelayanan cepat recommended deh mksh bos. barang sesuai pesanan tapi kalok bisa tambahin bonus isi staplesnya. produk bagus , cuma isinya agak susah sesuai deskripsi langsung dipakai ok dan mantul moga awet aja terima kasih. gan jual isi steples nya  barang bagus , respon cepat maaf ulasannya lambat. barang sudah diterima  makasih barang dah smpai dengan aman. barang sudah sampai dengan packing rapih , terimakasih gan. alhamdulillah barang nya sdh kami terima dgn baik , pesanan cepat sesuai dengan harapan 1 hari proses pengiriman mantap. paket sudah saya terima dengan baik , kasih banyak atas pelayanannya. barang udh nyampe gan , tks sukses terus house sparepart. barang sudah sampai , tetapi bingung cara penggunaannya krn tdk ada petunjuk pemakaian tulisannya bahasa china semuanya. alhamdulillah paket sdh sampai , respon dan pelayanan cepat recommended deh mksh bos. barang sesuai pesanan tapi kalok bisa tambahin bonus isi staplesnya. produk bagus , cuma isinya agak susah sesuai deskripsi langsung dipakai ok dan mantul moga awet aja terima kasih. gan jual isi steples nya  barang bagus , respon cepat maaf ulasannya lambat. barang sudah diterima  makasih barang dah smpai dengan aman. barang sudah sampai dengan packing rapih , terimakasih gan. alhamdulillah barang nya sdh kami terima dgn baik , pesanan cepat sesuai dengan harapan 1 hari proses pengiriman mantap. paket sudah saya terima dengan baik , kasih banyak atas pelayanannya. barang udh nyampe gan , tks sukses terus house sparepart. barang sudah sampai , tetapi bingung cara penggunaannya krn tdk ada petunjuk pemakaian tulisannya bahasa china semuanya.",
         "Secara keseluruhan, pelanggan sangat puas dengan kecepatan pengiriman dan pelayanan responsif dari House Sparepart, dengan banyak yang menekankan proses pemesanan hingga penerimaan barang yang cepatbahkan ada yang menyebutkan hanya butuh satu hari. Kualitas produk dinilai baik dan sesuai pesanan, namun beberapa pembeli menyarankan penambahan isi staples sebagai bonus atau opsi pembelian terpisah. Kekurangan utama terletak pada kurangnya petunjuk penggunaan dalam bahasa Indonesia atau Inggris, karena instruksi yang ada seluruhnya dalam bahasa China, menyebabkan kebingungan bagi sebagian pengguna. Meskipun demikian, mayoritas pembeli merekomendasikan produk dan toko ini, menunjukkan pengalaman positif secara umum dan harapan agar produk dapat bertahan lama. Kesimpulannya, House Sparepart unggul dalam layanan dan kecepatan, namun perlu meningkatkan aspek panduan penggunaan produk agar lebih ramah bagi semua pelanggan.",
         "1673"
        ],
        [
         "23",
         "thx gan pesanan udh sampe , recommended seller. terimakasih  mantul fast respon kaya. terima kasih , barang telah diterima semoga mantap akan order lagi. pas dengan yang saya cari , barang bagus. terimakasih barangnya sudah sampai  salah beli , kekecilan kualitas lumayan lah. barang sesuai deskripsi  mantap laah , harga murmer. sesuai deskripsi dan pengiriman cepat  trimaksh brang telah sampai dgn utuh  lumayan , cocok dengan harganya. mantab  mantap  barang sudah sampai gan , langsung ane pakai buat mbenerin kursi. kiriman lama tapi sesuai pesanan. dah sampe , makasih gan. recomended seller , thanks gan. pesanan sudah sampai , terima kasih. barang diterima sesuai pesanan , thx. biar bintang yg bicara  ok  fast respont , best seller. barang bagus sesuai pesanan mas thx. sesuai pesanan n proses cepat pertahankan y gan. thx gan pesanan udh sampe , recommended seller. terimakasih  mantul fast respon kaya. terima kasih , barang telah diterima semoga mantap akan order lagi. pas dengan yang saya cari , barang bagus. terimakasih barangnya sudah sampai  salah beli , kekecilan kualitas lumayan lah. barang sesuai deskripsi  mantap laah , harga murmer. sesuai deskripsi dan pengiriman cepat  trimaksh brang telah sampai dgn utuh  lumayan , cocok dengan harganya. mantab  mantap  barang sudah sampai gan , langsung ane pakai buat mbenerin kursi. kiriman lama tapi sesuai pesanan. dah sampe , makasih gan. recomended seller , thanks gan. pesanan sudah sampai , terima kasih. barang diterima sesuai pesanan , thx. biar bintang yg bicara  ok  fast respont , best seller. barang bagus sesuai pesanan mas thx. sesuai pesanan n proses cepat pertahankan y gan.",
         "Secara umum, mayoritas pelanggan memberikan respon positif terhadap produk dan pelayanan toko ini. Banyak pembeli memuji kecepatan respon penjual, pengiriman yang cepat, serta kesesuaian barang dengan deskripsi yang diberikan, menjadikannya pilihan yang tepat sesuai kebutuhan mereka. Beberapa pelanggan bahkan menyatakan kepuasan dengan kualitas produk yang lumayan dan harga yang terjangkau, serta langsung memanfaatkan barang untuk keperluan perbaikan. Meskipun demikian, terdapat beberapa ulasan yang menyebutkan adanya kesalahan pemesanan ukuran dan keluhan mengenai waktu pengiriman yang sedikit lama. Kendati demikian, secara keseluruhan, testimoni menunjukkan bahwa produk ini cukup baik dan toko ini direkomendasikan, terutama karena pelayanan yang ramah dan responsif, serta barang yang sesuai ekspektasi, menjadikannya opsi yang layak untuk dipertimbangkan.",
         "1659"
        ],
        [
         "24",
         "bolanya sedikit lebih ringan dibanding yg biasa saya pakai , tp bagus kok. barang sdh terima dengan baik komplit 1 bh. kualitas produk bagus , pengiriman loyo. barangnya sdh terima dg baik makasih. agak lama pengiriman barangnya. barang sdh terima dg baik. barang sdh terima dengan baik karena mungkin dari surabaya jadi hampir seminggu. mantap. jos. terima kasih , paket sdh sampai. pelayanan super mantap , barangnya top. barang sudah sy terima , cepat n packing rapi makasih boz. barang sesuai deskripsi. puas dgn servisnya , thanks. oke , bolanya bagus dan sesuai. barang sudah diterima  mantap sesuai keterangan bola seamless , sampai dgn aman recsell bgt. barang dah tiba dengan selamat , mantab. sampai dalam 2 hari pake jne yes , enak dipake dan ok banget. barang sdh diterima dlam kondisi baik terima kasih.",
         "Bola yang diterima umumnya sesuai deskripsi dan berkualitas baik, terutama model seamless yang banyak dipuji. Pelanggan merasa puas dengan kondisi barang saat diterima dan kerapian kemasan, serta kecepatan pengiriman via JNE YES. Namun, beberapa pembeli mengeluhkan waktu pengiriman yang lambat, terutama bagi mereka yang lokasinya jauh dari Surabaya. Secara keseluruhan, produk ini direkomendasikan karena kualitasnya bagus dan pengiriman yang cepat jika menggunakan opsi JNE YES, meskipun perlu diperhatikan potensi keterlambatan pengiriman standar.",
         "816"
        ],
        [
         "25",
         "barang ok sesuai ekspektasi , bahan cukup tebal n kuat pengiriman tidak terlalu lama dengan pakacking yg kokoh dan rapi cuma sayangnya ongkir mahal hampir 1 harga. bagus , sesuai penawaran. sesuai gambar , bagus recommended. barang bagussdd banget. packing barang bagus dan nya juga banget. barang ok , packing rapih cepat nyampe sip deh pokoknya. barang bagus dan pengiriman cepat. barang sesuai dengan deskripsi , seller responsif cepat sampai dan dipaking baik recommended. barangnya bagus , solusi untuk merapihkan penyimpanan sepatu. barangnya cpt sampai dan bagus. kondisinya sangat bagus. barang sesuai dengan harapan , pelayanan cepat memuaskan maksih boss.",
         "Secara umum, pembeli sangat puas dengan kualitas produk yang sesuai ekspektasi dan deskripsi, terutama pada ketebalan bahan serta kekuatan produk. Pengemasan dinilai kokoh, rapi, dan pengiriman cepat menjadi poin positif berulang. Beberapa pembeli menyoroti harga ongkir yang relatif mahal dibandingkan harga barang, namun tidak mengurangi kepuasan secara keseluruhan. Produk ini direkomendasikan sebagai solusi penyimpanan yang efektif, dengan pelayanan penjual yang responsif dan memuaskan. Kesimpulannya, produk ini menawarkan nilai yang baik meskipun biaya pengiriman perlu diperhatikan.",
         "665"
        ],
        [
         "26",
         "nah kalau hari ini baru datang tas , bukan kemarin gan sprtinya laporannya ketukar dg bet kmrn sy konfirmasi kedatangan malah gak bisa. penjual dan produk tdk bermasalah , kurir yg. mantap , trimakasih. barang baguss , packing rapi good. sudah diterima tanpa kekurangan , oke. thanks , barang sesuai pesanan dan sdh sampai fast respon. mantapz sekali , excellent. barang sudah diterima dengan baik packing rapi terima kasih  mendarat dengan sempurna , thanks gan. mantap , gan barang diterima dgn baik sesuai deskripsi. thanks barang sdh sampai dengan selamat packing mantap. mantap gan , makasih. kualitas barang sesuai harapan thx. barang sesuai gambar , pelayanan mantap thanks yaa. barang sudah diterima , terima kasih. covernya lumayan bagus , ada busanya biar bet yg didalam aman bahannya tebal retsleting bukan abal. thanks gan , barang sampai sesuai pesanan. covernya bagus , bahanny solid mantab bray. bagus dan murah tapi ada jahitan yang terbuka di tempat nyimpan bola. good product as described , recommended seller. barang udah sampai , oke seperti fotonya. tas donic utk bet ping pong ditrima dg baik sesuai warna yg dipilih , thx alot. barang telah di terima dengan baik , kasih.",
         "Secara keseluruhan, pembeli sangat puas dengan kualitas dan kondisi tas Donic untuk bet pingpong ini. Ulasan menyoroti ketepatan barang sesuai pesanan, deskripsi, dan foto, serta pengemasan yang rapi dan aman dengan adanya busa pelindung. Pelayanan penjual dinilai cepat dan responsif, sementara kurir juga mendapatkan apresiasi. Beberapa pembeli menyebutkan material tas cukup tebal dan kuat, dengan resleting yang berkualitas. Meskipun ada sedikit keluhan mengenai jahitan terbuka di bagian penyimpanan bola, namun hal ini tidak mengurangi kepuasan secara signifikan. Kesimpulannya, produk ini sangat direkomendasikan bagi para pemain pingpong yang mencari tas berkualitas dengan harga terjangkau.",
         "1194"
        ],
        [
         "27",
         "barang mantaap makasih gan  barang sesuai  barang berfungsi dengan baik dan seller juga responsif , terima kasih. ok , mantap batterai nya bekerja mudah awet. barang sesuai dgn deskripsi dan gambar , masih belum dicoba semoga berfungsi baik terima kasih. barang bagus sesuai deskripsi. respon cepat , barang sesuai pesanan recomended seller. barang udah sampai makasih. terima kasih , sudah sampai dan saya coba sesuai pesanan. barang sesuai dengan pesanan. mantab. barang sampe langsung coba , mudah mudahan awet. produk bagus , pengiriman cepat pelayanan komlain tanggap. ok , brgnya sdh sampe top dah. komplain saya batalkan , gk appalah ribet jadinya hrs return barang ini terima aj mskpun puas banget udh jelas kl perbedaanya sangat mencolok baik dari gambar maupun dr tektur material kw sama ori lain kali jangan gt bos kasian yg beli yang ngrti ch ngomong at lebih ngerasa jg kn jual kecuali tidak tau. matnap. thanks  penjual response cepat , barang sesuai mantap. baterainya oke punya , next mw order yg pico om. produknya sesuai dengan diskripsi produk , mudah kualitasnya jg terima kasih.",
         "Secara umum, pelanggan sangat puas dengan produk ini, menyoroti kesesuaian barang dengan deskripsi dan gambar, serta kualitas baterai yang baik dan tahan lama. Banyak pembeli memuji respon cepat penjual dan pelayanan komplain yang tanggap, meskipun ada satu kasus kekecewaan terkait perbedaan kualitas antara produk original dan kw yang dirasakan mencolok. Walau demikian, mayoritas pengalaman positif berpusat pada pengiriman cepat, fungsi produk yang normal, dan nilai yang sesuai dengan harga. Kesimpulannya, produk ini direkomendasikan bagi pembeli yang mencari barang sesuai deskripsi dengan pelayanan penjual yang baik, namun perlu diperhatikan potensi perbedaan kualitas produk jika ada pilihan varian original dan kw.",
         "1099"
        ],
        [
         "28",
         "terimakasih , pesanan sudah diterima. sukses deh buat reseller ini , respon cepat barang bagus dan ramah. barang sudah diterima dengan baik. barang diterima dalam kondisi baik. trima ksh bos  barang diterima dgn baik , sesuai dengan pesanan. mantab. barang sesuai deskripsi. barang sesuai , normal. barang aman n mantp peking bagus , semoga awet. pol  terimakasih gan , barang cepat sampai dan sudah di pake. puas pokoknya gan jos. baggus , recommended. paket diterima dengan baik dan aman , semoga awet. barang sudah sampai dengan baik , tp blom di cb nih smoga bgus n awet trima kasih.",
         "Pelanggan secara konsisten memuji kecepatan pengiriman dan kondisi barang yang diterima dengan baik, sesuai pesanan serta deskripsi. Banyak yang menyoroti keramahan penjual dan keamanan kemasan, menimbulkan harapan produk akan tahan lama. Secara keseluruhan, ulasan menunjukkan kepuasan tinggi terhadap kualitas produk dan pelayanan, menjadikan toko ini sangat direkomendasikan bagi pembeli lain.",
         "587"
        ],
        [
         "29",
         "thanks , recomended sangat laptop menyala kembali. bagus , barang berkualitas sukses selalu jos. terima kasih , barang sdh saya pelayanan ramah respon cepat. mantul mantap betul. mntap. pengiriman cepat , thanks. sesuai deskripsi , barang cepet sampai packing bagus recommended. barang sdh sampai dan sesuai deskripsi , trims. barang sudah sampai , pengiriman agak lambat tapi respon penjual cepat terimakasih kasih banyak semoga saja awet. mantabs terimakasih ya  udh sbulan pake ga ada masalah , good. terimakasih barang sudah diterima. barang sesuai pesanan good job. makasih kak , maaf telat konfirmasinya barang di terima dengan baik semoga bisa saya buat langganan sini. terimakasih  bintang berbicara , mantap gan barangnya paket rapi n pengiriman cepat langsung dipasang oke pisan. barang sesuai , mantap perbaiki respon pengiriman ya gan biar tambah sip thx.",
         "Secara umum, pelanggan sangat puas dengan kualitas laptop yang dibeli, banyak yang menyatakan barang berfungsi dengan baik setelah diterima dan sesuai dengan deskripsi. Kecepatan pengiriman menjadi perhatian beberapa pembeli, namun respon penjual dinilai cepat dan ramah sehingga mampu menutupi kekurangan tersebut. Pelanggan juga memuji pengemasan yang rapi dan aman. Kesimpulannya, produk ini direkomendasikan karena kualitasnya baik dan pelayanan penjual responsif, meskipun ada sedikit catatan terkait kecepatan pengiriman yang perlu ditingkatkan.",
         "867"
        ],
        [
         "30",
         "good sesuai deskripsi  pembelian kesekian kali , thanks seller. barang ori sesuai spek  pembelian yang kesekian kali , thanks seller. barang uda sampe , ssuai pesanan blom di coba sih tp thx for fast responses. maaf telat info , pembelian kesekian kali selalu puas dgn pelayanannya thanks seller. barang sudah diterima , seperti biasa penjual cepat respon dan sampainya recommend seller thanks. respon seller luar biasa cepat , begitu juga pengirimannya favorit deh mluar gan good job. brg murah dan asli , pengiriman cepat. barang sudah sampai , responnya cepat sekali recommended seller thanks. respond dari sellernya cepet banget , barang belum dicoba karna buat stock thanks seller. barang sudah sampai , thanks ya. lumayan murah bos , berjalan dengan baik. luar biasa , nga ragu lagi degh ama agan ini pasti ane jadiin langganan barang barus respons super cepat pokoknya mantabslah abis order sampe menit resi gojeknya langsung nongol.",
         "Pelanggan secara konsisten memuji kecepatan respons penjual dan pengiriman yang sangat cepat, bahkan seringkali mendapatkan nomor resi pengiriman gojek segera setelah pemesanan. Produk yang diterima selalu original sesuai deskripsi dan spesifikasi, dengan harga yang dianggap terjangkau. Banyak pelanggan menyatakan kepuasan berulang kali dan menjadikan toko ini sebagai favorit serta langganan karena pelayanan yang prima dan kualitas barang yang terjamin. Kesimpulannya, toko ini unggul dalam kecepatan pelayanan dan keaslian produk, menciptakan pengalaman belanja yang positif bagi pelanggan.",
         "940"
        ],
        [
         "31",
         "pembelian kesekian kali , thanks seller. lancar luncur  sesuai pesanan mudah mudahan awet. barang sesuai spek , ori. pembelian yang kesekian kali , thanks seller. barangnya sdh sampai terima kasih. maaf telat info , pembelian kesekian kali selalu puas dgn pelayanannya thanks seller. penjualannya ramah dan respon cepat. original , recomended seller pengiriman cepat fast. produk yg diterima sesuai dengan deskripsi , respon cepat thanks. respond dari sellernya cepet banget , barang belum dicoba karna buat stock thanks seller. sip , biar bintang yang bicara bos. barang sudah di terima mksh dengan komdisi baik. tks gan.",
         "Pelanggan menunjukkan kepuasan tinggi dengan pembelian berulang, menyoroti pelayanan penjual yang ramah dan responsif, serta pengiriman yang cepat. Produk dinilai orisinal, sesuai deskripsi dan spesifikasi, dengan harapan kualitas tahan lama. Secara keseluruhan, pengalaman positif ini didukung oleh komunikasi yang baik dan kondisi barang yang diterima prima, menjadikan toko ini sangat direkomendasikan.",
         "622"
        ],
        [
         "32",
         "mantap , pengiriman cepat barang terjamin top pokoknya. barang bagus , sesuai deskripsi. barang sesuai dengan pesanan kemasannya rapi pokoknya bagus. wow , ini ekspetasi pngiriman diluar dugaan cepet bngt mantap dan juga sesuai deskripsi sukses selalu rec seller. pengiriman sangat cepat di packing , sayang tidak safety tapi yah seller menduakan walaupun gojek. bagus banget kenceng wus. thank udah di terima kwalitas oke. barang sesuai deskripsi  barang sudah diterima , tks. barang sdh diterima thank. pengiriman cepat respon , terimakasih. sip , biar bintang yang bicara bos. barang sudah sampe , ok good service deh pokoknya. barang ok gan , thanks smoga berlanjut.",
         "Pengiriman produk ini secara konsisten mendapat pujian atas kecepatannya, bahkan melampaui ekspektasi pelanggan. Kualitas barang dinilai baik dan sesuai dengan deskripsi serta pesanan, dengan kemasan yang rapi meskipun ada beberapa catatan mengenai keamanan packing. Pelanggan juga mengapresiasi respon penjual yang baik dan pelayanan yang memuaskan, secara keseluruhan memberikan pengalaman berbelanja positif dan merekomendasikan produk ini.",
         "670"
        ],
        [
         "33",
         "fast respons , packing rapi. barang sudah sampai sesuai dengan deskripsi , lagi dicoba terima kasih. packing aman , agak lama nyampenya. bagus , saya ajukan komplain pun dilayani dgn baik. barangnya sudah sampai gan terimakasih. barang belum di test , packing aman rapih. barang yang dikirim sesuai pesanan , packing rapi dan kuat waktu pengiriman cepat hanya 2 hari dari pemesanan sudah diterima kualitas bagus baterai bisa tahan jam lebih untuk pemakaian normal tetap dipertahankan dalam pelayanan. produk bekerja dengan baik amp kuat , walaupun lama pengirimnannya dan masih dimaklumi dikarenakan pakai expedisi yang tidak boleh via udara tapi secara keseluruhan ga masalah thx.",
         "Pelanggan umumnya puas dengan kualitas produk dan kerapian kemasan yang aman, meski beberapa menyebutkan waktu pengiriman sedikit lama karena keterbatasan ekspedisi. Pelayanan toko dinilai sangat baik dan responsif, terutama dalam menangani komplain. Produk berfungsi sesuai deskripsi dengan daya tahan baterai yang memuaskan untuk penggunaan normal, menjadikan produk ini rekomendasi yang baik meskipun ada kendala pengiriman. Secara keseluruhan, pengalaman berbelanja positif didukung kualitas produk dan layanan purna jual yang memadai.",
         "681"
        ],
        [
         "34",
         "barang original , di pakai langsung konek recommended seller fast respon thanks gan moga makin maju toko nya. produk bagus sesuai gambar , kalau lagi lancar mantap tapi agak susah setup nya kadang wifi flashair mati jadi ga bisa konek ke hp android eyefi di on dan sd card update malah kenal sama kamera kudu sabar nyetting. barang sesuai gbr , respon penjual cepat terima ksh. mantap langsung backup secara real time. baramg sudah diterima dengan baik tp blm dicoba apakah berfungsi dg atau tidak  termurah dn terbaik , mantapp. belajar menghitung yuk , coba ada berapa bintangnya. liat bintang aja ya gan , tuh ada lima. produk sesuai dan pengiriman cepat. recommended seller , mantap gan terima kasih. mantap jiwa respon dan pengirimannya. bagus dan simple produk. mantab , semua sesuai dengan deskripsi. bagus sejauh ini berfungsi dengan baik di 5d mark ii , cmn antara hp kamera harus sangat dekat. kualitas barang sangat ok , berfungsi dengan baik respon dan pengiriman cepat recommended seller. flash air toshiba sd card wirelless 3 gb. barang bagus , thanks. respon cepat , pengiriman recommended seller. barang sesuai , dalam keadaan baik dan sellernya juga cihui banget fast act tau udah sampe di rumah kece lah. nice , trims yaa. barang sudah sampe cepat dan maknyus. produk sesuai dengan deskripsi , pengiriman kilat packing rapih semoga gak ada kendala sama barangnya. agan yang satu ini masuk daftar recommended seller , for fast rsponse. bagus , dan cepat sampai barangnya. terimakasih barang sudah sampai dengan baik , fast response. agak nyerot batrai tapi konek lancar transf cepat. pelayanannya bagus dan pengirimannya cepat  paket sudah diterima dengan baik , cuman blm dicoba terima kasih. barang sesuai foto , semoga awet tidak ada keluhan. produknya asli dan bagus , berjalan dengan baik pengirimannya juga sangat cepat thank you yah. barang sampai dengan aman , pengiriman sangat cepat packing rapi dan recommended. produk sesuai , fast response harga bersaing ok nih belanja di sj komputer. produk yg diterima sesuai dengan diharapkan kecepatan pengiriman juga baik. super cepet sampenya , flashairnya juga bisa digunakan dengan baik puas trimakasi. barang sudah sampai dengan aman , respon juga cepat terima kasih. bagus barangnya , cepat pengirimannya. pengiriman cepat , produk berfungsi dengan baik. barang sudah terima dan sesuai spec product  terima kasih banyak boss barang sdh sampai dengan selamat. mantap , sesuai deskripsi barang new. toshiba flash air wireless nya mantap , respon cepat recommended seller. barang sesuai pengiriman sangat cepat  sesuai gambar , dan bekerja dengan baik. bagus sangat berguna wifinya dan capet pelayanannya.",
         "Secara keseluruhan, produk Toshiba FlashAir Wireless ini mendapat sambutan positif dari pembeli, terutama karena kemudahan koneksi, kecepatan transfer data, dan respons cepat dari penjual. Banyak pelanggan memuji produk ini sebagai barang original yang berfungsi sesuai deskripsi dan gambar, dengan pengiriman yang sangat cepat dan kemasan yang rapi. Beberapa pengguna menyoroti kemampuannya untuk melakukan backup secara realtime dan kompatibilitasnya dengan berbagai model kamera, seperti Canon 5D Mark II. Meskipun demikian, ada beberapa catatan mengenai proses setup yang terkadang memerlukan kesabaran karena potensi masalah koneksi WiFi atau deteksi kartu SD pada kamera, serta sedikit konsumsi daya baterai. Namun, mayoritas pembeli merasa puas dengan performa produk, pelayanan penjual yang ramah dan cepat tanggap, serta harga yang kompetitif. Penjual secara konsisten direkomendasikan karena kecepatan respons dan pengiriman, menjadikan pengalaman berbelanja secara keseluruhan sangat positif. Kesimpulannya, produk ini adalah pilihan yang baik bagi fotografer yang mencari solusi transfer data nirkabel yang praktis dan efisien, dengan dukungan penjual yang memuaskan.",
         "2676"
        ],
        [
         "35",
         "barang oke sudah dipasang , packing rapi dan aman. barang sudah diterima , tapi belum di coba trim3s buat toko ini. ori dan berfungsi dengan baik. kemasan rapih , pengiriman cepat. barang sudah sampai tp dicoba semoga bisa dan awet , thx. bagus barangnya , ori sayang kirimnya lamo sekali. respon cepat , packing bagus dan aman baterainya sempat susah dipasang panik tapi dicoba lagi ternyata harus agak ditekan sedikit karna presisinya ukurannya kurang kayanya sudah di charge berfungsi normal mungkin untuk customer lain yg kebetulan dapat barang nyangkut kayak punya saya dulu saja tekan dicari posisi yang pas namanya bukan baterai asli biasanya tidak selalu banget sukses terus ya jualannya. barang sudah diterima dalam keadaan baik. pemesanan diproses secepat kilat. sudah dicoba dan oke , trims. mantaab , super cepat barang bagus trims gan.",
         "Secara umum, pelanggan sangat puas dengan kualitas produk yang asli dan berfungsi baik, serta pengemasan yang rapi dan aman. Kecepatan pengiriman menjadi perhatian utama, beberapa pelanggan mengeluhkan keterlambatan, namun banyak juga yang memuji kecepatan proses dan pengiriman. Terdapat sedikit kendala pada pemasangan baterai yang membutuhkan sedikit tekanan karena presisi ukuran, namun secara keseluruhan produk dapat digunakan dengan baik setelah dicoba. Pelanggan juga menghargai respon cepat dari penjual dan merekomendasikan toko ini, menunjukkan pengalaman positif secara keseluruhan meskipun ada sedikit kekurangan pada detail pemasangan.",
         "848"
        ],
        [
         "36",
         "mantap gan , respon cepat paket sudah sampai dg baik barang sesuai pesanan semoga awet makasih. cepat , barang sesuai deskripsi. seller fast respon , pengiriman cepat kualitas barang sepertinya original tapi belum ditest smoga awet good luck. thank you ada kendala fast respon. maknyoeez gan barang sdh sampai di tkp. fast respond and delivery. mantab , respon cepat brg sesuai info. mantap  bagus_. hasil testing ok , semoga awet trm ksh. terimakasih  barang diterima dgn baik pengiriman cepat dan respon jg. terima kasih sesuai dgn harapan. brngnya sdh diterima dgn baik , dites dan normal semoga awet trima ksh.",
         "Pelanggan sangat puas dengan kecepatan respon penjual dan pengiriman yang kilat, serta kondisi barang yang sesuai deskripsi dan pesanan. Banyak pembeli memuji kualitas produk yang tampak orisinal dan berfungsi normal setelah diuji, dengan harapan daya tahan yang baik. Secara keseluruhan, pengalaman berbelanja dinilai positif dan memuaskan, menjadikan produk ini rekomendasi yang solid bagi calon pembeli karena pelayanan prima dan kualitas terjamin.",
         "614"
        ],
        [
         "37",
         "tidak salah pilih , meskipun sempat terkendala kesalahan dari jnt tetapi respon dan produk terbaik. barang sudah sampai dengan selamat , semoga baterainya awet terima kasih. murah , barang sampai dgn cepat packing ok sudah ditest utk vaio vpcyb3ag kondisi battere bekerja dengan baik recommended seller. barang cepat sampai , sesuai deskripsi penjual respon sangat masih menunggu masa garansi 3 bulan untuk lihat performa battery makasih banyak. baterai berfungsi dengan baik. barang diterima dengan baik , pengiriman cepat packing aman. muantaap gan , rekommended seller. barang sesuai deskripsi , walau pengiriman agak lama tapi saya masi oke. barang lumayan oke , sesuai harapan. packing rapi , pengiriman cepat barang sesuai spesifikasi baru dicoba semoga cocok dan awet. mantab produknya keren deh. product sesuai , dan compatible pengiriman juga cepat makasih atas kerjasamanya tx. good , recoanded seller. oke barang baru dicoba user , semoga awet dan ga ada masalah kalo bisa buat langganan tks. mantaap , respon cepat baterai fungsi dengan baik. sdh sebulan pakai , masih berfungsi dgn baik. barang sesuai dengan deskripsi , original cuman agak panas saat dipakai lama semoga awet. nice packing , recommended seller. kemasan kirim baik dan cepat. responsif dan barang bs digunakan  sesuai pesanan recommended seller  barang cepat sampai , packing qman. mantap bos  layanan cepat dan memuaskan , baterai bisa digunakan dgn baik di laptop sy. mantap  produk baik , respon cepat walaupun harus ngecas dulu baterainya. produk bekerja dengan baik amp kuat , barang bagus cepat sampai recommended. paket sudah diterima gan  produk sesuai deskripsi , baterai bisa tahan 4 5 jam lebih di save mode dengan kondisi brightness full packing rapih dan aman respon seller juga cepat recommended thanks. packing cakep rapih sekali , belom tes si semoga awet dan bekerja dengan baik thanks yah. barang bagus , cocok sama laptopnya pengiriman cepat. packing rapi , baterai direplace sesuai sama eksisting cma kalo baru belum terisi ya ini lgi charge. kereen , mantaab. sesuai hrapan , trima kasih. sesuai speck dan pas dengan yang diinginkan. fast respon , barang sampai dengan selamat dan batrenya juga awett. juos  barang sesuai deskripsi. bagus dan sesuai dengan deskripsi. barang ok , kiriman cepat. barang mantap , sesuai harapan. barang mantap , sesuai harapan. mantabs , delivery cepat packing cakep tinggal test drive tq. bekerja dengan baik , teksture luaran baterai beda original agak keras lock ke badan laptop mungkin kw. istimewa barangnya , walaupun lama sih yang membuat dari sisi pengiriman jne menginap di jakarta dua malam. barang dah sampai , maap baru kasih ulasan. langsung pas waktu di pasang. nice , barang bagus recommended. semoga batre nya kuat melebihi masa garansi. produk oke aja sih , tapi sepertinya ga bakal panjang umur baru pake udah ada warning seperti di gambar penjualnya fast respon bahasa tidak memuaskan jadi bintang 4 ya. pesan tapi stok kosong , diganti vgpbps2a dan masih compatible dengan leptopnya semoga kualitasnya bagus untuk seller nya fast respon pengiriman cepat. barang sudah diterima , ok. tetima kasih gan  terima kasih , laptopnya sdh bisa d pakai lagi. mantap gan. ukuran dan warna sesuai dengan foto  pengemasan barang rapih , respon penjual cepat sedikit merasa deg degan takut tidak cocok soalnya yg diminta tipe 2b dan dikirim 1 1b tapi ternyata sama saja berfungsi dengan baik semoga awet dipakainya. reply dari penjual cepat , barang sampai dlm kondisi baik dan sesuai pesanan recommended. tq kak , baru plg dri kampung mantap. pelayanan komplain sangat bagus. mantap pelayanan cepat , recomended seller. respon cepat , barang oke. tibanya cepat dan berfungsi dengan baik. mantap  barangnya sdh sampai dicoba tp cepat panas. mantap  terima kasih gan , barang sudah diterima responnya cepat packingnya rapi recomended seller. sudah landing di flores gan barangnya , cepat rapih. alhamdulillah sudah sampai , walau ada sedikit misscom pengen pake jnt malah jne. barang sudah diterima dengan baik thanks. barang sesuai pesanan , bungkus rapih dan aman cepat sampai terimakasih. mudah mudahan awet , tq. smoga awet  baguss sudah bisa dipakai , sampai dengan cepat. barang dalam kondisi baik , packing biasa semoga awet rec sell. compatible dgn seri baterai yg diminta , hanya chargingnya agak lama. barang bagus , penjual sangat ramah dan tanggapannya cepat packing rapi recommended seller. barang yang dipesan sudah sampai dengan aman , tidak membuat saya menunggu lama terima kasih tokopedia com as computer karena cari tergolong susah di pasaran indonesia. barang udah saya terima dlm keadaan utuh , mksh bos.",
         "Secara keseluruhan, mayoritas pelanggan memberikan respon positif terhadap pembelian baterai laptop ini, dengan penekanan utama pada kecepatan pengiriman dan keramahan penjual dalam merespon pertanyaan atau keluhan. Banyak pembeli memuji kemasan yang rapi dan aman, serta kompatibilitas baterai dengan berbagai model laptop, termasuk Vaio VPCYB3AG. Pengujian awal menunjukkan baterai berfungsi dengan baik, bahkan beberapa pengguna melaporkan daya tahan yang cukup baik dalam mode hemat energi, mencapai 45 jam dengan pengaturan kecerahan penuh. Meskipun demikian, beberapa ulasan menyoroti adanya sedikit kekhawatiran mengenai panas yang dihasilkan baterai saat penggunaan intensif atau lama, serta perbedaan tekstur dibandingkan dengan baterai original. Ada juga beberapa kasus kesalahan pengiriman oleh kurir JNTJNE yang sempat menimbulkan kekhawatiran, namun respons cepat dari penjual berhasil mengatasi masalah tersebut. Beberapa pembeli juga mengalami kendala pada pengisian daya awal atau menerima penggantian tipe baterai yang sedikit berbeda namun tetap kompatibel. Terlepas dari beberapa catatan minor tersebut, secara umum produk ini dinilai sebagai solusi yang efektif dan terjangkau untuk mengganti baterai laptop yang rusak, dengan banyak pembeli menyatakan kepuasan dan merekomendasikan penjual kepada calon pembeli lainnya, terutama karena pelayanan yang responsif dan pengiriman yang cepat, menjadikan pengalaman berbelanja terasa menyenangkan dan meyakinkan.",
         "4662"
        ],
        [
         "38",
         "barangn sudah datang , berfungsi normal semoga awet. puas , langsung di coba n berfungsi sesuai harapan mana ada garansi 3 bulan mantap. terimakasih produk sesuai gambar , pengiriman proses cepat packing rapi. terima kasih barang sudah diterima , semoga barangnya awet. mantap , sesuai dengan deskripsi semoga awet batre nya sukses gan. produk sesuai pesanan , dipack rapi dan disegel batterynya dari pesan hari minggu sampai selasa via jne memuaskan. siip banget , cm kendala expedisi yg bikin jutek. produk bekerja dg baik amp pengiriman cepat. packing rapi , barang baru dicoba mudah mudahan tidak ada mslh. respon cepat , barang ori sesuai deskripsi packing rapi recommended. good services and great product , thanks. respon cepet bgt , nyampe juga agan nya ramah recomended lah terina kasih. respon lumayan cepat , barang bagus sesuai pesanan. tks , sdh sampe respon cepet semoga awet. terima kasih , recommended seller. produk sesuai deskripsi , barang baru dan ori thanks seller. bagus , sesuai pesanan semoga tahan lama. sesuai pesanan , terima kasih. barang sudah tiba sesuai pesanan , seller fast response packing oke kurang dari jam sampe recommended terima kasih.",
         "Secara keseluruhan, pelanggan sangat puas dengan pembelian mereka, menyoroti fungsi produk yang normal dan sesuai deskripsi, serta kualitas orisinalitas yang terjamin. Pengiriman dinilai cepat dan pengepakan sangat rapi, meski ada beberapa kendala terkait ekspedisi. Pelanggan juga mengapresiasi respon penjual yang cepat dan keramahan dalam pelayanan. Harapan utama yang berulang adalah daya tahan produk dan baterai dalam jangka panjang, didukung adanya garansi 3 bulan yang memberikan rasa aman. Kesimpulannya, produk ini direkomendasikan karena kualitas, kecepatan pengiriman, dan pelayanan penjual yang baik, menjadikannya pilihan tepat bagi calon pembeli.",
         "1175"
        ],
        [
         "39",
         "pembelian kesekian kali , thanks seller. super kilat , terima kasih sudah membantu. barang sudah sampai , thanks seller. thx ya gan , barang udah sampe dan di coba bagus n ga ada masalah. pesanan dah sampai , pesenan segera direspons layak jadi favorit seller. harga murah dan kualitas wah. ok  pengiriman cepat , top banget. barang cepat sampai dan sesuai. fast respon , recomended. oke. fast respon , sip. barang bagus sesuai pesanan tq. oke. barang sudah diterima dengan hri yg sama , thanks punya lapak n good job. paket sudah diterima , thanks gan. mantap , pengiriman cepat trims semoga bisa terus bermitra. barang telah diterima dengan baik dan berfungsi , thanks.",
         "Pelanggan sangat puas dengan kecepatan pengiriman produk yang luar biasa, seringkali diterima di hari yang sama atau sangat cepat. Respon penjual dinilai sangat baik dan membantu, menjadikan toko ini favorit. Kualitas barang sesuai ekspektasi dengan harga yang terjangkau, banyak pembeli menyatakan barang berfungsi dengan baik dan tanpa masalah. Kesimpulannya, toko ini unggul dalam pelayanan cepat dan produk berkualitas, menciptakan pengalaman belanja yang positif bagi pelanggan.",
         "671"
        ],
        [
         "40",
         "respon penjual oke , pengiriman packing. pembelian kesekian kali , thanks seller. dipasang langsung ok , terimakasih. respon cepat , sellernya ramah dan barang sesuai pesanan terima kasih. tinta sudah terpasang dan dapat mencetak dgn baik , barang terkirim spt foto. produk baru dan bagus tapi pembukus paket cuma pakai selembar plastik rawan rusak barangnya  barang cepat sampai dan respon. barang sampai dengan hari yang sama thanks utk yg punya lapak , good job n fast respon. tinta printerneya mantap jaya baru taoi murah sekali. barang udh nympe , cpt via gojek langsung prose tp blm smpat di tes semoga bagusori sesuai deskripsi awal. paket sudah diterima , thanks gan. mantap , pengiriman cepat trims semoga bisa terus bermitra. barang telah diterima dan berfungsi dengan baik , thanks.",
         "Pelanggan secara konsisten memuji kecepatan pengiriman dan respon penjual yang ramah serta membantu, terutama melalui layanan pengiriman instan seperti Gojek. Kualitas produk tinta printer dinilai baik, berfungsi sesuai deskripsi, dan harganya terjangkau. Beberapa pelanggan menyoroti pembelian berulang mereka, menunjukkan kepuasan jangka panjang. Namun, ada kekhawatiran mengenai kualitas kemasan yang minim, hanya menggunakan plastik tipis yang berpotensi menyebabkan kerusakan barang selama pengiriman. Secara keseluruhan, produk ini direkomendasikan karena performa dan layanan yang cepat, namun perlu ditingkatkan perlindungan kemasannya.",
         "793"
        ],
        [
         "41",
         "mantap respon cepat , paket sampai. barang sesuai dan bagus. baterai nya pas sama laptop , sejauh ini di pake lancar dan semoga awet untuk seller fast respon abis. mantap , barang cpt sampai moga awet. barang sudah mendarat dgn selamat , moga awet makasih ya gansis. fast respons , diem barangnya udh dikirim aja mantap. alhmdulillah sdh sampe , sellerny fast response mantap. barang sudah diterima hari ini , respon penjual bagus cuma di jne kiriman dalam kota 9 sembilan baru nyampe trims. mantab jaya , respon bintang 5 seler sabar dan cooperatif. paket sudah diterima , barang sesuai dengan yang diinginkan. barang sesuai , seller ok.",
         "Pelanggan sangat puas dengan kecepatan respons penjual dan pengiriman yang cepat, bahkan beberapa menyebutnya mantap dan memberikan bintang 5. Kondisi barang sesuai pesanan dan berfungsi dengan baik pada laptop mereka, dengan harapan baterai akan tahan lama. Meskipun ada sedikit kendala pada pengiriman JNE dalam kota, secara keseluruhan pengalaman berbelanja positif dan penjual dinilai sabar serta kooperatif. Kesimpulannya, produk ini direkomendasikan karena kualitas barang dan pelayanan penjual yang prima.",
         "638"
        ],
        [
         "42",
         "barang sudah diterima , terimakasih. mantul gan , barang berfungsi dengan baik dan sampe tepat waktu tengkyu sukses selalu. produk original , bisa dicharge cari baterai thinkpad disini aja. sesuai deskripsi dan cocok dengan type laptop sy lenovo thinkpad edge , berfungsi baik mudah mudahan awet garansinya 3 bulan seperti nya original baterai lebih murah drpd beli di toko offline yang sdh coba jg liat ga jauh beda kok rata cm 1 berani jamin sampai. respon penjual bagus dalam melayani klaim return , oke. barang ok , pengiriman paking. produk original , proses cepat terimakasih. sesuai dengan deskripsi , barang bagus. cepat sampe , testing ok battery is charged bisa. barang sudah diterima dan berfungsi dengan baik. barang sampai dengan selamat , sesuai deskripsi bekerja baik ekspektasi compatible laptop saya penjual fast respon dan produk cepat dikirim recommended. rekommended ini lapak , semoga awet barangnya. terimakasih , barang sudah diterima kualitas dan akurasi sesuai deskripsi. gud. batt smp skrg sih gk ada masalah , berarti nya oke. produk sesuai pesanan dan pengiriman cepat. thanks gan  barang sudah sampai , sesuai dengan pic dipasang recomended. fast respond , lg dicoba. respon cepat , barang bagus thx ya. barang kedua baru cocok , penjualnya tanggung jawab. produk berfungsi dengan baik , cuman agak kembung dari yg asli bawaan. barang bagus cepat sampe sukses selalu gan. terbaik dan terpercaya. barang sudah diterima  keren gan , bisa di tempel dibelakang laptop. barang sesuai pesanan terima kasih. barang sdh di terima , tapi belom sempet test respon seller dan pengiriman super cepat keren. barang sudah terima , tinggal test aja makasih gan. barang oke banget , recommended seller. bisa digunakan dengan baik , tp kurang pas setelannya. brg sampe dgn selamat n bfungsi baik  barang sdh sampe gan , bagus. belum sempat dicoba , semoga oke.",
         "Secara keseluruhan, mayoritas pelanggan memberikan tanggapan positif terhadap baterai laptop Thinkpad ini, menyoroti kesesuaian produk dengan deskripsi dan kompatibilitasnya dengan berbagai tipe Lenovo Thinkpad Edge. Banyak pembeli memuji kualitas produk yang terasa original dengan harga lebih terjangkau dibandingkan toko fisik, serta kecepatan pengiriman dan respon penjual yang sangat baik, terutama dalam menangani klaim return. Beberapa pengguna melaporkan baterai berfungsi optimal setelah dipasang dan diuji, bahkan ada yang menyatakan baterai ini sebagai solusi tepat untuk penggantian. Meskipun ada sedikit kekhawatiran mengenai sedikitnya perbedaan fisik agak kembung dibandingkan baterai asli bawaan dan perlu penyesuaian setting, namun secara umum performa baterai dinilai baik dan dapat digunakan. Kesimpulannya, produk ini direkomendasikan bagi pengguna Thinkpad yang mencari baterai pengganti berkualitas dengan pelayanan yang responsif dan pengiriman cepat.",
         "1872"
        ],
        [
         "43",
         "mudah mudahan awet gan , thanks. mdh mdhan awet dan berguna. baterainya mantap , mudah3an awet lahh. original dan sesuai gambar. spesifikasi produk sesuai dengan keterangan , original packaging rapi dan aman pengiriman jadwal yang ditargetkan unit baterai sudah dites kapasitas tercantum recommended seller. original , packing aman dites sesuai spek. barang sesuai pesanan dan respon memuaskan , recomended. recomended seller , barang lagi di tes. good product , recommended. terima kasih barang nya ok. sesuai deskripsi , paket rapi n tidak ada cacat. pembelian lumayan sering cuma harga sekarang agak naik  lumayan ok , barang bagus. barang sesuai pesanan  okeh lah sesuai deskripsi. sesuai dengan deskripsi , kondisi baru semoga awet. barang sesuai dengan pesanan , packing bagus amp rapi thank3s. fast respon seller , setiap pertanyaan selalu di respons dgn cepat dan baik pertahankan. pemesanan diproses secepat kilat. sempet ada kendala dibarang , tapi seller sangat responsif memberikan solusi recommended. cukup lumayan , barang sesuai.",
         "Secara keseluruhan, pembeli sangat puas dengan produk baterai ini, menyoroti keaslian produk yang konsisten sesuai gambar dan deskripsi, serta pengemasan yang aman dan rapi. Banyak pelanggan memuji ketanggapan penjual dalam memberikan solusi atas kendala yang mungkin timbul, dan kecepatan proses pemesanan menjadi nilai tambah. Ulasan juga menekankan harapan agar baterai tahan lama, namun sebagian besar meyakini kualitas produknya baik dan layak direkomendasikan. Meskipun ada sedikit keluhan mengenai kenaikan harga, performa dan pelayanan tetap dinilai positif, menjadikan produk ini pilihan yang cukup lumayan dan terpercaya bagi konsumen.",
         "1044"
        ],
        [
         "44",
         "barangnya mantul , packaging juga oke cuman kalo lowbet dia langsung mati kenapa ya. sipp , baterainya bagus smoga awet. barang datang sesuai , kondisi mantap gan. mantab , smoga awet terimakasih bos. sudah di pakai 3 bulan dan masih oke lah. pengiriman cepat , brg packing oke seller responsive. sudah diterima , sesuai dengan yg dijual semoga awet. produk original , makasi ya gan recommended seller. mantap  barang sesuai pesanan  sudah samapai tp belum dicoba. respon chat cepat , packing baik recommended seller sampai barang sesuai pesanan. semoga awet , lancar jaya amiin. respon penjual cepat , tulisan brg sich tp mdh mdhan digunakan di thank u gan atas cepatnya awet. terimakasih barang sudah sampai dirumah. barang sudah sampai dengan cepat dan kondisi masih segel tidak ada cacat , mengecewakan konsumen thx as komputer dah kasih pelayanan ke. barang oke berfungsi dg baik , biar lambat asal selamat semoga toko tambah laris manis makasih ya gan. nice sesuai pesanan aman dari serangan balik. pemesanan diproses sexepat kilat. pemesanan diproses secepat kilat. pemesanan di proses secepat kilat. sudah di coba , semoga awet kualitas barang bagus mendekati original.",
         "Secara umum, pembeli sangat puas dengan produk ini, menyoroti kualitas barang yang baik dan mendekati original, serta pengiriman yang cepat dan aman dengan packing yang rapi. Banyak pelanggan memuji respon penjual yang cepat dan keramahan dalam melayani. Beberapa pengguna melaporkan pengalaman positif setelah penggunaan selama beberapa bulan, menyatakan produk masih berfungsi dengan baik. Namun, ada beberapa kekhawatiran mengenai daya tahan baterai pada penggunaan dengan setting rendah lowbet yang menyebabkan perangkat mati, serta harapan agar produk dapat bertahan lama. Kesimpulannya, produk ini direkomendasikan bagi pembeli yang mencari kualitas baik dengan pelayanan responsif, namun perlu diperhatikan potensi masalah daya tahan baterai pada kondisi tertentu.",
         "1177"
        ],
        [
         "45",
         "sesuai pesanan , rekomended seller. barang nya udah sampai , respon sangat cpt dan brg bener sudah di pake dengan normal thanks gan lain kali ane beli sini lg. tested , recommended seller. barang mantabs , sesuai thread. fast respon , harga kaki lima kualitas bintang. fast respon , belum dicoba mudah mudahan bagus. barang sudah diterima dalam keadaan baik , langsung bisa dipakai terima kasih atas kecepatan pengirimannya. excellent services gan terima kasih. barang bagus semoga awet  pengiriman cepat banget , belum di tes sih semoga tidak ada kendala. pelayanan dan pengiriman sangat cepat , top sukses selalu. so far good , fast respon. pengiriman bagus aman barangnya , untuk kualitas nunggu seminggu pemakain br bs nilai hehee thx om. barang dah sampai mudah mudahan awet. pengiriman cepat , baterei oke thanks. mantap gan , dan bintang. test ok jalan , pengiriman cepat cuma kena sabtu minggu jadi baru bisa hari ini. barang sudah diterima dan berfungsi dengan baik , thx. mantap gan , produk bekerja dengan baik dan top markotop pokoe biarkan bintang yang berbicara. pemesanan diproses secepat kilat.",
         "Secara keseluruhan, pelanggan sangat puas dengan kecepatan pelayanan dan pengiriman produk dari toko ini, banyak yang menyebutnya cepat bahkan secepat kilat. Kualitas produk dinilai baik, dengan beberapa pembeli langsung menguji dan menyatakan berfungsi normal, sementara yang lain menantikan hasil pemakaian jangka panjang. Harga yang ditawarkan dianggap sangat terjangkau dengan kualitas yang memadai, bahkan ada yang menyebutnya harga kaki lima kualitas bintang. Respon penjual juga mendapat apresiasi positif, menunjukkan pelayanan yang prima dan membantu. Kesimpulannya, produk ini direkomendasikan bagi pembeli yang mencari barang berkualitas dengan pelayanan cepat dan harga bersahabat.",
         "1110"
        ],
        [
         "46",
         "maaf telat review , barang bagus terima kasih. sdah dites , baterai kuat 3 jam tes film. yang kedua kali , baterainya selalu mancap. respond cepat product ok. super battery berfungsi dengan normal , semoga awet. mantap barang sesuai pesanan , thanks. bagus dan murah pastinya , sesuai lah. order jam 4 sampe 7 super cepat , untuk kualitas barang belum di coba semoga normal. kualitas batre bagus , dipakai nonton film baru habis kisaran 3 4 jam packing tebal dan rapat puas rencana mau order lg untuk acer. barang dibungkus rapi , respon cepat kualitas masih belum dites nanti tak update setelah di tes. so far uda coba tes bbrpa software seperti android studio dan geny motion sebagai emulator , pada awalnya baterai cukup kuat namun setelah menitan langsung turun dari menjadi 6 jika dipakai utk sekedar browsing ketik saya yakin akan tahan jauh lebih lama good enough product recommended naskah coding di ide berbasis teks. pesan hari ini , kirim produk pas tidak bercacat memakai bubble respon penjual tanggap terima kasih. alhamdulillah barang sampai dan sesuai dengan deskripsi produk , sukses terus ya gan. pelayanan cukup bagus sih , kalau urusan barang mungkin sama aja kaya di lapak lain karena memang semuanya vendor nya merk sanyo saran buat penjual usahain quality control dulu barangnnya seblum dikasihin ke pembeli. pengiriman sangat cepat , peniual responsif barang oke. baterai sesuai deskripsi , versi 6 cell tapi yasudahlah yang penting seperti baru laporan sehat tetapi saya masih belum tahu berapa lama tahannya. barang bagus , sempat mengalami masalah pada battere namun dibantu claim garansi tukar baru sampai clear rekomended seller. barang bagus , sudah berkali kali beli ditoko ini. alhamdulillah baterai sudah sampai dan pemakaian kurleb 2 jam dalam normal , semoga awet sukses terus jualannya. barang bagus , respon seller cepat sdh kesekian kali beli dr lapak ini. oke mantap gan , ane dah coba jam tembus kalau pake power management bisa semoga tahan lama btw thanks for the fast response. 2x kali beli disini dan puas , sukses teruss gan. mudah mudahan awet , terimakasih. mudah mudahan awet batrainya. proses cepat barang bagus , blm coba performanya. 2 jam nyampe , terima kasih. pengiriman cepat , barang berfungsi baik mantap sukses terus gan. mantap gan , bisa tahan 4 jaman. mantabe forever , cepet packing mantab sampe on time barang sangat berkualitas. produk sesuai pesanan , semoga awet. harga terjangkau , sesuai dengan yang di inginkan semoga awet dan tahan lama. good god fast  barang sampai dengan tepat mudah mudahan baterainya awet. packing ok barang thanks ya. thanx ya gan barang sesuai deskripsi  barang sudah sampai mudah mudahan awet. fast respon , rapi barang sesuai. setelah retur kedua kalinya baru dikasih barang yg , tolong pelayanan lebih ditingkatkan lagi kualitasnya terimakasih. baterai awalnya tidak nyala , kemudian dikembalikan dan dikirimkan kembali meskipun agak lama prosesnya tahan kira 4 jam. barang sesuai deskripsi , fast response recommended. mantap gan , produk bekerja dengan baik dan top markotop pokoe biarkan bintang yang berbicara. terima kasih barang cepat sampai dg packing rapi , kualitas battery bagus saat dicoba kapasitas life time mudahan setelah charge lifetimenya bisa 4 jam lebih. baterai sesuai dengan deskripsi. packingnya rapi dan sangat cepat prosesnya , cuma sehari mantap. barang sudah sampai , packing bagus bener baru masih segel tapi belum dicoba thanks gan. pemesanan di proses secepat kilat. batre mantap , terbaik the best lalala yeyeyey. thanks barang sudah sampai semoga awet. very quick response , packaging bagus semoga kualitas baterai sesuai yang diharapkan trims. barang telah diterima dengan baik , packing rapi sesuai spesifikasi dicoba ok semoga awet sukses terus u as komputer. barang sesuai dengan deskripsi dan berfungsi baik , packing rapih respond cepat recommended. bagus tq gan  barangnya bagus dan bekerja dengan baik sesuai iklan  respon dan pengiriman cepat  barang sesuai product iklan , fast response recomended seller smg awet. so far good , mau coba dulu dalam 2 hari ini terima kasih gan. respon penjual cepat , barang bagus langsung dites dan kuat nyala 3jam semoga aweet. paket diterima , terimakasih. pemesanan diproses secepat kilat. brg sudah selamat sampai tujuan dg packing yang rapih , hatur nuhuns gans moga barangnya awet. mantap gann , barang sampai trimss. packing bagus dan kualitas baterai ok selama pemakaian tidak ada keluhan. produk sudah diterima dengan baik dan packagingnya rapi , cc nya beneran baru 1 di test ketika dilepas charge bisa tahan ampe 3 4 jam storage hd bawaan pake msata makan watt lebih dari biasa harusnya. barang sesuai dng yg dipesan dan sejauh ini masih baik  barang sudah diterima dalam kondisi baik  recomended seller part , sesuai dengan deskripsi. barang sesuai dengan di gambar mantab , makasih gan. oke sip cepat sampai barangnya. barang dah sampai dan bagus , terimakasih. barang nya betul buat , tapi ane salah beli harusnya x20 mohon maaf bisa tuker gak solusinya. barang betul baru , di power manager masih 0 cycle count nya dan first use pas ane coba ini cell battery sanyo dgn kapasitas wh tp yang penting respon seller cepat packing aman buble wrap. barang sesuai deskripsi dan murah , semoga awet.",
         "Secara keseluruhan, mayoritas pelanggan memberikan umpan balik positif terhadap baterai ini, menyoroti pengiriman yang sangat cepat dan responsifitas penjual sebagai poin utama kepuasan. Banyak pembeli menekankan bahwa barang yang diterima sesuai dengan deskripsi, dengan sebagian besar melaporkan kondisi fisik baterai yang baik, tersegel, dan baru, bahkan menunjukkan hitungan siklus nol pada beberapa unit. Performa baterai menjadi fokus utama, dengan banyak pengguna mengonfirmasi daya tahan 34 jam saat digunakan untuk tugastugas seperti menonton film, menjalankan software berat seperti Android Studio, atau browsing. Meskipun ada beberapa laporan awal mengenai masalah baterai yang tidak berfungsi, penjual secara aktif menanggapi dengan menawarkan penggantian garansi, yang diapresiasi oleh pelanggan. Beberapa pembeli juga menyoroti nilai ekonomis produk ini, menyebutnya bagus dan murah. Terdapat pula beberapa kekhawatiran minor mengenai potensi konsumsi daya yang lebih tinggi pada model tertentu dan kesalahan pemesanan tipe baterai, namun secara umum, pengalaman positif mendominasi. Pelanggan secara konsisten merekomendasikan produk dan penjual, dengan harapan baterai akan awet dan memberikan kinerja yang berkelanjutan. Kesimpulannya, produk ini menawarkan kombinasi yang menarik antara harga terjangkau, kualitas yang dapat diandalkan, dan layanan pelanggan yang responsif, menjadikannya pilihan yang solid bagi pembeli yang mencari pengganti baterai yang efektif.",
         "5276"
        ],
        [
         "47",
         "mantap. sesuai ekspektasi , spesifikasi persis dengan bawaan asli unit yang datang ke saya dalam kondisi 0 setelah beberapa lama charging akhirnya muncul pergerakan persentasenya cek via hwmonitor terdeteksi designed capacity mwh full charge artinya sudah ada wear level 1 mungkin masih kisaran normal saran jika batere tersimpan lebih dari 3 bulan sebaiknya dicharge saja yakin pelanggan nantinya membeli tidak akan protes penting selsel bagus. recommended seller packing super rapih , kemasan dalam aman respons juga cepat dan ramah baru buka belum sempat test baterai mudahmudahan awet. baterai berfungsi baik , terimakasih. barang nya udah sampai dan dipakai , semoga aweet. barang dah sampai mudah mudahan awet. barang ciamik , bekerja dengan baik. pemesanan diproses secepat kilat. barang udah nyampe , respon penjual cepat sesuai iklannya packing lumayan bagus waktu datang kondisi baterai terisi 3 hour left sy pake buat youtubean gak perhatikan berapa lama tp sampai tinggal 1 menit baru charge dan belum cek lagi mudah mudahan awet. battery bagus , packaging masih. bagus , sebagai pengganti yang untuk baterai laptop sudah usang setelah 3 tahun pemakaian. cycle count baterai 0 , response cepat pengiriman pertahankan. rewpon penjual cepat , barang bagus namun sayang lama banget dipengiriman.",
         "Secara keseluruhan, pelanggan sangat puas dengan baterai pengganti laptop ini, terutama karena performanya sesuai harapan dan spesifikasi yang tepat dengan perangkat asli. Banyak pembeli menekankan kondisi baterai yang diterima sangat baik, dengan cycle count 0 dan kemampuan mengisi daya dengan normal setelah beberapa saat. Kecepatan respons penjual dan pengemasan yang rapi juga mendapat apresiasi tinggi, meskipun beberapa pelanggan mencatat waktu pengiriman yang sedikit lama. Meskipun belum ada pengujian jangka panjang, harapan akan daya tahan baterai sangat positif, mengingat baterai ini berfungsi sebagai pengganti yang efektif setelah pemakaian bertahuntahun. Kesimpulannya, produk ini direkomendasikan bagi pengguna laptop yang membutuhkan penggantian baterai berkualitas dengan pelayanan yang memuaskan.",
         "1304"
        ],
        [
         "48",
         "ok gan thanks , barang sudah diterima dengan baik semoga lancar. mantap jaya , terimakasih bosku semoga makin laris jualannya. mantap jaya , terimakasih bosku semoga makin laris jualannya. thansk gan barang sudah diterima. packing ok , cepat sampai barang bagus semoga sukses selalu. mantap , barang sesuai keinginan. barang mantaap , makasih gan. packing rapi n barang jg oce. belum di coba , mudah mdahan g masalah terima kasih. terima kasih , barang sudah sampai proses cepat semoga awet. packing bagus , aman sudah di coba baterei bisa tahan 3 jam lebih meski ketahanannya tidak sama dengan bawaan laptop yang sampai 5jaman tapi ok banget mudah an awet. semoga cocok dan awet bos , barang sudah diterima packing rapi tapi blm dicoba fisik sangat bagus rekomendasi banget. packaging rapi dan aman , telah diterima dengan baik respon sangat cepat sehingga tidak butuh waktu lama untuk menunggu pengiriman kualitasnya dicoba dulu recommended store. barang sudah tiba , langsung bisa dipakai meski tipe tidak sama persis dengan permintaan tapi kompatibel dan berjalan baik. sesuai denga waktunya , cm barangnya msh ditest tengkyu gan.",
         "Secara umum, pelanggan sangat puas dengan pengalaman pembelian mereka. Pengiriman dinilai cepat dan aman berkat packaging yang rapi dan terpercaya. Produk yang diterima dalam kondisi baik, bahkan beberapa pembeli langsung dapat menggunakannya tanpa kendala. Meskipun ada sedikit perbedaan tipe pada beberapa pesanan, produk tetap kompatibel dan berfungsi dengan baik. Daya tahan baterai menjadi perhatian, dengan performa sedikit di bawah baterai asli, namun tetap dianggap memuaskan. Pelanggan merekomendasikan toko ini karena respon penjual yang cepat dan kualitas produk yang baik, dengan harapan produk akan awet digunakan. Kesimpulannya, toko ini memberikan pengalaman positif bagi pembeli dengan pelayanan yang responsif dan produk yang dapat diandalkan.",
         "1134"
        ],
        [
         "49",
         "ntap gan. tq gan , barang ok respon pengiriman. packing rapi , pengiriman cepat barang sesuai deskripsi. pengiriman sangat cepat , produk juga bagus. respon cepat , packing rapi terima kasih. uda beberapa kali belanja di sini , selalu top. siang order , sore sampe lgs dicoba dn indikator tinta menunjukkan klo full mantap. makasih bos sudah sampai paketnya. pengiriman cepat , packing aman produk asli. respon cepat , good seller. respon cepat , pengiriman barang sesuai pesanan terima kasih. respon cepat sudah jadi langganan. terima kasih. mantap bos barangnya sdh sampai terima kasih. respon cpt , brg packing rapih. barang sudah diterima , dites berfungsi dgn baik trims. baik , tdk ada masalah barang ini. respon cepat , lebih baik beli yang original. recommended banget , serba cepat sesuai mantap. barang bagus dan sesuai pesanan. sesuai pesanan deskripsi. lebih baik beli yang orisinil , awet dan dapat. packing rapi , pengiriman cepat barang sesuai deskripsi. pesanan sudah diterima , respon penjual cepat kemasan lumayan rapih produk sesuai deskripsi belum dipasang semoga compatible trims. harga murah dan original. produk bagus  produk original , top abis. sory gan telat konfirmasi , pokok nya makasih bgt buat pelayanan prima di servis dgn sangat baik lah ga usah ragu belanja toko ini jamin puas pelayan. packing rapi , seller responsif dan komunikatif pokonya bintang bicara lah. servis cepat dan memuaskan. mantap gan pertahan kan  barang ori , pengiriman cepat. barang ori dan proses cepat , pertahankan bos. barang nyampe gan , thanks. produk sesuai dan sampai dalam keadaan baikk. barang bagus dan cepat sampai dengan tepat. thanks gan paket udah nyampe sesuai pesanan. terimakasih , barang sampai dengan selamat meski kelamaan nyari kurirnya. barang bagus packing juga , sellernya bertanggug jawab. bagus , respon dan pengiriman cepat. produk original dan respon seller cepat rekomended sudah dua kali order ga ada kendala. mantap jaya lah siap order lagi. barang sampai dengan baik , packing rapih. top , lah orderan ke sekian x nya. barabg sesuai deskripsi , respon seller baik bgt. packing rapi , barang original sangat puas. tepat cepat makasih. kali kedua transaksi disini , recommended banget. terimakasih gan , barangnya sudah sampai. barang sudah sampai , respon cepat terimakasih. okay , cepet thx seller. paket sudah diterima , tq. terimakasih mantaps. trima kasih barang sudah dteeima dg baik. cepet bgt nyampenya  barang yang dikirim bagus n memuaskan. cepatk prosesnya gan. recomended , fast responn semoga sukses gan lapaknya. ok  barang ori sesuai deskripsi , pengiriman cepat terima kasih. barang baru sampe 1 jam lalu dirumah , saya belum sempat buka coba semoga tidak ada masalah thanks ya. fast respon , nice seller and product. produk diterima dalam kondisi yang baik dan bagus , fast respon pengiriman juga cepat recommended banget belanja di sini. packing rapi , cepat sampai barang blm di coba mudah mudahan cocok dan bagus thanks. oke sip boss mantap barang sudah saya terima , terimakasih. terima kasih brngnya sudah sya dngn baik  mantap , thanks ya gan. barangnya sudah sampai gan terimakasih. asli original pengiriman cepat , thanks seller.",
         "Secara keseluruhan, ulasan untuk produk ini sangat positif dan menunjukkan kepuasan pelanggan yang tinggi. Pelanggan secara konsisten memuji kecepatan pengiriman, seringkali menyebutkan pesanan tiba dalam waktu singkat, bahkan ada yang menyebutkan pengiriman satu hari. Kemasan produk juga mendapat apresiasi karena kerapian dan keamanannya, memastikan barang sampai dalam kondisi baik. Aspek penting lainnya yang menonjol adalah respons penjual yang cepat dan komunikatif, memberikan pelayanan prima dan membantu pelanggan dengan efektif. Banyak pelanggan menekankan keaslian produk, menyatakan bahwa mereka menerima barang original sesuai deskripsi yang diberikan. Beberapa pelanggan bahkan menyebutkan telah berulang kali melakukan pembelian di toko ini, menjadikannya sebagai langganan karena pengalaman positif yang konsisten. Meskipun ada satu ulasan yang menyebutkan sedikit kendala dalam pencarian kurir, hal ini tidak mengurangi kesan positif secara keseluruhan. Secara umum, produk ini dinilai berkualitas, original, dan didukung oleh pelayanan pelanggan yang sangat baik, menjadikan toko ini sangat direkomendasikan bagi calon pembeli yang mencari produk serupa dengan pengalaman belanja yang memuaskan.",
         "3190"
        ]
       ],
       "shape": {
        "columns": 3,
        "rows": 500
       }
      },
      "text/html": [
       "<div>\n",
       "<style scoped>\n",
       "    .dataframe tbody tr th:only-of-type {\n",
       "        vertical-align: middle;\n",
       "    }\n",
       "\n",
       "    .dataframe tbody tr th {\n",
       "        vertical-align: top;\n",
       "    }\n",
       "\n",
       "    .dataframe thead th {\n",
       "        text-align: right;\n",
       "    }\n",
       "</style>\n",
       "<table border=\"1\" class=\"dataframe\">\n",
       "  <thead>\n",
       "    <tr style=\"text-align: right;\">\n",
       "      <th></th>\n",
       "      <th>original_text</th>\n",
       "      <th>summarized_text</th>\n",
       "      <th>panjang_char</th>\n",
       "    </tr>\n",
       "  </thead>\n",
       "  <tbody>\n",
       "    <tr>\n",
       "      <th>0</th>\n",
       "      <td>bocor. brg tdk saya terima , entah nyasar dima...</td>\n",
       "      <td>Pelanggan secara konsisten mengalami masalah s...</td>\n",
       "      <td>849</td>\n",
       "    </tr>\n",
       "    <tr>\n",
       "      <th>1</th>\n",
       "      <td>barang tidak sampai , hilang di ekspedisi anta...</td>\n",
       "      <td>Pengiriman menjadi isu utama, banyak pelanggan...</td>\n",
       "      <td>929</td>\n",
       "    </tr>\n",
       "    <tr>\n",
       "      <th>2</th>\n",
       "      <td>packing bagus , puass. respond cepat , packing...</td>\n",
       "      <td>Pelanggan sangat puas dengan kualitas produk d...</td>\n",
       "      <td>646</td>\n",
       "    </tr>\n",
       "    <tr>\n",
       "      <th>3</th>\n",
       "      <td>respon cepat , packing aman banyak bonus nya p...</td>\n",
       "      <td>Pelanggan sangat puas dengan kecepatan pengiri...</td>\n",
       "      <td>881</td>\n",
       "    </tr>\n",
       "    <tr>\n",
       "      <th>4</th>\n",
       "      <td>barang sesuai  sesuai deksripsi , pengiriman t...</td>\n",
       "      <td>Secara umum, pelanggan sangat puas dengan pemb...</td>\n",
       "      <td>1348</td>\n",
       "    </tr>\n",
       "    <tr>\n",
       "      <th>...</th>\n",
       "      <td>...</td>\n",
       "      <td>...</td>\n",
       "      <td>...</td>\n",
       "    </tr>\n",
       "    <tr>\n",
       "      <th>495</th>\n",
       "      <td>barang udah nyampe , bagus dan rapi tq wr olah...</td>\n",
       "      <td>Secara keseluruhan, pelanggan sangat puas deng...</td>\n",
       "      <td>987</td>\n",
       "    </tr>\n",
       "    <tr>\n",
       "      <th>496</th>\n",
       "      <td>okeeh shiip sesuai pesanan , thanks. proses ce...</td>\n",
       "      <td>Secara keseluruhan, mayoritas pelanggan member...</td>\n",
       "      <td>2421</td>\n",
       "    </tr>\n",
       "    <tr>\n",
       "      <th>497</th>\n",
       "      <td>kualitas barang bagus , sesuai deskripsi manta...</td>\n",
       "      <td>Secara keseluruhan, produk ini mendapatkan sam...</td>\n",
       "      <td>3183</td>\n",
       "    </tr>\n",
       "    <tr>\n",
       "      <th>498</th>\n",
       "      <td>mantep , thanks bro. paket sudah sampai , sang...</td>\n",
       "      <td>Secara umum, produk ini mendapat sambutan posi...</td>\n",
       "      <td>871</td>\n",
       "    </tr>\n",
       "    <tr>\n",
       "      <th>499</th>\n",
       "      <td>sepatu nya udh smp , good lah moga awet pelaya...</td>\n",
       "      <td>Secara keseluruhan, pelanggan sangat puas deng...</td>\n",
       "      <td>779</td>\n",
       "    </tr>\n",
       "  </tbody>\n",
       "</table>\n",
       "<p>500 rows × 3 columns</p>\n",
       "</div>"
      ],
      "text/plain": [
       "                                         original_text  \\\n",
       "0    bocor. brg tdk saya terima , entah nyasar dima...   \n",
       "1    barang tidak sampai , hilang di ekspedisi anta...   \n",
       "2    packing bagus , puass. respond cepat , packing...   \n",
       "3    respon cepat , packing aman banyak bonus nya p...   \n",
       "4    barang sesuai  sesuai deksripsi , pengiriman t...   \n",
       "..                                                 ...   \n",
       "495  barang udah nyampe , bagus dan rapi tq wr olah...   \n",
       "496  okeeh shiip sesuai pesanan , thanks. proses ce...   \n",
       "497  kualitas barang bagus , sesuai deskripsi manta...   \n",
       "498  mantep , thanks bro. paket sudah sampai , sang...   \n",
       "499  sepatu nya udh smp , good lah moga awet pelaya...   \n",
       "\n",
       "                                       summarized_text  panjang_char  \n",
       "0    Pelanggan secara konsisten mengalami masalah s...           849  \n",
       "1    Pengiriman menjadi isu utama, banyak pelanggan...           929  \n",
       "2    Pelanggan sangat puas dengan kualitas produk d...           646  \n",
       "3    Pelanggan sangat puas dengan kecepatan pengiri...           881  \n",
       "4    Secara umum, pelanggan sangat puas dengan pemb...          1348  \n",
       "..                                                 ...           ...  \n",
       "495  Secara keseluruhan, pelanggan sangat puas deng...           987  \n",
       "496  Secara keseluruhan, mayoritas pelanggan member...          2421  \n",
       "497  Secara keseluruhan, produk ini mendapatkan sam...          3183  \n",
       "498  Secara umum, produk ini mendapat sambutan posi...           871  \n",
       "499  Secara keseluruhan, pelanggan sangat puas deng...           779  \n",
       "\n",
       "[500 rows x 3 columns]"
      ]
     },
     "execution_count": 33,
     "metadata": {},
     "output_type": "execute_result"
    }
   ],
   "source": [
    "df_cleaned.head(500)"
   ]
  },
  {
   "cell_type": "code",
   "execution_count": 34,
   "id": "0a408dbf",
   "metadata": {},
   "outputs": [
    {
     "name": "stdout",
     "output_type": "stream",
     "text": [
      "<class 'pandas.core.frame.DataFrame'>\n",
      "RangeIndex: 2194 entries, 0 to 2193\n",
      "Data columns (total 3 columns):\n",
      " #   Column           Non-Null Count  Dtype \n",
      "---  ------           --------------  ----- \n",
      " 0   original_text    2194 non-null   object\n",
      " 1   summarized_text  2194 non-null   object\n",
      " 2   panjang_char     2194 non-null   int64 \n",
      "dtypes: int64(1), object(2)\n",
      "memory usage: 51.6+ KB\n"
     ]
    }
   ],
   "source": [
    "df_cleaned.info()"
   ]
  },
  {
   "cell_type": "code",
   "execution_count": 16,
   "id": "189544a5",
   "metadata": {},
   "outputs": [
    {
     "name": "stdout",
     "output_type": "stream",
     "text": [
      "27\n"
     ]
    }
   ],
   "source": [
    "jumlah_baris = (df_cleaned['panjang_char'] > 5000).sum()\n",
    "print(jumlah_baris)\n"
   ]
  },
  {
   "cell_type": "code",
   "execution_count": 35,
   "id": "0b2b4951",
   "metadata": {},
   "outputs": [],
   "source": [
    "# Filter data panjang antara 1000 dan 5000\n",
    "filtered_df = df_cleaned[df_cleaned['panjang_char'].between(1000, 5000)]\n",
    "\n",
    "# Simpan ke CSV\n",
    "filtered_df.to_csv('sintesis_for_summarize_GABUNGAN DATA ASLI DAN SINTESIS_1000 to 5000.csv', index=False)\n"
   ]
  },
  {
   "cell_type": "code",
   "execution_count": 36,
   "id": "cc890ab3",
   "metadata": {},
   "outputs": [
    {
     "name": "stdout",
     "output_type": "stream",
     "text": [
      "<class 'pandas.core.frame.DataFrame'>\n",
      "RangeIndex: 1820 entries, 0 to 1819\n",
      "Data columns (total 3 columns):\n",
      " #   Column           Non-Null Count  Dtype \n",
      "---  ------           --------------  ----- \n",
      " 0   original_text    1820 non-null   object\n",
      " 1   summarized_text  1820 non-null   object\n",
      " 2   panjang_char     1820 non-null   int64 \n",
      "dtypes: int64(1), object(2)\n",
      "memory usage: 42.8+ KB\n"
     ]
    }
   ],
   "source": [
    "df_tes = pd.read_csv('sintesis_for_summarize_GABUNGAN DATA ASLI DAN SINTESIS_1000 to 5000.csv')\n",
    "df_tes.info()"
   ]
  }
 ],
 "metadata": {
  "kernelspec": {
   "display_name": "Python 3",
   "language": "python",
   "name": "python3"
  },
  "language_info": {
   "codemirror_mode": {
    "name": "ipython",
    "version": 3
   },
   "file_extension": ".py",
   "mimetype": "text/x-python",
   "name": "python",
   "nbconvert_exporter": "python",
   "pygments_lexer": "ipython3",
   "version": "3.12.0"
  }
 },
 "nbformat": 4,
 "nbformat_minor": 5
}
