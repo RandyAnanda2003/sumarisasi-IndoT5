{
 "cells": [
  {
   "cell_type": "code",
   "execution_count": 1,
   "id": "8dd7e3ba",
   "metadata": {},
   "outputs": [],
   "source": [
    "import pandas as pd"
   ]
  },
  {
   "cell_type": "code",
   "execution_count": 4,
   "id": "13ff7547",
   "metadata": {},
   "outputs": [],
   "source": [
    "df_A = pd.read_csv('../generate review 1/generated_reviews.csv')\n",
    "df_B = pd.read_csv('../generate review 2/generated_reviews.csv')\n",
    "df_C = pd.read_csv('../generate review 3/generated_reviews.csv')\n",
    "df_D = pd.read_csv('../generate review 4/generated_reviews.csv')\n",
    "df_E = pd.read_csv('../generate review 5/generated_reviews.csv')\n",
    "df_F = pd.read_csv('../generate review 6/generated_reviews.csv')\n",
    "df_G = pd.read_csv('../generate review 7/generated_reviews.csv')"
   ]
  },
  {
   "cell_type": "code",
   "execution_count": 5,
   "id": "b8286cf3",
   "metadata": {},
   "outputs": [
    {
     "name": "stdout",
     "output_type": "stream",
     "text": [
      "<class 'pandas.core.frame.DataFrame'>\n",
      "RangeIndex: 5000 entries, 0 to 4999\n",
      "Data columns (total 5 columns):\n",
      " #   Column       Non-Null Count  Dtype \n",
      "---  ------       --------------  ----- \n",
      " 0   review_id    5000 non-null   int64 \n",
      " 1   review_text  5000 non-null   object\n",
      " 2   category     5000 non-null   object\n",
      " 3   sentiment    5000 non-null   object\n",
      " 4   length       5000 non-null   int64 \n",
      "dtypes: int64(2), object(3)\n",
      "memory usage: 195.4+ KB\n"
     ]
    }
   ],
   "source": [
    "df_A.info()"
   ]
  },
  {
   "cell_type": "code",
   "execution_count": 6,
   "id": "aee7fb99",
   "metadata": {},
   "outputs": [
    {
     "name": "stdout",
     "output_type": "stream",
     "text": [
      "<class 'pandas.core.frame.DataFrame'>\n",
      "RangeIndex: 5000 entries, 0 to 4999\n",
      "Data columns (total 5 columns):\n",
      " #   Column       Non-Null Count  Dtype \n",
      "---  ------       --------------  ----- \n",
      " 0   review_id    5000 non-null   int64 \n",
      " 1   review_text  5000 non-null   object\n",
      " 2   category     5000 non-null   object\n",
      " 3   sentiment    5000 non-null   object\n",
      " 4   length       5000 non-null   int64 \n",
      "dtypes: int64(2), object(3)\n",
      "memory usage: 195.4+ KB\n"
     ]
    }
   ],
   "source": [
    "df_B.info()"
   ]
  },
  {
   "cell_type": "code",
   "execution_count": 7,
   "id": "49bbf9da",
   "metadata": {},
   "outputs": [
    {
     "name": "stdout",
     "output_type": "stream",
     "text": [
      "<class 'pandas.core.frame.DataFrame'>\n",
      "RangeIndex: 5000 entries, 0 to 4999\n",
      "Data columns (total 5 columns):\n",
      " #   Column       Non-Null Count  Dtype \n",
      "---  ------       --------------  ----- \n",
      " 0   review_id    5000 non-null   int64 \n",
      " 1   review_text  5000 non-null   object\n",
      " 2   category     5000 non-null   object\n",
      " 3   sentiment    5000 non-null   object\n",
      " 4   length       5000 non-null   int64 \n",
      "dtypes: int64(2), object(3)\n",
      "memory usage: 195.4+ KB\n"
     ]
    }
   ],
   "source": [
    "df_C.info()"
   ]
  },
  {
   "cell_type": "code",
   "execution_count": 8,
   "id": "61381932",
   "metadata": {},
   "outputs": [
    {
     "name": "stdout",
     "output_type": "stream",
     "text": [
      "<class 'pandas.core.frame.DataFrame'>\n",
      "RangeIndex: 5000 entries, 0 to 4999\n",
      "Data columns (total 5 columns):\n",
      " #   Column       Non-Null Count  Dtype \n",
      "---  ------       --------------  ----- \n",
      " 0   review_id    5000 non-null   int64 \n",
      " 1   review_text  5000 non-null   object\n",
      " 2   category     5000 non-null   object\n",
      " 3   sentiment    5000 non-null   object\n",
      " 4   length       5000 non-null   int64 \n",
      "dtypes: int64(2), object(3)\n",
      "memory usage: 195.4+ KB\n"
     ]
    }
   ],
   "source": [
    "df_D.info()"
   ]
  },
  {
   "cell_type": "code",
   "execution_count": 9,
   "id": "a0261145",
   "metadata": {},
   "outputs": [
    {
     "name": "stdout",
     "output_type": "stream",
     "text": [
      "<class 'pandas.core.frame.DataFrame'>\n",
      "RangeIndex: 5000 entries, 0 to 4999\n",
      "Data columns (total 5 columns):\n",
      " #   Column       Non-Null Count  Dtype \n",
      "---  ------       --------------  ----- \n",
      " 0   review_id    5000 non-null   int64 \n",
      " 1   review_text  5000 non-null   object\n",
      " 2   category     5000 non-null   object\n",
      " 3   sentiment    5000 non-null   object\n",
      " 4   length       5000 non-null   int64 \n",
      "dtypes: int64(2), object(3)\n",
      "memory usage: 195.4+ KB\n"
     ]
    }
   ],
   "source": [
    "df_E.info()"
   ]
  },
  {
   "cell_type": "code",
   "execution_count": 10,
   "id": "0474f138",
   "metadata": {},
   "outputs": [
    {
     "name": "stdout",
     "output_type": "stream",
     "text": [
      "<class 'pandas.core.frame.DataFrame'>\n",
      "RangeIndex: 2600 entries, 0 to 2599\n",
      "Data columns (total 5 columns):\n",
      " #   Column       Non-Null Count  Dtype \n",
      "---  ------       --------------  ----- \n",
      " 0   review_id    2600 non-null   int64 \n",
      " 1   review_text  2600 non-null   object\n",
      " 2   category     2600 non-null   object\n",
      " 3   sentiment    2600 non-null   object\n",
      " 4   length       2600 non-null   int64 \n",
      "dtypes: int64(2), object(3)\n",
      "memory usage: 101.7+ KB\n"
     ]
    }
   ],
   "source": [
    "df_F.info()"
   ]
  },
  {
   "cell_type": "code",
   "execution_count": 11,
   "id": "fee27477",
   "metadata": {},
   "outputs": [
    {
     "name": "stdout",
     "output_type": "stream",
     "text": [
      "<class 'pandas.core.frame.DataFrame'>\n",
      "RangeIndex: 2500 entries, 0 to 2499\n",
      "Data columns (total 5 columns):\n",
      " #   Column       Non-Null Count  Dtype \n",
      "---  ------       --------------  ----- \n",
      " 0   review_id    2500 non-null   int64 \n",
      " 1   review_text  2500 non-null   object\n",
      " 2   category     2500 non-null   object\n",
      " 3   sentiment    2500 non-null   object\n",
      " 4   length       2500 non-null   int64 \n",
      "dtypes: int64(2), object(3)\n",
      "memory usage: 97.8+ KB\n"
     ]
    }
   ],
   "source": [
    "df_G.info()"
   ]
  },
  {
   "cell_type": "code",
   "execution_count": 12,
   "id": "404e25f1",
   "metadata": {},
   "outputs": [],
   "source": [
    "df_all = pd.concat([df_A,df_B,df_C,df_D,df_E,df_F],ignore_index=True)"
   ]
  },
  {
   "cell_type": "code",
   "execution_count": 13,
   "id": "70eea347",
   "metadata": {},
   "outputs": [
    {
     "name": "stdout",
     "output_type": "stream",
     "text": [
      "<class 'pandas.core.frame.DataFrame'>\n",
      "RangeIndex: 27600 entries, 0 to 27599\n",
      "Data columns (total 5 columns):\n",
      " #   Column       Non-Null Count  Dtype \n",
      "---  ------       --------------  ----- \n",
      " 0   review_id    27600 non-null  int64 \n",
      " 1   review_text  27600 non-null  object\n",
      " 2   category     27600 non-null  object\n",
      " 3   sentiment    27600 non-null  object\n",
      " 4   length       27600 non-null  int64 \n",
      "dtypes: int64(2), object(3)\n",
      "memory usage: 1.1+ MB\n"
     ]
    }
   ],
   "source": [
    "df_all.info()"
   ]
  },
  {
   "cell_type": "code",
   "execution_count": 14,
   "id": "b0b643c5",
   "metadata": {},
   "outputs": [
    {
     "data": {
      "text/plain": [
       "1325"
      ]
     },
     "execution_count": 14,
     "metadata": {},
     "output_type": "execute_result"
    }
   ],
   "source": [
    "df_all.duplicated(subset='review_text').sum()"
   ]
  },
  {
   "cell_type": "code",
   "execution_count": 15,
   "id": "781eb12d",
   "metadata": {},
   "outputs": [],
   "source": [
    "df_all.drop_duplicates(inplace=True, subset='review_text')"
   ]
  },
  {
   "cell_type": "code",
   "execution_count": 16,
   "id": "81c9409d",
   "metadata": {},
   "outputs": [
    {
     "data": {
      "text/plain": [
       "0"
      ]
     },
     "execution_count": 16,
     "metadata": {},
     "output_type": "execute_result"
    }
   ],
   "source": [
    "df_all.duplicated(subset='review_text').sum()"
   ]
  },
  {
   "cell_type": "code",
   "execution_count": 17,
   "id": "2221a6b0",
   "metadata": {},
   "outputs": [
    {
     "data": {
      "text/plain": [
       "review_id      0\n",
       "review_text    0\n",
       "category       0\n",
       "sentiment      0\n",
       "length         0\n",
       "dtype: int64"
      ]
     },
     "execution_count": 17,
     "metadata": {},
     "output_type": "execute_result"
    }
   ],
   "source": [
    "df_all.isna().sum()"
   ]
  },
  {
   "cell_type": "code",
   "execution_count": 18,
   "id": "755fba6d",
   "metadata": {},
   "outputs": [
    {
     "name": "stdout",
     "output_type": "stream",
     "text": [
      "<class 'pandas.core.frame.DataFrame'>\n",
      "Index: 26275 entries, 0 to 27599\n",
      "Data columns (total 5 columns):\n",
      " #   Column       Non-Null Count  Dtype \n",
      "---  ------       --------------  ----- \n",
      " 0   review_id    26275 non-null  int64 \n",
      " 1   review_text  26275 non-null  object\n",
      " 2   category     26275 non-null  object\n",
      " 3   sentiment    26275 non-null  object\n",
      " 4   length       26275 non-null  int64 \n",
      "dtypes: int64(2), object(3)\n",
      "memory usage: 1.2+ MB\n"
     ]
    }
   ],
   "source": [
    "df_all.info()"
   ]
  },
  {
   "cell_type": "code",
   "execution_count": 19,
   "id": "cb18f871",
   "metadata": {},
   "outputs": [
    {
     "data": {
      "text/plain": [
       "sentiment\n",
       "positif    13632\n",
       "negatif    12643\n",
       "Name: count, dtype: int64"
      ]
     },
     "execution_count": 19,
     "metadata": {},
     "output_type": "execute_result"
    }
   ],
   "source": [
    "df_all['sentiment'].value_counts()"
   ]
  },
  {
   "cell_type": "code",
   "execution_count": 20,
   "id": "2e1dabfe",
   "metadata": {},
   "outputs": [],
   "source": [
    "import emoji\n",
    "import re\n",
    "\n",
    "def hapus_emoji(teks):\n",
    "    return emoji.replace_emoji(teks, replace='')  # Ganti emoji dengan string kosong\n"
   ]
  },
  {
   "cell_type": "code",
   "execution_count": 21,
   "id": "44221cef",
   "metadata": {},
   "outputs": [],
   "source": [
    "df_all['review_text']=df_all['review_text'].apply(hapus_emoji)"
   ]
  },
  {
   "cell_type": "code",
   "execution_count": 23,
   "id": "5814e2f8",
   "metadata": {},
   "outputs": [],
   "source": [
    "import pandas as pd\n",
    "import re\n",
    "\n",
    "# Baca data\n",
    "df = df_all\n",
    "\n",
    "def has_invalid_chars(text):\n",
    "    \"\"\"\n",
    "    Deteksi jika ada karakter tidak valid seperti newline (\\n, \\r) atau tab (\\t).\n",
    "    \"\"\"\n",
    "    return bool(re.search(r'[\\n\\r\\t]', text))\n",
    "\n",
    "def clean_reviews(df, text_column='review_text'):\n",
    "    df = df.copy()\n",
    "\n",
    "    # Terapkan deteksi pengulangan frasa dan karakter tidak valid\n",
    "    df['to_drop'] = df[text_column].apply(\n",
    "        lambda x: has_invalid_chars(x)\n",
    "    )\n",
    "\n",
    "    # Hapus baris yang dianggap tidak valid\n",
    "    df_cleaned = df[~df['to_drop']].drop(columns='to_drop')\n",
    "    return df_cleaned\n",
    "\n"
   ]
  },
  {
   "cell_type": "code",
   "execution_count": 24,
   "id": "606a5745",
   "metadata": {},
   "outputs": [],
   "source": [
    "# df = pd.read_csv('nama_file.csv')  # muat datamu\n",
    "df_cleaned = clean_reviews(df_all, text_column='review_text')\n"
   ]
  },
  {
   "cell_type": "code",
   "execution_count": 25,
   "id": "a4ef84ee",
   "metadata": {},
   "outputs": [],
   "source": [
    "def hitung_char (text) :\n",
    "    return len(text)"
   ]
  },
  {
   "cell_type": "code",
   "execution_count": 26,
   "id": "98d48892",
   "metadata": {},
   "outputs": [],
   "source": [
    "df_cleaned['panjang_char'] = df_cleaned['review_text'].apply(hitung_char)"
   ]
  },
  {
   "cell_type": "code",
   "execution_count": 30,
   "id": "f77c1a0a",
   "metadata": {},
   "outputs": [
    {
     "data": {
      "application/vnd.microsoft.datawrangler.viewer.v0+json": {
       "columns": [
        {
         "name": "index",
         "rawType": "int64",
         "type": "integer"
        },
        {
         "name": "review_id",
         "rawType": "int64",
         "type": "integer"
        },
        {
         "name": "review_text",
         "rawType": "object",
         "type": "string"
        },
        {
         "name": "category",
         "rawType": "object",
         "type": "string"
        },
        {
         "name": "sentiment",
         "rawType": "object",
         "type": "string"
        },
        {
         "name": "length",
         "rawType": "int64",
         "type": "integer"
        },
        {
         "name": "panjang_char",
         "rawType": "int64",
         "type": "integer"
        }
       ],
       "conversionMethod": "pd.DataFrame",
       "ref": "893c8525-402b-4635-b5d8-e29bf2b759b6",
       "rows": [
        [
         "0",
         "1",
         "Hpnya bgs bgt! Kamera jernih, batre awet pol. Gk nyesel deh beli ini. Layar jg oke. Top rekomen seller!.",
         "Smartphone Android",
         "positif",
         "100",
         "104"
        ],
        [
         "1",
         "2",
         "Iphone 15 Pro Max bgs bgt! Kamera super, batre awet, gk nyesel upgrade. Layar jernih, rekomen abisss. Top!.",
         "Smartphone iOS",
         "positif",
         "100",
         "107"
        ],
        [
         "2",
         "3",
         "Tabletnya bgs bgt! Layarnya jernih, batre awet, gk nyesel deh beli ini. Top markotop! Rekomen bgt buat yg nyari tablet murah tp oke.",
         "Tablet Android",
         "positif",
         "100",
         "132"
        ],
        [
         "3",
         "4",
         "iPad Mantaap bgt! Layarnya bgs, smooth gk ngelag. Batre awet. Speaker jg oke bgt. TOP rekomen deeh!.",
         "Tablet iOS",
         "positif",
         "100",
         "100"
        ],
        [
         "4",
         "5",
         "Laptop gamingnya GG bgt! Grafisnya joss, ngebut abis! Gk nyesel deh beli ini. Bgs bgt, rekomen! Top markotop!.",
         "Laptop Gaming",
         "positif",
         "100",
         "110"
        ],
        [
         "5",
         "6",
         "Laptopnya bgs bgt! Speknya tinggi, batrenya awet, ringan pula. Buat kerja rekomen abis! Top markotop!.",
         "Laptop Bisnis",
         "positif",
         "100",
         "102"
        ],
        [
         "6",
         "7",
         "Laptop 2in1 nya bgs bgt! Layarnya jernih, batre awet, ringan dibawa. Keyboardnya jg enak dipake. Top markotop! Rekomen!",
         "Laptop 2-in-1",
         "positif",
         "100",
         "119"
        ],
        [
         "7",
         "8",
         "PC nya keren bgt! Spek dewa, gk ngelag sama sekali. Bgs buat gaming & kerja. Top markotop! Rekomen seller! .",
         "Desktop PC",
         "positif",
         "100",
         "108"
        ],
        [
         "8",
         "9",
         "Monitor 24 inch nya bgs bgt! Gk nyesel beli disini, warna nya jg oke. Respon penjual jg top. Rekomen bgt dah!.",
         "Monitor 24 Inch",
         "positif",
         "100",
         "110"
        ],
        [
         "9",
         "10",
         "Monitor ultrawide nya bgs bgt! Gk nyesel beli disini. Warna nya cakep, buat gaming rekomen. Top markotop dah!.",
         "Monitor Ultrawide",
         "positif",
         "100",
         "110"
        ],
        [
         "10",
         "11",
         "Powerbank 10000mAh, bgs bgt! Pengisian cpt, gk nyesel beli disini. Top markotop! Seller rekomen. Baterai awet bgt!.",
         "Power Bank 10000mAh",
         "positif",
         "100",
         "115"
        ],
        [
         "11",
         "12",
         "Powerbank 20000mAh, kapasitasnya gede bgt! Gk nyesel beli, bgs banget, rekomen top markotop!.",
         "Power Bank 20000mAh",
         "positif",
         "100",
         "93"
        ],
        [
         "12",
         "13",
         "Smartwatchnya bgs bgt! Fiturnya lengkap, batre awet, design keren abis. Pokoknya rekomen dehh. Top markotop!.",
         "Smartwatch Android",
         "positif",
         "100",
         "109"
        ],
        [
         "13",
         "14",
         "Apple Watch keren bgt! Fiturnya top, batre awet, design bgs. Layar jernih, rekomen abis! Gk nyesel deh beli.",
         "Smartwatch Apple",
         "positif",
         "100",
         "108"
        ],
        [
         "14",
         "15",
         "Earphone nya bgs bgt! Suara jernih, bass nendang abis. Harga murah kualitas top markotop! Rekomen seller! ",
         "Earphone Kabel",
         "positif",
         "100",
         "106"
        ],
        [
         "15",
         "16",
         "TWS nya bgs bgt! Suaranya jernih, bass nya nendang abis. Batre awet, nyaman dipake. Top markotop! Rekomen bgt dah.",
         "TWS (True Wireless Stereo)",
         "positif",
         "100",
         "114"
        ],
        [
         "16",
         "17",
         "Headphone bgs bgt! Bassnya nendang abis, koneksi stabil, batre awet. Pokoknya rekomen dech! Top markotop.",
         "Headphone Bluetooth",
         "positif",
         "100",
         "105"
        ],
        [
         "17",
         "18",
         "Speakernya bgs bgt! Bass mantap, suara jernih, batre awet. Pokoknya rekomen abis deh! Top markotop!.",
         "Speaker Portable",
         "positif",
         "100",
         "100"
        ],
        [
         "18",
         "19",
         "Soundbar nya bgs bgt! Bass nya nendang abis, suara jernih, gk nyesel deh beli ini. Top rekomen! .",
         "Soundbar TV",
         "positif",
         "100",
         "97"
        ],
        [
         "19",
         "20",
         "Kamera DSLR nya bgs bgt! Hasilnya jernih, fokusnya oke. Pengiriman cpt. Seller rekomen! Top lah pkoknya.",
         "Kamera DSLR",
         "positif",
         "100",
         "104"
        ],
        [
         "20",
         "21",
         "Kamerany bgs bgt! Hasilnya jernih, auto fokusnya top, ringan dibawa. Pokoknya rekomen abis buat pemula kayak aku!.",
         "Kamera Mirrorless",
         "positif",
         "100",
         "114"
        ],
        [
         "21",
         "22",
         "Kameranya bgs bgt! Hasilnya jernih, batrenya awet. Pokoknya rekomen abis buat yg suka adventure. Top markotop!.",
         "Kamera Action",
         "positif",
         "100",
         "111"
        ],
        [
         "22",
         "23",
         "Drone nya bgs bgt! Terbangnya stabil, kameranya jg oke. Gk nyesel beli disini. Pokoknya rekomen top markotop.",
         "Drone Kamera",
         "positif",
         "100",
         "109"
        ],
        [
         "23",
         "24",
         "Tripodnya bgs bgt! Kokoh, enteng dibawa, harga oke. Rekomen deh buat yg suka foto2. Top markotop!.",
         "Tripod Kamera",
         "positif",
         "100",
         "98"
        ],
        [
         "24",
         "25",
         "Mantap! Tintanya bgs bgt, hasil cetak jernih, gk boros! Seller rekomen, pengiriman cpt. Top lah! Pasti order lg.",
         "Printer Inkjet",
         "positif",
         "100",
         "112"
        ],
        [
         "25",
         "26",
         "Printer laser ini bgs bgt! Cpt, hasil cetak ok punya. Gk nyesel deh beli disini. Seller rekomen. Top!",
         "Printer Laser",
         "positif",
         "100",
         "101"
        ],
        [
         "26",
         "27",
         "Scanner-nya bgs bgt! Scan dokumen jd cepet & gampang. Hasilnya jg oke. Rekomen seller ini! Top markotop!.",
         "Scanner Dokumen",
         "positif",
         "100",
         "105"
        ],
        [
         "27",
         "28",
         "HD eksternalnya bgs bgt! Transfer data ngebut, gk nyesel deh beli disini. Top markotop! Rekomen bgt pokoknya. ",
         "Harddisk Eksternal",
         "positif",
         "100",
         "110"
        ],
        [
         "28",
         "29",
         "SSD eksternalnya mantap bgt! Transfer data kilat, gk nyesel beli disini. Bgs & rekomen top! Harga oke .",
         "SSD Eksternal",
         "positif",
         "100",
         "103"
        ],
        [
         "29",
         "30",
         "Flashdisk OTG nya bgs bgt! Transfer data cepet, gk nyesel beli disini. Rekomen seller! Top markotop!.",
         "Flashdisk OTG",
         "positif",
         "100",
         "101"
        ],
        [
         "30",
         "31",
         "Charger fast chargingnya bgs bgt! Ngecas cepet, gk nyesel beli disini. Top markotop! Rekomen bgt buat hp baru. Titik",
         "Charger Fast Charging",
         "positif",
         "100",
         "116"
        ],
        [
         "31",
         "32",
         "Kabelnya bgs bgt! Fast charging, transfer data jg oke. Harga murah tp gk murahan. Top markotop! Rekomen bgt dah.",
         "Kabel Data Type-C",
         "positif",
         "100",
         "112"
        ],
        [
         "32",
         "33",
         "Kabelnya bgs bgt! Cepet ngecas, kuat, gk gampang rusak. Top markotop! Rekomen bgt buat iPhone! Harga oke. Titik.",
         "Kabel Lightning iPhone",
         "positif",
         "100",
         "112"
        ],
        [
         "33",
         "34",
         "MicroSD nya bgs bgt! Gk nyesel beli di toko ini, pengiriman jg cepet. Top markotop, rekomen seller! Mantap!.",
         "Memory Card MicroSD",
         "positif",
         "100",
         "108"
        ],
        [
         "34",
         "35",
         "Routernya bgs bgt! Wifi lancar jaya, gk putus2. Instalasi jg gampang. Seller rekomen! Top markotop dah!.",
         "Router WiFi",
         "positif",
         "100",
         "104"
        ],
        [
         "35",
         "36",
         "Modem 4G nya bgs bgt! Koneksi ngebut, gk lemot sama sekali. Seller rekomen, packing aman. Top markotop!.",
         "Modem 4G",
         "positif",
         "100",
         "104"
        ],
        [
         "36",
         "37",
         "Maus gamingnya bgs bgt! Responsif, ringan, nge-game jd makin GG. Kliknya jg enak. Top markotop! Rekomen abis!.",
         "Mouse Gaming",
         "positif",
         "100",
         "110"
        ],
        [
         "37",
         "38",
         "Mouse wirelessnya bgs bgt! Kliknya enak, responsif. Gk nyesel beli disini, rekomen top markotop!.",
         "Mouse Wireless",
         "positif",
         "100",
         "97"
        ],
        [
         "38",
         "39",
         "Keybord gamingnya bgs bgt! Empuk, responsif, RGB nya keren abis. Gk nyesel beli disini. Top markotop! Rekomen seller!",
         "Keyboard Gaming",
         "positif",
         "100",
         "117"
        ],
        [
         "39",
         "40",
         "Keyboard wirelessnya bgs bgt! Ringan, responsif, rekomen buat ngetik seharian. Top markotop! Ga nyesel beli.",
         "Keyboard Wireless",
         "positif",
         "100",
         "108"
        ],
        [
         "40",
         "41",
         "Wacom emg bgs bgt! Gambarnya jd makin smooth, gk nyesel deh beli ini. Top markotop! Rekomen bgt graphic tablet ini!.",
         "Graphic Tablet",
         "positif",
         "100",
         "116"
        ],
        [
         "41",
         "42",
         "Webcam HD nya bgs bgt! Gk nyesel deh beli disini. Gambar jernih, harga oke. Top rekomen seller! .",
         "Webcam HD",
         "positif",
         "100",
         "97"
        ],
        [
         "42",
         "43",
         "TV 4K nya bgs bgt! Gambar jernih poll, suara mantap. Gk nyesel deh beli disini! Seller rekomen, pengiriman cpt top.",
         "Smart TV 4K",
         "positif",
         "100",
         "115"
        ],
        [
         "43",
         "44",
         "TV box nya bgs bgt! Gk nyesel beli disini, seller gercep. Gambar jernih, instal aplikasi mudah. Rekomen top markotop!.",
         "TV Box Android",
         "positif",
         "100",
         "118"
        ],
        [
         "44",
         "45",
         "Proyektor mininya bgs bgt! Gk nyangka sekecil ini tp hasilnya top markotop. Warna jg oke, rekomen buat nntn santai.",
         "Projector Mini",
         "positif",
         "100",
         "115"
        ],
        [
         "45",
         "46",
         "Cooling pad laptopnya bgs bgt! Laptop gk panas lagi, kerja jd lancar. Anginnya kenceng. Seller rekomen! Top markotop!.",
         "Cooling Pad Laptop",
         "positif",
         "100",
         "118"
        ],
        [
         "46",
         "47",
         "Casingnya bgs bgt! Adem, RGB nya keren parah. Kabel manajemen jg oke. Rekomen abis buat gaming! Top markotop pokoknya.",
         "Casing PC Gaming",
         "positif",
         "100",
         "118"
        ],
        [
         "47",
         "48",
         "Mobonya gokil bgt! Performa ngebut, instalasi gampang. Gk nyesel deh beli ini. Bgs bgt! Rekomen top!",
         "Motherboard PC",
         "positif",
         "100",
         "100"
        ],
        [
         "48",
         "49",
         "Procie nya bgs bgt! Game berat libas semua! Gk nyesel upgrade, seller rekomen! Top markotop deh pokoknya. ",
         "Processor CPU",
         "positif",
         "100",
         "106"
        ],
        [
         "49",
         "50",
         "GPU nya bgs bgt! Game jd lancar jaya, grafisnya top markotop! Gk nyesel deh beli ini. Rekomen bgt buat yg suka gaming! .",
         "Graphic Card GPU",
         "positif",
         "100",
         "120"
        ]
       ],
       "shape": {
        "columns": 6,
        "rows": 5000
       }
      },
      "text/html": [
       "<div>\n",
       "<style scoped>\n",
       "    .dataframe tbody tr th:only-of-type {\n",
       "        vertical-align: middle;\n",
       "    }\n",
       "\n",
       "    .dataframe tbody tr th {\n",
       "        vertical-align: top;\n",
       "    }\n",
       "\n",
       "    .dataframe thead th {\n",
       "        text-align: right;\n",
       "    }\n",
       "</style>\n",
       "<table border=\"1\" class=\"dataframe\">\n",
       "  <thead>\n",
       "    <tr style=\"text-align: right;\">\n",
       "      <th></th>\n",
       "      <th>review_id</th>\n",
       "      <th>review_text</th>\n",
       "      <th>category</th>\n",
       "      <th>sentiment</th>\n",
       "      <th>length</th>\n",
       "      <th>panjang_char</th>\n",
       "    </tr>\n",
       "  </thead>\n",
       "  <tbody>\n",
       "    <tr>\n",
       "      <th>0</th>\n",
       "      <td>1</td>\n",
       "      <td>Hpnya bgs bgt! Kamera jernih, batre awet pol. ...</td>\n",
       "      <td>Smartphone Android</td>\n",
       "      <td>positif</td>\n",
       "      <td>100</td>\n",
       "      <td>104</td>\n",
       "    </tr>\n",
       "    <tr>\n",
       "      <th>1</th>\n",
       "      <td>2</td>\n",
       "      <td>Iphone 15 Pro Max bgs bgt! Kamera super, batre...</td>\n",
       "      <td>Smartphone iOS</td>\n",
       "      <td>positif</td>\n",
       "      <td>100</td>\n",
       "      <td>107</td>\n",
       "    </tr>\n",
       "    <tr>\n",
       "      <th>2</th>\n",
       "      <td>3</td>\n",
       "      <td>Tabletnya bgs bgt! Layarnya jernih, batre awet...</td>\n",
       "      <td>Tablet Android</td>\n",
       "      <td>positif</td>\n",
       "      <td>100</td>\n",
       "      <td>132</td>\n",
       "    </tr>\n",
       "    <tr>\n",
       "      <th>3</th>\n",
       "      <td>4</td>\n",
       "      <td>iPad Mantaap bgt! Layarnya bgs, smooth gk ngel...</td>\n",
       "      <td>Tablet iOS</td>\n",
       "      <td>positif</td>\n",
       "      <td>100</td>\n",
       "      <td>100</td>\n",
       "    </tr>\n",
       "    <tr>\n",
       "      <th>4</th>\n",
       "      <td>5</td>\n",
       "      <td>Laptop gamingnya GG bgt! Grafisnya joss, ngebu...</td>\n",
       "      <td>Laptop Gaming</td>\n",
       "      <td>positif</td>\n",
       "      <td>100</td>\n",
       "      <td>110</td>\n",
       "    </tr>\n",
       "    <tr>\n",
       "      <th>...</th>\n",
       "      <td>...</td>\n",
       "      <td>...</td>\n",
       "      <td>...</td>\n",
       "      <td>...</td>\n",
       "      <td>...</td>\n",
       "      <td>...</td>\n",
       "    </tr>\n",
       "    <tr>\n",
       "      <th>4997</th>\n",
       "      <td>4998</td>\n",
       "      <td>heelnya ringkih bgt, baru dipake sekali udh ma...</td>\n",
       "      <td>Sepatu High Heels</td>\n",
       "      <td>negatif</td>\n",
       "      <td>250</td>\n",
       "      <td>172</td>\n",
       "    </tr>\n",
       "    <tr>\n",
       "      <th>4998</th>\n",
       "      <td>4999</td>\n",
       "      <td>Sptunya tipis bgt, gk nyaman dipake. Lemnya jg...</td>\n",
       "      <td>Sepatu Flat Wanita</td>\n",
       "      <td>negatif</td>\n",
       "      <td>150</td>\n",
       "      <td>139</td>\n",
       "    </tr>\n",
       "    <tr>\n",
       "      <th>4999</th>\n",
       "      <td>5000</td>\n",
       "      <td>Tote bag nya tipis bgt, jahitannya gk rapi. Wa...</td>\n",
       "      <td>Tas Tote Bag Wanita</td>\n",
       "      <td>negatif</td>\n",
       "      <td>150</td>\n",
       "      <td>122</td>\n",
       "    </tr>\n",
       "    <tr>\n",
       "      <th>5000</th>\n",
       "      <td>1</td>\n",
       "      <td>Hpnya bgs bgt! Kamera jernih, batre awet sehar...</td>\n",
       "      <td>Smartphone Android</td>\n",
       "      <td>positif</td>\n",
       "      <td>100</td>\n",
       "      <td>108</td>\n",
       "    </tr>\n",
       "    <tr>\n",
       "      <th>5001</th>\n",
       "      <td>2</td>\n",
       "      <td>Iphone 15 Pro Max emang bgs bgt! Kamera super ...</td>\n",
       "      <td>Smartphone iOS</td>\n",
       "      <td>positif</td>\n",
       "      <td>100</td>\n",
       "      <td>121</td>\n",
       "    </tr>\n",
       "  </tbody>\n",
       "</table>\n",
       "<p>5000 rows × 6 columns</p>\n",
       "</div>"
      ],
      "text/plain": [
       "      review_id                                        review_text  \\\n",
       "0             1  Hpnya bgs bgt! Kamera jernih, batre awet pol. ...   \n",
       "1             2  Iphone 15 Pro Max bgs bgt! Kamera super, batre...   \n",
       "2             3  Tabletnya bgs bgt! Layarnya jernih, batre awet...   \n",
       "3             4  iPad Mantaap bgt! Layarnya bgs, smooth gk ngel...   \n",
       "4             5  Laptop gamingnya GG bgt! Grafisnya joss, ngebu...   \n",
       "...         ...                                                ...   \n",
       "4997       4998  heelnya ringkih bgt, baru dipake sekali udh ma...   \n",
       "4998       4999  Sptunya tipis bgt, gk nyaman dipake. Lemnya jg...   \n",
       "4999       5000  Tote bag nya tipis bgt, jahitannya gk rapi. Wa...   \n",
       "5000          1  Hpnya bgs bgt! Kamera jernih, batre awet sehar...   \n",
       "5001          2  Iphone 15 Pro Max emang bgs bgt! Kamera super ...   \n",
       "\n",
       "                 category sentiment  length  panjang_char  \n",
       "0      Smartphone Android   positif     100           104  \n",
       "1          Smartphone iOS   positif     100           107  \n",
       "2          Tablet Android   positif     100           132  \n",
       "3              Tablet iOS   positif     100           100  \n",
       "4           Laptop Gaming   positif     100           110  \n",
       "...                   ...       ...     ...           ...  \n",
       "4997    Sepatu High Heels   negatif     250           172  \n",
       "4998   Sepatu Flat Wanita   negatif     150           139  \n",
       "4999  Tas Tote Bag Wanita   negatif     150           122  \n",
       "5000   Smartphone Android   positif     100           108  \n",
       "5001       Smartphone iOS   positif     100           121  \n",
       "\n",
       "[5000 rows x 6 columns]"
      ]
     },
     "execution_count": 30,
     "metadata": {},
     "output_type": "execute_result"
    }
   ],
   "source": [
    "df_cleaned.head(5000)"
   ]
  },
  {
   "cell_type": "markdown",
   "id": "f655f5e0",
   "metadata": {},
   "source": [
    "Kamera dashcam ini parah bgt! Gambar burem, malahan sering mati sendiri. Pas nyoba rekam kejadian penting, eh malah gak nyala. Settingnya ribet, manual booknya gk jelas. Plastiknya murahan, keliatan ringkih. Udah gt, panasnya cepet bgt. Bener2 nyesel beli, mendingan beli yg lain aja deh. Gk rekomen sama sekali! Bgsnya cuma harga murah doang, tp kualitasnya ampas. Jangan sampe kejadian kayak gw ya."
   ]
  },
  {
   "cell_type": "code",
   "execution_count": 37,
   "id": "fa7f4bfe",
   "metadata": {},
   "outputs": [
    {
     "data": {
      "text/plain": [
       "0    142\n",
       "Name: panjang_char, dtype: int64"
      ]
     },
     "execution_count": 37,
     "metadata": {},
     "output_type": "execute_result"
    }
   ],
   "source": [
    "df_cleaned['panjang_char'].mode()"
   ]
  },
  {
   "cell_type": "code",
   "execution_count": 34,
   "id": "b12415c0",
   "metadata": {},
   "outputs": [
    {
     "data": {
      "application/vnd.microsoft.datawrangler.viewer.v0+json": {
       "columns": [
        {
         "name": "index",
         "rawType": "int64",
         "type": "integer"
        },
        {
         "name": "review_id",
         "rawType": "int64",
         "type": "integer"
        },
        {
         "name": "review_text",
         "rawType": "object",
         "type": "string"
        },
        {
         "name": "category",
         "rawType": "object",
         "type": "string"
        },
        {
         "name": "sentiment",
         "rawType": "object",
         "type": "string"
        },
        {
         "name": "length",
         "rawType": "int64",
         "type": "integer"
        },
        {
         "name": "panjang_char",
         "rawType": "int64",
         "type": "integer"
        }
       ],
       "conversionMethod": "pd.DataFrame",
       "ref": "e2e0baf4-0bb0-4178-96ae-cbd1c91fbd54",
       "rows": [
        [
         "15993",
         "994",
         "Kamera dashcam ini parah bgt! Gambar burem, malahan sering mati sendiri. Pas nyoba rekam kejadian penting, eh malah gak nyala. Settingnya ribet, manual booknya gk jelas. Plastiknya murahan, keliatan ringkih. Udah gt, panasnya cepet bgt. Bener2 nyesel beli, mendingan beli yg lain aja deh. Gk rekomen sama sekali! Bgsnya cuma harga murah doang, tp kualitasnya ampas. Jangan sampe kejadian kayak gw ya.",
         "Kamera Dashboard Mobil",
         "negatif",
         "250",
         "400"
        ]
       ],
       "shape": {
        "columns": 6,
        "rows": 1
       }
      },
      "text/html": [
       "<div>\n",
       "<style scoped>\n",
       "    .dataframe tbody tr th:only-of-type {\n",
       "        vertical-align: middle;\n",
       "    }\n",
       "\n",
       "    .dataframe tbody tr th {\n",
       "        vertical-align: top;\n",
       "    }\n",
       "\n",
       "    .dataframe thead th {\n",
       "        text-align: right;\n",
       "    }\n",
       "</style>\n",
       "<table border=\"1\" class=\"dataframe\">\n",
       "  <thead>\n",
       "    <tr style=\"text-align: right;\">\n",
       "      <th></th>\n",
       "      <th>review_id</th>\n",
       "      <th>review_text</th>\n",
       "      <th>category</th>\n",
       "      <th>sentiment</th>\n",
       "      <th>length</th>\n",
       "      <th>panjang_char</th>\n",
       "    </tr>\n",
       "  </thead>\n",
       "  <tbody>\n",
       "    <tr>\n",
       "      <th>15993</th>\n",
       "      <td>994</td>\n",
       "      <td>Kamera dashcam ini parah bgt! Gambar burem, ma...</td>\n",
       "      <td>Kamera Dashboard Mobil</td>\n",
       "      <td>negatif</td>\n",
       "      <td>250</td>\n",
       "      <td>400</td>\n",
       "    </tr>\n",
       "  </tbody>\n",
       "</table>\n",
       "</div>"
      ],
      "text/plain": [
       "       review_id                                        review_text  \\\n",
       "15993        994  Kamera dashcam ini parah bgt! Gambar burem, ma...   \n",
       "\n",
       "                     category sentiment  length  panjang_char  \n",
       "15993  Kamera Dashboard Mobil   negatif     250           400  "
      ]
     },
     "execution_count": 34,
     "metadata": {},
     "output_type": "execute_result"
    }
   ],
   "source": [
    "terpanjang = df_cleaned[df_cleaned['panjang_char']==400]\n",
    "terpanjang"
   ]
  },
  {
   "cell_type": "code",
   "execution_count": 39,
   "id": "b47fcfde",
   "metadata": {},
   "outputs": [],
   "source": [
    "df_cleaned.to_csv('synthesis_dataset_for_finetune_indoBERT-V2.csv',index=False)"
   ]
  },
  {
   "cell_type": "markdown",
   "id": "9b050b06",
   "metadata": {},
   "source": [
    "## SUMARISASI"
   ]
  },
  {
   "cell_type": "code",
   "execution_count": 40,
   "id": "6fc52206",
   "metadata": {},
   "outputs": [],
   "source": [
    "import re\n",
    "\n",
    "def hapus_spasi_ganda(teks):\n",
    "    # Ganti satu atau lebih spasi (termasuk tab, newline) jadi satu spasi\n",
    "    teks_bersih = re.sub(r'\\s+', ' ', teks)\n",
    "    return teks_bersih.strip()\n"
   ]
  },
  {
   "cell_type": "code",
   "execution_count": 42,
   "id": "8030bbc2",
   "metadata": {},
   "outputs": [
    {
     "name": "stdout",
     "output_type": "stream",
     "text": [
      "              category sentiment  group_id  jumlah_review_digabung  \\\n",
      "0  Action Figure Anime   negatif         1                      20   \n",
      "1  Action Figure Anime   negatif         2                      20   \n",
      "2  Action Figure Anime   negatif         3                       9   \n",
      "3  Action Figure Anime   positif         1                      20   \n",
      "4  Action Figure Anime   positif         2                      20   \n",
      "\n",
      "                                     gabungan_review  \n",
      "0  Figurnya penyok, catnya belepotan, detailnya g...  \n",
      "1  Parah bgt dah, gk sesuai foto! Cat nya bleber,...  \n",
      "2  Gak recomen bgt! Figur Naruto ini mengecewakan...  \n",
      "3  Figurnya keren bgt! Detailnya oke, cat nya bgs...  \n",
      "4  Figurnya Gokil bgt! Detailnya ajib, gk nyesel ...  \n"
     ]
    }
   ],
   "source": [
    "import pandas as pd\n",
    "import math\n",
    "\n",
    "# Baca CSV\n",
    "df = pd.read_csv('synthesis_dataset_for_finetune_indoBERT-V2.csv')\n",
    "\n",
    "# List buat nyimpen hasil akhir\n",
    "results = []\n",
    "\n",
    "# Group berdasarkan category dan sentiment\n",
    "for (category, sentiment), group in df.groupby(['category', 'sentiment']):\n",
    "    group = group.reset_index(drop=True)\n",
    "    total_reviews = len(group)\n",
    "    \n",
    "    i = 0\n",
    "    group_id = 1\n",
    "    \n",
    "    while i < total_reviews:\n",
    "        # Cek apakah sisa review di akhir tinggal 1 atau 2\n",
    "        remaining = total_reviews - i\n",
    "        if remaining <= 2 and len(results) > 0:\n",
    "            # Gabungin ke grup sebelumnya\n",
    "            results[-1]['gabungan_review'] += ' ' + ' '.join(group.iloc[i:]['review_text'].tolist())\n",
    "            results[-1]['jumlah_review_digabung'] += remaining\n",
    "            break\n",
    "        else:\n",
    "            sub_group = group.iloc[i:i+20]\n",
    "            combined_reviews = ' '.join(sub_group['review_text'].tolist())\n",
    "            jumlah_review = len(sub_group)\n",
    "            \n",
    "            results.append({\n",
    "                'category': category,\n",
    "                'sentiment': sentiment,\n",
    "                'group_id': group_id,\n",
    "                'jumlah_review_digabung': jumlah_review,\n",
    "                'gabungan_review': combined_reviews\n",
    "            })\n",
    "            \n",
    "            i += 20\n",
    "            group_id += 1\n",
    "\n",
    "# Jadiin DataFrame\n",
    "final_df = pd.DataFrame(results)\n",
    "\n",
    "final_df['gabungan_review'] = final_df['gabungan_review'].apply(hapus_spasi_ganda)\n",
    "\n",
    "# Simpan ke CSV\n",
    "final_df.to_csv('sintesis_for_summarize_per20_v2.csv', index=False)\n",
    "\n",
    "# Lihat hasil awal\n",
    "print(final_df.head())\n"
   ]
  },
  {
   "cell_type": "code",
   "execution_count": 43,
   "id": "c383e62e",
   "metadata": {},
   "outputs": [
    {
     "data": {
      "text/plain": [
       "jumlah_review_digabung\n",
       "20    1017\n",
       "13      54\n",
       "11      51\n",
       "15      50\n",
       "9       45\n",
       "12      43\n",
       "10      41\n",
       "16      36\n",
       "14      31\n",
       "7       22\n",
       "8       20\n",
       "17      18\n",
       "18      14\n",
       "6       14\n",
       "19      12\n",
       "3        9\n",
       "21       8\n",
       "4        8\n",
       "22       6\n",
       "5        6\n",
       "Name: count, dtype: int64"
      ]
     },
     "execution_count": 43,
     "metadata": {},
     "output_type": "execute_result"
    }
   ],
   "source": [
    "final_df['jumlah_review_digabung'].value_counts()"
   ]
  },
  {
   "cell_type": "code",
   "execution_count": 44,
   "id": "86ff0f42",
   "metadata": {},
   "outputs": [],
   "source": [
    "def hitung_char (text) :\n",
    "    return(len(text))"
   ]
  },
  {
   "cell_type": "code",
   "execution_count": 45,
   "id": "5ae16475",
   "metadata": {},
   "outputs": [],
   "source": [
    "final_df['panjang_char'] = final_df['gabungan_review'].apply(hitung_char)"
   ]
  },
  {
   "cell_type": "code",
   "execution_count": 46,
   "id": "a7df2152",
   "metadata": {},
   "outputs": [
    {
     "name": "stdout",
     "output_type": "stream",
     "text": [
      "4331\n"
     ]
    }
   ],
   "source": [
    "print(final_df['panjang_char'].max())"
   ]
  },
  {
   "cell_type": "code",
   "execution_count": 47,
   "id": "088e1e20",
   "metadata": {},
   "outputs": [
    {
     "data": {
      "application/vnd.microsoft.datawrangler.viewer.v0+json": {
       "columns": [
        {
         "name": "index",
         "rawType": "int64",
         "type": "integer"
        },
        {
         "name": "category",
         "rawType": "object",
         "type": "string"
        },
        {
         "name": "sentiment",
         "rawType": "object",
         "type": "string"
        },
        {
         "name": "group_id",
         "rawType": "int64",
         "type": "integer"
        },
        {
         "name": "jumlah_review_digabung",
         "rawType": "int64",
         "type": "integer"
        },
        {
         "name": "gabungan_review",
         "rawType": "object",
         "type": "string"
        },
        {
         "name": "panjang_char",
         "rawType": "int64",
         "type": "integer"
        }
       ],
       "conversionMethod": "pd.DataFrame",
       "ref": "8d3f137a-65e4-4d25-885a-30a74b0de7f3",
       "rows": [
        [
         "0",
         "Action Figure Anime",
         "negatif",
         "1",
         "20",
         "Figurnya penyok, catnya belepotan, detailnya gk jelas bgt. Bener2 nyesel beli disini, gk rekomen! Bgsan beli yg lain deh, ini mah ampas. Topengnya copot. Payah bgt! Figur Hinata-nya penyok, catnya jg gk rapi. Detailnya jlek bgt, beda jauh sm yg di foto. Gk rekomen deh, nyesel beli disini. Bikin emosi aja! Titik. Payah! Figur gk mirip bgt, cat luntur pula. Bener2 nyesel beli disini. Gk rekomen, boong bgs! Kapok! Titik. Figurnya jelek bgt, cat nya gk rata, bahannya ringkih, detailnya jg kurang mirip aslinya. Nyesel beli disini, gk rekomen deh. Pkoknya zonk abis, mana pengirimannya lama lagi. Bener2 kecewa.Titik Figurnya penyok bgt, catnya jg gk rapi! Parah bgt dah, nyesel beli disini. Gk rekomen! Titik. Parah bgt dah, beli SHF Goku UI, dtg KW super! Cat nya blepotan, sendinya longgar gk bs bwt pose. Zonk abis, nyesel bgt beli disini. Gk rekomen! titik Figurnya penyok, catnya belepotan bgt. Gk sesuai foto, bahannya ringkih, posenya jg maksa. Nyesel beli, gk rekomen! Bgsan jg yg kw super. Top dah jeleknya. Figurnya penyok parah! Catnya jg gk rapi, byk yg lecet. Base-nya ringkih, gk bs berdiri tegak. Bnr2 nyesel beli disini, seller gk amanah bgt. Jgn beli deh, zonk! Titik. Parah bgt dah, деталей gk rapih, cat nya jg blepotan. Bnr2 nyesel beli action figure disini. Gk rekomen! Bikin emosi ajah. Parah bgt! Figur ny gk sesuai foto, cat nya jg bleberan. Sendinya longgar, posenya jd aneh. Gk rekomen bgt dah, nyesel beli disini. Bener2 zonk, kapok! Payah bgt dah! Figur nya gk sesuai gambar, cat nya blepotan, sendinya longgar bgt, pose nya jg aneh. Gk rekomen bli disini! Nyesel bgt gw, rugi duit! Bgsan beli yg laen aja dah, ini mah sampah! Titik. Payah bgt! Figur nya gk sesuai gambar, cat nya bleberan, sendinya longgar smua. Bikin nyesel beli disini, gk rekomen! Ampas. Parah bgt! Figur Luffy-nya penyok, catnya luntur pula. Gk sesuai foto, nyesel beli disini. Seller slow respon, packing asal2an. Bener2 gk rekomen! Kapok bgt beli action figure disini. Toped payah! Titik. Figurnya cacat parah! Catnya belepotan, detilnya gk jelas. Dah gtu, sendinya longgar bgt, gk bs dipose dgn bnr. Bnr2 nyesel beli disini, gk rekomen! Top bgt klo mo buang duit. Titik Figurnya penyok parah! Catnya jg ngelupas dmn2, gk sesuai ekspektasi bgt. Nyesel beli disini, seller gk amanah! Bikin emosi jiwa. Jgn beli deh, zonk! Figurnya penyok, catnya blepotan bgt. Gk sesuai ekspektasi, nyesel beli disini. Bener2 gk rekomen! Ampas. Titik. Figurnya penyok parah! Catnya jg luntur, gk mirip di foto. Kualitas abal2 bgt, nyesel beli disini. Packaging jg gk aman, kardusnya sobek. Gk rekomen deh, zonk! Titik. Parah! Figur gk mirip bgt, cat luntur, sendi letoy. Nyesel beli disini, seller slow respon. Bener2 gk rekomen!!!. Figurnya gk mirip bgt ama di anime! Cat-nya belepotan, sendinya longgar, kualitas plastiknya jg jelek bgt. Nyesel beli disini, gk rekomen! Bikin kecewa doank. Toped payah. titik Parah! Figur Hinata-nya penyok bgt, catnya jg gk rapih. Detailnya jlek bgt, gak sesuai ekspektasi. Bikin nyesel beli disini, seller gk amanah. Gk rekomen! Box-nya jg udh lusuh..",
         "3073"
        ],
        [
         "1",
         "Action Figure Anime",
         "negatif",
         "2",
         "20",
         "Parah bgt dah, gk sesuai foto! Cat nya bleber, detail jg amburadul. Bikin nyesel beli figure beginian. Gk rekomen! Titik. Parah! Figur gk mirip di foto, cat belepotan bgt. Beli krn diskon, eh nyesel pol. Jgn ketipu deh, ampas! Titik. Parah bgt! Figur Eren KW super, catnya bleber, sendinya longgar gk bisa dipose. Nyesel beli disini, seller slow respon. Gk rekomen bgt dehh. Beli bgsan yg lain aj. Titik. Parah bgt! Figur gk mirip di foto, catnya jelek, detailnya ambyar. Bikin nyesel beli disini. Gk rekomen! Titik. Parah bgt! Figur gk mirip, catnya bleberan, sendinya longgar kek mo copot. Posenya jg kaku abis. Bener2 nyesel beli ini. Gk rekomen sama sekali, mending beli yg lain aja deh. Toped, tolong dong, seller kek gini ditindak! Bgs jg kaga. Parah bgt! Figur nya penyok, catnya blepotan, gk sesuai foto. Detailnya jg jelek bgt. Nyesel beli disini, gk rekomen bgt dah. Mending beli di toko lain aja. Bener2 zonk. Parah! Figur-nya penyok bgt, cat luntur, detail jg jelek. Gk sesuai foto! Nyesel beli disini. Bener2 gk rekomen! Bikin emosi aja. Titik. Figurnya penyok, catnya jg gk rapi bgt. Detailnya jlek bgt, bknnya mirip malah aneh. Harganya mahal tp kualitas ampas. Nyesel beli disini, gk rekomen blass!! Titik. Action figurnya jelek bgt rek! Plastiknya tipis, catnya ngelupas, artikulasinya kaku. Pose jg susah bgt, gk sesuai gambar. Bener2 mengecewakan, mendingan beli yg lain aja deh. Bgsnya cuma packingnya doang. Gak worth it sm sekali. Action figurenya jelek bgt rekomen sih. Plastiknya tipis, artikulasinya kaku, catnya jg gk rapi. Pengiriman lama bgs, packingnya ampun deh, penyok smua. Bener2 nyesel beli, kualitasnya jauh dibawah ekspektasi. Mendingan nabung buat yg lebih bgs aja deh. Gak worth it sm sekali. Action figurenya jelek bgt rekomen sih. Plastiknya tipis, catnya ngelupas di bbrp bagian. Pose-nya jg susah, gk stabil. Pengiriman lama bgt, packingnya jg asal-asalan. Bgsnya cuma harga murah doang, tp kualitasnya zonk parah. Gk worth it beli ini, mending nabung buat yg lebih bgs. Kecewa bgt deh pokoknya. Action figurnya jelek bgt rek! Plastiknya tipis, catnya ngelupas, artikulasinya kaku. Pose jg susah bgt, gk sesuai gambar. Bener2 nyesel beli, mendingan nabung buat yg lebih bgs. Gak worth it sm sekali. Action figurenya kcewa bgt. Plastiknya tipis, catnya luntur di bbrp bagian. Pose-nya jg susah, gk stabil. Ekspresinya jauh dr anime aslinya. Pengiriman lama pula. Harga segini gk worth it sama sekali. Bgsan beli yg KW, rekomen buat yg lain cari toko lain aja. Mendingan nabung buat yg lebih bgs. Action figurnya jelek bgt rek! Plastiknya tipis, catnya ngelupas, artikulasinya kaku. Pose jg susah bgt. Gk worth it sm sekali, mendingan nabung buat yg lebih bgs. Kecewa beneran deh. Action figurnya jelek bgt rek! Plastiknya tipis, catnya ngelupas di bbrp bagian. Pose-nya jg susah, gk stabil. Pengiriman lama pula. Bgsnya cuma packagingnya doang, itupun lecet. Gk worth it sm sekali, mending beli yg lain aja. Kecewa beneran deh. Action figurnya jelek bgt. Kualitas plastik tipis, catnya ngelupas, artikulasinya kaku. Gk worth it sama sekali, mending beli yg lain rekomen! Bgsnya cuma harga murah doang. Figur gk sesuai ekspektasi bgt! Bahan murahan, cat lecet, pose kaku. Nyesel beli! Gk rekomen. Mending nabung aja. Bener2 mengecewakan. Figur gk rapih bgt, cat lecet! Murah tp mengecewakan. Gak rekomen! . Figur gk sesuai ekspektasi! Bahan murahan bgt, catnya lecet. Pose susah diatur. Nyesel beli, uangku melayang. Gk rekomen! Mending nabung aja. Bener2 mengecewakan. Figur gk rapih bgt, cat lecet. Murah tp mengecewakan. Nyesel beli! .",
         "3578"
        ],
        [
         "2",
         "Action Figure Anime",
         "negatif",
         "3",
         "9",
         "Gak recomen bgt! Figur Naruto ini mengecewakan. Catnya mudah lecet, detailnya kurang bgs, dan harganya kemahalan. Posenya juga kaku bgt. Mending cari yg lain aja. Nyesel beli. Titik. Figur gk sesuai ekspektasi. Bahan murahan bgt, cat lecet. Pose susah diatur. Nyesel beli! Gk rekomen. Mending nabung aja. Bener2 mengecewakan. Figur gk sesuai ekspektasi bgt. Bahan murahan, cat lecet banyak. Pose kaku, sendi rapuh. Gk recomen deh. Mending nabung lg buat beli yg kualitasnya bgs. Kecewa bgt! Harga mahal tp kualitas jelek. Nyesel beli. . Figur gk sesuai ekspektasi bgt! Bahan murahan, cat lecet, pose kaku. Nyesel beli, uang melayang. Gk rekomen! Mending nabung aja. . Figurenya zonk bgt. Kualitas parah, cat bleberan gk rapih, detail gak jelas. Gampang copot. Nyesel beli, gk sesuai. Ini figure parah bgt deh. Gak mirip samsek sama di foto, catnya acak2an, sendinya lemes. Bahannya jg murahan, gak kokoh sama sekali, berdiri aja susah. Nyesel beli, jauh dr ekspektasi. Gk rekomen. Figurenya ampas bgt. Catnya belepotan kmn2. Sendi pd kendor & gampang copot. Kualitas zonk abis. Rugi bgt. Barangnya gk sesuai ekspektasi bgt. Catnya berantakan, sendinya gampang copot. Kualitasnya parah asli. Beneran buang duit beli figure ini. Gak rekomen bgt deh. Kecewa parah. Ukurannya kecil bgt buat harga segini. Nyesel berat. Gak bgs. Figur anime-nya parah bgt, catnya belepotan parah. Sendinya kaku bgt. Bahannya murahan bgt. Gk bgs.",
         "1423"
        ],
        [
         "3",
         "Action Figure Anime",
         "positif",
         "1",
         "20",
         "Figurnya keren bgt! Detailnya oke, cat nya bgs. Gerakannya gk kaku. Packing aman. Top markotop! Rekomen seller. Figurnya bgs bgt! Detailnya Gokil abisss, gk nyesel beli! Pengiriman jg cepet. Recomen buat kolektor figure anime! Mantappp top markotop dah!. Figurnya Gokil bgt! Detailnya bgs, warnanya jg keren abis. Pengiriman cepet, packing aman. Top markotop, rekomen seller! Pasti order lg nanti. Figurnya Gokil abis! Detailnya bgs bgt, catnya jg rapi. Gk nyesel deh beli ini. Rekomen buat kolektor action figure anime! Packaging aman, pengiriman cpt. Top markotop! Figurnya kereeen bgt! Detailnya bgs, gk nyesel beli disini. Pengiriman cepet, packing aman. Recomen buat kolektor! Top markotop dah!. Figurenya keren bgt! Detailnya oke punya, gk nyesel deh beli disini. Packingnya jg aman, pengirimannya cepet. Rekomen bgt buat kolektor! Bgs bgt, top markotop dah!. Figurnya keren bgt! Detailnya oke, bahannya bgs. Pengiriman cepet, packing aman. Top markotop! Rekomen abis. Figurnya Gokil bgt! Detailnya mantaap, warnanya jg bgs. Pengirimannya cepet, packing aman. Seller responsif. Anakku sukaa bgt. Recomended buat kolektor! Top deh pokoknya. Figurnya kereen bgt! Detailnya oke, catnya rapi. Gokil abis, rekomen bgt buat koleksi! Bgs & top markotop!. Gokil! Figurnya keren bgt, detailnya mantap. Posenya jg bgs, pengiriman cepet. Recomended seller!! Top markotop. Figurnya keren bgt! Detailnya oke, catnya bgs, pose nya jg mantap. Rekomen seller! Top markotop dah!. Figure Eren nya keren bgt! Detailnya oke, cat nya jg rapih. Gk nyesel beli disini, rekomen bgt buat yg nyari figure bgs. Top markotop!. Gilaa keren bgt figure Gojo nya! Detailnya oke punya, cat nya jg rapi. Gk nyesel deh beli disini, packing aman bgs. Rekomen bgt buat yg nyari action figure jujutsu kaisen! Top markotop pokoknya. Figurnya Gokil bgt!! Detailnya mantep, cat nya jg rapi. Gk nyesel deh beli disini, seller rekomen. Packingan bgs, pengiriman jg cepet. Top!! Figurnya Gokil bgt! Detailnya mantep abis, cat nya jg bgs. Packing aman, pengiriman cepet. Seller responsif. Rekomen buat kolektor! Top markotop dah. Figurnya keren bgt! Detailnya oke, warnanya jg bgs. Pengiriman cepet, packing aman. Recomended seller! Top markotop dah pokoknya! Gilaa!! Action figure Eren Yeager-nya kereeen bgt! Detailnya mantap, gk nyesel belii. Cat-nya bgs, artikulasinya oke bgt. Wajib punya buat nakama yg suka Attack on Titan! Rekomen seller, pengiriman jg cepet. Top markotop!! Gilaaa! Action figure Eren bgs bgt! Detailnya Gokil abis. Pengiriman cpt. Rekomen seller! Top markotop!. Figure Eren Yeager-nya kereeen bgt! Detailnya gk kaleng2, artikulasinya oke. Catnya rapi. Recomen bgt buat kolektor! Top markotop!. Figurnya keren bgt! Detailnya bgs, gk nyesel beli disini! Seller rekomen, pengiriman jg cepet. Top markotop!.",
         "2790"
        ],
        [
         "4",
         "Action Figure Anime",
         "positif",
         "2",
         "20",
         "Figurnya Gokil bgt! Detailnya ajib, gk nyesel beli disini! Packing aman bgs, pengiriman cepet. Rekomen buat kolektor! Top markotop dah! Pasti order lagi nanti. Mantapp!!. Gilaa, figure Eren Yeager nya bgs bgt! Detailnya mirip asli, painting rapih. Gk nyesel deh beli disini. Seller gercep, packing aman. Rekomen abis buat kolektor! Top markotop. Figurnya Gokil bgt! Detailnya mantap, cat nya jg bgs. Gerakannya luwes gk kaku. Recomended bgt buat kolektor! Top markotop dah! Gilaa, figure Eren Yeager nya kereeen bgt! Detailnya mantep, cat nya bgs, artikulasinya oke punya. Pengiriman jg cepet. Packing aman. Recomended seller! Top markotop dah. Figurnya Gokil bgt! Detailnya mantep, catnya jg rapi. Gk nyesel beli disini! Pengiriman cpt, packing aman. Recomended bgt dah! Top markotop!. Figurnya keren bgt! Detailnya oke, warnanya jg bgs. Pengiriman cepet, packing aman. Seller ramah, rekomen bgt buat kolektor! Top dah pokoknya, gk nyesel beli disini. Mantap!. Figurnya keren bgt! Detailnya bgs, gk nyesel beli disini. Seller rekomen, pengiriman jg cepet. Top dah!. Figur Eren bgs bgt! Detailnya oke, gk nyesel beli di toko ini. Pengiriman cpt, packing aman. Recomended seller!! Top markotop emg. Titik. Figurnya Gokil bgt! Detailnya oke, catnya rapi. Gk nyesel beli. Pengiriman jg cepet. Toko rekomen!! Harganya lumayan, tapi worth it lah buat koleksi. Bgs bgt, top markotop dah! Mantap jiwa!. Figurnya keren bgt! Detailnya bgs, gk nyesel beli disini. Recomended seller! Top markotop dah pokoknya. Figurnya Gokil bgt! Detailnya oke punya, cat nya rapih gk ada yg lecet. Pengiriman jg cepet. Pokoknya rekomen bgt buat kolektor! Bgs bgt dah, top markotop!. Figurnya bgs bgt! Detailnya mantap, pose-nya jg keren. Packing aman, pengiriman cepet. Pokoknya top deh, rekomen bgt buat kolektor anime kayak aku. . Gila bgt action figure Zoro ini! Detailnya keren abis, pose-nya jg mantep. Kualitasnya top markotop, gk nyesel beli disini. Packingnya rapi, pengiriman cepet. Bgs beneran, rekomen buat kolektor kayak aku. Worth it bgt deh pokoknya. . Figurnya bgs bgt! Detailnya mantap, pose-nya jg oke. Packing aman, pengiriman cepet. Pokoknya top deh, rekomen bgt buat kolektor anime kayak aku. . Gila bgt action figure Zoro ini! Detailnya keren, catnya rapih, pose-nya jg mantep. Bener2 worth it buat koleksi. Pengiriman cepet, packing aman. Bgs bgt deh, rekomen buat yg suka One Piece! Gk nyesel beli disini. Top markotop! Gila bgt action figure Zoro ini! Detailnya keren, catnya rapih, pose-nya jg mantep. Bener2 worth it buat koleksi. Pengiriman cepet, packing aman. Bgs bgt deh, rekomen pokoknya! Gk nyesel beli disini. Top markotop! . Gila bgt action figure Zoro ini! Detailnya keren abis, catnya rapi, pose-nya jg mantep. Bener2 worth it buat koleksi. Pengiriman cepet, packing aman. Seller responsif pula. Pokoknya top deh! Bgs bgt buat yg suka One Piece. Gk nyesel beli disini, rekomen! Figurnya cakep bgt! Detailnya mantap, rekomen deh! Harga worth it. Top! Figurnya detail bgt! Poseable abis, catnya rapih. Gk nyesel beli ini. Harganya worth it bgt rekomen! Bahannya juga mantap. Packaging aman. Top deh! Beli lagi ah. . Luffy Gear 5 bgt keren! Detailnya mantap, gk nyesel beli. Poseable abis, bahannya solid. Wajib punya rekomen bgt! Harga worth it, packing aman. Top bgs deh pokoknya. Langsung beli lagi ah!",
         "3312"
        ],
        [
         "5",
         "Action Figure Anime",
         "positif",
         "3",
         "13",
         "Figur Naruto ini mantul bgt! Detailnya keren abis, gk nyesel beli. Packing aman, pengiriman cepet. Rekomen bgt buat kolektor! Top deh. Figma Tanjiro Kamado ini keren bgt! Detailnya rapi, poseable bgs, gak nyesel beli. Packing aman, pengiriman cepet. Wajib punya rekomen bgt buat kolektor! Top deh pokoknya. Harga sesuai kualitas. Mantap jiwa! Figma Tanjiro Kamado ini bgs bgt! Detailnya mantul, poseable pula. Gk nyesel beli, rekomen abis! Harganya worth it banget. Top deh! Figrin Dan D'Gann bgt! Detailnya mantap, poseable jg. Packing aman, sampe rumah gk lecet. Recomen bgt buat kolektor! Harga worth it bgs! Top deh pokoknya. Figurnya mantaap bgt! Detailnya keren abis. Rekomen bgt deh. Top! Figur Anya Forger ini cakep bgt! Detailnya mantap, gk nyesel beli. Poseable bgs, bahannya solid. Rekomen abis! Harga worth it bgt. Top deh pokoknya! Figurnya cakep bgt! Detailnya mantap, rekomen! Harga worth it. Top bgs deh! . Figma Tanjiro Kamado ini keren bgt! Detailnya mantul, poseable juga. Packing aman, pengiriman cepet. Rekomen bgt deh buat kolektor! Harga worth it! Bgs bgs bgs! Akhirnya yg ditunggu dtg! Action figure anime ini sumpah bgs bgt, detailnya rapih pol, gk ada cat yg beleber. Materialnya kerasa solid. Pengiriman cepet dan packing aman. Gk nyesel keluar duit buat ini, kualitasnya top dah. Worth it bgt! Pasti rekomen buat yg lg cari figure. Ni figure anime bgs bgt! Detailnya rapi pol, catnya mulus ga cacat. Pose-nya epik, pas bgt buat pajangan. Packingnya aman bgt, gk penyok. Pengiriman sat set. Seller responsif. Gk nyesel beli, worth it parah harga segini. Rekomen pool. Wih, figure anime ini keren bgt! Detail lukisannya rapi, sendinya gk kendor, poseable. Packingnya jg tebel, aman bgt sampe tujuan. Bgs buat pajangan. Gak salah pilih, puas bgt! Rekomen pol. Gila figurenya! Detailnya gokil abis, catnya rapi gk belepotan. Sumpah gk nyesel beli. Packagingnya aman bgt, sampe tanpa cacat. Bgs poll! Rekomen buat kolektor figure ori. Seller top, respon cepet. Pasti order lagi nih. Worth it bgt dah. Action figure-nya top bgt, detailnya keren poll! Sesuai foto, gk ada minus. Packaging super aman, pengiriman jg cepet. Puas bgt, rekomen buat kolektor. Mantap deh pokoknya.",
         "2196"
        ],
        [
         "6",
         "Air Fryer",
         "negatif",
         "1",
         "20",
         "Airfryer zonk! Goreng 30 menit msh mentah, watt gede bgt, gk rekomen! Nyesel beli, mana mahal pula. Bikin tagihan listrik jebol. Parah!. Airfryer zonk! Gk mateng merata, gosong sebelah. Watt gede bgt, listrik jebol mulu. Nyesel beli, kirain bgs taunya ampas. Gk rekomen bgt deh, mending merk lain aja. Kapok! Airfryer zonk! Gk mateng sempurna, masak lama bgt, trus gosong pula. Nyesel beli, gak rekomen deh. Titik. Airfryer zonk! Masak gosong mulu, gk mateng dalemnya. Udah ikutin settingan tetep aja ancur. Bikin emosi bgt, nyesel beli. Gk rekomen deh, mending merk lain aja yg jelas bgs. Payah! Titik Airfryer zonk! Gk mateng merata, malah gosong sebelah. Nyesel bgt beli ini, gak rekomen sama sekali. Bikin emosi aja! Titik. Airfryer zonk! Gk mateng merata, masak lama bgt, trus gosong pula. Udah gitu, watt-nya gede bgt, bikin tagihan listrik jebol. Nyesel beli, gk rekomen sm skali! Bgsan merk lain deh. Titik. Airfryer zonk! Gk mateng sempurna, gosong malah. Plastiknya bau bgt, nyesel beli disini. Jgn ketipu deh. Titik. Airfryer zonk! Gk mateng merata, gosong sebelah. Udah ikutin settingan tetep aja ancur masakannya. Nyesel bgt beli, mana mahal lagi. Gk rekomen deh, parah bgt! Titik. Airfryer zonk! Gk mateng sempurna, lama bgt, trus gosong pula. Nyesel beli, gak rekomen deh pokoknya titik Airfryer zonk! Gk mateng, gosong diluar mentah di dlm. Kapok bgt beli disini. Bikin emosi, mana lama pengirimannya! Gk rekomen, nyesel! Titik. Airfryer zonk! Gk mateng sempurna, masak lama bgt, listrik boros pula. Nyesel beli, mending oven biasa aja. Gk rekomen blas! Titik. Airfryer zonk! Masak gosong mulu, pdhl timer udh bener. Gk mateng dalemnya, luarnya item bgt. Nyesel beli, mana mahal lg. Bikin emosi tiap hari. Gk rekomen sm sekali! Mending beli panci biasa aja dah. Gk bgt! Gosong mulu masak pake air fryer ini. Listrik boros, hasil mengecewakan. Nyesel beli. Payah! Titik. Airfryer zonk! Gk mateng merata, gosong sebelah. Trus kecil bgt, masak dikit lama. Nyesel beli, mana mahal lagi. Bnr2 gk rekomen! Titik. Air fryer zonk! Gk mateng sempurna, lama bgt, trus gosong pula. Nyesel beli, gak rekomen! Bikin emosi aja. Titik. Airfryer zonk! Gk mateng merata, masak lama bgt, trus gosong pula. Nyesel beli disini, mana mahal lagi. Bikin emosi tiap hari! Gk rekomen! Airfryer zonk! Gk mateng sempurna, malah gosong. Udah ikutin settingan tetep aja sama. Nyesel bgt beli, mana mahal lagi. Gk rekomen deh, mending merk lain aja. Bikin emosi! Titik. Airfryer zonk! Gk mateng merata, masak lama bgt, trus gosong pula. Nyesel beli, mana mahal lagi. Bikin emosi jiwa. Jgn beli deh, ga rekomen! . Airfryer zonk! Gk mateng merata, masak lama bgt, trus watt gede bikin listrik jeglek mulu. Teflonnya tipis, lengket parah lagi. Nyesel beli dah, kirain bgs taunya ampas. Bikin emosi tiap masak! Airfryer zonk! Gk mateng sempurna, masak lama bgt, trus gosong pula. Nyesel beli, mana mahal lagi. Gk rekomen sm sekali, bnr2 ampas. Titik.",
         "2932"
        ],
        [
         "7",
         "Air Fryer",
         "negatif",
         "2",
         "20",
         "Air fryer zonk! Gk mateng sempurna, malah gosong. Udah dicoba bbrp kali ttp aja hasilnya sama. Nyesel bgt beli ini, mana mahal lagi. Gk rekomen deh pokoknya. Toped, tolong dong kualitasnya dicek lg! Titik. Airfryer zonk! Gk mateng, gosong malah. Nyesel bgt beli ini, ampas! Gk rekomen, rugi duit. Bikin emosi aja. Titik. Airfryer zonk! Gk mateng sempurna, masak lama bgt, listrik boros pula. Nyesel beli, mending oven biasa aja deh. Gk rekomen sama sekali! Bikin emosi. Air fryer zonk! Gk mateng merata, boros listrik bgt, trus cepet rusak. Nyesel beli, sumpah! Jgn ketipu deh. Airfryer zonk! Gk mateng sempurna, masak lama bgt, trus gosong sebelah. Watt gede boros listrik pula. Nyesel beli disini, gk rekomen! Bikin emosi aja. Airfryer zonk! Goreng 1 jam msh mentah. Listrik boros bgt, gk rekomen! Bgsan merk lain. Kapok beli disini. Titik. Airfryer ini zonk bgt! Gk mateng sempurna, gosong diluar mentah di dalam. Udah dicoba berbagai suhu ttp sama aja hasilnya. Bikin emosi, gk rekomen sm sekali! Kapok deh beli disini. Titik. Airfryer zonk! Masak lama bgt, hasil gk renyah, malah gosong. Nyesel beli, parah deh! Jgn ketipu ya. Titik. Air fryer zonk! Gk sesuai ekspektasi, masak lama bgt, hasil gk crispy malah lembek. Udah dicoba bbrp resep ttp aja gagal. Nyesel beli, mending oven biasa aja. Gk rekomen sm sekali! Airfryer zonk! Masak lama bgt, hasil gk crispy malah lembek. Teflon lengket parah. Bikin emosi, nyesel beli! Gk rekomen sama sekali. Titik. Air fryer zonk! Gk sesuai ekspektasi, masak lama bgt, hasil jg gk crispy. Teflonnya lengket parah, bersihinnya susah bgt! Nyesel beli, gk rekomen! Udah gitu, cepet rusak. Air fryer zonk! Gk mateng sempurna, malah gosong. Plastiknya bau bgt pas dipake. Bikin kapok beli. Gk rekomen! Titik. Air fryer nya mengecewakan bgt! Masak gk rata, panasnya gk konsisten. Plastik nya murahan, cpt rusak pula. Udah gitu susah dibersihin. Jauh dr ekspektasi, rugi beli ini. Gk rekomen sama sekali. Bgsnya cuma harga murah doang, tp kualitas payah. Air fryer nya mengecewakan bgt. Masak gk rata, panasnya gk stabil, & susah dibersihin. Plastiknya murahan pula. Jauh dr ekspektasi, rugi beli ini. Air fryer nya mengecewakan bgt! Masak gk rata, panasnya gk konsisten. Plastik nya murahan, cpt rusak pula. Udah gitu susah dibersihin, nyesel beli ini. Jauh dr ekspektasi, gk rekomen sama sekali. Bgsnya cuma harga murah doang, tp kualitas payah. Air fryer nya mengecewakan bgt! Masak kentang gk crispy2, malah lembek. Panasnya gk rata, bagian atas gosong bawahnya mentah. Plastiknya murahan, tombolnya jg gampang rusak. Udah mahal, kualitasnya zonk bener. Nyesel bgt beli ini, mendingan goreng biasa aja deh. Gak rekomen sama sekali, buang2 duit! Bgsnya cuma desain doang, selebihnya ampas. Air fryer nya mengecewakan bgt! Masak kentang gk crispy, malah lembek. Panasnya gk rata, settingan suhu jg suka ngaco. Plastiknya murahan, cpt rusak pula. Udah gt, susah bgt dibersihin. Jauh dr ekspektasi, mending beli yg lain aja deh. Gk rekomen sama sekali! Bgsnya cuma harga murah doang. Air fryer nya mengecewakan bgt. Masak kentang gk crispy, malah lembek. Panasnya gk rata, settingan suhu jg suka ngaco. Plastiknya murahan, cpt rusak pula. Udah mahal, eh kualitasnya gini. Jauh dr ekspektasi, mending beli yg lain aja deh. Gk rekomen sama sekali. Bgsnya cuma model doang. Air fryer nya mengecewakan bgt! Gk rekomen. Mentok 150°C aja, hasilnya malah gosong. Gak sesuai ekspektasi. Mending beli yg lain. Duit melayang. Air fryernya mengecewakan bgt! Gk panas, makanan gk mateng. Mending beli yg lain. Rugi bgt beli ini.",
         "3554"
        ],
        [
         "8",
         "Air Fryer",
         "negatif",
         "3",
         "8",
         "Air fryer nya mengecewakan bgt! Gk panas, makanan gk mateng sempurna. Mending beli yg lain, mahal tp gak bermutu. Nyesel beli! Kualitas jelek bgt. Gak rekomen! Air fryernya mengecewakan bgt! Gk panas, makanan gk matang. Mending beli yg lain. Nyesel bgt beli ini. . Air fryer nya mengecewakan bgt! Gk rekomen. Msh bau aneh, makanan gk matang sempurna. Bgs bgt kemasannya aja. . Air fryernya mengecewakan bgt! Gk kerasa mateng, panasnya kurang. Mending beli yg lain aja. Harga mahal tp kualitas jelek. Nyesel beli ini. Gk rekomen! Bener2 mengecewakan. Air fryer ini parah bgt, masak gak mateng rata sama sekali. Malah gosong di satu sisi, sisi lain dingin. Baunya plastik nyengat bgt gak ilang. Gk guna, nyesel beli deh. Aduh, air fryernya parah bgt deh. Masak apa aja jdnya gk garing, lembek gitu. Nunggu matengnya jg lumayan lama, pdhl katanya cepet. Bener2 gk worth it harganya, nyesel beli. Produknya mengecewakan, gk rekomen. Beli air fryer ini cuma buang duit aja. Gk ada bedanya sama digoreng biasa malah lebih ribet dan lama matengnya. Hasilnya gk bgs sama skali, kering doang. Nyesel deh beli. Air fryer ini gk bgs sma skl, masak kentang gk garing sama skli, kyk dikukus aja. nyesel buang duit bgt.",
         "1205"
        ],
        [
         "9",
         "Air Fryer",
         "positif",
         "1",
         "20",
         "Airfryer nya bgs bgt! Masak cpt, gk ribet, makan jdi sehat. Top markotop! Rekomen abis dah pokoknya. Air fryer ini bgs bgt! Masak cpt, gk pake minyak, hasilnya crispy abis. Pokoknya rekomen dehh!! TOP markotop! Ga nyesel beli disini. Harga oke, barang berkualitas. Mantap! Airfryer-nya bgs bgt! Masak cepet, gk ribet, mateng merata. Rekomen deh buat yg mau hidup sehat. Top markotop pokoknya!. Airfryer ini bnr2 rekomen bgt! Masak jd praktis, gk perlu minyak byk. Hasilnya mateng merata, kriuknya dapet! Bersihinnya jg gampang. Top markotop dah, bgs bgt! Ga nyesel beli ini. Airfryer nya bgs bgt! Masak sat set, hasil crispy & gk berminyak. Praktis bersihinnya. Top markotop! Rekomen abis buat yg mager masak ribet. Titik Airfryer-nya bgs bgt! Masak jd sat set, gk pake minyak byk. Hasilnya jg crispy abis. Pokoknya rekomen bgt deh! Top markotop! Ga nyesel beli disini. Airfryer nya bgs bgt! Masak cpt, gk pake minyak, sehat! Hasilnya crispy abisss. Rekomen seller, packing aman, pengiriman jg top! . Airfryer nya bgs bgt! Masak jd lbh cpt & praktis. Gk nyangka hasil gorengan seenak ini tanpa minyak. TOP markotop, rekomen bgt buat yg pengen hidup sehat! Harganya jg oke, worth it lah. . Airfryernya bgs bgt! Masak jd sat set, gk pake minyak, hasil crispy pol! Anak2 jg suka. Rekomen buat yg mau idup lbh sehat & praktis. Top markotop deh! Air fryer-nya bgs bgt! Masak cpt, gk ribet, hasil crispy abis! Pokoknya rekomen top markotop deh!. Airfryer ini bgs bgt! Masak sat set, ayam crispy sempurna. Gk nyangka seenak ini, praktis pula. Rekomen abis! Top markotop dah. Worth it bgt.Titik Air fryer ini bgs bgt! Masak jd sat set, gk pake minyak byk. Kentang crispy, ayam jg mateng sempurna. Rekomen bgt buat yg mo hidup lbh sehat. Top markotop deh pokoknya!. Airfryer ini bgs bgt! Masak jd sat set, minyak jg gk perlu banyak. Anak2 doyan semua. Bersihinnya jg gampang. Pokoknya rekomen bgt deh! Top markotop. Worth it banget buat dibeliii. Airfryer ini bgs bgt! Masak sat set, gk pake minyak, makanan ttp kriuk. Anak2 doyan, ibu happy. Rekomen buat yg pengen hidup sehat tp ttp makan enak. Top markotop! Air fryer bgs bgt! Masak cpt, gk ribet, makan enak tiap hari. Top markotop! Rekomen abis buat yg nyari air fryer . Airfryer ini bgs bgt! Masak cpt, gk perlu minyak, praktis abis. Hasilnya crispy & enak. Bersihinnya jg gampang. Pokoknya rekomen bgt deh, top markotop! Airfryer-nya bgs bgt! Masak sat set, gk pake ribet. Hasilnya crispy, minyak dikit. Top markotop! Rekomen abis!. Airfryer-nya bgs bgt! Masak cpt, gk ribet, hasil crispy sempurna. TOP markotop! Olahan frozen food jg jd enak bgt. Rekomen abis! Titik. Air fryer nya bgs bgt! Masak jd praktis, gk perlu minyak byk. Hasilnya crispy & mateng sempurna. Pengiriman cepet, packing aman. Recomended bgt buat yg pgn masak sehat & sat set! Top markotop dah!. Airfryer ini bgs bgt! Masak sat set, gk pake minyak ttp renyah. Top markotop, rekomen abis buat yg mau idup sehat dan satset.",
         "2940"
        ],
        [
         "10",
         "Air Fryer",
         "positif",
         "2",
         "20",
         "Air fryer ini bnr2 ngebantu bgt! Masak jd sat set wat wet, gk pake ribet. Hasilnya jg mateng merata, kriuknya dapet. Pokoknya rekomen bgt dehh. Bgs & top markotop! Air fryer nya bgs bgt! Masak sat set, gk pake ribet. Hasilnya renyah, minyaknya dikit. Pokoknya rekomen top markotop deh!. Air fryer ini bgs bgt! Masak jd sat set, gk pake ribet. Hasilnya mateng merata, crispy diluar lembut didlm. Udah gt hemat minyak pula. Top markotop! Rekomen bgt buat yg nyari airfryer murah tp berkualitas. Mantap!. Airfryer nya bgs bgt! Masak cpt, gk perlu minyak, hasil crispy. Top markotop, rekomen bgt buat yg nyari air fryer murmer tp kualitas oke punya!. Airfryer-nya bgs bgt! Masak jd lbh cpt & praktis. Gk nyangka hasilnya seenak ini, kriuknya dpt! Olahraga ttp jalan, makan enak jg iya. Rekomen abis, top markotop!. Air fryer-nya bgs bgt! Masak cpt, gk berminyak, praktis. Hasilnya renyah & lezat. Top rekomen buat yg mau hidup sehat!. Airfryer ini bgs bgt! Masak cpt, gk perlu minyak, makanan jd lbh sehat. Top markotop deh, rekomen abis buat yg lg diet ato males ribet masak. Harganya jg oke, worth it bgt! Air fryer ini bgs bgt! Masak kentang crispy, ayam jg cepet. Gk nyesel beli, praktis bener. Top deh pokoknya, rekomen buat yg suka masak! Air fryer ini bgs bgt! Masak kentang goreng kriuknya cepet, minyaknya gk pake banyak. Praktis bgt buat org mager kayak aku. Suami jg suka bgt bikin ayam goreng. Top deh, rekomen buat yg mau hidup sehat & praktis. Harganya jg lumayan lah ya. Pokoknya mantap! Air fryer ini bgs bgt! Masak kentang goreng kriuknya cepet, gk pake minyak lg. Ayam jg jd empuk & kulitnya garing. Praktis bgt buat org sibuk kayak aku. Harganya jg lumayan lah ya, worth it bgt pokoknya. Top markotop! Rekomen bgt buat yg mau hidup sehat & praktis. Suka bgt deh sama produk ini. . Air fryer ini bgs bgt! Masak kentang goreng kriuknya cepet, minyaknya gk pake banyak. Praktis bgt buat org mager kayak aku. Panasnya merata, gampang dibersihin jg. Pokoknya top deh, rekomen bgt buat yg mau hidup sehat tapi males ribet masak. Harganya jg lumayan lah yaa. Puas bgt! Air fryer ini bgs bgt! Masak kentang crispy, ayam jg cepet. Gk nyesel beli, praktis bgt buat org sibuk. Top deh, rekomen! . Air fryer ini bgs bgt! Masak kentang goreng kriuknya cepet, gk pake minyak lg. Anak2 suka bgt sm hasilny. Gampang dibersihin jg, top deh pokoknya. Rekomen bgt buat yg mau hidup sehat tapi mager masak. Harganya jg lumayan lah ya, worth it bgt sm kualitasny. Puas bgt belanja disini. Air fryer ini bgs bgt! Masak kentang goreng kriuknya cepet, minyaknya gk pake banyak. Praktis bgt buat org mager kayak aku. Top deh, rekomen bgt buat dicoba! Harganya jg lumayan lah ya. Puas pokoknya. Air fryer ini bgs bgt! Masak kentang goreng kriuknya cepet, gk pake minyak lg. Ayam jg jd empuk & kulitnya garing. Praktis bgt buat org sibuk kayak aku. Harganya jg lumayan lah, worth it bgt pokoknya. Top markotop! Udah nyoba bikin kue jg, hasilnya oke pualen. Rekomen bgt buat yg mau hidup sehat & praktis. . Air fryer ini bgs bgt! Masak kentang goreng kriuknya cepet, minyaknya gk pake banyak. Praktis bgt buat org mager kayak aku. Top deh, rekomen bgt buat yg mau hidup sehat & enak! . Air fryer ini bgs bgt! Masak kentang goreng kriuknya cepet, gk pake minyak lg. Anak2 suka bgt smenjak ada ini. Praktis, gampang dibersihin, top deh pokoknya. Rekomen bgt buat yg mau hidup sehat tapi mager. Harganya jg lumayan lah ya, worth it bgt sm kualitasnya. Puas bgt belanja disini. Air fryernya mantul bgt! Masakan jd kriuk2, recomen deh. Gk nyesel beli! Top bgt. Air fryer ini mantul bgt! Masakan jadi kriuk kriuk, gk perlu minyak banyak. Rekomen bgt deh buat yg suka masak praktis. Bgs bgt kualitasnya, awet pula! Top! . Air fryer ini mantul bgt! Masakan jd kriuk2, gk amis, cepet matengnya. Rekomen bgt buat yg males beres2 dapur, praktis abis. Bgs bgt deh pokoknya. Top! Harga worth it sm kualitasnya. Beli lagi ah.",
         "3898"
        ],
        [
         "11",
         "Air Fryer",
         "positif",
         "3",
         "15",
         "Air fryer ini MANTAP bgt! Masakan jd krispi & enak, gk ribet. Rekomen bgs utk yg suka praktis. Harga worth it bgt. Top deh! Air fryer ini mantul bgt! Masakan jadi kriuk2, gk amis. Simple bgt dipake, recomen deh! Harga worth it sm kualitasnya. Top bgs pokoknya. Beli lagi ah. Wajib punya! Air fryer ini mantul bgt! Masakan jd kriuk2, gk perlu minyak banyak. Rekomen bgs banget! Top deh pokoknya. Beli lg ah. Air fryer ini mantul bgt! Masakan jadi kriuk2, gk perlu minyak banyak. Rekomen bgs buat yg males goreng2an. Super praktis & bersihnya mudah. Top deh! Air fryer ini mantul bgt! Masakan jadi crunchy dan sehat. Gk ribet, mudah dipake. Hasilnya top banget, rekomen bgt buat yg suka masak praktis. Harga worth it, bgs bgt kualitasnya. Pokoknya puas deh! Air fryer ini mantul bgt! Masakan jadi kriuk2, gk ribet. Rekomen banget deh! Bgs bgt buat yg sibuk. Top! . Air fryer ini mantul bgt! Masakan jd kriuk2, gk perlu minyak banyak. Cepet matengnya, praktis bgt deh. Recomen banget buat yg males masak ribet. Bgs bgt kualitasnya, awet pula. Top! Harga pas bgt sama kualitasnya. Puas bgt beli ini. Pokoknya worth it! . Air fryer ini mantul bgt! Masakan jd garing & enak. Rekomen bgs, gk nyesel beli. Top! Air fryer ini mantul bgt! Masakan jadi garing & enak, gk amis. Rekomen bgs buat yg suka praktis. Top deh! Harga worth it. Air fryer nya super rekomen! Masak jd gampang bgt, hasil krispi pol & sehat krn gk pke minyak. Top abis. Air Fryer ini top bgt! Gk nyangka bisa masak makanan secrispy ini tanpa minyak. Beneran ngebantu bgt buat hidup lebih sehat & praktis. Gampang bgt pakenya, bersihinnya jg simple. Ukurannya jg pas. Rekomen abis buat yg cari alat masak sehat & efisien. Beneran gk nyesel beli ini, puas poll. Beli air fryer ini gak nyesel! Masak jd cepat, garing, sehat & gk ribet. Bener² rekomen bgt dah. Air fryer ini beneran top bgt! Masak jd praktis gk pake minyak, hasilnya garing bgt. Bgs bgt buat yg mau hidup lebih sehat. Desainnya modern. Sangat rekomen deh pokoknya, wajib punya buat yg suka masak cepat & sehat. Air fryer ini bgs bgt! Gampang bgt dipakenya, gk ribet samsek. Hasil gorengannya krispi walau gk pake minyak, jd lebih sehat. Praktis buat masak sehari-hari, hemat waktu. Desainnya jg lumayan, pas buat di dapur minimalis. Rekomen bgt, worthed! Bersihinnya jg gk susah. Mantap. Air fryer ini emg game changer bgt! Masak jd cepet banget dan hasilnya enak bgs. Gk ribet, bersih jg. Buat yg males masak pke minyak, ini solusinya. Rekomen abis!",
         "2473"
        ],
        [
         "12",
         "Air Mineral",
         "negatif",
         "1",
         "20",
         "Air mineralnya gk seger bgt, malah bau tanah! Botolnya penyok pula. Gk rekomen deh, nyesel beli disini. Bgsan merk lain jauh! Top tapi boong. Air mineral apaan nih? Gk seger bgt, malah kaya air kran! Botolnya penyok pula. Nyesel beli disini. Bener2 gak rekomen! Beli 1 dus, semuanya zonk. Bgsan jg aer isi ulang deket rumah. Gk lagi2 deh! Titik. Air mineralnya aneh bgt! Gk seger, malah bau tanah. Gk rekomen! Beli ini nyesel bgt. Top nya dr mana coba? Bgs apanya?!. Air mineral apaan nih? Rasa nya aneh bgt, gk seger sama sekali. Dah gitu, botolnya penyok pas dtg. Gk rekomen deh, nyesel beli. Bgsan merk lain jauh! Top nya dr mana coba ini? Mending bli aqua aja drpd ini. Zzz. Air mineralnya aneh bgt! Masa ada endapan putih? Gk jelas gini, bikin worry minumnya. Gak rekomen deh, nyesel beli. Jijik. Titik. Air mineral apaan nih? Gk seger blas, malah bikin eneg. Botolnya penyok lg, mana isinya kyk air keran. Nyesel bgt beli ini, jgn sampe deh beli air kyk gini. Bnr2 gak rekomen, zonk total. Air mineralnya gk seger bgt, malah bau tanah. Botolnya penyok pula! Gk rekomen dehh, nyesel beli. Bgs jg enggak. Kapok! Titik. Air mineralnya bau tanah bgt, gk seger blas! Botolnya penyok pula. Gk rekomen, nyesel beli. Bgsan merk lain! Titik. Air mineralnya bau tanah bgt! Gk seger, malah bikin eneg. Gk rekomen sama sekali! Beli krn murah doang, nyesel bgt. Bgsan merk laen jauhhh. Top dah jeleknya. Airnya aneh bgt, kaya ada rasa tanah. Gk lagi deh beli disini. Bener2 gak rekomen! Bikin mual. . Air mineralnya aneh bgt, masa pas dibuka udh gk seger? Kyk air keran :( Gk rekomen dehh, bgs jg enggak. Botolnya penyok pula. Payah! beli di toko sebelah aja deh lain kali. Top? Enggak sama sekali. Air mineralnya aneh bgt, rasanya gk sger, malah pahit. Bikin tenggorokan kering. Gk rekomen! Bnr2 nyesel beli. Air mineralnya gk seger bgt, malah bau tanah. Botolnya penyok pula. Gk rekomen deh, nyesel beli disini. Bgsan merk lain jauh. Top juga nggak, zonk! Kemasan jg jelek bgt, isinya butek lagi. Jijik! Air mineralnya aneh bgt! Rasa nya gk jelas, botol penyok pula. Gk rekomen, nyesel beli. Bnr2 zonk! Titik. Air mineral apaan nih? Rasanya aneh bgt, gk seger sama sekali. Malah bikin tenggorokan kering. Nyesel beli, ga rekomen! Bgsan merek lain jauh. Jgn ketipu deh. Topiknya air tp zonk. Titik. Air mineralnya aneh bgt, gk seger, malah bau tanah. Gk rekomen deh, nyesel beli. Bener2 gak bgs. Top markotop nipunya! Air mineralnya aneh bgt, bau tanah! Gk seger blas, malah bikin mual. Kemasan penyok pula. Bener2 nyesel beli, gk rekomen! Udh mahal, kualitas ampas. Bgs beli merk lain aja deh. Top dah, bikin sakit perut! Air mineral apaan nih? Rasanya aneh bgt, gk seger blas. Botolnya jg penyok, kyk bekas. Nyesel beli, gk rekomen sm skali! Bikin tenggorokan kering, bukan malah ilangin haus. Jijik bgt! Titik. Air mineralnya gk seger bgt, malah bau tanah. Gk rekomen deh, nyesel beli. Bgs jg enggak. Top dari mananya? Huh! Titik. Air mineral apaan nih? Gk seger bgt, malah aneh rasanya. Bikin tenggorokan kering, kaya minum aer kran yg diendepin. Nyesel beli, gk rekomen sm sekali! .",
         "3081"
        ],
        [
         "13",
         "Air Mineral",
         "negatif",
         "2",
         "20",
         "Air mineral apaan nih? Rasanya aneh bgt, gk seger blas. Botolnya penyok pula pas dtg. Nyesel beli, gk rekomen! Bikin aus makin parah. Top dah, topiknya bikin emosi. Air mineralnya butek bgt, gk seger blas! Dah gtu, expirednya deket. Nyesel beli disini, gk rekomen! Zzzz. Air mineral apaan nih? Gk seger bgt, malah bikin tenggorokan kering. Beli krn murah doang, nyesel puol. Jgn rekomen deh, gak bgs! Titik. Air mineral apaan nih? Gk seger bgt, malah bikin haus. Botolnya penyok pula, kayak bekas. Gk rekomen deh, nyesel beli. Bener2 gak bgs. Air mineralnya butek, gk seger bgt. Botol penyok pula. Gk rekomen, nyesel beli disini. Bgsan merk lain jauh! Topiknya zonk. Air mineralnya gk seger bgt, malah bau tanah dikit. Botolnya penyok pula pas dtg. Gk rekomen deh, nyesel beli disini. Bgsan merk lain jauh! Kecewa bgt. Topiknya jelek! Air mineralnya butek bgt, gk seger blas! Bikin sakit perut, nyesel beli disini. Jgn ketipu, gk rekomen! Titik. Air mineral apaan nih? Gk jelas bgt rasanya, kaya air keran! Mana botolnya penyok. Nyesel beli, gk rekomen sama sekali. Bgs jg engga, malah bikin mules. Top dah, top nyeselnya! Titik. Airnya kyk air keran bgt! Rasanya aneh, ada bau plastik jg. Gk nyegerin sama sekali, malah eneg. Harganya jg mahal bgt buat air segini. Jgn beli deh, mending cari yg lain. Bgsnya cuma botolnya doang, tp itupun penyok. Gak rekomen! Airnya lumayan sih, tp kok rasanya kayak air keran ya? Gk segar bgt, malah eneg. Plastiknya jg tipis bgt, takut bocor. Harganya jg relatif mahal utk kualitas segini. Mending beli merek lain deh, yg lebih bgs & terjamin. Gak rekomen buat repurchase, beneran deh. . Airnya kyk air keran bgt! Rasanya aneh, ada bau plastik jg. Gk nyegerin sama sekali malah eneg. Plastiknya jg tipis bgt, takut bocor. Harganya jg mahal buat air segini. Jgn beli deh, mending cari merk lain. Bener2 zonk bgt! Gak rekomen sama sekali. Airnya lumayan sih, tp kok rasanya kayak air keran ya? Gk nyegerin bgt, malah eneg. Plastiknya jg tipis bgt, takut bocor. Harganya jg relatif mahal utk kualitas segini. Mending beli merek lain deh, yg lebih bgs & aman. Gak rekomen buat repurchase, beneran deh. . Airnya kotor bgt! Ada endapan, rasanya jg aneh. Gk enak diminum, mending beli yg lain deh. Bgsnya cuma murah doang, tp kualitas ampas. Jgn beli rekomen! Air mineralnya gk seger bgt, rasanya aneh gitu. Botolnya juga gampang bocor, sebel bgt! Gak rekomen deh. Harga mahal tp kualitas payah. Mending beli merk lain aja. Kecewa bgt! Rasanya kayak air kran. Jangan beli! Air mineralnya eneg bgt! Rasa aneh, gk seger sama sekali. Botolnya jg lecet. Gk rekomen! Mending beli merk lain. Harga mahal bgt tp kualitas payah. Bener2 mengecewakan. Air mineralnya asem bgt! Rasanya aneh, gk seger sama sekali. Botolnya jg lecet. Ga rekomen! Mending beli merk lain. Harga mahal, kualitas payah bgt. Nyesel beli. Air mineralnya asem bgt! Gak seger, rasanya aneh. Botolnya juga gampang bocor. Gk rekomen! Mending beli merk lain. Bener2 mengecewakan. Air mineralnya eneg bgt! Rasanya aneh, kayak ada apek2 gitu. Gk seger sama sekali. Botolnya juga gampang bocor. Harga mahal tp kualitas jelek bgt. Gk rekomen! Mending beli merk lain aja. Nyesel beli ini. Kecewa parah. Air mineralnya asem bgt! Gk seger, rasa aneh. Botolnya bocor pula. Kecewa bgt! Gk rekomen! Mending beli merk lain. Bgs bgt kemasannya tp isinya mengecewakan. Nyesel beli. Air mineralnya gk seger bgt, rasa aneh gitu. Botolnya jg lecek, kyk udah jatuh berkali2. Gk rekomen deh. Mahal bgt pula, mending beli merk lain aja. Bener2 mengecewakan. Mungkin expired? Ga akan beli lagi.",
         "3564"
        ],
        [
         "14",
         "Air Mineral",
         "negatif",
         "3",
         "7",
         "Air mineralnya asem bgt! Gk seger sama sekali. Rasanya aneh, kayak ada bau tanah. Mending beli merk lain deh. Nyesel bgt beli ini. Ga rekomen! Bener2 mengecewakan. Air mineral ini bener2 kecewa bgt. Rasanya hambar, gk seger samasekali. Jauh dr ekspektasi. Udah mahal, kualitas zonk abis. Gk rekomen bgt sumpah, nyesel beli. Rasanya aneh bgt. Gk kayak air mineral pada umumnya yg seger. Ini malah kaya air mentah gitu, ada bau gk enak jg. Beneran nyesel beli. Buang2 duit aja gk rekomen sama sekali. Air mineral ini parah sih rasanya. gk ada rasa air, malah kaya ada bau plastik gitu yg nempel di lidah. minum seteguk lngsung eneg bgt. gk rekomen samsek, buang2 duit doang beli air macem gini. kemasannya jg gk kokoh, gampang penyok. kualitas airnya zonk parah, nyesel bgt dah beli disini. Air mineral ini rasa aneh, gk seger bgt kyk aer keran. Nyesel beli. Kualitasnya kurng bgs, tdk rekomen sama sekali. Sumpah airnya beda bgt dr yg biasa. Rasanya aneh kaya air mentah gitu. Gk seger sama sekali buat minum. Nyesel banget beli yg ini, buang2 duit aja. Jgn sampe deh beli lg. Air mineral ini rasanya beda bgt, gak enak, kyk ada bau plastik. Nyesel beli. Produkx mengecewakan. Gak rekomen bgt.",
         "1192"
        ],
        [
         "15",
         "Air Mineral",
         "positif",
         "1",
         "20",
         "Air mineralnya segerrr bgt! Bikin semangat lg. Bgs, rekomen buat yg butuh hidrasi cepet. Top markotop!. Air mineralnya bgs bgt! Seger poll, gk nyesel beli di sini. Pengiriman cepet, packing rapih. Rekomen buat yg cari air mineral berkualitas! Top markotop. Air mineralnya seger bgt! Bikin haus langsung ilang. Bgs buat nemenin aktifitas seharian. Top markotop deh pokoknya. Rekomen! Aqua emg bgs bgt! Seger pol, gk nyesel beli. Bikin adem tenggorokan. Harga oke, pengiriman jg cepet. Rekomen bgt buat yg nyari air mineral berkualitas. Top markotop! Air mineralnya seger bgt! Bikin haus ilang seketika. Bgs, murah, rekomen top markotop dah! Air mineralnya segerrr bgt! Bikin tenggorokan gk kering, bgs buat hidrasi stlh olahraga. Packaging jg oke, pengiriman cepet. Rekomen top! Harga murmer. . Air mineralnya seger bgt! Gk nyesel beli, bgs buat hidrasi. Top markotop, rekomen deh pokoknya!. Air mineralnya seger bgt! Gk nyangka seenak ini, haus langsung ilang. Bgs bgt buat nemenin aktivitas. Packing aman, pengiriman jg cepet. Top markotop! Rekomen deh pokoknya. Air mineralnya seger bgt! Gk nyangka seenak ini, haus langsung ilang. Bgs buat nemenin aktivitas seharian. Packing rapih, pengiriman cepet. Top deh, rekomen bgt! titik Air mineralnya segerrr bgt! Bikin semangat stlh olahraga. Bgs, murah, rekomen buat yg nyari air minum berkualitas. Top lah pokoknya! . Air mineralnya bgs bgt! Seger, ringan, gk bikin kembung. Top markotop, rekomen buat yg cari air minum sehat!. Aqua emang bgs bgt! Seger pol, pelepas dahaga terbaik. Harga oke, pengiriman jg cepet. Rekomen bgt buat yg cari air mineral berkualitas. Top markotop! Beli lg ah nanti. Air mineralnya segerrr bgt! Bikin semangat lg dehh. Bgs buat hidrasi stlh olahraga. Harga oke, pengiriman jg cepet. Rekomen . Top markotop! Air mineralnya seger bgt! Bikin hilang aus seketika, harganya jg oke. Top markotop, rekomen bgt buat yg aktivitas padat. Bgs! . Air mineralnya segerrr bgt! Haus langsung ilang. Bgs buat nemenin aktivitas sehari2. Harga oke, pengiriman jg cepet. Rekomen . Top markotop! Air mineralnya seger bgt! Bikin haus langsung ilang. Kemasan praktis, dibawa kemana2 oke. Harga jg gk mahal. Top markotop! Rekomen bgt. Air mineralnya bgs bgt! Seger pol, tenggorokan langsung adem. Gk nyesel beli disini, pengiriman jg cepet. Rekomen deh buat yg nyari air mineral berkualitas! Top markotop. Air mineralnya bgs bgt! Seger, gk bikin kembung, hrganya oke. Pokoknya top markotop deh! Rekomen buat yg cari air mineral berkualitas. Titik. Air mineralnya seger bgt! Bikin haus lgsg ilang. Botolnya jg kuat, gk gampang penyok. Pkoknya rekomen bgt dehh, bgs buat dibawa kmana2. Top markotop! Titip beliin lg yaa. Air mineralnya seger bgt! Gk nyesel beli disini, pengiriman cepet & packing rapi. Bgs buat hidrasi, rekomen top markotop!.",
         "2797"
        ],
        [
         "16",
         "Air Mineral",
         "positif",
         "2",
         "20",
         "Air mineralnya seger bgt! Bikin haus langsung ilang. Bgs, rekomen buat yg sering aktivitas di luar. Top!. Air mineralnya seger bgt! Bikin adem tenggorokan. Gk nyesel beli disini, pengiriman jg cepet. Bgs deh pokoknya. Top markotop! Rekomen buat yg lagi cari air mineral berkualitas. Air mineralnya bgs bgt! Seger pooll. Gk nyesel beli disini. Top markotop! Rekomen buat yg haus. Harganya ok. Mantap!. Air mineralnya seger bgt! Gk nyesel beli disini, pengiriman jg cepet. Bgs buat hidrasi stlh olahraga. Top markotop! Rekomen deh pokoknya. Titik. Air mineralnya segerr bgt! Gk nyangka seenak ini, harganya jg oke. Bikin nagih! Bgs buat hidrasi stlh olahraga. Rekomen buat yg cari air mineral berkualitas. Top! Aqua emang bgs bgt! Seger pooll, gk nyesel beli banyak. Harga oke, pengiriman cepet. Top markotop! Rekomen buat yg lagi aus. Minum dingin makin mantap. Aq*a emg t*op bgt! Seger poll, haus lgsg ilang. Bgs buat hidrasi, rekomen dehh pokoknya. Gk nyesel beli, selalu order lagi! . Air mineralnya seger bgt! Bikin haus langsung ilang. Kemasan praktis, dibawa kemana2 ok. Harga jg gk mahal. Pokoknya rekomen bgt deh! Bgs buat hidrasi sehari2. Top! Air mineralnya seger bgt! Bikin adem tenggorokan. Gk nyesel beli disini, pengiriman jg cepet. Bgs deh, rekomen top markotop!. Air mineralnya seger bgt! Bikin semangat lg stlh olahraga. Kemasan praktis, gk ribet dibawa kemana2. Harga oke, kualitas top markotop! Bgs buat hidrasi sehari2. Rekomen! Air mineralnya seger bgt! Bikin haus lgsg ilang. Bgs, rekomen deh pokoknya. Top markotop! . Airnya seger bgt! Buat olahraga, sehari2, top deh. Harganya jg lumayan, gk bikin kantong bolong. Bgs bgt pokoknya, rekomen! . Air mineralnya seger bgt! Buat olahraga atau nemenin makan siang pas bgt. Harganya jg lumayan lah, gk bikin kantong bolong. Bgs bgt pokoknya, pengiriman cepet. Rekomen deh buat yg pengen haus hilang instan. Top markotop! Pasti beli lg. Airnya seger bgt! Buat olahraga, sehari2, top deh. Harganya jg lumayan, gk bikin kantong bolong. Bgs beneran, rekomen pokoknya! . Air mineralnya seger bgt! Buat olahraga atau nemenin makan siang pas bgt. Harganya jg lumayan lah, gk bikin kantong bolong. Bgs bgt pokoknya, rekomen deh buat yg haus! Top markotop. Airnya seger bgt! Buat olahraga, sehari2, mantep. Harganya jg ok bgs. Pokoknya top deh, rekomen buat yg suka air mineral berkualitas. . Air mineralnya seger bgt! Buat olahraga atau nemenin makan siang pas bgt. Harganya jg lumayan lah ya, gk bikin kantong bolong. Bgs bgt pokoknya, pengiriman cepet. Rekomen deh buat yg pengen haus hilang instan. Top markotop! Pasti beli lg. Air mineralnya seger bgt! Buat olahraga atau nemenin makan siang pas bgt. Harganya jg lumayan lah ya, gk bikin kantong bolong. Bgs bgt pokoknya, pengiriman cepet, packing rapi. Rekomen deh buat yg cari air minum berkualitas. Top markotop! Pasti beli lg. Air mineralnya seger bgt! Gk ada bau, rasanya jernih bener. Buat olahraga, abis panas2an, atau nemenin makan tuh pas bgt. Harganya jg lumayan lah ya. Botolnya jg kuat, gk gampang penyok. Pokoknya bgs deh, rekomen buat yg cari air minum berkualitas. Top markotop! Udah langganan sih aku. . Aqua gelas praktis bgt! Seger bgs, rekomen deh. Harga jg terjangkau. Top!",
         "3205"
        ],
        [
         "17",
         "Air Mineral",
         "positif",
         "3",
         "15",
         "Air mineral ini seger bgt! Rasa nya bersih, gk ada rasa aneh. Botolnya unik, praktis bgt dibawa. Recomended bgt deh pokoknya. Top! Air mineral ini seger bgt! Rasanya bersih, gk ada rasa aneh. Botolnya jg gampang dibawa. Recomended bgt deh! Harga pas dikantong. Top! Beli lagi ah. Bgs bgt. Air mineral ini seger bgt! Rasa bersih, top abis. Rekomen bgt deh! Mantap. Air mineral ini bgt seger! Rasanya bersih, gk ada rasa aneh. Botolnya unik, praktis bgt dibawa kemana2. Harga pas dikantong. Rekomen bgs nih, top banget! Beli lagi ah. Minumnya jadi makin semangat. Air mineral ini seger bgt! Rasa nya mantap, rekomen bgs! Harga terjangkau. Top! . Air mineralnya seger bgt! Rasa nya bersih, gk eneg. Botolnya praktis, gampang dibawa. Recomen bgt buat yg aktif! Harga nya jg worth it. Top deh pokoknya! Beli lagi ah. Air mineral ini seger bgt! Rasa minumnya bersih, rekomen bgt. Top! Air mineralnya seger bgt! Packaging unik, gampang dibawa. Rasa nya bersih, gk ada rasa aneh2. Recomended bgt deh buat yg suka minum air mineral berkualitas. Top! Harga jg pas dikantong. Air mineral ini seger bgt! Rasanya bersih, gk eneg. Rekomen bgt! Top deh. . Air mineralnya seger bgt! Packaging lucu, praktis dibawa. Rasanya bersih gk eneg. Rekomen bgt nih! Top abis! Harganya juga pas dikantong. Air mineralnya seger bgt! Rasanya bersih, gk ada rasa aneh. Botolnya juga praktis, gampang dibawa. Rekomen bgt nih buat yg aktif. Harga pas di kantong, bgs banget! Top deh pokoknya. Beli lagi ah! . Airnya seger bgt gk ada rasa aneh sama sekali. Mantap! Rekomen bgt beli ini air mineral. Top bgs. Air mineralnya seger bgt, rasanya ringan gk bikin eneg. Cocok buat diminum kapan aja, apalagi pas panas. Kualitasnya bgs top markotop deh. Rekomen pol buat yg cari air jernih dan enak. Ga pernah kecewa beli air mineral merk ini. Kualitasnya bgs, airnya jernih & terasa murni. Bikin badan seger terus. Pengiriman cepat bgt, packing rapi. Udah jadi stok wajib drmh. Rekomen pol buat kesehatan sehari-hari. Emang the best sih ini produk air. Air mineral favorit! Seger bgt, gk ada rasa aneh sama sekali. Cocok buat minum sehari hari. Kualitasnya bgs, harga pas. Rekomen deh beli air ini.",
         "2159"
        ],
        [
         "18",
         "Aki Mobil",
         "negatif",
         "1",
         "20",
         "Aki mobilnya gk kuat blas! Dipake starter langsung tekor, parah bgt dah. Bikin emosi, nyesel beli disini. Jgn rekomen deh. Kapok! Titik. Aki mobilnya zonk bgt! Baru dipake seminggu udh tekor. Gk kuat starter, mana garansinya ribet pula. Nyesel beli disini, gk rekomen bgt deh! Pelayanan jg lemot, bgsan beli merk lain aja. Kapok! Aki mobilnya gk bgs! Baru dipake seminggu soak. Nyesel bgt beli disini, seller jg slow respon. Bikin ribet urusan. Gk rekomen dehh pokoknya. Titik. Aki mobil apaan nih? Baru dipake seminggu udah tekor bgt! Gk kuat starter, bikin emosi jiwa. Mana garansi nya ribet bgt claim nya. Nyesel beli disini, gk rekomen bgt deh! Cari toko lain aja, ini mah ampas. Kapok! Titik. Aki mobilnya soak bgt! Baru dipake seminggu udh tekor. Gk rekomen blasss. Bikin mobil mogok! Bgs apaan, zonk total. Jgn beli deh, nyesel! Titik. Aki mobil apaan nih? Baru dipake seminggu udah tekor bgt! Gk kuat starter, bikin emosi jiwa. Mana pengirimannya lama lagi. Bener2 nyesel beli disini, gak rekomen! Bgs jg enggak, zonk total. Kapok dah. Aki mobilnya gk bgs! Baru dipake 2 bulan udah soak bgt. Payah, gak rekomen! Bikin mobil mogok terus. Nyesel beli aki ini! Kapokkkk. Titik. Akiii mobill zonkkk! Baru dipake 2 bulan udah tekorrr. Gk kuat starter, payahh bgt! Mana garansi ribet klaimnya. Bikin emosi aja. Jgn beli deh, nyesel puolll. Bgsan aki bekas sekalian drpd ini. Parah! Titik. Aki mobilnya soak bgt! Gk kuat starter, rugi beli disini. Pelayanannya jg lambat. Bikin kesel aja! Titik. Akii mobil zonkkk!! Baru dipake seminggu udah soak bgt. Gk rekomen deh, nyesel belinya. Bgsan aki bekas dulu! Kapok top dah. Titik Aki mobilnya soak bgt! Baru dipake seminggu udah tekor. Gk rekomen deh, bgsan merk lain. Kapok beli disini, pelayanan jg lama. Bikin emosi aja! Aki soak bgt! Gk kuat starter,payah. Baru pake bentar udh tekor. Beli disini nyesel bgt! Jgn beli deh,gak rekomen. Titik. Akunya soak bgt! Gk kuat starter, tekor mlulu. Beli aki disini nyesel bgt dah! Jgn beli aki mobil disini, bnrn deh.Titik. Akiii mobilnyaa gk nyala blas! Mana pengirimannya lama bgt. Zzzz, nyesel beli disini, gk rekomen! Batre baru kok soak gini sih? Bikin emosi aja. Parah! Titik. Akii mobill zonkk!! Bru pake seminggu soak. Gk rekomen bgt dahh!! Bikin nyesel, kamprett. Jgn beli guyss.. Titik. Akunya soak bgt! Baru dipake seminggu mobil gk bisa nyala. Nyesel beli disini, seller jg slow respon. Bener2 gk rekomen, aki mobil abal2, parah bgt deh! Bikin rugi! Akii mobilnya zonk bgt! Baru dipake bentar udh soak, gk rekomen blass! Mana mahal lagi. Bikin nyesel top markotop. Akiii mobill zonkkk!! baru dipake seminggu udah soak bgt. Gk rekomen deh, nyesel beli disini. Mana sellernya slow respon lagi. Bener2 parahh!. Aki mobilnya zonk bgt! Baru dipake seminggu udah soak. Gk kuat starter, bikin ribet. Harganya mahal pula, nyesel beli disini. Toko gk amanah, gk rekomen bgt! Pelayanannya jg lama, bikin emosi. Bgs beli aki bekas sekalian drpd ini. Aki mobilnya zonk bgt! Baru dipake seminggu udh tekor. Gk kuat starter, mana garansinya ribet. Bikin emosi, nyesel beli disini. Pelayanan jg lambat. Aki abal2! Titik",
         "3108"
        ],
        [
         "19",
         "Aki Mobil",
         "negatif",
         "2",
         "20",
         "Aki mobil zonk! Gk kuat starter, tekor mulu. Beli aki disini nyesel bgt dah. Bikin ribet. Jgn beli deh pokoknya. Titik. Aki mobilnya gk kuat bgt, baru dipake bentar udh tekor. Nyesel beli disini, sellernya jg slow respon. Bener2 gk rekomen, aki abal2, bgsan aki bekas dah. Kapok! Akii mobilnya cepet soak bgt! Gk rekomen deh, parah! Beli disini nyesel bgt, bgs jg ngga. Top dah, zonk abis. Akiii mobilllnyaa zupeeerrr lemottt!! Gk kuat starter, payahh bgt dah. Baru dipake seminggu udah tekorrr. Nyesel puolll belii iniii. Jgn beli dehh.. rugiii bgsd. Gk rekomen blas!. Aki mobil ini ampas bgt! Baru dipake seminggu udh tekor. Gk kuat starter, bikin emosi jiwa. Beli aki malah nambah masalah. Nyesel pol! Jgn beli deh, gk rekomen sama sekali. Bgs jg enggak! Top apaan! Zonk total. Aki mobilnya soak bgt! Baru dipake 3 bulan udh tekor, gk rekomen bgt deh. Beli aki disini nyesel parah. Baterenya bgs diluar doang, zzzz.... Aki mobilnya zonk! Baru dipake seminggu udah tekor, payah bgt dah. Gk rekomen sama sekali, nyesel beli disini. Pelayanannya jg lelet, ditanya gk direspon. Bgsan beli merk lain, ini mah ampas. Kapokkk! Aki mobilnya cepet bgt tekor rek! baru pake 2 bulan udah soak, pdhl mobil cuma dipake deket2 doang. kualitasnya payah bener, gk worth it sm sekali. rugi deh beli ini, mending cari merek lain aja. bgsnya cuma harga murah doang, tp gak tahan lama. jangan dibeli! titik. Aki mobilnya cepet bgt tekor rek! baru pake 2 bulan udah soak, pdhl mobil cuma buat deket2 doang. kualitasnya payah bener, gk worth it sama sekali. rugi deh beli ini, mending cari merek lain aja. bgsnya cuma harga murah doang, tp gak tahan lama. jangan dibeli! titik. Aki mobilnya cepet bgt tekor rek. baru pke 3bln udh ngedrop, pdhl dkter jlnnya gk parah amat. kualitas payah bgsnya mana? gk rekomen! titik. Aki mobilnya cepet bgt tekor rek! baru pake 2 bulan udah soak, pdhl mobil cuma dipake deket2 doang. kualitasnya payah bener, gk worth it sama sekali. rugi deh beli ini, mending cari merek lain aja. bgsnya cuma harga murah doang, tapi percuma. jangan dibeli! titik. Aki mobilnya zonk bgt! Baru pke 3bln udh soak, starter berat, lampu jg redup. Pdhl katanya awet. Seller slow respon pula. Gk rekomen sama sekali, buang duit aja beli ini. Kualitas payah, mending cari merk lain deh. Bgsnya cuma harga murah, tp percuma. Kapok! Aki mobilnya cepet bgt tekor rek! baru pake 2 bulan udah soak, pdhl mobil cuma dipake deket2 doang. kualitasnya payah bener, gk worth it sama sekali. rugi deh beli ini, mending cari merek lain aja. bgsnya cuma harga murah doang, tapi percuma. Aki mobilnya cepet bgt soak rek! baru 3 bulan udh nge-drop. pdhl katanya sih awet. beli di toko lain lbh bgs. kualitasnya jlek bener, gk worth it sm skali. rugi deh gw beli ini. mending cari merk lain aja. jangan sampe kejadian kayak gw yaa. parah! titik. Aki mobilnya cepet bgt tekor rek. baru bli 2 minggu udh ngedrop, pdhl mobil jrg dipake. kualitas payah beneran, gk worth it! rugi deh beli ini. Aki mobilnya jelek bgt! Gak tahan lama, baru 3 bulan udah soak. Mending beli yg lain. Gk rekomen! Buang2 uang aja. Bener2 mengecewakan. Aki soak bgt! Gak tahan lama, boros, murah tp ga awet. Nyesel beli! . Aki soak bgt! Baru 3 bln udh soak. Gak rekomen! Murah sih, tp kualitasnya jelek bgt. Buang2 duit aja. Gk awet sama sekali. Nyesel beli. Aki soak bgt! Gak tahan lama. Murah tp gk awet. Nyesel beli. Jelek bgt. Aki soak bgt! Baru 2 bulan udah soak. Gk recomen deh. Murah sih tp ga awet. Gak bakal beli lagi. Kualitas jelek bgt. Buang2 uang aja. Nyesel beli.",
         "3527"
        ],
        [
         "20",
         "Aki Mobil",
         "negatif",
         "3",
         "9",
         "Aki mobilnya ancur bgt! Baru dipake 3 bulan udah soak. Gk rekomen deh. Murah sih, tp ga awet sama sekali. Bener2 mengecewakan. Uang melayang. Buang2 waktu dan tenaga. Gak bgs. Nyesel beli. Titik. Aki mobilnya murahan bgt! Gak sampe setahun udah soak. Mending beli yg lain, Gk rekomen! Bgs packagingnya aja. Nyesel beli. . Aki mobilnya jelek bgt! Baru 2 bulan udah soak. Gk kuat sama panas, chargernya jg lemot. Mending beli yg lain aja, rekomen bgt cari merk yg lbh bgs. Uang sia-sia bgt! Nyesel beli ini. Top banget kekecewaannya. . Aki lemot bgt! Baru dipake 2 bln udah soak. Gak rekomen! Murah tp gk awet. Buang2 uang aja. Nyesel bgt beli. Jelek! . Aki nya gawat bgt! Baru 2 bulan dah soak. Gk tahan lama sama sekali. Harga mahal tp kualitas payah. Bener2 mengecewakan. Nyesel bgt beli. Gk rekomen! Mending cari yg lain aja. Produk buruk. Parah bgt ini aki. Baru nyampe langsung dipasang, eh mobil gk mau nyala sama sekali. Udah coba tetep zonk. Jgn beli ini kualitasnya ampas bgt bikin emosi. Aki mobil ini parah bgt zonk. Baru seminggu pake udh soak, mobil gue gak nyala. Katanya awet bohong semua. Nyesel parah beli ini. Buang duit doang. Gak rekomen buat nyari aki bagus. Seller slow respon bgt. Kecewa berat asli. Aki ini beneran payah bgt! Gk sampe seminggu udah mati total. Bilangnya awet, padahal kualitasnya zonk abis. Nyesel bgt beli. Gk rekomen sama sekali deh buat yg butuh aki mobil bgs. Mending cari lapak laen, buang2 duit aja beli produk gini. Gk sesui deskripsi. Ampas. Aki ini parah bgt, baru bbrp hari dipake lgsg soak gk bisa starter. Kualitasnya payah bgt deh, gk sesuai harga yg lumayan mahal. Nyesel dah beli disini, buang duit doank. Beneran gk rekomen sm skali. Kecewa berat.",
         "1703"
        ],
        [
         "21",
         "Aki Mobil",
         "positif",
         "1",
         "20",
         "Aki mobilnya bgs bgt! Starter langsung joss, gk ngadat. Pengiriman cepet, packing aman. Top markotop, rekomen!. Aki mobilnya bgs bgt! Gk nyangka tahan lama, starter jg lgsg jreng. Pengiriman cpt, packing aman. Seller rekomen top markotop deh! Gak nyesel blinya. Aki mobilnya bgs bgt! Gk nyesel beli disini, starter langsung jreng! Top markotop, rekomen seller! Aki mobilnya bgs bgt! Harga murah tp kualitas TOP markotop! Gk nyesel deh beli disini, seller rekomen bgt. Mobil jdi lancar jaya, starter langsung jreng! Mantap puolll. Aki mobilnya bgs bgt! Start langsung joss, harga oke, pengiriman cpt. Seller rekomen! Top markotop!. Aki mobilnya bgs bgt! Starter langsung joss, gk ngadat lagi. Harga oke, pengiriman cepet. Pokoknya rekomen dehh.. Top markotop!. Aki mobilnya bgs bgt! Harga oke, pengiriman cepet, mobil langsung tokcer. Seller rekomen, top markotop!. Aki mobilnya bgs bgt! Starter langsung jreng, gk ngadat lagi. Pengiriman cepet, packing rapih. Seller responsif. Pokoknya rekomen top markotop deh! Harga oke. Mantap!. Aki mobilnya bgs bgt! Starter langsung joss, gk ngadat sama sekali. Pengiriman cpt, packing aman. Seller ramah bgt, rekomen deh! Top markotop aki nya. Mantap!. Aki mobilnya bgs bgt! Gk nyesel deh beli disini. Pengiriman jg cpt. Rekomen seller! Top markotop!. Aki mobilnya bgs bgt! Starter jreng, gk tekor lagi. Harga ok, pengiriman cepet. Rekomen deh buat yg aki mobilnya udh soak. Top markotop!. Aki mobilnya bgs bgt! Starter lgsg jreng, gk ngadat lagi. Harga oke, pengiriman cpt. Seller responsif. Rekomen bgt buat yg aki mobilnya udh soak. Top markotop! Aki mobilnya bgs bgt! Gk nyangka awet & tokcer. Starter langsung joss! Pengiriman jg cepet. Seller rekomen, responnya jg top! Harga oke bgt. Mantap!. Aki mobilnya bgs bgt! Gk nyesel beli disini. Pengiriman cepet, packing rapih. Mobil langsung tokcer lagi! Rekomen banget dah, aki top markotop! Harga oke, kualitas . Aki mobilnya bgs bgt! Gk nyangka starter lgsg jreng. Pengiriman jg cepet. Seller rekomen deh, responnya jg oke. Harga termasuk murah dibanding toko sblh. Top markotop! Lain kali order lg dsni. Aki mobilnya bgs bgt! Starter langsung joss, gk ngadat sama sekali. Harga oke, seller rekomen! Pengiriman cpt. Top markotop! Aki mobilnya bgs bgt! Starter langsung joss, gk ngadat lagi. Harga oke, pengiriman jg cepet. Seller rekomen! Top markotop deh pokoknya. Puas banget!. Aki mobilnya bgs bgt! Starter lgsg jreng, gk ngadat lagi. Pengiriman cepet, packing aman. Rekomen seller ini! Top markotop!. Aki mobilnya bgs bgt! Start langsung joss, gk ngedrop. Harga oke, pengiriman cpt. Rekomen buat yg nyari aki awet & performa top! Mantap dah. Aki mobilnya bgs bgt! Starter langsung jreng, pengiriman cepet, packing aman. Gk nyesel deh beli disini. Seller rekomen! Top markotop!.",
         "2775"
        ],
        [
         "22",
         "Aki Mobil",
         "positif",
         "2",
         "20",
         "Aki mobilnya bgs bgt! Gk nyesel beli disini, mobil langsung jreng! Seller ramah & rekomen top markotop. Aki mobilnya bgs bgt! Starter lgsg joss, gk ngedrop lagi. Pengiriman jg cepet, packing aman. Harga oke banget, rekomen seller ini! Top markotop deh. Aki mobilnya bgs bgt! Gk nyesel beli disini, seller rekomen, pengiriman cpt, top markotop dah! Jadi langganan. Aki mobilnya bgs bgt! Starter langsung joss, gk ngadat sama sekali. Pengiriman cpt, packing aman. Seller rekomen! Top markotop dah!. Aki mobilnya bgs bgt! Starter langsung joss, gk ngedrop lagi. Pengiriman cepet, packing aman. Tokonya rekomen. Harga oke, kualitas top markotop! Mantap dah pokoknya. Aki mobilnya bgs bgt! Starter langsung jreng, gk ngadat sama sekali. Pengiriman jg cepet. Rekomen buat yg cari aki berkualitas & tahan lama. Top! Aki mobilnya mantap bgt! Starter langsung jreng, gk ngadat lagi. Pengiriman jg cepet. Bgs deh, rekomen seller ini! Top markotop buat aki mobilnya. Aki mobilnya bgs bgt! Starter langsung joss, gk ngedrop lagi. Harga oke, pengiriman cepet. Seller rekomen! Top markotop dah. Aki mobilnya bgs bgt! Gk nyesel deh beli disini. Pengiriman cepet, seller rekomen. Top markotop! Awet bgt dah. Aki mobilnya bgs bgt! Gk nyangka starter langsung joss. Harga oke, pengiriman cepet. Seller rekomen! Top markotop dah. Bikin mobil tua jdi berasa baru lagi. Puas puolll! Aki mobilnya bgs bgt! Starter langsung joss, gk ngedrop! Pengiriman kilat. Seller rekomen. Top markotop! Aki mobilnya mantap bgt! Kuat, awet, mobil lgsg ngebut. Harga jg lumayan lah, pengiriman cepet. Bgs bgt pokoknya, rekomen! . Aki mobilnya mantap bgt! Kuat, awet, mobil lgsg plong. Pengiriman cepet, packing rapi. Harganya jg lumayan lah, gk nyesel bli disini. Bgs bgt pokoknya, rekomen buat yg aki nya mau diganti. Top markotop! Aki mobilnya mantap bgt! Udah dipasang, langsung ngeces mesinnya. Daya tahan lumayan, pdhl mobilku boros bener. Harganya jg oke, gk bikin kantong jebol. Seller ramah, pengiriman cepet. Pokoknya top markotop, rekomen bgs buat yg aki nya mau awet & performa mobil makin joss. Puas bgt deh! Aki mobilnya mantap bgt! Kuat, awet, mobil lgsg plong. Harga jg lumayan, pengiriman cepet. Bgs beneran, rekomen deh buat yg aki nya lg tekor. Top! Aki mobilnya mantap bgt! Kuat, awet, mobil lgsg plong. Pengiriman cepet, packing rapi. Harganya jg lumayan lah, gk nyesel bli disini. Bgs bgt pokoknya, rekomen buat yg aki nya lg soak. Top markotop! Aki mobilnya mantap bgt! Udah dipasang, langsung ngeces mesinnya. Daya tahan lumayan, pdhl mobilku boros bener. Harganya jg oke, gk bikin kantong jebol. Seller ramah, pengiriman cepet. Pokoknya top markotop, rekomen bgs buat yg aki nya mau awet & performa mobil makin joss. Puas bgt belanja disini. Aki mobilnya mantap bgt! Kuat, awet, mobil lgsg plong. Pengiriman cepet, packing rapi. Harganya jg lumayan lah, gk nyesel bli disini. Bgs bgt pokoknya, rekomen! . Aki mobilnya mantap bgt! Udah dipasang, langsung ngeces mesinnya. Daya tahan lumayan, walau sering macet di jalanan jkt. Harganya jg oke, gk bikin kantong bolong. Seller ramah, pengiriman cepet. Pokoknya bgs bgt, rekomen buat yg aki nya lg soak. Top deh! . Aki mobilnya mantap bgt! Awet, gk pernah ngecewain. Rekomen deh! Top bgs .",
         "3222"
        ],
        [
         "23",
         "Aki Mobil",
         "positif",
         "3",
         "13",
         "Aki mobilnya mantul bgt! Awet bener, gk pernah ngecewain. Starter langsung nyala, harga jg terjangkau. Rekomen bgs nih buat yg cari aki berkualitas. Top deh! . Aki MF ini mantap bgt! Awet, gk pernah ngecewain. Starter langsung nyala, mobil gampang banget dihidupin. Harga worth it bgt rekomen deh buat yg cari aki awet dan berkualitas. Bgs bgs bgs! Top! Aki mobilnya mantul bgt! Awet bener, gk pernah ngecewain. Starter langsung nyala. Harga worth it, rekomen bgs! Top dah pokoknya. Aki mobil ini mantul bgt! Awet, gak pernah ngecewain. Starter langsung nyala, mesin joss. Harga worth it bgt. Rekomen deh buat yg cari aki awet dan berkualitas. Bgs bgs bgs! Top! Aki mobilnya mantap bgt! Awet, nggak mengecewakan. Rekomen bgs deh! Top! Aki mobil ini mantul bgt! Awet bener, gk pernah ngecewain. Starter langsung nyala. Harga worth it bgt. Rekomen abis! Bgs bgt pokoknya. Top deh! Aki mobilnya MANTAP bgt! Awet, harga bersahabat. Rekomen bgt deh! Top! Aki mobil ini mantul bgt! Awet bener, gk pernah ngecewain. Starter langsung nyala, harga juga bersahabat. Rekomen banget deh pokoknya! Bgs bgt kualitasnya. Top! Aki mobilnya mantul bgt! Awet, gk pernah ngecewain. Rekomen bgs nih! Top! . Aki mobil mantap bgt. Pasang lgsg jreng, mobil idup lancar. Gak ragu rekomen deh. Bgs bgt. Puas. Aki mobilnya oke punya. Pas pasang langsung tokcer mobilnya. Staternya enteng gk pake lama. Rekomen bgt buat mobil. Aki mobl-nya juara! Starter lgsg jreng skrng, gk pake lelet lg. Pas dtg packing jg rapih. Bgs bgt nih produk, kualitas ga main-main. Rekomen bgt deh pokoknya buat ganti aki lama. Mantap betul. Aki nya udah sampe kemaren lgsg pasang. Gak nyangka langsung jreng bgt! Mobil lgsg hidup tnpa kendala sama sekali. Kualitasnya bgs bgt. Pkoknya top markotop deh ini aki. Mantap bgt buat yg lg nyari aki mobil yg rekomen. Moga awet ya. Seller gercep. Trims bnyk.",
         "1853"
        ],
        [
         "24",
         "Alarm Clock Digital",
         "negatif",
         "1",
         "20",
         "Alrm gk fungsi! Batre boros bgt, bru dipke 2 hri udh lowbatt. Gk rekomen deh, nyesel beli disini. Bgsan jam waker manual ajah. Toped payah! Alrm digitalnya bkin emosi! Gk akurat, tiap hr telat bangun. Batre boros bgt, bru smggu udh lobet. Tombolnya jg susah dipencet, bkin kesel. Bnr2 nyesel beli ini, gk rekomen sm skali! Alarm digitalnya jelek bgt, brisik, seting susah, gk rekomen sumpah! Bikin emosi tiap pagi! Ga guna beli jam ini. Alarm digitalnya zonk bgt! Angkanya burem, gk jelas. Alarmnya jg gk bunyi, bikin telat mulu! Batre boros parah. Nyesel beli disini, gk rekomen! Mending beli yg lain deh. Bnr2 sampah. Titik Alarmnya gk bunyi, batre boros bgt, seting ribet, layar burem. Gk rekomen deh, nyesel beli. Bgsan jam hp aja. Titik. Alarm digital zonk bgt! Gk akurat, bunyi nya kyk kaleng rombeng. Bikin kaget tiap pagi, gk rekomen blas! Baterenya boros pula. Nyesel beli, pengen ta banting rasanya. Payah! Titik. Alarmnya gk bunyi woi! Batre boros bgt, baru dipake seminggu udh lobet. Desain si bgs, tp fungsi zonk. Bikin telat mulu. Gk rekomen deh, nyesel beli. Mana mahal pula. Bnr2 nyesel beli alarm ini! Gk akurat, bunyi kyk kaleng rombeng. Batre boros bgt, gk rekomen sm sekali! Bikin emosi tiap pagi! Kapok! . Alarmnya gk bunyi woi! Batrenya boros bgt, bru dipke sehari udh abis. Angkanya jg burem, gk jelas. Beli alarm digital malah bikin emosi. Gk rekomen, nyesel bgt! Bgsan alarm hp dah. Alarmnya gk bunyi woi! Batre boros bgt, kualitas plastik ringkih. Nyesel beli, gk rekomen sm skali. Bikin telat mulu! Bnr2 zonk. Titik. Alrm digitalnya gk bgs! Bikin kaget bgt bunyi nya, udh gtu seting jam nya ribet bgt dah. Gk rekomen sm skali, nyesel beli. Batre jg boros bgt, hadeh. Mending beli yg lain aja. Batre boros bgt! Alarm gk bunyi, telat deh jadinya. Bikin emosi, nyesel beli jam digital abal2 gini. Gk rekomen sm skali! Titik. Bnr2 nyesel beli alarm clock digital ini! Masa br seminggu udh rusak, gk bs nyala. Batre boros bgt, pdhl br ganti. Angka digitalnya jg buram, susah dibaca. Bikin telat mulu! Gk rekomen deh, mending beli yg laen aja. Bnr2 zonk! Titik. Alarmnya gk bunyi woi! Batre boros bgt, pdhl baru dipake bentar. Layarnya burem, angkanya susah dibaca. Gk rekomen, nyesel beli disini. Titik. Alarmnya gk bunyi woi! Batre boros bgt, baru dipake seminggu udh abis. Desain si bgs, tp fungsi NOL besar. Nyesel beli disini, gk rekomen sama sekali. Bikin telat mulu! Gk guna! Titik. Alarmnya brisik bgt, seting jamnya ribet, gk rekomen deh. Batre boros parah, kualitas bnr2 jelek. Nyesel beli alarm digital ini, toped payah!. Alarmnya gk bunyi woi! Batre boros bgt, setting ribet pula. Mana plastiknya ringkih gampang pecah. Bener2 nyesel beli jam digital abal2 gini. Bikin emosi tiap pagi! Gk rekomen sm skali. . Alarmnya gk bunyi woi! Batre boros bgt, displaynya burem. Nyesel beli disini, gk rekomen seller ini! Bikin telat mulu, ampas! Titik. Alarm digital zonk bgt! Angkanya burem, gk jelas, batrenya boros amit2. Alarmnya jg gk bunyi, nyesel beli sumpah. Gk rekomen blas. Beli kmrn udh rusak aja. Payah! Alarmnya gk bunyi woy! Mana batrenya boros bgt lg. Gk rekomen sumpah! Bikin telat mulu! Bgs apaan si ini. Titik.",
         "3150"
        ],
        [
         "25",
         "Alarm Clock Digital",
         "negatif",
         "2",
         "20",
         "Alarm digitalnya bener2 zonk! Angkanya burem bgt, gk jelas. Alarmnya jg gk bunyi, bikin telat mulu! Batre boros, kualitas abal2. Nyesel beli disini, gk rekomen! Buang2 duit aja. Alarm digitalnya bnr2 zonk! Gk akurat, telat bunyi, batre boros bgt. Nyesel beli disini, gk rekomen sm sekali. Bikin emosi tiap pagi! Titik. Alarm digital zonk! Bunyinya gk jelas, kadang nyala kadang enggak. Baterenya boros bgt, baru seminggu udah lobet. Angkanya burem, susah dibaca. Gk rekomen deh, nyesel beli! Alarm digital ini bnr2 gk bgs! Bikin kaget bgt, setingnya ribet, batrenya boros! Jgn dibeli deh, nyesel puollll. Gk rekomen! Titik. Alarm digital zonk! Gk worth it bgt. Angkanya burem, batre boros parah. Alarm gk bunyi, telat mulu jadinya. Mending jam weker jadul. Nyesel beli sumpah. Toped, refund dong! Alarmnya brisik bgt! Gk bgs, malah bikin kaget tiap pagi. Batre boros, seting jam ribet. Jgn beli deh, nyesel bgt. Alarm digital zonk bgt! Angkanya burem, gk jelas, batrenya boros pula. Nyesel beli, kirain bgs. Udah gitu, tombolnya keras bgt, susah dipencet. Gk rekomen deh, cari lain aja. Toped payah! Bnr2 nyesel beli jam digital ini! Gk akurat, sering mati sndiri. Batre boros bgt! Jgn beli deh, rugi! Titik. Alarm digitalnya zonk bgt! Angkanya burem, gk jelas, alarmnya jg gk bunyi. Baterenya boros parah, nyesel beli disini. Jgn ketipu deh, produk abal2. Bikin emosi tiap pagi. Alarmnya gk bunyi woi! Batre boros bgt, seting jam ribet, kualitas plastik ringkih. Jgn beli deh, nyesel top. Alarmnya brisik bgt, seting jam susah, batre boros pula! Gk rekomen deh, nyesel beli jam digital ini. Bener2 zonk, bgsan jam weker jadul! Titik. Alarmnya nyaring bgt, bikin kaget! Gk rekomen deh, malah bikin jantung mau copot tiap pagi. Angkanya jg burem, susah dibaca. Baterenya boros pula. Bnr2 nyesel beli jam weker digital abal2 ini. Bgsan jam manual jadul. Gk guna! Titik. Alarm digitalnya jelek bgt! Angka nyala gk jelas, settingnya ribet, suara alarmnya jg kecil. Bikin ngantuk malah. Plastikan murahan, brg cpt rusak. Gk rekomen sama sekali, buang2 duit doang. Bgsnya beli yg analog aja deh. Alarm digitalnya jelek bgt! Angka nyala gk jelas, redup, susah bgt dibaca. Settingnya ribet, manual booknya gk jelas pula. Udah gt, suara alarmnya pelan, hampir gk denger. Baterenya boros, baru pake 2 hari udah abis. Plastikan murah, keliatan ringkih. Gk rekomen sama sekali, mending beli yg analog aja deh. Bgsnya cuma harga murah, tp kualitasnya ampas. Top deh buat yg mau sakit mata & telinga. Alarmnya nyebelin bgt! Angkanya redup, susah dibaca. Settingnya ribet, gk ada intuitifnya sama sekali. Suaranya jg kecil, mana tombolnya gampang rusak lgi. Gak rekomen blas, mending beli yg analog aja deh. Bgsnya cuma murah doang, tp kualitasnya ampun. Alarmnya nyebelin bgt! Angkanya redup, susah dibaca. Settingnya ribet, udah gt bunyi alarmnya pelan, hampir gk denger. Kualitas plastik murahan, cepet bgt lecet. Gak worth it sama sekali, mending beli yg analog aja deh. Bgsnya cuma murah doang, tp keselnya gak sebanding. Jgn beli rekomen! Alarmnya nyebelin bgt! Angkanya redup, suara alarmnya jg kecil gk kedengeran. Baterenya cepet abis pula. Gak rekomen deh, mending beli yg lain aja. Bgsnya cuma murah doang. Alarmnya nyebelin bgt! Angka merahnya silau, bikin gk bisa tdr. Suaranya jg kecil, mana tombolnya ribet. Udah gt, settingnya susah bener. Bgsnya cuma murah doang, tp keselnya kebangetan. Gk rekomen deh, mendingan beli yg lain aja. Bikin emosi jiwa! Alarmnya nyebelin bgt! Angka redup, suara alarmnya jg kecil gk kedengeran. Settingnya ribet pula. Bener2 nyesel beli, mendingan pake hp aja. Gak rekomen! Alarmnya nyebelin bgt! Angkanya redup, susah dibaca. Settingnya ribet, udah gt bunyi alarmnya pelan, hampir gk denger. Kualitas plastik murahan, cepet rusak lagi. Gak rekomen sama sekali, mending beli yg analog aja deh. Bgsnya cuma murah doang, tp gak worth it. Kecewa bgt.",
         "3879"
        ],
        [
         "26",
         "Alarm Clock Digital",
         "negatif",
         "3",
         "16",
         "Alarm digitalnya jelek bgt! Angka nyala gk jelas, settingnya ribet parah. Udah gt, suara alarmnya pelan, mana tombolnya kecil2. Bikin ngantuk malah. Gak worth it sm sekali, mending beli jam weker manual aja deh. Bgsnya cuma murah doang, tp kualitasnya ampun. Gak rekomen buat yg butuh alarm andalan. Bener2 nyebelin! Alarmnya nyebelin bgt! Angka merahnya silau, bikin gk bisa tdr. Suaranya jg kecil, mana settingnya ribet. Baterenya cepet abis pula. Plastikanx murahan, syg bgt beli. Gak rekomen sama sekali, mending beli yg analog aja deh. Bgsnya cuma murah doang, tp kualitas payah. Top deh buat yg mau sakit mata & telinga. Jamnya jelek bgt! Gk akurat, suara alarmnya kecil bgt. Mending gk usah beli. Nyesel banget beli ini. Gak rekomen! . Jamnya gk akurat bgt! Murah tp kualitas jelek. Nyesel beli. Gak rekomen! Jamnya murahan bgt! Gk akurat, sering salah waktu. Desainnya sih oke tp kualitas jelek parah. Nyesel beli. Gk rekomen! Mending cari yg lain. Bnr2 mengecewakan. Jam alarmnya murahan bgt! Gk akurat, sering salah waktu. Desainnya sih ok tp kualitas jelek parah. Baterai boros bgt. Nyesel beli! Gk rekomen sama sekali. Mending cari yg lain aja. Uangku terbuang sia-sia. Bener2 mengecewakan. Jamnya gk akurat bgt! Murah tp murahan. Gak rekomen! Baterai boros. Nyesel beli. Jamnya murahan bgt! Gk akurat, sering salah waktu. Modelnya sih cakep, tp kualitas jelek bgt. Nyesel beli! Gak rekomen sama sekali. Mending beli yg lain aja. Bener2 mengecewakan. Jamnya murahan bgt, gk akurat, sering eror. Mending beli yg lain, rekomen sih gk. Baterai boros pula. Ga sesuai ekspektasi. Kecewa bgt! Jamnya gampang bgt rusak! Gk rekomen. Murah tp murahan bgt. Bgs sih pas baru beli, tp skrg udh error. Nyesel beli. Jam alarmnya kacau bgt! Gk akurat, sering telat bunyi. Mending beli yg lain. Modelnya sih oke, tp fungsinya jeblok. Nyesel beli! Ga rekomen! Bintang satu aja bgsnya. Jam alarm digitalnya bnr2 bikin emosi. Settingnya susyahnya minta ampun, udh gt alrmnya gk konsisten kdg bunyi kdg gk. Layarnya buram. Gk bgs sm skali, nyesel parah beli. Parah bgt jam alarm digital ini. Janjiannya alarm bunyi tp gk bisa diandelin. Udah disetel bener, pagi malah gk bunyi atau bunyinya super pelan gk kedengeran. Bikin telat bangun. Tombolnya keras bgt, display jg nyilauin. Bahan ringkih bgt. Nyesel beli. Gk rekomen samsek. Alarm digitalnya parah bgt, susah di set, angkanya burem gk jelas, gak bunyi. Nyesel bgt beli, gk rekomen. Jam alarm digital ini parah bgt. settingnya ribet minta ampun, bikin pusing tiap ganti. kualitasnya jelek bgt. suara alarmnya cempreng gk jelas, gk ngebangunin malah bikin sebel. layarnya silau ganggu bgt. nyesel beli deh, gk rekomen buat siapapun. Alarm clock digital ini jelek bgt, gk sesuai deskripsi. Suaranya pelan, bikin telat. Layar juga susah dibaca. Nyesel bgt.",
         "2800"
        ],
        [
         "27",
         "Alarm Clock Digital",
         "positif",
         "1",
         "20",
         "Alarm digitalnya bgs bgt! Angka jelas, mudah disetel. Top markotop, rekomen buat yg susah bangun. Thx seller!. Alarm digitalnya bgs bgt! Angkanya jelas, gk berisik, banguninnya lembut. Rekomen buat yg susah bangun pagi! Top markotop dah! Baterenya awet, design minimalist bgt. Suka! Alarm digitalnya bgs bgt! Angkanya jls, gampang disetel. Bikin bangun pagi jd smgt! Rekomen buat yg susah bangun. Top markotop!. Alarm digitalnya bgs bgt! Angkanya jelas, gk berisik, alarmnya jg kenceng. Top markotop deh, rekomen abis buat yg susah bangun! Mantap. Alarm digitalnya bgs bgt! Angkanya gede, jd gampang liat wkt malem. Gk nyesel deh beli disini, rekomen seller top markotop! Alarm digitalnya bgs bgt! Angkanya jls, gk berisik. Top markotop! Rekomen buat yg nyari jam alarm simple. Thx seller. Alarm digitalnya bgs bgt! Angka LED nya jls, gk bikin silau. Build quality oke, alarmnya jg kenceng. Rekomen bgt buat yg susah bangun! Top markotop lah pkoknya. Alarm digitalnya bgs bgt! Gk nyesel beli disini. Angkanya jls, bunyi alarmnya jg oke. Rekomen top markotop!. Alarm digitalnya bgs bgt! Angka jelas, gk berisik, alarmnya jg oke. Gampang settingnya. Rekomen deh buat yg nyari jam alarm simple tp top markotop. Pasti order lg nanti. Alrm digitalnya bgs bgt! Gk nyesel beli disini. Waktu tepat, desain keren abis. Rekomen top markotop!. Alarm digitalnya bgs bgt! Angkanya gede, jd gampang liat jam dr jauh. Gk nyesel beli, rekomen buat yg susah bangun pagi! Top markotop, auto gk telat lagi. Mantap!. Alarm digitalnya bgs bgt! Angkanya jls, gk berisik, simpel tp elegan. Rekomen buat yg susah bangun! Top markotop pokoknya. Alarm digitalnya bgs bgt! Gk nyesel deh beli disini. Angkanya jg jelas, alarmnya kenceng. Top markotop! Rekomen bgt buat yg susah bangun. Mantap!. Alarm digitalnya bgs bgt! Angka jelas, gk berisik, rekomen deh! Top markotop! Bangunin pagi jd semangat trus. Alarm digitalnya bgs bgt! Angka jelas, gk berisik, banguninnya jg pas. Rekomen buat yg susah bangun pagi! Top markotop, puas pkoknya. Alarm digitalnya bgs bgt! Angkanya jlas, gk berisik, bangunin tepat wktu. Top markotop, rekomen abis!. Alarm digitalnya bgs bgt! Gk nyesel deh beli disini. Angka nya jg jelas, jd gk susah liat jam malem2. Rekomen bgt buat yg nyari alarm clock digital! Top markotop!. Alarm digitalnya bgs bgt! Angkanya jlas, set alarmnya gampang. Gk nyesel beli disini, rekomen top markotop! Bangunin pagiku jd semangat. Alarm digitalnya bgs bgt! Angkanya jelas, set alarm gampang, gk berisik. Top markotop! Rekomen buat yg susah bangun pagi. Build quality oke punya. Mantap! Alarm digitalnya bgs bgt! Angkanya jlas, gk berisik, top markotop deh. Rekomen abis! Beli lagi nanti.",
         "2671"
        ],
        [
         "28",
         "Alarm Clock Digital",
         "positif",
         "2",
         "20",
         "Alarm digitalnya bgs bgt! Angkanya jlas, gk berisik, alarmnya jg oke. Rekomen bgt buat yg susah bangun pagi. Top lah pokoknya! Mantap . Alarm digitalnya bgs bgt! Angkanya jls, gk berisik, auto rekomen buat yg nyari weker digital top markotop!. Alarm digitalnya bgs bgt! Angkanya gede, jd gampang liat wkt malem. Gk nyesel beli disini, pengiriman jg cepet. Rekomen bgt buat yg nyari jam alarm simpel tp berkualitas. Top markotop!. Weeek alarm digitalnya bgs bgt! Angkanya gede, jd jelas keliatan. Gk nyesel deh beli disini, rekomen top markotop!. Alarm digitalnya bgs bgt! Angkanya gede, jd gampang liat jam malem2. Bunyi alarmnya jg pas, gk bikin kaget tp ampuh bangunin. Rekomen bgt buat yg susah bangun pagi! Top deh. Alrm digitalnya bgs bgt! Angka jelas, gk berisik. Batre awet, setting gampang. Rekomen buat yg susah bangun pagi! Top markotop dah!. Alrm digitalnya bgs bgt! Angkanya jls, gk berisik, alarmnya jg kenceng. Buat yg susah bgn pagi rekomen deh. Top markotop! Mantap polll. Harganya murce abiss. Puas bgt belanja disini. Thx seller! Alarm digitalnya bgs bgt! Angka LED nya jls, set alarm gmpng. Build quality oke, gk ringkih. Rekomen buat yg nyari jam alarm minimalis & modern. Top markotop!. Alarm digitalnya bgs bgt! Angka jelas, gk berisik, rekomen deh buat yg susah bangun! Top markotop!. Alarmnya bgs bgt! Angka nyala jelas, suara alarmnya jg pas gk nyakitin telinga. Settingnya gampang, pokoke top deh. Rekomen bgt buat yg suka telat! Alarmnya bgs bgt! Angkanya jelas, gampang diatur, suara alarmnya jg lumayan gede, bangun deh pasti. Desainnya jg minimalis, cocok buat meja nakas. Pokoknya top markotop, rekomen bgt buat yg suka telat! Harganya jg oke sih, worth it bener. Puas bgt belanja disini. Alarmnya bgs bgt! Angka nyala terang, suara alarmnya jg gak nyakitin. Settingnya gampang, pokoke top deh. Rekomen bgt buat yg suka telat! . Alarmnya bgs bgt! Angkanya jelas, gampang diatur, & suaranya lumayan lah buat bangunin. Desainnya jg minimalis, cocok di meja kerja. Harganya jg oke bgt, worth it pokoknya. Baterenya awet pula. Top deh, rekomen buat yg nyari alarm digital! Gk nyesel beli ini. Pengiriman cepet, packing rapi. Puas bgt! Alarmnya bgs bgt! Angkanya jelas, suaranya jg lumayan, gk bikin kaget. Settingnya gampang pke tombol fisik, lebih enak drpd touchscreen. Pokoknya top deh, rekomen bgt buat yg suka tidur nyenyak. Pengiriman cepet, packing aman. Mantap! Alarmnya bgs bgt! Angkanya jelas, suaranya jg lumayan, gk bikin kaget. Settingnya gampang pke, desainnya jg minimalis. Pokoknya top deh, rekomen bgt buat yg suka tidur nyenyak. Pengiriman cepet, packing rapi. Mantap! Alarmnya bgs bgt! Angkanya jelas, suara alarmnya jg lumayan gede, bs bangunin aku yg susah bgt. Settingnya gampang, desainnya jg minimalis. Pokoknya top deh, rekomen bgt buat yg pengen hidup lebih teratur. Harganya jg oke sih. Puas bgt! Alarmnya bgs bgt! Angkanya jelas, gampang diatur, & suaranya lumayan lah buat bangunin. Desainnya jg minimalis, cocok buat meja nakas. Harganya jg oke bgt, worth it pokoknya. Baterenya awet pula. Top deh, rekomen buat yg nyari alarm digital murah & berkualitas. Gk nyesel beli ini! Pengiriman cepet. Jam beker digital ini MANTAP bgt! Akurat, praktis, dan suaranya gk nyaring. Rekomen bgs! Top deh pokoknya. Jam beker digital ini mantul bgt! Suaranya pas, gk ganggu tidur. Desainnya kece abis, simple tp elegan. Rekomen bgt buat yg susah bangun pagi. Bgs bgt pokoknya! Top! Jam beker digital ini mantul bgt! Desainnya kece abis, gk ribet dipake. Suara alarmnya pas, gk bikin kuping sakit. Baterai awet bgt pula. Rekomen banget deh buat yg suka tidur pulas. Bgs bgs bgs! Top!",
         "3624"
        ],
        [
         "29",
         "Alarm Clock Digital",
         "positif",
         "3",
         "11",
         "Jam beker digital ini mantul bgt! Gk nyesel beli, suara alarmnya pas bgt buat bangun pagi. Desainnya jg kece abis. Rekomen bgs! Top deh pokoknya. Alarm clock digital ini mantul bgt! Gk nyesel beli, bangun pagi jd gampang. Desainnya kece, suara alarmnya pas bgt. Rekomen abis! Top! Jam beker digital ini mantul bgt! Desainnya kece abis, suara alarmnya gk bikin telinga sakit. Fitur snooze-nya juga helpful bgt. Baterai awet, rekomen bgs! Top deh pokoknya. Beli lagi ah! Alarmnya mantul bgt! Bangun pagi gk males lagi. Rekomen abis! Bgs bgt kualitasnya. Top deh! Jam beker digital ini mantul bgt! Akurat, desainnya kece abis, gk ribet dipake. Suara alarmnya pas, gk nyaring bgt. Rekomen bgs! Beli lagi deh. Top! . Alarm clock ini mantul bgt! Desainnya kece abis, gk ribet dipake. Suara alarmnya pas bgt di kuping, gk bikin jengkel. Baterai awet pula. Rekomen bgt deh buat kalian yg susah bangun pagi. Top! Beli lagi ah. Jam digital ini mantul bgt! Akurat, desainnya kece, gk ribet dipake. Suaranya pas, gak bikin kaget. Rekomen bgt deh! Top! Jam alarm digitalnya bagus bgt. Setelnya gampang banget, angka jelas. Alarmnya kenceng pol. Rekomen deh. Jam alarm digitalnya bgs bgt. Displai jelas, gk bikin mata perih. Setel alarmnya gampang pol, gk pusing. Fitur snoozenya kepake bgt. Rekomen buat yg sering telat, ini ngebantu bgt. Top lah pokoknya produk ini. Mantap. Jam alarm digitalnya bgs bgt! Angkanya jelas, settingnya gampang gk ribet. Alarmnya cukup kenceng bikin melek. Top deh produk ini, rekomen bgt buat yg cari jam simpel. Jam alarm digitalnya keren bgt! Layarnya terang, angka jelas, gk bikin silau. Settingnya gampang pol, gk ribet sama sekali. Buat yg nyari jam meja simpel tapi fungsional, ini rekomen abis deh. Kualitas bgs sesuai harga, top markotop. Pengiriman jg cepet. Puas bgt blanja dsini.",
         "1808"
        ],
        [
         "30",
         "Alarm Motor",
         "negatif",
         "1",
         "20",
         "Alarmnya zonk bgt! Gk sesuai deskripsi, pasang ribet, bunyi trus gk jelas, bikin aki tekor. Ampun deh, nyesel pol! Jgn beli, gk rekomen blas! Bikin emosi jiwa. titik Alarmnya zonk bgt! Baru dipasang udah error. Gk rekomen deh, malah bikin aki tekor. Bikin panik doang, bunyi sendiri tengah malem. Mana pemasangannya ribet bgt lagi. Bgsan gk ush beli deh, nyesel total. Alarmnya gk fungsi! Batre boros bgt, motor malah soak. Pasang ribet, manual gk jelas. Bikin emosi aja, nyesel beli sumpah. Gk rekomen! Titik. Alarmnya zonk bgt! Gk sesuai deskripsi, pasang ribet, eh tau2 malah bikin aki tekor. Bikin motorku mogok di jalan. Nyesel beli disini, seller gk amanah. Kapok deh! Alarmnya zonk bgt! Gk fungsi sm skali, malah bikin aki tekor. Batre boros bgt, gk rekomen deh, nyesel beli! Bgsan yg lama. Toped payah. titik Alarmnya zonk bgt! Pasang ribet, eh taunya gk fungsi sama sekali. Batre boros pula. Mana suaranya kecil bgt, gk kedengeran dr jarak jauh. Penjual jg slow respon. Bener2 nyesel beli ini. Jgn ketipu deh! Alarm motornya zonk bgt! Gk fungsi sama sekali, batre boros, pemasangan ribet. Bikin aki tekor! Nyesel beli, gk rekomen! Bgsan yg lama. Toped payah. titik Alarmnya bnr2 zonk! Gk guna blas, baru dipasang sehari udah rusak. Bikin aki tekor, motor malah gk bs distarter. Nyesel bgt beli disini. Gk rekomen, seller jg slow respon. Bikin emosi! Titik. Alarmnya gk fungsi bgt! Batre boros, motor sering mati ndadak. Gk rekomen, nyesel beli! Bikin ribet doang. Titik. Alarmnya gk fungsi bgt! Baru dipasang udh rusak, aki langsung tekor. Mana pasangnya susah bgt lg. Gk rekomen deh, nyesel beli disini. Penjualnya jg slow respon. Bikin emosi! Titik. Alarm motornya zonk bgt! Gk fungsi, malah bikin aki tekor. Batre cepet abis. Gk rekomen, nyesel beli. Bgs dibuang aja. Alarm motornya bnr2 zonk! Gk fungsi sm skali, batre boros bgt. Nyesel beli disini. Penjualnya jg slow respon. Titik. Alarmnya zonk bgt! Gk sesuai deskripsi, masangnya ribet puol, batrenya boros parah. Malah bikin aki tekor. Bener2 nyesel beli alarm motor abal2 gini. Ampas! Titik. Alarm motornya zonk bgt! Gk fungsi sama sekali, malah bikin aki tekor. Beli nyesel, gk rekomen! Parah.Titik. Alarmnya gk fungsi bgt! Batre boros, motor malah mogok. Gk rekomen, nyesel beli disini. Parah, penipuan bgs ni. Top markotop bikin emosi!!!. Alarmnya zonk bgt! Dipasang ribet, eh malah gk fungsi. Batre boros, motor tekor mulu. Ampun deh, nyesel beli ini. Gk rekomen bgt, mending yg lain aja. Bikin emosi doang ini alarm, bgsan alarm HP! Titik. Alarm motornya zonk! Dipasang malah aki tekor, gk fungsi sm skli. Penjual jg slow respon bgt. Nyesel beli disini, rugi bsr. Jgn ketipu deh! Alarm motornya zonk bgt! Gk fungsi, malah bikin aki tekor. Pasang ribet, instruksi gk jelas. Bikin emosi! Jgn beli deh, nyesel top! Alarm gk fungsi blas! Baru dipasang dah error, aki tekor. Gk rekomen bgt, nyesel beli disini. Bikin motorku mogok! Ampas. Alarm motornya ampas bgt! Baru dipasang eh udh rusak. Gk rekomen sama sekali, bikin aki tekor. Beli ini nyesel puolll, gk bgs, malah ngerepotin. Top dah jeleknya. titik",
         "3076"
        ],
        [
         "31",
         "Alarm Motor",
         "negatif",
         "2",
         "20",
         "Alarmnya bnr2 gk guna! Dipasang malah bikin aki tekor. Ampun deh, nyesel bgt beli beginian. Zonk total! Titik. Alarm motornya zonk bgt! Gk sesuai deskripsi, masangnya ribet puol. Baterenya boros amat, baru seminggu udh soak. Gk rekomen deh, nyesel beli disini. Bgsan yg lama. Toped payah! Titik. Alarm motornya zonk bgt! Gk rekomen, pasang susah, eh malah gk fungsi. Batre boros pula. Bikin tekor! Payah bgs. Alarm motornya zonk bgt! Gk sesuai deskripsi, masangnya ribet puol, batre boros, bunyi alarmnya jg gk kenceng. Nyesel beli disini, seller slow respon. Bikin emosi aja! Titik. Alarmnya zonk! Gk fungsi sm sekali, baru dipasang dah rusak. Batre boros bgt, motor malah tekor. Manualnya jg gk jelas. Nyesel beli disini, seller slow respon. Gk rekomen pokoknya! Titik. Alarmnya zonk bgt! Gk sesuai deskripsi, masangnya ribet, batre boros parah. Mending beli yg lain deh, nyesel bgt! Gk rekomen! Titik. Alarmnya zonk bgt! Gk berfungsi sm skali, dipasang ribet, manualnya gk jelas. Batre boros pula! Nyesel beli disini. Toko gk amanah, jgn pd beli dah. Bikin emosi aja nih alarm motor. Alarmnya brisik bgt, sensitifnya kebangetan! Dikitt doang kena angin langsung bunyi. Gk worth it sm sekali, nyusahin malah. Pasang susah, manualnya gk jelas. Baterenya cepet abis pula. JANGAN BELI! Bgsnya cuma harga murah doang, tp kualitas payah. Kecewa bgt rekomen sih buat yg lain cari alarm lain aja. Alarmnya brisik bgt, sensitifnya kebangetan! Dikitt doang motor gedoran dikit langsung bunyi. Baterenya boros pula, baru sebulan udah soak. Pasang susah, manualnya gk jelas. Kabelnya ringkih, takut putus. Udah gt, suara alarmnya jg pelan, mending teriak aja langsung. Gk worth it bgt, mending cari merek lain. Nyesel beli ini. Alarmnya brisik bgt, sensitifnya kebangetan! Gk worth it sm sekali, mending beli yg lain. Kualitas plastik jg murahan, cpt rusak rekomen sih buat yg lain. Alarmnya brisik bgt, sensitifnya kebangetan! Dikitt doang motor gedoran dikit langsung bunyi. Baterenya boros pula, tiap minggu ganti. Gk worth it sm sekali, mending beli yg lain aja deh. Bgsnya cuma harga murah doang, selebihnya nyusahin. Jangan sampe nyesel kayak aku yaa. Top deh pokoknya buat kualitasnya. Alarmnya brisik bgt, sensitifnya kebangetan! Dikitt doang motor gedoran dikit langsung bunyi. Baterenya boros pula, tiap minggu ganti. Gk worth it sm sekali, mending cari yg lain deh. Bgsnya cuma harga murah doang, tp keselnya ngalahin. Jangan dibeli rekomen! Titik. Alarmnya brisik bgt gak jelas! Pasang susah, manualnya gak ngerti. Baru sehari udah error, bunyi sndiri tengah malem. Baterenya boros pula. Gk worth it sm sekali, mending beli yg lain aja. Kecewa bgt deh, buang duit doang. Gak rekomen! Bgsnya cuma packingnya doang. Top deh buat bikin emosi. Alarmnya brisik bgt, sensitifnya kebangetan! Gk worth it sm sekali, mending beli yg lain. Kualitas plastik jg murahan, cpt rusak rekomen gk beli deh. Alarmnya brisik bgt, sensitifnya kebangetan! Gk worth it sm sekali, mending beli yg lain. Pasang susah, kualitas plastik jg jelek. Nyesel bgt bli ini. Alarm motornya murahan bgt! Gk tahan lama, cuma 2 minggu rusak. Nyesel beli. Gak rekomen! Mending cari yg lbh bagus. Bgs sih pas awal, tp cepet bgt rusak. Hambar. Alarm motornya murahan bgt, gk awet. Baterai boros, modelnya jelek. Nyesel beli! . Alarm motornya jelek bgt! Gk bunyi pas dicuri. Mending beli yg lain. Uang sia-sia! Nyesel bgt beli ini. Gk rekomen! Barang murahan. Bener2 mengecewakan. . Alarm motornya gampang bgt jebol, gk aman sm skali! Mending beli yg lain. Nyesel bgt beli ini. Kualitas jelek bgt. Gak rekomen! Uang sia-sia. Alarm motornya murahan bgt! Gk tahan banting, rusak cuma seminggu. Pasang ribet, suara jg kecil. Ga rekomen! Mending cari yg lebih bgs. Nyesel beli. Uang melayang.",
         "3750"
        ],
        [
         "32",
         "Alarm Motor",
         "negatif",
         "3",
         "7",
         "Alarm motornya gampang bgt jebol, gk aman. Murah tp murahan bgt. Nyesel beli! . Alarm motornya murahan bgt! Gk tahan lama, trus sering bunyi sendiri. Baterai boros parah. Nyesel beli! Jgn beli rekomen! Mending nabung lg. . Alarm motornya murahan bgt! Gk tahan lama, cuma 2 minggu udh rusak. Suara nge-kriuk2, bikin kesel. Mending cari yg lain aja rekomen gk nih. Kecewa bgt. Uangnya mubazir. Bener2 gk worth it. Buang2 uang. Jgn beli! Alarm motornya jelek bgt! Gk berfungsi, murah tp murahan. Nyesel beli. titik Alarm motor ini sumpah parah bgt kualitasnya. Udah dipasang sesuai instruksi tapi gk mau bunyi pas digoyang. Malah kadang bunyi sendiri bikin sebel. Remote jg susah konek. Beneran rugi beli, gk rekomen sama sekali deh, buang2 duit aja. Nyesel bgt pokoknya. Alarm motornya parah, baru seminggu udh rusak remote gk nyala. Gk rekomen deh bgsan cari yg lain. Alarm motornya gk fungsi sama sekali. Udah dipasang sesuai petunjuk ttp aja diem aja pas dicoba goyang. Bener-bener zonk, gk ada gunanya beli alarm ini. Buang2 duit bgt! Ga rekomen sama sekali. Nyesel bgt.",
         "1072"
        ],
        [
         "33",
         "Alarm Motor",
         "positif",
         "1",
         "20",
         "Alarm motornya bgs bgt! Gk nyesel deh beli disini, responnya jg cepet. Rekomen top markotop! Mantap. Alarm motornya bgs bgt! Gk nyesel deh beli disini, responsif bgt, aman! Pkknya rekomen top markotop buat motor kesayangan. Mantap!. Alarm motornya bgs bgt! Pemasangan gampang, aman dr maling. Rekomen seller! Top markotop dah. Jgn ragu beli!. Alarm motornya bgs bgt! Pemasangan gampang, suara kenceng, maling auto kabur. Rekomen deh buat keamanan motor. Harga oke, kualitas top markotop! Puas bgt gk nyesel beli disini. Alarmnya bgs bgt! Mtr aman, maling auto kabur. Pemasangan gampang, rekomen bgt dah. Top markotop!. Alarm motornya bgs bgt! Pemasangan mudah, suara kenceng, maling auto kabur. Rekomen seller! Gk nyesel deh beli disini, harga oke kualitas top markotop. Mantap jiwa!. Alarm motornya bgs bgt! Gk ribet pasangnya, aman, maling auto kabur. Rekomen deh, top markotop!. Alarm motornya bgs bgt! Pemasangannya jg gk ribet. Suaranya kenceng, bikin maling mikir 2x. Rekomen bgt buat keamanan motor kesayangan! Top markotop!. Alarm motornya bgs bgt! Gk nyesel deh beli disini. Responnya cepet, pemasangan jg gampang. Rekomen buat yg cari alarm motor yg top markotop!. Alarm motornya bgs bgt! Gk nyesel deh beli disini. Rekomen top markotop! Aman parkir, maling auto minggat!. Alarm motornya bgs bgt! Gk nyesel deh beli disini. Respon penjual jg oke, pengiriman cepet. Top markotop! Rekomen bgt buat motor kesayangan. Titik Alarm motornya bgs bgt! Gk nyesel deh beli disini. Pemasangan jg lumayan gampang, suara kenceng bgt, maling auto kabur. Rekomen seller ini! Top markotop dah pokoknya. Mantap jiwa!. Alarm motornya bgs bgt! Gk nyesel deh beli disini. Responnya cepet, pemasangannya jg gampang. Rekomen bgt buat yg nyari alarm motor murah tp berkualitas. Top! Alarm motornya bgs bgt! Pasangnya gampang, gk ribet. Suaranya kenceng, aman deh motor gw. Rekomen bgt buat yg nyari alarm murah tp kualitasnya oke. Top markotop!. Alarm motornya bgs bgt! Pemasangannya gampang, bunyi kenceng, maling auto kabur. Rekomen deh, amanin motorku dr curanmor. Top markotop! Beli lagi ah buat motor satunya. Alarm motornya bgs bgt! Gk nyesel deh beli disini, responsif bgt sensornya. Top markotop, rekomen bgt buat keamanan motor. Puas pol!. Alarm motornya bgs bgt! Pemasangannya gampang, suaranya kenceng, maling auto kabur. Seller gercep, pengiriman jg cpt. Rekomen bgt deh, gk nyesel belinya. Top markotop!. Alarm motornya bgs bgt! Pemasangannya jg gk ribet, suara kenceng, aman deh motor gw skrg. Seller responsif, pengiriman cepet. Rekomen bgt pokoknya! Top markotop!. Alarm motornya bgs bgt! Gk nyesel deh beli disini. Rekomen seller! Top markotop, aman motorku skrg!. Alarm motornya bgs bgt! Gk nyesel deh beli disini, top markotop! Rekomen seller ini. Mantap!.",
         "2762"
        ],
        [
         "34",
         "Alarm Motor",
         "positif",
         "2",
         "20",
         "Alarmnya bgs bgt! Mtr jd aman, gk worry parkir dmn aja. Suaranya kenceng, maling auto kabur. Instalasi gampang kok, rekomen bgt buat yg pengen mtrnya aman. Top markotop! Alarm motornya bgs bgt! Pemasangan gampang, amanin motor dari maling. TOP dah, rekomen seller! Alarm motornya bgs bgt! Pemasangannya jg gk ribet. Suaranya kenceng, aman deh motor gw. Rekomen bgt buat yg cari alarm murah tp berkualitas! Top. Alarm motornya bgs bgt! Gk nyesel deh beli disini. Suaranya kenceng, maling auto kabur. Pemasangan jg lumayan gampang. Rekomen bgt buat keamanan motor. Top markotop dah! Titip Alarm motornya bgs bgt! Gk worry lg parkir jauh. Suaranya kenceng, sensitif. Rekomen buat yg sering parkir sembarangan. Top markotop dah!. Alarm motornya bgs bgt! Pemasangannya jg gk ribet. Jd lbh tenang parkir motor. Suaranya kenceng, maling auto kabur. Rekomen seller ini, responnya jg cepet. Top markotop! Alarm motornya bgs bgt! Pemasangan mudah, sensitif. Maling auto minggat. Rekomen seller! Top markotop. Ga nyesel deh pkoknya. Alarm motornya bgs bgt! Gk nyesel deh beli disini, rekomen seller! Top markotop, aman dari maling!. Alarm motornya bgs bgt! Gk nyangka semurah ini dpt alarm sensitif. Pemasangan jg mudah. Maling auto kabur dah! Rekomen bgt buat keamanan motor. Top markotop, aman terkendali! Alarm motornya bgs bgt! Pemasangan mudah, aman dr maling. Suara kenceng, rekomen top markotop dah!. Alarmnya mantap bgt! Suara kenceng, sensitif, gampang pasang. Brg bgs, packing rapi. Puas bgt belanja disini, rekomen pokoknya! Top markotop. Alarmnya mantap bgt! Gk nyangka segampang ini pasangnya, suara sirinenya kenceng pol. Motor aman sekarang, tidur nyenyak deh. Bgs bgt kualitasnya, worth it bener. Rekomen buat yg pengen keamanan ekstra! Pengiriman cepet, packing rapi. Top markotop! Alarmnya mantap bgt! Gk nyangka segampang ini pasangnya, suara sirinenya kenceng pol. Motor aman sekarang, tidur nyenyak deh. Bgs bgt pokoknya, rekomen buat yg pengen keamanan ekstra! Harganya jg lumayan lah ya. Top! Alarmnya mantap bgt! Gk nyangka segampang ini pasangnya, suara sirinenya kenceng pol, bikin maling mikir dua kali deh. Kualitas oke, harganya jg bersahabat. Bgs bgt buat pengaman motor, rekomen pokoknya! Udah nambah rasa aman jg pas parkir. Top markotop! Alarmnya mantap bgt! Suara kenceng, sensitif, gampang pasang. Brg bgs, packing rapi. Top deh pokoknya, rekomen bgt buat pengaman motor. Puas! Alarmnya mantap bgt! Gk nyangka segampang ini pasangnya, suara sirinenya kenceng pol. Motor aman sekarang, tidur nyenyak deh. Bgs bgt pokoknya, rekomen buat yg pengen keamanan ekstra. Top markotop! Alarmnya mantap bgt! Gk nyangka segampang pasangnya, suara sirinenya kenceng pol. Motor aman sekarang, tidur nyenyak deh. Bgs bgt pokoknya, rekomen buat yg pengen keamanan ekstra. Top markotop! Alarmnya mantap bgt! Gk nyangka segampang ini pasangnya, suara sirinenya kenceng pol. Motor jd lebih aman, maling mikir dua kali deh. Baterenya awet jg, sensitifitasnya pas. Pokoknya top markotop, rekomen bgs buat yg pengen motornya aman. Harganya jg lumayan lah, worth it bgt! Puas pokoknya. Alarm motornya mantul bgt! Gk nyesel beli, recomen abis. Bgs bgt kualitasnya. Top deh! Alarm motornya mantul bgt! Gk nyesel beli, suara keras bgs, anti maling top! Instalasi mudah, rekomen banget deh pokoknya. Harga pas, kualitas juara!",
         "3323"
        ],
        [
         "35",
         "Alarm Motor",
         "positif",
         "3",
         "12",
         "Alarm motor ini mantul bgt! Suara nyaring bgs, anti maling beneran. Gk nyesel beli, recomen abis! Instalasi mudah, kualitas top. Harga worth it. Beli lagi deh klo rusak. Pokoknya puas bgt! Alarm motornya mantul bgt! Gak nyesel beli, suara keras bgs, anti maling top! Rekomen banget deh! Pas banget buat motor kesayangan. Bener2 awet. . Alarm motornya mantap bgt! Suaranya keras, anti maling beneran. Gk nyesel beli, rekomen deh buat yg lg cari alarm motor bgs. pasang sendiri gampang kok. Top banget pokoknya! Harga sesuai kualitas. Alarm motornya mantul bgt! Gak nyesel beli, rekomen deh! Bgs bgt kualitasnya. Top! . Alarm motornya mantul bgt! Gak nyesel beli, suara nyaring bgt, anti maling top! Instalasi mudah, bahannya kuat dan awet. Rekomen bgt buat yg cari alarm bagus dan harga terjangkau. Bgs banget pokoknya! . Alarm motornya mantul bgt! Gk nyesel beli, suara keras bgs bikin maling ciut. Instalasi mudah, rekomen bgt deh! Top! Harga pas di kantong. Alarm motor ini mantul bgt! Gak nyesel beli, suara kenceng, anti maling bgs. Instalasi mudah, rekomen bgt deh! Top! . Pake alarm motor ini jd tenang bgt gk khawatir motor ilang lagi. Pasangnya mudah banget, fungsinya jg mantap suara nyaring. Rekomen! Pasang alarm motor ini motor lgsg aman bgt. Suaranya kenceng, bikin maling mikir dua kali. Pemasangan gampang, gk perlu ahli. Rekomen bgt deh, beneran bgs hasilnya. Top! Alarm motornya top bgt! Pasangnya gampang, suara alarmnya kenceng poll. Bikin tenang bgt kalo motor parkir. Kualitas bahan alarmnya jg oke. Rekomen bgt deh buat pengaman motor. Puas sama produk ini. TOP!. Alarm motornya bgs bgt. Skrg parkir jd tenang, gak waswas. Bunyi nyaring bikin maling mikir. Pasangnya jg gk susah. Rekomen bgt deh buat keamanan motor. Alarm motornya top bgt! Bikin tenang klo parkir di luar. Sensitifnya pas, gk gampang bunyi kena senggol dikit tp klo ada yg niat maling lngsung teriak kenceng. Pasangnya jg gampang kok. Rekomen bgt buat yg nyari keamanan ekstra. Beneran worth it. Bgs deh.",
         "1994"
        ],
        [
         "36",
         "Alat Cek Gula Darah",
         "negatif",
         "1",
         "20",
         "Alatnya eror mulu! Gk akurat bgt, bikin panik! Harganya mahal, tp hasilnya zonk. Nyesel beli disini, gk rekomen sama sekali. Bikin rugi! Titik. Alat cek gula darah ini zonk bgt! Gk akurat, bikin panik doang. Hasilnya ngaco, beda jauh sm yg di lab. Nyesel beli disini, pelayanan jg lama. Batre cepet abis pula. Gk rekomen deh pokoknya! Titik. Alatnya jelek bgt, gk akurat! Hasilnya ngaco, mahal lagi. Baterenya boros, nyesel beli disini! Gk rekomen, sumpah!. Alat cek gula nya zonk bgt! Gk akurat, hasilnya beda jauh sm yg di lab. Bikin panik doang, mana mahal lagi. Batre jg boros amat. Nyesel beli disini, gk rekomen! Titik. Alatnya eror mulu! Gk akurat hasilnya, bikin panik! Mahal bgt tp gk kepake, nyesel beli disini. Batre jg boros bgt, mana gk dapet garansi. Zzz parah, jgn beli deh, boong smua! Titik. Alatnya zonk! Gk akurat, tiap ngecek hasilnya beda2. Bikin panik doang. Mana mahal bgt lagi. Gk rekomen sama sekali. Bgs cari merk lain aja dah. Titik. Alat cek gula darahnya zonk! Hasilnya gk akurat bgt, beda jauh sm yg di lab. Mana mahal lg. Batre jg boros. Gk rekomen deh, nyesel beli disini. Bikin panik doang!. Alatnya eror mulu, hasil gk akurat, bikin panik! Jarumnya jg sakit bgt. Nyesel beli disini, seller slow respon. Gk rekomen! Bnr2 zonk!. Alatnya lemot bgt, hasil ceknya gk akurat. Bikin panik doang! Jarumnya jg susah dipasang, aplikasinya ribet pula. Baterenya boros, nyesel beli disini. Gk rekomen sm skali! Bgsan yg lama deh, ini mah ampas. Topiknya nipu! Titik. Alatnya zonk! Gk akurat bgt, beda jauh hasilnya tiap ngecek. Bikin panik doang, mana mahal lagi. Gk rekomen sumpah, nyesel beli. Parah! Titik. Alatnya gk akurat bgt! Hasilnya beda jauh sm yg di lab. Mana mahal pula. Bikin panik aja tiap ngecek. Gk rekomen, nyesel beli. Bgsan merk lain deh, ini mah ampas. Top bgt zonknya. Titik. Alatnya eror mulu! Hasilnya gk akurat, bikin panik! Batre boros bgt, mahal lagi. Gk rekomen, nyesel beli disini. Bgsan yg lama. Payah!. Alatnya lemot bgt, hasil cek gula darah gk akurat! Bikin panik doang. Layarnya burem, batrenya boros. Gk rekomen sama skali, nyesel beli disini. Bgsan yg lama deh, ini mah ampas. Buang2 duit aja. Titik. Alatnya zonk! Gk akurat blass, beda jauh sm yg di lab. Buang2 duit bgt, nyesel beli disini. Gk rekomen! Batre jg cepet abis. Parah! Titik. Alat cek gula darah ini bner2 zonk! Gk akurat bgt hasilnya, bikin panik doang. Mahal tpi gk kepake, nyesel beli disini. Batre jg boros, layar burem. Bner2 gk rekomen deh! Titik. Alatnya gk akurat bgt! Hasilnya beda2 trs, bikin panik! Gk rekomen deh, nyesel beli. Batre jg boros. Parah!. Alatnya zonk bgt! Gk akurat, bikin panik doang. Hasilnya beda2 trs tiap ngecek, mana mahal pula. Nyesel beli disini, gk rekomen sm sekali! Bgsan yg lama, ini mah ampas. Toped payah! Gk akurat bgt! Hasilnya ngaco, beda jauh dr yg sbnrnya. Batre jg boros. Jgn beli deh, nyesel bgt! Alat cek gula darah abal. Alat cek gula darahnya zonk! Gk akurat bgt, hasilnya beda jauh sm yg di lab. Batre jg boros. Nyesel beli disini, mana pengirimannya lama lg. Gk rekomen sm sekali, mending beli merk lain aja deh. Bgsan yg lama kmana2. Alatnya eror mlulu! Hasilnya gk akurat, bikin panik doang. Batre jg boros bgt. Gk rekomen deh, nyesel beli disini. Bgsan yg lama. Titik.",
         "3243"
        ],
        [
         "37",
         "Alat Cek Gula Darah",
         "negatif",
         "2",
         "20",
         "Alatnya eror mulu! Gk akurat hasilnya, bikin panik aja. Udah gtu, batrenya boros bgt. Nyesel beli disini, pelayanan jg lambat. Gk rekomen deh pokoknya, mending cari merk lain aja. Bikin rugi doang! Titik. Alatnya gk akurat bgt! Hasilnya ngaco parah, beda jauh sm yg di lab. Beli ini nyesel bgt, mana mahal lagi. Gk rekomen sm sekali. Bgs jg enggak. Top dah.. ampas. Alat ceknya eror mulu! Hasilnya gk akurat bgt, bikin panik. Jarumnya jg susah dipasang, nyoloknya sakit. Baterenya boros, bru dipake bentar udh lowbat. Gk rekomen deh, nyesel beli disini. Harganya mahal tp kualitas ampas. Jgn ketipu! Titik. Alatnya zonk! Gk akurat bgt hasilnya, bikin panik! Udah gtu, batrenya boros pula. Nyesel beli disini, gak rekomen blas!. Alat cek gula darah ini zonk bgt! Gk akurat, beda jauh sm yg di lab. Mahal pula! Batre boros, stripnya jg susah dicari. Nyesel beli, gk rekomen sama sekali. Mendingan merk lain deh. Ampas! Titik. Alatnya zonk abis. Gk akurat, bikin panik! Mahal pula. Mending cek lab aja sekalian. Nyesel bgt beli ini. Bikin emosi. Gk rekomen pokoknya. Titik. Alat cek gula darahnya zonk! Gk akurat bgt, hasil tesnya ngaco parah. Udah gitu, stripnya mahal & susah dicari. Batre jg boros bgt. Nyesel beli, gk rekomen sm sekali. Bikin panik doang! Titik. Alat cek gula darahnya zonk bgt! Gk akurat, malah bikin panik. Hasilnya beda2 trs tiap ngecek. Baterenya boros pula. Nyesel beli disini, gk rekomen sama sekali. Bgsan yg lama. Toped payah! Alat cek gula nya zonk! Hasilnya gk akurat bgt, beda jauh sm yg di lab. Udah gtu, strip nya mahal dan susah dicari. Nyesel beli disini, gk rekomen sama sekali. Bgsan yg lama, ini mah ampas. Bikin khawatir aja hasilnya. Titik. Alatnya zonk! Gk akurat bgt, tiap ngecek hasilnya beda jauh. Bikin panik! Mana batrenya boros. Nyesel beli, gk rekomen! Titik. Alat cek gula ini bnr2 zonk! Hasilnya ngaco bgt, beda jauh sm yg di lab. Gk akurat blas, bikin panik doang. Mana mahal pula. Nyesel beli sumpah. Jgn ketipu deh, cari merk lain aja yg jelas bgs. Ini mah sampah. Alatnya bgus sih, tp akurasinya ampun deh! Hasilnya beda jauh sm cek di lab. Bikin panik gak jelas. Harganya jg lumayan, tp kualitasnya zonk bgt. Gk rekomen blas. Udah gt, ribet pakenya, manual booknya jg gk jelas. Mending beli yg lain aja deh. Alatnya bgttt mengecewakan! Gula darahku malah naik turun gak jelas setelah pake ini. Hasilnya suka beda2 tiap tes, padahal udah ikutin manualnya bener. Baterenya boros bgt, baru seminggu udah abis. Plastik lancetnya jg murahan, sakit bgt pas dipake. Gk rekomen sama sekali, mending cari merek lain aja deh. Bgsnya cuma harganya murah, tp kualitasnya ampun deh. Top deh buat yg mau frustasi. Alatnya bgus sih, tp akurasinya ampun deh! Hasilnya beda jauh sm cek di lab. Bikin panik gak jelas. Harganya jg lumayan, tp kualitasnya zonk bgt. Gk rekomen blas. Udah gt, ribet pakenya, manualnya gk jelas. Mending beli yg lain aja deh. Alatnya jelek bgt, hasil ukurnya ngawur! Baterenya cepet abis, gk akurat sama sekali. Plastiknya murahan, syg bgt beli ini. Gk rekomen! Alatnya bgus sih dlm bntuk, tp akurasinya zonk bgt! Uda cek berkali2 hasilnya beda2 trs. Bikin panik sndiri. Gk worth it sm sekali buat yg serius pantau gula. Mending beli merek lain deh, ini buang duit aja. Gk rekomen! Alatnya bgus sih dngan harga segitu, tp akurasinya zonk bgt! Hasilnya beda jauh sama cek di lab. Bikin panik doang. Gk rekomen buat yg serius pantau gula. Udah gt, jarumnya jg sakit bgt pas nyuntik. Mending cari merek lain deh, ini buang2 duit. Alatnya bgttt mengecewakan! Gula darahku malah naik turun gak jelas setelah pake ini. Hasilnya suka beda2 tiap tes, padahal udah ikutin manualnya bener. Baterenya boros bgt, baru seminggu udah abis. Plastik lancetnya jg murahan, sakit bgt pas dipake. Gk rekomen sama sekali, mending cari merek lain aja deh. Bgsnya cuma harganya murah, tp kualitasnya ampun deh. Top deh buat bikin frustasi! Alatnya bgttt mengecewakan! Gak akurat sama sekali, udah tes berkali2 hasilnya beda jauh sm lab. Plastiknya murahan, tombolnya jg gampang rusak. Beli rugi bgt deh, mending cek gula di rs aja. Gk rekomen sama sekali, buang2 duit doang. Bgsnya apa coba?! Gak akurat bgt! Hasilnya beda jauh sama lab. Mending beli yg lain aja, rekomen gk nih alat. Buang2 uang! Nyesel beli. .",
         "4254"
        ],
        [
         "38",
         "Alat Cek Gula Darah",
         "negatif",
         "3",
         "15",
         "Alat cek gula darahnya gk akurat bgt! Hasilnya ngasal. Mending gk usah beli. Nyesel bgt! Alat cek gula darahnya jelek bgt! Akurasinya ngawur, gk akurat sama sekali. Hasilnya beda jauh sm di lab. Mending gk usah beli, uangnya mubazir. Nyesel bgt beli ini. Gak recomen! . Alat cek gula darahnya ga akurat bgt! Murah sih, tp menyesal beli. Hasilnya kacau. Gak rekomen! . Alat cek gula darahnya gk akurat bgt! Hasilnya selalu beda-beda. Mending beli yg lain. Gak rekomen sama sekali. Buang2 uang aja. Nyesel bgt beli ini. . Gak akurat bgt! Hasilnya beda jauh sama di lab. Udah mahal, tp gk presisi. Baterai boros pula. Nyesel beli! Mending cek ke dokter aja. Gk rekomen! Produk jelek bgt. Buang2 duit! . Alat cek gula darahnya jelek bgt! Akurasinya kacau, gk akurat sama sekali. Hasilnya beda2 mulu. Mending gk usah beli. Nyesel bgt beli ini. Rugi duit. Gk rekomen! . Gak akurat bgt! Hasilnya beda jauh sama lab. Murah sih, tp gk recomen. Uang sia-sia aja beli ini. Pembacaan susah, angka sering ngawur. Bener2 mengecewakan. Jgn beli deh, nyesel bgt. Ukuranya juga kecil, susah dipake. Alat cek gula darahnya jelek bgt! Akurasinya gk bener, sering error. Mending gk usah beli. Nyesel bgt beli ini. Gak rekomen! Buang2 uang. Gak akurat bgt! Hasilnya beda jauh sm lab. Udah mahal, gk presisi pula. Nyesel beli! Mending cek ke dokter aja. Rekomen? Gak! Buru\" rusak lg. Murah tp murahan. Alat cek gula darahnya gak akurat bgt! Hasilnya sering beda jauh. Mending beli yg lain. Nyesel beli ini. Parah bgt ni alat cek gula, hasilnya gk akurat blas! Sering eror, bikin was2 aja. Bener2 nyesel beli, buang2 duit sumpah. Stripnya jg mahal bgt. Gk rekomen! Alat cek gula drah ini ribet bgt dipake, gk akurat hasilnye bikin bingung bgt. Kadang tinggi bgt, kadang rendah bgt pdhl kondisi sama, bikin ragu parah. Jarumnya jg sakit bgt. Nyesel bgt dah beli produk ini. Buang2 duit doang gk kepake bgsnya. Rekomen bgt buat dihindari. Top bgt mengecewakan kualitasnya. GK worth it, gampang rusak. Alat cek gula ini parah bgt. Hasilnya gk konsisten sama sekali, beda jauh tiap tes. Sulit dpt hasil, sering error. Gak bisa diandalkan buat monitor gula darah. Nyesel udh beli, buang2 duit aja. Bgsnya cm dusnya doang. Produknya ampas, gk rekomen blas. Alat cek gula darah ini payah bgt sumpah. Tiap di tes hasilnya beda2 jauh pdhl jeda cuma bntr. Stripnya sering error gk kebaca atau butuh darah banyak bgt, jd boros gak kepake. Nyesel beli krn gk akurat sm skali, malah bikin bingung. Pakenya jg agak ribet. Gak rekomen sama sekali. Parah nih alat cek gula darah. Hasilnya gk akurat samsek, bikin bingung. Udah coba bbrp kali hasilnya beda2 jauh. Kualitasnya jelek, buang2 duit doang. Gak rekomen bgt deh pokoknya.",
         "2691"
        ],
        [
         "39",
         "Alat Cek Gula Darah",
         "positif",
         "1",
         "20",
         "Alat cek gula darahnya bgs bgt! Gk nyangka semudah ini pakenya. Hasilnya akurat, rekomen top markotop!. Alat cek gula darahnya bgs bgt! Gk nyangka semudah ini pakenya. Hasilnya akurat, rekomen bgt buat yg sering cek gula sendiri di rumah. Top markotop deh! Alat cek gula darahnya bgs bgt! Gk nyangka semudah ini pakenya. Hasilnya akurat, rekomen buat yg diabetes! Top markotop dah. Titik. Alat cek gula darahnya bgs bgt! Akurat, mudah dipake, gk ribet. Hasilnya cepet, rekomen top markotop!. Alat cek gula darahnya bgs bgt! Gk nyangka semudah ini pakenya. Hasilnya jg akurat, rekomen buat yg butuh pantau gula darah tiap hari. Top markotop deh!. Alatnya bgs bgt! Pake ini jd gk ribet cek gula darah. Akurat & rekomen buat yg diabetes! Top markotop!. Alat cek gula darahnya bgs bgt! Praktis, gk ribet pakenya. Hasilnya akurat, mantap. Pengiriman jg cepet. Rekomen deh buat yg sering cek gula darah di rumah. Top markotop!. Mantap! Alat cek gula darahnya bgs bgt, mudah dipakai, hasil akurat! Rekomen seller! Top markotop!. Alat cek gula darah ini bgs bgt! Praktis, hasil akurat, gk ribet pakenya. Rekomen buat yg sering cek gula darah di rumah. Top markotop! pokonya bintang 5 dehh! Alat cek gula darahnya bgs bgt! Akurat, mudah dipake, hasil cepet. Rekomen buat yg diabetes. Top markotop!. Alat cek gula darahnya bgs bgt! Akurat, mudah dipake, gk ribet. Hasilnya cepet keluar. Rekomen bgt buat yg sering cek gula darah di rumah. Top markotop! Mantap! Alat cek gula darahnya bgs bgt, akurat & mudah dipakai. Rekomen seller ini! Top markotop dah pokoknya. Alat cek gula darahnya bgs bgt! Gk nyangka semudah ini pakenya. Hasilnya jg akurat, jd tenang deh mantau gula darah di rumah. Rekomen bgt buat yg cari alat praktis & terpercaya! Top markotop!. Alat cek gula darahnya bgs bgt! Praktis, mudah dipake, hasil akurat. Gk nyesel beli disini, rekomen top markotop! Seller responsif. . Alat cek gula darahnya bgs bgt! Gk nyangka semurah ini dpt yg akurat. Pengiriman jg cepet. Mama jd lbh mudah pantau gula darah. Rekomen seller ini, top markotop!. Alat cek gula darahnya bgs bgt! Praktis, mudah dipake, hasil akurat. Rekomen buat yg pnya diabet. Top markotop deh pkoknya!. Alat cek gula darahnya bgs bgt! Gk nyangka semudah ini pakenya. Hasilnya akurat, rekomen buat yg sering cek gula darah di rumah. Top markotop! Alat cek gula bgs bgt! Akurat, mudah dipake. Hasilnya cepet keluar. Rekomen buat yg cari alat cek gula murah tp top!. Alat cek gula darahnya bgs bgt! Akurat, mudah dipake, gk ribet. Hasilnya cepet keluar. Rekomen bgt buat yg sering cek gula darah di rumah. Top markotop dah pokoknya!. Alatnya bgs bgt! Akurat, mudah dipake, gk ribet. Hasilnya jg cepet kluar. Top rekomen buat yg cek gula darah dirumah!.",
         "2715"
        ],
        [
         "40",
         "Alat Cek Gula Darah",
         "positif",
         "2",
         "20",
         "Alat cek gula darahnya bgs bgt! Gampang dipake, hasil akurat. Rekomen buat yg sering cek mandiri. Top markotop! Jgn ragu beli disini. Alat cek gula darahnya bgs bgt! Gk nyangka semudah ini pakenya. Hasilnya jg akurat. Top markotop! Rekomen bgt buat yg cari alat cek gula darah yg praktis dan murah meriah. Mantap!. Alat cek gula darahnya bgs bgt! Gampang dipake, hasil akurat, rekomen deh buat yg cari alat cek gula. Top!. Alat cek gula darahnya bgs bgt! Gampang dipake, hasil akurat, gk ribet. Pengiriman cepet, packing rapi. Rekomen buat yg sering cek gula darah di rumah. Top markotop!. Alatnya bgs bgt! Akurat, mudah dipake, hasil cepet keliatan. Rekomen buat yg sering cek gula darah dirumah. Top!. Alat cek gula darahnya bgs bgt! Gk nyangka semudah ini pakenya. Hasilnya jg akurat. Rekomen bgt buat yg diabetes atau mau pantau kesehatan. Top markotop dah! Alat cek gula darahnya bgs bgt! Akurat, mudah dipake, hasil cepet. Rekomen buat yg diabetes! Top markotop! Alat cek gula darahnya bgs bgt! Praktis, mudah dipake, hasil akurat. Rekomen buat yg cari alat cek gula darah terpercaya! Top markotop!. Alat cek gula darahnya bgs bgt! Akurat, mudah dipakai, hasil cepet. Rekomen seller! Top markotop deh pokoknya. Alat cek gula darahnya bgs bgt! Gk nyangka semudah ini pakenya. Hasilnya jg akurat, membantu kontrol gula darahku. Rekomen bgt buat yg cari alat cek gula darah yg praktis dan terpercaya. Top! Alat cek gula darahnya bgs bgt! Akurat, mudah dipake, hasil cepet keliatan. Rekomen buat yg diabetes! Top deh. Alatnya bgs bgt! Gk nyangka semudah ini cek gula darah di rumah. Akurat, cepet, rekomen top markotop! Ga nyesel deh pkoknya. . Glukometer ini akurat bgt! Mudah dipakai, hasil cepet, gk ribet. Harganya jg lumayan lah. Bgs bener buat pantau gula rutin. Rekomen pokoknya! Alatnya kecil bgt, praktis dibawa2! Gula darahku yg biasanya suka naik turun, skrg lebih stabil. Hasilnya akurat, gk perlu lgsg ke lab. Harganya jg lumayan lah, worth it bgs bgt pokoknya. Rekomen buat yg punya riwayat diabetes atau mau cek kesehatan rutin. Puas bgt belanja disini. Glukometer ini akurat bgt! Mudah dipakai, hasil cepet, gk ribet. Harganya jg lumayan lah. Bgs bgt buat yg rutin cek gula. Rekomen pokoknya! . Alatnya bgs bgt! Gampang pakenya, hasil akurat, gk ribet sm sekali. Harganya jg lumayan lah ya. Buat yg punya kluarga diabetes, wajib punya ini sih. Cepet jg pengirimannya. Pokoknya top deh, rekomen bgt buat dipake! . Alatnya kecil bgt, praktis dibawa2! Gula darahku yg biasanya suka naik turun, skrg lebih stabil. Hasilnya akurat, gk perlu lgsg ke lab. Pengukurannya jg cepet, gk bikin ribet. Harganya jg lumayan lah, worth it bgt buat kesehatan. Pokoknya top deh, rekomen buat yg punya riwayat diabetes atau mau cek gula rutin. Bgs! Glukometer ini akurat bgt! Mudah dipakai, hasil cepet, gk ribet. Harganya jg lumayan lah. Bgs bgt buat yg rutin cek gula. Pokoknya rekomen deh, puas bgt belanja disini. . Glukometer ini akurat bgt! Mudah dipakai, hasil cepet, gk ribet. Harganya jg lumayan lah. Bgs bener buat pantau gula rutin. Rekomen pokoknya! . Mantap bgt! Alat cek gula darah ini top abis, akurat dan gampang dipake. Rekomen bgt!",
         "3148"
        ],
        [
         "41",
         "Alat Cek Gula Darah",
         "positif",
         "3",
         "16",
         "GlucoEasy mantap bgt! Akurat, simpel, gk ribet. Hasilnya cepet, rekomen bgs nih buat yg suka lupa cek gula darah. Top! Praktis bgt pake nya. Harga jg bersahabat. Beli lagi deh! Alat cek gula darah ini mantul bgt! Akurat, gampang dipake, hasilnya cepet. Gk ribet sama sekali. Rekomen bgt buat yg diabetes. Harga worth it bgs! Top deh pokoknya. Beli lg ah. Alat cek gula darah ini mantul bgt! Akurat, gampang dipake, harga jg bersahabat. Rekomen bgs! Top deh pokoknya. Beli lg ah. Alat cek gula darah ini mantul bgt! Akurat, gampang dipake, hasilnya cepet. Gk ribet sama sekali. Rekomen bgt buat yg butuh praktis dan akurat. Harga worth it bgs! Top deh pokoknya. Beli lagi pasti! Alat cek gula darah ini mantul bgt! Akurat, praktis, gampang dipake. Hasilnya cepet bgt keliatan. Rekomen banget deh buat yg butuh cek gula darah rutin. Bgs bgs bgs! Top! Alat cek gula darah ini mantul bgt! Akurat, mudah dipake, rekomen deh! Top! . Alat cek gula darah ini mantul bgt! Akurat, gampang dipake, hasilnya cepet. Rekomen bgt buat yg diabetes. Harga bersahabat, kualitas top! Gk nyesel beli. Sukses selalu tokonya! Alat cek gula darah ini mantul bgt! Akurat, praktis, rekomen deh. Bgs bgt! Top! Gak nyangka akurat bgt! Alat cek gula darah ini top abis, praktis dan gampang dipake. Hasilnya cepet bgt keluar. Rekomen banget buat yg diabetes. Bgs bgt deh pokoknya! Harga worth it sm kualitasnya. Beli lagi deh ntar. Alat cek gula darah ini mantul bgt! Akurat, praktis, gampang dipake. Rekomen bgs nih buat ortu yg diabetes. Top! Harga sesuai kualitas. Beli lagi deh. Mantap bgt alat cek gula darahnya! Gampang dipake, hasilnya jg akurat. Praktis buat pantau gula tiap hr. Gak nyesel, rekomen bgt dahh. Alat cek gula darahnya top bgt! Gak ribet dipake, hasilnya akurat pula. Mantap deh buat yg perlu pantau gula darah rutin. Beneran rekomen pol ini produk. Praktis dan handal. Gk nyesel beli ini. Alat cek gula darahnya manthul bgt! Hasilnya akurat parah & cepet bgt keluarnya. Gk ribet pakenya, rekomen. Top deh. Mantap! Alat cek gula darah ini cepat bgt hasilnya, gk perlu nunggu lama. Praktis jg dibawa-bawa. Beneran bantu bgt buat kontrol kesehatan. Sangat rekomen, bgs! Hasil cek gula darah pake alat ini akurat bgt, gk nyakitin. gampang bgt pakenya, top deh pokoknya. rekomen bgs. Alat cek gula darahnya akurat bgt, pakenya jg gampang gk ribet. Hasilnya cepet keluar, lgsg tau kondisi gula darah. Bgs bgt buat yg rutin cek. Rekomen deh pokoknya. Top markotop alat ini buat pantau gula darah mandiri dirumah. Puas bgt.",
         "2509"
        ],
        [
         "42",
         "Alat Melukis",
         "negatif",
         "1",
         "20",
         "Pensil warnanya patah smua! Gk bs dipake bgs. Warnanya jg butek bgt, kertasnya tipis. Nyesel beli disini. Jgn rekomen deh! Gk worth it. Titik. Pensil warnanya patah smua! Gk bs dipake, warnanya jg gk keluar. Beli mahal2 zonk bgt. Nyesel deh, kirain bgs taunya ampas. Tokonya gk amanah. Jgn beli disini guys, rugi bgt!! Warna gk sesuai pesanan, kuasnya jelek bgt, tintanya kental, gk bisa dipake, nyesel beli disini. Kecewa berat. Brg dtg lama bgt, catnya kering smua! Kuasnya jg rontok. Gk rekomen blass, nyesel beli disini! Bikin emosi, mana buat tugas lagi. Ampunn deh, zonk total pokoknya. Titik. Warna gk sesuai! Kuasnya kasar bgt, tintanya jg kering. Nyesel beli disini, bener2 zonk! Gk rekomen! Titik. Pensil warnanya patah smua! Gk bs dipake bgt. Kualitas jelek, wrnanya gk keluar. Nyesel beli disini, kirain bgs. Mana dtgnya lama pula. Gk rekomen dehh pokoknya. Kapok! Pensil warnanya patah2 mulu, gk bs buat gradasi bgs. Trus warnanya jg butek bgt, kertasnya tipisss...Nyesel beli disini, gk rekomen! Titik. Pensil warnanya patah smua! Gk bs dipake bgt. Mwarnain jd jelek hasilnya. Nyesel beli disini, mana lama dtgnya. Tokonya gk amanah! Bikin emosi ajah! Gk rekomen blassss. Titik. Pensil warnanya patah smua! Gk bs dipake bgt. Warnanya jg jelek, gk sesuai ekspektasi. Nyesel beli disini, pengiriman lama pula. Bnr2 zonk! Titik. Pensil warnanya patah smua! Gk bs dipake bgt. Kualitasnya parah, wrnanya jg gk sesuai gambar. Nyesel beli disini, gk rekomen! Mending beli merk lain aja deh. Kecewa bgt sm produk ini. Bnr2 zonk! Titik. Payah bgt! Catnya kering, kuasnya rontok smua. Gk bgs, nyesel beli disini. Mana dtgnya lama bgt. Jgn beli deh, gk rekomen! Titik. Pensil warnanya patah smua! Gk bgs bgt, wrnanya jg jelek. Nyesel beli disini, mana lama lg pengirimannya. Gk rekomen deh pokoknya. Kapok! Titik. Warna gk sesuai deskripsi, brush kasar bgt, kertasnya jelek, tintanya luntur. Nyesel beli disini. Bener2 parah! Titik. Pensil warnanya patah smua! Gk bgs bgt, warnanya jg gk keluar. Nyesel beli disini, pengirimannya jg lama bgt! Gk rekomen deh pokoknya. Kapok belanja disini. Titik Payahnya cat akrilik ini! Warna gk sesuai, keringnya lama bgt. Kuasnya jg jelek, bulunya rontok semua. Gk rekomen! Titik. Pensil warnanya patah smua! Gk bs dipake bgt. Nyesel beli disini, warnanya jg butek. Bener2 zonk, gk rekomen! Kapok deh beli alat lukis disini. Titik. Kuasnya lsg rusak pas dipake! Gk bgt deh. Pigmen cat airnya jg jelek, warnanya butek, kertasnya tipis bgt, gk rekomen bl! Nyesel bgt belinya, mana mahal lg. Bnr2 gk bgs, zonk! Penjualnya slow respon. Top dah, bikin emosi. Pensil warnanya patah smua! Gk bs dipake bgs. Nyesel bgt beli disini. Mana lama lagi dtgnya. Jgn beli deh, gk rekomen! Titik. Payah! Kuasnya rontok mulu, catnya gk nyatu, kertasnya tipis bgt. Buat belajar aja susah, mana mahal lagi. Gk rekomen blasss! Bikin emosi jiwa . Parah! Catnya encer bgt, gk pigmented sama skali. Kuasnya jg rontok mulu. Nyesel beli, bnr2 gak rekomen! Bgs diliat doang, zonk! Titik.",
         "3000"
        ],
        [
         "43",
         "Alat Melukis",
         "negatif",
         "2",
         "20",
         "Pensil warnanya patah smua! Gk bgs bgt, wrnanya jg gk keluar. Nyesel beli disini, buat anak jg bahaya. Tipis bgt kayunya, ampasnya brantakan. Gk rekomen deh pokoknya. Bikin emosi! Payah bgt! Gk sesuai deskripsi, cat nya jelek bgt, kuasnya brudul. Nyesel beli disini! Gk rekomen sm skali. Titik. Payah bgt! Catnya encer, kuasnya rontok mulu. Gk bs buat lukisan bgs, malah bikin kesel. Beli ini nyesel abis, gk rekomen sama skali! Mending beli merk lain deh. Ampas. Mewarnai jd jelek bgt! Gk pigmented, kering, susah nyampur, ampas semua! Bikin frustasi. Gk rekomen!! Titik. Payah! Catnya encer bgt, gk pigmented sama sekali. Kuasnya jg rontok mulu. Beli alat lukis disini nyesel abis. Gk rekomen, mending cari toko lain deh. Ampas! Titik. Pensilnya patah trs, warnanya jg gk keluar bener. Kertasnya tipis bgt, gk rekomen deh. Nyesel beli disini. Top! eh, not top! Pensil warnanya patah smua! Gk bgs bgt, buat ngegambar jg susah, warnanya gk keluar. Nyesel beli disini, mana dtgnya lama bgt. Jgn beli deh, gk rekomen! Titik. Payah! Catnya encer bgt, gk pigmented, kuasnya jg rontok mulu. Bikin kesel, hasil lukisan jd jelek bgt. Gk rekomen! Titik. Pensil warnanya patah2 mulu! Gk pigmented bgt, warnanya jg butek. Nyesel beli disini, kirain bgs taunya zonk. Mana dtgnya lama bgt lg. Ga rekomen dehh. Bikin emosi aja alat lukisnya. Titik. Beli kuas ini nyesel bgt! Bulunya rontok parah, susah bgs buat blending. Plastiknya murahan, gk worth it sm sekali. Udah coba macem2 teknik ttp aja jelek hasilnya. Jauh dr ekspektasi, mending beli yg lain aja deh. Bener2 mengecewakan. Kuasnya rontok bgt! Gk worth it sm sekali. Catnya jg cepet kering, susah diblend. Plstiknya murahan, cpt pecah lg. Jgn beli deh, nyesel! Brush set-nya kaku bgt! Bulunya rontok parah, susah bgs buat blending. Pigmen cat malah gk nempel, hasilnya jelek. Plastik wadahnya jg murahan. Gk worth it sm sekali, mending beli yg lain aja. Bener2 nyesel beli ini. Jangan sampe ketipu rekomen sih buat yg lain. Kuasnya brudul bgt! Gk nyerap air, susah bgs buat blending. Pigmen cat jg luntur. Plstiknya murahan, cpt pecah. Jgn beli deh, nyesel! Brush set-nya kaku bgt! Bulunya rontok parah, susah bgs buat blending. Pigmen cat malah gk nempel, hasilnya jlk bener. Plstiknya murahan, cepet pecah lagi. Gk rekomen blas buat yg serius melukis, buang duit doang. Udah gitu pengiriman lama. Zzz. Beli kuas ini nyesel bgt! Bulunya rontok parah, susah bgs buat blending. Plastiknya murahan, gk nyaman digenggam. Warnanya jg cpt pudar. Jauh dr ekspektasi, rugi bener. Gk rekomen! Titik. Kuasnya rontok bgt! Gk worth it sm sekali. Catnya jg susah keluar, bikin frustasi. Plstiknya murahan pula. Jgn beli deh, nyesel! Brush set-nya kaku bgt! Bulunya rontok parah, susah bgs buat blending. Pigmen cat malah gk nempel, hasilnya jlk bener. Plstiknya murahan, cpt pecah lagi. Gk rekomen blas buat yg serius melukis, buang duit doang. Udah gt pengiriman lama. Zzz. Kuas GK bagus, bulu rontok bgt! Murah tp mengecewakan. Gak rekomen! . Kuas gk bagus bgt! Bulunya rontok terus, bikin males lukis. Warna juga pudar, murah tp ga bermutu. Gak rekomen! Mending cari yg lain aja. Nyesel beli. . Kuas gk bagus bgt, bulu rontok terus! Murah tp mengecewakan. Nyesel beli.",
         "3206"
        ],
        [
         "44",
         "Alat Melukis",
         "negatif",
         "3",
         "12",
         "Kuas GK bagus bgt, bulu nya rontok parah! Murah sih tp ga awet. Bener2 mengecewakan. Nyesel beli. Gk rekomen! Udah gitu baunya aneh bgt. Buang duit aja. Kuas gk bgs bgt! Bulunya rontok terus, warnanya jg aneh. Mending cari yg lain aja, rekomen gk nih. Nyesel beli! . Kuas nya jelek bgt! Bulu nya rontok terus, gk nyaman dipake. Warna juga gk pigmented, kecewa bgt. Harganya mahal tp kualitasnya murahan. Gk rekomen sama sekali! Mending beli yg lain aja. Nyesel beli ini. Bnr\" mengecewakan. Kuas nya jelek bgt! Bulu rontok trs, gk nyaman dipake. Murah sih tp ga bermutu. Nyesel beli! Gambar jg gk rapi. Gak rekomen! . Kuas GK bagus bgt! Bulu rontok parah, warna gk sesuai gambar. Hampir semua bulu nya copot pas dipake. Murah sih tp kualitas mengecewakan bgt. Gk rekomen! Nyesel beli. Buang2 duit aja. Bener2 bikin bete. Kuas gk sebagus yg di gambar! Bulunya rontok bgt, gagang gampang patah. Murah tp ga worth it. Nyesel beli! Gk rekomen! . Kuas nya ancur bgt! Bulunya rontok semua pas dipake, gk sebagus yg di gambar. Murah tp murahan bgt kualitasnya. Nyesel beli! Gk rekomen! Bener2 mengecewakan. Kuasnya jelek bgt, bulunya rontok terus pas dipake. Bentuknya jg gk sesuai deskripsi, gk enak dipake buat detail. Nyesel beli, buang2 duit aja. Gk rekomen. Kuasnya jelek bgt, baru dipake bulunya udh rontok parah. Gk bgs sma skali buat detail, mlh ngotorin. Nyesel beli, gk rekomen. Kualitas payah bgt, bkn kerjaan jd berantakan smua. Buang duit bgt. Pensil warnanya jelek bgt, baru diraut dikit langsung patah terus. boros bgt. gk rekomen deh. zonk abis. Ini cat air/akriliknya parah bgt. Warnanya pucet, gk keluar samsek. Mau dipake susah bgt. Buang2 duit aja. Gk rekomen. kuasnya rontok parah. dipake sekali lgsg rusak bulunya gk karuan. kualitasnya jelek bgt, gk bgs sama sekali.",
         "1781"
        ],
        [
         "45",
         "Alat Melukis",
         "positif",
         "1",
         "20",
         "Warna catnya bgs bgt! Gk nyesel beli disini, buat lukis jd makin semangat. Rekomen bgt pkoknya, top!. Warna catnya bgs bgt! Pigmentasinya jg oke. Buat pemula kyk aku rekomen deh, mudah bgt dipakenya. Pengiriman jg cepet, packing aman. Top markotop pokoknya! Next order lagi ah. Cat airnya bgs bgt! Warnanya pigmented, mudah diblend. Pengiriman jg cepet. Rekomen buat pemula yg nyari cat air kualitas top. Mantap.! Pensil warnanya bgs bgt! Pigmentasinya oke, gk gampang patah, warnanya jg cerah2. Buat gradasi jg enak. Anakku suka bgt, jd makin semangat bljr mewarnai. Rekomen deh pokoknya, top markotop!. Warna catnya pigmented bgt! Kuasnya jg enak dipake, gk gampang brudul. Pokoknya rekomen bgt buat yg baru bljr ngelukis. Top markotop! Catnya bgs. Cat lukisnya bgs bgt! Warnanya cerah, gk gampang kering, teksturnya jg enak dipake. Pengirimannya cepet. Rekomen bgt buat yg nyari cat berkualitas dgn harga top. Mantap! Warna catnya bgs bgt! Kuasnya jg enak dipake, gk nyesel deh beli disini. Top rekomen pokoknya! Titik. Warna catnya bgs bgt! Kuasnya jg enak dipake, gk gampang rusak. Hasil lukisannya jd makin cetar! Pengiriman jg cepet. Rekomen buat yg nyari alat lukis berkualitas top. Mantap!. Warna catnya bgs bgt! Gk nyesel beli disini, pengiriman jg cepet. Rekomen buat yg nyari cat lukis murah tp kualitas top!. Warna catnya bgs bgt! Gk nyangka pigmented gini. Buat lukisan jd makin hidup. Kuasnya jg enak dipake, gk gampang rusak. Rekomen bgt buat yg hobi ngelukis! Top deh pokoknya. Warna catnya bgs bgt! Kuasnya jg enak dipake, gk nyesel deh beli disini. Rekomen bgt buat yg nyari alat lukis top!. Cat minyaknya bgs bgt! Warna cerah, mudah diblend, pokoknya rekomen top markotop deh buat pelukis pemula! . Cat airnya bgs bgt! Warnanya pigmented, mudah diblend, gk nyesel beli disini deh. Pengiriman jg cepet, packing rapih. Rekomen bgt buat yg nyari cat air kualitas top!. Warna catnya bgs bgt! Kuasnya jg enak dipake, gk gampang rusak. Anakku suka, jd makin rekomen deh alat lukis ini. Top markotop!. Warna catnya bgs bgt, mudah diblend pula! Gk nyangka dpt set lengkap harga murce gini. Pengiriman jg cepet. Anakku seneng bgt buat latian gambar. Rekomen deh pokoknya, top markotop! Titik. Warna catnya bgs bgt! Kuasnya jg enak dipake, gk gampang rusak. Paletnya lumayan gede, jd puas campur2 warna. Pkoknya rekomen bgt buat yg hobi ngelukis! Top deh alat lukis ini. Warna catnya bgs bgt! Gk nyesel beli disini, pengiriman jg cepet. Alat lukis rekomen, top markotop!. Warna catnya pigmented bgt! Gk nyangka sebagus ini, kirain bakal zonk. Kuasnya jg enak dipake, gk gampang rusak. Buat yg nyari alat lukis rekomen bgt deh, harga murah kualitas top markotop!. Warna catnya bgs bgt! Kuasnya jg enak dipakai, gk nyesel deh beli disini. Rekomen top markotop! Pensil warnanya bgs bgt! Pigmentasinya oke, warnanya jg cerah. Gk nyesel deh beli disini. Rekomen buat yg suka mewarnai. Top!",
         "2894"
        ],
        [
         "46",
         "Alat Melukis",
         "positif",
         "2",
         "20",
         "Warna catnya bgs bgt! Kuasnya jg enak dipakai, gak gampang rusak. Rekomen buat yg nyari alat lukis top!. Warna catnya bgs bgt! Gk nyangka kualitas premium harga terjangkau. Kuasnya jg enak dipake, halus. Rekomen bgt buat yg baru belajar melukis! Packing aman, pengiriman cepet. Top! Warna cat nya bgs bgt! Kuasnya jg enak dipake, gk gampang rusak. Pokoknya rekomen deh buat yg baru bljr ngelukis. Top markotop! Titik. Warna catnya bgs bgt, pigmented! Kuasnya jg enak dipake, gk gampang rusak bulunya. Paletnya jg oke, gak terlalu kecil. Pokoknya rekomen bgt buat yg baru mulai belajar ngelukis. Top markotop! Pensil warnanya bgs bgt! Pigmentasinya jg oke, buat gradasi warna jg enak. Packing rapih, pengiriman cepet. Rekomen deh pokoknya. Top! Warna catnya pigmented bgt! Kuasnya jg enak dipake, gk gampang rusak. Buat yg nyari alat lukis, rekomen bgs! Top markotop dah, hasil lukisanku jd makin ciamik. Harga sesuai kualitas, pengiriman cepet bgt. pokoknya mantul abis!. Pensil warnanya bgs bgt! Warna nya jg cerah, gk nyesel deh beli disini. Pengiriman cepet, packing rapih. Rekomen buat yg suka ngelukis! Top. Warna catnya bgs bgt! Kuasnya jg enak dipake, gk gampang rusak. Canvasnya tebel, mantap deh buat latihan lukis. Pengiriman cepet, packing aman. Rekomen bgt buat yg baru mulai atau udh pro. Top! Warna catnya bgs bgt! Kuasnya jg enak dipake, gk gampang rusak. Anakku suka bgt! Pengiriman cepet. Rekomen deh buat yg nyari alat lukis top! Warna catnya bgs bgt! Kuasnya jg enak dipake, gk gampang rusak. Anakku suka bgt, jd makin kreatif deh! Pengiriman cepet, packing aman. Rekomen buat yg nyari alat lukis berkualitas! Top! Kuasnya bgs bgt! Halus, mudah dipakai, warna keluar nyata. Buat blending jg oke pisaa. Pokoknya top deh, rekomen bgt buat pemula kayak aku. . Brush set ini bgs bgt! Bulunya halus, gk rontok, warnanya keluar nyata. Buat blending jg gampang bener. Packingnya rapi, pengiriman cepet. Pokoknya top deh, rekomen buat yg suka melukis! Harganya jg worth it bgt sm kualitasnya. . Brush set ini bgs bgt! Bulunya halus, gk rontok, blend warna jg gampang. Pigmentnya keluar maksimal deh pokoknya. Buat pemula jg cocok, harganya jg lumayan lah. Top bgt pokoknya, rekomen buat yg suka melukis! Warnanya jg vibrant bener, sukaaa. Pengiriman cepet, packing rapi. Puas pol! Brush set ini bgs bgt! Bulunya halus, gk rontok, warnanya keluar nyata. Buat blending jg gampang. Packing rapi, pengiriman cepet. Pokoknya top deh, rekomen bgt buat yg suka melukis! . Brush set ini bgs bgt! Bulunya halus, gk rontok, warnanya keluar nyata. Buat blending juga gampang bener. Packingnya rapi, pengiriman cepet. Harganya worth it bgt sm kualitasnya. Pokoknya top deh, rekomen buat yg suka melukis! Suka bgt sama produk ini. . Brush set ini bgs bgt! Bulunya halus, gk rontok, warnanya keluar nyata. Buat blending jg gampang bener. Packing rapi, pengiriman cepet. Pokoknya top deh, rekomen bgt buat yg suka melukis! . Brush set ini bgs bgt! Bulunya halus, gk rontok, warnanya keluar nyata. Buat blending juga gampang, hasil lukisannya jadi lebih hidup. Packingnya rapi, pengiriman cepet. Pokoknya top deh, rekomen buat yg suka melukis! Harganya jg worth it bgt sm kualitasnya. Suka bgt! Kuasnya bgs bgt! Halus, mudah dipakai, warnanya keluar nyata. Buat blending jg oke pisaa. Pokoknya top deh, rekomen bgt buat pemula kayak aku. . Brush set ini bgs bgt! Bulunya halus, gk rontok, pigmentednya mantap. Buat blending warnanya gampang bener, hasil lukisannya jadi lebih halus & pro. Harganya jg worth it bgt rekomen deh buat yg suka melukis, apalagi pemula. Packingnya rapi, pengiriman cepet. Top markotop! . Kuas nya mantul bgt! Bulu lembut, gk nimbulin garis kasar. Rekomen bgs buat pemula. Harga worth it! Top deh pokoknya. Beli lagi ah.",
         "3741"
        ],
        [
         "47",
         "Alat Melukis",
         "positif",
         "3",
         "14",
         "Pensil warna ini juara bgt! Warnanya pigmented parah, gk nyesel beli. Tekstur halus, enak bgt dipake nge-blend. Rekomen bgs buat pemula kek aku. Harga terjangkau, kualitas top! Pokoknya puas bgt deh. Beli lagi ah! Kuas lukisnya mantul bgt! Bulunya lembut, gk lepeh. Rekomen abis! Warna bgs semua. Beli lg deh! Top! Pensil warna ini bgs bgt! Pigmennya pekat, gk perlu ditekan keras. Warnanya vibrant, enak bgt dipake ngewarnai sketsa. Rekomen banget buat pemula! Harga terjangkau, kualitas top. Beli lagi deh! Packagingnya juga lucu. Kuas nya mantul bgt! Lembut, gk nyangkut, rekomen abis! Bgs bgt utk pemula. Top! Kuas lukisnya manteb bgt! Bulunya lembut, gk lepek. Hasilnya halus bgs. Rekomen bgt buat pemula spt sy. Harganya jg terjangkau. Top deh pokoknya! Beli lagi ah. . Kuas nya manteb bgt! Bulunya lembut, rekomen bgs! Top deh pokoknya. Kuas lukisnya mantul bgt! Bulunya lembut, gk nimbulin bekas bulu di kanvas. Rekomen bgs buat pemula. Hasil lukisan jadi lebih rapih. Top deh pokoknya! Harga jg worth it. Kuas ini mantul bgt! Bulunya lembut, gk nyesek. Rekomen bgs bgt. Top deh! . Pensil warna ini bgt bagus! Warnanya pigmented abis, gk perlu ditekan keras. Teksturnya halus bgt di kertas, enak bgt dipake nge-blend. Rekomen bgs bgt buat pemula maupun pro! Top deh pokoknya! Harga worth it bgt. Beli lagi ah! Paletnya tebel bgt, gampang dibersihin. Rekomen buat smua jenis cat. Gk nyesel, barang cpt sampe. Puas pol dah. Kuas set ini bgs bgt. Bulunya halus gk rontok. Nahan cat oke, buat macem2 teknik bisa. Harga segini dpt set selengkap ini worth it parah. Kualitasnya gk kalah sm yg mahal. Rekomen bgt buat yg cari kuas bgs tp ramah kantong. Gk nyesel beli disini. Top. Packing rapi, kirim cpt. Cat airnya oke bgt buat pemula. Warnanya keluar semua, gk pudar pas kering. Bikin gambar jd hidup. Puas deh beli prodak ini. Rekomen buat yg lg belajar. Kualitas top dgn harga segini. Cat akrilik ini beneran bgs bgt! Pigmentasinya top markotop, warnanya langsung keluar gitu. Gampang bgt dipake & diblend, bikin lukisan jd makin hidup. Harga jg bersahabat bgt. Rekomen deh buat yg mau coba atau udh jago. Ga nyesel beli ini pokoknya. Pas buat alat melukis. Pensil warnanya mantap bgt. Warnanya cerah dan pigmennya pekat. Gk usah diteken kuat2 udah keluar warnanya bagus. Buat yg suka gambar, ini rekomen deh. Top.",
         "2320"
        ],
        [
         "48",
         "Alat Memancing",
         "negatif",
         "1",
         "20",
         "Joran ringkih bgt, baru dipake narik ikan kecil langsung patah! Gk rekomen deh, nyesel beli. Bgsan beli merk lain aja. Ampas! Titik. Joran ringkih bgt, baru dipake narik ikan kecil lgsg patah! Gk rekomen deh, nyesel beli disini. Penjual jg slow respon. Bgsan beli merk lain, ini mah ampas. Buang2 duit aja! Tolong perbaiki kualitasnya, parah! Titik. Jorannye ringkih bgt, gk kuat narik ikan kecil. Handle'nya jg cepet rusak. Nyesel beli disini. Zonk total. Ga rekomen! Jorannye ringkih bgt, gk kuat narik ikan kecil. Handle-nya copot pas dipake. Nyesel beli, brgnya jelek, seller slow respon. Gk rekomen blass! Buang2 duit aja. Joran ringkih bgt, gk kuat narik ikan kecil! Handle licin, cat nya ngelupas. Gk rekomen, nyesel beli disini!. Joran ringkih bgt! Baru dipake sekali narik ikan kecil lgsg patah. Gk rekomen buat mancing ikan gede. Nyesel beli, pelayanan toko jg lambat. Bnr2 zonk produknya. Top bgt deh bikin emosi jiwa. Jorannye ringkih bgt, bru dipake sekali lgsg patah! Gk rekomen deh, nyesel beli disini. Benang gampang kusut, pelayanane jg lemot! Bgsan beli d toko sblah. Titik. Jorannye ringkih bgt, gk kuat narik ikan kecil. Handle-nye cepet rusak, nyesel beli disini. Toko gk amanah! Jorannya ringkih bgt, gk kuat narik ikan kecil. Handle nya licin, bikin kesel. Benang mudah putus. Beli nyesel bgt, gk rekomen! Bgsan beli yg lain aja. Jorannya ringkih bgt, baru dipake sekali lgsg patah! Gk rekomen, nyesel beli disini. Bener2 zonk, mana mahal lagi. Bgsan beli di toko sebelah aj deh. Titik. Joran ringkih bgt, baru dipake narik ikan kecil lgsg patah! Gk rekomen sm sekali, nyesel beli disini. Seller jg slow respon, ditanya gk jls jawabnya. Bnr2 zonk produknya! Mending beli di toko lain aj deh. Kapok bgt!. Jorannye ringkih bgt, gk kuat narik ikan kecil. Handle-nya copot pas dipake! Nyesel beli, gk rekomen! Titik. Joran ringkih bgt, baru dipake narik ikan kecil lgsg patah! Gk rekomen deh, nyesel beli disini. Tokonya jg slow respon, ditanya gk di jawab. Bnr2 zonk produknya! Titik. Joran ringkih bgt, baru dipake narik ikan kecil lgsg patah! Gk kuat bgt dah, nyesel beli disini. Penjual jg gk responsif, ditanya susah. Bener2 zonk, jgn beli deh, gk rekomen!. Jorannya ringkih bgt, baru dipake narik ikan kecil aj udah mau patah. Gk rekomen deh, nyesel beli disini. Bgs jg enggak, malah bikin emosi! Top apaan! Joran ringkih bgt, baru dipake sekali lgsg patah! Gk rekomen, nyesel beli disini. Bnr2 parah kualitasnya. Ampas!. Joran ringkih bgt, baru dipake narik ikan kecil langsung patah! Gk rekomen deh, nyesel beli disini. Seller juga gk responsif, payah! Bgsan beli yg lain aja, ini mah ampas. Toped zonk! Joran ringkih bgt, br dipake sekali lgsg patah! Gk kuat narik ikan kecil jg. Nyesel beli disini, seller slow respon. Bnr2 zonk, gk rekomen blass! Bgsan beli merk lain deh. Joran ringkih bgt, bru dipake narik ikan kecil aj udah mo patah. Gk rekomen deh, nyesel beli disini. Pelayanan jg lmbt, gk bgs! Bikin emosi aj. Toped payah! Titik. Jorannye ringkih bgt, gk kuat narik ikan kecil. Handle'nya licin, muternya seret. Nyesel beli disini, pengiriman lama pula. Bener2 zonk, gk rekomen! Alat pancing abal2. Titik.",
         "3142"
        ],
        [
         "49",
         "Alat Memancing",
         "negatif",
         "2",
         "20",
         "Jorannya ringkih bgt, baru dipake sekali udh mo patah. Gk kuat narik ikan kecil, apalagi yg gede. Nyesel beli disini, seller jg slow respon. Gk rekomen bgt deh pokoknya. Bener2 zonk! Titik. Jorannya ringkih bgt, baru dipake sekali langsung patah! Gk rekomen deh, nyesel beli disini. Bahan abal2, gk bgs buat mancing ikan gede. Toped payah!. Jorannya ringkih bgt, baru dipake sekali udh patah! Gk rekomen deh, nyesel beli disini. Bener2 zonk! Titik. Joran ringkih bgt, bru dipake sekali lgsg patah! Gk kuat narik ikan kecil. Nyesel beli disini, pelayanan jg lelet. Bkn rekomen, mending cari toko lain aj deh. Bgs apaan, zonk! Top markotop ke laut ajeee... titik Joran rapuh bgt! Baru dipake sekali lgsg patah. Gk rekomen deh, nyesel beli disini. Bgsan beli yg lain aja. Mana pengirimannya lama. Toped payah!. Joran nya ringkih bgt, baru dipake narik ikan kecil langsung patah! Gk rekomen deh, nyesel beli disini. Pelayanan jg lama. Bgsan beli merk lain aja, ini mah zonk total. Kapok! Titik. Jorannya ringkih bgt, bru dipake sekali lgsg patah! Gk rekomen deh, nyesel beli disini. Pelayanannya jg lemot. Bnr2 zonk. Joran ini bener2 mengecewakan! Gk kuat sama sekali buat nahan ikan gede, langsung bengkok. Bahanx jg ringkih bgt, udh gitu finishingnya jelek. Buang2 duit, mending beli yg lain aja. Gak rekomen sama sekali. Bgsnya cuma murah doang, tp kualitas payah. Joranx ringkih bgt, pdhl br bli. castingnya gk lancar, berat pula. kualitas payah, mending beli yg lain aja. rugi bener beli ini. Joran ini bener2 mengecewakan! Gk nyangka kualitasnya serendah ini. Pas dicoba langsung patah di bagian sambungan, padahal ikan yg ditarik kecil bgt. Bgsnya cuma harga murah doang, tp percuma. Buat yg mau mancing serius, jgn beli ini deh! Rugi bgt. Gk rekomen sama sekali. Mending nabung beli yg lebih berkualitas. Bikin kesel aja. Joran ini bgs dlu liatnya, tp pas dipake kok ringkih bgt ya? Gk kuat nahan ikan kecil aja udh bengkok. Finishing jg jelek, ada bbrp goresan. Mahal bgt buat kualitas segini, rugi bgt beli. Gk rekomen sama sekali, mending cari yg lain aja. Bener2 mengecewakan. Joranx ringkih bgt, pdhl br bli. castingnya gk lancar, berat pula. kualitas payah, mendingan beli yg lain aja. rugi bener beli ini. Jorannya gk kuat bgt, patah pas mancing! Umpan ilang, mood hancur. Murah sih, tp ga rekomen! Bener2 mengecewakan. Jangan beli! . Jorannya murahan bgt, gk kuat. Patah pas mancing! Nyesel beli. Hambar. Jaring sampah bgt! gk kuat, udah jebol pas baru dipake 2x mancing. Murah sih, tp kualitasnya mengecewakan bgt. Nyesel beli! Gk rekomen. Buang duit aja. Gak bgs sama sekali. Benar2 mengecewakan. Jorannya gampang patah bgt! Gk recomen. Murah tp murahan. Nyesel beli. Jorannya murahan bgt! GK kuat, patah pas lagi mancing. Umpan ilang semua. Nyesel beli! Rugi bgt duitku. Gk rekomen deh. Mending nabung aja dulu. Bahannya jelek bgt. Bener2 mengecewakan. Umpan gk mantap bgt, ikan males nyerang. Mending beli yg lain. Hambar. . Jorannya murahan bgt, gk kuat. Umpan ilang terus gara² ringnya lecet semua. Gak rekomen! Udah gitu, bahannya lembek. Kecewa bgt deh sama beli ini. Mending beli yg mahal dikit tp kualitasnya bgs. Buang2 duit aja. Nyesel beli. Jaringnya gk kuat bgt, jebol pas dapat ikan gede! Murah sih, tp kualitasnya mengecewakan. Gk rekomen! Buang2 duit aja. Nyesel beli. .",
         "3299"
        ]
       ],
       "shape": {
        "columns": 6,
        "rows": 500
       }
      },
      "text/html": [
       "<div>\n",
       "<style scoped>\n",
       "    .dataframe tbody tr th:only-of-type {\n",
       "        vertical-align: middle;\n",
       "    }\n",
       "\n",
       "    .dataframe tbody tr th {\n",
       "        vertical-align: top;\n",
       "    }\n",
       "\n",
       "    .dataframe thead th {\n",
       "        text-align: right;\n",
       "    }\n",
       "</style>\n",
       "<table border=\"1\" class=\"dataframe\">\n",
       "  <thead>\n",
       "    <tr style=\"text-align: right;\">\n",
       "      <th></th>\n",
       "      <th>category</th>\n",
       "      <th>sentiment</th>\n",
       "      <th>group_id</th>\n",
       "      <th>jumlah_review_digabung</th>\n",
       "      <th>gabungan_review</th>\n",
       "      <th>panjang_char</th>\n",
       "    </tr>\n",
       "  </thead>\n",
       "  <tbody>\n",
       "    <tr>\n",
       "      <th>0</th>\n",
       "      <td>Action Figure Anime</td>\n",
       "      <td>negatif</td>\n",
       "      <td>1</td>\n",
       "      <td>20</td>\n",
       "      <td>Figurnya penyok, catnya belepotan, detailnya g...</td>\n",
       "      <td>3073</td>\n",
       "    </tr>\n",
       "    <tr>\n",
       "      <th>1</th>\n",
       "      <td>Action Figure Anime</td>\n",
       "      <td>negatif</td>\n",
       "      <td>2</td>\n",
       "      <td>20</td>\n",
       "      <td>Parah bgt dah, gk sesuai foto! Cat nya bleber,...</td>\n",
       "      <td>3578</td>\n",
       "    </tr>\n",
       "    <tr>\n",
       "      <th>2</th>\n",
       "      <td>Action Figure Anime</td>\n",
       "      <td>negatif</td>\n",
       "      <td>3</td>\n",
       "      <td>9</td>\n",
       "      <td>Gak recomen bgt! Figur Naruto ini mengecewakan...</td>\n",
       "      <td>1423</td>\n",
       "    </tr>\n",
       "    <tr>\n",
       "      <th>3</th>\n",
       "      <td>Action Figure Anime</td>\n",
       "      <td>positif</td>\n",
       "      <td>1</td>\n",
       "      <td>20</td>\n",
       "      <td>Figurnya keren bgt! Detailnya oke, cat nya bgs...</td>\n",
       "      <td>2790</td>\n",
       "    </tr>\n",
       "    <tr>\n",
       "      <th>4</th>\n",
       "      <td>Action Figure Anime</td>\n",
       "      <td>positif</td>\n",
       "      <td>2</td>\n",
       "      <td>20</td>\n",
       "      <td>Figurnya Gokil bgt! Detailnya ajib, gk nyesel ...</td>\n",
       "      <td>3312</td>\n",
       "    </tr>\n",
       "    <tr>\n",
       "      <th>...</th>\n",
       "      <td>...</td>\n",
       "      <td>...</td>\n",
       "      <td>...</td>\n",
       "      <td>...</td>\n",
       "      <td>...</td>\n",
       "      <td>...</td>\n",
       "    </tr>\n",
       "    <tr>\n",
       "      <th>495</th>\n",
       "      <td>Jas Formal Pria</td>\n",
       "      <td>positif</td>\n",
       "      <td>3</td>\n",
       "      <td>17</td>\n",
       "      <td>Jasnya mantul bgt! Bahannya oke punya, jahitan...</td>\n",
       "      <td>2676</td>\n",
       "    </tr>\n",
       "    <tr>\n",
       "      <th>496</th>\n",
       "      <td>Kabel Data Type-C</td>\n",
       "      <td>negatif</td>\n",
       "      <td>1</td>\n",
       "      <td>20</td>\n",
       "      <td>Kbl datany bnr2 gk bgs! Br dipake smnggu udh r...</td>\n",
       "      <td>3125</td>\n",
       "    </tr>\n",
       "    <tr>\n",
       "      <th>497</th>\n",
       "      <td>Kabel Data Type-C</td>\n",
       "      <td>negatif</td>\n",
       "      <td>2</td>\n",
       "      <td>20</td>\n",
       "      <td>Kabel data ringkih bgt! Baru dipake seminggu u...</td>\n",
       "      <td>3573</td>\n",
       "    </tr>\n",
       "    <tr>\n",
       "      <th>498</th>\n",
       "      <td>Kabel Data Type-C</td>\n",
       "      <td>negatif</td>\n",
       "      <td>3</td>\n",
       "      <td>10</td>\n",
       "      <td>Kabel Type-C nya murahan bgt! Gk kuat, rusak c...</td>\n",
       "      <td>1836</td>\n",
       "    </tr>\n",
       "    <tr>\n",
       "      <th>499</th>\n",
       "      <td>Kabel Data Type-C</td>\n",
       "      <td>positif</td>\n",
       "      <td>1</td>\n",
       "      <td>20</td>\n",
       "      <td>Kabelnya bgs bgt! Fast charging, transfer data...</td>\n",
       "      <td>2845</td>\n",
       "    </tr>\n",
       "  </tbody>\n",
       "</table>\n",
       "<p>500 rows × 6 columns</p>\n",
       "</div>"
      ],
      "text/plain": [
       "                category sentiment  group_id  jumlah_review_digabung  \\\n",
       "0    Action Figure Anime   negatif         1                      20   \n",
       "1    Action Figure Anime   negatif         2                      20   \n",
       "2    Action Figure Anime   negatif         3                       9   \n",
       "3    Action Figure Anime   positif         1                      20   \n",
       "4    Action Figure Anime   positif         2                      20   \n",
       "..                   ...       ...       ...                     ...   \n",
       "495      Jas Formal Pria   positif         3                      17   \n",
       "496    Kabel Data Type-C   negatif         1                      20   \n",
       "497    Kabel Data Type-C   negatif         2                      20   \n",
       "498    Kabel Data Type-C   negatif         3                      10   \n",
       "499    Kabel Data Type-C   positif         1                      20   \n",
       "\n",
       "                                       gabungan_review  panjang_char  \n",
       "0    Figurnya penyok, catnya belepotan, detailnya g...          3073  \n",
       "1    Parah bgt dah, gk sesuai foto! Cat nya bleber,...          3578  \n",
       "2    Gak recomen bgt! Figur Naruto ini mengecewakan...          1423  \n",
       "3    Figurnya keren bgt! Detailnya oke, cat nya bgs...          2790  \n",
       "4    Figurnya Gokil bgt! Detailnya ajib, gk nyesel ...          3312  \n",
       "..                                                 ...           ...  \n",
       "495  Jasnya mantul bgt! Bahannya oke punya, jahitan...          2676  \n",
       "496  Kbl datany bnr2 gk bgs! Br dipake smnggu udh r...          3125  \n",
       "497  Kabel data ringkih bgt! Baru dipake seminggu u...          3573  \n",
       "498  Kabel Type-C nya murahan bgt! Gk kuat, rusak c...          1836  \n",
       "499  Kabelnya bgs bgt! Fast charging, transfer data...          2845  \n",
       "\n",
       "[500 rows x 6 columns]"
      ]
     },
     "execution_count": 47,
     "metadata": {},
     "output_type": "execute_result"
    }
   ],
   "source": [
    "final_df.head(500)"
   ]
  },
  {
   "cell_type": "code",
   "execution_count": 52,
   "id": "189544a5",
   "metadata": {},
   "outputs": [
    {
     "name": "stdout",
     "output_type": "stream",
     "text": [
      "25\n"
     ]
    }
   ],
   "source": [
    "jumlah_baris = (final_df['panjang_char'] < 1000).sum()\n",
    "print(jumlah_baris)\n"
   ]
  },
  {
   "cell_type": "code",
   "execution_count": 53,
   "id": "70241b2c",
   "metadata": {},
   "outputs": [
    {
     "name": "stdout",
     "output_type": "stream",
     "text": [
      "0\n"
     ]
    }
   ],
   "source": [
    "jumlah_baris = (final_df['panjang_char'] > 5000).sum()\n",
    "print(jumlah_baris)\n"
   ]
  },
  {
   "cell_type": "code",
   "execution_count": 54,
   "id": "0b2b4951",
   "metadata": {},
   "outputs": [],
   "source": [
    "# Filter data panjang antara 1000 dan 5000\n",
    "filtered_df = final_df[final_df['panjang_char'].between(1000, 5000)]\n",
    "\n",
    "# Simpan ke CSV\n",
    "filtered_df.to_csv('sintesis_for_summarize_per20_1000 to 5000.csv', index=False)\n"
   ]
  },
  {
   "cell_type": "code",
   "execution_count": 56,
   "id": "cc890ab3",
   "metadata": {},
   "outputs": [
    {
     "name": "stdout",
     "output_type": "stream",
     "text": [
      "<class 'pandas.core.frame.DataFrame'>\n",
      "RangeIndex: 1480 entries, 0 to 1479\n",
      "Data columns (total 6 columns):\n",
      " #   Column                  Non-Null Count  Dtype \n",
      "---  ------                  --------------  ----- \n",
      " 0   category                1480 non-null   object\n",
      " 1   sentiment               1480 non-null   object\n",
      " 2   group_id                1480 non-null   int64 \n",
      " 3   jumlah_review_digabung  1480 non-null   int64 \n",
      " 4   gabungan_review         1480 non-null   object\n",
      " 5   panjang_char            1480 non-null   int64 \n",
      "dtypes: int64(3), object(3)\n",
      "memory usage: 69.5+ KB\n"
     ]
    }
   ],
   "source": [
    "df_tes = pd.read_csv('sintesis_for_summarize_per20_1000 to 5000.csv')\n",
    "df_tes.info()"
   ]
  },
  {
   "cell_type": "code",
   "execution_count": 57,
   "id": "47fba97f",
   "metadata": {},
   "outputs": [
    {
     "name": "stdout",
     "output_type": "stream",
     "text": [
      "<class 'pandas.core.frame.DataFrame'>\n",
      "RangeIndex: 1505 entries, 0 to 1504\n",
      "Data columns (total 5 columns):\n",
      " #   Column                  Non-Null Count  Dtype \n",
      "---  ------                  --------------  ----- \n",
      " 0   category                1505 non-null   object\n",
      " 1   sentiment               1505 non-null   object\n",
      " 2   group_id                1505 non-null   int64 \n",
      " 3   jumlah_review_digabung  1505 non-null   int64 \n",
      " 4   gabungan_review         1505 non-null   object\n",
      "dtypes: int64(2), object(3)\n",
      "memory usage: 58.9+ KB\n"
     ]
    }
   ],
   "source": [
    "df_tes = pd.read_csv('sintesis_for_summarize_per20_v2.csv')\n",
    "df_tes.info()"
   ]
  },
  {
   "cell_type": "markdown",
   "id": "a5bd3f07",
   "metadata": {},
   "source": [
    "Vouchernya bgttt mengecewakan! Hotelnya jauh dr foto, kotor bgt, fasilitas jg pd rusak. Proses redeemnya jg ribet, lama bgt balesnya. Gk worth it sm sekali, udh gt pas dtg hrs bayar tambahan lg. Jauh lebih murah booking langsung. Kapok beli voucher disini, mending cari promo lain aja. Gak rekomen! Bgsnya cuma harganya doang yg murah, tp kualitasnya ampun deh. Top deh buat kekecewaan. Voucher hotel zonk bgt! Gk sesuai gambar, kamarnya kotor, pelayanan lemot. Nyesel beli disini, mana gk bisa refund lagi. Parah bgt. Jgn ketipu deh sm hotel abal2 gini. Bikin liburan jd rusak. Mending cari hotel lain yg bgsan. Kapok! Voucher hotel zonk bgt! Gk sesuai deskripsi, kamarnya kecil, kotor, staff jutek. Harga gk worth it sm sekali. Nyesel beli disini, gak rekomen! Mending cr hotel lain aja deh. Bikin badmood liburan. Kapok bgt! Voucher hotelnya gk sesuai ekspetasi bgt. Gambarnya bagus, tp pas dateng kamarnya jorok, AC gk dingin. Pelayanan hotel juga jutek. Mending cari hotel lain aja deh. Gk recomen bgt! Buang2 duit aja. Sangat mengecewakan. Voucher hotelnya mengecewakan bgt! Proses redeem ribet bgt, gk jelas. Hotelnya jauh dr ekspektasi, fasilitas kurang bgs. Mending cari yg lain aja deh. Gk rekomen. Harga mahal tp kualitas murahan. Nyesel beli! Kecewa bgt. Voucher hotelnya gk sesuai ekspektasi bgt. Kamarnya kecil bgt, sarapannya minim. Pelayanannya jg kurang ramah. Mending cari hotel lain aja deh, gk rekomen. Harga mahal tp kualitasnya mengecewakan. Buang2 uang aja. Nyesel bgt pesen ini. Gk akan beli lagi. Voucher hotelnya mengecewakan bgt! gk sesuai deskripsi, pelayanan hotelnya juga buruk. Proses redeem ribet bgt, waktu check in malah penuh. Harga mahal tp kualitas gk sesuai harapan. Nyesel banget beli, gk rekomen deh! Mending cari yg lain aja. Bintang satu aja udah terlalu banyak. Voucher hotelnya zonk bgt! gk sesuai deskripsi, foto bgs tp aslinya mengecewakan. kamar kecil bgt, sarapannya juga minim. gak recomen deh. Harga mahal tp kualitas murahan. Kecewa bgt! Mending cari hotel lain aja. Nyesel beli ini. Voucher hotelnya zonk bgt! Gk sesuai deskripsi, kamarnya kotor, staff jutek. Nyesel bgt beli disini. Gk rekomen sm skali! Pelayanannya jelek bgt, rugi deh. Mending cari hotel lain aja. Bikin badmood liburan. Tolong diperbaiki ya, kecewa bgt! Voucher hotel zonk bgt! Gk sesuai gambar, kamar kotor, staff judes. Rugi bandar gw beli disini. Mana mahal lagi! Gk rekomen bgt deh. Kapok! Mending booking lgsg aja. Nyesel parah! Pelayanan jg lemot. Bgsan hotel lain jauh! Top dah bikin emosi aja. Voucher hotelnya zonk bgt! Gk sesuai deskripsi, kamar kotor, pelayanan jutek, lokasi jauh dr mana2. Rugi bgt beli disini. Gak rekomen sama sekali. Mending cari hotel lain aja deh. Nyesel! Buang2 duit doang ini mah. Voucher hotelnya zonk bgt! Gk sesuai deskripsi, kamarnya jorok, pelayanan lambat. Nyesel beli disini, mana gk bisa refund lagi. Bener2 kapok deh. Jgn ketipu ya, guys. Parah bgt pelayanannya. Bikin badmood liburan. Vouchernya zonk bgt! Gk sesuai deskripsi, hotelnya jg jelek bgt. Pelayanannya parah abis, kamar kotor. Nyesel beli voucher ini. Gk rekomen deh, rugi bgt beli disini. Kapok! Penginapan bgs apaan, ini mah ampas. Top apanya, zonk total. Voucher hotelnya zonk bgt! Gk sesuai deskripsi, kamar kotor, pelayanan jelek. Nyesel beli disini, rugi bgt deh. Jauh dr ekspektasi, gk rekomen sm sekali! Mana admin slow respon lg. Bikin badmood liburan. Kapok!"
   ]
  },
  {
   "cell_type": "code",
   "execution_count": 28,
   "id": "10cd997c",
   "metadata": {},
   "outputs": [
    {
     "name": "stdout",
     "output_type": "stream",
     "text": [
      "17.480392156862745\n"
     ]
    }
   ],
   "source": [
    "jumlah_review=final_df['jumlah_review_digabung'].values\n",
    "print(jumlah_review.mean())"
   ]
  },
  {
   "cell_type": "code",
   "execution_count": 29,
   "id": "820a6056",
   "metadata": {},
   "outputs": [
    {
     "data": {
      "text/plain": [
       "3880.1941176470586"
      ]
     },
     "execution_count": 29,
     "metadata": {},
     "output_type": "execute_result"
    }
   ],
   "source": [
    "final_df['panjang_char'].mean()"
   ]
  },
  {
   "cell_type": "code",
   "execution_count": 30,
   "id": "357fc887",
   "metadata": {},
   "outputs": [
    {
     "name": "stdout",
     "output_type": "stream",
     "text": [
      "<class 'pandas.core.frame.DataFrame'>\n",
      "RangeIndex: 510 entries, 0 to 509\n",
      "Data columns (total 6 columns):\n",
      " #   Column                  Non-Null Count  Dtype \n",
      "---  ------                  --------------  ----- \n",
      " 0   category                510 non-null    object\n",
      " 1   sentiment               510 non-null    object\n",
      " 2   group_id                510 non-null    int64 \n",
      " 3   jumlah_review_digabung  510 non-null    int64 \n",
      " 4   gabungan_review         510 non-null    object\n",
      " 5   panjang_char            510 non-null    int64 \n",
      "dtypes: int64(3), object(3)\n",
      "memory usage: 24.0+ KB\n"
     ]
    }
   ],
   "source": [
    "final_df.info()"
   ]
  }
 ],
 "metadata": {
  "kernelspec": {
   "display_name": "Python 3",
   "language": "python",
   "name": "python3"
  },
  "language_info": {
   "codemirror_mode": {
    "name": "ipython",
    "version": 3
   },
   "file_extension": ".py",
   "mimetype": "text/x-python",
   "name": "python",
   "nbconvert_exporter": "python",
   "pygments_lexer": "ipython3",
   "version": "3.12.0"
  }
 },
 "nbformat": 4,
 "nbformat_minor": 5
}
